{
 "cells": [
  {
   "cell_type": "markdown",
   "id": "2c3c9252",
   "metadata": {},
   "source": [
    "# <font color='red'>APRENDIZAGEM SUPERVISIONADA: CLASSIFICAÇÃO Parte 2</font>"
   ]
  },
  {
   "cell_type": "markdown",
   "id": "607e1788",
   "metadata": {},
   "source": [
    "## <font color='DarkRed'>**Visualização e pré-processamento de dados**"
   ]
  },
  {
   "cell_type": "markdown",
   "id": "fdbfb526",
   "metadata": {},
   "source": [
    "<font color='OrangeRed'>**Os dados foram extraídos do site do Kaggle:**\n",
    "    \n",
    "https://www.kaggle.com/datasets/uciml/breast-cancer-wisconsin-data    "
   ]
  },
  {
   "cell_type": "code",
   "execution_count": 1,
   "id": "20529d2a",
   "metadata": {},
   "outputs": [],
   "source": [
    "import numpy as np\n",
    "import pandas as pd\n",
    "import plotly.express as px\n",
    "import seaborn as sns\n",
    "import matplotlib.pyplot as plt"
   ]
  },
  {
   "cell_type": "code",
   "execution_count": 2,
   "id": "69dd1a6a",
   "metadata": {},
   "outputs": [],
   "source": [
    "import warnings\n",
    "warnings.filterwarnings(\"ignore\")"
   ]
  },
  {
   "cell_type": "code",
   "execution_count": 3,
   "id": "12037eca",
   "metadata": {},
   "outputs": [],
   "source": [
    "df = pd.read_csv('cancer_tratado.csv',sep=';', encoding='utf-8')"
   ]
  },
  {
   "cell_type": "code",
   "execution_count": 4,
   "id": "cf638a1d",
   "metadata": {},
   "outputs": [
    {
     "data": {
      "text/html": [
       "<div>\n",
       "<style scoped>\n",
       "    .dataframe tbody tr th:only-of-type {\n",
       "        vertical-align: middle;\n",
       "    }\n",
       "\n",
       "    .dataframe tbody tr th {\n",
       "        vertical-align: top;\n",
       "    }\n",
       "\n",
       "    .dataframe thead th {\n",
       "        text-align: right;\n",
       "    }\n",
       "</style>\n",
       "<table border=\"1\" class=\"dataframe\">\n",
       "  <thead>\n",
       "    <tr style=\"text-align: right;\">\n",
       "      <th></th>\n",
       "      <th>diagnosis</th>\n",
       "      <th>radius_mean</th>\n",
       "      <th>texture_mean</th>\n",
       "      <th>perimeter_mean</th>\n",
       "      <th>area_mean</th>\n",
       "      <th>smoothness_mean</th>\n",
       "      <th>compactness_mean</th>\n",
       "      <th>concavity_mean</th>\n",
       "      <th>concave points_mean</th>\n",
       "      <th>symmetry_mean</th>\n",
       "      <th>...</th>\n",
       "      <th>radius_worst</th>\n",
       "      <th>texture_worst</th>\n",
       "      <th>perimeter_worst</th>\n",
       "      <th>area_worst</th>\n",
       "      <th>smoothness_worst</th>\n",
       "      <th>compactness_worst</th>\n",
       "      <th>concavity_worst</th>\n",
       "      <th>concave points_worst</th>\n",
       "      <th>symmetry_worst</th>\n",
       "      <th>fractal_dimension_worst</th>\n",
       "    </tr>\n",
       "  </thead>\n",
       "  <tbody>\n",
       "    <tr>\n",
       "      <th>0</th>\n",
       "      <td>M</td>\n",
       "      <td>17.99</td>\n",
       "      <td>10.38</td>\n",
       "      <td>122.8</td>\n",
       "      <td>1001.0</td>\n",
       "      <td>0.11840</td>\n",
       "      <td>0.27760</td>\n",
       "      <td>0.3001</td>\n",
       "      <td>0.14710</td>\n",
       "      <td>0.2419</td>\n",
       "      <td>...</td>\n",
       "      <td>25.38</td>\n",
       "      <td>17.33</td>\n",
       "      <td>184.6</td>\n",
       "      <td>2019.0</td>\n",
       "      <td>0.1622</td>\n",
       "      <td>0.6656</td>\n",
       "      <td>0.7119</td>\n",
       "      <td>0.2654</td>\n",
       "      <td>0.4601</td>\n",
       "      <td>0.11890</td>\n",
       "    </tr>\n",
       "    <tr>\n",
       "      <th>1</th>\n",
       "      <td>M</td>\n",
       "      <td>20.57</td>\n",
       "      <td>17.77</td>\n",
       "      <td>132.9</td>\n",
       "      <td>1326.0</td>\n",
       "      <td>0.08474</td>\n",
       "      <td>0.07864</td>\n",
       "      <td>0.0869</td>\n",
       "      <td>0.07017</td>\n",
       "      <td>0.1812</td>\n",
       "      <td>...</td>\n",
       "      <td>24.99</td>\n",
       "      <td>23.41</td>\n",
       "      <td>158.8</td>\n",
       "      <td>1956.0</td>\n",
       "      <td>0.1238</td>\n",
       "      <td>0.1866</td>\n",
       "      <td>0.2416</td>\n",
       "      <td>0.1860</td>\n",
       "      <td>0.2750</td>\n",
       "      <td>0.08902</td>\n",
       "    </tr>\n",
       "    <tr>\n",
       "      <th>2</th>\n",
       "      <td>M</td>\n",
       "      <td>19.69</td>\n",
       "      <td>21.25</td>\n",
       "      <td>130.0</td>\n",
       "      <td>1203.0</td>\n",
       "      <td>0.10960</td>\n",
       "      <td>0.15990</td>\n",
       "      <td>0.1974</td>\n",
       "      <td>0.12790</td>\n",
       "      <td>0.2069</td>\n",
       "      <td>...</td>\n",
       "      <td>23.57</td>\n",
       "      <td>25.53</td>\n",
       "      <td>152.5</td>\n",
       "      <td>1709.0</td>\n",
       "      <td>0.1444</td>\n",
       "      <td>0.4245</td>\n",
       "      <td>0.4504</td>\n",
       "      <td>0.2430</td>\n",
       "      <td>0.3613</td>\n",
       "      <td>0.08758</td>\n",
       "    </tr>\n",
       "  </tbody>\n",
       "</table>\n",
       "<p>3 rows × 31 columns</p>\n",
       "</div>"
      ],
      "text/plain": [
       "  diagnosis  radius_mean  texture_mean  perimeter_mean  area_mean  \\\n",
       "0         M        17.99         10.38           122.8     1001.0   \n",
       "1         M        20.57         17.77           132.9     1326.0   \n",
       "2         M        19.69         21.25           130.0     1203.0   \n",
       "\n",
       "   smoothness_mean  compactness_mean  concavity_mean  concave points_mean  \\\n",
       "0          0.11840           0.27760          0.3001              0.14710   \n",
       "1          0.08474           0.07864          0.0869              0.07017   \n",
       "2          0.10960           0.15990          0.1974              0.12790   \n",
       "\n",
       "   symmetry_mean  ...  radius_worst  texture_worst  perimeter_worst  \\\n",
       "0         0.2419  ...         25.38          17.33            184.6   \n",
       "1         0.1812  ...         24.99          23.41            158.8   \n",
       "2         0.2069  ...         23.57          25.53            152.5   \n",
       "\n",
       "   area_worst  smoothness_worst  compactness_worst  concavity_worst  \\\n",
       "0      2019.0            0.1622             0.6656           0.7119   \n",
       "1      1956.0            0.1238             0.1866           0.2416   \n",
       "2      1709.0            0.1444             0.4245           0.4504   \n",
       "\n",
       "   concave points_worst  symmetry_worst  fractal_dimension_worst  \n",
       "0                0.2654          0.4601                  0.11890  \n",
       "1                0.1860          0.2750                  0.08902  \n",
       "2                0.2430          0.3613                  0.08758  \n",
       "\n",
       "[3 rows x 31 columns]"
      ]
     },
     "execution_count": 4,
     "metadata": {},
     "output_type": "execute_result"
    }
   ],
   "source": [
    "df.head(3)"
   ]
  },
  {
   "cell_type": "code",
   "execution_count": 5,
   "id": "9d8c172c",
   "metadata": {},
   "outputs": [
    {
     "data": {
      "text/plain": [
       "(569, 31)"
      ]
     },
     "execution_count": 5,
     "metadata": {},
     "output_type": "execute_result"
    }
   ],
   "source": [
    "df.shape"
   ]
  },
  {
   "cell_type": "code",
   "execution_count": 267,
   "id": "188d6de0",
   "metadata": {},
   "outputs": [
    {
     "data": {
      "text/plain": [
       "diagnosis                   object\n",
       "radius_mean                float64\n",
       "texture_mean               float64\n",
       "perimeter_mean             float64\n",
       "area_mean                  float64\n",
       "smoothness_mean            float64\n",
       "compactness_mean           float64\n",
       "concavity_mean             float64\n",
       "concave points_mean        float64\n",
       "symmetry_mean              float64\n",
       "fractal_dimension_mean     float64\n",
       "radius_se                  float64\n",
       "texture_se                 float64\n",
       "perimeter_se               float64\n",
       "area_se                    float64\n",
       "smoothness_se              float64\n",
       "compactness_se             float64\n",
       "concavity_se               float64\n",
       "concave points_se          float64\n",
       "symmetry_se                float64\n",
       "fractal_dimension_se       float64\n",
       "radius_worst               float64\n",
       "texture_worst              float64\n",
       "perimeter_worst            float64\n",
       "area_worst                 float64\n",
       "smoothness_worst           float64\n",
       "compactness_worst          float64\n",
       "concavity_worst            float64\n",
       "concave points_worst       float64\n",
       "symmetry_worst             float64\n",
       "fractal_dimension_worst    float64\n",
       "dtype: object"
      ]
     },
     "execution_count": 267,
     "metadata": {},
     "output_type": "execute_result"
    }
   ],
   "source": [
    "df.dtypes"
   ]
  },
  {
   "cell_type": "markdown",
   "id": "7c89c21b",
   "metadata": {},
   "source": [
    "### <font color='OrangeRed'>**Transformando as variáveis categóricas nominais em variáveis categóricas ordinais**\n",
    "    \n",
    "<font color='MidnightBlue'> **Pode ser feita de duas formas diferentes:**\n",
    "\n",
    "<font color='DarkGreen'> **df['diagnosis'] = df['diagnosis'].apply(lambda x: '1' if x == 'M' else '0')**\n",
    "    \n",
    "<font color='DarkGreen'> **df['diagnosis'].replace({'M':1, 'B': 0}, inplace=True)**    \n",
    "\n",
    "<font color='MidnightBlue'>**temos que ter em contas que** \n",
    "    \n",
    "<font color='MidnightBlue'> **onde M = maligno = 1,  B = benigno = 0**   "
   ]
  },
  {
   "cell_type": "code",
   "execution_count": 6,
   "id": "fb4ced6c",
   "metadata": {},
   "outputs": [],
   "source": [
    "# Fazemos uma copia do dataFrame original da forma:\n",
    "df2 = pd.DataFrame.copy(df)"
   ]
  },
  {
   "cell_type": "code",
   "execution_count": 7,
   "id": "bc1c5489",
   "metadata": {},
   "outputs": [],
   "source": [
    "df2['diagnosis'].replace({'M':1, 'B': 0}, inplace=True)"
   ]
  },
  {
   "cell_type": "markdown",
   "id": "cae4d714",
   "metadata": {},
   "source": [
    "<font color='MidnightBlue'>**Vamos dar uma olhada no número de casos Benigno e Maligno do conjunto de dados. A partir da saída mostrada abaixo, a maioria dos casos são benignos (0).**"
   ]
  },
  {
   "cell_type": "code",
   "execution_count": 8,
   "id": "66f4a58c",
   "metadata": {},
   "outputs": [
    {
     "name": "stdout",
     "output_type": "stream",
     "text": [
      "diagnosis\n",
      "0    357\n",
      "1    212\n",
      "dtype: int64\n"
     ]
    }
   ],
   "source": [
    "print(df2.groupby('diagnosis').size())"
   ]
  },
  {
   "cell_type": "code",
   "execution_count": 9,
   "id": "be716fbc",
   "metadata": {},
   "outputs": [
    {
     "data": {
      "text/html": [
       "<div>\n",
       "<style scoped>\n",
       "    .dataframe tbody tr th:only-of-type {\n",
       "        vertical-align: middle;\n",
       "    }\n",
       "\n",
       "    .dataframe tbody tr th {\n",
       "        vertical-align: top;\n",
       "    }\n",
       "\n",
       "    .dataframe thead th {\n",
       "        text-align: right;\n",
       "    }\n",
       "</style>\n",
       "<table border=\"1\" class=\"dataframe\">\n",
       "  <thead>\n",
       "    <tr style=\"text-align: right;\">\n",
       "      <th></th>\n",
       "      <th>diagnosis</th>\n",
       "      <th>radius_mean</th>\n",
       "      <th>texture_mean</th>\n",
       "      <th>perimeter_mean</th>\n",
       "      <th>area_mean</th>\n",
       "      <th>smoothness_mean</th>\n",
       "      <th>compactness_mean</th>\n",
       "      <th>concavity_mean</th>\n",
       "      <th>concave points_mean</th>\n",
       "      <th>symmetry_mean</th>\n",
       "      <th>...</th>\n",
       "      <th>radius_worst</th>\n",
       "      <th>texture_worst</th>\n",
       "      <th>perimeter_worst</th>\n",
       "      <th>area_worst</th>\n",
       "      <th>smoothness_worst</th>\n",
       "      <th>compactness_worst</th>\n",
       "      <th>concavity_worst</th>\n",
       "      <th>concave points_worst</th>\n",
       "      <th>symmetry_worst</th>\n",
       "      <th>fractal_dimension_worst</th>\n",
       "    </tr>\n",
       "  </thead>\n",
       "  <tbody>\n",
       "    <tr>\n",
       "      <th>0</th>\n",
       "      <td>1</td>\n",
       "      <td>17.99</td>\n",
       "      <td>10.38</td>\n",
       "      <td>122.80</td>\n",
       "      <td>1001.0</td>\n",
       "      <td>0.11840</td>\n",
       "      <td>0.27760</td>\n",
       "      <td>0.3001</td>\n",
       "      <td>0.14710</td>\n",
       "      <td>0.2419</td>\n",
       "      <td>...</td>\n",
       "      <td>25.38</td>\n",
       "      <td>17.33</td>\n",
       "      <td>184.60</td>\n",
       "      <td>2019.0</td>\n",
       "      <td>0.1622</td>\n",
       "      <td>0.6656</td>\n",
       "      <td>0.7119</td>\n",
       "      <td>0.2654</td>\n",
       "      <td>0.4601</td>\n",
       "      <td>0.11890</td>\n",
       "    </tr>\n",
       "    <tr>\n",
       "      <th>1</th>\n",
       "      <td>1</td>\n",
       "      <td>20.57</td>\n",
       "      <td>17.77</td>\n",
       "      <td>132.90</td>\n",
       "      <td>1326.0</td>\n",
       "      <td>0.08474</td>\n",
       "      <td>0.07864</td>\n",
       "      <td>0.0869</td>\n",
       "      <td>0.07017</td>\n",
       "      <td>0.1812</td>\n",
       "      <td>...</td>\n",
       "      <td>24.99</td>\n",
       "      <td>23.41</td>\n",
       "      <td>158.80</td>\n",
       "      <td>1956.0</td>\n",
       "      <td>0.1238</td>\n",
       "      <td>0.1866</td>\n",
       "      <td>0.2416</td>\n",
       "      <td>0.1860</td>\n",
       "      <td>0.2750</td>\n",
       "      <td>0.08902</td>\n",
       "    </tr>\n",
       "    <tr>\n",
       "      <th>2</th>\n",
       "      <td>1</td>\n",
       "      <td>19.69</td>\n",
       "      <td>21.25</td>\n",
       "      <td>130.00</td>\n",
       "      <td>1203.0</td>\n",
       "      <td>0.10960</td>\n",
       "      <td>0.15990</td>\n",
       "      <td>0.1974</td>\n",
       "      <td>0.12790</td>\n",
       "      <td>0.2069</td>\n",
       "      <td>...</td>\n",
       "      <td>23.57</td>\n",
       "      <td>25.53</td>\n",
       "      <td>152.50</td>\n",
       "      <td>1709.0</td>\n",
       "      <td>0.1444</td>\n",
       "      <td>0.4245</td>\n",
       "      <td>0.4504</td>\n",
       "      <td>0.2430</td>\n",
       "      <td>0.3613</td>\n",
       "      <td>0.08758</td>\n",
       "    </tr>\n",
       "    <tr>\n",
       "      <th>3</th>\n",
       "      <td>1</td>\n",
       "      <td>11.42</td>\n",
       "      <td>20.38</td>\n",
       "      <td>77.58</td>\n",
       "      <td>386.1</td>\n",
       "      <td>0.14250</td>\n",
       "      <td>0.28390</td>\n",
       "      <td>0.2414</td>\n",
       "      <td>0.10520</td>\n",
       "      <td>0.2597</td>\n",
       "      <td>...</td>\n",
       "      <td>14.91</td>\n",
       "      <td>26.50</td>\n",
       "      <td>98.87</td>\n",
       "      <td>567.7</td>\n",
       "      <td>0.2098</td>\n",
       "      <td>0.8663</td>\n",
       "      <td>0.6869</td>\n",
       "      <td>0.2575</td>\n",
       "      <td>0.6638</td>\n",
       "      <td>0.17300</td>\n",
       "    </tr>\n",
       "    <tr>\n",
       "      <th>4</th>\n",
       "      <td>1</td>\n",
       "      <td>20.29</td>\n",
       "      <td>14.34</td>\n",
       "      <td>135.10</td>\n",
       "      <td>1297.0</td>\n",
       "      <td>0.10030</td>\n",
       "      <td>0.13280</td>\n",
       "      <td>0.1980</td>\n",
       "      <td>0.10430</td>\n",
       "      <td>0.1809</td>\n",
       "      <td>...</td>\n",
       "      <td>22.54</td>\n",
       "      <td>16.67</td>\n",
       "      <td>152.20</td>\n",
       "      <td>1575.0</td>\n",
       "      <td>0.1374</td>\n",
       "      <td>0.2050</td>\n",
       "      <td>0.4000</td>\n",
       "      <td>0.1625</td>\n",
       "      <td>0.2364</td>\n",
       "      <td>0.07678</td>\n",
       "    </tr>\n",
       "  </tbody>\n",
       "</table>\n",
       "<p>5 rows × 31 columns</p>\n",
       "</div>"
      ],
      "text/plain": [
       "   diagnosis  radius_mean  texture_mean  perimeter_mean  area_mean  \\\n",
       "0          1        17.99         10.38          122.80     1001.0   \n",
       "1          1        20.57         17.77          132.90     1326.0   \n",
       "2          1        19.69         21.25          130.00     1203.0   \n",
       "3          1        11.42         20.38           77.58      386.1   \n",
       "4          1        20.29         14.34          135.10     1297.0   \n",
       "\n",
       "   smoothness_mean  compactness_mean  concavity_mean  concave points_mean  \\\n",
       "0          0.11840           0.27760          0.3001              0.14710   \n",
       "1          0.08474           0.07864          0.0869              0.07017   \n",
       "2          0.10960           0.15990          0.1974              0.12790   \n",
       "3          0.14250           0.28390          0.2414              0.10520   \n",
       "4          0.10030           0.13280          0.1980              0.10430   \n",
       "\n",
       "   symmetry_mean  ...  radius_worst  texture_worst  perimeter_worst  \\\n",
       "0         0.2419  ...         25.38          17.33           184.60   \n",
       "1         0.1812  ...         24.99          23.41           158.80   \n",
       "2         0.2069  ...         23.57          25.53           152.50   \n",
       "3         0.2597  ...         14.91          26.50            98.87   \n",
       "4         0.1809  ...         22.54          16.67           152.20   \n",
       "\n",
       "   area_worst  smoothness_worst  compactness_worst  concavity_worst  \\\n",
       "0      2019.0            0.1622             0.6656           0.7119   \n",
       "1      1956.0            0.1238             0.1866           0.2416   \n",
       "2      1709.0            0.1444             0.4245           0.4504   \n",
       "3       567.7            0.2098             0.8663           0.6869   \n",
       "4      1575.0            0.1374             0.2050           0.4000   \n",
       "\n",
       "   concave points_worst  symmetry_worst  fractal_dimension_worst  \n",
       "0                0.2654          0.4601                  0.11890  \n",
       "1                0.1860          0.2750                  0.08902  \n",
       "2                0.2430          0.3613                  0.08758  \n",
       "3                0.2575          0.6638                  0.17300  \n",
       "4                0.1625          0.2364                  0.07678  \n",
       "\n",
       "[5 rows x 31 columns]"
      ]
     },
     "execution_count": 9,
     "metadata": {},
     "output_type": "execute_result"
    }
   ],
   "source": [
    "df2.head()"
   ]
  },
  {
   "cell_type": "code",
   "execution_count": 10,
   "id": "def9b906",
   "metadata": {},
   "outputs": [
    {
     "data": {
      "text/plain": [
       "diagnosis                    int64\n",
       "radius_mean                float64\n",
       "texture_mean               float64\n",
       "perimeter_mean             float64\n",
       "area_mean                  float64\n",
       "smoothness_mean            float64\n",
       "compactness_mean           float64\n",
       "concavity_mean             float64\n",
       "concave points_mean        float64\n",
       "symmetry_mean              float64\n",
       "fractal_dimension_mean     float64\n",
       "radius_se                  float64\n",
       "texture_se                 float64\n",
       "perimeter_se               float64\n",
       "area_se                    float64\n",
       "smoothness_se              float64\n",
       "compactness_se             float64\n",
       "concavity_se               float64\n",
       "concave points_se          float64\n",
       "symmetry_se                float64\n",
       "fractal_dimension_se       float64\n",
       "radius_worst               float64\n",
       "texture_worst              float64\n",
       "perimeter_worst            float64\n",
       "area_worst                 float64\n",
       "smoothness_worst           float64\n",
       "compactness_worst          float64\n",
       "concavity_worst            float64\n",
       "concave points_worst       float64\n",
       "symmetry_worst             float64\n",
       "fractal_dimension_worst    float64\n",
       "dtype: object"
      ]
     },
     "execution_count": 10,
     "metadata": {},
     "output_type": "execute_result"
    }
   ],
   "source": [
    "df2.dtypes"
   ]
  },
  {
   "cell_type": "markdown",
   "id": "0021ecb1",
   "metadata": {},
   "source": [
    "<font color='MidnightBlue'> **Em seguida, visualizamos os dados usando gráficos de densidade para ter uma noção da distribuição dos dados. Nas saídas abaixo, você pode ver que os dados mostram uma distribuição gaussiana geral**"
   ]
  },
  {
   "cell_type": "code",
   "execution_count": 11,
   "id": "0f9a3213",
   "metadata": {},
   "outputs": [
    {
     "data": {
      "image/png": "[encoded data removed]",
      "text/plain": [
       "<Figure size 432x288 with 35 Axes>"
      ]
     },
     "metadata": {
      "needs_background": "light"
     },
     "output_type": "display_data"
    }
   ],
   "source": [
    "df2.plot(kind='density', subplots=True, layout=(5,7), sharex=False, legend=False, fontsize=1)\n",
    "plt.show()"
   ]
  },
  {
   "cell_type": "markdown",
   "id": "bd97b770",
   "metadata": {},
   "source": [
    "<font color='MidnightBlue'> **É bom verificar as correlações entre os atributos. No gráfico de saída abaixo, o vermelho ao redor da diagonal sugere que os atributos estão correlacionados entre si. As manchas amarelas e verdes sugerem alguma correlação moderada e as caixas azuis mostram correlações negativas.**"
   ]
  },
  {
   "cell_type": "code",
   "execution_count": 12,
   "id": "834aa800",
   "metadata": {},
   "outputs": [],
   "source": [
    "from matplotlib import cm as cm"
   ]
  },
  {
   "cell_type": "code",
   "execution_count": 13,
   "id": "b0cf3565",
   "metadata": {},
   "outputs": [
    {
     "data": {
      "image/png": "[encoded data removed]",
      "text/plain": [
       "<Figure size 432x288 with 2 Axes>"
      ]
     },
     "metadata": {
      "needs_background": "light"
     },
     "output_type": "display_data"
    }
   ],
   "source": [
    "from matplotlib import cm as cm\n",
    "\n",
    "fig = plt.figure()\n",
    "ax1 = fig.add_subplot(111)\n",
    "cmap = cm.get_cmap('jet', 30)\n",
    "cax = ax1.imshow(df2.corr(), interpolation=\"none\", cmap=cmap)\n",
    "ax1.grid(True)\n",
    "plt.title('Correlação dos Atributos do Câncer de Mama')\n",
    "# Adicione barra de cores, certifique-se de especificar os\n",
    "# locais de marcação para corresponder aos marcadores de marcação desejados\n",
    "fig.colorbar(cax, ticks=[.75,.8,.85,.90,.95,1])\n",
    "plt.show()"
   ]
  },
  {
   "cell_type": "markdown",
   "id": "8b5aea84",
   "metadata": {},
   "source": [
    "## <font color='DarkRed'>**ATRIBUTOS PREVISORES E ALVO**"
   ]
  },
  {
   "cell_type": "code",
   "execution_count": 14,
   "id": "1ab9dadb",
   "metadata": {},
   "outputs": [
    {
     "data": {
      "text/html": [
       "<div>\n",
       "<style scoped>\n",
       "    .dataframe tbody tr th:only-of-type {\n",
       "        vertical-align: middle;\n",
       "    }\n",
       "\n",
       "    .dataframe tbody tr th {\n",
       "        vertical-align: top;\n",
       "    }\n",
       "\n",
       "    .dataframe thead th {\n",
       "        text-align: right;\n",
       "    }\n",
       "</style>\n",
       "<table border=\"1\" class=\"dataframe\">\n",
       "  <thead>\n",
       "    <tr style=\"text-align: right;\">\n",
       "      <th></th>\n",
       "      <th>diagnosis</th>\n",
       "      <th>radius_mean</th>\n",
       "      <th>texture_mean</th>\n",
       "      <th>perimeter_mean</th>\n",
       "      <th>area_mean</th>\n",
       "      <th>smoothness_mean</th>\n",
       "      <th>compactness_mean</th>\n",
       "      <th>concavity_mean</th>\n",
       "      <th>concave points_mean</th>\n",
       "      <th>symmetry_mean</th>\n",
       "      <th>...</th>\n",
       "      <th>radius_worst</th>\n",
       "      <th>texture_worst</th>\n",
       "      <th>perimeter_worst</th>\n",
       "      <th>area_worst</th>\n",
       "      <th>smoothness_worst</th>\n",
       "      <th>compactness_worst</th>\n",
       "      <th>concavity_worst</th>\n",
       "      <th>concave points_worst</th>\n",
       "      <th>symmetry_worst</th>\n",
       "      <th>fractal_dimension_worst</th>\n",
       "    </tr>\n",
       "  </thead>\n",
       "  <tbody>\n",
       "    <tr>\n",
       "      <th>0</th>\n",
       "      <td>1</td>\n",
       "      <td>17.99</td>\n",
       "      <td>10.38</td>\n",
       "      <td>122.8</td>\n",
       "      <td>1001.0</td>\n",
       "      <td>0.11840</td>\n",
       "      <td>0.27760</td>\n",
       "      <td>0.3001</td>\n",
       "      <td>0.14710</td>\n",
       "      <td>0.2419</td>\n",
       "      <td>...</td>\n",
       "      <td>25.38</td>\n",
       "      <td>17.33</td>\n",
       "      <td>184.6</td>\n",
       "      <td>2019.0</td>\n",
       "      <td>0.1622</td>\n",
       "      <td>0.6656</td>\n",
       "      <td>0.7119</td>\n",
       "      <td>0.2654</td>\n",
       "      <td>0.4601</td>\n",
       "      <td>0.11890</td>\n",
       "    </tr>\n",
       "    <tr>\n",
       "      <th>1</th>\n",
       "      <td>1</td>\n",
       "      <td>20.57</td>\n",
       "      <td>17.77</td>\n",
       "      <td>132.9</td>\n",
       "      <td>1326.0</td>\n",
       "      <td>0.08474</td>\n",
       "      <td>0.07864</td>\n",
       "      <td>0.0869</td>\n",
       "      <td>0.07017</td>\n",
       "      <td>0.1812</td>\n",
       "      <td>...</td>\n",
       "      <td>24.99</td>\n",
       "      <td>23.41</td>\n",
       "      <td>158.8</td>\n",
       "      <td>1956.0</td>\n",
       "      <td>0.1238</td>\n",
       "      <td>0.1866</td>\n",
       "      <td>0.2416</td>\n",
       "      <td>0.1860</td>\n",
       "      <td>0.2750</td>\n",
       "      <td>0.08902</td>\n",
       "    </tr>\n",
       "    <tr>\n",
       "      <th>2</th>\n",
       "      <td>1</td>\n",
       "      <td>19.69</td>\n",
       "      <td>21.25</td>\n",
       "      <td>130.0</td>\n",
       "      <td>1203.0</td>\n",
       "      <td>0.10960</td>\n",
       "      <td>0.15990</td>\n",
       "      <td>0.1974</td>\n",
       "      <td>0.12790</td>\n",
       "      <td>0.2069</td>\n",
       "      <td>...</td>\n",
       "      <td>23.57</td>\n",
       "      <td>25.53</td>\n",
       "      <td>152.5</td>\n",
       "      <td>1709.0</td>\n",
       "      <td>0.1444</td>\n",
       "      <td>0.4245</td>\n",
       "      <td>0.4504</td>\n",
       "      <td>0.2430</td>\n",
       "      <td>0.3613</td>\n",
       "      <td>0.08758</td>\n",
       "    </tr>\n",
       "  </tbody>\n",
       "</table>\n",
       "<p>3 rows × 31 columns</p>\n",
       "</div>"
      ],
      "text/plain": [
       "   diagnosis  radius_mean  texture_mean  perimeter_mean  area_mean  \\\n",
       "0          1        17.99         10.38           122.8     1001.0   \n",
       "1          1        20.57         17.77           132.9     1326.0   \n",
       "2          1        19.69         21.25           130.0     1203.0   \n",
       "\n",
       "   smoothness_mean  compactness_mean  concavity_mean  concave points_mean  \\\n",
       "0          0.11840           0.27760          0.3001              0.14710   \n",
       "1          0.08474           0.07864          0.0869              0.07017   \n",
       "2          0.10960           0.15990          0.1974              0.12790   \n",
       "\n",
       "   symmetry_mean  ...  radius_worst  texture_worst  perimeter_worst  \\\n",
       "0         0.2419  ...         25.38          17.33            184.6   \n",
       "1         0.1812  ...         24.99          23.41            158.8   \n",
       "2         0.2069  ...         23.57          25.53            152.5   \n",
       "\n",
       "   area_worst  smoothness_worst  compactness_worst  concavity_worst  \\\n",
       "0      2019.0            0.1622             0.6656           0.7119   \n",
       "1      1956.0            0.1238             0.1866           0.2416   \n",
       "2      1709.0            0.1444             0.4245           0.4504   \n",
       "\n",
       "   concave points_worst  symmetry_worst  fractal_dimension_worst  \n",
       "0                0.2654          0.4601                  0.11890  \n",
       "1                0.1860          0.2750                  0.08902  \n",
       "2                0.2430          0.3613                  0.08758  \n",
       "\n",
       "[3 rows x 31 columns]"
      ]
     },
     "execution_count": 14,
     "metadata": {},
     "output_type": "execute_result"
    }
   ],
   "source": [
    "df2.head(3)"
   ]
  },
  {
   "cell_type": "code",
   "execution_count": 15,
   "id": "f799e380",
   "metadata": {},
   "outputs": [],
   "source": [
    "# identificamos os atributos previsores\n",
    "previsores = df2.iloc[:, 1:32].values"
   ]
  },
  {
   "cell_type": "code",
   "execution_count": 16,
   "id": "54226aa6",
   "metadata": {},
   "outputs": [
    {
     "data": {
      "text/plain": [
       "array([[1.799e+01, 1.038e+01, 1.228e+02, ..., 2.654e-01, 4.601e-01,\n",
       "        1.189e-01],\n",
       "       [2.057e+01, 1.777e+01, 1.329e+02, ..., 1.860e-01, 2.750e-01,\n",
       "        8.902e-02],\n",
       "       [1.969e+01, 2.125e+01, 1.300e+02, ..., 2.430e-01, 3.613e-01,\n",
       "        8.758e-02],\n",
       "       ...,\n",
       "       [1.660e+01, 2.808e+01, 1.083e+02, ..., 1.418e-01, 2.218e-01,\n",
       "        7.820e-02],\n",
       "       [2.060e+01, 2.933e+01, 1.401e+02, ..., 2.650e-01, 4.087e-01,\n",
       "        1.240e-01],\n",
       "       [7.760e+00, 2.454e+01, 4.792e+01, ..., 0.000e+00, 2.871e-01,\n",
       "        7.039e-02]])"
      ]
     },
     "execution_count": 16,
     "metadata": {},
     "output_type": "execute_result"
    }
   ],
   "source": [
    "previsores"
   ]
  },
  {
   "cell_type": "code",
   "execution_count": 17,
   "id": "5afc24ba",
   "metadata": {},
   "outputs": [
    {
     "data": {
      "text/plain": [
       "(569, 30)"
      ]
     },
     "execution_count": 17,
     "metadata": {},
     "output_type": "execute_result"
    }
   ],
   "source": [
    "previsores.shape"
   ]
  },
  {
   "cell_type": "code",
   "execution_count": 18,
   "id": "fe2c32d9",
   "metadata": {},
   "outputs": [],
   "source": [
    "# a variavel alvo é chamada tambem variavel target ou 'HeartDisease' neste caso\n",
    "alvo = df2.iloc[:, 0].values"
   ]
  },
  {
   "cell_type": "code",
   "execution_count": 19,
   "id": "7b34dbfd",
   "metadata": {},
   "outputs": [
    {
     "data": {
      "text/plain": [
       "array([1, 1, 1, 1, 1, 1, 1, 1, 1, 1, 1, 1, 1, 1, 1, 1, 1, 1, 1, 0, 0, 0,\n",
       "       1, 1, 1, 1, 1, 1, 1, 1, 1, 1, 1, 1, 1, 1, 1, 0, 1, 1, 1, 1, 1, 1,\n",
       "       1, 1, 0, 1, 0, 0, 0, 0, 0, 1, 1, 0, 1, 1, 0, 0, 0, 0, 1, 0, 1, 1,\n",
       "       0, 0, 0, 0, 1, 0, 1, 1, 0, 1, 0, 1, 1, 0, 0, 0, 1, 1, 0, 1, 1, 1,\n",
       "       0, 0, 0, 1, 0, 0, 1, 1, 0, 0, 0, 1, 1, 0, 0, 0, 0, 1, 0, 0, 1, 0,\n",
       "       0, 0, 0, 0, 0, 0, 0, 1, 1, 1, 0, 1, 1, 0, 0, 0, 1, 1, 0, 1, 0, 1,\n",
       "       1, 0, 1, 1, 0, 0, 1, 0, 0, 1, 0, 0, 0, 0, 1, 0, 0, 0, 0, 0, 0, 0,\n",
       "       0, 0, 1, 0, 0, 0, 0, 1, 1, 0, 1, 0, 0, 1, 1, 0, 0, 1, 1, 0, 0, 0,\n",
       "       0, 1, 0, 0, 1, 1, 1, 0, 1, 0, 1, 0, 0, 0, 1, 0, 0, 1, 1, 0, 1, 1,\n",
       "       1, 1, 0, 1, 1, 1, 0, 1, 0, 1, 0, 0, 1, 0, 1, 1, 1, 1, 0, 0, 1, 1,\n",
       "       0, 0, 0, 1, 0, 0, 0, 0, 0, 1, 1, 0, 0, 1, 0, 0, 1, 1, 0, 1, 0, 0,\n",
       "       0, 0, 1, 0, 0, 0, 0, 0, 1, 0, 1, 1, 1, 1, 1, 1, 1, 1, 1, 1, 1, 1,\n",
       "       1, 1, 0, 0, 0, 0, 0, 0, 1, 0, 1, 0, 0, 1, 0, 0, 1, 0, 1, 1, 0, 0,\n",
       "       0, 0, 0, 0, 0, 0, 0, 0, 0, 0, 0, 1, 0, 0, 1, 0, 1, 0, 0, 0, 0, 0,\n",
       "       0, 0, 0, 0, 0, 0, 0, 0, 0, 1, 0, 0, 0, 1, 0, 1, 0, 0, 0, 0, 1, 1,\n",
       "       1, 0, 0, 0, 0, 1, 0, 1, 0, 1, 0, 0, 0, 1, 0, 0, 0, 0, 0, 0, 0, 1,\n",
       "       1, 1, 0, 0, 0, 0, 0, 0, 0, 0, 0, 0, 0, 1, 1, 0, 1, 1, 1, 0, 1, 1,\n",
       "       0, 0, 0, 0, 0, 1, 0, 0, 0, 0, 0, 1, 0, 0, 0, 1, 0, 0, 1, 1, 0, 0,\n",
       "       0, 0, 0, 0, 1, 0, 0, 0, 0, 0, 0, 0, 1, 0, 0, 0, 0, 0, 1, 0, 0, 1,\n",
       "       0, 0, 0, 0, 0, 0, 0, 0, 0, 0, 0, 0, 1, 0, 1, 1, 0, 1, 0, 0, 0, 0,\n",
       "       0, 1, 0, 0, 1, 0, 1, 0, 0, 1, 0, 1, 0, 0, 0, 0, 0, 0, 0, 0, 1, 1,\n",
       "       0, 0, 0, 0, 0, 0, 1, 0, 0, 0, 0, 0, 0, 0, 0, 0, 0, 1, 0, 0, 0, 0,\n",
       "       0, 0, 0, 1, 0, 1, 0, 0, 1, 0, 0, 0, 0, 0, 1, 1, 0, 1, 0, 1, 0, 0,\n",
       "       0, 0, 0, 1, 0, 0, 1, 0, 1, 0, 1, 1, 0, 0, 0, 1, 0, 0, 0, 0, 0, 0,\n",
       "       0, 0, 0, 0, 0, 1, 0, 1, 1, 0, 0, 0, 0, 0, 0, 0, 0, 0, 0, 0, 0, 0,\n",
       "       0, 0, 0, 0, 0, 0, 0, 0, 0, 0, 0, 0, 1, 1, 1, 1, 1, 1, 0])"
      ]
     },
     "execution_count": 19,
     "metadata": {},
     "output_type": "execute_result"
    }
   ],
   "source": [
    "alvo"
   ]
  },
  {
   "cell_type": "code",
   "execution_count": 20,
   "id": "b182c0f7",
   "metadata": {},
   "outputs": [
    {
     "data": {
      "text/plain": [
       "(569,)"
      ]
     },
     "execution_count": 20,
     "metadata": {},
     "output_type": "execute_result"
    }
   ],
   "source": [
    "alvo.shape"
   ]
  },
  {
   "cell_type": "markdown",
   "id": "59cd48ba",
   "metadata": {},
   "source": [
    "### <font color='OrangeRed'>**Análise das escalas dos atributos (Escalonamento)**"
   ]
  },
  {
   "cell_type": "code",
   "execution_count": 21,
   "id": "e2aa1d71",
   "metadata": {},
   "outputs": [
    {
     "data": {
      "text/html": [
       "<div>\n",
       "<style scoped>\n",
       "    .dataframe tbody tr th:only-of-type {\n",
       "        vertical-align: middle;\n",
       "    }\n",
       "\n",
       "    .dataframe tbody tr th {\n",
       "        vertical-align: top;\n",
       "    }\n",
       "\n",
       "    .dataframe thead th {\n",
       "        text-align: right;\n",
       "    }\n",
       "</style>\n",
       "<table border=\"1\" class=\"dataframe\">\n",
       "  <thead>\n",
       "    <tr style=\"text-align: right;\">\n",
       "      <th></th>\n",
       "      <th>diagnosis</th>\n",
       "      <th>radius_mean</th>\n",
       "      <th>texture_mean</th>\n",
       "      <th>perimeter_mean</th>\n",
       "      <th>area_mean</th>\n",
       "      <th>smoothness_mean</th>\n",
       "      <th>compactness_mean</th>\n",
       "      <th>concavity_mean</th>\n",
       "      <th>concave points_mean</th>\n",
       "      <th>symmetry_mean</th>\n",
       "      <th>...</th>\n",
       "      <th>radius_worst</th>\n",
       "      <th>texture_worst</th>\n",
       "      <th>perimeter_worst</th>\n",
       "      <th>area_worst</th>\n",
       "      <th>smoothness_worst</th>\n",
       "      <th>compactness_worst</th>\n",
       "      <th>concavity_worst</th>\n",
       "      <th>concave points_worst</th>\n",
       "      <th>symmetry_worst</th>\n",
       "      <th>fractal_dimension_worst</th>\n",
       "    </tr>\n",
       "  </thead>\n",
       "  <tbody>\n",
       "    <tr>\n",
       "      <th>count</th>\n",
       "      <td>569.000000</td>\n",
       "      <td>569.000000</td>\n",
       "      <td>569.000000</td>\n",
       "      <td>569.000000</td>\n",
       "      <td>569.000000</td>\n",
       "      <td>569.000000</td>\n",
       "      <td>569.000000</td>\n",
       "      <td>569.000000</td>\n",
       "      <td>569.000000</td>\n",
       "      <td>569.000000</td>\n",
       "      <td>...</td>\n",
       "      <td>569.000000</td>\n",
       "      <td>569.000000</td>\n",
       "      <td>569.000000</td>\n",
       "      <td>569.000000</td>\n",
       "      <td>569.000000</td>\n",
       "      <td>569.000000</td>\n",
       "      <td>569.000000</td>\n",
       "      <td>569.000000</td>\n",
       "      <td>569.000000</td>\n",
       "      <td>569.000000</td>\n",
       "    </tr>\n",
       "    <tr>\n",
       "      <th>mean</th>\n",
       "      <td>0.372583</td>\n",
       "      <td>14.127292</td>\n",
       "      <td>19.289649</td>\n",
       "      <td>91.969033</td>\n",
       "      <td>654.889104</td>\n",
       "      <td>0.096360</td>\n",
       "      <td>0.104341</td>\n",
       "      <td>0.088799</td>\n",
       "      <td>0.048919</td>\n",
       "      <td>0.181162</td>\n",
       "      <td>...</td>\n",
       "      <td>16.269190</td>\n",
       "      <td>25.677223</td>\n",
       "      <td>107.261213</td>\n",
       "      <td>880.583128</td>\n",
       "      <td>0.132369</td>\n",
       "      <td>0.254265</td>\n",
       "      <td>0.272188</td>\n",
       "      <td>0.114606</td>\n",
       "      <td>0.290076</td>\n",
       "      <td>0.083946</td>\n",
       "    </tr>\n",
       "    <tr>\n",
       "      <th>std</th>\n",
       "      <td>0.483918</td>\n",
       "      <td>3.524049</td>\n",
       "      <td>4.301036</td>\n",
       "      <td>24.298981</td>\n",
       "      <td>351.914129</td>\n",
       "      <td>0.014064</td>\n",
       "      <td>0.052813</td>\n",
       "      <td>0.079720</td>\n",
       "      <td>0.038803</td>\n",
       "      <td>0.027414</td>\n",
       "      <td>...</td>\n",
       "      <td>4.833242</td>\n",
       "      <td>6.146258</td>\n",
       "      <td>33.602542</td>\n",
       "      <td>569.356993</td>\n",
       "      <td>0.022832</td>\n",
       "      <td>0.157336</td>\n",
       "      <td>0.208624</td>\n",
       "      <td>0.065732</td>\n",
       "      <td>0.061867</td>\n",
       "      <td>0.018061</td>\n",
       "    </tr>\n",
       "    <tr>\n",
       "      <th>min</th>\n",
       "      <td>0.000000</td>\n",
       "      <td>6.981000</td>\n",
       "      <td>9.710000</td>\n",
       "      <td>43.790000</td>\n",
       "      <td>143.500000</td>\n",
       "      <td>0.052630</td>\n",
       "      <td>0.019380</td>\n",
       "      <td>0.000000</td>\n",
       "      <td>0.000000</td>\n",
       "      <td>0.106000</td>\n",
       "      <td>...</td>\n",
       "      <td>7.930000</td>\n",
       "      <td>12.020000</td>\n",
       "      <td>50.410000</td>\n",
       "      <td>185.200000</td>\n",
       "      <td>0.071170</td>\n",
       "      <td>0.027290</td>\n",
       "      <td>0.000000</td>\n",
       "      <td>0.000000</td>\n",
       "      <td>0.156500</td>\n",
       "      <td>0.055040</td>\n",
       "    </tr>\n",
       "    <tr>\n",
       "      <th>25%</th>\n",
       "      <td>0.000000</td>\n",
       "      <td>11.700000</td>\n",
       "      <td>16.170000</td>\n",
       "      <td>75.170000</td>\n",
       "      <td>420.300000</td>\n",
       "      <td>0.086370</td>\n",
       "      <td>0.064920</td>\n",
       "      <td>0.029560</td>\n",
       "      <td>0.020310</td>\n",
       "      <td>0.161900</td>\n",
       "      <td>...</td>\n",
       "      <td>13.010000</td>\n",
       "      <td>21.080000</td>\n",
       "      <td>84.110000</td>\n",
       "      <td>515.300000</td>\n",
       "      <td>0.116600</td>\n",
       "      <td>0.147200</td>\n",
       "      <td>0.114500</td>\n",
       "      <td>0.064930</td>\n",
       "      <td>0.250400</td>\n",
       "      <td>0.071460</td>\n",
       "    </tr>\n",
       "    <tr>\n",
       "      <th>50%</th>\n",
       "      <td>0.000000</td>\n",
       "      <td>13.370000</td>\n",
       "      <td>18.840000</td>\n",
       "      <td>86.240000</td>\n",
       "      <td>551.100000</td>\n",
       "      <td>0.095870</td>\n",
       "      <td>0.092630</td>\n",
       "      <td>0.061540</td>\n",
       "      <td>0.033500</td>\n",
       "      <td>0.179200</td>\n",
       "      <td>...</td>\n",
       "      <td>14.970000</td>\n",
       "      <td>25.410000</td>\n",
       "      <td>97.660000</td>\n",
       "      <td>686.500000</td>\n",
       "      <td>0.131300</td>\n",
       "      <td>0.211900</td>\n",
       "      <td>0.226700</td>\n",
       "      <td>0.099930</td>\n",
       "      <td>0.282200</td>\n",
       "      <td>0.080040</td>\n",
       "    </tr>\n",
       "    <tr>\n",
       "      <th>75%</th>\n",
       "      <td>1.000000</td>\n",
       "      <td>15.780000</td>\n",
       "      <td>21.800000</td>\n",
       "      <td>104.100000</td>\n",
       "      <td>782.700000</td>\n",
       "      <td>0.105300</td>\n",
       "      <td>0.130400</td>\n",
       "      <td>0.130700</td>\n",
       "      <td>0.074000</td>\n",
       "      <td>0.195700</td>\n",
       "      <td>...</td>\n",
       "      <td>18.790000</td>\n",
       "      <td>29.720000</td>\n",
       "      <td>125.400000</td>\n",
       "      <td>1084.000000</td>\n",
       "      <td>0.146000</td>\n",
       "      <td>0.339100</td>\n",
       "      <td>0.382900</td>\n",
       "      <td>0.161400</td>\n",
       "      <td>0.317900</td>\n",
       "      <td>0.092080</td>\n",
       "    </tr>\n",
       "    <tr>\n",
       "      <th>max</th>\n",
       "      <td>1.000000</td>\n",
       "      <td>28.110000</td>\n",
       "      <td>39.280000</td>\n",
       "      <td>188.500000</td>\n",
       "      <td>2501.000000</td>\n",
       "      <td>0.163400</td>\n",
       "      <td>0.345400</td>\n",
       "      <td>0.426800</td>\n",
       "      <td>0.201200</td>\n",
       "      <td>0.304000</td>\n",
       "      <td>...</td>\n",
       "      <td>36.040000</td>\n",
       "      <td>49.540000</td>\n",
       "      <td>251.200000</td>\n",
       "      <td>4254.000000</td>\n",
       "      <td>0.222600</td>\n",
       "      <td>1.058000</td>\n",
       "      <td>1.252000</td>\n",
       "      <td>0.291000</td>\n",
       "      <td>0.663800</td>\n",
       "      <td>0.207500</td>\n",
       "    </tr>\n",
       "  </tbody>\n",
       "</table>\n",
       "<p>8 rows × 31 columns</p>\n",
       "</div>"
      ],
      "text/plain": [
       "        diagnosis  radius_mean  texture_mean  perimeter_mean    area_mean  \\\n",
       "count  569.000000   569.000000    569.000000      569.000000   569.000000   \n",
       "mean     0.372583    14.127292     19.289649       91.969033   654.889104   \n",
       "std      0.483918     3.524049      4.301036       24.298981   351.914129   \n",
       "min      0.000000     6.981000      9.710000       43.790000   143.500000   \n",
       "25%      0.000000    11.700000     16.170000       75.170000   420.300000   \n",
       "50%      0.000000    13.370000     18.840000       86.240000   551.100000   \n",
       "75%      1.000000    15.780000     21.800000      104.100000   782.700000   \n",
       "max      1.000000    28.110000     39.280000      188.500000  2501.000000   \n",
       "\n",
       "       smoothness_mean  compactness_mean  concavity_mean  concave points_mean  \\\n",
       "count       569.000000        569.000000      569.000000           569.000000   \n",
       "mean          0.096360          0.104341        0.088799             0.048919   \n",
       "std           0.014064          0.052813        0.079720             0.038803   \n",
       "min           0.052630          0.019380        0.000000             0.000000   \n",
       "25%           0.086370          0.064920        0.029560             0.020310   \n",
       "50%           0.095870          0.092630        0.061540             0.033500   \n",
       "75%           0.105300          0.130400        0.130700             0.074000   \n",
       "max           0.163400          0.345400        0.426800             0.201200   \n",
       "\n",
       "       symmetry_mean  ...  radius_worst  texture_worst  perimeter_worst  \\\n",
       "count     569.000000  ...    569.000000     569.000000       569.000000   \n",
       "mean        0.181162  ...     16.269190      25.677223       107.261213   \n",
       "std         0.027414  ...      4.833242       6.146258        33.602542   \n",
       "min         0.106000  ...      7.930000      12.020000        50.410000   \n",
       "25%         0.161900  ...     13.010000      21.080000        84.110000   \n",
       "50%         0.179200  ...     14.970000      25.410000        97.660000   \n",
       "75%         0.195700  ...     18.790000      29.720000       125.400000   \n",
       "max         0.304000  ...     36.040000      49.540000       251.200000   \n",
       "\n",
       "        area_worst  smoothness_worst  compactness_worst  concavity_worst  \\\n",
       "count   569.000000        569.000000         569.000000       569.000000   \n",
       "mean    880.583128          0.132369           0.254265         0.272188   \n",
       "std     569.356993          0.022832           0.157336         0.208624   \n",
       "min     185.200000          0.071170           0.027290         0.000000   \n",
       "25%     515.300000          0.116600           0.147200         0.114500   \n",
       "50%     686.500000          0.131300           0.211900         0.226700   \n",
       "75%    1084.000000          0.146000           0.339100         0.382900   \n",
       "max    4254.000000          0.222600           1.058000         1.252000   \n",
       "\n",
       "       concave points_worst  symmetry_worst  fractal_dimension_worst  \n",
       "count            569.000000      569.000000               569.000000  \n",
       "mean               0.114606        0.290076                 0.083946  \n",
       "std                0.065732        0.061867                 0.018061  \n",
       "min                0.000000        0.156500                 0.055040  \n",
       "25%                0.064930        0.250400                 0.071460  \n",
       "50%                0.099930        0.282200                 0.080040  \n",
       "75%                0.161400        0.317900                 0.092080  \n",
       "max                0.291000        0.663800                 0.207500  \n",
       "\n",
       "[8 rows x 31 columns]"
      ]
     },
     "execution_count": 21,
     "metadata": {},
     "output_type": "execute_result"
    }
   ],
   "source": [
    "df2.describe()"
   ]
  },
  {
   "cell_type": "markdown",
   "id": "f30679dd",
   "metadata": {},
   "source": [
    "### <font color='OrangeRed'>**Podemos utilizar dois métodos ou técnicas**\n",
    "\n",
    "<font color='MidnightBlue'> **Padronização (utiliza a média e o desvio padrão como referência).**\n",
    "\n",
    "<font color='MidnightBlue'> **Normalização (utiliza os valores máximo e mínimo como referência).**"
   ]
  },
  {
   "cell_type": "code",
   "execution_count": 22,
   "id": "a8fb1362",
   "metadata": {},
   "outputs": [],
   "source": [
    "#neste caso vamos a usar a Padronização \n",
    "from sklearn.preprocessing import StandardScaler"
   ]
  },
  {
   "cell_type": "code",
   "execution_count": 23,
   "id": "68f4d651",
   "metadata": {},
   "outputs": [],
   "source": [
    "previsores_esc = StandardScaler().fit_transform(previsores)"
   ]
  },
  {
   "cell_type": "code",
   "execution_count": 24,
   "id": "56ff19ab",
   "metadata": {},
   "outputs": [
    {
     "data": {
      "text/plain": [
       "array([[ 1.09706398, -2.07333501,  1.26993369, ...,  2.29607613,\n",
       "         2.75062224,  1.93701461],\n",
       "       [ 1.82982061, -0.35363241,  1.68595471, ...,  1.0870843 ,\n",
       "        -0.24388967,  0.28118999],\n",
       "       [ 1.57988811,  0.45618695,  1.56650313, ...,  1.95500035,\n",
       "         1.152255  ,  0.20139121],\n",
       "       ...,\n",
       "       [ 0.70228425,  2.0455738 ,  0.67267578, ...,  0.41406869,\n",
       "        -1.10454895, -0.31840916],\n",
       "       [ 1.83834103,  2.33645719,  1.98252415, ...,  2.28998549,\n",
       "         1.91908301,  2.21963528],\n",
       "       [-1.80840125,  1.22179204, -1.81438851, ..., -1.74506282,\n",
       "        -0.04813821, -0.75120669]])"
      ]
     },
     "execution_count": 24,
     "metadata": {},
     "output_type": "execute_result"
    }
   ],
   "source": [
    "previsores_esc"
   ]
  },
  {
   "cell_type": "code",
   "execution_count": 25,
   "id": "ff8e8026",
   "metadata": {},
   "outputs": [
    {
     "data": {
      "text/html": [
       "<div>\n",
       "<style scoped>\n",
       "    .dataframe tbody tr th:only-of-type {\n",
       "        vertical-align: middle;\n",
       "    }\n",
       "\n",
       "    .dataframe tbody tr th {\n",
       "        vertical-align: top;\n",
       "    }\n",
       "\n",
       "    .dataframe thead th {\n",
       "        text-align: right;\n",
       "    }\n",
       "</style>\n",
       "<table border=\"1\" class=\"dataframe\">\n",
       "  <thead>\n",
       "    <tr style=\"text-align: right;\">\n",
       "      <th></th>\n",
       "      <th>0</th>\n",
       "      <th>1</th>\n",
       "      <th>2</th>\n",
       "      <th>3</th>\n",
       "      <th>4</th>\n",
       "      <th>5</th>\n",
       "      <th>6</th>\n",
       "      <th>7</th>\n",
       "      <th>8</th>\n",
       "      <th>9</th>\n",
       "      <th>...</th>\n",
       "      <th>20</th>\n",
       "      <th>21</th>\n",
       "      <th>22</th>\n",
       "      <th>23</th>\n",
       "      <th>24</th>\n",
       "      <th>25</th>\n",
       "      <th>26</th>\n",
       "      <th>27</th>\n",
       "      <th>28</th>\n",
       "      <th>29</th>\n",
       "    </tr>\n",
       "  </thead>\n",
       "  <tbody>\n",
       "    <tr>\n",
       "      <th>0</th>\n",
       "      <td>1.097064</td>\n",
       "      <td>-2.073335</td>\n",
       "      <td>1.269934</td>\n",
       "      <td>0.984375</td>\n",
       "      <td>1.568466</td>\n",
       "      <td>3.283515</td>\n",
       "      <td>2.652874</td>\n",
       "      <td>2.532475</td>\n",
       "      <td>2.217515</td>\n",
       "      <td>2.255747</td>\n",
       "      <td>...</td>\n",
       "      <td>1.886690</td>\n",
       "      <td>-1.359293</td>\n",
       "      <td>2.303601</td>\n",
       "      <td>2.001237</td>\n",
       "      <td>1.307686</td>\n",
       "      <td>2.616665</td>\n",
       "      <td>2.109526</td>\n",
       "      <td>2.296076</td>\n",
       "      <td>2.750622</td>\n",
       "      <td>1.937015</td>\n",
       "    </tr>\n",
       "    <tr>\n",
       "      <th>1</th>\n",
       "      <td>1.829821</td>\n",
       "      <td>-0.353632</td>\n",
       "      <td>1.685955</td>\n",
       "      <td>1.908708</td>\n",
       "      <td>-0.826962</td>\n",
       "      <td>-0.487072</td>\n",
       "      <td>-0.023846</td>\n",
       "      <td>0.548144</td>\n",
       "      <td>0.001392</td>\n",
       "      <td>-0.868652</td>\n",
       "      <td>...</td>\n",
       "      <td>1.805927</td>\n",
       "      <td>-0.369203</td>\n",
       "      <td>1.535126</td>\n",
       "      <td>1.890489</td>\n",
       "      <td>-0.375612</td>\n",
       "      <td>-0.430444</td>\n",
       "      <td>-0.146749</td>\n",
       "      <td>1.087084</td>\n",
       "      <td>-0.243890</td>\n",
       "      <td>0.281190</td>\n",
       "    </tr>\n",
       "    <tr>\n",
       "      <th>2</th>\n",
       "      <td>1.579888</td>\n",
       "      <td>0.456187</td>\n",
       "      <td>1.566503</td>\n",
       "      <td>1.558884</td>\n",
       "      <td>0.942210</td>\n",
       "      <td>1.052926</td>\n",
       "      <td>1.363478</td>\n",
       "      <td>2.037231</td>\n",
       "      <td>0.939685</td>\n",
       "      <td>-0.398008</td>\n",
       "      <td>...</td>\n",
       "      <td>1.511870</td>\n",
       "      <td>-0.023974</td>\n",
       "      <td>1.347475</td>\n",
       "      <td>1.456285</td>\n",
       "      <td>0.527407</td>\n",
       "      <td>1.082932</td>\n",
       "      <td>0.854974</td>\n",
       "      <td>1.955000</td>\n",
       "      <td>1.152255</td>\n",
       "      <td>0.201391</td>\n",
       "    </tr>\n",
       "    <tr>\n",
       "      <th>3</th>\n",
       "      <td>-0.768909</td>\n",
       "      <td>0.253732</td>\n",
       "      <td>-0.592687</td>\n",
       "      <td>-0.764464</td>\n",
       "      <td>3.283553</td>\n",
       "      <td>3.402909</td>\n",
       "      <td>1.915897</td>\n",
       "      <td>1.451707</td>\n",
       "      <td>2.867383</td>\n",
       "      <td>4.910919</td>\n",
       "      <td>...</td>\n",
       "      <td>-0.281464</td>\n",
       "      <td>0.133984</td>\n",
       "      <td>-0.249939</td>\n",
       "      <td>-0.550021</td>\n",
       "      <td>3.394275</td>\n",
       "      <td>3.893397</td>\n",
       "      <td>1.989588</td>\n",
       "      <td>2.175786</td>\n",
       "      <td>6.046041</td>\n",
       "      <td>4.935010</td>\n",
       "    </tr>\n",
       "    <tr>\n",
       "      <th>4</th>\n",
       "      <td>1.750297</td>\n",
       "      <td>-1.151816</td>\n",
       "      <td>1.776573</td>\n",
       "      <td>1.826229</td>\n",
       "      <td>0.280372</td>\n",
       "      <td>0.539340</td>\n",
       "      <td>1.371011</td>\n",
       "      <td>1.428493</td>\n",
       "      <td>-0.009560</td>\n",
       "      <td>-0.562450</td>\n",
       "      <td>...</td>\n",
       "      <td>1.298575</td>\n",
       "      <td>-1.466770</td>\n",
       "      <td>1.338539</td>\n",
       "      <td>1.220724</td>\n",
       "      <td>0.220556</td>\n",
       "      <td>-0.313395</td>\n",
       "      <td>0.613179</td>\n",
       "      <td>0.729259</td>\n",
       "      <td>-0.868353</td>\n",
       "      <td>-0.397100</td>\n",
       "    </tr>\n",
       "    <tr>\n",
       "      <th>...</th>\n",
       "      <td>...</td>\n",
       "      <td>...</td>\n",
       "      <td>...</td>\n",
       "      <td>...</td>\n",
       "      <td>...</td>\n",
       "      <td>...</td>\n",
       "      <td>...</td>\n",
       "      <td>...</td>\n",
       "      <td>...</td>\n",
       "      <td>...</td>\n",
       "      <td>...</td>\n",
       "      <td>...</td>\n",
       "      <td>...</td>\n",
       "      <td>...</td>\n",
       "      <td>...</td>\n",
       "      <td>...</td>\n",
       "      <td>...</td>\n",
       "      <td>...</td>\n",
       "      <td>...</td>\n",
       "      <td>...</td>\n",
       "      <td>...</td>\n",
       "    </tr>\n",
       "    <tr>\n",
       "      <th>564</th>\n",
       "      <td>2.110995</td>\n",
       "      <td>0.721473</td>\n",
       "      <td>2.060786</td>\n",
       "      <td>2.343856</td>\n",
       "      <td>1.041842</td>\n",
       "      <td>0.219060</td>\n",
       "      <td>1.947285</td>\n",
       "      <td>2.320965</td>\n",
       "      <td>-0.312589</td>\n",
       "      <td>-0.931027</td>\n",
       "      <td>...</td>\n",
       "      <td>1.901185</td>\n",
       "      <td>0.117700</td>\n",
       "      <td>1.752563</td>\n",
       "      <td>2.015301</td>\n",
       "      <td>0.378365</td>\n",
       "      <td>-0.273318</td>\n",
       "      <td>0.664512</td>\n",
       "      <td>1.629151</td>\n",
       "      <td>-1.360158</td>\n",
       "      <td>-0.709091</td>\n",
       "    </tr>\n",
       "    <tr>\n",
       "      <th>565</th>\n",
       "      <td>1.704854</td>\n",
       "      <td>2.085134</td>\n",
       "      <td>1.615931</td>\n",
       "      <td>1.723842</td>\n",
       "      <td>0.102458</td>\n",
       "      <td>-0.017833</td>\n",
       "      <td>0.693043</td>\n",
       "      <td>1.263669</td>\n",
       "      <td>-0.217664</td>\n",
       "      <td>-1.058611</td>\n",
       "      <td>...</td>\n",
       "      <td>1.536720</td>\n",
       "      <td>2.047399</td>\n",
       "      <td>1.421940</td>\n",
       "      <td>1.494959</td>\n",
       "      <td>-0.691230</td>\n",
       "      <td>-0.394820</td>\n",
       "      <td>0.236573</td>\n",
       "      <td>0.733827</td>\n",
       "      <td>-0.531855</td>\n",
       "      <td>-0.973978</td>\n",
       "    </tr>\n",
       "    <tr>\n",
       "      <th>566</th>\n",
       "      <td>0.702284</td>\n",
       "      <td>2.045574</td>\n",
       "      <td>0.672676</td>\n",
       "      <td>0.577953</td>\n",
       "      <td>-0.840484</td>\n",
       "      <td>-0.038680</td>\n",
       "      <td>0.046588</td>\n",
       "      <td>0.105777</td>\n",
       "      <td>-0.809117</td>\n",
       "      <td>-0.895587</td>\n",
       "      <td>...</td>\n",
       "      <td>0.561361</td>\n",
       "      <td>1.374854</td>\n",
       "      <td>0.579001</td>\n",
       "      <td>0.427906</td>\n",
       "      <td>-0.809587</td>\n",
       "      <td>0.350735</td>\n",
       "      <td>0.326767</td>\n",
       "      <td>0.414069</td>\n",
       "      <td>-1.104549</td>\n",
       "      <td>-0.318409</td>\n",
       "    </tr>\n",
       "    <tr>\n",
       "      <th>567</th>\n",
       "      <td>1.838341</td>\n",
       "      <td>2.336457</td>\n",
       "      <td>1.982524</td>\n",
       "      <td>1.735218</td>\n",
       "      <td>1.525767</td>\n",
       "      <td>3.272144</td>\n",
       "      <td>3.296944</td>\n",
       "      <td>2.658866</td>\n",
       "      <td>2.137194</td>\n",
       "      <td>1.043695</td>\n",
       "      <td>...</td>\n",
       "      <td>1.961239</td>\n",
       "      <td>2.237926</td>\n",
       "      <td>2.303601</td>\n",
       "      <td>1.653171</td>\n",
       "      <td>1.430427</td>\n",
       "      <td>3.904848</td>\n",
       "      <td>3.197605</td>\n",
       "      <td>2.289985</td>\n",
       "      <td>1.919083</td>\n",
       "      <td>2.219635</td>\n",
       "    </tr>\n",
       "    <tr>\n",
       "      <th>568</th>\n",
       "      <td>-1.808401</td>\n",
       "      <td>1.221792</td>\n",
       "      <td>-1.814389</td>\n",
       "      <td>-1.347789</td>\n",
       "      <td>-3.112085</td>\n",
       "      <td>-1.150752</td>\n",
       "      <td>-1.114873</td>\n",
       "      <td>-1.261820</td>\n",
       "      <td>-0.820070</td>\n",
       "      <td>-0.561032</td>\n",
       "      <td>...</td>\n",
       "      <td>-1.410893</td>\n",
       "      <td>0.764190</td>\n",
       "      <td>-1.432735</td>\n",
       "      <td>-1.075813</td>\n",
       "      <td>-1.859019</td>\n",
       "      <td>-1.207552</td>\n",
       "      <td>-1.305831</td>\n",
       "      <td>-1.745063</td>\n",
       "      <td>-0.048138</td>\n",
       "      <td>-0.751207</td>\n",
       "    </tr>\n",
       "  </tbody>\n",
       "</table>\n",
       "<p>569 rows × 30 columns</p>\n",
       "</div>"
      ],
      "text/plain": [
       "           0         1         2         3         4         5         6   \\\n",
       "0    1.097064 -2.073335  1.269934  0.984375  1.568466  3.283515  2.652874   \n",
       "1    1.829821 -0.353632  1.685955  1.908708 -0.826962 -0.487072 -0.023846   \n",
       "2    1.579888  0.456187  1.566503  1.558884  0.942210  1.052926  1.363478   \n",
       "3   -0.768909  0.253732 -0.592687 -0.764464  3.283553  3.402909  1.915897   \n",
       "4    1.750297 -1.151816  1.776573  1.826229  0.280372  0.539340  1.371011   \n",
       "..        ...       ...       ...       ...       ...       ...       ...   \n",
       "564  2.110995  0.721473  2.060786  2.343856  1.041842  0.219060  1.947285   \n",
       "565  1.704854  2.085134  1.615931  1.723842  0.102458 -0.017833  0.693043   \n",
       "566  0.702284  2.045574  0.672676  0.577953 -0.840484 -0.038680  0.046588   \n",
       "567  1.838341  2.336457  1.982524  1.735218  1.525767  3.272144  3.296944   \n",
       "568 -1.808401  1.221792 -1.814389 -1.347789 -3.112085 -1.150752 -1.114873   \n",
       "\n",
       "           7         8         9   ...        20        21        22  \\\n",
       "0    2.532475  2.217515  2.255747  ...  1.886690 -1.359293  2.303601   \n",
       "1    0.548144  0.001392 -0.868652  ...  1.805927 -0.369203  1.535126   \n",
       "2    2.037231  0.939685 -0.398008  ...  1.511870 -0.023974  1.347475   \n",
       "3    1.451707  2.867383  4.910919  ... -0.281464  0.133984 -0.249939   \n",
       "4    1.428493 -0.009560 -0.562450  ...  1.298575 -1.466770  1.338539   \n",
       "..        ...       ...       ...  ...       ...       ...       ...   \n",
       "564  2.320965 -0.312589 -0.931027  ...  1.901185  0.117700  1.752563   \n",
       "565  1.263669 -0.217664 -1.058611  ...  1.536720  2.047399  1.421940   \n",
       "566  0.105777 -0.809117 -0.895587  ...  0.561361  1.374854  0.579001   \n",
       "567  2.658866  2.137194  1.043695  ...  1.961239  2.237926  2.303601   \n",
       "568 -1.261820 -0.820070 -0.561032  ... -1.410893  0.764190 -1.432735   \n",
       "\n",
       "           23        24        25        26        27        28        29  \n",
       "0    2.001237  1.307686  2.616665  2.109526  2.296076  2.750622  1.937015  \n",
       "1    1.890489 -0.375612 -0.430444 -0.146749  1.087084 -0.243890  0.281190  \n",
       "2    1.456285  0.527407  1.082932  0.854974  1.955000  1.152255  0.201391  \n",
       "3   -0.550021  3.394275  3.893397  1.989588  2.175786  6.046041  4.935010  \n",
       "4    1.220724  0.220556 -0.313395  0.613179  0.729259 -0.868353 -0.397100  \n",
       "..        ...       ...       ...       ...       ...       ...       ...  \n",
       "564  2.015301  0.378365 -0.273318  0.664512  1.629151 -1.360158 -0.709091  \n",
       "565  1.494959 -0.691230 -0.394820  0.236573  0.733827 -0.531855 -0.973978  \n",
       "566  0.427906 -0.809587  0.350735  0.326767  0.414069 -1.104549 -0.318409  \n",
       "567  1.653171  1.430427  3.904848  3.197605  2.289985  1.919083  2.219635  \n",
       "568 -1.075813 -1.859019 -1.207552 -1.305831 -1.745063 -0.048138 -0.751207  \n",
       "\n",
       "[569 rows x 30 columns]"
      ]
     },
     "execution_count": 25,
     "metadata": {},
     "output_type": "execute_result"
    }
   ],
   "source": [
    "# Transformamos valores numéricos da variável previsores_esc em um dataframe\n",
    "previsoresdf = pd.DataFrame(previsores_esc)\n",
    "previsoresdf"
   ]
  },
  {
   "cell_type": "code",
   "execution_count": 26,
   "id": "37627666",
   "metadata": {},
   "outputs": [
    {
     "data": {
      "text/html": [
       "<div>\n",
       "<style scoped>\n",
       "    .dataframe tbody tr th:only-of-type {\n",
       "        vertical-align: middle;\n",
       "    }\n",
       "\n",
       "    .dataframe tbody tr th {\n",
       "        vertical-align: top;\n",
       "    }\n",
       "\n",
       "    .dataframe thead th {\n",
       "        text-align: right;\n",
       "    }\n",
       "</style>\n",
       "<table border=\"1\" class=\"dataframe\">\n",
       "  <thead>\n",
       "    <tr style=\"text-align: right;\">\n",
       "      <th></th>\n",
       "      <th>0</th>\n",
       "      <th>1</th>\n",
       "      <th>2</th>\n",
       "      <th>3</th>\n",
       "      <th>4</th>\n",
       "      <th>5</th>\n",
       "      <th>6</th>\n",
       "      <th>7</th>\n",
       "      <th>8</th>\n",
       "      <th>9</th>\n",
       "      <th>...</th>\n",
       "      <th>20</th>\n",
       "      <th>21</th>\n",
       "      <th>22</th>\n",
       "      <th>23</th>\n",
       "      <th>24</th>\n",
       "      <th>25</th>\n",
       "      <th>26</th>\n",
       "      <th>27</th>\n",
       "      <th>28</th>\n",
       "      <th>29</th>\n",
       "    </tr>\n",
       "  </thead>\n",
       "  <tbody>\n",
       "    <tr>\n",
       "      <th>count</th>\n",
       "      <td>5.690000e+02</td>\n",
       "      <td>5.690000e+02</td>\n",
       "      <td>5.690000e+02</td>\n",
       "      <td>5.690000e+02</td>\n",
       "      <td>5.690000e+02</td>\n",
       "      <td>5.690000e+02</td>\n",
       "      <td>5.690000e+02</td>\n",
       "      <td>5.690000e+02</td>\n",
       "      <td>5.690000e+02</td>\n",
       "      <td>5.690000e+02</td>\n",
       "      <td>...</td>\n",
       "      <td>5.690000e+02</td>\n",
       "      <td>5.690000e+02</td>\n",
       "      <td>5.690000e+02</td>\n",
       "      <td>5.690000e+02</td>\n",
       "      <td>5.690000e+02</td>\n",
       "      <td>5.690000e+02</td>\n",
       "      <td>5.690000e+02</td>\n",
       "      <td>5.690000e+02</td>\n",
       "      <td>5.690000e+02</td>\n",
       "      <td>5.690000e+02</td>\n",
       "    </tr>\n",
       "    <tr>\n",
       "      <th>mean</th>\n",
       "      <td>-1.256562e-16</td>\n",
       "      <td>1.049736e-16</td>\n",
       "      <td>-1.272171e-16</td>\n",
       "      <td>-1.900452e-16</td>\n",
       "      <td>-8.226187e-16</td>\n",
       "      <td>2.419467e-16</td>\n",
       "      <td>-1.315097e-16</td>\n",
       "      <td>-8.780323e-17</td>\n",
       "      <td>1.957036e-16</td>\n",
       "      <td>5.073075e-16</td>\n",
       "      <td>...</td>\n",
       "      <td>-7.956924e-16</td>\n",
       "      <td>-1.834112e-17</td>\n",
       "      <td>-4.015534e-16</td>\n",
       "      <td>-2.848727e-17</td>\n",
       "      <td>-2.251665e-16</td>\n",
       "      <td>-2.579464e-16</td>\n",
       "      <td>1.143393e-16</td>\n",
       "      <td>3.203842e-16</td>\n",
       "      <td>1.783381e-16</td>\n",
       "      <td>-6.436952e-16</td>\n",
       "    </tr>\n",
       "    <tr>\n",
       "      <th>std</th>\n",
       "      <td>1.000880e+00</td>\n",
       "      <td>1.000880e+00</td>\n",
       "      <td>1.000880e+00</td>\n",
       "      <td>1.000880e+00</td>\n",
       "      <td>1.000880e+00</td>\n",
       "      <td>1.000880e+00</td>\n",
       "      <td>1.000880e+00</td>\n",
       "      <td>1.000880e+00</td>\n",
       "      <td>1.000880e+00</td>\n",
       "      <td>1.000880e+00</td>\n",
       "      <td>...</td>\n",
       "      <td>1.000880e+00</td>\n",
       "      <td>1.000880e+00</td>\n",
       "      <td>1.000880e+00</td>\n",
       "      <td>1.000880e+00</td>\n",
       "      <td>1.000880e+00</td>\n",
       "      <td>1.000880e+00</td>\n",
       "      <td>1.000880e+00</td>\n",
       "      <td>1.000880e+00</td>\n",
       "      <td>1.000880e+00</td>\n",
       "      <td>1.000880e+00</td>\n",
       "    </tr>\n",
       "    <tr>\n",
       "      <th>min</th>\n",
       "      <td>-2.029648e+00</td>\n",
       "      <td>-2.229249e+00</td>\n",
       "      <td>-1.984504e+00</td>\n",
       "      <td>-1.454443e+00</td>\n",
       "      <td>-3.112085e+00</td>\n",
       "      <td>-1.610136e+00</td>\n",
       "      <td>-1.114873e+00</td>\n",
       "      <td>-1.261820e+00</td>\n",
       "      <td>-2.744117e+00</td>\n",
       "      <td>-1.819865e+00</td>\n",
       "      <td>...</td>\n",
       "      <td>-1.726901e+00</td>\n",
       "      <td>-2.223994e+00</td>\n",
       "      <td>-1.693361e+00</td>\n",
       "      <td>-1.222423e+00</td>\n",
       "      <td>-2.682695e+00</td>\n",
       "      <td>-1.443878e+00</td>\n",
       "      <td>-1.305831e+00</td>\n",
       "      <td>-1.745063e+00</td>\n",
       "      <td>-2.160960e+00</td>\n",
       "      <td>-1.601839e+00</td>\n",
       "    </tr>\n",
       "    <tr>\n",
       "      <th>25%</th>\n",
       "      <td>-6.893853e-01</td>\n",
       "      <td>-7.259631e-01</td>\n",
       "      <td>-6.919555e-01</td>\n",
       "      <td>-6.671955e-01</td>\n",
       "      <td>-7.109628e-01</td>\n",
       "      <td>-7.470860e-01</td>\n",
       "      <td>-7.437479e-01</td>\n",
       "      <td>-7.379438e-01</td>\n",
       "      <td>-7.032397e-01</td>\n",
       "      <td>-7.226392e-01</td>\n",
       "      <td>...</td>\n",
       "      <td>-6.749213e-01</td>\n",
       "      <td>-7.486293e-01</td>\n",
       "      <td>-6.895783e-01</td>\n",
       "      <td>-6.421359e-01</td>\n",
       "      <td>-6.912304e-01</td>\n",
       "      <td>-6.810833e-01</td>\n",
       "      <td>-7.565142e-01</td>\n",
       "      <td>-7.563999e-01</td>\n",
       "      <td>-6.418637e-01</td>\n",
       "      <td>-6.919118e-01</td>\n",
       "    </tr>\n",
       "    <tr>\n",
       "      <th>50%</th>\n",
       "      <td>-2.150816e-01</td>\n",
       "      <td>-1.046362e-01</td>\n",
       "      <td>-2.359800e-01</td>\n",
       "      <td>-2.951869e-01</td>\n",
       "      <td>-3.489108e-02</td>\n",
       "      <td>-2.219405e-01</td>\n",
       "      <td>-3.422399e-01</td>\n",
       "      <td>-3.977212e-01</td>\n",
       "      <td>-7.162650e-02</td>\n",
       "      <td>-1.782793e-01</td>\n",
       "      <td>...</td>\n",
       "      <td>-2.690395e-01</td>\n",
       "      <td>-4.351564e-02</td>\n",
       "      <td>-2.859802e-01</td>\n",
       "      <td>-3.411812e-01</td>\n",
       "      <td>-4.684277e-02</td>\n",
       "      <td>-2.695009e-01</td>\n",
       "      <td>-2.182321e-01</td>\n",
       "      <td>-2.234689e-01</td>\n",
       "      <td>-1.274095e-01</td>\n",
       "      <td>-2.164441e-01</td>\n",
       "    </tr>\n",
       "    <tr>\n",
       "      <th>75%</th>\n",
       "      <td>4.693926e-01</td>\n",
       "      <td>5.841756e-01</td>\n",
       "      <td>4.996769e-01</td>\n",
       "      <td>3.635073e-01</td>\n",
       "      <td>6.361990e-01</td>\n",
       "      <td>4.938569e-01</td>\n",
       "      <td>5.260619e-01</td>\n",
       "      <td>6.469351e-01</td>\n",
       "      <td>5.307792e-01</td>\n",
       "      <td>4.709834e-01</td>\n",
       "      <td>...</td>\n",
       "      <td>5.220158e-01</td>\n",
       "      <td>6.583411e-01</td>\n",
       "      <td>5.402790e-01</td>\n",
       "      <td>3.575891e-01</td>\n",
       "      <td>5.975448e-01</td>\n",
       "      <td>5.396688e-01</td>\n",
       "      <td>5.311411e-01</td>\n",
       "      <td>7.125100e-01</td>\n",
       "      <td>4.501382e-01</td>\n",
       "      <td>4.507624e-01</td>\n",
       "    </tr>\n",
       "    <tr>\n",
       "      <th>max</th>\n",
       "      <td>3.971288e+00</td>\n",
       "      <td>4.651889e+00</td>\n",
       "      <td>3.976130e+00</td>\n",
       "      <td>5.250529e+00</td>\n",
       "      <td>4.770911e+00</td>\n",
       "      <td>4.568425e+00</td>\n",
       "      <td>4.243589e+00</td>\n",
       "      <td>3.927930e+00</td>\n",
       "      <td>4.484751e+00</td>\n",
       "      <td>4.910919e+00</td>\n",
       "      <td>...</td>\n",
       "      <td>4.094189e+00</td>\n",
       "      <td>3.885905e+00</td>\n",
       "      <td>4.287337e+00</td>\n",
       "      <td>5.930172e+00</td>\n",
       "      <td>3.955374e+00</td>\n",
       "      <td>5.112877e+00</td>\n",
       "      <td>4.700669e+00</td>\n",
       "      <td>2.685877e+00</td>\n",
       "      <td>6.046041e+00</td>\n",
       "      <td>6.846856e+00</td>\n",
       "    </tr>\n",
       "  </tbody>\n",
       "</table>\n",
       "<p>8 rows × 30 columns</p>\n",
       "</div>"
      ],
      "text/plain": [
       "                 0             1             2             3             4   \\\n",
       "count  5.690000e+02  5.690000e+02  5.690000e+02  5.690000e+02  5.690000e+02   \n",
       "mean  -1.256562e-16  1.049736e-16 -1.272171e-16 -1.900452e-16 -8.226187e-16   \n",
       "std    1.000880e+00  1.000880e+00  1.000880e+00  1.000880e+00  1.000880e+00   \n",
       "min   -2.029648e+00 -2.229249e+00 -1.984504e+00 -1.454443e+00 -3.112085e+00   \n",
       "25%   -6.893853e-01 -7.259631e-01 -6.919555e-01 -6.671955e-01 -7.109628e-01   \n",
       "50%   -2.150816e-01 -1.046362e-01 -2.359800e-01 -2.951869e-01 -3.489108e-02   \n",
       "75%    4.693926e-01  5.841756e-01  4.996769e-01  3.635073e-01  6.361990e-01   \n",
       "max    3.971288e+00  4.651889e+00  3.976130e+00  5.250529e+00  4.770911e+00   \n",
       "\n",
       "                 5             6             7             8             9   \\\n",
       "count  5.690000e+02  5.690000e+02  5.690000e+02  5.690000e+02  5.690000e+02   \n",
       "mean   2.419467e-16 -1.315097e-16 -8.780323e-17  1.957036e-16  5.073075e-16   \n",
       "std    1.000880e+00  1.000880e+00  1.000880e+00  1.000880e+00  1.000880e+00   \n",
       "min   -1.610136e+00 -1.114873e+00 -1.261820e+00 -2.744117e+00 -1.819865e+00   \n",
       "25%   -7.470860e-01 -7.437479e-01 -7.379438e-01 -7.032397e-01 -7.226392e-01   \n",
       "50%   -2.219405e-01 -3.422399e-01 -3.977212e-01 -7.162650e-02 -1.782793e-01   \n",
       "75%    4.938569e-01  5.260619e-01  6.469351e-01  5.307792e-01  4.709834e-01   \n",
       "max    4.568425e+00  4.243589e+00  3.927930e+00  4.484751e+00  4.910919e+00   \n",
       "\n",
       "       ...            20            21            22            23  \\\n",
       "count  ...  5.690000e+02  5.690000e+02  5.690000e+02  5.690000e+02   \n",
       "mean   ... -7.956924e-16 -1.834112e-17 -4.015534e-16 -2.848727e-17   \n",
       "std    ...  1.000880e+00  1.000880e+00  1.000880e+00  1.000880e+00   \n",
       "min    ... -1.726901e+00 -2.223994e+00 -1.693361e+00 -1.222423e+00   \n",
       "25%    ... -6.749213e-01 -7.486293e-01 -6.895783e-01 -6.421359e-01   \n",
       "50%    ... -2.690395e-01 -4.351564e-02 -2.859802e-01 -3.411812e-01   \n",
       "75%    ...  5.220158e-01  6.583411e-01  5.402790e-01  3.575891e-01   \n",
       "max    ...  4.094189e+00  3.885905e+00  4.287337e+00  5.930172e+00   \n",
       "\n",
       "                 24            25            26            27            28  \\\n",
       "count  5.690000e+02  5.690000e+02  5.690000e+02  5.690000e+02  5.690000e+02   \n",
       "mean  -2.251665e-16 -2.579464e-16  1.143393e-16  3.203842e-16  1.783381e-16   \n",
       "std    1.000880e+00  1.000880e+00  1.000880e+00  1.000880e+00  1.000880e+00   \n",
       "min   -2.682695e+00 -1.443878e+00 -1.305831e+00 -1.745063e+00 -2.160960e+00   \n",
       "25%   -6.912304e-01 -6.810833e-01 -7.565142e-01 -7.563999e-01 -6.418637e-01   \n",
       "50%   -4.684277e-02 -2.695009e-01 -2.182321e-01 -2.234689e-01 -1.274095e-01   \n",
       "75%    5.975448e-01  5.396688e-01  5.311411e-01  7.125100e-01  4.501382e-01   \n",
       "max    3.955374e+00  5.112877e+00  4.700669e+00  2.685877e+00  6.046041e+00   \n",
       "\n",
       "                 29  \n",
       "count  5.690000e+02  \n",
       "mean  -6.436952e-16  \n",
       "std    1.000880e+00  \n",
       "min   -1.601839e+00  \n",
       "25%   -6.919118e-01  \n",
       "50%   -2.164441e-01  \n",
       "75%    4.507624e-01  \n",
       "max    6.846856e+00  \n",
       "\n",
       "[8 rows x 30 columns]"
      ]
     },
     "execution_count": 26,
     "metadata": {},
     "output_type": "execute_result"
    }
   ],
   "source": [
    "previsoresdf.describe()"
   ]
  },
  {
   "cell_type": "markdown",
   "id": "a50422f5",
   "metadata": {},
   "source": [
    "## <font color='DarkRed'>**Codificação de variáveis categóricas**"
   ]
  },
  {
   "cell_type": "markdown",
   "id": "1a231063",
   "metadata": {},
   "source": [
    "### <font color='OrangeRed'>**LabelEncoder**</font> <font color='MidnightBlue'> **transformação de variáveis categóricas em numéricas automaticamante usando LabelEncoder**\n",
    "\n",
    " - ### <font color='MidnightBlue'> **Anteriormente foi manualmente**"
   ]
  },
  {
   "cell_type": "code",
   "execution_count": 27,
   "id": "75d64a21",
   "metadata": {},
   "outputs": [],
   "source": [
    "from sklearn.preprocessing import LabelEncoder"
   ]
  },
  {
   "cell_type": "code",
   "execution_count": 28,
   "id": "e73ad90f",
   "metadata": {},
   "outputs": [],
   "source": [
    "# Fazemos uma copia do dataFrame original da forma:\n",
    "df3 = pd.DataFrame.copy(df)"
   ]
  },
  {
   "cell_type": "code",
   "execution_count": 29,
   "id": "c18cbdde",
   "metadata": {},
   "outputs": [
    {
     "data": {
      "text/html": [
       "<div>\n",
       "<style scoped>\n",
       "    .dataframe tbody tr th:only-of-type {\n",
       "        vertical-align: middle;\n",
       "    }\n",
       "\n",
       "    .dataframe tbody tr th {\n",
       "        vertical-align: top;\n",
       "    }\n",
       "\n",
       "    .dataframe thead th {\n",
       "        text-align: right;\n",
       "    }\n",
       "</style>\n",
       "<table border=\"1\" class=\"dataframe\">\n",
       "  <thead>\n",
       "    <tr style=\"text-align: right;\">\n",
       "      <th></th>\n",
       "      <th>diagnosis</th>\n",
       "      <th>radius_mean</th>\n",
       "      <th>texture_mean</th>\n",
       "      <th>perimeter_mean</th>\n",
       "      <th>area_mean</th>\n",
       "      <th>smoothness_mean</th>\n",
       "      <th>compactness_mean</th>\n",
       "      <th>concavity_mean</th>\n",
       "      <th>concave points_mean</th>\n",
       "      <th>symmetry_mean</th>\n",
       "      <th>...</th>\n",
       "      <th>radius_worst</th>\n",
       "      <th>texture_worst</th>\n",
       "      <th>perimeter_worst</th>\n",
       "      <th>area_worst</th>\n",
       "      <th>smoothness_worst</th>\n",
       "      <th>compactness_worst</th>\n",
       "      <th>concavity_worst</th>\n",
       "      <th>concave points_worst</th>\n",
       "      <th>symmetry_worst</th>\n",
       "      <th>fractal_dimension_worst</th>\n",
       "    </tr>\n",
       "  </thead>\n",
       "  <tbody>\n",
       "    <tr>\n",
       "      <th>0</th>\n",
       "      <td>M</td>\n",
       "      <td>17.99</td>\n",
       "      <td>10.38</td>\n",
       "      <td>122.8</td>\n",
       "      <td>1001.0</td>\n",
       "      <td>0.11840</td>\n",
       "      <td>0.27760</td>\n",
       "      <td>0.3001</td>\n",
       "      <td>0.14710</td>\n",
       "      <td>0.2419</td>\n",
       "      <td>...</td>\n",
       "      <td>25.38</td>\n",
       "      <td>17.33</td>\n",
       "      <td>184.6</td>\n",
       "      <td>2019.0</td>\n",
       "      <td>0.1622</td>\n",
       "      <td>0.6656</td>\n",
       "      <td>0.7119</td>\n",
       "      <td>0.2654</td>\n",
       "      <td>0.4601</td>\n",
       "      <td>0.11890</td>\n",
       "    </tr>\n",
       "    <tr>\n",
       "      <th>1</th>\n",
       "      <td>M</td>\n",
       "      <td>20.57</td>\n",
       "      <td>17.77</td>\n",
       "      <td>132.9</td>\n",
       "      <td>1326.0</td>\n",
       "      <td>0.08474</td>\n",
       "      <td>0.07864</td>\n",
       "      <td>0.0869</td>\n",
       "      <td>0.07017</td>\n",
       "      <td>0.1812</td>\n",
       "      <td>...</td>\n",
       "      <td>24.99</td>\n",
       "      <td>23.41</td>\n",
       "      <td>158.8</td>\n",
       "      <td>1956.0</td>\n",
       "      <td>0.1238</td>\n",
       "      <td>0.1866</td>\n",
       "      <td>0.2416</td>\n",
       "      <td>0.1860</td>\n",
       "      <td>0.2750</td>\n",
       "      <td>0.08902</td>\n",
       "    </tr>\n",
       "    <tr>\n",
       "      <th>2</th>\n",
       "      <td>M</td>\n",
       "      <td>19.69</td>\n",
       "      <td>21.25</td>\n",
       "      <td>130.0</td>\n",
       "      <td>1203.0</td>\n",
       "      <td>0.10960</td>\n",
       "      <td>0.15990</td>\n",
       "      <td>0.1974</td>\n",
       "      <td>0.12790</td>\n",
       "      <td>0.2069</td>\n",
       "      <td>...</td>\n",
       "      <td>23.57</td>\n",
       "      <td>25.53</td>\n",
       "      <td>152.5</td>\n",
       "      <td>1709.0</td>\n",
       "      <td>0.1444</td>\n",
       "      <td>0.4245</td>\n",
       "      <td>0.4504</td>\n",
       "      <td>0.2430</td>\n",
       "      <td>0.3613</td>\n",
       "      <td>0.08758</td>\n",
       "    </tr>\n",
       "  </tbody>\n",
       "</table>\n",
       "<p>3 rows × 31 columns</p>\n",
       "</div>"
      ],
      "text/plain": [
       "  diagnosis  radius_mean  texture_mean  perimeter_mean  area_mean  \\\n",
       "0         M        17.99         10.38           122.8     1001.0   \n",
       "1         M        20.57         17.77           132.9     1326.0   \n",
       "2         M        19.69         21.25           130.0     1203.0   \n",
       "\n",
       "   smoothness_mean  compactness_mean  concavity_mean  concave points_mean  \\\n",
       "0          0.11840           0.27760          0.3001              0.14710   \n",
       "1          0.08474           0.07864          0.0869              0.07017   \n",
       "2          0.10960           0.15990          0.1974              0.12790   \n",
       "\n",
       "   symmetry_mean  ...  radius_worst  texture_worst  perimeter_worst  \\\n",
       "0         0.2419  ...         25.38          17.33            184.6   \n",
       "1         0.1812  ...         24.99          23.41            158.8   \n",
       "2         0.2069  ...         23.57          25.53            152.5   \n",
       "\n",
       "   area_worst  smoothness_worst  compactness_worst  concavity_worst  \\\n",
       "0      2019.0            0.1622             0.6656           0.7119   \n",
       "1      1956.0            0.1238             0.1866           0.2416   \n",
       "2      1709.0            0.1444             0.4245           0.4504   \n",
       "\n",
       "   concave points_worst  symmetry_worst  fractal_dimension_worst  \n",
       "0                0.2654          0.4601                  0.11890  \n",
       "1                0.1860          0.2750                  0.08902  \n",
       "2                0.2430          0.3613                  0.08758  \n",
       "\n",
       "[3 rows x 31 columns]"
      ]
     },
     "execution_count": 29,
     "metadata": {},
     "output_type": "execute_result"
    }
   ],
   "source": [
    "df3.head(3)"
   ]
  },
  {
   "cell_type": "code",
   "execution_count": 30,
   "id": "0d793ff1",
   "metadata": {},
   "outputs": [],
   "source": [
    "# Vamos transforma a primeira coluna com indice '0' .reshape(-1,1) \n",
    "df3['diagnosis'] = LabelEncoder().fit_transform(df3['diagnosis'])"
   ]
  },
  {
   "cell_type": "code",
   "execution_count": 31,
   "id": "10c68476",
   "metadata": {},
   "outputs": [
    {
     "data": {
      "text/html": [
       "<div>\n",
       "<style scoped>\n",
       "    .dataframe tbody tr th:only-of-type {\n",
       "        vertical-align: middle;\n",
       "    }\n",
       "\n",
       "    .dataframe tbody tr th {\n",
       "        vertical-align: top;\n",
       "    }\n",
       "\n",
       "    .dataframe thead th {\n",
       "        text-align: right;\n",
       "    }\n",
       "</style>\n",
       "<table border=\"1\" class=\"dataframe\">\n",
       "  <thead>\n",
       "    <tr style=\"text-align: right;\">\n",
       "      <th></th>\n",
       "      <th>diagnosis</th>\n",
       "      <th>radius_mean</th>\n",
       "      <th>texture_mean</th>\n",
       "      <th>perimeter_mean</th>\n",
       "      <th>area_mean</th>\n",
       "      <th>smoothness_mean</th>\n",
       "      <th>compactness_mean</th>\n",
       "      <th>concavity_mean</th>\n",
       "      <th>concave points_mean</th>\n",
       "      <th>symmetry_mean</th>\n",
       "      <th>...</th>\n",
       "      <th>radius_worst</th>\n",
       "      <th>texture_worst</th>\n",
       "      <th>perimeter_worst</th>\n",
       "      <th>area_worst</th>\n",
       "      <th>smoothness_worst</th>\n",
       "      <th>compactness_worst</th>\n",
       "      <th>concavity_worst</th>\n",
       "      <th>concave points_worst</th>\n",
       "      <th>symmetry_worst</th>\n",
       "      <th>fractal_dimension_worst</th>\n",
       "    </tr>\n",
       "  </thead>\n",
       "  <tbody>\n",
       "    <tr>\n",
       "      <th>0</th>\n",
       "      <td>1</td>\n",
       "      <td>17.99</td>\n",
       "      <td>10.38</td>\n",
       "      <td>122.8</td>\n",
       "      <td>1001.0</td>\n",
       "      <td>0.11840</td>\n",
       "      <td>0.27760</td>\n",
       "      <td>0.3001</td>\n",
       "      <td>0.14710</td>\n",
       "      <td>0.2419</td>\n",
       "      <td>...</td>\n",
       "      <td>25.38</td>\n",
       "      <td>17.33</td>\n",
       "      <td>184.6</td>\n",
       "      <td>2019.0</td>\n",
       "      <td>0.1622</td>\n",
       "      <td>0.6656</td>\n",
       "      <td>0.7119</td>\n",
       "      <td>0.2654</td>\n",
       "      <td>0.4601</td>\n",
       "      <td>0.11890</td>\n",
       "    </tr>\n",
       "    <tr>\n",
       "      <th>1</th>\n",
       "      <td>1</td>\n",
       "      <td>20.57</td>\n",
       "      <td>17.77</td>\n",
       "      <td>132.9</td>\n",
       "      <td>1326.0</td>\n",
       "      <td>0.08474</td>\n",
       "      <td>0.07864</td>\n",
       "      <td>0.0869</td>\n",
       "      <td>0.07017</td>\n",
       "      <td>0.1812</td>\n",
       "      <td>...</td>\n",
       "      <td>24.99</td>\n",
       "      <td>23.41</td>\n",
       "      <td>158.8</td>\n",
       "      <td>1956.0</td>\n",
       "      <td>0.1238</td>\n",
       "      <td>0.1866</td>\n",
       "      <td>0.2416</td>\n",
       "      <td>0.1860</td>\n",
       "      <td>0.2750</td>\n",
       "      <td>0.08902</td>\n",
       "    </tr>\n",
       "    <tr>\n",
       "      <th>2</th>\n",
       "      <td>1</td>\n",
       "      <td>19.69</td>\n",
       "      <td>21.25</td>\n",
       "      <td>130.0</td>\n",
       "      <td>1203.0</td>\n",
       "      <td>0.10960</td>\n",
       "      <td>0.15990</td>\n",
       "      <td>0.1974</td>\n",
       "      <td>0.12790</td>\n",
       "      <td>0.2069</td>\n",
       "      <td>...</td>\n",
       "      <td>23.57</td>\n",
       "      <td>25.53</td>\n",
       "      <td>152.5</td>\n",
       "      <td>1709.0</td>\n",
       "      <td>0.1444</td>\n",
       "      <td>0.4245</td>\n",
       "      <td>0.4504</td>\n",
       "      <td>0.2430</td>\n",
       "      <td>0.3613</td>\n",
       "      <td>0.08758</td>\n",
       "    </tr>\n",
       "  </tbody>\n",
       "</table>\n",
       "<p>3 rows × 31 columns</p>\n",
       "</div>"
      ],
      "text/plain": [
       "   diagnosis  radius_mean  texture_mean  perimeter_mean  area_mean  \\\n",
       "0          1        17.99         10.38           122.8     1001.0   \n",
       "1          1        20.57         17.77           132.9     1326.0   \n",
       "2          1        19.69         21.25           130.0     1203.0   \n",
       "\n",
       "   smoothness_mean  compactness_mean  concavity_mean  concave points_mean  \\\n",
       "0          0.11840           0.27760          0.3001              0.14710   \n",
       "1          0.08474           0.07864          0.0869              0.07017   \n",
       "2          0.10960           0.15990          0.1974              0.12790   \n",
       "\n",
       "   symmetry_mean  ...  radius_worst  texture_worst  perimeter_worst  \\\n",
       "0         0.2419  ...         25.38          17.33            184.6   \n",
       "1         0.1812  ...         24.99          23.41            158.8   \n",
       "2         0.2069  ...         23.57          25.53            152.5   \n",
       "\n",
       "   area_worst  smoothness_worst  compactness_worst  concavity_worst  \\\n",
       "0      2019.0            0.1622             0.6656           0.7119   \n",
       "1      1956.0            0.1238             0.1866           0.2416   \n",
       "2      1709.0            0.1444             0.4245           0.4504   \n",
       "\n",
       "   concave points_worst  symmetry_worst  fractal_dimension_worst  \n",
       "0                0.2654          0.4601                  0.11890  \n",
       "1                0.1860          0.2750                  0.08902  \n",
       "2                0.2430          0.3613                  0.08758  \n",
       "\n",
       "[3 rows x 31 columns]"
      ]
     },
     "execution_count": 31,
     "metadata": {},
     "output_type": "execute_result"
    }
   ],
   "source": [
    "df3.head(3)"
   ]
  },
  {
   "cell_type": "markdown",
   "id": "bb874ff6",
   "metadata": {},
   "source": [
    "## <font color='DarkRed'>**RESUMO PRÉ-PROCESSAMENTO**"
   ]
  },
  {
   "cell_type": "markdown",
   "id": "13ef2c62",
   "metadata": {},
   "source": [
    "<font color='OrangeRed'>**alvo =**</font> <font color='MidnightBlue'> **variável que se pretende atingir (Prever se o câncer é benigno ou maligno).**\n",
    "\n",
    "<font color='OrangeRed'>**previsores =**</font> <font color='MidnightBlue'> **conjunto de variáveis previsoras com as variáveis categóricas transformadas em numéricas manualmente, sem escalonar.**\n",
    "\n",
    "<font color='OrangeRed'>**previsores_esc =**</font> <font color='MidnightBlue'> **conjunto de variáveis previsoras com as variáveis categóricas transformadas em numéricas, escalonada.**"
   ]
  },
  {
   "cell_type": "markdown",
   "id": "a8a3bc5c",
   "metadata": {},
   "source": [
    "# <font color='DarkRed'>**BASE DE TREINO E TESTE**"
   ]
  },
  {
   "cell_type": "markdown",
   "id": "d41d82de",
   "metadata": {},
   "source": [
    "<font color='OrangeRed'>**Parâmetros train_test_split:**\n",
    "\n",
    "- <font color='OrangeRed'>**arrays:**</font> <font color='MidnightBlue'>**nomes dos atributos previsores e alvo.**\n",
    "- <font color='OrangeRed'>**test_size:**</font> <font color='MidnightBlue'>**tamanho em porcentagem dos dados de teste. default é none.**\n",
    "- <font color='OrangeRed'>**train_size:**</font> <font color='MidnightBlue'>**tamanho em porcentagem dos dados de treinamento.default é none.**\n",
    "- <font color='OrangeRed'>**random_state:**</font> <font color='MidnightBlue'>**nomeação de um estado aleatório.**\n",
    "- <font color='OrangeRed'>**shuffle:**</font> <font color='MidnightBlue'>**embaralhamento dos dados aleatórios. Associado com o random_state ocorre o mesmo embaralhamento sempre. Default é True.**\n",
    "- <font color='OrangeRed'>**stratify:**</font> <font color='MidnightBlue'>**Possibilidade de dividir os dados de forma estratificada. Default é None  (nesse caso é mantido a proporção, isto é, se tem 30% de zeros e 70% de 1 no dataframe, na separação em treinamento e teste se manterá essa proporção).**"
   ]
  },
  {
   "cell_type": "code",
   "execution_count": 32,
   "id": "1ec87598",
   "metadata": {},
   "outputs": [],
   "source": [
    "from sklearn.model_selection import train_test_split"
   ]
  },
  {
   "cell_type": "markdown",
   "id": "958547c7",
   "metadata": {},
   "source": [
    "### <font color='OrangeRed'>**Dica**\n",
    "\n",
    "<font color='MidnightBlue'>**Por fim, dividiremos os dados em variáveis de previsão e variáveis alvo, dividindo-as em conjuntos de treinamento e teste. Usaremos 30% dos dados como conjunto de teste.**\n",
    "    \n",
    "<font color='DarkGreen'>**As variáveis \"x_treino\" e \"x_teste\" correspondem às variáveis previsoras, já as variáveis \"y_treino\" e \"y_teste\" corresponde à variável alvo**"
   ]
  },
  {
   "cell_type": "code",
   "execution_count": 242,
   "id": "a68fa268",
   "metadata": {},
   "outputs": [],
   "source": [
    "x_treino, x_teste, y_treino, y_teste = train_test_split(previsores_esc, alvo, test_size = 0.3, random_state =21)"
   ]
  },
  {
   "cell_type": "code",
   "execution_count": 243,
   "id": "5f933744",
   "metadata": {},
   "outputs": [
    {
     "data": {
      "text/plain": [
       "(398, 30)"
      ]
     },
     "execution_count": 243,
     "metadata": {},
     "output_type": "execute_result"
    }
   ],
   "source": [
    "x_treino.shape"
   ]
  },
  {
   "cell_type": "code",
   "execution_count": 244,
   "id": "40e97340",
   "metadata": {},
   "outputs": [
    {
     "data": {
      "text/plain": [
       "(171, 30)"
      ]
     },
     "execution_count": 244,
     "metadata": {},
     "output_type": "execute_result"
    }
   ],
   "source": [
    "x_teste.shape"
   ]
  },
  {
   "cell_type": "code",
   "execution_count": 245,
   "id": "d9a9c42b",
   "metadata": {},
   "outputs": [
    {
     "data": {
      "text/plain": [
       "(398,)"
      ]
     },
     "execution_count": 245,
     "metadata": {},
     "output_type": "execute_result"
    }
   ],
   "source": [
    "y_treino.shape"
   ]
  },
  {
   "cell_type": "code",
   "execution_count": 246,
   "id": "62e67d76",
   "metadata": {},
   "outputs": [
    {
     "data": {
      "text/plain": [
       "(171,)"
      ]
     },
     "execution_count": 246,
     "metadata": {},
     "output_type": "execute_result"
    }
   ],
   "source": [
    "y_teste.shape"
   ]
  },
  {
   "cell_type": "markdown",
   "id": "93148a56",
   "metadata": {},
   "source": [
    "### <font color='OrangeRed'>**Observação**\n",
    "\n",
    "<font color='MidnightBlue'>**A partir do conjunto de dados, analisaremos e construiremos um modelo para prever se um determinado conjunto de sintomas leva ao câncer de mama. Este é um problema de classificação binária, e alguns algoritmos são apropriados para uso. Como não sabemos qual deles terá o melhor desempenho no momento, faremos um teste com algoritmos apropriados com configuração padrão para obter uma indicação antecipada de como cada um deles funciona. Usaremos validação cruzada para cada teste**\n",
    "    \n",
    "### <font color='OrangeRed'>**Serão utilizados os seguintes algoritmos de aprendizado supervisionado: Classificação**   \n",
    "    \n",
    "- <font color='Indigo'>**Gaussian Naive Bayes (NB)**  \n",
    "- <font color='Indigo'>**Máquinas de Vetor de Suporte Linear (SVM)**\n",
    "- <font color='Indigo'>**Regressão Logística**\n",
    "- <font color='Indigo'>**KNN é a sigla de K Nearest Neighbors (K vizinhos mais próximos)** \n",
    "- <font color='Indigo'>**Árvores de Decisão** \n",
    "- <font color='Indigo'>**Random Forests**    \n",
    "- <font color='Indigo'>**XGBoost (eXtreme Gradient Boosting)**    \n",
    "- <font color='Indigo'>**LightGBM (Light Gradient Boosting Machine)**\n",
    "- <font color='Indigo'>**CatBoost (Category Boosting) (aumento de\n",
    "gradiente) que por sua vez é uma evolução do Random Forest.**         "
   ]
  },
  {
   "cell_type": "markdown",
   "id": "a12ba359",
   "metadata": {},
   "source": [
    "## <font color='DarkRed'>**GAUSSIAN NAIVE BAYES**\n",
    "    \n",
    "https://scikit-learn.org/stable/modules/naive_bayes.html    "
   ]
  },
  {
   "cell_type": "markdown",
   "id": "0a4b0b87",
   "metadata": {},
   "source": [
    "<font color='OrangeRed'>**Treinamento do algoritmo**"
   ]
  },
  {
   "cell_type": "code",
   "execution_count": 130,
   "id": "2c22d7fd",
   "metadata": {},
   "outputs": [],
   "source": [
    "from sklearn.naive_bayes import GaussianNB"
   ]
  },
  {
   "cell_type": "code",
   "execution_count": 131,
   "id": "84e4520e",
   "metadata": {},
   "outputs": [
    {
     "data": {
      "text/plain": [
       "GaussianNB()"
      ]
     },
     "execution_count": 131,
     "metadata": {},
     "output_type": "execute_result"
    }
   ],
   "source": [
    "# GaussianNB implementa o algoritmo Gaussian Naive Bayes para classificação.\n",
    "# A probabilidade dos recursos é assumida como gaussiana:\n",
    "naive = GaussianNB()\n",
    "naive.fit(x_treino, y_treino)"
   ]
  },
  {
   "cell_type": "markdown",
   "id": "86288f25",
   "metadata": {},
   "source": [
    "<font color='OrangeRed'>**Avaliação do algoritmo com teste**"
   ]
  },
  {
   "cell_type": "code",
   "execution_count": 132,
   "id": "56cededa",
   "metadata": {},
   "outputs": [
    {
     "data": {
      "text/plain": [
       "array([0, 0, 1, 1, 1, 0, 0, 0, 0, 0, 0, 0, 0, 0, 0, 1, 0, 0, 0, 0, 0, 1,\n",
       "       0, 1, 1, 0, 0, 0, 1, 0, 0, 0, 0, 0, 1, 0, 1, 1, 0, 1, 0, 1, 0, 0,\n",
       "       0, 0, 0, 0, 0, 0, 0, 0, 0, 0, 0, 1, 1, 1, 1, 0, 0, 0, 0, 1, 1, 1,\n",
       "       0, 0, 1, 0, 1, 1, 1, 1, 1, 0, 0, 0, 1, 1, 0, 0, 1, 0, 0, 0, 0, 0,\n",
       "       1, 1, 0, 0, 1, 1, 1, 0, 0, 0, 1, 0, 0, 0, 0, 0, 1, 0, 0, 0, 0, 1,\n",
       "       1, 0, 0, 1, 0, 1, 1, 0, 0, 0, 0, 0, 1, 0, 0, 0, 0, 1, 0, 0, 0, 1,\n",
       "       0, 1, 0, 1, 1, 0, 0, 0, 0, 1, 1, 1, 0, 0, 0, 1, 1, 1, 1, 0, 1, 0,\n",
       "       0, 0, 1, 1, 0, 1, 1, 1, 0, 0, 0, 1, 0, 0, 1, 0, 1])"
      ]
     },
     "execution_count": 132,
     "metadata": {},
     "output_type": "execute_result"
    }
   ],
   "source": [
    "previsoes_naive = naive.predict(x_teste)\n",
    "previsoes_naive"
   ]
  },
  {
   "cell_type": "code",
   "execution_count": 133,
   "id": "c79e054f",
   "metadata": {},
   "outputs": [
    {
     "data": {
      "text/plain": [
       "array([0, 0, 1, 1, 1, 0, 0, 0, 0, 0, 0, 0, 0, 0, 0, 1, 0, 0, 0, 0, 0, 1,\n",
       "       0, 1, 1, 0, 0, 0, 1, 0, 0, 0, 0, 0, 1, 0, 0, 1, 0, 1, 0, 1, 0, 0,\n",
       "       0, 1, 0, 0, 0, 0, 0, 0, 0, 1, 0, 1, 1, 1, 1, 0, 0, 1, 0, 1, 1, 1,\n",
       "       0, 0, 1, 0, 1, 1, 0, 1, 1, 0, 0, 0, 1, 1, 0, 0, 0, 0, 0, 0, 0, 0,\n",
       "       1, 1, 0, 0, 1, 1, 1, 0, 0, 0, 1, 0, 0, 0, 0, 0, 1, 0, 0, 0, 0, 1,\n",
       "       1, 0, 0, 1, 0, 1, 1, 0, 0, 0, 0, 0, 1, 0, 0, 0, 0, 1, 0, 0, 0, 1,\n",
       "       0, 1, 0, 1, 1, 0, 0, 0, 1, 1, 1, 1, 0, 0, 0, 1, 1, 1, 1, 0, 1, 1,\n",
       "       0, 0, 1, 1, 0, 1, 1, 1, 0, 0, 0, 1, 0, 0, 1, 0, 0])"
      ]
     },
     "execution_count": 133,
     "metadata": {},
     "output_type": "execute_result"
    }
   ],
   "source": [
    "y_teste"
   ]
  },
  {
   "cell_type": "markdown",
   "id": "9026d073",
   "metadata": {},
   "source": [
    "<font color='MidnightBlue'>**Verificamos o quanto ele acertou, para isso importamos apartir da biblioteca sklearn.metrics as bibliotecas accuracy_score, confusion_matrix, classification_report**"
   ]
  },
  {
   "cell_type": "code",
   "execution_count": 134,
   "id": "2bf6ceab",
   "metadata": {},
   "outputs": [],
   "source": [
    "from sklearn.metrics import accuracy_score, confusion_matrix, classification_report"
   ]
  },
  {
   "cell_type": "code",
   "execution_count": 135,
   "id": "96ca74ea",
   "metadata": {},
   "outputs": [
    {
     "data": {
      "text/plain": [
       "0.9473684210526315"
      ]
     },
     "execution_count": 135,
     "metadata": {},
     "output_type": "execute_result"
    }
   ],
   "source": [
    "accuracy_score(y_teste, previsoes_naive)"
   ]
  },
  {
   "cell_type": "code",
   "execution_count": 136,
   "id": "be0f2ed3",
   "metadata": {},
   "outputs": [
    {
     "name": "stdout",
     "output_type": "stream",
     "text": [
      "Acurácia: 94.74%\n"
     ]
    }
   ],
   "source": [
    "print(\"Acurácia: %.2f%%\" % (accuracy_score(y_teste, previsoes_naive) * 100.0))"
   ]
  },
  {
   "cell_type": "markdown",
   "id": "706d7ad5",
   "metadata": {},
   "source": [
    "<font color='OrangeRed'>**Matriz de Confusão:**"
   ]
  },
  {
   "cell_type": "code",
   "execution_count": 137,
   "id": "ac051473",
   "metadata": {},
   "outputs": [
    {
     "data": {
      "text/plain": [
       "array([[103,   4],\n",
       "       [  5,  59]])"
      ]
     },
     "execution_count": 137,
     "metadata": {},
     "output_type": "execute_result"
    }
   ],
   "source": [
    "Matriz_confusao = confusion_matrix(y_teste, previsoes_naive)\n",
    "Matriz_confusao "
   ]
  },
  {
   "cell_type": "code",
   "execution_count": 141,
   "id": "7b1e98ad",
   "metadata": {},
   "outputs": [
    {
     "data": {
      "image/png": "[encoded data removed]",
      "text/plain": [
       "<Figure size 720x360 with 2 Axes>"
      ]
     },
     "metadata": {
      "needs_background": "light"
     },
     "output_type": "display_data"
    }
   ],
   "source": [
    "plt.figure(figsize=(10,5))\n",
    "sns.heatmap(Matriz_confusao, annot=True,cmap='Greens');"
   ]
  },
  {
   "cell_type": "code",
   "execution_count": 261,
   "id": "b8fbd334",
   "metadata": {},
   "outputs": [
    {
     "name": "stdout",
     "output_type": "stream",
     "text": [
      "              precision    recall  f1-score   support\n",
      "\n",
      "           0       0.95      0.96      0.96       107\n",
      "           1       0.94      0.92      0.93        64\n",
      "\n",
      "    accuracy                           0.95       171\n",
      "   macro avg       0.95      0.94      0.94       171\n",
      "weighted avg       0.95      0.95      0.95       171\n",
      "\n"
     ]
    }
   ],
   "source": [
    "print(classification_report(y_teste, previsoes_naive))"
   ]
  },
  {
   "cell_type": "markdown",
   "id": "84713d80",
   "metadata": {},
   "source": [
    "<font color='OrangeRed'>**Notas de métricas de avaliação**\n",
    "\n",
    "<font color='DarkGreen'>**Acurácia:**</font> <font color='MidnightBlue'>**indica uma performance geral do modelo. Dentre todas as classificações, quantas o modelo classificou corretamente;**\n",
    "    \n",
    "<font color='DarkGreen'>**Precisão:**</font> <font color='MidnightBlue'>**dentre todas as classificações de classe Positivo que o modelo fez, quantas estão corretas (aqui buscamos os falsos positivos);**\n",
    "    \n",
    "<font color='DarkGreen'>**Recall/Revocação/Sensibilidade:**</font> <font color='MidnightBlue'>**dentre todas as situações de classe Positivo como valor esperado, quantas estão corretas (aqui buscamos os falsos negativos);**\n",
    "    \n",
    "<font color='DarkGreen'>**F1-Score:**</font> <font color='MidnightBlue'>**média harmônica entre precisão e recall (uma maneira de observar em um único número a precisão e o recall).**"
   ]
  },
  {
   "cell_type": "markdown",
   "id": "a9317586",
   "metadata": {},
   "source": [
    "<font color='OrangeRed'>**Análise dados de treino**"
   ]
  },
  {
   "cell_type": "code",
   "execution_count": 262,
   "id": "b6445e23",
   "metadata": {},
   "outputs": [
    {
     "data": {
      "text/plain": [
       "array([0, 1, 1, 0, 0, 0, 0, 1, 0, 0, 1, 1, 0, 0, 0, 0, 0, 1, 0, 0, 1, 0,\n",
       "       0, 0, 0, 0, 0, 0, 0, 0, 0, 0, 1, 0, 0, 1, 0, 0, 1, 1, 0, 0, 0, 0,\n",
       "       1, 0, 0, 1, 0, 0, 1, 0, 0, 1, 0, 0, 0, 1, 0, 0, 1, 1, 1, 1, 1, 1,\n",
       "       1, 0, 0, 0, 0, 0, 0, 0, 0, 0, 0, 1, 0, 1, 1, 0, 1, 1, 1, 0, 0, 0,\n",
       "       0, 0, 1, 0, 0, 0, 0, 1, 1, 0, 0, 1, 0, 1, 0, 1, 1, 0, 1, 1, 1, 0,\n",
       "       0, 1, 0, 0, 0, 0, 0, 0, 0, 1, 0, 1, 0, 0, 1, 1, 0, 0, 0, 1, 0, 0,\n",
       "       1, 0, 0, 0, 1, 0, 0, 0, 0, 0, 0, 0, 0, 0, 1, 0, 0, 0, 1, 1, 1, 0,\n",
       "       0, 0, 0, 0, 0, 1, 1, 1, 0, 0, 1, 0, 1, 1, 0, 0, 0, 1, 0, 1, 0, 0,\n",
       "       1, 0, 0, 1, 1, 0, 0, 1, 0, 1, 0, 0, 1, 1, 0, 1, 1, 0, 1, 0, 1, 0,\n",
       "       0, 0, 0, 0, 1, 0, 0, 0, 1, 0, 0, 0, 1, 0, 0, 0, 0, 0, 0, 0, 1, 0,\n",
       "       1, 1, 0, 0, 0, 1, 1, 0, 0, 0, 0, 0, 1, 0, 1, 0, 0, 1, 0, 0, 0, 0,\n",
       "       0, 1, 0, 0, 0, 0, 0, 0, 0, 1, 1, 1, 0, 1, 1, 1, 1, 0, 0, 0, 0, 1,\n",
       "       0, 1, 0, 0, 0, 1, 1, 1, 1, 0, 1, 0, 0, 1, 1, 0, 1, 1, 0, 1, 1, 1,\n",
       "       1, 0, 0, 0, 0, 1, 0, 0, 1, 0, 1, 1, 0, 0, 0, 1, 0, 0, 0, 1, 0, 0,\n",
       "       1, 0, 0, 1, 0, 1, 0, 1, 0, 1, 1, 1, 0, 1, 0, 0, 1, 0, 1, 0, 1, 1,\n",
       "       1, 1, 0, 0, 1, 0, 1, 0, 0, 0, 0, 0, 1, 0, 0, 1, 1, 1, 0, 0, 1, 0,\n",
       "       0, 0, 1, 0, 0, 0, 0, 0, 0, 0, 0, 0, 0, 0, 0, 1, 1, 0, 0, 0, 0, 1,\n",
       "       0, 0, 0, 0, 0, 0, 1, 0, 0, 0, 0, 0, 1, 1, 1, 0, 0, 1, 0, 0, 0, 1,\n",
       "       0, 1])"
      ]
     },
     "execution_count": 262,
     "metadata": {},
     "output_type": "execute_result"
    }
   ],
   "source": [
    "previsoes_treino = naive.predict(x_treino)\n",
    "previsoes_treino"
   ]
  },
  {
   "cell_type": "code",
   "execution_count": 263,
   "id": "f45c98a9",
   "metadata": {},
   "outputs": [
    {
     "name": "stdout",
     "output_type": "stream",
     "text": [
      "Acurácia: 93.97%\n"
     ]
    }
   ],
   "source": [
    "print(\"Acurácia: %.2f%%\" % (accuracy_score(y_treino, previsoes_treino) * 100.0))\n",
    "#accuracy_score(y_treino, previsoes_treino)"
   ]
  },
  {
   "cell_type": "code",
   "execution_count": 264,
   "id": "0561ddb0",
   "metadata": {},
   "outputs": [
    {
     "data": {
      "text/plain": [
       "array([[241,   9],\n",
       "       [ 15, 133]])"
      ]
     },
     "execution_count": 264,
     "metadata": {},
     "output_type": "execute_result"
    }
   ],
   "source": [
    "confusion_matrix(y_treino, previsoes_treino)"
   ]
  },
  {
   "cell_type": "markdown",
   "id": "647f37c4",
   "metadata": {},
   "source": [
    "<font color='MidnightBlue'>**com previsoes Acurácia teste: 92.40% e Acurácia treino: 94.22%**\n",
    "\n",
    "<font color='MidnightBlue'>**com previsoes_esc Acurácia teste: 94.74% e Acurácia treino: 93.97%%**   "
   ]
  },
  {
   "cell_type": "markdown",
   "id": "b4bc4c84",
   "metadata": {},
   "source": [
    "### <font color='OrangeRed'>**Validação Cruzada**"
   ]
  },
  {
   "cell_type": "code",
   "execution_count": 265,
   "id": "e2c8d182",
   "metadata": {},
   "outputs": [],
   "source": [
    "from sklearn.model_selection import KFold\n",
    "from sklearn.model_selection import cross_val_score"
   ]
  },
  {
   "cell_type": "code",
   "execution_count": 266,
   "id": "c6bb638b",
   "metadata": {},
   "outputs": [],
   "source": [
    "# Separando os dados em folds\n",
    "kfold = KFold(n_splits = 30, shuffle=True, random_state = 5)"
   ]
  },
  {
   "cell_type": "code",
   "execution_count": 267,
   "id": "c5241812",
   "metadata": {},
   "outputs": [
    {
     "data": {
      "text/plain": [
       "array([0.89473684, 0.89473684, 1.        , 0.94736842, 1.        ,\n",
       "       0.94736842, 0.94736842, 1.        , 0.94736842, 1.        ,\n",
       "       1.        , 0.94736842, 0.94736842, 0.94736842, 0.94736842,\n",
       "       1.        , 0.84210526, 0.89473684, 1.        , 0.94736842,\n",
       "       0.89473684, 0.78947368, 0.89473684, 1.        , 0.94736842,\n",
       "       1.        , 0.94736842, 0.94736842, 0.89473684, 0.77777778])"
      ]
     },
     "execution_count": 267,
     "metadata": {},
     "output_type": "execute_result"
    }
   ],
   "source": [
    "# Criando o modelo\n",
    "modelo = GaussianNB()\n",
    "resultado = cross_val_score(modelo, previsores, alvo, cv = kfold)\n",
    "resultado"
   ]
  },
  {
   "cell_type": "code",
   "execution_count": 268,
   "id": "100e4a55",
   "metadata": {},
   "outputs": [
    {
     "name": "stdout",
     "output_type": "stream",
     "text": [
      "Acurácia Média: 93.82%\n"
     ]
    }
   ],
   "source": [
    "# Usamos a média e o desvio padrão\n",
    "print(\"Acurácia Média: %.2f%%\" % (resultado.mean() * 100.0))"
   ]
  },
  {
   "cell_type": "markdown",
   "id": "df74c1e0",
   "metadata": {},
   "source": [
    "## <font color='DarkGreen'>**Naive Bayes = 94.74% (treino e teste) - 162 acertos e 93.82% (validação cruzada) - previsores**"
   ]
  },
  {
   "cell_type": "markdown",
   "id": "e5326fdc",
   "metadata": {},
   "source": [
    "## <font color='DarkRed'>**MÁQUINAS DE VETORES DE SUPORTE (SVM)**\n",
    "    \n",
    "https://scikit-learn.org/stable/modules/generated/sklearn.svm.SVC.html"
   ]
  },
  {
   "cell_type": "markdown",
   "id": "e2e31b27",
   "metadata": {},
   "source": [
    "### <font color='OrangeRed'>**Ajuste do algoritmo - Ajuste do SVM**\n",
    "    \n",
    "<font color='MidnightBlue'>**Vamos nos concentrar no SVM para o ajuste do algoritmo. Podemos ajustar dois parâmetros-chave do algoritmo SVM - o valor de C e o tipo de kernel. O padrão C para SVM é 1.0 e o kernel é Radial Basis Function (RBF). Usaremos o método de pesquisa em grade usando validação cruzada com uma cópia padronizada do conjunto de dados de treinamento de amostra. Vamos tentar uma combinação de valores C e os seguintes tipos de kernel 'linear', 'poly', 'rbf' e 'sigmoid**"
   ]
  },
  {
   "cell_type": "code",
   "execution_count": 38,
   "id": "98edcab2",
   "metadata": {},
   "outputs": [],
   "source": [
    "from sklearn.svm import SVC"
   ]
  },
  {
   "cell_type": "code",
   "execution_count": 39,
   "id": "f1d66733",
   "metadata": {},
   "outputs": [
    {
     "data": {
      "text/plain": [
       "SVC(C=2, random_state=5)"
      ]
     },
     "execution_count": 39,
     "metadata": {},
     "output_type": "execute_result"
    }
   ],
   "source": [
    "#svm = SVC(kernel='linear', random_state=1, C = 2) \n",
    "#svm = SVC(kernel='poly', random_state=1, C = 2) \n",
    "#svm = SVC(kernel='sigmoid', random_state=1, C = 2) \n",
    "#svm = SVC(kernel='precomputed', random_state=1, C = 2) no funciona\n",
    "svm = SVC(kernel='rbf', random_state=5, C = 2) #melhor para resultados e menor tempo computacional\n",
    "svm.fit(x_treino, y_treino)"
   ]
  },
  {
   "cell_type": "code",
   "execution_count": 40,
   "id": "7e90891f",
   "metadata": {},
   "outputs": [
    {
     "data": {
      "text/plain": [
       "array([0, 0, 1, 1, 1, 0, 0, 0, 0, 0, 0, 0, 0, 0, 0, 1, 0, 0, 0, 0, 0, 1,\n",
       "       0, 1, 1, 0, 0, 0, 1, 0, 0, 0, 0, 0, 1, 0, 0, 1, 1, 1, 0, 1, 0, 0,\n",
       "       0, 1, 0, 0, 0, 0, 0, 0, 0, 1, 0, 1, 1, 1, 1, 0, 0, 1, 0, 1, 1, 1,\n",
       "       0, 0, 1, 0, 1, 1, 0, 1, 1, 0, 0, 0, 1, 1, 0, 0, 0, 0, 0, 0, 0, 0,\n",
       "       1, 1, 0, 0, 1, 1, 1, 0, 0, 0, 1, 0, 0, 0, 0, 0, 1, 0, 0, 0, 0, 1,\n",
       "       1, 0, 0, 1, 0, 1, 1, 0, 0, 0, 0, 0, 1, 0, 0, 0, 0, 1, 0, 0, 0, 1,\n",
       "       0, 1, 0, 0, 1, 0, 0, 0, 1, 1, 1, 1, 0, 0, 0, 1, 1, 1, 1, 0, 1, 0,\n",
       "       0, 0, 1, 1, 0, 1, 1, 1, 0, 0, 0, 1, 0, 0, 1, 0, 0])"
      ]
     },
     "execution_count": 40,
     "metadata": {},
     "output_type": "execute_result"
    }
   ],
   "source": [
    "previsoes_svm = svm.predict(x_teste)\n",
    "previsoes_svm"
   ]
  },
  {
   "cell_type": "code",
   "execution_count": 41,
   "id": "c5a0c8f0",
   "metadata": {},
   "outputs": [
    {
     "data": {
      "text/plain": [
       "array([0, 0, 1, 1, 1, 0, 0, 0, 0, 0, 0, 0, 0, 0, 0, 1, 0, 0, 0, 0, 0, 1,\n",
       "       0, 1, 1, 0, 0, 0, 1, 0, 0, 0, 0, 0, 1, 0, 0, 1, 0, 1, 0, 1, 0, 0,\n",
       "       0, 1, 0, 0, 0, 0, 0, 0, 0, 1, 0, 1, 1, 1, 1, 0, 0, 1, 0, 1, 1, 1,\n",
       "       0, 0, 1, 0, 1, 1, 0, 1, 1, 0, 0, 0, 1, 1, 0, 0, 0, 0, 0, 0, 0, 0,\n",
       "       1, 1, 0, 0, 1, 1, 1, 0, 0, 0, 1, 0, 0, 0, 0, 0, 1, 0, 0, 0, 0, 1,\n",
       "       1, 0, 0, 1, 0, 1, 1, 0, 0, 0, 0, 0, 1, 0, 0, 0, 0, 1, 0, 0, 0, 1,\n",
       "       0, 1, 0, 1, 1, 0, 0, 0, 1, 1, 1, 1, 0, 0, 0, 1, 1, 1, 1, 0, 1, 1,\n",
       "       0, 0, 1, 1, 0, 1, 1, 1, 0, 0, 0, 1, 0, 0, 1, 0, 0])"
      ]
     },
     "execution_count": 41,
     "metadata": {},
     "output_type": "execute_result"
    }
   ],
   "source": [
    "y_teste"
   ]
  },
  {
   "cell_type": "code",
   "execution_count": 42,
   "id": "0d0ac0ff",
   "metadata": {},
   "outputs": [],
   "source": [
    "from sklearn.metrics import accuracy_score, confusion_matrix, classification_report"
   ]
  },
  {
   "cell_type": "code",
   "execution_count": 43,
   "id": "a54fe50f",
   "metadata": {},
   "outputs": [
    {
     "name": "stdout",
     "output_type": "stream",
     "text": [
      "Acurácia: 98.25%\n"
     ]
    }
   ],
   "source": [
    "print(\"Acurácia: %.2f%%\" % (accuracy_score(y_teste, previsoes_svm) * 100.0))"
   ]
  },
  {
   "cell_type": "code",
   "execution_count": 44,
   "id": "73ade1bc",
   "metadata": {},
   "outputs": [
    {
     "data": {
      "text/plain": [
       "array([[106,   1],\n",
       "       [  2,  62]])"
      ]
     },
     "execution_count": 44,
     "metadata": {},
     "output_type": "execute_result"
    }
   ],
   "source": [
    "confusion_matrix(y_teste, previsoes_svm)"
   ]
  },
  {
   "cell_type": "code",
   "execution_count": 45,
   "id": "f1d924d7",
   "metadata": {},
   "outputs": [
    {
     "name": "stdout",
     "output_type": "stream",
     "text": [
      "Confusion Matrix: \n",
      " [[106   1]\n",
      " [  2  62]] \n",
      "\n",
      "True Negative: 106\n",
      "False Positive: 1\n",
      "False Negative: 2\n",
      "True Positive: 62\n"
     ]
    }
   ],
   "source": [
    "# Dando uma olhada nos pontos classificados incorretamente para SVC\n",
    "cfm = confusion_matrix(y_teste, previsoes_svm)\n",
    "true_negative = cfm[0][0]\n",
    "false_positive = cfm[0][1]\n",
    "false_negative = cfm[1][0]\n",
    "true_positive = cfm[1][1]\n",
    "\n",
    "print('Confusion Matrix: \\n', cfm, '\\n')\n",
    "\n",
    "print('True Negative:', true_negative)\n",
    "print('False Positive:', false_positive)\n",
    "print('False Negative:', false_negative)\n",
    "print('True Positive:', true_positive)"
   ]
  },
  {
   "cell_type": "code",
   "execution_count": 46,
   "id": "d57b1678",
   "metadata": {},
   "outputs": [
    {
     "name": "stdout",
     "output_type": "stream",
     "text": [
      "              precision    recall  f1-score   support\n",
      "\n",
      "           0       0.98      0.99      0.99       107\n",
      "           1       0.98      0.97      0.98        64\n",
      "\n",
      "    accuracy                           0.98       171\n",
      "   macro avg       0.98      0.98      0.98       171\n",
      "weighted avg       0.98      0.98      0.98       171\n",
      "\n"
     ]
    }
   ],
   "source": [
    "print(classification_report(y_teste, previsoes_svm))"
   ]
  },
  {
   "cell_type": "markdown",
   "id": "3b9ca45b",
   "metadata": {},
   "source": [
    "<font color='OrangeRed'>**Análise dados de treino**"
   ]
  },
  {
   "cell_type": "code",
   "execution_count": 47,
   "id": "273a95c1",
   "metadata": {},
   "outputs": [
    {
     "data": {
      "text/plain": [
       "array([0, 1, 1, 0, 0, 0, 0, 1, 0, 0, 1, 1, 0, 0, 0, 0, 0, 1, 0, 0, 1, 1,\n",
       "       0, 0, 0, 0, 0, 0, 0, 0, 0, 0, 1, 0, 0, 0, 0, 0, 1, 1, 0, 0, 1, 0,\n",
       "       1, 0, 0, 1, 0, 0, 1, 0, 0, 1, 0, 0, 0, 1, 1, 0, 0, 0, 1, 1, 1, 1,\n",
       "       1, 0, 0, 0, 0, 0, 0, 0, 0, 0, 0, 1, 0, 0, 1, 0, 1, 1, 1, 0, 0, 0,\n",
       "       0, 0, 1, 0, 0, 0, 0, 1, 1, 0, 0, 1, 0, 1, 0, 1, 1, 0, 1, 0, 1, 0,\n",
       "       0, 1, 0, 0, 0, 0, 0, 0, 0, 0, 0, 1, 0, 0, 1, 1, 0, 0, 0, 1, 0, 0,\n",
       "       1, 0, 0, 0, 1, 0, 0, 0, 0, 0, 0, 0, 0, 0, 1, 0, 0, 0, 1, 1, 1, 0,\n",
       "       0, 0, 0, 0, 0, 1, 1, 1, 0, 0, 1, 1, 1, 1, 0, 0, 0, 1, 0, 1, 0, 0,\n",
       "       1, 0, 0, 1, 1, 0, 0, 1, 0, 1, 0, 0, 1, 1, 0, 1, 1, 0, 1, 0, 1, 0,\n",
       "       0, 0, 0, 0, 1, 0, 0, 0, 1, 0, 0, 0, 1, 0, 0, 0, 0, 1, 0, 0, 1, 0,\n",
       "       1, 1, 0, 0, 0, 1, 1, 0, 0, 0, 0, 0, 0, 0, 1, 0, 0, 1, 0, 0, 0, 0,\n",
       "       0, 1, 0, 0, 0, 0, 0, 0, 0, 1, 1, 1, 0, 1, 1, 1, 1, 0, 0, 0, 0, 1,\n",
       "       1, 1, 0, 0, 0, 1, 1, 1, 1, 1, 1, 0, 0, 1, 1, 0, 1, 1, 0, 1, 1, 1,\n",
       "       1, 0, 0, 0, 0, 0, 0, 0, 1, 0, 1, 1, 1, 0, 0, 1, 0, 0, 0, 1, 0, 0,\n",
       "       1, 0, 0, 1, 0, 1, 0, 1, 0, 1, 1, 1, 0, 1, 0, 0, 1, 0, 1, 0, 1, 1,\n",
       "       1, 1, 0, 0, 1, 1, 1, 0, 0, 0, 0, 0, 1, 0, 0, 1, 1, 1, 0, 0, 1, 0,\n",
       "       0, 0, 0, 0, 0, 0, 0, 0, 0, 0, 0, 0, 0, 0, 0, 1, 1, 0, 0, 0, 0, 1,\n",
       "       0, 0, 0, 0, 0, 0, 1, 0, 1, 0, 0, 0, 1, 1, 1, 0, 0, 1, 0, 0, 0, 1,\n",
       "       0, 1])"
      ]
     },
     "execution_count": 47,
     "metadata": {},
     "output_type": "execute_result"
    }
   ],
   "source": [
    "previsoes_treino = svm.predict(x_treino)\n",
    "previsoes_treino"
   ]
  },
  {
   "cell_type": "code",
   "execution_count": 48,
   "id": "8feffb9b",
   "metadata": {},
   "outputs": [
    {
     "name": "stdout",
     "output_type": "stream",
     "text": [
      "Acurácia: 98.74%\n"
     ]
    }
   ],
   "source": [
    "print(\"Acurácia: %.2f%%\" % (accuracy_score(y_treino, previsoes_treino)* 100.0))"
   ]
  },
  {
   "cell_type": "code",
   "execution_count": 49,
   "id": "39da6d4d",
   "metadata": {},
   "outputs": [
    {
     "data": {
      "text/plain": [
       "array([[250,   0],\n",
       "       [  5, 143]])"
      ]
     },
     "execution_count": 49,
     "metadata": {},
     "output_type": "execute_result"
    }
   ],
   "source": [
    "confusion_matrix(y_treino, previsoes_treino)"
   ]
  },
  {
   "cell_type": "markdown",
   "id": "d587fbfd",
   "metadata": {},
   "source": [
    "### <font color='OrangeRed'>**Validação Cruzada**"
   ]
  },
  {
   "cell_type": "code",
   "execution_count": 50,
   "id": "edf0daaf",
   "metadata": {},
   "outputs": [],
   "source": [
    "from sklearn.model_selection import KFold\n",
    "from sklearn.model_selection import cross_val_score"
   ]
  },
  {
   "cell_type": "code",
   "execution_count": 51,
   "id": "347690d0",
   "metadata": {},
   "outputs": [],
   "source": [
    "# Separando os dados em folds\n",
    "kfold = KFold(n_splits = 30, shuffle=True, random_state = 5)"
   ]
  },
  {
   "cell_type": "code",
   "execution_count": 52,
   "id": "3ec724cb",
   "metadata": {},
   "outputs": [],
   "source": [
    "# Criando o modelo Ojo demora en executar\n",
    "modelo = SVC(kernel='rbf', random_state=1, C = 2) \n",
    "resultado = cross_val_score(modelo, previsores_esc, alvo, cv = kfold)"
   ]
  },
  {
   "cell_type": "code",
   "execution_count": 53,
   "id": "f837f95b",
   "metadata": {},
   "outputs": [
    {
     "name": "stdout",
     "output_type": "stream",
     "text": [
      "Acurácia Média: 97.88%\n"
     ]
    }
   ],
   "source": [
    "# Usamos a média e o desvio padrão\n",
    "print(\"Acurácia Média: %.2f%%\" % (resultado.mean() * 100.0))"
   ]
  },
  {
   "cell_type": "markdown",
   "id": "6adbe91d",
   "metadata": {},
   "source": [
    "### <font color='DarkGreen'>**Naive Bayes = 94.74% (treino e teste) - 162 acertos e 93.82% (validação cruzada) - previsores**\n",
    "    \n",
    "### <font color='DarkGreen'>**SVM = 98.25% - 168 acertos e 97.88% (validação cruzada) : previsores_esc - SVC(kernel='rbf', random_state=5, C =2)**  \n",
    "    \n",
    "<font color='DarkGreen'>**Observe a melhoria drástica do SVM após o uso de dados escalonados (Padronizado)**    "
   ]
  },
  {
   "cell_type": "markdown",
   "id": "583d8076",
   "metadata": {},
   "source": [
    "## <font color='DarkRed'>**REGRESSÃO LOGÍSTICA**\n",
    "    \n",
    "https://scikit-learn.org/stable/modules/generated/sklearn.linear_model.LogisticRegression.html"
   ]
  },
  {
   "cell_type": "code",
   "execution_count": 54,
   "id": "0150ee8e",
   "metadata": {},
   "outputs": [],
   "source": [
    "from sklearn.linear_model import LogisticRegression"
   ]
  },
  {
   "cell_type": "code",
   "execution_count": 105,
   "id": "6c2ea274",
   "metadata": {},
   "outputs": [
    {
     "data": {
      "text/plain": [
       "LogisticRegression(C=1, max_iter=500, random_state=1)"
      ]
     },
     "execution_count": 105,
     "metadata": {},
     "output_type": "execute_result"
    }
   ],
   "source": [
    "logistica = LogisticRegression(random_state=1, max_iter=500, penalty=\"l2\",tol=0.0001, C=1,solver=\"lbfgs\")\n",
    "logistica.fit(x_treino, y_treino)"
   ]
  },
  {
   "cell_type": "code",
   "execution_count": 106,
   "id": "4a27d62d",
   "metadata": {},
   "outputs": [
    {
     "data": {
      "text/plain": [
       "array([-0.1196075])"
      ]
     },
     "execution_count": 106,
     "metadata": {},
     "output_type": "execute_result"
    }
   ],
   "source": [
    "logistica.intercept_"
   ]
  },
  {
   "cell_type": "code",
   "execution_count": 107,
   "id": "5facb3d8",
   "metadata": {},
   "outputs": [
    {
     "data": {
      "text/plain": [
       "array([[ 0.35624576,  0.18995408,  0.34643466,  0.46552366,  0.03920905,\n",
       "        -0.38957787,  0.85859252,  0.84465922, -0.16392157,  0.00845141,\n",
       "         1.30249271,  0.168698  ,  0.86802525,  1.0234616 , -0.25678515,\n",
       "        -0.72789963, -0.18268702, -0.01862866, -0.04063224, -0.58661165,\n",
       "         0.99273783,  0.92956037,  0.83693425,  1.00774835,  1.04825135,\n",
       "        -0.14139265,  0.82998533,  0.6891756 ,  0.50236883,  0.65089407]])"
      ]
     },
     "execution_count": 107,
     "metadata": {},
     "output_type": "execute_result"
    }
   ],
   "source": [
    "logistica.coef_"
   ]
  },
  {
   "cell_type": "code",
   "execution_count": 108,
   "id": "54d583eb",
   "metadata": {},
   "outputs": [
    {
     "data": {
      "text/plain": [
       "array([0, 0, 1, 1, 1, 0, 0, 0, 0, 0, 0, 0, 0, 0, 0, 0, 0, 0, 0, 0, 0, 1,\n",
       "       0, 1, 1, 0, 0, 0, 1, 0, 0, 0, 0, 0, 1, 0, 0, 1, 0, 1, 0, 1, 0, 0,\n",
       "       0, 1, 0, 0, 0, 0, 0, 0, 0, 1, 0, 1, 1, 1, 1, 0, 0, 1, 0, 1, 1, 1,\n",
       "       0, 0, 1, 0, 1, 1, 0, 1, 1, 0, 0, 0, 1, 1, 0, 0, 0, 0, 0, 0, 0, 0,\n",
       "       1, 1, 0, 0, 0, 1, 1, 0, 0, 0, 1, 0, 0, 0, 0, 0, 1, 0, 0, 0, 0, 1,\n",
       "       1, 0, 0, 1, 0, 1, 1, 0, 0, 0, 0, 0, 1, 0, 0, 0, 0, 1, 0, 0, 0, 1,\n",
       "       0, 0, 0, 1, 1, 0, 0, 0, 1, 1, 1, 1, 0, 0, 0, 1, 1, 1, 1, 0, 1, 0,\n",
       "       0, 0, 1, 1, 0, 1, 1, 1, 0, 0, 0, 1, 0, 0, 1, 0, 0])"
      ]
     },
     "execution_count": 108,
     "metadata": {},
     "output_type": "execute_result"
    }
   ],
   "source": [
    "previsoes_logistica = logistica.predict(x_teste)\n",
    "previsoes_logistica"
   ]
  },
  {
   "cell_type": "code",
   "execution_count": 109,
   "id": "32a92dc3",
   "metadata": {},
   "outputs": [],
   "source": [
    "from sklearn.metrics import accuracy_score, confusion_matrix, classification_report"
   ]
  },
  {
   "cell_type": "code",
   "execution_count": 110,
   "id": "fe95ea4c",
   "metadata": {},
   "outputs": [
    {
     "name": "stdout",
     "output_type": "stream",
     "text": [
      "Acurácia: 97.66%\n"
     ]
    }
   ],
   "source": [
    "print(\"Acurácia: %.2f%%\" % (accuracy_score(y_teste, previsoes_logistica) * 100.0))"
   ]
  },
  {
   "cell_type": "code",
   "execution_count": 111,
   "id": "3e84ac67",
   "metadata": {},
   "outputs": [
    {
     "data": {
      "text/plain": [
       "array([[107,   0],\n",
       "       [  4,  60]])"
      ]
     },
     "execution_count": 111,
     "metadata": {},
     "output_type": "execute_result"
    }
   ],
   "source": [
    "confusion_matrix(y_teste, previsoes_logistica)"
   ]
  },
  {
   "cell_type": "code",
   "execution_count": 112,
   "id": "0fdf829e",
   "metadata": {},
   "outputs": [
    {
     "name": "stdout",
     "output_type": "stream",
     "text": [
      "              precision    recall  f1-score   support\n",
      "\n",
      "           0       0.96      1.00      0.98       107\n",
      "           1       1.00      0.94      0.97        64\n",
      "\n",
      "    accuracy                           0.98       171\n",
      "   macro avg       0.98      0.97      0.97       171\n",
      "weighted avg       0.98      0.98      0.98       171\n",
      "\n"
     ]
    }
   ],
   "source": [
    "print(classification_report(y_teste, previsoes_logistica))"
   ]
  },
  {
   "cell_type": "markdown",
   "id": "b3fcd0e9",
   "metadata": {},
   "source": [
    "### <font color='OrangeRed'>**Análise dados de treino**"
   ]
  },
  {
   "cell_type": "code",
   "execution_count": 113,
   "id": "9ad67bf9",
   "metadata": {},
   "outputs": [
    {
     "data": {
      "text/plain": [
       "array([0, 1, 1, 0, 0, 0, 0, 1, 0, 1, 1, 1, 0, 0, 0, 0, 0, 1, 0, 0, 1, 1,\n",
       "       0, 0, 0, 0, 0, 0, 0, 0, 0, 0, 1, 0, 0, 0, 0, 0, 1, 1, 0, 0, 1, 0,\n",
       "       1, 0, 0, 1, 0, 0, 1, 0, 0, 1, 0, 0, 0, 1, 1, 0, 0, 0, 1, 1, 1, 1,\n",
       "       1, 0, 0, 0, 0, 0, 0, 0, 0, 0, 0, 1, 0, 0, 1, 0, 1, 1, 1, 0, 0, 0,\n",
       "       0, 0, 1, 0, 0, 0, 0, 1, 1, 0, 0, 1, 0, 1, 0, 1, 1, 0, 1, 0, 1, 0,\n",
       "       0, 1, 0, 0, 0, 0, 0, 0, 0, 0, 0, 1, 0, 0, 1, 1, 0, 0, 0, 1, 0, 0,\n",
       "       1, 0, 0, 0, 1, 0, 0, 0, 0, 0, 0, 0, 0, 0, 1, 0, 0, 0, 1, 1, 1, 0,\n",
       "       0, 0, 0, 0, 0, 1, 1, 1, 0, 0, 1, 1, 1, 1, 0, 0, 0, 1, 0, 1, 0, 0,\n",
       "       1, 0, 0, 1, 1, 0, 0, 1, 0, 1, 0, 0, 1, 1, 0, 1, 1, 0, 1, 0, 1, 0,\n",
       "       0, 0, 0, 0, 1, 0, 0, 0, 1, 0, 0, 0, 1, 0, 0, 0, 0, 1, 0, 0, 1, 0,\n",
       "       1, 1, 0, 0, 0, 1, 1, 0, 0, 0, 0, 0, 0, 0, 1, 0, 0, 1, 0, 0, 0, 0,\n",
       "       0, 1, 0, 0, 0, 0, 0, 0, 0, 1, 1, 1, 0, 1, 1, 1, 1, 0, 0, 0, 0, 1,\n",
       "       1, 1, 0, 0, 0, 1, 1, 1, 1, 1, 1, 0, 0, 1, 1, 0, 1, 1, 0, 1, 1, 1,\n",
       "       1, 0, 0, 0, 0, 0, 0, 0, 1, 0, 1, 1, 1, 0, 0, 1, 0, 0, 0, 1, 0, 0,\n",
       "       1, 0, 0, 1, 0, 1, 0, 1, 0, 1, 1, 1, 0, 1, 0, 0, 1, 0, 1, 0, 1, 1,\n",
       "       1, 1, 0, 0, 1, 1, 1, 0, 0, 0, 0, 0, 1, 0, 0, 1, 1, 1, 0, 0, 1, 0,\n",
       "       0, 0, 0, 0, 0, 0, 0, 0, 0, 0, 0, 0, 0, 0, 0, 1, 1, 0, 0, 0, 0, 1,\n",
       "       0, 0, 0, 0, 0, 0, 1, 0, 1, 0, 0, 0, 1, 1, 1, 0, 0, 1, 0, 0, 0, 1,\n",
       "       0, 1])"
      ]
     },
     "execution_count": 113,
     "metadata": {},
     "output_type": "execute_result"
    }
   ],
   "source": [
    "previsoes_treino = logistica.predict(x_treino)\n",
    "previsoes_treino"
   ]
  },
  {
   "cell_type": "code",
   "execution_count": 114,
   "id": "a3b3ddcc",
   "metadata": {},
   "outputs": [
    {
     "name": "stdout",
     "output_type": "stream",
     "text": [
      "Acurácia: 98.99%\n"
     ]
    }
   ],
   "source": [
    "print(\"Acurácia: %.2f%%\" % (accuracy_score(y_treino, previsoes_treino)* 100.0))\n",
    "#accuracy_score(y_treino, previsoes_treino)"
   ]
  },
  {
   "cell_type": "code",
   "execution_count": 142,
   "id": "2b60e1bf",
   "metadata": {},
   "outputs": [
    {
     "name": "stdout",
     "output_type": "stream",
     "text": [
      "Confusion Matrix: \n",
      " [[250   0]\n",
      " [  4 144]] \n",
      "\n",
      "True Negative: 250\n",
      "False Positive: 0\n",
      "False Negative: 4\n",
      "True Positive: 144\n"
     ]
    }
   ],
   "source": [
    "cfm = confusion_matrix(y_treino, previsoes_treino)\n",
    "#cfm = confusion_matrix(y_teste, previsoes_svm)\n",
    "true_negative = cfm[0][0]\n",
    "false_positive = cfm[0][1]\n",
    "false_negative = cfm[1][0]\n",
    "true_positive = cfm[1][1]\n",
    "\n",
    "print('Confusion Matrix: \\n', cfm, '\\n')\n",
    "\n",
    "print('True Negative:', true_negative)\n",
    "print('False Positive:', false_positive)\n",
    "print('False Negative:', false_negative)\n",
    "print('True Positive:', true_positive)"
   ]
  },
  {
   "cell_type": "markdown",
   "id": "983adab4",
   "metadata": {},
   "source": [
    "## <font color='OrangeRed'>**Validação Cruzada**"
   ]
  },
  {
   "cell_type": "code",
   "execution_count": 116,
   "id": "778c3c79",
   "metadata": {},
   "outputs": [],
   "source": [
    "from sklearn.model_selection import KFold\n",
    "from sklearn.model_selection import cross_val_score"
   ]
  },
  {
   "cell_type": "code",
   "execution_count": 117,
   "id": "75d4b22c",
   "metadata": {},
   "outputs": [],
   "source": [
    "# Separando os dados em folds\n",
    "kfold = KFold(n_splits = 30, shuffle=True, random_state = 5)"
   ]
  },
  {
   "cell_type": "code",
   "execution_count": 119,
   "id": "7903cf1e",
   "metadata": {},
   "outputs": [
    {
     "name": "stdout",
     "output_type": "stream",
     "text": [
      "Acurácia Média: 98.06%\n"
     ]
    }
   ],
   "source": [
    "# Criando o modelo\n",
    "modelo = LogisticRegression(random_state=1, max_iter=500, penalty=\"l2\",tol=0.0001, C=1,solver=\"lbfgs\")\n",
    "resultado = cross_val_score(modelo, previsores_esc, alvo, cv = kfold)\n",
    "\n",
    "# Usamos a média e o desvio padrão\n",
    "print(\"Acurácia Média: %.2f%%\" % (resultado.mean() * 100.0))"
   ]
  },
  {
   "cell_type": "markdown",
   "id": "f43b0027",
   "metadata": {},
   "source": [
    "### <font color='DarkGreen'>**Naive Bayes = 94.74% (treino e teste) - 162 acertos e 93.82% (validação cruzada) - previsores**\n",
    "    \n",
    "### <font color='DarkGreen'>**SVM = 98.25% - 168 acertos e 97.88% (validação cruzada) : previsores_esc - SVC(kernel='rbf', random_state=5, C =2)**  \n",
    "    \n",
    "### <font color='DarkGreen'>**Regressão logística = 97.66%, - 167 acertos e 98.06% (validação cruzada): previsores_esc - LogisticRegression(random_state=1, max_iter=500, penalty=\"l2\", tol=0.0001, C=1,solver=\"lbfgs\")**    "
   ]
  },
  {
   "cell_type": "markdown",
   "id": "2811e274",
   "metadata": {},
   "source": [
    "## <font color='DarkRed'>**APRENDIZAGEM BASEADA EM INSTÂNCIAS (KNN)**\n",
    "    \n",
    "https://scikit-learn.org/stable/modules/generated/sklearn.neighbors.KNeighborsClassifier.html    "
   ]
  },
  {
   "cell_type": "code",
   "execution_count": 150,
   "id": "b8dc2673",
   "metadata": {},
   "outputs": [],
   "source": [
    "from sklearn.neighbors import KNeighborsClassifier"
   ]
  },
  {
   "cell_type": "code",
   "execution_count": 205,
   "id": "330bbac8",
   "metadata": {},
   "outputs": [
    {
     "data": {
      "text/plain": [
       "KNeighborsClassifier(n_neighbors=7, p=1)"
      ]
     },
     "execution_count": 205,
     "metadata": {},
     "output_type": "execute_result"
    }
   ],
   "source": [
    "knn = KNeighborsClassifier(n_neighbors=7, metric='minkowski', p=1)\n",
    "knn.fit(x_treino, y_treino)"
   ]
  },
  {
   "cell_type": "markdown",
   "id": "b640176f",
   "metadata": {},
   "source": [
    "https://scikit-learn.org/stable/modules/generated/sklearn.metrics.DistanceMetric.html"
   ]
  },
  {
   "cell_type": "code",
   "execution_count": 206,
   "id": "f391d020",
   "metadata": {},
   "outputs": [
    {
     "data": {
      "text/plain": [
       "array([0, 0, 1, 1, 1, 0, 0, 0, 0, 0, 0, 0, 0, 0, 0, 1, 0, 0, 0, 0, 0, 1,\n",
       "       0, 1, 0, 0, 0, 0, 1, 0, 0, 0, 0, 0, 1, 0, 1, 1, 0, 1, 0, 1, 0, 0,\n",
       "       0, 1, 0, 0, 0, 0, 0, 0, 0, 0, 0, 1, 1, 1, 1, 0, 0, 1, 0, 1, 1, 1,\n",
       "       0, 0, 1, 0, 1, 1, 0, 0, 1, 0, 0, 0, 1, 1, 0, 0, 0, 0, 0, 0, 0, 0,\n",
       "       1, 1, 0, 0, 0, 1, 1, 0, 0, 0, 1, 0, 0, 0, 0, 0, 1, 0, 0, 0, 0, 1,\n",
       "       1, 0, 0, 1, 0, 1, 1, 0, 0, 0, 0, 0, 1, 0, 0, 0, 0, 1, 0, 0, 0, 1,\n",
       "       0, 1, 0, 1, 1, 0, 0, 0, 0, 1, 1, 1, 0, 0, 0, 1, 1, 1, 1, 0, 1, 0,\n",
       "       0, 0, 1, 1, 0, 1, 1, 1, 0, 0, 0, 1, 0, 0, 1, 0, 0])"
      ]
     },
     "execution_count": 206,
     "metadata": {},
     "output_type": "execute_result"
    }
   ],
   "source": [
    "previsoes_knn = knn.predict(x_teste)\n",
    "previsoes_knn"
   ]
  },
  {
   "cell_type": "code",
   "execution_count": 207,
   "id": "85ac6d69",
   "metadata": {},
   "outputs": [
    {
     "data": {
      "text/plain": [
       "array([0, 0, 1, 1, 1, 0, 0, 0, 0, 0, 0, 0, 0, 0, 0, 1, 0, 0, 0, 0, 0, 1,\n",
       "       0, 1, 1, 0, 0, 0, 1, 0, 0, 0, 0, 0, 1, 0, 0, 1, 0, 1, 0, 1, 0, 0,\n",
       "       0, 1, 0, 0, 0, 0, 0, 0, 0, 1, 0, 1, 1, 1, 1, 0, 0, 1, 0, 1, 1, 1,\n",
       "       0, 0, 1, 0, 1, 1, 0, 1, 1, 0, 0, 0, 1, 1, 0, 0, 0, 0, 0, 0, 0, 0,\n",
       "       1, 1, 0, 0, 1, 1, 1, 0, 0, 0, 1, 0, 0, 0, 0, 0, 1, 0, 0, 0, 0, 1,\n",
       "       1, 0, 0, 1, 0, 1, 1, 0, 0, 0, 0, 0, 1, 0, 0, 0, 0, 1, 0, 0, 0, 1,\n",
       "       0, 1, 0, 1, 1, 0, 0, 0, 1, 1, 1, 1, 0, 0, 0, 1, 1, 1, 1, 0, 1, 1,\n",
       "       0, 0, 1, 1, 0, 1, 1, 1, 0, 0, 0, 1, 0, 0, 1, 0, 0])"
      ]
     },
     "execution_count": 207,
     "metadata": {},
     "output_type": "execute_result"
    }
   ],
   "source": [
    "y_teste"
   ]
  },
  {
   "cell_type": "code",
   "execution_count": 208,
   "id": "d429cc23",
   "metadata": {},
   "outputs": [],
   "source": [
    "from sklearn.metrics import accuracy_score, confusion_matrix, classification_report"
   ]
  },
  {
   "cell_type": "code",
   "execution_count": 209,
   "id": "38a50afb",
   "metadata": {},
   "outputs": [
    {
     "name": "stdout",
     "output_type": "stream",
     "text": [
      "Acurácia: 95.91%\n"
     ]
    }
   ],
   "source": [
    "print(\"Acurácia: %.2f%%\" % (accuracy_score(y_teste, previsoes_knn) * 100.0))"
   ]
  },
  {
   "cell_type": "code",
   "execution_count": 210,
   "id": "67311bbe",
   "metadata": {},
   "outputs": [
    {
     "name": "stdout",
     "output_type": "stream",
     "text": [
      "Confusion Matrix: \n",
      " [[106   1]\n",
      " [  6  58]] \n",
      "\n",
      "True Negative: 106\n",
      "False Positive: 1\n",
      "False Negative: 6\n",
      "True Positive: 58\n"
     ]
    }
   ],
   "source": [
    "cfm = confusion_matrix(y_teste, previsoes_knn)\n",
    "true_negative = cfm[0][0]\n",
    "false_positive = cfm[0][1]\n",
    "false_negative = cfm[1][0]\n",
    "true_positive = cfm[1][1]\n",
    "\n",
    "print('Confusion Matrix: \\n', cfm, '\\n')\n",
    "\n",
    "print('True Negative:', true_negative)\n",
    "print('False Positive:', false_positive)\n",
    "print('False Negative:', false_negative)\n",
    "print('True Positive:', true_positive)"
   ]
  },
  {
   "cell_type": "code",
   "execution_count": 211,
   "id": "1f73b551",
   "metadata": {},
   "outputs": [
    {
     "name": "stdout",
     "output_type": "stream",
     "text": [
      "              precision    recall  f1-score   support\n",
      "\n",
      "           0       0.95      0.99      0.97       107\n",
      "           1       0.98      0.91      0.94        64\n",
      "\n",
      "    accuracy                           0.96       171\n",
      "   macro avg       0.96      0.95      0.96       171\n",
      "weighted avg       0.96      0.96      0.96       171\n",
      "\n"
     ]
    }
   ],
   "source": [
    "print(classification_report(y_teste, previsoes_knn))"
   ]
  },
  {
   "cell_type": "markdown",
   "id": "08ef34ec",
   "metadata": {},
   "source": [
    "### <font color='OrangeRed'>**Análise dados de treino**"
   ]
  },
  {
   "cell_type": "code",
   "execution_count": 212,
   "id": "5131a280",
   "metadata": {},
   "outputs": [
    {
     "data": {
      "text/plain": [
       "array([0, 1, 1, 0, 0, 0, 0, 1, 0, 0, 1, 1, 0, 0, 0, 0, 0, 1, 0, 0, 1, 1,\n",
       "       0, 0, 0, 0, 0, 0, 0, 0, 0, 0, 1, 0, 0, 0, 0, 0, 1, 1, 0, 0, 0, 0,\n",
       "       1, 0, 0, 1, 0, 0, 1, 0, 0, 1, 0, 0, 0, 1, 1, 0, 0, 0, 1, 1, 1, 1,\n",
       "       1, 0, 0, 0, 0, 0, 0, 0, 0, 0, 0, 1, 0, 1, 1, 0, 1, 1, 1, 0, 0, 0,\n",
       "       0, 0, 1, 0, 0, 0, 0, 1, 1, 0, 0, 1, 0, 1, 0, 1, 1, 0, 1, 0, 1, 0,\n",
       "       0, 1, 0, 0, 0, 0, 0, 0, 0, 0, 0, 1, 0, 0, 1, 1, 0, 0, 0, 1, 0, 0,\n",
       "       1, 0, 0, 0, 1, 0, 0, 0, 0, 0, 0, 0, 0, 0, 1, 0, 0, 0, 1, 1, 1, 0,\n",
       "       0, 0, 0, 0, 0, 1, 1, 1, 0, 0, 1, 1, 1, 1, 0, 0, 0, 1, 0, 1, 0, 0,\n",
       "       1, 0, 0, 1, 1, 0, 0, 1, 0, 1, 0, 0, 1, 1, 0, 1, 1, 0, 1, 0, 1, 0,\n",
       "       0, 0, 0, 0, 1, 0, 0, 0, 1, 0, 0, 0, 1, 0, 0, 0, 0, 1, 0, 0, 1, 0,\n",
       "       1, 1, 0, 0, 0, 1, 1, 0, 0, 0, 0, 0, 0, 0, 1, 0, 0, 1, 0, 0, 0, 0,\n",
       "       0, 1, 0, 0, 0, 0, 0, 0, 0, 1, 1, 1, 0, 1, 1, 0, 1, 0, 0, 0, 0, 1,\n",
       "       0, 1, 0, 0, 0, 1, 1, 1, 1, 1, 1, 0, 0, 1, 1, 0, 1, 1, 0, 1, 0, 1,\n",
       "       1, 0, 0, 0, 0, 1, 0, 0, 1, 0, 1, 1, 0, 0, 0, 1, 0, 0, 0, 1, 0, 0,\n",
       "       1, 0, 0, 1, 0, 1, 0, 1, 0, 1, 1, 1, 0, 1, 0, 0, 1, 0, 1, 0, 1, 1,\n",
       "       1, 1, 0, 0, 1, 1, 1, 0, 0, 0, 0, 0, 1, 0, 0, 1, 1, 1, 0, 0, 1, 0,\n",
       "       0, 0, 0, 0, 0, 0, 0, 0, 0, 0, 0, 0, 0, 0, 0, 1, 1, 0, 0, 0, 0, 1,\n",
       "       0, 0, 0, 0, 0, 0, 1, 0, 1, 0, 0, 0, 1, 1, 1, 0, 0, 1, 0, 0, 0, 1,\n",
       "       0, 1])"
      ]
     },
     "execution_count": 212,
     "metadata": {},
     "output_type": "execute_result"
    }
   ],
   "source": [
    "previsoes_treino = knn.predict(x_treino)\n",
    "previsoes_treino"
   ]
  },
  {
   "cell_type": "code",
   "execution_count": 213,
   "id": "7ba16e72",
   "metadata": {},
   "outputs": [
    {
     "name": "stdout",
     "output_type": "stream",
     "text": [
      "Acurácia: 96.98%\n"
     ]
    }
   ],
   "source": [
    "print(\"Acurácia: %.2f%%\" % (accuracy_score(y_treino, previsoes_treino) * 100.0))"
   ]
  },
  {
   "cell_type": "code",
   "execution_count": 214,
   "id": "0ad5aa7c",
   "metadata": {},
   "outputs": [
    {
     "data": {
      "text/plain": [
       "array([[248,   2],\n",
       "       [ 10, 138]])"
      ]
     },
     "execution_count": 214,
     "metadata": {},
     "output_type": "execute_result"
    }
   ],
   "source": [
    "confusion_matrix(y_treino, previsoes_treino)"
   ]
  },
  {
   "cell_type": "markdown",
   "id": "683cf1c8",
   "metadata": {},
   "source": [
    "## <font color='OrangeRed'>**Validação Cruzada**"
   ]
  },
  {
   "cell_type": "code",
   "execution_count": 215,
   "id": "da7cafc3",
   "metadata": {},
   "outputs": [],
   "source": [
    "from sklearn.model_selection import KFold\n",
    "from sklearn.model_selection import cross_val_score"
   ]
  },
  {
   "cell_type": "code",
   "execution_count": 217,
   "id": "005c42bf",
   "metadata": {},
   "outputs": [],
   "source": [
    "# Criando o modelo\n",
    "modelo = KNeighborsClassifier(n_neighbors=7, metric='minkowski', p = 1)\n",
    "resultado = cross_val_score(modelo, previsores_esc, alvo, cv = kfold)"
   ]
  },
  {
   "cell_type": "code",
   "execution_count": 218,
   "id": "78ae308c",
   "metadata": {},
   "outputs": [
    {
     "name": "stdout",
     "output_type": "stream",
     "text": [
      "Acurácia Média: 96.65%\n"
     ]
    }
   ],
   "source": [
    "# Usamos a média e o desvio padrão\n",
    "print(\"Acurácia Média: %.2f%%\" % (resultado.mean() * 100.0))"
   ]
  },
  {
   "cell_type": "markdown",
   "id": "5cf98340",
   "metadata": {},
   "source": [
    "### <font color='DarkGreen'>**Naive Bayes = 94.74% (treino e teste) - 162 acertos e 93.82% (validação cruzada) - previsores**\n",
    "    \n",
    "### <font color='DarkGreen'>**SVM = 98.25% - 168 acertos e 97.88% (validação cruzada) : previsores_esc - SVC(kernel='rbf', random_state=5, C =2)**  \n",
    "    \n",
    "### <font color='DarkGreen'>**Regressão logística = 97.66%, - 167 acertos e 98.06% (validação cruzada): previsores_esc - LogisticRegression(random_state=1, max_iter=500, penalty=\"l2\", tol=0.0001, C=1,solver=\"lbfgs\")**\n",
    "    \n",
    "### <font color='DarkGreen'>**KNN =  95.91% - 164 acertos e 96.65% (validação cruzada) : previsores_esc- KNeighborsClassifier(n_neighbors=7, metric='minkowski', p = 1)**    "
   ]
  },
  {
   "cell_type": "markdown",
   "id": "af3fd9a2",
   "metadata": {},
   "source": [
    "## <font color='DarkRed'>**ÁRVORE DE DECISÃO**\n",
    "    \n",
    "https://scikit-learn.org/stable/modules/tree.html    "
   ]
  },
  {
   "cell_type": "code",
   "execution_count": 219,
   "id": "c43f0b6e",
   "metadata": {},
   "outputs": [],
   "source": [
    "from sklearn.tree import DecisionTreeClassifier"
   ]
  },
  {
   "cell_type": "code",
   "execution_count": 274,
   "id": "b440d754",
   "metadata": {},
   "outputs": [
    {
     "data": {
      "text/plain": [
       "DecisionTreeClassifier(criterion='entropy', max_depth=3, random_state=5)"
      ]
     },
     "execution_count": 274,
     "metadata": {},
     "output_type": "execute_result"
    }
   ],
   "source": [
    "arvore = DecisionTreeClassifier(criterion='entropy', random_state = 5, max_depth=3)\n",
    "arvore.fit(x_treino, y_treino)"
   ]
  },
  {
   "cell_type": "code",
   "execution_count": 275,
   "id": "0615dad2",
   "metadata": {},
   "outputs": [
    {
     "data": {
      "text/plain": [
       "array([0, 0, 1, 1, 1, 0, 0, 0, 0, 0, 0, 0, 0, 0, 0, 1, 0, 0, 0, 0, 0, 1,\n",
       "       0, 1, 0, 0, 0, 0, 1, 0, 0, 0, 0, 0, 1, 0, 0, 1, 0, 1, 0, 1, 0, 0,\n",
       "       0, 0, 0, 0, 0, 0, 0, 0, 0, 0, 0, 1, 1, 1, 1, 0, 0, 1, 0, 1, 1, 1,\n",
       "       0, 0, 1, 0, 1, 1, 0, 1, 1, 0, 0, 0, 1, 1, 0, 0, 0, 0, 0, 0, 0, 0,\n",
       "       1, 1, 0, 0, 0, 1, 1, 0, 0, 0, 1, 0, 0, 0, 0, 0, 1, 0, 0, 0, 0, 1,\n",
       "       1, 0, 0, 1, 0, 1, 1, 0, 0, 0, 0, 0, 1, 0, 0, 0, 0, 1, 0, 0, 0, 1,\n",
       "       0, 1, 0, 0, 1, 0, 0, 0, 1, 1, 1, 1, 0, 0, 0, 1, 1, 1, 1, 0, 1, 0,\n",
       "       0, 0, 1, 1, 0, 1, 1, 1, 0, 0, 0, 1, 0, 0, 1, 0, 1])"
      ]
     },
     "execution_count": 275,
     "metadata": {},
     "output_type": "execute_result"
    }
   ],
   "source": [
    "previsoes_arvore = arvore.predict(x_teste)\n",
    "previsoes_arvore"
   ]
  },
  {
   "cell_type": "code",
   "execution_count": 276,
   "id": "acd25c4c",
   "metadata": {},
   "outputs": [
    {
     "data": {
      "text/plain": [
       "array([0, 0, 1, 1, 1, 0, 0, 0, 0, 0, 0, 0, 0, 0, 0, 1, 0, 0, 0, 0, 0, 1,\n",
       "       0, 1, 1, 0, 0, 0, 1, 0, 0, 0, 0, 0, 1, 0, 0, 1, 0, 1, 0, 1, 0, 0,\n",
       "       0, 1, 0, 0, 0, 0, 0, 0, 0, 1, 0, 1, 1, 1, 1, 0, 0, 1, 0, 1, 1, 1,\n",
       "       0, 0, 1, 0, 1, 1, 0, 1, 1, 0, 0, 0, 1, 1, 0, 0, 0, 0, 0, 0, 0, 0,\n",
       "       1, 1, 0, 0, 1, 1, 1, 0, 0, 0, 1, 0, 0, 0, 0, 0, 1, 0, 0, 0, 0, 1,\n",
       "       1, 0, 0, 1, 0, 1, 1, 0, 0, 0, 0, 0, 1, 0, 0, 0, 0, 1, 0, 0, 0, 1,\n",
       "       0, 1, 0, 1, 1, 0, 0, 0, 1, 1, 1, 1, 0, 0, 0, 1, 1, 1, 1, 0, 1, 1,\n",
       "       0, 0, 1, 1, 0, 1, 1, 1, 0, 0, 0, 1, 0, 0, 1, 0, 0])"
      ]
     },
     "execution_count": 276,
     "metadata": {},
     "output_type": "execute_result"
    }
   ],
   "source": [
    "y_teste"
   ]
  },
  {
   "cell_type": "code",
   "execution_count": 277,
   "id": "36e1d3d3",
   "metadata": {},
   "outputs": [],
   "source": [
    "from sklearn.metrics import accuracy_score, confusion_matrix, classification_report"
   ]
  },
  {
   "cell_type": "code",
   "execution_count": 278,
   "id": "7531f6d3",
   "metadata": {},
   "outputs": [
    {
     "name": "stdout",
     "output_type": "stream",
     "text": [
      "Acurácia: 95.91%\n"
     ]
    }
   ],
   "source": [
    "print(\"Acurácia: %.2f%%\" % (accuracy_score(y_teste, previsoes_arvore) * 100.0))"
   ]
  },
  {
   "cell_type": "code",
   "execution_count": 279,
   "id": "11614435",
   "metadata": {},
   "outputs": [
    {
     "name": "stdout",
     "output_type": "stream",
     "text": [
      "Confusion Matrix: \n",
      " [[106   1]\n",
      " [  6  58]] \n",
      "\n",
      "True Negative: 106\n",
      "False Positive: 1\n",
      "False Negative: 6\n",
      "True Positive: 58\n"
     ]
    }
   ],
   "source": [
    "cfm = confusion_matrix(y_teste, previsoes_arvore)\n",
    "true_negative = cfm[0][0]\n",
    "false_positive = cfm[0][1]\n",
    "false_negative = cfm[1][0]\n",
    "true_positive = cfm[1][1]\n",
    "\n",
    "print('Confusion Matrix: \\n', cfm, '\\n')\n",
    "\n",
    "print('True Negative:', true_negative)\n",
    "print('False Positive:', false_positive)\n",
    "print('False Negative:', false_negative)\n",
    "print('True Positive:', true_positive)"
   ]
  },
  {
   "cell_type": "code",
   "execution_count": 280,
   "id": "f7bc34a9",
   "metadata": {},
   "outputs": [
    {
     "name": "stdout",
     "output_type": "stream",
     "text": [
      "              precision    recall  f1-score   support\n",
      "\n",
      "           0       0.95      0.99      0.97       107\n",
      "           1       0.98      0.91      0.94        64\n",
      "\n",
      "    accuracy                           0.96       171\n",
      "   macro avg       0.96      0.95      0.96       171\n",
      "weighted avg       0.96      0.96      0.96       171\n",
      "\n"
     ]
    }
   ],
   "source": [
    "print(classification_report(y_teste, previsoes_knn))"
   ]
  },
  {
   "cell_type": "markdown",
   "id": "a40722bc",
   "metadata": {},
   "source": [
    "### <font color='OrangeRed'>**Análise dados de treino**"
   ]
  },
  {
   "cell_type": "code",
   "execution_count": 287,
   "id": "6827eb82",
   "metadata": {},
   "outputs": [
    {
     "data": {
      "text/plain": [
       "array([0, 1, 1, 0, 0, 0, 0, 1, 0, 0, 1, 1, 0, 0, 0, 0, 0, 1, 0, 0, 1, 1,\n",
       "       0, 0, 0, 0, 0, 0, 0, 0, 0, 0, 0, 0, 0, 0, 0, 0, 1, 1, 0, 0, 1, 0,\n",
       "       1, 0, 0, 1, 0, 0, 1, 0, 0, 1, 0, 0, 0, 1, 0, 0, 0, 0, 1, 1, 1, 1,\n",
       "       1, 0, 0, 0, 0, 0, 0, 0, 0, 0, 0, 1, 0, 0, 1, 0, 1, 1, 1, 0, 0, 0,\n",
       "       0, 0, 1, 0, 0, 0, 0, 1, 1, 0, 0, 1, 0, 0, 0, 1, 1, 0, 1, 0, 1, 0,\n",
       "       0, 1, 0, 0, 0, 0, 0, 0, 0, 0, 0, 1, 0, 0, 1, 1, 0, 0, 0, 1, 0, 0,\n",
       "       1, 0, 0, 0, 1, 0, 0, 0, 0, 0, 0, 0, 0, 0, 1, 0, 0, 0, 1, 1, 1, 0,\n",
       "       0, 0, 0, 0, 0, 1, 1, 1, 0, 0, 1, 1, 1, 1, 0, 0, 0, 1, 0, 1, 0, 0,\n",
       "       1, 0, 0, 1, 1, 0, 0, 1, 0, 1, 0, 0, 1, 1, 0, 1, 1, 0, 1, 0, 1, 0,\n",
       "       0, 0, 0, 0, 1, 0, 0, 0, 1, 0, 0, 0, 1, 0, 0, 0, 0, 1, 0, 0, 1, 0,\n",
       "       1, 1, 0, 0, 0, 1, 1, 0, 0, 0, 0, 0, 0, 0, 1, 0, 0, 1, 0, 0, 0, 0,\n",
       "       0, 1, 0, 0, 0, 0, 0, 0, 0, 1, 1, 1, 0, 1, 1, 1, 1, 0, 0, 0, 0, 1,\n",
       "       1, 1, 0, 0, 0, 1, 1, 1, 1, 1, 1, 0, 0, 1, 1, 0, 1, 1, 0, 1, 0, 1,\n",
       "       0, 0, 0, 0, 0, 0, 0, 0, 1, 0, 1, 1, 1, 0, 0, 1, 0, 0, 0, 1, 0, 0,\n",
       "       1, 0, 0, 1, 0, 1, 0, 1, 0, 1, 1, 1, 0, 1, 0, 0, 1, 0, 1, 0, 1, 1,\n",
       "       1, 1, 0, 0, 1, 1, 0, 0, 0, 0, 0, 0, 1, 0, 0, 1, 1, 1, 0, 0, 1, 0,\n",
       "       0, 0, 0, 0, 0, 0, 0, 0, 0, 0, 0, 0, 0, 0, 0, 1, 1, 0, 0, 0, 0, 1,\n",
       "       0, 0, 0, 0, 0, 0, 1, 0, 1, 0, 0, 0, 1, 1, 1, 0, 0, 1, 0, 0, 0, 1,\n",
       "       0, 1])"
      ]
     },
     "execution_count": 287,
     "metadata": {},
     "output_type": "execute_result"
    }
   ],
   "source": [
    "previsoes_treino = arvore.predict(x_treino)\n",
    "previsoes_treino"
   ]
  },
  {
   "cell_type": "code",
   "execution_count": 288,
   "id": "c6cf5e51",
   "metadata": {},
   "outputs": [
    {
     "name": "stdout",
     "output_type": "stream",
     "text": [
      "Acurácia: 97.24%\n"
     ]
    }
   ],
   "source": [
    "print(\"Acurácia: %.2f%%\" % (accuracy_score(y_treino, previsoes_treino) * 100.0))\n",
    "#accuracy_score(y_treino, previsoes_treino)"
   ]
  },
  {
   "cell_type": "code",
   "execution_count": 289,
   "id": "1fa524d2",
   "metadata": {},
   "outputs": [
    {
     "data": {
      "text/plain": [
       "array([[250,   0],\n",
       "       [ 11, 137]])"
      ]
     },
     "execution_count": 289,
     "metadata": {},
     "output_type": "execute_result"
    }
   ],
   "source": [
    "confusion_matrix(y_treino, previsoes_treino)"
   ]
  },
  {
   "cell_type": "markdown",
   "id": "5c23c7df",
   "metadata": {},
   "source": [
    "## <font color='OrangeRed'>**Validação Cruzada**"
   ]
  },
  {
   "cell_type": "code",
   "execution_count": 284,
   "id": "33f1f447",
   "metadata": {},
   "outputs": [],
   "source": [
    "from sklearn.model_selection import KFold\n",
    "from sklearn.model_selection import cross_val_score"
   ]
  },
  {
   "cell_type": "code",
   "execution_count": 285,
   "id": "a692a4da",
   "metadata": {},
   "outputs": [],
   "source": [
    "# Separando os dados em folds\n",
    "kfold = KFold(n_splits = 30, shuffle=True, random_state = 5)"
   ]
  },
  {
   "cell_type": "code",
   "execution_count": 286,
   "id": "5e25ba9b",
   "metadata": {},
   "outputs": [
    {
     "name": "stdout",
     "output_type": "stream",
     "text": [
      "Acurácia Média: 93.67%\n"
     ]
    }
   ],
   "source": [
    "# Criando o modelo\n",
    "modelo = DecisionTreeClassifier(criterion='entropy', random_state = 0, max_depth=3)\n",
    "resultado = cross_val_score(modelo, previsores_esc, alvo, cv = kfold)\n",
    "\n",
    "# Usamos a média e o desvio padrão\n",
    "print(\"Acurácia Média: %.2f%%\" % (resultado.mean() * 100.0))"
   ]
  },
  {
   "cell_type": "markdown",
   "id": "cf40a435",
   "metadata": {},
   "source": [
    "### <font color='DarkGreen'>**Naive Bayes = 94.74% (treino e teste) - 162 acertos e 93.82% (validação cruzada) - previsores**\n",
    "    \n",
    "### <font color='DarkGreen'>**SVM = 98.25% - 168 acertos e 97.88% (validação cruzada) : previsores_esc - SVC(kernel='rbf', random_state=5, C =2)**  \n",
    "    \n",
    "### <font color='DarkGreen'>**Regressão logística = 97.66%, - 167 acertos e 98.06% (validação cruzada): previsores_esc - LogisticRegression(random_state=1, max_iter=500, penalty=\"l2\", tol=0.0001, C=1,solver=\"lbfgs\")**\n",
    "    \n",
    "### <font color='DarkGreen'>**KNN =  95.91% - 164 acertos e 96.65% (validação cruzada) : previsores_esc- KNeighborsClassifier(n_neighbors=7, metric='minkowski', p = 1)**  \n",
    "    \n",
    "### <font color='DarkGreen'>**Árvore de decisão = 95.91% e 97.24% (treino e teste) - 164 acertos e 93.67% (validação cruzada): previsores_esc - DecisionTreeClassifier(criterion='entropy', random_state = 0, max_depth=3)**    "
   ]
  },
  {
   "cell_type": "markdown",
   "id": "85cda6ec",
   "metadata": {},
   "source": [
    "## <font color='DarkRed'>**RANDOM FOREST**\n",
    "    \n",
    "https://scikit-learn.org/stable/modules/generated/sklearn.ensemble.RandomForestClassifier.html    "
   ]
  },
  {
   "cell_type": "code",
   "execution_count": 319,
   "id": "710d18a1",
   "metadata": {},
   "outputs": [],
   "source": [
    "from sklearn.ensemble import RandomForestClassifier"
   ]
  },
  {
   "cell_type": "code",
   "execution_count": 320,
   "id": "a5fb163f",
   "metadata": {},
   "outputs": [
    {
     "data": {
      "text/plain": [
       "RandomForestClassifier(criterion='entropy', max_depth=4, n_estimators=150,\n",
       "                       random_state=0)"
      ]
     },
     "execution_count": 320,
     "metadata": {},
     "output_type": "execute_result"
    }
   ],
   "source": [
    "random = RandomForestClassifier(n_estimators=150, criterion='entropy', random_state = 0, max_depth=4)\n",
    "random.fit(x_treino, y_treino)"
   ]
  },
  {
   "cell_type": "code",
   "execution_count": 321,
   "id": "baf72a26",
   "metadata": {},
   "outputs": [
    {
     "data": {
      "text/plain": [
       "array([0, 0, 1, 1, 1, 0, 0, 0, 0, 0, 0, 0, 0, 0, 0, 1, 0, 0, 0, 0, 0, 1,\n",
       "       0, 1, 1, 0, 0, 0, 1, 0, 0, 0, 0, 0, 1, 0, 0, 1, 0, 1, 0, 1, 0, 0,\n",
       "       0, 0, 0, 0, 0, 0, 0, 0, 0, 0, 0, 1, 1, 1, 1, 0, 0, 0, 0, 1, 1, 1,\n",
       "       0, 0, 1, 0, 1, 1, 1, 1, 1, 0, 0, 0, 1, 1, 0, 0, 0, 0, 0, 0, 0, 0,\n",
       "       1, 1, 0, 0, 1, 1, 1, 0, 0, 0, 1, 0, 0, 0, 0, 0, 1, 0, 0, 0, 0, 1,\n",
       "       1, 0, 0, 1, 0, 1, 1, 0, 0, 0, 0, 0, 1, 0, 0, 0, 0, 1, 0, 0, 0, 1,\n",
       "       0, 1, 0, 1, 1, 0, 0, 0, 1, 1, 1, 1, 0, 0, 0, 1, 1, 1, 1, 0, 1, 0,\n",
       "       0, 0, 1, 1, 0, 1, 1, 1, 0, 0, 0, 1, 0, 0, 1, 0, 1])"
      ]
     },
     "execution_count": 321,
     "metadata": {},
     "output_type": "execute_result"
    }
   ],
   "source": [
    "previsoes_random = random.predict(x_teste)\n",
    "previsoes_random"
   ]
  },
  {
   "cell_type": "code",
   "execution_count": 322,
   "id": "6211af56",
   "metadata": {},
   "outputs": [
    {
     "data": {
      "text/plain": [
       "array([0, 0, 1, 1, 1, 0, 0, 0, 0, 0, 0, 0, 0, 0, 0, 1, 0, 0, 0, 0, 0, 1,\n",
       "       0, 1, 1, 0, 0, 0, 1, 0, 0, 0, 0, 0, 1, 0, 0, 1, 0, 1, 0, 1, 0, 0,\n",
       "       0, 1, 0, 0, 0, 0, 0, 0, 0, 1, 0, 1, 1, 1, 1, 0, 0, 1, 0, 1, 1, 1,\n",
       "       0, 0, 1, 0, 1, 1, 0, 1, 1, 0, 0, 0, 1, 1, 0, 0, 0, 0, 0, 0, 0, 0,\n",
       "       1, 1, 0, 0, 1, 1, 1, 0, 0, 0, 1, 0, 0, 0, 0, 0, 1, 0, 0, 0, 0, 1,\n",
       "       1, 0, 0, 1, 0, 1, 1, 0, 0, 0, 0, 0, 1, 0, 0, 0, 0, 1, 0, 0, 0, 1,\n",
       "       0, 1, 0, 1, 1, 0, 0, 0, 1, 1, 1, 1, 0, 0, 0, 1, 1, 1, 1, 0, 1, 1,\n",
       "       0, 0, 1, 1, 0, 1, 1, 1, 0, 0, 0, 1, 0, 0, 1, 0, 0])"
      ]
     },
     "execution_count": 322,
     "metadata": {},
     "output_type": "execute_result"
    }
   ],
   "source": [
    "y_teste"
   ]
  },
  {
   "cell_type": "code",
   "execution_count": 323,
   "id": "7559a910",
   "metadata": {},
   "outputs": [],
   "source": [
    "from sklearn.metrics import accuracy_score, confusion_matrix, classification_report"
   ]
  },
  {
   "cell_type": "code",
   "execution_count": 324,
   "id": "cb52befc",
   "metadata": {},
   "outputs": [
    {
     "name": "stdout",
     "output_type": "stream",
     "text": [
      "Acurácia: 96.49%\n"
     ]
    }
   ],
   "source": [
    "print(\"Acurácia: %.2f%%\" % (accuracy_score(y_teste, previsoes_random) * 100.0))"
   ]
  },
  {
   "cell_type": "code",
   "execution_count": 325,
   "id": "67c66917",
   "metadata": {},
   "outputs": [
    {
     "name": "stdout",
     "output_type": "stream",
     "text": [
      "Confusion Matrix: \n",
      " [[105   2]\n",
      " [  4  60]] \n",
      "\n",
      "True Negative: 105\n",
      "False Positive: 2\n",
      "False Negative: 4\n",
      "True Positive: 60\n"
     ]
    }
   ],
   "source": [
    "cfm = confusion_matrix(y_teste, previsoes_random)\n",
    "true_negative = cfm[0][0]\n",
    "false_positive = cfm[0][1]\n",
    "false_negative = cfm[1][0]\n",
    "true_positive = cfm[1][1]\n",
    "\n",
    "print('Confusion Matrix: \\n', cfm, '\\n')\n",
    "\n",
    "print('True Negative:', true_negative)\n",
    "print('False Positive:', false_positive)\n",
    "print('False Negative:', false_negative)\n",
    "print('True Positive:', true_positive)"
   ]
  },
  {
   "cell_type": "code",
   "execution_count": 326,
   "id": "89dc62cc",
   "metadata": {},
   "outputs": [
    {
     "name": "stdout",
     "output_type": "stream",
     "text": [
      "              precision    recall  f1-score   support\n",
      "\n",
      "           0       0.96      0.98      0.97       107\n",
      "           1       0.97      0.94      0.95        64\n",
      "\n",
      "    accuracy                           0.96       171\n",
      "   macro avg       0.97      0.96      0.96       171\n",
      "weighted avg       0.96      0.96      0.96       171\n",
      "\n"
     ]
    }
   ],
   "source": [
    "print(classification_report(y_teste, previsoes_random))"
   ]
  },
  {
   "cell_type": "markdown",
   "id": "0432d8ed",
   "metadata": {},
   "source": [
    "### <font color='OrangeRed'>**Análise dados de treino**"
   ]
  },
  {
   "cell_type": "code",
   "execution_count": 327,
   "id": "9b9063b7",
   "metadata": {},
   "outputs": [
    {
     "data": {
      "text/plain": [
       "array([0, 1, 1, 0, 0, 0, 0, 1, 0, 1, 1, 1, 0, 0, 0, 0, 0, 1, 0, 0, 1, 1,\n",
       "       0, 0, 0, 0, 0, 0, 0, 0, 0, 0, 1, 0, 0, 0, 0, 0, 1, 1, 0, 0, 1, 0,\n",
       "       1, 0, 0, 1, 0, 0, 1, 0, 0, 1, 0, 0, 0, 1, 1, 0, 0, 0, 1, 1, 1, 1,\n",
       "       1, 0, 0, 0, 0, 0, 0, 0, 0, 0, 0, 1, 0, 0, 1, 0, 1, 1, 1, 0, 0, 0,\n",
       "       0, 0, 1, 0, 0, 0, 0, 1, 1, 0, 0, 1, 0, 1, 0, 1, 1, 0, 1, 0, 1, 0,\n",
       "       0, 1, 0, 0, 0, 0, 0, 0, 0, 0, 0, 1, 0, 0, 1, 1, 0, 0, 0, 1, 0, 0,\n",
       "       1, 0, 0, 0, 1, 0, 0, 0, 0, 0, 0, 0, 0, 0, 1, 0, 0, 0, 1, 1, 1, 0,\n",
       "       0, 0, 0, 0, 0, 1, 1, 1, 0, 0, 1, 1, 1, 1, 0, 0, 0, 1, 0, 1, 0, 0,\n",
       "       1, 0, 0, 1, 1, 0, 0, 1, 0, 1, 0, 0, 1, 1, 0, 1, 1, 0, 1, 0, 1, 0,\n",
       "       0, 0, 0, 0, 1, 0, 0, 0, 1, 0, 0, 0, 1, 0, 0, 0, 0, 1, 0, 0, 1, 0,\n",
       "       1, 1, 0, 0, 0, 1, 1, 0, 0, 0, 0, 0, 0, 0, 1, 0, 0, 1, 0, 0, 0, 0,\n",
       "       0, 1, 0, 0, 0, 0, 0, 0, 1, 1, 1, 1, 0, 1, 1, 1, 1, 0, 0, 0, 0, 1,\n",
       "       1, 1, 0, 0, 0, 1, 1, 1, 1, 1, 1, 0, 0, 1, 1, 0, 1, 1, 0, 1, 1, 1,\n",
       "       1, 0, 0, 0, 0, 0, 0, 0, 1, 0, 1, 1, 1, 0, 0, 1, 0, 0, 0, 1, 0, 0,\n",
       "       1, 0, 0, 1, 0, 1, 0, 1, 0, 1, 1, 1, 0, 1, 0, 0, 1, 0, 1, 0, 1, 1,\n",
       "       1, 1, 0, 0, 1, 1, 1, 0, 0, 0, 0, 0, 1, 0, 0, 1, 1, 1, 0, 0, 1, 0,\n",
       "       0, 0, 0, 0, 0, 0, 0, 0, 0, 0, 0, 0, 0, 0, 0, 1, 1, 0, 0, 0, 0, 1,\n",
       "       0, 0, 0, 0, 0, 0, 1, 0, 1, 0, 0, 0, 1, 1, 1, 0, 0, 1, 0, 0, 0, 1,\n",
       "       0, 1])"
      ]
     },
     "execution_count": 327,
     "metadata": {},
     "output_type": "execute_result"
    }
   ],
   "source": [
    "previsoes_treino = random.predict(x_treino)\n",
    "previsoes_treino"
   ]
  },
  {
   "cell_type": "code",
   "execution_count": 328,
   "id": "625e65df",
   "metadata": {},
   "outputs": [
    {
     "name": "stdout",
     "output_type": "stream",
     "text": [
      "Acurácia: 99.25%\n"
     ]
    }
   ],
   "source": [
    "print(\"Acurácia: %.2f%%\" % (accuracy_score(y_treino, previsoes_treino)* 100.0))\n",
    "#accuracy_score(y_treino, previsoes_treino)"
   ]
  },
  {
   "cell_type": "code",
   "execution_count": 329,
   "id": "fdfc08b4",
   "metadata": {},
   "outputs": [
    {
     "data": {
      "text/plain": [
       "array([[250,   0],\n",
       "       [  3, 145]])"
      ]
     },
     "execution_count": 329,
     "metadata": {},
     "output_type": "execute_result"
    }
   ],
   "source": [
    "confusion_matrix(y_treino, previsoes_treino)"
   ]
  },
  {
   "cell_type": "markdown",
   "id": "e11dc71f",
   "metadata": {},
   "source": [
    "## <font color='OrangeRed'>**Validação Cruzada**"
   ]
  },
  {
   "cell_type": "code",
   "execution_count": 330,
   "id": "1fe77776",
   "metadata": {},
   "outputs": [],
   "source": [
    "from sklearn.model_selection import KFold\n",
    "from sklearn.model_selection import cross_val_score"
   ]
  },
  {
   "cell_type": "code",
   "execution_count": 331,
   "id": "ed54820e",
   "metadata": {},
   "outputs": [],
   "source": [
    "# Separando os dados em folds\n",
    "kfold = KFold(n_splits = 30, shuffle=True, random_state = 5)"
   ]
  },
  {
   "cell_type": "code",
   "execution_count": 332,
   "id": "291fd732",
   "metadata": {},
   "outputs": [
    {
     "name": "stdout",
     "output_type": "stream",
     "text": [
      "Acurácia Média: 96.11%\n"
     ]
    }
   ],
   "source": [
    "# Criando o modelo\n",
    "modelo = RandomForestClassifier(n_estimators=150, criterion='entropy', random_state = 5, max_depth=4)\n",
    "resultado = cross_val_score(modelo, previsores_esc, alvo, cv = kfold)\n",
    "\n",
    "# Usamos a média e o desvio padrão\n",
    "print(\"Acurácia Média: %.2f%%\" % (resultado.mean() * 100.0))"
   ]
  },
  {
   "cell_type": "markdown",
   "id": "24b55b32",
   "metadata": {},
   "source": [
    "### <font color='DarkGreen'>**Naive Bayes = 94.74% (treino e teste) - 162 acertos e 93.82% (validação cruzada) - previsores**\n",
    "    \n",
    "### <font color='DarkGreen'>**SVM = 98.25% - 168 acertos e 97.88% (validação cruzada) : previsores_esc - SVC(kernel='rbf', random_state=5, C =2)**  \n",
    "    \n",
    "### <font color='DarkGreen'>**Regressão logística = 97.66%, - 167 acertos e 98.06% (validação cruzada): previsores_esc - LogisticRegression(random_state=1, max_iter=500, penalty=\"l2\", tol=0.0001, C=1,solver=\"lbfgs\")**\n",
    "    \n",
    "### <font color='DarkGreen'>**KNN =  95.91% - 164 acertos e 96.65% (validação cruzada) : previsores_esc- KNeighborsClassifier(n_neighbors=7, metric='minkowski', p = 1)**  \n",
    "    \n",
    "### <font color='DarkGreen'>**Árvore de decisão = 95.91% e 97.24% (treino e teste) - 164 acertos e 93.67% (validação cruzada): previsores_esc - DecisionTreeClassifier(criterion='entropy', random_state = 0, max_depth=3)**\n",
    "    \n",
    "### <font color='DarkGreen'>**Random Forest = 96.49% - 165 acertos e 96.11%(validação cruzada) : previsores - RandomForestClassifier(n_estimators=150, criterion='entropy', random_state = 5, max_depth=4)**    "
   ]
  },
  {
   "cell_type": "markdown",
   "id": "ecacc45e",
   "metadata": {},
   "source": [
    "## <font color='DarkRed'>**XGBOOST**\n",
    "\n",
    "https://xgboost.readthedocs.io/en/stable/    "
   ]
  },
  {
   "cell_type": "code",
   "execution_count": 38,
   "id": "679463b3",
   "metadata": {},
   "outputs": [],
   "source": [
    "from xgboost import XGBClassifier"
   ]
  },
  {
   "cell_type": "code",
   "execution_count": 153,
   "id": "3e541b29",
   "metadata": {},
   "outputs": [
    {
     "data": {
      "text/plain": [
       "XGBClassifier(base_score=0.5, booster='gbtree', callbacks=None,\n",
       "              colsample_bylevel=1, colsample_bynode=1, colsample_bytree=1,\n",
       "              early_stopping_rounds=None, enable_categorical=False,\n",
       "              eval_metric=None, gamma=0, gpu_id=-1, grow_policy='depthwise',\n",
       "              importance_type=None, interaction_constraints='',\n",
       "              learning_rate=0.1, max_bin=256, max_cat_to_onehot=4,\n",
       "              max_delta_step=0, max_depth=1, max_leaves=0, min_child_weight=1,\n",
       "              missing=nan, monotone_constraints='()', n_estimators=250,\n",
       "              n_jobs=0, num_parallel_tree=1, predictor='auto', random_state=21,\n",
       "              reg_alpha=0, reg_lambda=1, ...)"
      ]
     },
     "execution_count": 153,
     "metadata": {},
     "output_type": "execute_result"
    }
   ],
   "source": [
    "xg = XGBClassifier(max_depth=1, learning_rate=0.1, n_estimators=250, objective='binary:logistic', random_state=21)\n",
    "xg.fit(x_treino,y_treino)"
   ]
  },
  {
   "cell_type": "code",
   "execution_count": 154,
   "id": "e312734a",
   "metadata": {},
   "outputs": [
    {
     "data": {
      "text/plain": [
       "array([0, 0, 1, 1, 1, 0, 0, 0, 0, 0, 0, 0, 0, 0, 0, 1, 0, 0, 0, 0, 0, 1,\n",
       "       0, 1, 1, 0, 0, 0, 1, 0, 0, 0, 0, 0, 1, 0, 0, 1, 0, 1, 0, 1, 0, 0,\n",
       "       0, 0, 0, 0, 0, 0, 0, 0, 0, 0, 0, 1, 1, 1, 1, 0, 0, 1, 0, 1, 1, 1,\n",
       "       0, 0, 1, 0, 1, 1, 1, 0, 1, 0, 0, 0, 1, 1, 0, 0, 0, 0, 0, 0, 0, 0,\n",
       "       1, 1, 0, 0, 1, 1, 1, 0, 0, 0, 1, 0, 0, 0, 0, 0, 1, 0, 0, 0, 0, 1,\n",
       "       1, 0, 0, 1, 0, 1, 1, 0, 0, 0, 0, 0, 1, 0, 0, 0, 0, 1, 0, 0, 0, 1,\n",
       "       0, 1, 0, 1, 1, 0, 0, 0, 1, 1, 1, 1, 0, 0, 0, 1, 1, 1, 1, 0, 1, 0,\n",
       "       0, 0, 1, 1, 0, 1, 1, 1, 0, 0, 0, 1, 0, 0, 1, 0, 1])"
      ]
     },
     "execution_count": 154,
     "metadata": {},
     "output_type": "execute_result"
    }
   ],
   "source": [
    "previsoes_xg = xg.predict(x_teste)\n",
    "previsoes_xg"
   ]
  },
  {
   "cell_type": "code",
   "execution_count": 155,
   "id": "2fab30ae",
   "metadata": {},
   "outputs": [],
   "source": [
    "from sklearn.metrics import accuracy_score, confusion_matrix, classification_report"
   ]
  },
  {
   "cell_type": "code",
   "execution_count": 156,
   "id": "bb364907",
   "metadata": {},
   "outputs": [
    {
     "name": "stdout",
     "output_type": "stream",
     "text": [
      "Acurácia: 96.49%\n"
     ]
    },
    {
     "data": {
      "text/plain": [
       "0.9649122807017544"
      ]
     },
     "execution_count": 156,
     "metadata": {},
     "output_type": "execute_result"
    }
   ],
   "source": [
    "print(\"Acurácia: %.2f%%\" % (accuracy_score(y_teste, previsoes_xg) * 100.0))\n",
    "accuracy_score(y_teste, previsoes_xg) "
   ]
  },
  {
   "cell_type": "code",
   "execution_count": 157,
   "id": "3d8311d3",
   "metadata": {},
   "outputs": [
    {
     "data": {
      "text/plain": [
       "array([[105,   2],\n",
       "       [  4,  60]])"
      ]
     },
     "execution_count": 157,
     "metadata": {},
     "output_type": "execute_result"
    }
   ],
   "source": [
    "confusion_matrix(y_teste, previsoes_xg)"
   ]
  },
  {
   "cell_type": "code",
   "execution_count": 158,
   "id": "29f15206",
   "metadata": {},
   "outputs": [
    {
     "name": "stdout",
     "output_type": "stream",
     "text": [
      "              precision    recall  f1-score   support\n",
      "\n",
      "           0       0.96      0.98      0.97       107\n",
      "           1       0.97      0.94      0.95        64\n",
      "\n",
      "    accuracy                           0.96       171\n",
      "   macro avg       0.97      0.96      0.96       171\n",
      "weighted avg       0.96      0.96      0.96       171\n",
      "\n"
     ]
    }
   ],
   "source": [
    "print(classification_report(y_teste, previsoes_xg))"
   ]
  },
  {
   "cell_type": "markdown",
   "id": "d229b51e",
   "metadata": {},
   "source": [
    "### <font color='OrangeRed'>**Análise dados de treino**"
   ]
  },
  {
   "cell_type": "code",
   "execution_count": 159,
   "id": "767d6ba7",
   "metadata": {},
   "outputs": [
    {
     "data": {
      "text/plain": [
       "array([0, 1, 1, 0, 0, 0, 0, 1, 0, 1, 1, 1, 0, 0, 0, 0, 0, 1, 0, 0, 1, 1,\n",
       "       0, 0, 0, 0, 0, 0, 0, 0, 0, 0, 1, 0, 0, 0, 0, 0, 1, 1, 0, 0, 1, 0,\n",
       "       1, 0, 0, 1, 0, 0, 1, 0, 0, 1, 0, 0, 0, 1, 1, 0, 0, 0, 1, 1, 1, 1,\n",
       "       1, 0, 0, 0, 0, 0, 0, 0, 0, 0, 0, 1, 0, 0, 1, 0, 1, 1, 1, 0, 0, 0,\n",
       "       0, 0, 1, 0, 0, 0, 1, 1, 1, 0, 0, 1, 0, 1, 0, 1, 1, 0, 1, 0, 1, 0,\n",
       "       0, 1, 0, 0, 0, 0, 0, 0, 0, 0, 0, 1, 0, 0, 1, 1, 0, 0, 0, 1, 0, 0,\n",
       "       1, 0, 0, 0, 1, 0, 0, 0, 0, 0, 0, 0, 0, 0, 1, 0, 0, 0, 1, 1, 1, 0,\n",
       "       0, 0, 0, 0, 0, 1, 1, 1, 0, 0, 1, 1, 1, 1, 0, 1, 0, 1, 0, 1, 0, 0,\n",
       "       1, 0, 0, 1, 1, 0, 0, 1, 0, 1, 0, 0, 1, 1, 0, 1, 1, 0, 1, 0, 1, 0,\n",
       "       0, 0, 0, 0, 1, 0, 0, 0, 1, 0, 0, 0, 1, 0, 0, 0, 0, 1, 0, 0, 1, 0,\n",
       "       1, 1, 0, 0, 0, 1, 1, 0, 0, 0, 0, 0, 0, 0, 1, 0, 0, 1, 0, 0, 0, 0,\n",
       "       0, 1, 0, 0, 0, 0, 0, 0, 1, 1, 1, 1, 0, 1, 1, 1, 1, 0, 0, 0, 0, 1,\n",
       "       1, 1, 0, 0, 0, 1, 1, 1, 1, 1, 1, 0, 0, 1, 1, 0, 1, 1, 0, 1, 1, 1,\n",
       "       1, 0, 0, 0, 0, 0, 0, 0, 1, 0, 1, 1, 1, 0, 0, 1, 0, 0, 0, 1, 0, 0,\n",
       "       1, 0, 0, 1, 0, 1, 0, 1, 0, 1, 1, 1, 0, 1, 0, 0, 1, 0, 1, 0, 1, 1,\n",
       "       1, 1, 0, 0, 1, 1, 1, 0, 0, 0, 0, 0, 1, 0, 0, 1, 1, 1, 0, 0, 1, 0,\n",
       "       0, 0, 0, 0, 0, 0, 0, 0, 0, 0, 0, 0, 0, 0, 0, 1, 1, 0, 0, 0, 0, 1,\n",
       "       0, 0, 0, 0, 0, 0, 1, 0, 1, 0, 0, 0, 1, 1, 1, 0, 0, 1, 0, 0, 0, 1,\n",
       "       0, 1])"
      ]
     },
     "execution_count": 159,
     "metadata": {},
     "output_type": "execute_result"
    }
   ],
   "source": [
    "previsoes_treino = xg.predict(x_treino)\n",
    "previsoes_treino"
   ]
  },
  {
   "cell_type": "code",
   "execution_count": 160,
   "id": "4623a511",
   "metadata": {},
   "outputs": [
    {
     "name": "stdout",
     "output_type": "stream",
     "text": [
      "Acurácia: 99.75%\n"
     ]
    }
   ],
   "source": [
    "print(\"Acurácia: %.2f%%\" % (accuracy_score(y_treino, previsoes_treino) * 100.0))\n",
    "#accuracy_score(y_treino, previsoes_treino)"
   ]
  },
  {
   "cell_type": "code",
   "execution_count": 161,
   "id": "4503852e",
   "metadata": {},
   "outputs": [
    {
     "data": {
      "text/plain": [
       "array([[250,   0],\n",
       "       [  1, 147]])"
      ]
     },
     "execution_count": 161,
     "metadata": {},
     "output_type": "execute_result"
    }
   ],
   "source": [
    "confusion_matrix(y_treino, previsoes_treino)"
   ]
  },
  {
   "cell_type": "markdown",
   "id": "f4885b78",
   "metadata": {},
   "source": [
    "## <font color='OrangeRed'>**Validação Cruzada**"
   ]
  },
  {
   "cell_type": "code",
   "execution_count": 162,
   "id": "797c0b15",
   "metadata": {},
   "outputs": [],
   "source": [
    "from sklearn.model_selection import KFold\n",
    "from sklearn.model_selection import cross_val_score"
   ]
  },
  {
   "cell_type": "code",
   "execution_count": 163,
   "id": "85be2236",
   "metadata": {},
   "outputs": [],
   "source": [
    "# Separando os dados em folds\n",
    "kfold = KFold(n_splits = 30, shuffle=True, random_state = 5)"
   ]
  },
  {
   "cell_type": "code",
   "execution_count": 164,
   "id": "39f7cfff",
   "metadata": {},
   "outputs": [
    {
     "name": "stdout",
     "output_type": "stream",
     "text": [
      "Acurácia Média: 96.12%\n"
     ]
    }
   ],
   "source": [
    "# Criando o modelo\n",
    "modelo = XGBClassifier(max_depth=1, learning_rate=0.1, n_estimators=250, objective='binary:logistic', \n",
    "                       random_state=21)\n",
    "resultado = cross_val_score(modelo, previsores_esc, alvo, cv = kfold)\n",
    "\n",
    "# Usamos a média e o desvio padrão\n",
    "print(\"Acurácia Média: %.2f%%\" % (resultado.mean() * 100.0))"
   ]
  },
  {
   "cell_type": "markdown",
   "id": "1233e440",
   "metadata": {},
   "source": [
    "### <font color='DarkGreen'>**Naive Bayes = 94.74% (treino e teste) - 162 acertos e 93.82% (validação cruzada) - previsores**\n",
    "    \n",
    "### <font color='DarkGreen'>**SVM = 98.25% - 168 acertos e 97.88% (validação cruzada) : previsores_esc - SVC(kernel='rbf', random_state=5, C =2)**  \n",
    "    \n",
    "### <font color='DarkGreen'>**Regressão logística = 97.66%, - 167 acertos e 98.06% (validação cruzada): previsores_esc - LogisticRegression(random_state=1, max_iter=500, penalty=\"l2\", tol=0.0001, C=1,solver=\"lbfgs\")**\n",
    "    \n",
    "### <font color='DarkGreen'>**KNN =  95.91% - 164 acertos e 96.65% (validação cruzada) : previsores_esc- KNeighborsClassifier(n_neighbors=7, metric='minkowski', p = 1)**  \n",
    "    \n",
    "### <font color='DarkGreen'>**Árvore de decisão = 95.91% e 97.24% (treino e teste) - 164 acertos e 93.67% (validação cruzada): previsores_esc - DecisionTreeClassifier(criterion='entropy', random_state = 0, max_depth=3)**\n",
    "    \n",
    "### <font color='DarkGreen'>**Random Forest = 96.49% - 165 acertos e 96.11%(validação cruzada) : previsores - RandomForestClassifier(n_estimators=150, criterion='entropy', random_state = 5, max_depth=4)** \n",
    "    \n",
    "### <font color='DarkGreen'>**XGboost = 96.49% - 165 acertos e 96.12% (validação cruzada) : previsores ou previsores_esc - XGBClassifier(max_depth=1, learning_rate=0.1, n_estimators=250, objective='binary:logistic', random_state=21)**    "
   ]
  },
  {
   "cell_type": "markdown",
   "id": "7f80f8aa",
   "metadata": {},
   "source": [
    "## <font color='DarkRed'>**LIGHTGBM**\n",
    "    \n",
    "https://lightgbm.readthedocs.io/en/latest/pythonapi/lightgbm.train.html    "
   ]
  },
  {
   "cell_type": "code",
   "execution_count": 165,
   "id": "ba01996f",
   "metadata": {},
   "outputs": [],
   "source": [
    "import lightgbm as lgb "
   ]
  },
  {
   "cell_type": "code",
   "execution_count": 247,
   "id": "b396359b",
   "metadata": {},
   "outputs": [],
   "source": [
    "# Dataset para treino\n",
    "dataset = lgb.Dataset(x_treino,label=y_treino)"
   ]
  },
  {
   "cell_type": "code",
   "execution_count": 248,
   "id": "c74cfa39",
   "metadata": {},
   "outputs": [],
   "source": [
    "# Parâmetros\n",
    "parametros = {'num_leaves':250, # número de folhas\n",
    "              'objective':'binary', # classificação Binária     \n",
    "              'max_depth':2,\n",
    "              'learning_rate':.05,\n",
    "              'max_bin':100}"
   ]
  },
  {
   "cell_type": "code",
   "execution_count": 249,
   "id": "114cc62e",
   "metadata": {},
   "outputs": [
    {
     "name": "stdout",
     "output_type": "stream",
     "text": [
      "[LightGBM] [Info] Number of positive: 148, number of negative: 250\n",
      "[LightGBM] [Warning] Auto-choosing col-wise multi-threading, the overhead of testing was 0.000852 seconds.\n",
      "You can set `force_col_wise=true` to remove the overhead.\n",
      "[LightGBM] [Info] Total Bins 3000\n",
      "[LightGBM] [Info] Number of data points in the train set: 398, number of used features: 30\n",
      "[LightGBM] [Info] [binary:BoostFromScore]: pavg=0.371859 -> initscore=-0.524249\n",
      "[LightGBM] [Info] Start training from score -0.524249\n",
      "[LightGBM] [Warning] No further splits with positive gain, best gain: -inf\n",
      "[LightGBM] [Warning] No further splits with positive gain, best gain: -inf\n",
      "[LightGBM] [Warning] No further splits with positive gain, best gain: -inf\n",
      "[LightGBM] [Warning] No further splits with positive gain, best gain: -inf\n",
      "[LightGBM] [Warning] No further splits with positive gain, best gain: -inf\n",
      "[LightGBM] [Warning] No further splits with positive gain, best gain: -inf\n",
      "[LightGBM] [Warning] No further splits with positive gain, best gain: -inf\n"
     ]
    }
   ],
   "source": [
    "lgbm=lgb.train(parametros,dataset,num_boost_round=200)"
   ]
  },
  {
   "cell_type": "code",
   "execution_count": 250,
   "id": "60cbb3a8",
   "metadata": {},
   "outputs": [
    {
     "name": "stdout",
     "output_type": "stream",
     "text": [
      "[LightGBM] [Info] Number of positive: 148, number of negative: 250\n",
      "[LightGBM] [Warning] Auto-choosing col-wise multi-threading, the overhead of testing was 0.000615 seconds.\n",
      "You can set `force_col_wise=true` to remove the overhead.\n",
      "[LightGBM] [Info] Total Bins 3000\n",
      "[LightGBM] [Info] Number of data points in the train set: 398, number of used features: 30\n",
      "[LightGBM] [Info] [binary:BoostFromScore]: pavg=0.371859 -> initscore=-0.524249\n",
      "[LightGBM] [Info] Start training from score -0.524249\n"
     ]
    },
    {
     "data": {
      "text/plain": [
       "datetime.timedelta(microseconds=63956)"
      ]
     },
     "execution_count": 250,
     "metadata": {},
     "output_type": "execute_result"
    }
   ],
   "source": [
    "# Marcação do tempo de execução\n",
    "from datetime import datetime\n",
    "inicio=datetime.now()\n",
    "lgbm=lgb.train(parametros,dataset)\n",
    "fim=datetime.now()\n",
    "\n",
    "tempo = fim - inicio\n",
    "tempo"
   ]
  },
  {
   "cell_type": "code",
   "execution_count": 251,
   "id": "29341b06",
   "metadata": {},
   "outputs": [
    {
     "data": {
      "text/plain": [
       "array([0.0113753 , 0.19034723, 0.92460501, 0.97492311, 0.99441133,\n",
       "       0.00836171, 0.02448725, 0.00941435, 0.038526  , 0.10600617,\n",
       "       0.01236637, 0.00507081, 0.15888996, 0.00586638, 0.01401159,\n",
       "       0.41745671, 0.01601027, 0.01204693, 0.00979099, 0.03127629,\n",
       "       0.01033518, 0.99030478, 0.00658853, 0.99409082, 0.88125856,\n",
       "       0.01869156, 0.00566197, 0.03119018, 0.99004385, 0.12328787,\n",
       "       0.01690127, 0.22803022, 0.00785349, 0.01121766, 0.99259658,\n",
       "       0.0084724 , 0.403748  , 0.94848649, 0.30986143, 0.99208035,\n",
       "       0.00900018, 0.98019945, 0.00582392, 0.01232672, 0.00727039,\n",
       "       0.28922083, 0.02642084, 0.01876589, 0.0169943 , 0.01179286,\n",
       "       0.0064396 , 0.0072166 , 0.0057354 , 0.31749162, 0.00924501,\n",
       "       0.99500613, 0.97374422, 0.96365356, 0.98967334, 0.05986279,\n",
       "       0.01950993, 0.66328092, 0.00586638, 0.98873661, 0.91179574,\n",
       "       0.97436463, 0.01884742, 0.02050472, 0.95213629, 0.00988181,\n",
       "       0.99277334, 0.99004385, 0.88313381, 0.61063373, 0.89632114,\n",
       "       0.01810969, 0.04568906, 0.02087787, 0.99052348, 0.97491998,\n",
       "       0.0077627 , 0.00786973, 0.04538561, 0.01684532, 0.00935708,\n",
       "       0.22412327, 0.0121537 , 0.03005786, 0.98529284, 0.98918902,\n",
       "       0.00591591, 0.00944228, 0.6398983 , 0.99069252, 0.99390104,\n",
       "       0.02813118, 0.0090539 , 0.01497155, 0.97860134, 0.01614826,\n",
       "       0.00879629, 0.01076199, 0.01163742, 0.00702725, 0.99070265,\n",
       "       0.00539068, 0.01595286, 0.01894772, 0.03260992, 0.9358999 ,\n",
       "       0.99016705, 0.02491993, 0.0072166 , 0.93528395, 0.01167577,\n",
       "       0.99129843, 0.99222106, 0.03157142, 0.0288144 , 0.0113584 ,\n",
       "       0.06457941, 0.01704784, 0.99201581, 0.01664191, 0.00840288,\n",
       "       0.00562098, 0.03444073, 0.98873661, 0.00556505, 0.01436826,\n",
       "       0.0114    , 0.99208035, 0.00847841, 0.9691359 , 0.01288349,\n",
       "       0.70803952, 0.9840472 , 0.01084817, 0.14979673, 0.01898648,\n",
       "       0.48334774, 0.88342151, 0.92795738, 0.99180313, 0.11637363,\n",
       "       0.19619822, 0.00972445, 0.99167886, 0.99004385, 0.99208035,\n",
       "       0.99475218, 0.10161332, 0.99412798, 0.06367509, 0.03017043,\n",
       "       0.00847021, 0.98311893, 0.98877832, 0.01677175, 0.9840472 ,\n",
       "       0.9389543 , 0.99052348, 0.00636562, 0.00936431, 0.01214019,\n",
       "       0.98984499, 0.01659851, 0.25820745, 0.9048449 , 0.00511604,\n",
       "       0.34789462])"
      ]
     },
     "execution_count": 251,
     "metadata": {},
     "output_type": "execute_result"
    }
   ],
   "source": [
    "previsoes_lgbm = lgbm.predict(x_teste)\n",
    "previsoes_lgbm"
   ]
  },
  {
   "cell_type": "code",
   "execution_count": 252,
   "id": "48ea6cc4",
   "metadata": {},
   "outputs": [
    {
     "data": {
      "text/plain": [
       "(171,)"
      ]
     },
     "execution_count": 252,
     "metadata": {},
     "output_type": "execute_result"
    }
   ],
   "source": [
    "previsoes_lgbm.shape"
   ]
  },
  {
   "cell_type": "code",
   "execution_count": 253,
   "id": "946ac757",
   "metadata": {},
   "outputs": [],
   "source": [
    "# Quando for menor que 5 considera 0 e quando for maior ou igual a 5 considera 1\n",
    "for i in range(0, 171):\n",
    "    if previsoes_lgbm[i] >= .5:       \n",
    "       previsoes_lgbm[i] = 1\n",
    "    else:  \n",
    "       previsoes_lgbm[i] = 0"
   ]
  },
  {
   "cell_type": "code",
   "execution_count": 254,
   "id": "b7df98c0",
   "metadata": {},
   "outputs": [
    {
     "data": {
      "text/plain": [
       "array([0., 0., 1., 1., 1., 0., 0., 0., 0., 0., 0., 0., 0., 0., 0., 0., 0.,\n",
       "       0., 0., 0., 0., 1., 0., 1., 1., 0., 0., 0., 1., 0., 0., 0., 0., 0.,\n",
       "       1., 0., 0., 1., 0., 1., 0., 1., 0., 0., 0., 0., 0., 0., 0., 0., 0.,\n",
       "       0., 0., 0., 0., 1., 1., 1., 1., 0., 0., 1., 0., 1., 1., 1., 0., 0.,\n",
       "       1., 0., 1., 1., 1., 1., 1., 0., 0., 0., 1., 1., 0., 0., 0., 0., 0.,\n",
       "       0., 0., 0., 1., 1., 0., 0., 1., 1., 1., 0., 0., 0., 1., 0., 0., 0.,\n",
       "       0., 0., 1., 0., 0., 0., 0., 1., 1., 0., 0., 1., 0., 1., 1., 0., 0.,\n",
       "       0., 0., 0., 1., 0., 0., 0., 0., 1., 0., 0., 0., 1., 0., 1., 0., 1.,\n",
       "       1., 0., 0., 0., 0., 1., 1., 1., 0., 0., 0., 1., 1., 1., 1., 0., 1.,\n",
       "       0., 0., 0., 1., 1., 0., 1., 1., 1., 0., 0., 0., 1., 0., 0., 1., 0.,\n",
       "       0.])"
      ]
     },
     "execution_count": 254,
     "metadata": {},
     "output_type": "execute_result"
    }
   ],
   "source": [
    "previsoes_lgbm"
   ]
  },
  {
   "cell_type": "code",
   "execution_count": 255,
   "id": "6c141da9",
   "metadata": {},
   "outputs": [
    {
     "data": {
      "text/plain": [
       "array([0, 0, 1, 1, 1, 0, 0, 0, 0, 0, 0, 0, 0, 0, 0, 1, 0, 0, 0, 0, 0, 1,\n",
       "       0, 1, 1, 0, 0, 0, 1, 0, 0, 0, 0, 0, 1, 0, 0, 1, 0, 1, 0, 1, 0, 0,\n",
       "       0, 1, 0, 0, 0, 0, 0, 0, 0, 1, 0, 1, 1, 1, 1, 0, 0, 1, 0, 1, 1, 1,\n",
       "       0, 0, 1, 0, 1, 1, 0, 1, 1, 0, 0, 0, 1, 1, 0, 0, 0, 0, 0, 0, 0, 0,\n",
       "       1, 1, 0, 0, 1, 1, 1, 0, 0, 0, 1, 0, 0, 0, 0, 0, 1, 0, 0, 0, 0, 1,\n",
       "       1, 0, 0, 1, 0, 1, 1, 0, 0, 0, 0, 0, 1, 0, 0, 0, 0, 1, 0, 0, 0, 1,\n",
       "       0, 1, 0, 1, 1, 0, 0, 0, 1, 1, 1, 1, 0, 0, 0, 1, 1, 1, 1, 0, 1, 1,\n",
       "       0, 0, 1, 1, 0, 1, 1, 1, 0, 0, 0, 1, 0, 0, 1, 0, 0])"
      ]
     },
     "execution_count": 255,
     "metadata": {},
     "output_type": "execute_result"
    }
   ],
   "source": [
    "y_teste"
   ]
  },
  {
   "cell_type": "code",
   "execution_count": 256,
   "id": "25208ac6",
   "metadata": {},
   "outputs": [],
   "source": [
    "from sklearn.metrics import accuracy_score, confusion_matrix, classification_report"
   ]
  },
  {
   "cell_type": "code",
   "execution_count": 257,
   "id": "644e9ca6",
   "metadata": {},
   "outputs": [
    {
     "name": "stdout",
     "output_type": "stream",
     "text": [
      "Acurácia: 96.49%\n"
     ]
    }
   ],
   "source": [
    "print(\"Acurácia: %.2f%%\" % (accuracy_score(y_teste, previsoes_lgbm) * 100.0))"
   ]
  },
  {
   "cell_type": "code",
   "execution_count": 258,
   "id": "f845314b",
   "metadata": {},
   "outputs": [
    {
     "data": {
      "text/plain": [
       "array([[106,   1],\n",
       "       [  5,  59]])"
      ]
     },
     "execution_count": 258,
     "metadata": {},
     "output_type": "execute_result"
    }
   ],
   "source": [
    "confusion_matrix(y_teste, previsoes_lgbm)"
   ]
  },
  {
   "cell_type": "markdown",
   "id": "32647837",
   "metadata": {},
   "source": [
    "### <font color='OrangeRed'>**Análise dados de treino**"
   ]
  },
  {
   "cell_type": "code",
   "execution_count": 259,
   "id": "f66393f1",
   "metadata": {},
   "outputs": [
    {
     "data": {
      "text/plain": [
       "array([0.00513317, 0.98032186, 0.99362343, 0.06178705, 0.02344829,\n",
       "       0.02412908, 0.00609693, 0.97021111, 0.01552168, 0.65456503,\n",
       "       0.98985624, 0.84957406, 0.01446519, 0.05213102, 0.00783058,\n",
       "       0.01302646, 0.01867808, 0.88039353, 0.10064124, 0.02625821,\n",
       "       0.99315122, 0.79146442, 0.00995121, 0.01064301, 0.01117201,\n",
       "       0.03049028, 0.01505581, 0.25027146, 0.00972445, 0.02081649,\n",
       "       0.02936341, 0.02746258, 0.70350381, 0.0307839 , 0.01753218,\n",
       "       0.17240692, 0.01250336, 0.00481239, 0.97846371, 0.91898829,\n",
       "       0.00885784, 0.04137005, 0.8622461 , 0.12965135, 0.99500613,\n",
       "       0.01923616, 0.02160828, 0.97961029, 0.02695167, 0.01436966,\n",
       "       0.99078029, 0.02137816, 0.01757383, 0.99016705, 0.00895839,\n",
       "       0.01046876, 0.03641577, 0.99259658, 0.7785187 , 0.009668  ,\n",
       "       0.15536474, 0.10338058, 0.98762291, 0.99359125, 0.97145086,\n",
       "       0.9508285 , 0.971091  , 0.00915614, 0.07887524, 0.03641577,\n",
       "       0.0083811 , 0.04626746, 0.04004243, 0.0152276 , 0.00768446,\n",
       "       0.02929453, 0.06814873, 0.98226326, 0.01993479, 0.43767928,\n",
       "       0.99167886, 0.00639301, 0.99208035, 0.98154798, 0.96052257,\n",
       "       0.00709895, 0.00842487, 0.01369925, 0.01999808, 0.0313334 ,\n",
       "       0.9844673 , 0.02743635, 0.04957372, 0.02417605, 0.17865542,\n",
       "       0.99016705, 0.98916335, 0.00941435, 0.00734192, 0.99009661,\n",
       "       0.01770758, 0.93558326, 0.18271655, 0.97775176, 0.99315122,\n",
       "       0.01310264, 0.99500613, 0.05282144, 0.99259658, 0.03894644,\n",
       "       0.00833601, 0.98366839, 0.01494783, 0.01441916, 0.03787613,\n",
       "       0.00625308, 0.03226874, 0.03700722, 0.01121766, 0.04800797,\n",
       "       0.2299892 , 0.99402095, 0.01494783, 0.00859267, 0.98746274,\n",
       "       0.9903341 , 0.01180524, 0.01201999, 0.0661131 , 0.97990153,\n",
       "       0.01095826, 0.00867423, 0.99167886, 0.04884437, 0.01302646,\n",
       "       0.01151347, 0.98720129, 0.0166493 , 0.17002549, 0.08437916,\n",
       "       0.12351948, 0.09136756, 0.01624957, 0.01562389, 0.00556932,\n",
       "       0.0087368 , 0.99052348, 0.09646623, 0.21423687, 0.005529  ,\n",
       "       0.98897212, 0.9898569 , 0.99118179, 0.14567065, 0.00572205,\n",
       "       0.0202496 , 0.01298592, 0.00545606, 0.0067104 , 0.99069252,\n",
       "       0.9868438 , 0.99244753, 0.0114    , 0.00574255, 0.99465701,\n",
       "       0.94404221, 0.95944663, 0.98650569, 0.01941034, 0.52951744,\n",
       "       0.04594968, 0.9875509 , 0.00736617, 0.98628932, 0.00998004,\n",
       "       0.00638045, 0.96015685, 0.0059758 , 0.02180791, 0.99402095,\n",
       "       0.99208035, 0.00820469, 0.0223713 , 0.94138025, 0.03254201,\n",
       "       0.98091718, 0.07426086, 0.05489991, 0.95111327, 0.99167886,\n",
       "       0.01688289, 0.99153795, 0.98790943, 0.01829363, 0.98933751,\n",
       "       0.00622868, 0.99069252, 0.01508831, 0.01100761, 0.01940783,\n",
       "       0.08473255, 0.01173833, 0.99052348, 0.00863516, 0.009355  ,\n",
       "       0.00904466, 0.96981318, 0.01095005, 0.01310264, 0.00977571,\n",
       "       0.97090597, 0.00474739, 0.03022142, 0.01713049, 0.02559625,\n",
       "       0.79958392, 0.01163321, 0.02835579, 0.9844079 , 0.00646054,\n",
       "       0.98674748, 0.97451403, 0.00988181, 0.02350024, 0.03289856,\n",
       "       0.97791932, 0.9846064 , 0.0076093 , 0.01019012, 0.03166947,\n",
       "       0.00627991, 0.00778268, 0.05215795, 0.04849736, 0.99203915,\n",
       "       0.00678238, 0.02165356, 0.99402087, 0.25100812, 0.01074947,\n",
       "       0.00719671, 0.01473007, 0.04383635, 0.98797641, 0.0076093 ,\n",
       "       0.04972254, 0.01607895, 0.03369709, 0.01983685, 0.12165544,\n",
       "       0.60948731, 0.98904648, 0.99248044, 0.99002253, 0.09824917,\n",
       "       0.98970034, 0.99259658, 0.89904865, 0.99260456, 0.00646054,\n",
       "       0.0076093 , 0.00620976, 0.01435711, 0.95893428, 0.62060767,\n",
       "       0.9868949 , 0.00792269, 0.0134796 , 0.22228323, 0.97016072,\n",
       "       0.89992867, 0.99105773, 0.99209777, 0.82158505, 0.98277938,\n",
       "       0.00618812, 0.00829144, 0.99208035, 0.97359024, 0.41203314,\n",
       "       0.79350302, 0.99129843, 0.01392208, 0.97461549, 0.57931849,\n",
       "       0.98598767, 0.86344782, 0.03636372, 0.00916311, 0.00939727,\n",
       "       0.01836409, 0.27537249, 0.01028972, 0.01163984, 0.90116036,\n",
       "       0.00704006, 0.992237  , 0.99257095, 0.74325784, 0.0471698 ,\n",
       "       0.01655363, 0.98624537, 0.05181447, 0.02642084, 0.00703209,\n",
       "       0.97668637, 0.01338277, 0.00609693, 0.99167886, 0.00636562,\n",
       "       0.01588132, 0.97541198, 0.01853576, 0.9128893 , 0.00535165,\n",
       "       0.99208035, 0.01100191, 0.94013676, 0.98344802, 0.97419282,\n",
       "       0.00575595, 0.97318582, 0.06679857, 0.00505472, 0.98958945,\n",
       "       0.00465792, 0.9404587 , 0.01305473, 0.99078029, 0.98692921,\n",
       "       0.98670351, 0.99412798, 0.02829164, 0.00884896, 0.99500613,\n",
       "       0.94022458, 0.81534287, 0.06227077, 0.01534923, 0.01444702,\n",
       "       0.00718983, 0.00678238, 0.97237962, 0.01904932, 0.02127662,\n",
       "       0.96369146, 0.99259658, 0.98293405, 0.01621544, 0.00840824,\n",
       "       0.99208035, 0.0134796 , 0.010557  , 0.00505748, 0.22851484,\n",
       "       0.06101115, 0.01508842, 0.0302733 , 0.01660474, 0.01268091,\n",
       "       0.02935492, 0.01725052, 0.01458635, 0.15224338, 0.00982424,\n",
       "       0.01134801, 0.00699062, 0.99016705, 0.98972235, 0.01138695,\n",
       "       0.01673361, 0.01867363, 0.03443844, 0.9817    , 0.08946616,\n",
       "       0.01980049, 0.00783161, 0.02229827, 0.01065407, 0.00838949,\n",
       "       0.95492295, 0.05148301, 0.74151528, 0.00714426, 0.10652478,\n",
       "       0.0061077 , 0.99194953, 0.99246304, 0.98299338, 0.0064396 ,\n",
       "       0.02525537, 0.99167886, 0.00827056, 0.01488701, 0.01618175,\n",
       "       0.99418896, 0.02293415, 0.95330814])"
      ]
     },
     "execution_count": 259,
     "metadata": {},
     "output_type": "execute_result"
    }
   ],
   "source": [
    "previsoes_treino = lgbm.predict(x_treino)\n",
    "previsoes_treino"
   ]
  },
  {
   "cell_type": "code",
   "execution_count": 260,
   "id": "a27bed02",
   "metadata": {},
   "outputs": [
    {
     "data": {
      "text/plain": [
       "(398,)"
      ]
     },
     "execution_count": 260,
     "metadata": {},
     "output_type": "execute_result"
    }
   ],
   "source": [
    "previsoes_treino.shape"
   ]
  },
  {
   "cell_type": "code",
   "execution_count": 261,
   "id": "9388a736",
   "metadata": {},
   "outputs": [],
   "source": [
    "# Quando for menor que 5 considera 0 e quando for maior ou igual a 5 considera 1\n",
    "for i in range(0, 398):\n",
    "    if previsoes_treino[i] >= .5:       \n",
    "       previsoes_treino[i] = 1\n",
    "    else:  \n",
    "       previsoes_treino[i] = 0"
   ]
  },
  {
   "cell_type": "code",
   "execution_count": 262,
   "id": "1d8553b1",
   "metadata": {},
   "outputs": [
    {
     "data": {
      "text/plain": [
       "array([0., 1., 1., 0., 0., 0., 0., 1., 0., 1., 1., 1., 0., 0., 0., 0., 0.,\n",
       "       1., 0., 0., 1., 1., 0., 0., 0., 0., 0., 0., 0., 0., 0., 0., 1., 0.,\n",
       "       0., 0., 0., 0., 1., 1., 0., 0., 1., 0., 1., 0., 0., 1., 0., 0., 1.,\n",
       "       0., 0., 1., 0., 0., 0., 1., 1., 0., 0., 0., 1., 1., 1., 1., 1., 0.,\n",
       "       0., 0., 0., 0., 0., 0., 0., 0., 0., 1., 0., 0., 1., 0., 1., 1., 1.,\n",
       "       0., 0., 0., 0., 0., 1., 0., 0., 0., 0., 1., 1., 0., 0., 1., 0., 1.,\n",
       "       0., 1., 1., 0., 1., 0., 1., 0., 0., 1., 0., 0., 0., 0., 0., 0., 0.,\n",
       "       0., 0., 1., 0., 0., 1., 1., 0., 0., 0., 1., 0., 0., 1., 0., 0., 0.,\n",
       "       1., 0., 0., 0., 0., 0., 0., 0., 0., 0., 1., 0., 0., 0., 1., 1., 1.,\n",
       "       0., 0., 0., 0., 0., 0., 1., 1., 1., 0., 0., 1., 1., 1., 1., 0., 1.,\n",
       "       0., 1., 0., 1., 0., 0., 1., 0., 0., 1., 1., 0., 0., 1., 0., 1., 0.,\n",
       "       0., 1., 1., 0., 1., 1., 0., 1., 0., 1., 0., 0., 0., 0., 0., 1., 0.,\n",
       "       0., 0., 1., 0., 0., 0., 1., 0., 0., 0., 0., 1., 0., 0., 1., 0., 1.,\n",
       "       1., 0., 0., 0., 1., 1., 0., 0., 0., 0., 0., 0., 0., 1., 0., 0., 1.,\n",
       "       0., 0., 0., 0., 0., 1., 0., 0., 0., 0., 0., 0., 1., 1., 1., 1., 0.,\n",
       "       1., 1., 1., 1., 0., 0., 0., 0., 1., 1., 1., 0., 0., 0., 1., 1., 1.,\n",
       "       1., 1., 1., 0., 0., 1., 1., 0., 1., 1., 0., 1., 1., 1., 1., 0., 0.,\n",
       "       0., 0., 0., 0., 0., 1., 0., 1., 1., 1., 0., 0., 1., 0., 0., 0., 1.,\n",
       "       0., 0., 1., 0., 0., 1., 0., 1., 0., 1., 0., 1., 1., 1., 0., 1., 0.,\n",
       "       0., 1., 0., 1., 0., 1., 1., 1., 1., 0., 0., 1., 1., 1., 0., 0., 0.,\n",
       "       0., 0., 1., 0., 0., 1., 1., 1., 0., 0., 1., 0., 0., 0., 0., 0., 0.,\n",
       "       0., 0., 0., 0., 0., 0., 0., 0., 0., 0., 1., 1., 0., 0., 0., 0., 1.,\n",
       "       0., 0., 0., 0., 0., 0., 1., 0., 1., 0., 0., 0., 1., 1., 1., 0., 0.,\n",
       "       1., 0., 0., 0., 1., 0., 1.])"
      ]
     },
     "execution_count": 262,
     "metadata": {},
     "output_type": "execute_result"
    }
   ],
   "source": [
    "previsoes_treino"
   ]
  },
  {
   "cell_type": "code",
   "execution_count": 263,
   "id": "760ac82e",
   "metadata": {},
   "outputs": [
    {
     "name": "stdout",
     "output_type": "stream",
     "text": [
      "Acurácia: 99.50%\n"
     ]
    }
   ],
   "source": [
    "print(\"Acurácia: %.2f%%\" % (accuracy_score(y_treino, previsoes_treino) * 100.0))\n",
    "#accuracy_score(y_treino, previsoes_treino)"
   ]
  },
  {
   "cell_type": "code",
   "execution_count": 264,
   "id": "253f17f4",
   "metadata": {},
   "outputs": [
    {
     "data": {
      "text/plain": [
       "array([[250,   0],\n",
       "       [  2, 146]])"
      ]
     },
     "execution_count": 264,
     "metadata": {},
     "output_type": "execute_result"
    }
   ],
   "source": [
    "confusion_matrix(y_treino, previsoes_treino)"
   ]
  },
  {
   "cell_type": "markdown",
   "id": "b67e7c20",
   "metadata": {},
   "source": [
    "## <font color='OrangeRed'>**Validação Cruzada**"
   ]
  },
  {
   "cell_type": "code",
   "execution_count": 239,
   "id": "b6ca33d7",
   "metadata": {},
   "outputs": [],
   "source": [
    "from sklearn.model_selection import KFold\n",
    "from sklearn.model_selection import cross_val_score"
   ]
  },
  {
   "cell_type": "code",
   "execution_count": 240,
   "id": "a52fcf98",
   "metadata": {},
   "outputs": [],
   "source": [
    "# Separando os dados em folds\n",
    "kfold = KFold(n_splits = 30, shuffle=True, random_state = 5)"
   ]
  },
  {
   "cell_type": "code",
   "execution_count": 265,
   "id": "a6da2a99",
   "metadata": {},
   "outputs": [
    {
     "name": "stdout",
     "output_type": "stream",
     "text": [
      "Acurácia Média: 96.12%\n"
     ]
    }
   ],
   "source": [
    "# Criando o modelo\n",
    "modelo = lgb.LGBMClassifier(num_leaves = 250, objective = 'binary',     \n",
    "                            max_depth = 2, learning_rate = .05, max_bin =100)\n",
    "resultado = cross_val_score(modelo, previsores_esc, alvo, cv = kfold)\n",
    "\n",
    "# Usamos a média e o desvio padrão\n",
    "print(\"Acurácia Média: %.2f%%\" % (resultado.mean() * 100.0))"
   ]
  },
  {
   "cell_type": "markdown",
   "id": "07db4a74",
   "metadata": {},
   "source": [
    "### <font color='DarkGreen'>**Naive Bayes = 94.74% (treino e teste) - 162 acertos e 93.82% (validação cruzada) - previsores**\n",
    "    \n",
    "### <font color='Chocolate'>**SVM = 98.25% - 168 acertos e 97.88% (validação cruzada) : previsores_esc - SVC(kernel='rbf', random_state=5, C =2)**  \n",
    "    \n",
    "### <font color='DarkGreen'>**Regressão logística = 97.66%, - 167 acertos e 98.06% (validação cruzada): previsores_esc - LogisticRegression(random_state=1, max_iter=500, penalty=\"l2\", tol=0.0001, C=1,solver=\"lbfgs\")**\n",
    "    \n",
    "### <font color='DarkGreen'>**KNN =  95.91% - 164 acertos e 96.65% (validação cruzada) : previsores_esc- KNeighborsClassifier(n_neighbors=7, metric='minkowski', p = 1)**  \n",
    "    \n",
    "### <font color='DarkGreen'>**Árvore de decisão = 95.91% e 97.24% (treino e teste) - 164 acertos e 93.67% (validação cruzada): previsores_esc - DecisionTreeClassifier(criterion='entropy', random_state = 0, max_depth=3)**\n",
    "    \n",
    "### <font color='DarkGreen'>**Random Forest = 96.49% - 165 acertos e 96.11%(validação cruzada) : previsores - RandomForestClassifier(n_estimators=150, criterion='entropy', random_state = 5, max_depth=4)** \n",
    "    \n",
    "### <font color='DarkGreen'>**XGboost = 96.49% - 165 acertos e 96.12% (validação cruzada) : previsores ou previsores_esc - XGBClassifier(max_depth=1, learning_rate=0.1, n_estimators=250, objective='binary:logistic', random_state=21)**  \n",
    "    \n",
    "### <font color='DarkGreen'>**LightGBM =  96.49% (treino e teste)- 165 acertos e 96.12% (validação cruzada) : previsores - lgb.LGBMClassifier(num_leaves = 250, objective = 'binary', max_depth = 2, learning_rate = .05, max_bin =100)**"
   ]
  },
  {
   "cell_type": "markdown",
   "id": "564e2c48",
   "metadata": {},
   "source": [
    "### <font color='Tomato'>**o melhor algoritmo de classificação na análise do tumor do dataset sobre câncer de mama é:**\n",
    "\n",
    "### <font color='DarkGreen'>**SVM = 98.25% - 168 acertos e 97.88% (validação cruzada) : previsores_esc - SVC(kernel='rbf', random_state=5, C =2)**"
   ]
  },
  {
   "cell_type": "code",
   "execution_count": null,
   "id": "e07fdd6e",
   "metadata": {},
   "outputs": [],
   "source": []
  },
  {
   "cell_type": "markdown",
   "id": "fd29a608",
   "metadata": {},
   "source": [
    "https://www.w3schools.com/colors/colors_hex.asp"
   ]
  }
 ],
 "metadata": {
  "kernelspec": {
   "display_name": "Python 3 (ipykernel)",
   "language": "python",
   "name": "python3"
  },
  "language_info": {
   "codemirror_mode": {
    "name": "ipython",
    "version": 3
   },
   "file_extension": ".py",
   "mimetype": "text/x-python",
   "name": "python",
   "nbconvert_exporter": "python",
   "pygments_lexer": "ipython3",
   "version": "3.9.7"
  }
 },
 "nbformat": 4,
 "nbformat_minor": 5
}
