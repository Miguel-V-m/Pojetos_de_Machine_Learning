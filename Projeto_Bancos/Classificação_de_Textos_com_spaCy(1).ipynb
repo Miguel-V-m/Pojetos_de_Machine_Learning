{
  "nbformat": 4,
  "nbformat_minor": 0,
  "metadata": {
    "colab": {
      "name": "Classificação_de_Textos_com_spaCy.ipynb",
      "provenance": [],
      "collapsed_sections": []
    },
    "kernelspec": {
      "name": "python3",
      "display_name": "Python 3"
    },
    "accelerator": "GPU"
  },
  "cells": [
    {
      "cell_type": "markdown",
      "metadata": {
        "id": "AGgw36kc8udU"
      },
      "source": [
        "# Classificação de textos com spaCy"
      ]
    },
    {
      "cell_type": "markdown",
      "metadata": {
        "id": "JtJGnXGi8zt9"
      },
      "source": [
        "# Etapa 1: Importação e instalação das bibliotecas"
      ]
    },
    {
      "cell_type": "code",
      "metadata": {
        "id": "Xh86jT1k_299"
      },
      "source": [
        "!pip install spacy==2.2.3"
      ],
      "execution_count": null,
      "outputs": []
    },
    {
      "cell_type": "code",
      "metadata": {
        "id": "T1ZYK4Svri9a",
        "colab": {
          "base_uri": "https://localhost:8080/",
          "height": 35
        },
        "outputId": "03ca27d4-5ec5-4d73-9798-7460b1b4f163"
      },
      "source": [
        "import spacy\n",
        "spacy.__version__"
      ],
      "execution_count": 2,
      "outputs": [
        {
          "output_type": "execute_result",
          "data": {
            "application/vnd.google.colaboratory.intrinsic+json": {
              "type": "string"
            },
            "text/plain": [
              "'2.2.3'"
            ]
          },
          "metadata": {},
          "execution_count": 2
        }
      ]
    },
    {
      "cell_type": "code",
      "metadata": {
        "id": "BbXiQKovAAy_"
      },
      "source": [
        "!python3 -m spacy download pt"
      ],
      "execution_count": null,
      "outputs": []
    },
    {
      "cell_type": "code",
      "metadata": {
        "id": "DelYAveq8yuX"
      },
      "source": [
        "import pandas as pd\n",
        "import string\n",
        "import spacy\n",
        "import random\n",
        "import seaborn as sns\n",
        "import numpy as np"
      ],
      "execution_count": 4,
      "outputs": []
    },
    {
      "cell_type": "code",
      "metadata": {
        "id": "ptvDoi5F4KoZ"
      },
      "source": [
        "from google.colab import drive\n",
        "drive.mount('/content/drive')"
      ],
      "execution_count": null,
      "outputs": []
    },
    {
      "cell_type": "markdown",
      "metadata": {
        "id": "iE3VMD8t86ky"
      },
      "source": [
        "# Etapa 2: Carregamento da base de dados"
      ]
    },
    {
      "cell_type": "code",
      "metadata": {
        "id": "zl8DBGBNsG-h"
      },
      "source": [
        "# \"encoding = 'utf-8'\" para carregar a base de dados da lingua portuguesa\n",
        "base_dados = pd.read_csv('/content/base_treinamento.txt', encoding = 'utf-8')"
      ],
      "execution_count": 7,
      "outputs": []
    },
    {
      "cell_type": "code",
      "metadata": {
        "id": "SXVFCZ45tHK2",
        "colab": {
          "base_uri": "https://localhost:8080/"
        },
        "outputId": "48393559-edce-451f-cee0-b8d00a1c4fa5"
      },
      "source": [
        "base_dados.shape"
      ],
      "execution_count": 8,
      "outputs": [
        {
          "output_type": "execute_result",
          "data": {
            "text/plain": [
              "(196, 2)"
            ]
          },
          "metadata": {},
          "execution_count": 8
        }
      ]
    },
    {
      "cell_type": "code",
      "metadata": {
        "id": "uEzrdS6LtLKN",
        "colab": {
          "base_uri": "https://localhost:8080/",
          "height": 206
        },
        "outputId": "b8794d50-9c05-40eb-f8b3-f8dec16203ab"
      },
      "source": [
        "base_dados.head()"
      ],
      "execution_count": 9,
      "outputs": [
        {
          "output_type": "execute_result",
          "data": {
            "text/html": [
              "<div>\n",
              "<style scoped>\n",
              "    .dataframe tbody tr th:only-of-type {\n",
              "        vertical-align: middle;\n",
              "    }\n",
              "\n",
              "    .dataframe tbody tr th {\n",
              "        vertical-align: top;\n",
              "    }\n",
              "\n",
              "    .dataframe thead th {\n",
              "        text-align: right;\n",
              "    }\n",
              "</style>\n",
              "<table border=\"1\" class=\"dataframe\">\n",
              "  <thead>\n",
              "    <tr style=\"text-align: right;\">\n",
              "      <th></th>\n",
              "      <th>texto</th>\n",
              "      <th>emocao</th>\n",
              "    </tr>\n",
              "  </thead>\n",
              "  <tbody>\n",
              "    <tr>\n",
              "      <th>0</th>\n",
              "      <td>este trabalho é agradável</td>\n",
              "      <td>alegria</td>\n",
              "    </tr>\n",
              "    <tr>\n",
              "      <th>1</th>\n",
              "      <td>gosto de ficar no seu aconchego</td>\n",
              "      <td>alegria</td>\n",
              "    </tr>\n",
              "    <tr>\n",
              "      <th>2</th>\n",
              "      <td>fiz a adesão ao curso hoje</td>\n",
              "      <td>alegria</td>\n",
              "    </tr>\n",
              "    <tr>\n",
              "      <th>3</th>\n",
              "      <td>eu sou admirada por muitos</td>\n",
              "      <td>alegria</td>\n",
              "    </tr>\n",
              "    <tr>\n",
              "      <th>4</th>\n",
              "      <td>adoro como você</td>\n",
              "      <td>alegria</td>\n",
              "    </tr>\n",
              "  </tbody>\n",
              "</table>\n",
              "</div>"
            ],
            "text/plain": [
              "                             texto   emocao\n",
              "0        este trabalho é agradável  alegria\n",
              "1  gosto de ficar no seu aconchego  alegria\n",
              "2       fiz a adesão ao curso hoje  alegria\n",
              "3       eu sou admirada por muitos  alegria\n",
              "4                  adoro como você  alegria"
            ]
          },
          "metadata": {},
          "execution_count": 9
        }
      ]
    },
    {
      "cell_type": "code",
      "metadata": {
        "id": "g7mE74ILtPY3",
        "colab": {
          "base_uri": "https://localhost:8080/",
          "height": 206
        },
        "outputId": "5bd3c610-0f0c-47bd-9298-c2b47cf34ddd"
      },
      "source": [
        "base_dados.tail()"
      ],
      "execution_count": 10,
      "outputs": [
        {
          "output_type": "execute_result",
          "data": {
            "text/html": [
              "<div>\n",
              "<style scoped>\n",
              "    .dataframe tbody tr th:only-of-type {\n",
              "        vertical-align: middle;\n",
              "    }\n",
              "\n",
              "    .dataframe tbody tr th {\n",
              "        vertical-align: top;\n",
              "    }\n",
              "\n",
              "    .dataframe thead th {\n",
              "        text-align: right;\n",
              "    }\n",
              "</style>\n",
              "<table border=\"1\" class=\"dataframe\">\n",
              "  <thead>\n",
              "    <tr style=\"text-align: right;\">\n",
              "      <th></th>\n",
              "      <th>texto</th>\n",
              "      <th>emocao</th>\n",
              "    </tr>\n",
              "  </thead>\n",
              "  <tbody>\n",
              "    <tr>\n",
              "      <th>191</th>\n",
              "      <td>estou chocado e amedrontado com este assassina...</td>\n",
              "      <td>medo</td>\n",
              "    </tr>\n",
              "    <tr>\n",
              "      <th>192</th>\n",
              "      <td>é preciso afugenta com ímpeto este medo do inf...</td>\n",
              "      <td>medo</td>\n",
              "    </tr>\n",
              "    <tr>\n",
              "      <th>193</th>\n",
              "      <td>políticos usam suas forças para afugentar e am...</td>\n",
              "      <td>medo</td>\n",
              "    </tr>\n",
              "    <tr>\n",
              "      <th>194</th>\n",
              "      <td>o objetivo disso e apenas me amedrontar mais</td>\n",
              "      <td>medo</td>\n",
              "    </tr>\n",
              "    <tr>\n",
              "      <th>195</th>\n",
              "      <td>isso me apavora</td>\n",
              "      <td>medo</td>\n",
              "    </tr>\n",
              "  </tbody>\n",
              "</table>\n",
              "</div>"
            ],
            "text/plain": [
              "                                                 texto emocao\n",
              "191  estou chocado e amedrontado com este assassina...   medo\n",
              "192  é preciso afugenta com ímpeto este medo do inf...   medo\n",
              "193  políticos usam suas forças para afugentar e am...   medo\n",
              "194       o objetivo disso e apenas me amedrontar mais   medo\n",
              "195                                    isso me apavora   medo"
            ]
          },
          "metadata": {},
          "execution_count": 10
        }
      ]
    },
    {
      "cell_type": "code",
      "metadata": {
        "id": "IekRry3jtT53",
        "colab": {
          "base_uri": "https://localhost:8080/",
          "height": 334
        },
        "outputId": "319edc76-898d-4fd5-bd91-831bd3cd55d7"
      },
      "source": [
        "sns.countplot(base_dados['emocao'], label = 'Contagem');"
      ],
      "execution_count": 11,
      "outputs": [
        {
          "output_type": "stream",
          "name": "stderr",
          "text": [
            "/usr/local/lib/python3.7/dist-packages/seaborn/_decorators.py:43: FutureWarning: Pass the following variable as a keyword arg: x. From version 0.12, the only valid positional argument will be `data`, and passing other arguments without an explicit keyword will result in an error or misinterpretation.\n",
            "  FutureWarning\n"
          ]
        },
        {
          "output_type": "display_data",
          "data": {
            "image/png": "[encoded data removed]",
            "text/plain": [
              "<Figure size 432x288 with 1 Axes>"
            ]
          },
          "metadata": {
            "needs_background": "light"
          }
        }
      ]
    },
    {
      "cell_type": "markdown",
      "metadata": {
        "id": "h36-8Ien-AQ1"
      },
      "source": [
        "# Etapa 3: Função para pré-processamento dos textos"
      ]
    },
    {
      "cell_type": "code",
      "metadata": {
        "id": "a-qD0bc7uBrD",
        "colab": {
          "base_uri": "https://localhost:8080/",
          "height": 35
        },
        "outputId": "b22357e9-7bcc-4f9a-9472-57370503fc8e"
      },
      "source": [
        "pontuacoes = string.punctuation\n",
        "pontuacoes"
      ],
      "execution_count": 12,
      "outputs": [
        {
          "output_type": "execute_result",
          "data": {
            "application/vnd.google.colaboratory.intrinsic+json": {
              "type": "string"
            },
            "text/plain": [
              "'!\"#$%&\\'()*+,-./:;<=>?@[\\\\]^_`{|}~'"
            ]
          },
          "metadata": {},
          "execution_count": 12
        }
      ]
    },
    {
      "cell_type": "code",
      "metadata": {
        "id": "SowU2ch_uNoe"
      },
      "source": [
        "from spacy.lang.pt.stop_words import STOP_WORDS\n",
        "stop_words = STOP_WORDS"
      ],
      "execution_count": 13,
      "outputs": []
    },
    {
      "cell_type": "code",
      "metadata": {
        "id": "UilhsfV1uWdo",
        "colab": {
          "base_uri": "https://localhost:8080/"
        },
        "outputId": "beb941dd-726c-4ec3-dc99-89929508c09d"
      },
      "source": [
        "print(stop_words)"
      ],
      "execution_count": 14,
      "outputs": [
        {
          "output_type": "stream",
          "name": "stdout",
          "text": [
            "{'foram', 'estivestes', 'meus', 'pode', 'partir', 'vem', 'tiveram', 'naquela', 'os', 'boa', 'sob', 'comprido', 'cedo', 'mais', 'próprio', 'estiveste', 'daquela', 'cima', 'breve', 'ele', 'pelo', 'usar', 'tanta', 'numa', 'menor', 'apoia', 'grupo', 'relação', 'nove', 'todos', 'porquanto', 'debaixo', 'que', 'duas', 'quanto', 'eu', 'estas', 'ainda', 'pôde', 'puderam', 'te', 'estão', 'tempo', 'ligado', 'nenhuma', 'isto', 'onde', 'tenho', 'fui', 'for', 'dão', 'é', 'naquele', 'ver', 'da', 'estás', 'fostes', 'desta', 'estado', 'vens', 'estava', 'sexto', 'inclusive', 'seus', 'maior', 'cinco', 'iniciar', 'atrás', 'onze', 'tipo', 'sou', 'conhecida', 'pela', 'contra', 'eventual', 'final', 'sétima', 'momento', 'ir', 'me', 'certeza', 'dos', 'dezassete', 'dezoito', 'pois', 'mesmo', 'tivestes', 'ademais', 'vão', 'ontem', 'qual', 'fará', 'foste', 'quê', 'geral', 'outra', 'bastante', 'ao', 'teu', 'vez', 'dar', 'enquanto', 'novo', 'lugar', 'apoio', 'favor', 'devem', 'nunca', 'aí', 'vêm', 'sobre', 'estou', 'suas', 'mal', 'doze', 'esse', 'estiveram', 'está', 'novas', 'só', 'algo', 'estivemos', 'meses', 'maioria', 'tuas', 'lado', 'pouco', 'tanto', 'nosso', 'usa', 'essas', 'por', 'deverá', 'maiorias', 'podia', 'acerca', 'fomos', 'de', 'nossa', 'isso', 'outras', 'cuja', 'assim', 'nos', 'obrigado', 'quieta', 'quais', 'faz', 'meio', 'além', 'agora', 'nova', 'oitavo', 'teus', 'possivelmente', 'corrente', 'outros', 'tão', 'fazer', 'caminho', 'ambos', 'sete', 'próxima', 'quem', 'ponto', 'eles', 'número', 'põem', 'segunda', 'nem', 'diante', 'tendes', 'das', 'obrigada', 'terceira', 'tiveste', 'estar', 'daquele', 'talvez', 'dizer', 'treze', 'pelas', 'área', 'falta', 'até', 'desde', 'bom', 'ou', 'números', 'vosso', 'vinda', 'querem', 'cá', 'tive', 'dois', 'tua', 'apenas', 'muitos', 'deve', 'fazia', 'ser', 'conhecido', 'tente', 'quarto', 'quando', 'sim', 'sei', 'direita', 'umas', 'nossas', 'baixo', 'cada', 'fim', 'sabe', 'vários', 'aquelas', 'do', 'estará', 'já', 'tentaram', 'quatro', 'parece', 'este', 'aquela', 'depois', 'quer', 'vossos', 'na', 'muito', 'ora', 'à', 'próximo', 'nível', 'poder', 'qualquer', 'minha', 'aqui', 'nessa', 'num', 'sempre', 'inicio', 'fazem', 'tal', 'des', 'máximo', 'sem', 'pouca', 'quarta', 'posso', 'perto', 'quinze', 'somente', 'oitava', 'pegar', 'dizem', 'vindo', 'local', 'vossas', 'vai', 'irá', 'para', 'nuns', 'custa', 'dez', 'sua', 'quero', 'você', 'faço', 'tem', 'após', 'três', 'deste', 'tens', 'elas', 'era', 'meu', 'questão', 'disso', 'poderá', 'parte', 'sétimo', 'sois', 'vezes', 'sistema', 'diz', 'tivemos', 'novos', 'quinta', 'põe', 'minhas', 'possível', 'mil', 'pelos', 'ela', 'somos', 'pontos', 'esta', 'bem', 'ter', 'grandes', 'aquilo', 'podem', 'seu', 'longe', 'quinto', 'certamente', 'forma', 'embora', 'têm', 'demais', 'entre', 'fazemos', 'conselho', 'essa', 'dezanove', 'grande', 'alguns', 'cujo', 'estive', 'oito', 'fora', 'toda', 'sexta', 'uma', 'às', 'posição', 'aquele', 'todas', 'nesta', 'terceiro', 'dessa', 'dentro', 'mas', 'tentar', 'aos', 'são', 'primeiro', 'vocês', 'teve', 'segundo', 'como', 'uns', 'também', 'antes', 'as', 'seis', 'nesse', 'comprida', 'menos', 'coisa', 'desse', 'porque', 'esteve', 'porém', 'esses', 'exemplo', 'fez', 'tudo', 'um', 'ambas', 'quieto', 'mês', 'nada', 'vais', 'em', 'vossa', 'seria', 'se', 'aqueles', 'lá', 'então', 'ali', 'temos', 'fazeis', 'tentei', 'vinte', 'dá', 'foi', 'zero', 'catorze', 'tarde', 'vos', 'apontar', 'valor', 'porquê', 'saber', 'dezasseis', 'nossos', 'tais', 'no', 'logo', 'algumas', 'primeira', 'vós', 'com', 'adeus', 'através', 'estes', 'último', 'nós', 'povo', 'veja', 'todo', 'nas', 'cento', 'és', 'fazes', 'portanto', 'lhe', 'tu', 'neste', 'não', 'contudo'}\n"
          ]
        }
      ]
    },
    {
      "cell_type": "code",
      "metadata": {
        "id": "TCPSvh8buZlX",
        "colab": {
          "base_uri": "https://localhost:8080/"
        },
        "outputId": "8b2148e9-cbb7-420d-d8b9-f91c33dff852"
      },
      "source": [
        "len(stop_words)"
      ],
      "execution_count": 15,
      "outputs": [
        {
          "output_type": "execute_result",
          "data": {
            "text/plain": [
              "413"
            ]
          },
          "metadata": {},
          "execution_count": 15
        }
      ]
    },
    {
      "cell_type": "code",
      "metadata": {
        "id": "QhF1_72Euc4o"
      },
      "source": [
        "pln = spacy.load('pt')"
      ],
      "execution_count": 16,
      "outputs": []
    },
    {
      "cell_type": "code",
      "metadata": {
        "id": "BN8Bzd1Dug0v",
        "colab": {
          "base_uri": "https://localhost:8080/"
        },
        "outputId": "018c4a81-7e97-433a-f3e0-6e15c08d45cb"
      },
      "source": [
        "pln"
      ],
      "execution_count": 17,
      "outputs": [
        {
          "output_type": "execute_result",
          "data": {
            "text/plain": [
              "<spacy.lang.pt.Portuguese at 0x7f002ec0c790>"
            ]
          },
          "metadata": {},
          "execution_count": 17
        }
      ]
    },
    {
      "cell_type": "code",
      "metadata": {
        "id": "RvCEW_Uqune8"
      },
      "source": [
        "def preprocessamento(texto):\n",
        "  texto = texto.lower()\n",
        "  documento = pln(texto)\n",
        "  \n",
        "  lista = []\n",
        "  for token in documento:\n",
        "    #lista.append(token.text)\n",
        "    lista.append(token.lemma_)\n",
        "\n",
        "  lista = [palavra for palavra in lista if palavra not in stop_words and palavra not in pontuacoes]\n",
        "  lista = ' '.join([str(elemento) for elemento in lista if not elemento.isdigit()])\n",
        "\n",
        "  return lista"
      ],
      "execution_count": 18,
      "outputs": []
    },
    {
      "cell_type": "code",
      "metadata": {
        "id": "2_nIBBhYuqsr",
        "colab": {
          "base_uri": "https://localhost:8080/",
          "height": 35
        },
        "outputId": "53d945ef-0c73-40dd-835b-24a7f7deebb4"
      },
      "source": [
        "teste = preprocessamento('Estou aPrendendo 1 10 23 processamento de linguagem natural, Curso em Curitiba')\n",
        "teste"
      ],
      "execution_count": 20,
      "outputs": [
        {
          "output_type": "execute_result",
          "data": {
            "application/vnd.google.colaboratory.intrinsic+json": {
              "type": "string"
            },
            "text/plain": [
              "'aprender processamento linguagem natural cursar curitiba'"
            ]
          },
          "metadata": {},
          "execution_count": 20
        }
      ]
    },
    {
      "cell_type": "markdown",
      "metadata": {
        "id": "DtL8DBPVOFoL"
      },
      "source": [
        "# Etapa 4: Pré-processamento da base de dados"
      ]
    },
    {
      "cell_type": "markdown",
      "metadata": {
        "id": "n7G5PSVUOOId"
      },
      "source": [
        "### Limpeza dos textos"
      ]
    },
    {
      "cell_type": "code",
      "metadata": {
        "id": "hpwZrbUGw58L",
        "colab": {
          "base_uri": "https://localhost:8080/",
          "height": 363
        },
        "outputId": "98d6bdaf-da45-48ab-8b23-545fa08d6c77"
      },
      "source": [
        "base_dados.head(10)"
      ],
      "execution_count": 21,
      "outputs": [
        {
          "output_type": "execute_result",
          "data": {
            "text/html": [
              "<div>\n",
              "<style scoped>\n",
              "    .dataframe tbody tr th:only-of-type {\n",
              "        vertical-align: middle;\n",
              "    }\n",
              "\n",
              "    .dataframe tbody tr th {\n",
              "        vertical-align: top;\n",
              "    }\n",
              "\n",
              "    .dataframe thead th {\n",
              "        text-align: right;\n",
              "    }\n",
              "</style>\n",
              "<table border=\"1\" class=\"dataframe\">\n",
              "  <thead>\n",
              "    <tr style=\"text-align: right;\">\n",
              "      <th></th>\n",
              "      <th>texto</th>\n",
              "      <th>emocao</th>\n",
              "    </tr>\n",
              "  </thead>\n",
              "  <tbody>\n",
              "    <tr>\n",
              "      <th>0</th>\n",
              "      <td>este trabalho é agradável</td>\n",
              "      <td>alegria</td>\n",
              "    </tr>\n",
              "    <tr>\n",
              "      <th>1</th>\n",
              "      <td>gosto de ficar no seu aconchego</td>\n",
              "      <td>alegria</td>\n",
              "    </tr>\n",
              "    <tr>\n",
              "      <th>2</th>\n",
              "      <td>fiz a adesão ao curso hoje</td>\n",
              "      <td>alegria</td>\n",
              "    </tr>\n",
              "    <tr>\n",
              "      <th>3</th>\n",
              "      <td>eu sou admirada por muitos</td>\n",
              "      <td>alegria</td>\n",
              "    </tr>\n",
              "    <tr>\n",
              "      <th>4</th>\n",
              "      <td>adoro como você</td>\n",
              "      <td>alegria</td>\n",
              "    </tr>\n",
              "    <tr>\n",
              "      <th>5</th>\n",
              "      <td>adoro seu cabelo macio</td>\n",
              "      <td>alegria</td>\n",
              "    </tr>\n",
              "    <tr>\n",
              "      <th>6</th>\n",
              "      <td>adoro a cor dos seus olhos</td>\n",
              "      <td>alegria</td>\n",
              "    </tr>\n",
              "    <tr>\n",
              "      <th>7</th>\n",
              "      <td>somo tão amáveis um com o outro</td>\n",
              "      <td>alegria</td>\n",
              "    </tr>\n",
              "    <tr>\n",
              "      <th>8</th>\n",
              "      <td>sinto uma grande afeição por ele</td>\n",
              "      <td>alegria</td>\n",
              "    </tr>\n",
              "    <tr>\n",
              "      <th>9</th>\n",
              "      <td>quero agradar meus filhos</td>\n",
              "      <td>alegria</td>\n",
              "    </tr>\n",
              "  </tbody>\n",
              "</table>\n",
              "</div>"
            ],
            "text/plain": [
              "                              texto   emocao\n",
              "0         este trabalho é agradável  alegria\n",
              "1   gosto de ficar no seu aconchego  alegria\n",
              "2        fiz a adesão ao curso hoje  alegria\n",
              "3        eu sou admirada por muitos  alegria\n",
              "4                   adoro como você  alegria\n",
              "5            adoro seu cabelo macio  alegria\n",
              "6        adoro a cor dos seus olhos  alegria\n",
              "7   somo tão amáveis um com o outro  alegria\n",
              "8  sinto uma grande afeição por ele  alegria\n",
              "9         quero agradar meus filhos  alegria"
            ]
          },
          "metadata": {},
          "execution_count": 21
        }
      ]
    },
    {
      "cell_type": "code",
      "metadata": {
        "id": "Yg17ZY0LxHB-"
      },
      "source": [
        "base_dados['texto'] = base_dados['texto'].apply(preprocessamento)"
      ],
      "execution_count": 22,
      "outputs": []
    },
    {
      "cell_type": "code",
      "metadata": {
        "id": "a-Rh0qZQxZ99",
        "colab": {
          "base_uri": "https://localhost:8080/",
          "height": 363
        },
        "outputId": "4525fd13-6841-413f-fdad-4ead3d5a8e72"
      },
      "source": [
        "base_dados.head(10)"
      ],
      "execution_count": 23,
      "outputs": [
        {
          "output_type": "execute_result",
          "data": {
            "text/html": [
              "<div>\n",
              "<style scoped>\n",
              "    .dataframe tbody tr th:only-of-type {\n",
              "        vertical-align: middle;\n",
              "    }\n",
              "\n",
              "    .dataframe tbody tr th {\n",
              "        vertical-align: top;\n",
              "    }\n",
              "\n",
              "    .dataframe thead th {\n",
              "        text-align: right;\n",
              "    }\n",
              "</style>\n",
              "<table border=\"1\" class=\"dataframe\">\n",
              "  <thead>\n",
              "    <tr style=\"text-align: right;\">\n",
              "      <th></th>\n",
              "      <th>texto</th>\n",
              "      <th>emocao</th>\n",
              "    </tr>\n",
              "  </thead>\n",
              "  <tbody>\n",
              "    <tr>\n",
              "      <th>0</th>\n",
              "      <td>trabalhar agradável</td>\n",
              "      <td>alegria</td>\n",
              "    </tr>\n",
              "    <tr>\n",
              "      <th>1</th>\n",
              "      <td>gostar ficar o aconchegar</td>\n",
              "      <td>alegria</td>\n",
              "    </tr>\n",
              "    <tr>\n",
              "      <th>2</th>\n",
              "      <td>o adesão o o cursar hoje</td>\n",
              "      <td>alegria</td>\n",
              "    </tr>\n",
              "    <tr>\n",
              "      <th>3</th>\n",
              "      <td>admirar</td>\n",
              "      <td>alegria</td>\n",
              "    </tr>\n",
              "    <tr>\n",
              "      <th>4</th>\n",
              "      <td>adorar comer</td>\n",
              "      <td>alegria</td>\n",
              "    </tr>\n",
              "    <tr>\n",
              "      <th>5</th>\n",
              "      <td>adorar cabelar maciar</td>\n",
              "      <td>alegria</td>\n",
              "    </tr>\n",
              "    <tr>\n",
              "      <th>6</th>\n",
              "      <td>adorar o cor olho</td>\n",
              "      <td>alegria</td>\n",
              "    </tr>\n",
              "    <tr>\n",
              "      <th>7</th>\n",
              "      <td>somar amável o outro</td>\n",
              "      <td>alegria</td>\n",
              "    </tr>\n",
              "    <tr>\n",
              "      <th>8</th>\n",
              "      <td>sentir umar afeição</td>\n",
              "      <td>alegria</td>\n",
              "    </tr>\n",
              "    <tr>\n",
              "      <th>9</th>\n",
              "      <td>querer agradar filho</td>\n",
              "      <td>alegria</td>\n",
              "    </tr>\n",
              "  </tbody>\n",
              "</table>\n",
              "</div>"
            ],
            "text/plain": [
              "                       texto   emocao\n",
              "0        trabalhar agradável  alegria\n",
              "1  gostar ficar o aconchegar  alegria\n",
              "2   o adesão o o cursar hoje  alegria\n",
              "3                    admirar  alegria\n",
              "4               adorar comer  alegria\n",
              "5      adorar cabelar maciar  alegria\n",
              "6          adorar o cor olho  alegria\n",
              "7       somar amável o outro  alegria\n",
              "8        sentir umar afeição  alegria\n",
              "9       querer agradar filho  alegria"
            ]
          },
          "metadata": {},
          "execution_count": 23
        }
      ]
    },
    {
      "cell_type": "markdown",
      "metadata": {
        "id": "trA39YO4PcFp"
      },
      "source": [
        "### Tratamento da classe"
      ]
    },
    {
      "cell_type": "code",
      "metadata": {
        "id": "SPPY0MlIYoTR"
      },
      "source": [
        "exemplo_base_dados = [[\"este trabalho é agradável\", {\"ALEGRIA\": True, \"MEDO\": False}],\n",
        "                      [\"este lugar continua assustador\", {\"ALEGRIA\": False, \"MEDO\": True}]]"
      ],
      "execution_count": 24,
      "outputs": []
    },
    {
      "cell_type": "code",
      "metadata": {
        "id": "u_2R-JWKyJ9c",
        "colab": {
          "base_uri": "https://localhost:8080/"
        },
        "outputId": "eb564d18-6342-44f0-9000-fb5e023ce462"
      },
      "source": [
        "type(exemplo_base_dados)"
      ],
      "execution_count": 25,
      "outputs": [
        {
          "output_type": "execute_result",
          "data": {
            "text/plain": [
              "list"
            ]
          },
          "metadata": {},
          "execution_count": 25
        }
      ]
    },
    {
      "cell_type": "code",
      "metadata": {
        "id": "baZHkQZgyVNV",
        "colab": {
          "base_uri": "https://localhost:8080/"
        },
        "outputId": "36748c54-f6d0-49d3-ac3b-9702bfe9510d"
      },
      "source": [
        "exemplo_base_dados[0]"
      ],
      "execution_count": 26,
      "outputs": [
        {
          "output_type": "execute_result",
          "data": {
            "text/plain": [
              "['este trabalho é agradável', {'ALEGRIA': True, 'MEDO': False}]"
            ]
          },
          "metadata": {},
          "execution_count": 26
        }
      ]
    },
    {
      "cell_type": "code",
      "metadata": {
        "id": "BXVJt4BHyZsR",
        "colab": {
          "base_uri": "https://localhost:8080/",
          "height": 35
        },
        "outputId": "f6394433-e985-4590-c243-085ebe36e1b0"
      },
      "source": [
        "exemplo_base_dados[0][0]"
      ],
      "execution_count": 27,
      "outputs": [
        {
          "output_type": "execute_result",
          "data": {
            "application/vnd.google.colaboratory.intrinsic+json": {
              "type": "string"
            },
            "text/plain": [
              "'este trabalho é agradável'"
            ]
          },
          "metadata": {},
          "execution_count": 27
        }
      ]
    },
    {
      "cell_type": "code",
      "metadata": {
        "id": "y_xMiJIGydyE",
        "colab": {
          "base_uri": "https://localhost:8080/"
        },
        "outputId": "c88b2393-55ca-4860-c4bf-f96b7bc53703"
      },
      "source": [
        "exemplo_base_dados[0][1]"
      ],
      "execution_count": 28,
      "outputs": [
        {
          "output_type": "execute_result",
          "data": {
            "text/plain": [
              "{'ALEGRIA': True, 'MEDO': False}"
            ]
          },
          "metadata": {},
          "execution_count": 28
        }
      ]
    },
    {
      "cell_type": "code",
      "metadata": {
        "id": "fEWag1Glyg4M",
        "colab": {
          "base_uri": "https://localhost:8080/"
        },
        "outputId": "32ce4039-f6ff-465e-eaa2-62375440ed72"
      },
      "source": [
        "type(exemplo_base_dados[0][1])"
      ],
      "execution_count": 29,
      "outputs": [
        {
          "output_type": "execute_result",
          "data": {
            "text/plain": [
              "dict"
            ]
          },
          "metadata": {},
          "execution_count": 29
        }
      ]
    },
    {
      "cell_type": "code",
      "metadata": {
        "id": "TH31QeqEyrub"
      },
      "source": [
        "base_dados_final = []\n",
        "for texto, emocao in zip(base_dados['texto'], base_dados['emocao']):\n",
        "  #print(texto, emocao)\n",
        "  if emocao == 'alegria':\n",
        "    dic = ({'ALEGRIA': True, 'MEDO': False})\n",
        "  elif emocao == 'medo':\n",
        "    dic = ({'ALEGRIA': False, 'MEDO': True})\n",
        "\n",
        "  base_dados_final.append([texto, dic.copy()])"
      ],
      "execution_count": 30,
      "outputs": []
    },
    {
      "cell_type": "code",
      "metadata": {
        "id": "L-uCDjrazfyN",
        "colab": {
          "base_uri": "https://localhost:8080/"
        },
        "outputId": "2695d32e-ae89-47f7-a414-b357d0ede525"
      },
      "source": [
        "len(base_dados_final)"
      ],
      "execution_count": 31,
      "outputs": [
        {
          "output_type": "execute_result",
          "data": {
            "text/plain": [
              "196"
            ]
          },
          "metadata": {},
          "execution_count": 31
        }
      ]
    },
    {
      "cell_type": "code",
      "metadata": {
        "id": "Nxl28cCezjjS",
        "colab": {
          "base_uri": "https://localhost:8080/"
        },
        "outputId": "ad8d78a4-37c4-4e7b-c719-91e74d1ffe59"
      },
      "source": [
        "base_dados_final[0]"
      ],
      "execution_count": 32,
      "outputs": [
        {
          "output_type": "execute_result",
          "data": {
            "text/plain": [
              "['trabalhar agradável', {'ALEGRIA': True, 'MEDO': False}]"
            ]
          },
          "metadata": {},
          "execution_count": 32
        }
      ]
    },
    {
      "cell_type": "code",
      "metadata": {
        "id": "LR_UPCX5zodw",
        "colab": {
          "base_uri": "https://localhost:8080/",
          "height": 35
        },
        "outputId": "377beff7-2352-4778-fec5-943323560e91"
      },
      "source": [
        "base_dados_final[0][0]"
      ],
      "execution_count": 33,
      "outputs": [
        {
          "output_type": "execute_result",
          "data": {
            "application/vnd.google.colaboratory.intrinsic+json": {
              "type": "string"
            },
            "text/plain": [
              "'trabalhar agradável'"
            ]
          },
          "metadata": {},
          "execution_count": 33
        }
      ]
    },
    {
      "cell_type": "code",
      "metadata": {
        "id": "-0M3jriRzrho",
        "colab": {
          "base_uri": "https://localhost:8080/"
        },
        "outputId": "0a8beaff-ef66-401d-fe48-e716acf6ec8e"
      },
      "source": [
        "base_dados_final[0][1]"
      ],
      "execution_count": 34,
      "outputs": [
        {
          "output_type": "execute_result",
          "data": {
            "text/plain": [
              "{'ALEGRIA': True, 'MEDO': False}"
            ]
          },
          "metadata": {},
          "execution_count": 34
        }
      ]
    },
    {
      "cell_type": "code",
      "metadata": {
        "id": "RcO2rX_Nzue-",
        "colab": {
          "base_uri": "https://localhost:8080/"
        },
        "outputId": "cad0c946-3fae-4d07-9683-2f5f4a23c6f1"
      },
      "source": [
        "type(base_dados_final[0][1])"
      ],
      "execution_count": 35,
      "outputs": [
        {
          "output_type": "execute_result",
          "data": {
            "text/plain": [
              "dict"
            ]
          },
          "metadata": {},
          "execution_count": 35
        }
      ]
    },
    {
      "cell_type": "code",
      "metadata": {
        "id": "VoF9RsEFzySQ",
        "colab": {
          "base_uri": "https://localhost:8080/"
        },
        "outputId": "ab9677fe-a96c-403e-d0b4-19cea495670c"
      },
      "source": [
        "base_dados_final"
      ],
      "execution_count": 36,
      "outputs": [
        {
          "output_type": "execute_result",
          "data": {
            "text/plain": [
              "[['trabalhar agradável', {'ALEGRIA': True, 'MEDO': False}],\n",
              " ['gostar ficar o aconchegar', {'ALEGRIA': True, 'MEDO': False}],\n",
              " ['o adesão o o cursar hoje', {'ALEGRIA': True, 'MEDO': False}],\n",
              " ['admirar', {'ALEGRIA': True, 'MEDO': False}],\n",
              " ['adorar comer', {'ALEGRIA': True, 'MEDO': False}],\n",
              " ['adorar cabelar maciar', {'ALEGRIA': True, 'MEDO': False}],\n",
              " ['adorar o cor olho', {'ALEGRIA': True, 'MEDO': False}],\n",
              " ['somar amável o outro', {'ALEGRIA': True, 'MEDO': False}],\n",
              " ['sentir umar afeição', {'ALEGRIA': True, 'MEDO': False}],\n",
              " ['querer agradar filho', {'ALEGRIA': True, 'MEDO': False}],\n",
              " ['sentir completamente amar', {'ALEGRIA': True, 'MEDO': False}],\n",
              " ['amar', {'ALEGRIA': True, 'MEDO': False}],\n",
              " ['alívio', {'ALEGRIA': True, 'MEDO': False}],\n",
              " ['o dor amenizar finalmente', {'ALEGRIA': True, 'MEDO': False}],\n",
              " ['achar apaixonar', {'ALEGRIA': True, 'MEDO': False}],\n",
              " ['amar maravilhoso', {'ALEGRIA': True, 'MEDO': False}],\n",
              " ['sentir animar', {'ALEGRIA': True, 'MEDO': False}],\n",
              " ['sentir hoje', {'ALEGRIA': True, 'MEDO': False}],\n",
              " ['comer o luar belo', {'ALEGRIA': True, 'MEDO': False}],\n",
              " ['o dia bonito', {'ALEGRIA': True, 'MEDO': False}],\n",
              " ['comer afortunar', {'ALEGRIA': True, 'MEDO': False}],\n",
              " ['o maravilhar mundo', {'ALEGRIA': True, 'MEDO': False}],\n",
              " ['receber caro hoje colega', {'ALEGRIA': True, 'MEDO': False}],\n",
              " ['sentir reconfortar hoje', {'ALEGRIA': True, 'MEDO': False}],\n",
              " ['o amigo', {'ALEGRIA': True, 'MEDO': False}],\n",
              " ['contentar o resultar teste', {'ALEGRIA': True, 'MEDO': False}],\n",
              " ['pintura brilhante', {'ALEGRIA': True, 'MEDO': False}],\n",
              " ['água abundância', {'ALEGRIA': True, 'MEDO': False}],\n",
              " ['roupar delicado', {'ALEGRIA': True, 'MEDO': False}],\n",
              " ['comediante', {'ALEGRIA': True, 'MEDO': False}],\n",
              " ['bondade o suar', {'ALEGRIA': True, 'MEDO': False}],\n",
              " ['o amor lindar', {'ALEGRIA': True, 'MEDO': False}],\n",
              " ['amizade durar parir', {'ALEGRIA': True, 'MEDO': False}],\n",
              " ['eufórico o notícia', {'ALEGRIA': True, 'MEDO': False}],\n",
              " ['realmente fiel o mim', {'ALEGRIA': True, 'MEDO': False}],\n",
              " ['umar festa parir comemorar aniversário', {'ALEGRIA': True, 'MEDO': False}],\n",
              " ['graça o deus enxergar o certar', {'ALEGRIA': True, 'MEDO': False}],\n",
              " ['o melhor escolher', {'ALEGRIA': True, 'MEDO': False}],\n",
              " ['o incrível belo', {'ALEGRIA': True, 'MEDO': False}],\n",
              " ['engraçar explicar', {'ALEGRIA': True, 'MEDO': False}],\n",
              " ['emocionante n', {'ALEGRIA': True, 'MEDO': False}],\n",
              " ['cativar pelar olhar', {'ALEGRIA': True, 'MEDO': False}],\n",
              " ['loucamente apaixonar', {'ALEGRIA': True, 'MEDO': False}],\n",
              " ['dúvida', {'ALEGRIA': True, 'MEDO': False}],\n",
              " ['rodear pelar abraçar', {'ALEGRIA': True, 'MEDO': False}],\n",
              " ['estrelo pelar caminhar', {'ALEGRIA': True, 'MEDO': False}],\n",
              " ['sentir o sol', {'ALEGRIA': True, 'MEDO': False}],\n",
              " ['sorrir orelhar o orelhar', {'ALEGRIA': True, 'MEDO': False}],\n",
              " ['valer o peno', {'ALEGRIA': True, 'MEDO': False}],\n",
              " ['finalmente colocar amor', {'ALEGRIA': True, 'MEDO': False}],\n",
              " ['nó dançar noite adentrar', {'ALEGRIA': True, 'MEDO': False}],\n",
              " ['amor brilhante', {'ALEGRIA': True, 'MEDO': False}],\n",
              " ['tocar coração durante o caminhar', {'ALEGRIA': True, 'MEDO': False}],\n",
              " ['suar amigo e companheiro', {'ALEGRIA': True, 'MEDO': False}],\n",
              " ['trazer voltar o vidar', {'ALEGRIA': True, 'MEDO': False}],\n",
              " ['e comer sonhar doce', {'ALEGRIA': True, 'MEDO': False}],\n",
              " ['adorar doce frutar', {'ALEGRIA': True, 'MEDO': False}],\n",
              " ['suco favorito', {'ALEGRIA': True, 'MEDO': False}],\n",
              " ['agradecido pelar ajudar', {'ALEGRIA': True, 'MEDO': False}],\n",
              " ['enorme prazer equipar', {'ALEGRIA': True, 'MEDO': False}],\n",
              " ['trabalhar equipar o melhor', {'ALEGRIA': True, 'MEDO': False}],\n",
              " ['sentir flutuar o ar', {'ALEGRIA': True, 'MEDO': False}],\n",
              " ['o brisa agradável hoje', {'ALEGRIA': True, 'MEDO': False}],\n",
              " ['ótimo e compatível', {'ALEGRIA': True, 'MEDO': False}],\n",
              " ['compatível o outro', {'ALEGRIA': True, 'MEDO': False}],\n",
              " ['o órgão compatível o paciente', {'ALEGRIA': True, 'MEDO': False}],\n",
              " ['contentar aceito o faculdade', {'ALEGRIA': True, 'MEDO': False}],\n",
              " ['aprovar o exame', {'ALEGRIA': True, 'MEDO': False}],\n",
              " ['beneficiar pelar empresar', {'ALEGRIA': True, 'MEDO': False}],\n",
              " ['cativante', {'ALEGRIA': True, 'MEDO': False}],\n",
              " ['contentar o apoiar', {'ALEGRIA': True, 'MEDO': False}],\n",
              " ['comer e confortável', {'ALEGRIA': True, 'MEDO': False}],\n",
              " ['e quentar n frio', {'ALEGRIA': True, 'MEDO': False}],\n",
              " ['elogiar e', {'ALEGRIA': True, 'MEDO': False}],\n",
              " ['chamar parir comemorar', {'ALEGRIA': True, 'MEDO': False}],\n",
              " ['desejável o suar presença apresentação', {'ALEGRIA': True, 'MEDO': False}],\n",
              " ['grato o', {'ALEGRIA': True, 'MEDO': False}],\n",
              " ['dedicar n', {'ALEGRIA': True, 'MEDO': False}],\n",
              " ['completamente apaixonar', {'ALEGRIA': True, 'MEDO': False}],\n",
              " ['agitar noite', {'ALEGRIA': True, 'MEDO': False}],\n",
              " ['significar parir mim', {'ALEGRIA': True, 'MEDO': False}],\n",
              " ['agir preconceito e julgamento', {'ALEGRIA': True, 'MEDO': False}],\n",
              " ['finalmente completar o coleção maravilhoso',\n",
              "  {'ALEGRIA': True, 'MEDO': False}],\n",
              " ['suar rei', {'ALEGRIA': True, 'MEDO': False}],\n",
              " ['satisfatoriamente anunciar o vencedor jogo',\n",
              "  {'ALEGRIA': True, 'MEDO': False}],\n",
              " ['atrair facilmente', {'ALEGRIA': True, 'MEDO': False}],\n",
              " ['rapaz e extremamente atraente', {'ALEGRIA': True, 'MEDO': False}],\n",
              " ['sinto-me vivo', {'ALEGRIA': True, 'MEDO': False}],\n",
              " ['sinto-me paz', {'ALEGRIA': True, 'MEDO': False}],\n",
              " ['lucrar', {'ALEGRIA': True, 'MEDO': False}],\n",
              " ['ordem', {'ALEGRIA': True, 'MEDO': False}],\n",
              " ['arrumar empregar junto', {'ALEGRIA': True, 'MEDO': False}],\n",
              " ['o arrumação terminar alívio', {'ALEGRIA': True, 'MEDO': False}],\n",
              " ['o câncer benigno', {'ALEGRIA': True, 'MEDO': False}],\n",
              " ['o amor abundante', {'ALEGRIA': True, 'MEDO': False}],\n",
              " ['caridoso natal', {'ALEGRIA': True, 'MEDO': False}],\n",
              " ['charme irar atrair o', {'ALEGRIA': True, 'MEDO': False}],\n",
              " ['comer charmoso querer', {'ALEGRIA': True, 'MEDO': False}],\n",
              " ['querido amigo', {'ALEGRIA': True, 'MEDO': False}],\n",
              " ['cuidadoso o sentimento', {'ALEGRIA': True, 'MEDO': False}],\n",
              " ['comover tamanho caridade', {'ALEGRIA': True, 'MEDO': False}],\n",
              " ['chá quentar e reconfortante', {'ALEGRIA': True, 'MEDO': False}],\n",
              " ['alegria', {'ALEGRIA': True, 'MEDO': False}],\n",
              " ['aplaudir o vencedor', {'ALEGRIA': True, 'MEDO': False}],\n",
              " ['palmar parir o aniversariante', {'ALEGRIA': True, 'MEDO': False}],\n",
              " ['desejar o', {'ALEGRIA': True, 'MEDO': False}],\n",
              " ['horar apreciar vinho', {'ALEGRIA': True, 'MEDO': False}],\n",
              " ['apreciar suar presença escola', {'ALEGRIA': True, 'MEDO': False}],\n",
              " ['ansiar trabalho', {'ALEGRIA': True, 'MEDO': False}],\n",
              " ['maravilhoso jogar amistoso', {'ALEGRIA': True, 'MEDO': False}],\n",
              " ['e ótimo o menimos apaziguar', {'ALEGRIA': True, 'MEDO': False}],\n",
              " ['concretizar finalmente sonhar', {'ALEGRIA': True, 'MEDO': False}],\n",
              " ['implorar matar', {'ALEGRIA': False, 'MEDO': True}],\n",
              " ['perigoso', {'ALEGRIA': False, 'MEDO': True}],\n",
              " ['segurar', {'ALEGRIA': False, 'MEDO': True}],\n",
              " ['correr pra', {'ALEGRIA': False, 'MEDO': True}],\n",
              " ['socorrer querer roubar o doce', {'ALEGRIA': False, 'MEDO': True}],\n",
              " ['caro perseguir', {'ALEGRIA': False, 'MEDO': True}],\n",
              " ['entrar perigoso', {'ALEGRIA': False, 'MEDO': True}],\n",
              " ['continuar assustador', {'ALEGRIA': False, 'MEDO': True}],\n",
              " ['o selva animar perigoso', {'ALEGRIA': False, 'MEDO': True}],\n",
              " ['avançar cautela', {'ALEGRIA': False, 'MEDO': True}],\n",
              " ['silencioso cuidar', {'ALEGRIA': False, 'MEDO': True}],\n",
              " ['deixe-me viver', {'ALEGRIA': False, 'MEDO': True}],\n",
              " ['ficar mesada tirar noto', {'ALEGRIA': False, 'MEDO': True}],\n",
              " ['parecer olho o vigiar', {'ALEGRIA': False, 'MEDO': True}],\n",
              " ['o sentença juiz negativo', {'ALEGRIA': False, 'MEDO': True}],\n",
              " ['missão arriscar', {'ALEGRIA': False, 'MEDO': True}],\n",
              " ['salvem-se', {'ALEGRIA': False, 'MEDO': True}],\n",
              " ['planar descobrir', {'ALEGRIA': False, 'MEDO': True}],\n",
              " ['culpar jurar', {'ALEGRIA': False, 'MEDO': True}],\n",
              " ['tomar cuidar o lobisomem', {'ALEGRIA': False, 'MEDO': True}],\n",
              " ['achar descobrir o verdade', {'ALEGRIA': False, 'MEDO': True}],\n",
              " ['deus desaparecer', {'ALEGRIA': False, 'MEDO': True}],\n",
              " ['tomar d', {'ALEGRIA': False, 'MEDO': True}],\n",
              " ['manter segredar descobrir ferrar', {'ALEGRIA': False, 'MEDO': True}],\n",
              " ['soltar inocentar', {'ALEGRIA': False, 'MEDO': True}],\n",
              " ['ouvir passo mim', {'ALEGRIA': False, 'MEDO': True}],\n",
              " ['pedir socorrer', {'ALEGRIA': False, 'MEDO': True}],\n",
              " ['cuidar o curvo o estrar', {'ALEGRIA': False, 'MEDO': True}],\n",
              " ['parecer perigoso', {'ALEGRIA': False, 'MEDO': True}],\n",
              " ['tremer medo', {'ALEGRIA': False, 'MEDO': True}],\n",
              " ['socorrer cair', {'ALEGRIA': False, 'MEDO': True}],\n",
              " ['o florestar negro perigoso', {'ALEGRIA': False, 'MEDO': True}],\n",
              " ['ouvir passo o direção', {'ALEGRIA': False, 'MEDO': True}],\n",
              " ['achar arriscar', {'ALEGRIA': False, 'MEDO': True}],\n",
              " ['voltar perigoso', {'ALEGRIA': False, 'MEDO': True}],\n",
              " ['fugir acabar morto', {'ALEGRIA': False, 'MEDO': True}],\n",
              " ['recear livrar d situação', {'ALEGRIA': False, 'MEDO': True}],\n",
              " ['socorrer armar', {'ALEGRIA': False, 'MEDO': True}],\n",
              " ['eis cuidar bater o postar', {'ALEGRIA': False, 'MEDO': True}],\n",
              " ['socorrer nó afundar', {'ALEGRIA': False, 'MEDO': True}],\n",
              " ['e sério cuidar armar', {'ALEGRIA': False, 'MEDO': True}],\n",
              " ['o tubarão atacar', {'ALEGRIA': False, 'MEDO': True}],\n",
              " ['sentir arrepio ficar o escuro', {'ALEGRIA': False, 'MEDO': True}],\n",
              " ['calmo o dinheiro', {'ALEGRIA': False, 'MEDO': True}],\n",
              " ['achar enganar', {'ALEGRIA': False, 'MEDO': True}],\n",
              " ['ligeiro fugir depressa', {'ALEGRIA': False, 'MEDO': True}],\n",
              " ['crocodilo selvagem vir parir', {'ALEGRIA': False, 'MEDO': True}],\n",
              " ['ficar o achar', {'ALEGRIA': False, 'MEDO': True}],\n",
              " ['fugir o tigre parecer faminto', {'ALEGRIA': False, 'MEDO': True}],\n",
              " ['sair precisar milagre', {'ALEGRIA': False, 'MEDO': True}],\n",
              " ['tirar mim socorrer', {'ALEGRIA': False, 'MEDO': True}],\n",
              " ['nadar afogar', {'ALEGRIA': False, 'MEDO': True}],\n",
              " ['e segurar', {'ALEGRIA': False, 'MEDO': True}],\n",
              " ['apanhar pai boletim', {'ALEGRIA': False, 'MEDO': True}],\n",
              " ['conseguir sair d', {'ALEGRIA': False, 'MEDO': True}],\n",
              " ['sair tardar assaltar', {'ALEGRIA': False, 'MEDO': True}],\n",
              " ['deixar', {'ALEGRIA': False, 'MEDO': True}],\n",
              " ['esperar largar', {'ALEGRIA': False, 'MEDO': True}],\n",
              " ['pelar suar segurança', {'ALEGRIA': False, 'MEDO': True}],\n",
              " ['entregar o dinheiro matar', {'ALEGRIA': False, 'MEDO': True}],\n",
              " ['levar o dinheiro', {'ALEGRIA': False, 'MEDO': True}],\n",
              " ['dirigir rápido', {'ALEGRIA': False, 'MEDO': True}],\n",
              " ['descobrir prender', {'ALEGRIA': False, 'MEDO': True}],\n",
              " ['esperar nenhum', {'ALEGRIA': False, 'MEDO': True}],\n",
              " ['afogar ajudar o sair água', {'ALEGRIA': False, 'MEDO': True}],\n",
              " ['o salvar', {'ALEGRIA': False, 'MEDO': True}],\n",
              " ['querer pensar o acontecer', {'ALEGRIA': False, 'MEDO': True}],\n",
              " ['n cidade umar desgraçar outro', {'ALEGRIA': False, 'MEDO': True}],\n",
              " ['alguém ligar assustar', {'ALEGRIA': False, 'MEDO': True}],\n",
              " ['remedio matar', {'ALEGRIA': False, 'MEDO': True}],\n",
              " ['confiar n cautela', {'ALEGRIA': False, 'MEDO': True}],\n",
              " ['cautela', {'ALEGRIA': False, 'MEDO': True}],\n",
              " ['descobrir deus', {'ALEGRIA': False, 'MEDO': True}],\n",
              " ['recear', {'ALEGRIA': False, 'MEDO': True}],\n",
              " ['o noite e perigoso', {'ALEGRIA': False, 'MEDO': True}],\n",
              " ['estremecer casar', {'ALEGRIA': False, 'MEDO': True}],\n",
              " ['olhar criatura mover monstruosamente', {'ALEGRIA': False, 'MEDO': True}],\n",
              " ['aguentar suspense', {'ALEGRIA': False, 'MEDO': True}],\n",
              " ['afugentar o cão', {'ALEGRIA': False, 'MEDO': True}],\n",
              " ['chocar e amedrontar assassinato brutal', {'ALEGRIA': False, 'MEDO': True}],\n",
              " ['precisar afugentar ímpeto medo infernar', {'ALEGRIA': False, 'MEDO': True}],\n",
              " ['político suar forçar parir afugentar e amedrontar o',\n",
              "  {'ALEGRIA': False, 'MEDO': True}],\n",
              " ['o objetivo d e amedrontar', {'ALEGRIA': False, 'MEDO': True}],\n",
              " ['apavorar', {'ALEGRIA': False, 'MEDO': True}]]"
            ]
          },
          "metadata": {},
          "execution_count": 36
        }
      ]
    },
    {
      "cell_type": "markdown",
      "metadata": {
        "id": "5mc19ZByUNsu"
      },
      "source": [
        "# Etapa 5: Criação do classificador"
      ]
    },
    {
      "cell_type": "code",
      "metadata": {
        "id": "YnZ1orji7Iv8"
      },
      "source": [
        "modelo = spacy.blank('pt')\n",
        "categorias = modelo.create_pipe(\"textcat\")\n",
        "categorias.add_label(\"ALEGRIA\")\n",
        "categorias.add_label(\"MEDO\")\n",
        "modelo.add_pipe(categorias)\n",
        "historico = []"
      ],
      "execution_count": 37,
      "outputs": []
    },
    {
      "cell_type": "code",
      "metadata": {
        "id": "3jlGvLEz764Y",
        "colab": {
          "base_uri": "https://localhost:8080/"
        },
        "outputId": "9bf1524c-d082-4bb4-8132-113d45008e51"
      },
      "source": [
        "modelo.begin_training()\n",
        "for epoca in range(500):\n",
        "  random.shuffle(base_dados_final)\n",
        "  losses = {}\n",
        "  for batch in spacy.util.minibatch(base_dados_final, 30):\n",
        "    textos = [modelo(texto) for texto, entities in batch]\n",
        "    annotations = [{'cats': entities} for texto, entities in batch]\n",
        "    modelo.update(textos, annotations, losses=losses)\n",
        "  if epoca % 100 == 0:\n",
        "    print(losses)\n",
        "    historico.append(losses)"
      ],
      "execution_count": 39,
      "outputs": [
        {
          "output_type": "stream",
          "name": "stdout",
          "text": [
            "{'textcat': 3.6618131582510927e-09}\n",
            "{'textcat': 3.8721882367198646e-09}\n",
            "{'textcat': 2.2837431112865403e-09}\n",
            "{'textcat': 2.9627306580293222e-09}\n",
            "{'textcat': 1.4625370775567248e-09}\n"
          ]
        }
      ]
    },
    {
      "cell_type": "code",
      "metadata": {
        "id": "wSe-tDsCAciN"
      },
      "source": [
        "historico_loss = []\n",
        "for i in historico:\n",
        "  historico_loss.append(i.get('textcat'))"
      ],
      "execution_count": 40,
      "outputs": []
    },
    {
      "cell_type": "code",
      "metadata": {
        "id": "ShJhtbYtAr50",
        "colab": {
          "base_uri": "https://localhost:8080/"
        },
        "outputId": "a391c207-1ac5-4fdc-8d57-808f862129ac"
      },
      "source": [
        "historico_loss = np.array(historico_loss)\n",
        "historico_loss"
      ],
      "execution_count": 41,
      "outputs": [
        {
          "output_type": "execute_result",
          "data": {
            "text/plain": [
              "array([6.67036703e-03, 8.57559432e-08, 2.71300362e-08, 1.44607177e-08,\n",
              "       5.72041725e-09, 4.72005554e-09, 3.70650044e-09, 3.06949345e-09,\n",
              "       3.66181316e-09, 3.87218824e-09, 2.28374311e-09, 2.96273066e-09,\n",
              "       1.46253708e-09])"
            ]
          },
          "metadata": {},
          "execution_count": 41
        }
      ]
    },
    {
      "cell_type": "code",
      "metadata": {
        "id": "6lEL-QoBA0KI",
        "colab": {
          "base_uri": "https://localhost:8080/",
          "height": 314
        },
        "outputId": "4c5140b8-7bfe-424e-e1d8-b3df5e02acd7"
      },
      "source": [
        "import matplotlib.pyplot as plt\n",
        "plt.plot(historico_loss)\n",
        "plt.title('Progressão do erro')\n",
        "plt.xlabel('Épocas')\n",
        "plt.ylabel('Erro')"
      ],
      "execution_count": 42,
      "outputs": [
        {
          "output_type": "execute_result",
          "data": {
            "text/plain": [
              "Text(0, 0.5, 'Erro')"
            ]
          },
          "metadata": {},
          "execution_count": 42
        },
        {
          "output_type": "display_data",
          "data": {
            "image/png": "[encoded data removed]",
            "text/plain": [
              "<Figure size 432x288 with 1 Axes>"
            ]
          },
          "metadata": {
            "needs_background": "light"
          }
        }
      ]
    },
    {
      "cell_type": "code",
      "metadata": {
        "id": "amNE8xy_BPSF"
      },
      "source": [
        "modelo.to_disk(\"modelo\")"
      ],
      "execution_count": 43,
      "outputs": []
    },
    {
      "cell_type": "markdown",
      "metadata": {
        "id": "ePMk8G0Dl6wg"
      },
      "source": [
        "# Etapa 6: Testes com uma frase"
      ]
    },
    {
      "cell_type": "code",
      "metadata": {
        "id": "u9e-TlWNCFj8",
        "colab": {
          "base_uri": "https://localhost:8080/"
        },
        "outputId": "d2c49764-d39b-4386-903d-cbfa9959e4eb"
      },
      "source": [
        "modelo_carregado = spacy.load(\"modelo\")\n",
        "modelo_carregado"
      ],
      "execution_count": 44,
      "outputs": [
        {
          "output_type": "execute_result",
          "data": {
            "text/plain": [
              "<spacy.lang.pt.Portuguese at 0x7f00286d2f50>"
            ]
          },
          "metadata": {},
          "execution_count": 44
        }
      ]
    },
    {
      "cell_type": "code",
      "metadata": {
        "id": "vccrJddkCThv"
      },
      "source": [
        "texto_positivo = 'eu adoro cor dos seus olhos'"
      ],
      "execution_count": 45,
      "outputs": []
    },
    {
      "cell_type": "code",
      "metadata": {
        "id": "AHUy4H_ECZyN",
        "colab": {
          "base_uri": "https://localhost:8080/",
          "height": 35
        },
        "outputId": "8fff3be0-1b39-452c-c79d-8433d9494acf"
      },
      "source": [
        "texto_positivo = preprocessamento(texto_positivo)\n",
        "texto_positivo"
      ],
      "execution_count": 46,
      "outputs": [
        {
          "output_type": "execute_result",
          "data": {
            "application/vnd.google.colaboratory.intrinsic+json": {
              "type": "string"
            },
            "text/plain": [
              "'adorar cor olho'"
            ]
          },
          "metadata": {},
          "execution_count": 46
        }
      ]
    },
    {
      "cell_type": "code",
      "metadata": {
        "id": "B4iJh7D5Cjha",
        "colab": {
          "base_uri": "https://localhost:8080/"
        },
        "outputId": "bb62ea30-fca2-449a-ee5e-42acbba3b8c7"
      },
      "source": [
        "previsao = modelo_carregado(texto_positivo)\n",
        "previsao"
      ],
      "execution_count": 47,
      "outputs": [
        {
          "output_type": "execute_result",
          "data": {
            "text/plain": [
              "adorar cor olho"
            ]
          },
          "metadata": {},
          "execution_count": 47
        }
      ]
    },
    {
      "cell_type": "code",
      "metadata": {
        "id": "wEvTU1fGCoX0",
        "colab": {
          "base_uri": "https://localhost:8080/"
        },
        "outputId": "953c71d4-a155-456b-cf53-15014270cc06"
      },
      "source": [
        "previsao.cats"
      ],
      "execution_count": 48,
      "outputs": [
        {
          "output_type": "execute_result",
          "data": {
            "text/plain": [
              "{'ALEGRIA': 0.9988633394241333, 'MEDO': 4.539786823443137e-05}"
            ]
          },
          "metadata": {},
          "execution_count": 48
        }
      ]
    },
    {
      "cell_type": "code",
      "metadata": {
        "id": "jr2eRXXJCxWe",
        "colab": {
          "base_uri": "https://localhost:8080/"
        },
        "outputId": "bb0ad9c5-fd0b-49ff-befe-d35fc1dc54ce"
      },
      "source": [
        "texto_negativo = 'estou com medo dele'\n",
        "previsao = modelo_carregado(preprocessamento(texto_negativo))\n",
        "previsao.cats"
      ],
      "execution_count": 49,
      "outputs": [
        {
          "output_type": "execute_result",
          "data": {
            "text/plain": [
              "{'ALEGRIA': 0.010176178999245167, 'MEDO': 0.9992675185203552}"
            ]
          },
          "metadata": {},
          "execution_count": 49
        }
      ]
    },
    {
      "cell_type": "markdown",
      "metadata": {
        "id": "KhF2vtEsnlpM"
      },
      "source": [
        "# Etapa 7: Avaliação do modelo"
      ]
    },
    {
      "cell_type": "markdown",
      "metadata": {
        "id": "sJzwpVWNACFi"
      },
      "source": [
        "## Avaliação na base de treinamento\n"
      ]
    },
    {
      "cell_type": "code",
      "metadata": {
        "id": "6NoTHRADDZ0Z"
      },
      "source": [
        "previsoes = []\n",
        "for texto in base_dados['texto']:\n",
        "  #print(texto)\n",
        "  previsao = modelo_carregado(texto)\n",
        "  previsoes.append(previsao.cats)"
      ],
      "execution_count": 50,
      "outputs": []
    },
    {
      "cell_type": "code",
      "metadata": {
        "id": "8lRO94OuDvLZ",
        "colab": {
          "base_uri": "https://localhost:8080/"
        },
        "outputId": "1343691b-ab55-48c4-d3f9-201b0715e2aa"
      },
      "source": [
        "previsoes"
      ],
      "execution_count": 51,
      "outputs": [
        {
          "output_type": "execute_result",
          "data": {
            "text/plain": [
              "[{'ALEGRIA': 0.9997736811637878, 'MEDO': 4.539786823443137e-05},\n",
              " {'ALEGRIA': 0.9996122717857361, 'MEDO': 4.539786823443137e-05},\n",
              " {'ALEGRIA': 0.9999545812606812, 'MEDO': 4.539786823443137e-05},\n",
              " {'ALEGRIA': 0.9995260238647461, 'MEDO': 4.539786823443137e-05},\n",
              " {'ALEGRIA': 0.9999545812606812, 'MEDO': 4.539786823443137e-05},\n",
              " {'ALEGRIA': 0.9997778534889221, 'MEDO': 4.539786823443137e-05},\n",
              " {'ALEGRIA': 0.9993883371353149, 'MEDO': 4.539786823443137e-05},\n",
              " {'ALEGRIA': 0.9996179342269897, 'MEDO': 4.539786823443137e-05},\n",
              " {'ALEGRIA': 0.9999545812606812, 'MEDO': 4.539786823443137e-05},\n",
              " {'ALEGRIA': 0.9996877908706665, 'MEDO': 4.539786823443137e-05},\n",
              " {'ALEGRIA': 0.9998252987861633, 'MEDO': 4.539786823443137e-05},\n",
              " {'ALEGRIA': 0.9998427629470825, 'MEDO': 4.539786823443137e-05},\n",
              " {'ALEGRIA': 0.9998708963394165, 'MEDO': 4.539786823443137e-05},\n",
              " {'ALEGRIA': 0.9999545812606812, 'MEDO': 4.539786823443137e-05},\n",
              " {'ALEGRIA': 0.9995712637901306, 'MEDO': 4.539786823443137e-05},\n",
              " {'ALEGRIA': 0.9995500445365906, 'MEDO': 4.539786823443137e-05},\n",
              " {'ALEGRIA': 0.9997140765190125, 'MEDO': 4.539786823443137e-05},\n",
              " {'ALEGRIA': 0.999915599822998, 'MEDO': 4.539786823443137e-05},\n",
              " {'ALEGRIA': 0.9999264478683472, 'MEDO': 4.539786823443137e-05},\n",
              " {'ALEGRIA': 0.9999545812606812, 'MEDO': 4.539786823443137e-05},\n",
              " {'ALEGRIA': 0.9997633099555969, 'MEDO': 4.539786823443137e-05},\n",
              " {'ALEGRIA': 0.9996941089630127, 'MEDO': 4.539786823443137e-05},\n",
              " {'ALEGRIA': 0.9997114539146423, 'MEDO': 4.539786823443137e-05},\n",
              " {'ALEGRIA': 0.9997612833976746, 'MEDO': 4.539786823443137e-05},\n",
              " {'ALEGRIA': 0.9999334812164307, 'MEDO': 4.539786823443137e-05},\n",
              " {'ALEGRIA': 0.9995135068893433, 'MEDO': 4.539786823443137e-05},\n",
              " {'ALEGRIA': 0.9998496770858765, 'MEDO': 4.539786823443137e-05},\n",
              " {'ALEGRIA': 0.9996200799942017, 'MEDO': 4.539786823443137e-05},\n",
              " {'ALEGRIA': 0.9996790885925293, 'MEDO': 4.539786823443137e-05},\n",
              " {'ALEGRIA': 0.9999343156814575, 'MEDO': 4.539786823443137e-05},\n",
              " {'ALEGRIA': 0.9999545812606812, 'MEDO': 4.539786823443137e-05},\n",
              " {'ALEGRIA': 0.9996055960655212, 'MEDO': 4.539786823443137e-05},\n",
              " {'ALEGRIA': 0.99964439868927, 'MEDO': 4.539786823443137e-05},\n",
              " {'ALEGRIA': 0.9998834133148193, 'MEDO': 4.539786823443137e-05},\n",
              " {'ALEGRIA': 0.9996973276138306, 'MEDO': 4.539786823443137e-05},\n",
              " {'ALEGRIA': 0.9997125267982483, 'MEDO': 4.539786823443137e-05},\n",
              " {'ALEGRIA': 0.9997122883796692, 'MEDO': 4.539786823443137e-05},\n",
              " {'ALEGRIA': 0.9996218681335449, 'MEDO': 4.539786823443137e-05},\n",
              " {'ALEGRIA': 0.9999345541000366, 'MEDO': 4.539786823443137e-05},\n",
              " {'ALEGRIA': 0.9995991587638855, 'MEDO': 4.539786823443137e-05},\n",
              " {'ALEGRIA': 0.9999440908432007, 'MEDO': 4.539786823443137e-05},\n",
              " {'ALEGRIA': 0.9998693466186523, 'MEDO': 4.539786823443137e-05},\n",
              " {'ALEGRIA': 0.9999545812606812, 'MEDO': 4.539786823443137e-05},\n",
              " {'ALEGRIA': 0.9998270869255066, 'MEDO': 4.539786823443137e-05},\n",
              " {'ALEGRIA': 0.9996259212493896, 'MEDO': 4.539786823443137e-05},\n",
              " {'ALEGRIA': 0.9999545812606812, 'MEDO': 4.539786823443137e-05},\n",
              " {'ALEGRIA': 0.9998899698257446, 'MEDO': 4.539786823443137e-05},\n",
              " {'ALEGRIA': 0.9999545812606812, 'MEDO': 4.539786823443137e-05},\n",
              " {'ALEGRIA': 0.9999077320098877, 'MEDO': 4.539786823443137e-05},\n",
              " {'ALEGRIA': 0.9998843669891357, 'MEDO': 4.539786823443137e-05},\n",
              " {'ALEGRIA': 0.9996702671051025, 'MEDO': 4.539786823443137e-05},\n",
              " {'ALEGRIA': 0.9999545812606812, 'MEDO': 4.539786823443137e-05},\n",
              " {'ALEGRIA': 0.9998539686203003, 'MEDO': 4.539786823443137e-05},\n",
              " {'ALEGRIA': 0.9996713399887085, 'MEDO': 4.539786823443137e-05},\n",
              " {'ALEGRIA': 0.9999431371688843, 'MEDO': 4.539786823443137e-05},\n",
              " {'ALEGRIA': 0.9995717406272888, 'MEDO': 4.539786823443137e-05},\n",
              " {'ALEGRIA': 0.9996442794799805, 'MEDO': 4.539786823443137e-05},\n",
              " {'ALEGRIA': 0.9998898506164551, 'MEDO': 4.539786823443137e-05},\n",
              " {'ALEGRIA': 0.9996925592422485, 'MEDO': 4.539786823443137e-05},\n",
              " {'ALEGRIA': 0.9997454285621643, 'MEDO': 4.539786823443137e-05},\n",
              " {'ALEGRIA': 0.9997935891151428, 'MEDO': 4.539786823443137e-05},\n",
              " {'ALEGRIA': 0.9996715784072876, 'MEDO': 4.539786823443137e-05},\n",
              " {'ALEGRIA': 0.9999241828918457, 'MEDO': 4.539786823443137e-05},\n",
              " {'ALEGRIA': 0.9998617172241211, 'MEDO': 4.539786823443137e-05},\n",
              " {'ALEGRIA': 0.9998056292533875, 'MEDO': 4.539786823443137e-05},\n",
              " {'ALEGRIA': 0.9998527765274048, 'MEDO': 4.539786823443137e-05},\n",
              " {'ALEGRIA': 0.9999545812606812, 'MEDO': 4.539786823443137e-05},\n",
              " {'ALEGRIA': 0.9997476935386658, 'MEDO': 4.539786823443137e-05},\n",
              " {'ALEGRIA': 0.9999545812606812, 'MEDO': 4.539786823443137e-05},\n",
              " {'ALEGRIA': 0.9999339580535889, 'MEDO': 4.539786823443137e-05},\n",
              " {'ALEGRIA': 0.999832034111023, 'MEDO': 4.539786823443137e-05},\n",
              " {'ALEGRIA': 0.9999327659606934, 'MEDO': 4.539786823443137e-05},\n",
              " {'ALEGRIA': 0.9998282194137573, 'MEDO': 4.539786823443137e-05},\n",
              " {'ALEGRIA': 0.9990962743759155, 'MEDO': 4.539786823443137e-05},\n",
              " {'ALEGRIA': 0.999721109867096, 'MEDO': 4.539786823443137e-05},\n",
              " {'ALEGRIA': 0.9997044205665588, 'MEDO': 4.539786823443137e-05},\n",
              " {'ALEGRIA': 0.9997932314872742, 'MEDO': 4.539786823443137e-05},\n",
              " {'ALEGRIA': 0.9996781349182129, 'MEDO': 4.539786823443137e-05},\n",
              " {'ALEGRIA': 0.9999545812606812, 'MEDO': 4.539786823443137e-05},\n",
              " {'ALEGRIA': 0.9993212223052979, 'MEDO': 4.539786823443137e-05},\n",
              " {'ALEGRIA': 0.999612033367157, 'MEDO': 4.539786823443137e-05},\n",
              " {'ALEGRIA': 0.9998589754104614, 'MEDO': 4.539786823443137e-05},\n",
              " {'ALEGRIA': 0.9996335506439209, 'MEDO': 4.539786823443137e-05},\n",
              " {'ALEGRIA': 0.9993649125099182, 'MEDO': 4.539786823443137e-05},\n",
              " {'ALEGRIA': 0.9996728897094727, 'MEDO': 4.539786823443137e-05},\n",
              " {'ALEGRIA': 0.9997361302375793, 'MEDO': 4.539786823443137e-05},\n",
              " {'ALEGRIA': 0.9996798038482666, 'MEDO': 4.539786823443137e-05},\n",
              " {'ALEGRIA': 0.9997244477272034, 'MEDO': 4.539786823443137e-05},\n",
              " {'ALEGRIA': 0.9998225569725037, 'MEDO': 4.539786823443137e-05},\n",
              " {'ALEGRIA': 0.9997425675392151, 'MEDO': 4.539786823443137e-05},\n",
              " {'ALEGRIA': 0.9994805455207825, 'MEDO': 4.539786823443137e-05},\n",
              " {'ALEGRIA': 0.9998179078102112, 'MEDO': 4.539786823443137e-05},\n",
              " {'ALEGRIA': 0.9995997548103333, 'MEDO': 4.539786823443137e-05},\n",
              " {'ALEGRIA': 0.9997473359107971, 'MEDO': 4.539786823443137e-05},\n",
              " {'ALEGRIA': 0.9999001026153564, 'MEDO': 4.539786823443137e-05},\n",
              " {'ALEGRIA': 0.9996737241744995, 'MEDO': 4.539786823443137e-05},\n",
              " {'ALEGRIA': 0.9998185038566589, 'MEDO': 4.539786823443137e-05},\n",
              " {'ALEGRIA': 0.9997767806053162, 'MEDO': 4.539786823443137e-05},\n",
              " {'ALEGRIA': 0.9998376369476318, 'MEDO': 4.539786823443137e-05},\n",
              " {'ALEGRIA': 0.9997313618659973, 'MEDO': 4.539786823443137e-05},\n",
              " {'ALEGRIA': 0.999703586101532, 'MEDO': 4.539786823443137e-05},\n",
              " {'ALEGRIA': 0.9997557997703552, 'MEDO': 4.539786823443137e-05},\n",
              " {'ALEGRIA': 0.9997299313545227, 'MEDO': 4.539786823443137e-05},\n",
              " {'ALEGRIA': 0.999613344669342, 'MEDO': 4.539786823443137e-05},\n",
              " {'ALEGRIA': 0.9998134970664978, 'MEDO': 4.539786823443137e-05},\n",
              " {'ALEGRIA': 0.999774158000946, 'MEDO': 4.539786823443137e-05},\n",
              " {'ALEGRIA': 0.9998006224632263, 'MEDO': 4.539786823443137e-05},\n",
              " {'ALEGRIA': 0.9993554949760437, 'MEDO': 4.539786823443137e-05},\n",
              " {'ALEGRIA': 0.9997244477272034, 'MEDO': 4.539786823443137e-05},\n",
              " {'ALEGRIA': 0.9995781779289246, 'MEDO': 4.539786823443137e-05},\n",
              " {'ALEGRIA': 0.999461829662323, 'MEDO': 4.539786823443137e-05},\n",
              " {'ALEGRIA': 0.9996166229248047, 'MEDO': 4.539786823443137e-05},\n",
              " {'ALEGRIA': 7.720071153016761e-05, 'MEDO': 0.9999545812606812},\n",
              " {'ALEGRIA': 0.001405552844516933, 'MEDO': 0.9999545812606812},\n",
              " {'ALEGRIA': 0.00041651134961284697, 'MEDO': 0.9999545812606812},\n",
              " {'ALEGRIA': 0.0003755001234821975, 'MEDO': 0.9999545812606812},\n",
              " {'ALEGRIA': 0.0001922495139297098, 'MEDO': 0.9999545812606812},\n",
              " {'ALEGRIA': 0.0005347158294171095, 'MEDO': 0.9999545812606812},\n",
              " {'ALEGRIA': 0.00023960300313774496, 'MEDO': 0.9999545812606812},\n",
              " {'ALEGRIA': 0.0004434811125975102, 'MEDO': 0.9999545812606812},\n",
              " {'ALEGRIA': 0.0002515220839995891, 'MEDO': 0.9999545812606812},\n",
              " {'ALEGRIA': 0.0003705451381392777, 'MEDO': 0.9999545812606812},\n",
              " {'ALEGRIA': 0.00022075974266044796, 'MEDO': 0.9999545812606812},\n",
              " {'ALEGRIA': 0.00017306639347225428, 'MEDO': 0.9999545812606812},\n",
              " {'ALEGRIA': 0.00016762955056037754, 'MEDO': 0.9999545812606812},\n",
              " {'ALEGRIA': 0.0007149100420065224, 'MEDO': 0.9999545812606812},\n",
              " {'ALEGRIA': 4.539786823443137e-05, 'MEDO': 0.9999545812606812},\n",
              " {'ALEGRIA': 0.000271808443358168, 'MEDO': 0.9999545812606812},\n",
              " {'ALEGRIA': 0.0002909695031121373, 'MEDO': 0.9999545812606812},\n",
              " {'ALEGRIA': 0.0005400156951509416, 'MEDO': 0.9999545812606812},\n",
              " {'ALEGRIA': 0.0004504757234826684, 'MEDO': 0.9999545812606812},\n",
              " {'ALEGRIA': 0.00013125890109222382, 'MEDO': 0.9999545812606812},\n",
              " {'ALEGRIA': 8.119775156956166e-05, 'MEDO': 0.9999545812606812},\n",
              " {'ALEGRIA': 6.891451630508527e-05, 'MEDO': 0.9999545812606812},\n",
              " {'ALEGRIA': 0.0003091301186941564, 'MEDO': 0.9999545812606812},\n",
              " {'ALEGRIA': 0.00038697521085850894, 'MEDO': 0.9999545812606812},\n",
              " {'ALEGRIA': 0.00019613925542216748, 'MEDO': 0.9999545812606812},\n",
              " {'ALEGRIA': 0.00014046081923879683, 'MEDO': 0.9999545812606812},\n",
              " {'ALEGRIA': 0.00016186822904273868, 'MEDO': 0.9999545812606812},\n",
              " {'ALEGRIA': 0.0001369471283396706, 'MEDO': 0.9999545812606812},\n",
              " {'ALEGRIA': 4.539786823443137e-05, 'MEDO': 0.9999545812606812},\n",
              " {'ALEGRIA': 0.0001225034357048571, 'MEDO': 0.9999545812606812},\n",
              " {'ALEGRIA': 7.88127799751237e-05, 'MEDO': 0.9999545812606812},\n",
              " {'ALEGRIA': 0.00029815593734383583, 'MEDO': 0.9999545812606812},\n",
              " {'ALEGRIA': 0.0001239919802173972, 'MEDO': 0.9999545812606812},\n",
              " {'ALEGRIA': 0.0005866306601092219, 'MEDO': 0.9999545812606812},\n",
              " {'ALEGRIA': 0.00029427988920360804, 'MEDO': 0.9999545812606812},\n",
              " {'ALEGRIA': 4.539786823443137e-05, 'MEDO': 0.9999545812606812},\n",
              " {'ALEGRIA': 9.41580074140802e-05, 'MEDO': 0.9999545812606812},\n",
              " {'ALEGRIA': 0.00033090426586568356, 'MEDO': 0.9999545812606812},\n",
              " {'ALEGRIA': 0.0004334283876232803, 'MEDO': 0.9999545812606812},\n",
              " {'ALEGRIA': 0.00031950956326909363, 'MEDO': 0.9999545812606812},\n",
              " {'ALEGRIA': 7.501214713556692e-05, 'MEDO': 0.9999545812606812},\n",
              " {'ALEGRIA': 0.00030212392448447645, 'MEDO': 0.9999545812606812},\n",
              " {'ALEGRIA': 0.0006444550817832351, 'MEDO': 0.9999545812606812},\n",
              " {'ALEGRIA': 0.00025375516270287335, 'MEDO': 0.9999545812606812},\n",
              " {'ALEGRIA': 0.0001361283502774313, 'MEDO': 0.9999545812606812},\n",
              " {'ALEGRIA': 0.00019057879399042577, 'MEDO': 0.9999545812606812},\n",
              " {'ALEGRIA': 0.00029651744989678264, 'MEDO': 0.9999545812606812},\n",
              " {'ALEGRIA': 0.0006498013972304761, 'MEDO': 0.9999545812606812},\n",
              " {'ALEGRIA': 0.00013301556464284658, 'MEDO': 0.9999545812606812},\n",
              " {'ALEGRIA': 7.598797674290836e-05, 'MEDO': 0.9999545812606812},\n",
              " {'ALEGRIA': 4.539786823443137e-05, 'MEDO': 0.9999545812606812},\n",
              " {'ALEGRIA': 0.00040260478272102773, 'MEDO': 0.9999545812606812},\n",
              " {'ALEGRIA': 4.539786823443137e-05, 'MEDO': 0.9999545812606812},\n",
              " {'ALEGRIA': 4.539786823443137e-05, 'MEDO': 0.9999545812606812},\n",
              " {'ALEGRIA': 0.00024000405392143875, 'MEDO': 0.9999545812606812},\n",
              " {'ALEGRIA': 0.00030142709147185087, 'MEDO': 0.9999545812606812},\n",
              " {'ALEGRIA': 0.0005145989125594497, 'MEDO': 0.9999545812606812},\n",
              " {'ALEGRIA': 0.00020060880342498422, 'MEDO': 0.9999545812606812},\n",
              " {'ALEGRIA': 0.0007422011694870889, 'MEDO': 0.9999545812606812},\n",
              " {'ALEGRIA': 0.00033165785134769976, 'MEDO': 0.9999545812606812},\n",
              " {'ALEGRIA': 0.00011424891272326931, 'MEDO': 0.9999545812606812},\n",
              " {'ALEGRIA': 0.00037911321851424873, 'MEDO': 0.9999545812606812},\n",
              " {'ALEGRIA': 0.0002646942448336631, 'MEDO': 0.9999545812606812},\n",
              " {'ALEGRIA': 0.0003793042851611972, 'MEDO': 0.9999545812606812},\n",
              " {'ALEGRIA': 0.00011747050302801654, 'MEDO': 0.9999545812606812},\n",
              " {'ALEGRIA': 7.259351696120575e-05, 'MEDO': 0.9999545812606812},\n",
              " {'ALEGRIA': 4.539786823443137e-05, 'MEDO': 0.9999545812606812},\n",
              " {'ALEGRIA': 0.000337903737090528, 'MEDO': 0.9999545812606812},\n",
              " {'ALEGRIA': 0.0002749253180809319, 'MEDO': 0.9999545812606812},\n",
              " {'ALEGRIA': 0.00014655505947303027, 'MEDO': 0.9999545812606812},\n",
              " {'ALEGRIA': 0.0005761750508099794, 'MEDO': 0.9999545812606812},\n",
              " {'ALEGRIA': 0.00037639186484739184, 'MEDO': 0.9999545812606812},\n",
              " {'ALEGRIA': 0.00032056006602942944, 'MEDO': 0.9999545812606812},\n",
              " {'ALEGRIA': 0.0003904162731487304, 'MEDO': 0.9999545812606812},\n",
              " {'ALEGRIA': 4.539786823443137e-05, 'MEDO': 0.9999545812606812},\n",
              " {'ALEGRIA': 0.00040098451427184045, 'MEDO': 0.9999545812606812},\n",
              " {'ALEGRIA': 0.00023744550708215684, 'MEDO': 0.9999545812606812},\n",
              " {'ALEGRIA': 0.000674932380206883, 'MEDO': 0.9999545812606812},\n",
              " {'ALEGRIA': 0.0004672427021432668, 'MEDO': 0.9999545812606812},\n",
              " {'ALEGRIA': 0.0002209273661719635, 'MEDO': 0.9999545812606812},\n",
              " {'ALEGRIA': 7.691413338761777e-05, 'MEDO': 0.9999545812606812},\n",
              " {'ALEGRIA': 0.0004930677241645753, 'MEDO': 0.9999545812606812},\n",
              " {'ALEGRIA': 0.00034388434141874313, 'MEDO': 0.9999545812606812},\n",
              " {'ALEGRIA': 0.0005482856067828834, 'MEDO': 0.9999545812606812}]"
            ]
          },
          "metadata": {},
          "execution_count": 51
        }
      ]
    },
    {
      "cell_type": "code",
      "metadata": {
        "id": "YXTXMXAgEDMR"
      },
      "source": [
        "previsoes_final = []\n",
        "for previsao in previsoes:\n",
        "  if previsao['ALEGRIA'] > previsao['MEDO']:\n",
        "    previsoes_final.append('alegria')\n",
        "  else:\n",
        "    previsoes_final.append('medo')\n",
        "\n",
        "previsoes_final = np.array(previsoes_final)"
      ],
      "execution_count": 52,
      "outputs": []
    },
    {
      "cell_type": "code",
      "metadata": {
        "id": "ilep1MZKEVyg",
        "colab": {
          "base_uri": "https://localhost:8080/"
        },
        "outputId": "c4bd1f10-3d0e-48e1-9a13-bfa17eff7fd0"
      },
      "source": [
        "previsoes_final"
      ],
      "execution_count": 53,
      "outputs": [
        {
          "output_type": "execute_result",
          "data": {
            "text/plain": [
              "array(['alegria', 'alegria', 'alegria', 'alegria', 'alegria', 'alegria',\n",
              "       'alegria', 'alegria', 'alegria', 'alegria', 'alegria', 'alegria',\n",
              "       'alegria', 'alegria', 'alegria', 'alegria', 'alegria', 'alegria',\n",
              "       'alegria', 'alegria', 'alegria', 'alegria', 'alegria', 'alegria',\n",
              "       'alegria', 'alegria', 'alegria', 'alegria', 'alegria', 'alegria',\n",
              "       'alegria', 'alegria', 'alegria', 'alegria', 'alegria', 'alegria',\n",
              "       'alegria', 'alegria', 'alegria', 'alegria', 'alegria', 'alegria',\n",
              "       'alegria', 'alegria', 'alegria', 'alegria', 'alegria', 'alegria',\n",
              "       'alegria', 'alegria', 'alegria', 'alegria', 'alegria', 'alegria',\n",
              "       'alegria', 'alegria', 'alegria', 'alegria', 'alegria', 'alegria',\n",
              "       'alegria', 'alegria', 'alegria', 'alegria', 'alegria', 'alegria',\n",
              "       'alegria', 'alegria', 'alegria', 'alegria', 'alegria', 'alegria',\n",
              "       'alegria', 'alegria', 'alegria', 'alegria', 'alegria', 'alegria',\n",
              "       'alegria', 'alegria', 'alegria', 'alegria', 'alegria', 'alegria',\n",
              "       'alegria', 'alegria', 'alegria', 'alegria', 'alegria', 'alegria',\n",
              "       'alegria', 'alegria', 'alegria', 'alegria', 'alegria', 'alegria',\n",
              "       'alegria', 'alegria', 'alegria', 'alegria', 'alegria', 'alegria',\n",
              "       'alegria', 'alegria', 'alegria', 'alegria', 'alegria', 'alegria',\n",
              "       'alegria', 'alegria', 'alegria', 'alegria', 'medo', 'medo', 'medo',\n",
              "       'medo', 'medo', 'medo', 'medo', 'medo', 'medo', 'medo', 'medo',\n",
              "       'medo', 'medo', 'medo', 'medo', 'medo', 'medo', 'medo', 'medo',\n",
              "       'medo', 'medo', 'medo', 'medo', 'medo', 'medo', 'medo', 'medo',\n",
              "       'medo', 'medo', 'medo', 'medo', 'medo', 'medo', 'medo', 'medo',\n",
              "       'medo', 'medo', 'medo', 'medo', 'medo', 'medo', 'medo', 'medo',\n",
              "       'medo', 'medo', 'medo', 'medo', 'medo', 'medo', 'medo', 'medo',\n",
              "       'medo', 'medo', 'medo', 'medo', 'medo', 'medo', 'medo', 'medo',\n",
              "       'medo', 'medo', 'medo', 'medo', 'medo', 'medo', 'medo', 'medo',\n",
              "       'medo', 'medo', 'medo', 'medo', 'medo', 'medo', 'medo', 'medo',\n",
              "       'medo', 'medo', 'medo', 'medo', 'medo', 'medo', 'medo', 'medo',\n",
              "       'medo'], dtype='<U7')"
            ]
          },
          "metadata": {},
          "execution_count": 53
        }
      ]
    },
    {
      "cell_type": "code",
      "metadata": {
        "id": "3bbnP269EaYs",
        "colab": {
          "base_uri": "https://localhost:8080/"
        },
        "outputId": "9f3816c7-b083-4d0d-86eb-0e7d7404e991"
      },
      "source": [
        "respostas_reais = base_dados['emocao'].values\n",
        "respostas_reais"
      ],
      "execution_count": 54,
      "outputs": [
        {
          "output_type": "execute_result",
          "data": {
            "text/plain": [
              "array(['alegria', 'alegria', 'alegria', 'alegria', 'alegria', 'alegria',\n",
              "       'alegria', 'alegria', 'alegria', 'alegria', 'alegria', 'alegria',\n",
              "       'alegria', 'alegria', 'alegria', 'alegria', 'alegria', 'alegria',\n",
              "       'alegria', 'alegria', 'alegria', 'alegria', 'alegria', 'alegria',\n",
              "       'alegria', 'alegria', 'alegria', 'alegria', 'alegria', 'alegria',\n",
              "       'alegria', 'alegria', 'alegria', 'alegria', 'alegria', 'alegria',\n",
              "       'alegria', 'alegria', 'alegria', 'alegria', 'alegria', 'alegria',\n",
              "       'alegria', 'alegria', 'alegria', 'alegria', 'alegria', 'alegria',\n",
              "       'alegria', 'alegria', 'alegria', 'alegria', 'alegria', 'alegria',\n",
              "       'alegria', 'alegria', 'alegria', 'alegria', 'alegria', 'alegria',\n",
              "       'alegria', 'alegria', 'alegria', 'alegria', 'alegria', 'alegria',\n",
              "       'alegria', 'alegria', 'alegria', 'alegria', 'alegria', 'alegria',\n",
              "       'alegria', 'alegria', 'alegria', 'alegria', 'alegria', 'alegria',\n",
              "       'alegria', 'alegria', 'alegria', 'alegria', 'alegria', 'alegria',\n",
              "       'alegria', 'alegria', 'alegria', 'alegria', 'alegria', 'alegria',\n",
              "       'alegria', 'alegria', 'alegria', 'alegria', 'alegria', 'alegria',\n",
              "       'alegria', 'alegria', 'alegria', 'alegria', 'alegria', 'alegria',\n",
              "       'alegria', 'alegria', 'alegria', 'alegria', 'alegria', 'alegria',\n",
              "       'alegria', 'alegria', 'alegria', 'alegria', 'medo', 'medo', 'medo',\n",
              "       'medo', 'medo', 'medo', 'medo', 'medo', 'medo', 'medo', 'medo',\n",
              "       'medo', 'medo', 'medo', 'medo', 'medo', 'medo', 'medo', 'medo',\n",
              "       'medo', 'medo', 'medo', 'medo', 'medo', 'medo', 'medo', 'medo',\n",
              "       'medo', 'medo', 'medo', 'medo', 'medo', 'medo', 'medo', 'medo',\n",
              "       'medo', 'medo', 'medo', 'medo', 'medo', 'medo', 'medo', 'medo',\n",
              "       'medo', 'medo', 'medo', 'medo', 'medo', 'medo', 'medo', 'medo',\n",
              "       'medo', 'medo', 'medo', 'medo', 'medo', 'medo', 'medo', 'medo',\n",
              "       'medo', 'medo', 'medo', 'medo', 'medo', 'medo', 'medo', 'medo',\n",
              "       'medo', 'medo', 'medo', 'medo', 'medo', 'medo', 'medo', 'medo',\n",
              "       'medo', 'medo', 'medo', 'medo', 'medo', 'medo', 'medo', 'medo',\n",
              "       'medo'], dtype=object)"
            ]
          },
          "metadata": {},
          "execution_count": 54
        }
      ]
    },
    {
      "cell_type": "code",
      "metadata": {
        "id": "7dM1nOQtEo6p",
        "colab": {
          "base_uri": "https://localhost:8080/"
        },
        "outputId": "4407cad3-6143-4f6e-8294-a10acbe8f126"
      },
      "source": [
        "from sklearn.metrics import confusion_matrix, accuracy_score\n",
        "accuracy_score(respostas_reais, previsoes_final)"
      ],
      "execution_count": 55,
      "outputs": [
        {
          "output_type": "execute_result",
          "data": {
            "text/plain": [
              "1.0"
            ]
          },
          "metadata": {},
          "execution_count": 55
        }
      ]
    },
    {
      "cell_type": "code",
      "metadata": {
        "id": "UuI8nXdAE-Nw",
        "colab": {
          "base_uri": "https://localhost:8080/"
        },
        "outputId": "87b27fad-8e6b-4ea5-d5ff-d51471e20351"
      },
      "source": [
        "cm = confusion_matrix(respostas_reais, previsoes_final)\n",
        "cm"
      ],
      "execution_count": 56,
      "outputs": [
        {
          "output_type": "execute_result",
          "data": {
            "text/plain": [
              "array([[112,   0],\n",
              "       [  0,  84]])"
            ]
          },
          "metadata": {},
          "execution_count": 56
        }
      ]
    },
    {
      "cell_type": "markdown",
      "metadata": {
        "id": "HmLjfVrZAE2T"
      },
      "source": [
        "## Avaliação na base de teste"
      ]
    },
    {
      "cell_type": "code",
      "metadata": {
        "id": "I3bLzl9gFVLz"
      },
      "source": [
        "base_dados_teste = pd.read_csv('/content/base_teste.txt', encoding = 'utf-8')"
      ],
      "execution_count": 57,
      "outputs": []
    },
    {
      "cell_type": "code",
      "metadata": {
        "id": "SXregSmbFfgW",
        "colab": {
          "base_uri": "https://localhost:8080/",
          "height": 206
        },
        "outputId": "bb7a9412-13b3-4ff0-b073-18b3ee6e0fe1"
      },
      "source": [
        "base_dados_teste.head()"
      ],
      "execution_count": 58,
      "outputs": [
        {
          "output_type": "execute_result",
          "data": {
            "text/html": [
              "<div>\n",
              "<style scoped>\n",
              "    .dataframe tbody tr th:only-of-type {\n",
              "        vertical-align: middle;\n",
              "    }\n",
              "\n",
              "    .dataframe tbody tr th {\n",
              "        vertical-align: top;\n",
              "    }\n",
              "\n",
              "    .dataframe thead th {\n",
              "        text-align: right;\n",
              "    }\n",
              "</style>\n",
              "<table border=\"1\" class=\"dataframe\">\n",
              "  <thead>\n",
              "    <tr style=\"text-align: right;\">\n",
              "      <th></th>\n",
              "      <th>texto</th>\n",
              "      <th>emocao</th>\n",
              "    </tr>\n",
              "  </thead>\n",
              "  <tbody>\n",
              "    <tr>\n",
              "      <th>0</th>\n",
              "      <td>não precisei pagar o ingresso</td>\n",
              "      <td>alegria</td>\n",
              "    </tr>\n",
              "    <tr>\n",
              "      <th>1</th>\n",
              "      <td>se eu ajeitar tudo fica bem</td>\n",
              "      <td>alegria</td>\n",
              "    </tr>\n",
              "    <tr>\n",
              "      <th>2</th>\n",
              "      <td>minha fortuna ultrapassará a sua</td>\n",
              "      <td>alegria</td>\n",
              "    </tr>\n",
              "    <tr>\n",
              "      <th>3</th>\n",
              "      <td>sou muito afortunado</td>\n",
              "      <td>alegria</td>\n",
              "    </tr>\n",
              "    <tr>\n",
              "      <th>4</th>\n",
              "      <td>é benéfico para todos esta nova medida</td>\n",
              "      <td>alegria</td>\n",
              "    </tr>\n",
              "  </tbody>\n",
              "</table>\n",
              "</div>"
            ],
            "text/plain": [
              "                                    texto   emocao\n",
              "0           não precisei pagar o ingresso  alegria\n",
              "1             se eu ajeitar tudo fica bem  alegria\n",
              "2        minha fortuna ultrapassará a sua  alegria\n",
              "3                    sou muito afortunado  alegria\n",
              "4  é benéfico para todos esta nova medida  alegria"
            ]
          },
          "metadata": {},
          "execution_count": 58
        }
      ]
    },
    {
      "cell_type": "code",
      "metadata": {
        "id": "qTvsYEmBFj6P"
      },
      "source": [
        "base_dados_teste['texto'] = base_dados_teste['texto'].apply(preprocessamento)"
      ],
      "execution_count": 59,
      "outputs": []
    },
    {
      "cell_type": "code",
      "metadata": {
        "id": "QSP38LnPFrTl",
        "colab": {
          "base_uri": "https://localhost:8080/",
          "height": 206
        },
        "outputId": "4e04add6-55c3-448f-aa58-7b4842312edf"
      },
      "source": [
        "base_dados_teste.head()"
      ],
      "execution_count": 60,
      "outputs": [
        {
          "output_type": "execute_result",
          "data": {
            "text/html": [
              "<div>\n",
              "<style scoped>\n",
              "    .dataframe tbody tr th:only-of-type {\n",
              "        vertical-align: middle;\n",
              "    }\n",
              "\n",
              "    .dataframe tbody tr th {\n",
              "        vertical-align: top;\n",
              "    }\n",
              "\n",
              "    .dataframe thead th {\n",
              "        text-align: right;\n",
              "    }\n",
              "</style>\n",
              "<table border=\"1\" class=\"dataframe\">\n",
              "  <thead>\n",
              "    <tr style=\"text-align: right;\">\n",
              "      <th></th>\n",
              "      <th>texto</th>\n",
              "      <th>emocao</th>\n",
              "    </tr>\n",
              "  </thead>\n",
              "  <tbody>\n",
              "    <tr>\n",
              "      <th>0</th>\n",
              "      <td>precisar pagar o ingressar</td>\n",
              "      <td>alegria</td>\n",
              "    </tr>\n",
              "    <tr>\n",
              "      <th>1</th>\n",
              "      <td>ajeitar ficar</td>\n",
              "      <td>alegria</td>\n",
              "    </tr>\n",
              "    <tr>\n",
              "      <th>2</th>\n",
              "      <td>fortuna ultrapassar o suar</td>\n",
              "      <td>alegria</td>\n",
              "    </tr>\n",
              "    <tr>\n",
              "      <th>3</th>\n",
              "      <td>afortunar</td>\n",
              "      <td>alegria</td>\n",
              "    </tr>\n",
              "    <tr>\n",
              "      <th>4</th>\n",
              "      <td>benéfico parir medir</td>\n",
              "      <td>alegria</td>\n",
              "    </tr>\n",
              "  </tbody>\n",
              "</table>\n",
              "</div>"
            ],
            "text/plain": [
              "                        texto   emocao\n",
              "0  precisar pagar o ingressar  alegria\n",
              "1               ajeitar ficar  alegria\n",
              "2  fortuna ultrapassar o suar  alegria\n",
              "3                   afortunar  alegria\n",
              "4        benéfico parir medir  alegria"
            ]
          },
          "metadata": {},
          "execution_count": 60
        }
      ]
    },
    {
      "cell_type": "code",
      "metadata": {
        "id": "AwmnAwRcF1sD"
      },
      "source": [
        "previsoes = []\n",
        "for texto in base_dados_teste['texto']:\n",
        "  #print(texto)\n",
        "  previsao = modelo_carregado(texto)\n",
        "  previsoes.append(previsao.cats)"
      ],
      "execution_count": 61,
      "outputs": []
    },
    {
      "cell_type": "code",
      "metadata": {
        "id": "Y7MpSvS4F8xv"
      },
      "source": [
        "previsoes_final = []\n",
        "for previsao in previsoes:\n",
        "  if previsao['ALEGRIA'] > previsao['MEDO']:\n",
        "    previsoes_final.append('alegria')\n",
        "  else:\n",
        "    previsoes_final.append('medo')\n",
        "\n",
        "previsoes_final = np.array(previsoes_final)"
      ],
      "execution_count": 62,
      "outputs": []
    },
    {
      "cell_type": "code",
      "metadata": {
        "id": "rgoCy1SXGEkw"
      },
      "source": [
        "respostas_reais = base_dados_teste['emocao'].values"
      ],
      "execution_count": 63,
      "outputs": []
    },
    {
      "cell_type": "code",
      "metadata": {
        "id": "HbpqmtMlGJ0T",
        "colab": {
          "base_uri": "https://localhost:8080/"
        },
        "outputId": "3603c6ac-961b-43fb-cd69-cfb18cc7f52d"
      },
      "source": [
        "accuracy_score(respostas_reais, previsoes_final)"
      ],
      "execution_count": 64,
      "outputs": [
        {
          "output_type": "execute_result",
          "data": {
            "text/plain": [
              "0.5833333333333334"
            ]
          },
          "metadata": {},
          "execution_count": 64
        }
      ]
    },
    {
      "cell_type": "code",
      "metadata": {
        "id": "noYdfAJ0GQAF",
        "colab": {
          "base_uri": "https://localhost:8080/"
        },
        "outputId": "4e99944f-095b-4980-d198-242912f00866"
      },
      "source": [
        "cm = confusion_matrix(respostas_reais, previsoes_final)\n",
        "cm"
      ],
      "execution_count": 66,
      "outputs": [
        {
          "output_type": "execute_result",
          "data": {
            "text/plain": [
              "array([[31, 17],\n",
              "       [18, 18]])"
            ]
          },
          "metadata": {},
          "execution_count": 66
        }
      ]
    }
  ]
}