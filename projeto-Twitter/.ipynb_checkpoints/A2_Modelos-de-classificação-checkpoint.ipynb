{
 "cells": [
  {
   "cell_type": "markdown",
   "id": "4f6c53b5",
   "metadata": {},
   "source": [
    "# <font color='DarkRed'>**Construindo modelos de classificação**\n",
    "    \n",
    "<font color='DarkSlateGray'>**Hora de construir nossos classificadores de sentimentos! Estaremos \"vetorizando\" nossos dados de texto antes de passá-los para nosso modelo. Precisamos vetorizar nossos dados por motivos semelhantes aos de ASCII e Unicode. As máquinas não entendem letras e palavras, mas os valores numéricos são o pão com manteiga.** \n",
    "    \n",
    "<font color='DarkSlateGray'>**Começaremos analisando 5 modelos:**   \n",
    "    \n",
    "- <font color='DarkSlateGray'>**Random Forests**\n",
    "- <font color='DarkSlateGray'>**Naïve Bayes** \n",
    "- <font color='DarkSlateGray'>**K-Nearest Neighbors** \n",
    "- <font color='DarkSlateGray'>**Logistic regression** \n",
    "- <font color='DarkSlateGray'>**Support Vector Machines (Linear SVC)**    "
   ]
  },
  {
   "cell_type": "code",
   "execution_count": 1,
   "id": "e717a996",
   "metadata": {},
   "outputs": [],
   "source": [
    "# Bibliotecas padrão\n",
    "import re\n",
    "import csv\n",
    "import nltk\n",
    "import spacy\n",
    "import string\n",
    "import numpy as np\n",
    "import pandas as pd\n",
    "import seaborn as sns\n",
    "import matplotlib.pyplot as plt \n",
    "from tqdm.auto import tqdm\n",
    "import itertools\n",
    "\n",
    "# Estilo: algumas bibliotecas extras\n",
    "import matplotlib.style as style \n",
    "sns.set(font_scale=1.5)\n",
    "style.use('seaborn-pastel')\n",
    "style.use('seaborn-poster')\n",
    "from PIL import Image\n",
    "from wordcloud import WordCloud #!pip install wordcloud\n",
    "from sklearn.feature_extraction.text import CountVectorizer   \n",
    "from sklearn.feature_extraction.text import TfidfVectorizer\n",
    "from sklearn.feature_extraction.text import TfidfTransformer \n",
    "from sklearn.model_selection import train_test_split, RandomizedSearchCV\n",
    "from sklearn.model_selection import KFold\n",
    "from sklearn.model_selection import cross_val_score\n",
    "\n",
    "# Construindo modelos de classificação\n",
    "from sklearn.svm import LinearSVC\n",
    "from sklearn.pipeline import Pipeline\n",
    "from sklearn.naive_bayes import MultinomialNB\n",
    "from sklearn.neighbors import KNeighborsClassifier\n",
    "from sklearn.ensemble import RandomForestClassifier\n",
    "from sklearn.linear_model import LogisticRegression\n",
    "\n",
    "# Avaliação do modelo\n",
    "from sklearn import metrics\n",
    "from sklearn.metrics import confusion_matrix, f1_score, precision_score, recall_score\n",
    "from sklearn.metrics import accuracy_score, classification_report"
   ]
  },
  {
   "cell_type": "code",
   "execution_count": 2,
   "id": "5b1dcb5b",
   "metadata": {},
   "outputs": [],
   "source": [
    "#importar conjunto de dados\n",
    "df3 = pd.read_csv('twitter_sentiment_data.csv', sep=',', encoding='iso-8859-1')\n",
    "# encoding: codificação de caracteres, normalmente utiliza-se o iso-8859-1, utf-8, latin-1)"
   ]
  },
  {
   "cell_type": "code",
   "execution_count": 3,
   "id": "1baef717",
   "metadata": {},
   "outputs": [
    {
     "data": {
      "text/html": [
       "<div>\n",
       "<style scoped>\n",
       "    .dataframe tbody tr th:only-of-type {\n",
       "        vertical-align: middle;\n",
       "    }\n",
       "\n",
       "    .dataframe tbody tr th {\n",
       "        vertical-align: top;\n",
       "    }\n",
       "\n",
       "    .dataframe thead th {\n",
       "        text-align: right;\n",
       "    }\n",
       "</style>\n",
       "<table border=\"1\" class=\"dataframe\">\n",
       "  <thead>\n",
       "    <tr style=\"text-align: right;\">\n",
       "      <th></th>\n",
       "      <th>sentiment</th>\n",
       "      <th>message</th>\n",
       "      <th>tweetid</th>\n",
       "    </tr>\n",
       "  </thead>\n",
       "  <tbody>\n",
       "    <tr>\n",
       "      <th>0</th>\n",
       "      <td>-1</td>\n",
       "      <td>@tiniebeany climate change is an interesting h...</td>\n",
       "      <td>792927353886371840</td>\n",
       "    </tr>\n",
       "    <tr>\n",
       "      <th>1</th>\n",
       "      <td>1</td>\n",
       "      <td>RT @NatGeoChannel: Watch #BeforeTheFlood right...</td>\n",
       "      <td>793124211518832641</td>\n",
       "    </tr>\n",
       "    <tr>\n",
       "      <th>2</th>\n",
       "      <td>1</td>\n",
       "      <td>Fabulous! Leonardo #DiCaprio's film on #climat...</td>\n",
       "      <td>793124402388832256</td>\n",
       "    </tr>\n",
       "    <tr>\n",
       "      <th>3</th>\n",
       "      <td>1</td>\n",
       "      <td>RT @Mick_Fanning: Just watched this amazing do...</td>\n",
       "      <td>793124635873275904</td>\n",
       "    </tr>\n",
       "    <tr>\n",
       "      <th>4</th>\n",
       "      <td>2</td>\n",
       "      <td>RT @cnalive: Pranita Biswasi, a Lutheran from ...</td>\n",
       "      <td>793125156185137153</td>\n",
       "    </tr>\n",
       "  </tbody>\n",
       "</table>\n",
       "</div>"
      ],
      "text/plain": [
       "   sentiment                                            message  \\\n",
       "0         -1  @tiniebeany climate change is an interesting h...   \n",
       "1          1  RT @NatGeoChannel: Watch #BeforeTheFlood right...   \n",
       "2          1  Fabulous! Leonardo #DiCaprio's film on #climat...   \n",
       "3          1  RT @Mick_Fanning: Just watched this amazing do...   \n",
       "4          2  RT @cnalive: Pranita Biswasi, a Lutheran from ...   \n",
       "\n",
       "              tweetid  \n",
       "0  792927353886371840  \n",
       "1  793124211518832641  \n",
       "2  793124402388832256  \n",
       "3  793124635873275904  \n",
       "4  793125156185137153  "
      ]
     },
     "execution_count": 3,
     "metadata": {},
     "output_type": "execute_result"
    }
   ],
   "source": [
    "df3.head()"
   ]
  },
  {
   "cell_type": "markdown",
   "id": "87e3e37e",
   "metadata": {},
   "source": [
    "### <font color='OrangeRed'>**Divisão de validação(teste) e de treino**\n",
    "    \n",
    "<font color='DarkSlateGray'>**Como em todas as tarefas de Aprendizado Supervisionado, precisamos dividir nossos dados em (pelo menos) conjuntos de Treinamento e Validação(teste). Normalmente, os dados serão fornecidos a você como conjuntos de treinamento e teste; mas no nosso caso, temos um CSV enorme, então precisamos fazer essa divisão nós mesmos. Essas divisões nos permitem treinar nosso modelo, mas também nos dão a capacidade de testar seu desempenho em dados que não deveriam ter visto. Esto nos permitirá evaluar el rendimiento de nuestro modelo y elegir el mejor modelo para usar en nuestro envío.**  "
   ]
  },
  {
   "cell_type": "code",
   "execution_count": 4,
   "id": "90e0a4f9",
   "metadata": {},
   "outputs": [],
   "source": [
    "X = df3['message']\n",
    "y = df3['sentiment'] #alvo\n",
    "#x_treino, x_teste, y_treino, y_teste = train_test_split(previsores, alvo, test_size = 0.3, random_state = 0)\n",
    "X_treino, X_teste, y_treino, y_teste = train_test_split(X, y, test_size=0.3, random_state=42)"
   ]
  },
  {
   "cell_type": "markdown",
   "id": "d024805e",
   "metadata": {},
   "source": [
    "### <font color='OrangeRed'>**Pipelines**\n",
    "    \n",
    "<font color='DarkSlateGray'>**Os pipelines consistem em 2 etapas, vetorização e ajuste do modelo.** \n",
    "    \n",
    "<font color='DarkSlateGray'>**As máquinas, ao contrário dos humanos, não podem entender o texto bruto. As máquinas só podem ver números. Particularmente, técnicas estatísticas como aprendizado de máquina só podem lidar com números. Portanto, precisamos converter nosso texto em números.**\n",
    "    \n",
    "<font color='OrangeRed'>**O que é TFIDF?** \n",
    "    \n",
    "<font color='DarkSlateGray'>**Essencialmente, ele atribui pontuações de frequência de palavras. Essas pontuações tentam destacar palavras de maior interesse – você pode obter essa ideia analisando a frequência no documento versus a frequência em todos os documentos. O vetorizador TFIDF atribui pontuações de frequência de palavras que tentam destacar palavras que são mais interessantes, por exemplo, freqüente em um documento, mas não em todos os documentos. O TfidfVectorizer tokenizará documentos, aprenderá o vocabulário e as ponderações de frequência de documentos inversas e permitirá que você codifique novos documentos. Outra vantagem deste método é que os vetores resultantes já estão dimensionados.** "
   ]
  },
  {
   "cell_type": "markdown",
   "id": "48880021",
   "metadata": {},
   "source": [
    "# <font color='DarkRed'>**RANDOM FOREST**\n",
    "    \n",
    "https://scikit-learn.org/stable/modules/generated/sklearn.ensemble.RandomForestClassifier.html   \n",
    "    \n",
    "https://scikit-learn.org/stable/modules/generated/sklearn.pipeline.Pipeline.html#sklearn.pipeline.Pipeline       "
   ]
  },
  {
   "cell_type": "code",
   "execution_count": 44,
   "id": "d0aca3e8",
   "metadata": {},
   "outputs": [],
   "source": [
    "# random = RandomForestClassifier(n_estimators=150, criterion='entropy', random_state = 0, max_depth=4)\n",
    "# random.fit(x_treino, y_treino)\n",
    "# previsoes_random = random.predict(x_teste)\n",
    "# previsoes_random\n",
    "# clf=classifier\n",
    "# https://towardsdatascience.com/the-triune-pipeline-for-three-major-transformers-in-nlp-18c14e20530\n",
    "rf = Pipeline([('tfidf', TfidfVectorizer()),('clf', RandomForestClassifier(max_depth=5,n_estimators=100,\n",
    "                                                                           criterion='entropy',random_state = 5))])\n",
    "rf.fit(X_treino, y_treino)\n",
    "y_pred_rf = rf.predict(X_teste)"
   ]
  },
  {
   "cell_type": "code",
   "execution_count": 45,
   "id": "6925b92d",
   "metadata": {},
   "outputs": [
    {
     "name": "stdout",
     "output_type": "stream",
     "text": [
      "Acurácia: 52.14%\n"
     ]
    }
   ],
   "source": [
    "print(\"Acurácia: %.2f%%\" % (accuracy_score(y_teste, y_pred_rf) * 100.0))"
   ]
  },
  {
   "cell_type": "code",
   "execution_count": 46,
   "id": "93f47cb1",
   "metadata": {},
   "outputs": [
    {
     "data": {
      "text/plain": [
       "array([[   0,    0, 1137,    0],\n",
       "       [   0,    0, 2396,    0],\n",
       "       [   0,    0, 6874,    0],\n",
       "       [   0,    0, 2776,    0]])"
      ]
     },
     "execution_count": 46,
     "metadata": {},
     "output_type": "execute_result"
    }
   ],
   "source": [
    "Matriz_confusao=confusion_matrix(y_teste, y_pred_rf)\n",
    "Matriz_confusao"
   ]
  },
  {
   "cell_type": "code",
   "execution_count": 47,
   "id": "bb03911d",
   "metadata": {},
   "outputs": [
    {
     "name": "stdout",
     "output_type": "stream",
     "text": [
      "              precision    recall  f1-score   support\n",
      "\n",
      "          -1       0.00      0.00      0.00      1137\n",
      "           0       0.00      0.00      0.00      2396\n",
      "           1       0.52      1.00      0.69      6874\n",
      "           2       0.00      0.00      0.00      2776\n",
      "\n",
      "    accuracy                           0.52     13183\n",
      "   macro avg       0.13      0.25      0.17     13183\n",
      "weighted avg       0.27      0.52      0.36     13183\n",
      "\n"
     ]
    },
    {
     "name": "stderr",
     "output_type": "stream",
     "text": [
      "/home/miguel/anaconda3/lib/python3.9/site-packages/sklearn/metrics/_classification.py:1248: UndefinedMetricWarning: Precision and F-score are ill-defined and being set to 0.0 in labels with no predicted samples. Use `zero_division` parameter to control this behavior.\n",
      "  _warn_prf(average, modifier, msg_start, len(result))\n",
      "/home/miguel/anaconda3/lib/python3.9/site-packages/sklearn/metrics/_classification.py:1248: UndefinedMetricWarning: Precision and F-score are ill-defined and being set to 0.0 in labels with no predicted samples. Use `zero_division` parameter to control this behavior.\n",
      "  _warn_prf(average, modifier, msg_start, len(result))\n",
      "/home/miguel/anaconda3/lib/python3.9/site-packages/sklearn/metrics/_classification.py:1248: UndefinedMetricWarning: Precision and F-score are ill-defined and being set to 0.0 in labels with no predicted samples. Use `zero_division` parameter to control this behavior.\n",
      "  _warn_prf(average, modifier, msg_start, len(result))\n"
     ]
    }
   ],
   "source": [
    "print(classification_report(y_teste, y_pred_rf))"
   ]
  },
  {
   "cell_type": "markdown",
   "id": "ff49f1f1",
   "metadata": {},
   "source": [
    "### <font color='OrangeRed'>**Análise dados de treino**"
   ]
  },
  {
   "cell_type": "code",
   "execution_count": 48,
   "id": "217a24e1",
   "metadata": {},
   "outputs": [
    {
     "data": {
      "text/plain": [
       "array([1, 1, 1, ..., 1, 1, 1])"
      ]
     },
     "execution_count": 48,
     "metadata": {},
     "output_type": "execute_result"
    }
   ],
   "source": [
    "previsoes_treino = rf.predict(X_treino)\n",
    "previsoes_treino"
   ]
  },
  {
   "cell_type": "code",
   "execution_count": 49,
   "id": "cb720037",
   "metadata": {},
   "outputs": [
    {
     "name": "stdout",
     "output_type": "stream",
     "text": [
      "Acurácia: 52.30%\n"
     ]
    }
   ],
   "source": [
    "print(\"Acurácia: %.2f%%\" % (accuracy_score(y_treino, previsoes_treino) * 100.0))\n",
    "#accuracy_score(y_treino, previsoes_treino)"
   ]
  },
  {
   "cell_type": "markdown",
   "id": "595b720f",
   "metadata": {},
   "source": [
    "### <font color='OrangeRed'>**Validação Cruzada**"
   ]
  },
  {
   "cell_type": "code",
   "execution_count": 50,
   "id": "f7931118",
   "metadata": {},
   "outputs": [],
   "source": [
    "kfold = KFold(n_splits = 30, shuffle=True, random_state = 5)"
   ]
  },
  {
   "cell_type": "code",
   "execution_count": 52,
   "id": "edf3ab27",
   "metadata": {},
   "outputs": [
    {
     "name": "stdout",
     "output_type": "stream",
     "text": [
      "Acurácia Média: 52.25%\n"
     ]
    }
   ],
   "source": [
    "tfidf = TfidfVectorizer()\n",
    "newx=tfidf.fit_transform(X)\n",
    "# Criando o modelo\n",
    "modelo = RandomForestClassifier(n_estimators=100, criterion='entropy', random_state = 5, max_depth=5)\n",
    "resultado = cross_val_score(modelo, newx, y, cv = kfold)\n",
    "\n",
    "# Usamos a média e o desvio padrão\n",
    "print(\"Acurácia Média: %.2f%%\" % (resultado.mean() * 100.0))"
   ]
  },
  {
   "cell_type": "code",
   "execution_count": 53,
   "id": "78a83378",
   "metadata": {},
   "outputs": [
    {
     "data": {
      "image/png": "[encoded data removed]",
      "text/plain": [
       "<Figure size 921.6x633.6 with 2 Axes>"
      ]
     },
     "metadata": {},
     "output_type": "display_data"
    }
   ],
   "source": [
    "# Gera uma matriz de confusão=cm normalizada\n",
    "cm = confusion_matrix(y_teste, y_pred_rf)\n",
    "cm_norm = cm / cm.sum(axis=1).reshape(-1,1)\n",
    "\n",
    "# Display the confusion matrix as a heatmap\n",
    "sns.heatmap(cm_norm,cmap=\"YlGnBu\",xticklabels=rf.classes_,yticklabels=rf.classes_,vmin=0.,vmax=1.,annot=True, \n",
    "            annot_kws={'size':10})\n",
    "\n",
    "# Adding headings and lables\n",
    "plt.title('Classificação de Random forest')\n",
    "plt.ylabel('True label')\n",
    "plt.xlabel('Predicted label')\n",
    "plt.show()"
   ]
  },
  {
   "cell_type": "markdown",
   "id": "29c2193d",
   "metadata": {},
   "source": [
    "### <font color='OrangeRed'>**Observações:**\n",
    "    \n",
    "- <font color='Navy'>**Na Matriz de Confusão acima, podemos ver que o modelo prevê estritamente o sentimento Pro. Isso provavelmente se deve ao equilíbrio dos dados, mas como não testamos isso, não podemos concluir isso. Notamos que o modelo de classificação de floresta aleatória faz um trabalho muito ruim em nosso conjunto de dados. O modelo classifica todos os tweets como tweets pró mudanças climáticas.** \n",
    "- <font color='Navy'>**Isso resulta em pontuações de precisão, recall e F1 de zero para as classes anti, neutra e de notícias.**   \n",
    "- <font color='Navy'>**Os métodos baseados em árvore são propensos a overfitting em dados desequilibrados, como o que temos. No entanto, poderíamos re-amostrar potencialmente para que os dados de treinamento tenham uma distribuição mais uniforme de cada sentimento para testar se esse é realmente o problema com nosso RandomForestClassifier.**   \n",
    "- <font color='Navy'>**A pontuação geral da F1 é de 0,52. Esta é uma pontuação relativamente alta para um modelo que simplesmente classifica todos os tweets em uma única classe. Essa pontuação só poderia ser alcançada porque a maioria dos tweets são de fato pró-mudanças climáticas.**"
   ]
  },
  {
   "cell_type": "markdown",
   "id": "7970631c",
   "metadata": {},
   "source": [
    "# <font color='DarkRed'>**Naïve Bayes**\n",
    "    \n",
    "<font color='DarkSlateGray'>**Naive Bayes é um algoritmo de classificação que usa o princípio do teorema de Bayes para fazer classificações e assume que as variáveis independentes são estatisticamente independentes umas das outras.**\n",
    "    \n",
    "<font color='OrangeRed'>**Teorema de Bayes**:\n",
    "\n",
    "<font color='Navy'>**$$ P(A \\mid B) = \\frac{P(B \\mid A) * P(A)}{P(B)}$$**  \n",
    "    \n",
    "* <font color='DarkSlateGray'>**P(A|B) é a probabilidade posterior da classe (A, alvo) determinado preditor (B, atributos).**  \n",
    "* <font color='DarkSlateGray'>**P(A) é a probabilidade anterior da classe.**\n",
    "* <font color='DarkSlateGray'>**P(B|A) é a probabilidade que é a probabilidade da classe preditora dada.**\n",
    "\n",
    "* <font color='DarkSlateGray'>**P(B) é a probabilidade anterior do preditor.**\n",
    "\n",
    "<font color='DarkSlateGray'>**Naive Bayes tem 3 métodos de classificação**\n",
    "\n",
    "<font color='DarkRed'>**Gaussian** : \n",
    "<font color='DarkSlateGray'>**É usado na classificação e assume que as características seguem uma distribuição normal.**\n",
    "\n",
    "<font color='DarkRed'>**Bernoulli** : \n",
    "<font color='DarkSlateGray'>**O modelo binomial é útil se seus vetores de recursos são binários (ou seja, zeros e uns). Uma aplicação seria a classificação de texto com um modelo de 'saco de palavras' onde os 1s e 0s são “a palavra ocorre no documento” e “a palavra não ocorre no documento”, respectivamente.**\n",
    "\n",
    "<font color='DarkRed'>**Multinomial** : \n",
    "<font color='DarkSlateGray'>**Se utiliza para conteos discretos. Por ejemplo, digamos que tenemos un problema de clasificación de texto. Aquí podemos considerar los ensayos de Bernoulli, que es un paso más allá y en lugar de \"palabra que aparece en el documento\", tenemos \"contar con qué frecuencia aparece la palabra en el documento\", puede pensar en ello como \"número de veces que se observa el resultado número x_i sobre los n ensayos”.**\n",
    "\n",
    "<font color='DarkSlateGray'>**Usaremos el método multinomial.**  \n",
    "    \n",
    "https://scikit-learn.org/stable/modules/naive_bayes.html    "
   ]
  },
  {
   "cell_type": "code",
   "execution_count": 54,
   "id": "ee10bb04",
   "metadata": {},
   "outputs": [],
   "source": [
    "nb = Pipeline([('tfidf', TfidfVectorizer()),('clf', MultinomialNB())])\n",
    "nb.fit(X_treino, y_treino)\n",
    "y_pred_nb = nb.predict(X_teste)"
   ]
  },
  {
   "cell_type": "code",
   "execution_count": 55,
   "id": "efb4d55a",
   "metadata": {},
   "outputs": [
    {
     "name": "stdout",
     "output_type": "stream",
     "text": [
      "Acurácia: 57.76%\n"
     ]
    }
   ],
   "source": [
    "print(\"Acurácia: %.2f%%\" % (accuracy_score(y_teste, y_pred_nb) * 100.0))"
   ]
  },
  {
   "cell_type": "code",
   "execution_count": 56,
   "id": "a2a65730",
   "metadata": {},
   "outputs": [
    {
     "name": "stdout",
     "output_type": "stream",
     "text": [
      "              precision    recall  f1-score   support\n",
      "\n",
      "          -1       1.00      0.01      0.02      1137\n",
      "           0       1.00      0.05      0.10      2396\n",
      "           1       0.55      1.00      0.71      6874\n",
      "           2       0.93      0.23      0.36      2776\n",
      "\n",
      "    accuracy                           0.58     13183\n",
      "   macro avg       0.87      0.32      0.30     13183\n",
      "weighted avg       0.75      0.58      0.47     13183\n",
      "\n"
     ]
    }
   ],
   "source": [
    "# print(metrics.classification_report(y_teste, y_pred_nb))\n",
    "print(classification_report(y_teste, y_pred_nb))"
   ]
  },
  {
   "cell_type": "markdown",
   "id": "e57b610d",
   "metadata": {},
   "source": [
    "### <font color='OrangeRed'>**Análise dados de treino**"
   ]
  },
  {
   "cell_type": "code",
   "execution_count": 57,
   "id": "212989f8",
   "metadata": {},
   "outputs": [],
   "source": [
    "previsoes_treino = nb.predict(X_treino)"
   ]
  },
  {
   "cell_type": "code",
   "execution_count": 58,
   "id": "f53a2c48",
   "metadata": {},
   "outputs": [
    {
     "name": "stdout",
     "output_type": "stream",
     "text": [
      "Acurácia: 63.17%\n"
     ]
    }
   ],
   "source": [
    "print(\"Acurácia: %.2f%%\" % (accuracy_score(y_treino, previsoes_treino) * 100.0))\n",
    "#accuracy_score(y_treino, previsoes_treino)"
   ]
  },
  {
   "cell_type": "markdown",
   "id": "4bd1e9c0",
   "metadata": {},
   "source": [
    "### <font color='OrangeRed'>**Validação Cruzada**"
   ]
  },
  {
   "cell_type": "code",
   "execution_count": 59,
   "id": "eaabbf40",
   "metadata": {},
   "outputs": [],
   "source": [
    "# Separando os dados em folds\n",
    "kfold = KFold(n_splits = 30, shuffle=True, random_state = 5)"
   ]
  },
  {
   "cell_type": "code",
   "execution_count": 60,
   "id": "c871aa60",
   "metadata": {},
   "outputs": [],
   "source": [
    "tfidf = TfidfVectorizer()\n",
    "newx=tfidf.fit_transform(X)\n",
    "# Criando o modelo\n",
    "modelo = MultinomialNB()\n",
    "resultado = cross_val_score(modelo, newx, y, cv = kfold)"
   ]
  },
  {
   "cell_type": "code",
   "execution_count": 61,
   "id": "d8073375",
   "metadata": {},
   "outputs": [
    {
     "name": "stdout",
     "output_type": "stream",
     "text": [
      "Acurácia Média: 59.22%\n"
     ]
    }
   ],
   "source": [
    "# Usamos a média e o desvio padrão\n",
    "print(\"Acurácia Média: %.2f%%\" % (resultado.mean() * 100.0))"
   ]
  },
  {
   "cell_type": "markdown",
   "id": "6bf29a42",
   "metadata": {},
   "source": [
    "### <font color='OrangeRed'>**Matriz de Confusão:**"
   ]
  },
  {
   "cell_type": "code",
   "execution_count": 62,
   "id": "2c113b6e",
   "metadata": {},
   "outputs": [
    {
     "data": {
      "image/png": "[encoded data removed]",
      "text/plain": [
       "<Figure size 921.6x633.6 with 2 Axes>"
      ]
     },
     "metadata": {},
     "output_type": "display_data"
    }
   ],
   "source": [
    "#Gerar uma matriz de confusão normalizada\n",
    "cm = confusion_matrix(y_teste, y_pred_nb)\n",
    "cm_norm = cm / cm.sum(axis=1).reshape(-1,1)\n",
    "\n",
    "#Mostra a matriz de confusão como um mapa de calor\n",
    "sns.heatmap(cm_norm,cmap=\"YlGnBu\",xticklabels=nb.classes_,yticklabels=nb.classes_,vmin=0.,vmax=1.,annot=True, \n",
    "            annot_kws={'size':10})\n",
    "\n",
    "# Adicionando títulos e rótulos\n",
    "plt.title('Classificação Naive Bayes')\n",
    "plt.ylabel('True label')\n",
    "plt.xlabel('Predicted label')\n",
    "plt.show()"
   ]
  },
  {
   "cell_type": "markdown",
   "id": "ca82f369",
   "metadata": {},
   "source": [
    "### <font color='OrangeRed'>**Observações:**\n",
    "    \n",
    "- <font color='DarkSlateGray'>**Embora o modelo Naive Bayes seja uma pequena melhoria em relação ao modelo de floresta aleatória, ele ainda apresenta um desempenho ruim**\n",
    "- <font color='DarkSlateGray'>**Esse modelo classifica a maioria dos tweets como pró-mudanças climáticas com previsões melhoradas para a classe de notícias.**\n",
    "- <font color='DarkSlateGray'>**A precisão, accuracy and F1 scores melhoraram significativamente para a classe de notícias, mas permanecem baixas para neutro e anti.**\n",
    "- <font color='DarkSlateGray'>**Embora o Naïve Bayes tenha um desempenho melhor, seu desempenho provavelmente é prejudicado pelo equilíbrio de dados que temos. Ou seja, a pontuação geral da F1 é de 0,58, mas essa pontuação só poderia ser alcançada, pois a maioria dos tweets é de fato a favor das mudanças climáticas.**      "
   ]
  },
  {
   "cell_type": "markdown",
   "id": "2b0da896",
   "metadata": {},
   "source": [
    "# <font color='DarkRed'>**Classificação K-Nearest Neighbors**\n",
    "    \n",
    "<font color='DarkSlateGray'>**O algoritmo KNN usa 'semelhança de recursos' para prever os valores de quaisquer novos pontos de dados. Isso significa que o novo ponto recebe um valor com base na semelhança com os pontos no conjunto de treinamento. Basicamente, ele analisa os 𝐾 pontos mais próximos do ponto de dados fornecido e calcula uma semelhança entre eles. Existem vários métodos para calcular o quão próximo o novo ponto de dados se assemelha aos pontos no conjunto de treinamento, dos quais os métodos mais conhecidos são – Euclidiano, Manhattan (para contínuo) e distância de Hamming (para categórico).**    \n",
    "    \n",
    "https://scikit-learn.org/stable/modules/generated/sklearn.neighbors.KNeighborsClassifier.html\n",
    "    \n",
    "https://scikit-learn.org/stable/modules/generated/sklearn.metrics.DistanceMetric.html    "
   ]
  },
  {
   "cell_type": "code",
   "execution_count": 63,
   "id": "22ce8f59",
   "metadata": {},
   "outputs": [],
   "source": [
    "knn = Pipeline([('tfidf', TfidfVectorizer()),('clf', KNeighborsClassifier(n_neighbors=5,metric='minkowski', p=2))])\n",
    "knn.fit(X_treino, y_treino)\n",
    "y_pred_knn = knn.predict(X_teste)"
   ]
  },
  {
   "cell_type": "code",
   "execution_count": 64,
   "id": "c8497e2a",
   "metadata": {},
   "outputs": [
    {
     "name": "stdout",
     "output_type": "stream",
     "text": [
      "Acurácia: 66.04%\n"
     ]
    }
   ],
   "source": [
    "print(\"Acurácia: %.2f%%\" % (accuracy_score(y_teste, y_pred_knn) * 100.0))"
   ]
  },
  {
   "cell_type": "code",
   "execution_count": 65,
   "id": "feb5f6a9",
   "metadata": {},
   "outputs": [
    {
     "name": "stdout",
     "output_type": "stream",
     "text": [
      "              precision    recall  f1-score   support\n",
      "\n",
      "          -1       0.53      0.41      0.46      1137\n",
      "           0       0.49      0.45      0.47      2396\n",
      "           1       0.72      0.79      0.75      6874\n",
      "           2       0.68      0.63      0.65      2776\n",
      "\n",
      "    accuracy                           0.66     13183\n",
      "   macro avg       0.61      0.57      0.58     13183\n",
      "weighted avg       0.65      0.66      0.65     13183\n",
      "\n"
     ]
    }
   ],
   "source": [
    "# Gerar um relatório de classificação para o modelo de K-vizinhos mais próximos\n",
    "print(classification_report(y_teste, y_pred_knn))"
   ]
  },
  {
   "cell_type": "markdown",
   "id": "6e9db8d8",
   "metadata": {},
   "source": [
    "### <font color='OrangeRed'>**Análise dados de treino**"
   ]
  },
  {
   "cell_type": "code",
   "execution_count": 66,
   "id": "4d6e68be",
   "metadata": {},
   "outputs": [],
   "source": [
    "previsoes_treino = knn.predict(X_treino)"
   ]
  },
  {
   "cell_type": "code",
   "execution_count": 67,
   "id": "a4f83ef4",
   "metadata": {},
   "outputs": [
    {
     "name": "stdout",
     "output_type": "stream",
     "text": [
      "Acurácia: 76.77%\n"
     ]
    }
   ],
   "source": [
    "print(\"Acurácia: %.2f%%\" % (accuracy_score(y_treino, previsoes_treino) * 100.0))"
   ]
  },
  {
   "cell_type": "markdown",
   "id": "82cd5c0d",
   "metadata": {},
   "source": [
    "### <font color='OrangeRed'>**Validação Cruzada**"
   ]
  },
  {
   "cell_type": "code",
   "execution_count": 68,
   "id": "47da4f8f",
   "metadata": {},
   "outputs": [
    {
     "name": "stdout",
     "output_type": "stream",
     "text": [
      "Acurácia Média: 66.11%\n"
     ]
    }
   ],
   "source": [
    "tfidf = TfidfVectorizer()\n",
    "newx=tfidf.fit_transform(X)\n",
    "# Criando o modelo\n",
    "modeloKNN = KNeighborsClassifier(n_neighbors=5, metric='minkowski', p = 2)\n",
    "resultadoKNN = cross_val_score(modeloKNN, newx, y, cv = kfold)\n",
    "\n",
    "# Usamos a média e o desvio padrão\n",
    "print(\"Acurácia Média: %.2f%%\" % (resultadoKNN.mean() * 100.0))"
   ]
  },
  {
   "cell_type": "markdown",
   "id": "437fa976",
   "metadata": {},
   "source": [
    "### <font color='OrangeRed'>**Matriz de Confusão:**"
   ]
  },
  {
   "cell_type": "code",
   "execution_count": 69,
   "id": "c85a075d",
   "metadata": {},
   "outputs": [
    {
     "data": {
      "image/png": "[encoded data removed]",
      "text/plain": [
       "<Figure size 921.6x633.6 with 2 Axes>"
      ]
     },
     "metadata": {},
     "output_type": "display_data"
    }
   ],
   "source": [
    "cm = confusion_matrix(y_teste, y_pred_knn)\n",
    "cm_norm = cm / cm.sum(axis=1).reshape(-1,1)\n",
    "\n",
    "# Display the confusion matrix as a heatmap\n",
    "sns.heatmap(cm_norm,cmap=\"YlGnBu\",xticklabels=knn.classes_,yticklabels=knn.classes_,vmin=0.,vmax=1.,annot=True, \n",
    "            annot_kws={'size':10})\n",
    "\n",
    "# Adding headings and lables\n",
    "plt.title('Classificação  K - nearest neighbors')\n",
    "plt.ylabel('True label')\n",
    "plt.xlabel('Predicted label')\n",
    "plt.show()"
   ]
  },
  {
   "cell_type": "markdown",
   "id": "02de66ea",
   "metadata": {},
   "source": [
    "### <font color='OrangeRed'>**Observações:**\n",
    "    \n",
    "- <font color='DarkSlateGray'>**KNN é capaz de classificar os tweets com sucesso.**\n",
    "- <font color='DarkSlateGray'>**KNN melhora tanto em Naïve Bayes quanto em Random Forests.**\n",
    "- <font color='DarkSlateGray'>**Este modelo também classifica a maioria dos tweets como pró-mudanças climáticas, mas em menor grau em comparação com os 2 modelos anteriores.**\n",
    "- <font color='DarkSlateGray'>**A precision, accuracy and F1 scores melhoraram significativamente para as classes pró, anti e neutro.** \n",
    "- <font color='DarkSlateGray'>**Há uma queda na  F1 score para a classe pró mudanças climáticas à medida que as previsões se tornam mais equilibradas.**\n",
    "- <font color='DarkSlateGray'>**O geral F1 score é 0.66, que está muito próximo do nosso objetivo**    "
   ]
  },
  {
   "cell_type": "markdown",
   "id": "75068654",
   "metadata": {},
   "source": [
    "# <font color='DarkRed'>**Classificação de regressão logística**\n",
    "\n",
    "<font color='Navy'>**multinomial (variável dependente com mais de duas categorias).**    \n",
    "    \n",
    "https://scikit-learn.org/stable/modules/generated/sklearn.linear_model.LogisticRegression.html    "
   ]
  },
  {
   "cell_type": "markdown",
   "id": "d91a4493",
   "metadata": {},
   "source": [
    "<font color='DarkSlateGray'>**A regressão logística usa a probabilidade de um ponto de dados pertencer a uma determinada classe para classificar cada ponto de dados em sua melhor classe estimada. A regressão logística foi classificada como o modelo de melhor desempenho para dados linearmente separáveis, especialmente se estiver prevendo dados binários (Sim e NÃO ou 1 e 0), e funciona melhor quando não há desequilíbrio de classe.\n",
    "A figura abaixo é a função sigmóide que os modelos de regressão logística usam para fazer previsões:**"
   ]
  },
  {
   "cell_type": "markdown",
   "id": "5f44144e",
   "metadata": {},
   "source": [
    "![](funtion.png)"
   ]
  },
  {
   "cell_type": "markdown",
   "id": "13f4af0c",
   "metadata": {},
   "source": [
    "<font color='DarkSlateGray'>**No nosso caso vamos usar regressão logística multinomial (variável dependente com mais de duas categorias). A Regressão Logística Multinomial é uma generalização da Regressão Logística, para que possa lidar com várias classes. Normalmente, a regressão logística funciona bem quando você separa linearmente as classes em questão. Como Naïve Bayes e Random Forests, é muito sensível ao equilíbrio de classes.**"
   ]
  },
  {
   "cell_type": "code",
   "execution_count": 71,
   "id": "543b70a5",
   "metadata": {},
   "outputs": [],
   "source": [
    "lr = Pipeline([('tfidf',TfidfVectorizer()),('clf',LogisticRegression(C=1,class_weight='balanced',max_iter=1000))])\n",
    "lr.fit(X_treino, y_treino)\n",
    "y_pred_lr = lr.predict(X_teste)"
   ]
  },
  {
   "cell_type": "code",
   "execution_count": 72,
   "id": "4cbf52bf",
   "metadata": {},
   "outputs": [
    {
     "name": "stdout",
     "output_type": "stream",
     "text": [
      "Acurácia: 70.88%\n"
     ]
    }
   ],
   "source": [
    "print(\"Acurácia: %.2f%%\" % (accuracy_score(y_teste, y_pred_lr) * 100.0))"
   ]
  },
  {
   "cell_type": "code",
   "execution_count": 73,
   "id": "2d3180fa",
   "metadata": {},
   "outputs": [
    {
     "name": "stdout",
     "output_type": "stream",
     "text": [
      "              precision    recall  f1-score   support\n",
      "\n",
      "          -1       0.53      0.66      0.59      1137\n",
      "           0       0.57      0.53      0.55      2396\n",
      "           1       0.84      0.72      0.77      6874\n",
      "           2       0.65      0.86      0.74      2776\n",
      "\n",
      "    accuracy                           0.71     13183\n",
      "   macro avg       0.65      0.69      0.66     13183\n",
      "weighted avg       0.73      0.71      0.71     13183\n",
      "\n"
     ]
    }
   ],
   "source": [
    "# Gerar um relatório de classificação para o modelo regressão logística\n",
    "print(classification_report(y_teste, y_pred_lr))"
   ]
  },
  {
   "cell_type": "markdown",
   "id": "5915a2d8",
   "metadata": {},
   "source": [
    "### <font color='OrangeRed'>**Análise dados de treino**"
   ]
  },
  {
   "cell_type": "code",
   "execution_count": 77,
   "id": "3093a33d",
   "metadata": {},
   "outputs": [],
   "source": [
    "prev_treino = lr.predict(X_treino)"
   ]
  },
  {
   "cell_type": "code",
   "execution_count": 78,
   "id": "c646b04e",
   "metadata": {},
   "outputs": [
    {
     "name": "stdout",
     "output_type": "stream",
     "text": [
      "Acurácia: 84.67%\n"
     ]
    }
   ],
   "source": [
    "print(\"Acurácia: %.2f%%\" % (accuracy_score(y_treino, prev_treino)* 100.0))\n",
    "#accuracy_score(y_treino, previsoes_treino)"
   ]
  },
  {
   "cell_type": "markdown",
   "id": "6865c3af",
   "metadata": {},
   "source": [
    "### <font color='OrangeRed'>**Validação Cruzada**"
   ]
  },
  {
   "cell_type": "code",
   "execution_count": 79,
   "id": "51f01804",
   "metadata": {},
   "outputs": [],
   "source": [
    "kfold = KFold(n_splits = 30, shuffle=True, random_state = 5)"
   ]
  },
  {
   "cell_type": "code",
   "execution_count": 80,
   "id": "104790b3",
   "metadata": {},
   "outputs": [
    {
     "name": "stdout",
     "output_type": "stream",
     "text": [
      "Acurácia Média: 71.44%\n"
     ]
    }
   ],
   "source": [
    "tfidf = TfidfVectorizer()\n",
    "newx=tfidf.fit_transform(X)\n",
    "# Criando o modelo\n",
    "modelolr = LogisticRegression(C=1,class_weight='balanced',max_iter=1000)\n",
    "resultadolr = cross_val_score(modelolr, newx, y, cv = kfold)\n",
    "\n",
    "# Usamos a média e o desvio padrão\n",
    "print(\"Acurácia Média: %.2f%%\" % (resultadolr.mean() * 100.0))"
   ]
  },
  {
   "cell_type": "markdown",
   "id": "d48f0667",
   "metadata": {},
   "source": [
    "### <font color='OrangeRed'>**Matriz de Confusão:**"
   ]
  },
  {
   "cell_type": "code",
   "execution_count": 81,
   "id": "9a0d22e4",
   "metadata": {},
   "outputs": [
    {
     "data": {
      "image/png": "[encoded data removed]",
      "text/plain": [
       "<Figure size 921.6x633.6 with 2 Axes>"
      ]
     },
     "metadata": {},
     "output_type": "display_data"
    }
   ],
   "source": [
    "cm = confusion_matrix(y_teste, y_pred_lr)\n",
    "cm_norm = cm / cm.sum(axis=1).reshape(-1,1)\n",
    "\n",
    "sns.heatmap(cm_norm,cmap=\"YlGnBu\",xticklabels=lr.classes_,yticklabels=lr.classes_,vmin=0.,vmax=1.,annot=True, \n",
    "            annot_kws={'size':10})\n",
    "\n",
    "# Adding headings and lables\n",
    "plt.title('Classificação de regressão logística')\n",
    "plt.ylabel('True label')\n",
    "plt.xlabel('Predicted label')\n",
    "plt.show()"
   ]
  },
  {
   "cell_type": "markdown",
   "id": "8db486f9",
   "metadata": {},
   "source": [
    "### <font color='OrangeRed'>**Observações:**\n",
    "    \n",
    "- <font color='DarkSlateGray'>**A regressão logística se sai muito bem, especialmente em comparação com os modelos anteriores, já que é capaz de classificar com sucesso os tweets.**\n",
    "- <font color='DarkSlateGray'>**Este modelo classifica a maioria dos tweets com sucesso com limites claros e menos confusão em torno da classe pró-mudanças climáticas.**\n",
    "- <font color='DarkSlateGray'>**As precision, accuracy and F1 scores melhoraram significativamente para as classes pró, anti e neutro.**\n",
    "- <font color='DarkSlateGray'>**Há uma queda na F1 score para a classe pró mudanças climáticas à medida que as previsões se tornam mais equilibradas.**     "
   ]
  },
  {
   "cell_type": "markdown",
   "id": "95982e71",
   "metadata": {},
   "source": [
    "# <font color='DarkRed'>**Máquinas de vetor de suporte (SVC linear)**\n",
    "\n",
    "https://scikit-learn.org/stable/modules/generated/sklearn.svm.SVC.html"
   ]
  },
  {
   "cell_type": "markdown",
   "id": "7b228425",
   "metadata": {},
   "source": [
    "<font color='DarkSlateGray'>**No algoritmo SVM, plotamos cada item de dados como um ponto no espaço n-dimensional (onde n é o número de recursos que você possui) com o valor de cada recurso sendo o valor de uma determinada coordenada. O objetivo do algoritmo SVM é criar a melhor linha ou limite de decisão que possa separar o espaço n-dimensional em classes para que possamos facilmente colocar o novo ponto de dados na categoria correta no futuro. Esse limite de melhor decisão é chamado de hiperplano. O SVM normalmente usa pontos/vetores extremos para ajudar na criação do hiperplano. Esses vetores são chamados de \"vetores de suporte\".**\n",
    "    \n",
    "<font color='DarkSlateGray'>**Considere o diagrama abaixo no qual existem duas categorias diferentes que são classificadas usando um limite de decisão ou hiperplano:**    "
   ]
  },
  {
   "cell_type": "markdown",
   "id": "900f5e12",
   "metadata": {},
   "source": [
    "![](SVM.png)"
   ]
  },
  {
   "cell_type": "code",
   "execution_count": 82,
   "id": "f9f69d95",
   "metadata": {},
   "outputs": [],
   "source": [
    "lsvc = Pipeline([('tfidf', TfidfVectorizer()),('clf', LinearSVC(class_weight='balanced'))])\n",
    "lsvc.fit(X_treino, y_treino)\n",
    "y_pred_lsvc = lsvc.predict(X_teste)"
   ]
  },
  {
   "cell_type": "code",
   "execution_count": 83,
   "id": "93bac780",
   "metadata": {},
   "outputs": [
    {
     "name": "stdout",
     "output_type": "stream",
     "text": [
      "Acurácia: 74.24%\n"
     ]
    }
   ],
   "source": [
    "print(\"Acurácia: %.2f%%\" % (accuracy_score(y_teste, y_pred_lsvc) * 100.0))"
   ]
  },
  {
   "cell_type": "code",
   "execution_count": 84,
   "id": "266f238a",
   "metadata": {},
   "outputs": [
    {
     "name": "stdout",
     "output_type": "stream",
     "text": [
      "              precision    recall  f1-score   support\n",
      "\n",
      "          -1       0.63      0.60      0.61      1137\n",
      "           0       0.64      0.48      0.55      2396\n",
      "           1       0.80      0.83      0.81      6874\n",
      "           2       0.71      0.82      0.76      2776\n",
      "\n",
      "    accuracy                           0.74     13183\n",
      "   macro avg       0.69      0.68      0.68     13183\n",
      "weighted avg       0.74      0.74      0.74     13183\n",
      "\n"
     ]
    }
   ],
   "source": [
    "#Gera um relatório de classificação para o modo SVC linear\n",
    "print(classification_report(y_teste, y_pred_lsvc))"
   ]
  },
  {
   "cell_type": "markdown",
   "id": "6a5fab86",
   "metadata": {},
   "source": [
    "### <font color='OrangeRed'>**Análise dados de treino**"
   ]
  },
  {
   "cell_type": "code",
   "execution_count": 88,
   "id": "80a1da8e",
   "metadata": {},
   "outputs": [
    {
     "name": "stdout",
     "output_type": "stream",
     "text": [
      "Acurácia: 98.47%\n"
     ]
    }
   ],
   "source": [
    "previsoes_treinosvm = lsvc.predict(X_treino)\n",
    "print(\"Acurácia: %.2f%%\" % (accuracy_score(y_treino, previsoes_treinosvm)* 100.0))"
   ]
  },
  {
   "cell_type": "markdown",
   "id": "16f6bba1",
   "metadata": {},
   "source": [
    "### <font color='OrangeRed'>**Validação Cruzada**"
   ]
  },
  {
   "cell_type": "code",
   "execution_count": 89,
   "id": "7d24e09b",
   "metadata": {},
   "outputs": [],
   "source": [
    "# Separando os dados em folds\n",
    "kfold = KFold(n_splits = 30, shuffle=True, random_state = 5)"
   ]
  },
  {
   "cell_type": "code",
   "execution_count": 90,
   "id": "cf82ec03",
   "metadata": {},
   "outputs": [],
   "source": [
    "tfidf = TfidfVectorizer()\n",
    "newx=tfidf.fit_transform(X)\n",
    "# Criando o modelo Ojo demora en executar\n",
    "model=LinearSVC(class_weight='balanced')\n",
    "#modelo = SVC(kernel='rbf', random_state=1, C = 2) \n",
    "resultadosvm = cross_val_score(model, newx, y, cv = kfold)"
   ]
  },
  {
   "cell_type": "code",
   "execution_count": 91,
   "id": "c9313218",
   "metadata": {},
   "outputs": [
    {
     "name": "stdout",
     "output_type": "stream",
     "text": [
      "Acurácia Média: 74.92%\n"
     ]
    }
   ],
   "source": [
    "# Usamos a média e o desvio padrão\n",
    "print(\"Acurácia Média: %.2f%%\" % (resultadosvm.mean() * 100.0))"
   ]
  },
  {
   "cell_type": "markdown",
   "id": "524d8d86",
   "metadata": {},
   "source": [
    "### <font color='OrangeRed'>**Matriz de Confusão:**"
   ]
  },
  {
   "cell_type": "code",
   "execution_count": 92,
   "id": "22467af7",
   "metadata": {},
   "outputs": [
    {
     "data": {
      "image/png": "[encoded data removed]",
      "text/plain": [
       "<Figure size 921.6x633.6 with 2 Axes>"
      ]
     },
     "metadata": {},
     "output_type": "display_data"
    }
   ],
   "source": [
    "cm = confusion_matrix(y_teste, y_pred_lsvc)\n",
    "cm_norm = cm / cm.sum(axis=1).reshape(-1,1)\n",
    "\n",
    "# Display the confusion matrix as a heatmap\n",
    "sns.heatmap(cm_norm,cmap=\"YlGnBu\",xticklabels=lsvc.classes_,yticklabels=lsvc.classes_,vmin=0.,vmax=1.,annot=True, \n",
    "            annot_kws={'size':10})\n",
    "\n",
    "# Adding headings and lables\n",
    "plt.title('Classificação linear SVC')\n",
    "plt.ylabel('True label')\n",
    "plt.xlabel('Predicted label')\n",
    "plt.show()"
   ]
  },
  {
   "cell_type": "markdown",
   "id": "264a091e",
   "metadata": {},
   "source": [
    "### <font color='OrangeRed'>**Observações:**\n",
    "    \n",
    "- <font color='DarkSlateGray'>**O SVC linear é capaz de classificar os tweets com sucesso.**\n",
    "- <font color='DarkSlateGray'>**Este modelo classifica a maioria dos tweets com sucesso com limites claros e menos confusão em torno da classe pró-mudanças climáticas em comparação com os 3 primeiros modelos.**\n",
    "- <font color='DarkSlateGray'>**Curiosamente, o SVM mostra um maior grau de confusão em torno da classe Pro em comparação com a regressão logística.**\n",
    "- <font color='DarkSlateGray'>**Isso, no entanto, leva a um aumento na precision, accuracy and f1 score para a classe Pro, que compõe a maioria dos tweets.**\n",
    "- <font color='DarkSlateGray'>**Linear SVC alcançou a pontuação mais alta da F1 de 0,74**    "
   ]
  },
  {
   "cell_type": "markdown",
   "id": "9889aca5",
   "metadata": {},
   "source": [
    "![](7406.JPEG)"
   ]
  },
  {
   "cell_type": "markdown",
   "id": "e2c2b92d",
   "metadata": {},
   "source": [
    "## Referencias\n",
    "   - https://matplotlib.org/\n",
    "   - https://matplotlib.org/stable/gallery/color/named_colors.html#sphx-glr-gallery-color-named-colors-py\n",
    "   - https://matplotlib.org/stable/gallery/index.html\n",
    "   - https://matplotlib.org/tutorials/introductory/pyplot.html\n",
    "   - https://matplotlib.org/tutorials/introductory/customizing.html\n",
    "   - https://docs.scipy.org/doc/scipy/reference/generated/scipy.stats.norm.html\n",
    "   - https://matplotlib.org/3.1.1/api/_as_gen/matplotlib.pyplot.xlabel.html\n",
    "   - https://matplotlib.org/3.1.1/api/_as_gen/matplotlib.pyplot.grid.html\n",
    "   - https://matplotlib.org/tutorials/intermediate/legend_guide.html\n",
    "   - https://matplotlib.org/tutorials/introductory/customizing.html#customizing-with-matplotlibrc-files\n",
    "   - https://matplotlib.org/api/_as_gen/matplotlib.axes.Axes.tick_params.html\n",
    "   - https://www.w3schools.com/colors/colors_names.asp"
   ]
  }
 ],
 "metadata": {
  "kernelspec": {
   "display_name": "Python 3 (ipykernel)",
   "language": "python",
   "name": "python3"
  },
  "language_info": {
   "codemirror_mode": {
    "name": "ipython",
    "version": 3
   },
   "file_extension": ".py",
   "mimetype": "text/x-python",
   "name": "python",
   "nbconvert_exporter": "python",
   "pygments_lexer": "ipython3",
   "version": "3.9.7"
  }
 },
 "nbformat": 4,
 "nbformat_minor": 5
}
