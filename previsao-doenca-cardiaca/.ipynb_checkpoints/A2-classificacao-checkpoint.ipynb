{
 "cells": [
  {
   "cell_type": "markdown",
   "metadata": {
    "id": "fQJ5CYV9Te0X"
   },
   "source": [
    "# <font color='red'>**APRENDIZAGEM SUPERVISIONADA: CLASSIFICAÇÃO Parte 2**"
   ]
  },
  {
   "cell_type": "markdown",
   "metadata": {
    "id": "kXFCCsVHTtTP"
   },
   "source": [
    "<font color='blue'>Este projeto tem por objetivo desenvolver um algoritmo de Machine Learning para prever a tendência de uma pessoa desenvolver algum tipo de doença cardíaca com base em alguns fatores clínicos e laboratoriais. "
   ]
  },
  {
   "cell_type": "markdown",
   "metadata": {
    "id": "5ZQ2nYhQUc3G"
   },
   "source": [
    "<font color='green'>Os dados foram extraídos do site do Kaggle:\n",
    "\n",
    "https://www.kaggle.com/fedesoriano/heart-failure-prediction/version/1"
   ]
  },
  {
   "cell_type": "markdown",
   "metadata": {
    "id": "gczjMn0YIb6s"
   },
   "source": [
    "# <font color='Purple'>**PRÉ-PROCESSAMENTO**"
   ]
  },
  {
   "cell_type": "code",
   "execution_count": 1,
   "metadata": {
    "id": "nWvIcticlCs2"
   },
   "outputs": [],
   "source": [
    "import numpy as np\n",
    "import pandas as pd"
   ]
  },
  {
   "cell_type": "code",
   "execution_count": 2,
   "metadata": {
    "id": "LRIrwcC8kUhT"
   },
   "outputs": [],
   "source": [
    "df = pd.read_csv('heart_tratado.csv',sep=';', encoding='utf-8')"
   ]
  },
  {
   "cell_type": "code",
   "execution_count": 3,
   "metadata": {
    "id": "QtugliripIyp"
   },
   "outputs": [
    {
     "data": {
      "text/html": [
       "<div>\n",
       "<style scoped>\n",
       "    .dataframe tbody tr th:only-of-type {\n",
       "        vertical-align: middle;\n",
       "    }\n",
       "\n",
       "    .dataframe tbody tr th {\n",
       "        vertical-align: top;\n",
       "    }\n",
       "\n",
       "    .dataframe thead th {\n",
       "        text-align: right;\n",
       "    }\n",
       "</style>\n",
       "<table border=\"1\" class=\"dataframe\">\n",
       "  <thead>\n",
       "    <tr style=\"text-align: right;\">\n",
       "      <th></th>\n",
       "      <th>Age</th>\n",
       "      <th>Sex</th>\n",
       "      <th>ChestPainType</th>\n",
       "      <th>RestingBP</th>\n",
       "      <th>Cholesterol</th>\n",
       "      <th>FastingBS</th>\n",
       "      <th>RestingECG</th>\n",
       "      <th>MaxHR</th>\n",
       "      <th>ExerciseAngina</th>\n",
       "      <th>Oldpeak</th>\n",
       "      <th>ST_Slope</th>\n",
       "      <th>HeartDisease</th>\n",
       "    </tr>\n",
       "  </thead>\n",
       "  <tbody>\n",
       "    <tr>\n",
       "      <th>0</th>\n",
       "      <td>40</td>\n",
       "      <td>M</td>\n",
       "      <td>ATA</td>\n",
       "      <td>140</td>\n",
       "      <td>289.0</td>\n",
       "      <td>0</td>\n",
       "      <td>Normal</td>\n",
       "      <td>172</td>\n",
       "      <td>N</td>\n",
       "      <td>0.0</td>\n",
       "      <td>Up</td>\n",
       "      <td>0</td>\n",
       "    </tr>\n",
       "    <tr>\n",
       "      <th>1</th>\n",
       "      <td>49</td>\n",
       "      <td>F</td>\n",
       "      <td>NAP</td>\n",
       "      <td>160</td>\n",
       "      <td>180.0</td>\n",
       "      <td>0</td>\n",
       "      <td>Normal</td>\n",
       "      <td>156</td>\n",
       "      <td>N</td>\n",
       "      <td>1.0</td>\n",
       "      <td>Flat</td>\n",
       "      <td>1</td>\n",
       "    </tr>\n",
       "    <tr>\n",
       "      <th>2</th>\n",
       "      <td>37</td>\n",
       "      <td>M</td>\n",
       "      <td>ATA</td>\n",
       "      <td>130</td>\n",
       "      <td>283.0</td>\n",
       "      <td>0</td>\n",
       "      <td>ST</td>\n",
       "      <td>98</td>\n",
       "      <td>N</td>\n",
       "      <td>0.0</td>\n",
       "      <td>Up</td>\n",
       "      <td>0</td>\n",
       "    </tr>\n",
       "    <tr>\n",
       "      <th>3</th>\n",
       "      <td>48</td>\n",
       "      <td>F</td>\n",
       "      <td>ASY</td>\n",
       "      <td>138</td>\n",
       "      <td>214.0</td>\n",
       "      <td>0</td>\n",
       "      <td>Normal</td>\n",
       "      <td>108</td>\n",
       "      <td>Y</td>\n",
       "      <td>1.5</td>\n",
       "      <td>Flat</td>\n",
       "      <td>1</td>\n",
       "    </tr>\n",
       "    <tr>\n",
       "      <th>4</th>\n",
       "      <td>54</td>\n",
       "      <td>M</td>\n",
       "      <td>NAP</td>\n",
       "      <td>150</td>\n",
       "      <td>195.0</td>\n",
       "      <td>0</td>\n",
       "      <td>Normal</td>\n",
       "      <td>122</td>\n",
       "      <td>N</td>\n",
       "      <td>0.0</td>\n",
       "      <td>Up</td>\n",
       "      <td>0</td>\n",
       "    </tr>\n",
       "  </tbody>\n",
       "</table>\n",
       "</div>"
      ],
      "text/plain": [
       "   Age Sex ChestPainType  RestingBP  Cholesterol  FastingBS RestingECG  MaxHR  \\\n",
       "0   40   M           ATA        140        289.0          0     Normal    172   \n",
       "1   49   F           NAP        160        180.0          0     Normal    156   \n",
       "2   37   M           ATA        130        283.0          0         ST     98   \n",
       "3   48   F           ASY        138        214.0          0     Normal    108   \n",
       "4   54   M           NAP        150        195.0          0     Normal    122   \n",
       "\n",
       "  ExerciseAngina  Oldpeak ST_Slope  HeartDisease  \n",
       "0              N      0.0       Up             0  \n",
       "1              N      1.0     Flat             1  \n",
       "2              N      0.0       Up             0  \n",
       "3              Y      1.5     Flat             1  \n",
       "4              N      0.0       Up             0  "
      ]
     },
     "execution_count": 3,
     "metadata": {},
     "output_type": "execute_result"
    }
   ],
   "source": [
    "df.head()"
   ]
  },
  {
   "cell_type": "code",
   "execution_count": 4,
   "metadata": {
    "id": "NSH5-od1gRAU"
   },
   "outputs": [
    {
     "data": {
      "text/plain": [
       "(917, 12)"
      ]
     },
     "execution_count": 4,
     "metadata": {},
     "output_type": "execute_result"
    }
   ],
   "source": [
    "df.shape"
   ]
  },
  {
   "cell_type": "markdown",
   "metadata": {
    "id": "a-DfpMtio-sq"
   },
   "source": [
    "## <font color='purple'>**Transformando as variáveis categóricas nominais em variáveis categóricas ordinais**"
   ]
  },
  {
   "cell_type": "code",
   "execution_count": 5,
   "metadata": {
    "id": "JntPfMmptEhg"
   },
   "outputs": [],
   "source": [
    "# fazemos uma copia do data freme origunal da forma:\n",
    "df2 = pd.DataFrame.copy(df)"
   ]
  },
  {
   "cell_type": "code",
   "execution_count": 6,
   "metadata": {
    "id": "KUxPnNEhrsjL"
   },
   "outputs": [],
   "source": [
    "# fazemos uma notação de dicionário onde fazemos substituições\n",
    "df2['Sex'].replace({'M':0, 'F': 1}, inplace=True)\n",
    "df2['ChestPainType'].replace({'TA':0, 'ATA': 1, 'NAP':2, 'ASY': 3}, inplace=True)\n",
    "df2['RestingECG'].replace({'Normal':0, 'ST': 1, 'LVH':2}, inplace=True)\n",
    "df2['ExerciseAngina'].replace({'N':0, 'Y': 1}, inplace=True)\n",
    "df2['ST_Slope'].replace({'Up':0, 'Flat': 1, 'Down':2}, inplace=True)"
   ]
  },
  {
   "cell_type": "code",
   "execution_count": 7,
   "metadata": {
    "colab": {
     "base_uri": "https://localhost:8080/"
    },
    "id": "1aTDlfUZpfJi",
    "outputId": "bd2aea6a-e84f-41d6-dd8f-4c464bfe6a8f"
   },
   "outputs": [
    {
     "data": {
      "text/html": [
       "<div>\n",
       "<style scoped>\n",
       "    .dataframe tbody tr th:only-of-type {\n",
       "        vertical-align: middle;\n",
       "    }\n",
       "\n",
       "    .dataframe tbody tr th {\n",
       "        vertical-align: top;\n",
       "    }\n",
       "\n",
       "    .dataframe thead th {\n",
       "        text-align: right;\n",
       "    }\n",
       "</style>\n",
       "<table border=\"1\" class=\"dataframe\">\n",
       "  <thead>\n",
       "    <tr style=\"text-align: right;\">\n",
       "      <th></th>\n",
       "      <th>Age</th>\n",
       "      <th>Sex</th>\n",
       "      <th>ChestPainType</th>\n",
       "      <th>RestingBP</th>\n",
       "      <th>Cholesterol</th>\n",
       "      <th>FastingBS</th>\n",
       "      <th>RestingECG</th>\n",
       "      <th>MaxHR</th>\n",
       "      <th>ExerciseAngina</th>\n",
       "      <th>Oldpeak</th>\n",
       "      <th>ST_Slope</th>\n",
       "      <th>HeartDisease</th>\n",
       "    </tr>\n",
       "  </thead>\n",
       "  <tbody>\n",
       "    <tr>\n",
       "      <th>0</th>\n",
       "      <td>40</td>\n",
       "      <td>0</td>\n",
       "      <td>1</td>\n",
       "      <td>140</td>\n",
       "      <td>289.0</td>\n",
       "      <td>0</td>\n",
       "      <td>0</td>\n",
       "      <td>172</td>\n",
       "      <td>0</td>\n",
       "      <td>0.0</td>\n",
       "      <td>0</td>\n",
       "      <td>0</td>\n",
       "    </tr>\n",
       "    <tr>\n",
       "      <th>1</th>\n",
       "      <td>49</td>\n",
       "      <td>1</td>\n",
       "      <td>2</td>\n",
       "      <td>160</td>\n",
       "      <td>180.0</td>\n",
       "      <td>0</td>\n",
       "      <td>0</td>\n",
       "      <td>156</td>\n",
       "      <td>0</td>\n",
       "      <td>1.0</td>\n",
       "      <td>1</td>\n",
       "      <td>1</td>\n",
       "    </tr>\n",
       "    <tr>\n",
       "      <th>2</th>\n",
       "      <td>37</td>\n",
       "      <td>0</td>\n",
       "      <td>1</td>\n",
       "      <td>130</td>\n",
       "      <td>283.0</td>\n",
       "      <td>0</td>\n",
       "      <td>1</td>\n",
       "      <td>98</td>\n",
       "      <td>0</td>\n",
       "      <td>0.0</td>\n",
       "      <td>0</td>\n",
       "      <td>0</td>\n",
       "    </tr>\n",
       "    <tr>\n",
       "      <th>3</th>\n",
       "      <td>48</td>\n",
       "      <td>1</td>\n",
       "      <td>3</td>\n",
       "      <td>138</td>\n",
       "      <td>214.0</td>\n",
       "      <td>0</td>\n",
       "      <td>0</td>\n",
       "      <td>108</td>\n",
       "      <td>1</td>\n",
       "      <td>1.5</td>\n",
       "      <td>1</td>\n",
       "      <td>1</td>\n",
       "    </tr>\n",
       "    <tr>\n",
       "      <th>4</th>\n",
       "      <td>54</td>\n",
       "      <td>0</td>\n",
       "      <td>2</td>\n",
       "      <td>150</td>\n",
       "      <td>195.0</td>\n",
       "      <td>0</td>\n",
       "      <td>0</td>\n",
       "      <td>122</td>\n",
       "      <td>0</td>\n",
       "      <td>0.0</td>\n",
       "      <td>0</td>\n",
       "      <td>0</td>\n",
       "    </tr>\n",
       "  </tbody>\n",
       "</table>\n",
       "</div>"
      ],
      "text/plain": [
       "   Age  Sex  ChestPainType  RestingBP  Cholesterol  FastingBS  RestingECG  \\\n",
       "0   40    0              1        140        289.0          0           0   \n",
       "1   49    1              2        160        180.0          0           0   \n",
       "2   37    0              1        130        283.0          0           1   \n",
       "3   48    1              3        138        214.0          0           0   \n",
       "4   54    0              2        150        195.0          0           0   \n",
       "\n",
       "   MaxHR  ExerciseAngina  Oldpeak  ST_Slope  HeartDisease  \n",
       "0    172               0      0.0         0             0  \n",
       "1    156               0      1.0         1             1  \n",
       "2     98               0      0.0         0             0  \n",
       "3    108               1      1.5         1             1  \n",
       "4    122               0      0.0         0             0  "
      ]
     },
     "execution_count": 7,
     "metadata": {},
     "output_type": "execute_result"
    }
   ],
   "source": [
    "df2.head()"
   ]
  },
  {
   "cell_type": "code",
   "execution_count": 8,
   "metadata": {
    "colab": {
     "base_uri": "https://localhost:8080/"
    },
    "id": "6kC-deH0giws",
    "outputId": "bcb6684f-2ef3-4eac-a454-cf2ea2ba21cd"
   },
   "outputs": [
    {
     "data": {
      "text/plain": [
       "Age                 int64\n",
       "Sex                 int64\n",
       "ChestPainType       int64\n",
       "RestingBP           int64\n",
       "Cholesterol       float64\n",
       "FastingBS           int64\n",
       "RestingECG          int64\n",
       "MaxHR               int64\n",
       "ExerciseAngina      int64\n",
       "Oldpeak           float64\n",
       "ST_Slope            int64\n",
       "HeartDisease        int64\n",
       "dtype: object"
      ]
     },
     "execution_count": 8,
     "metadata": {},
     "output_type": "execute_result"
    }
   ],
   "source": [
    "df2.dtypes"
   ]
  },
  {
   "cell_type": "code",
   "execution_count": 9,
   "metadata": {
    "colab": {
     "base_uri": "https://localhost:8080/"
    },
    "id": "e3oELnDctqsq",
    "outputId": "b4d3d3f0-925e-4476-854b-030bbffa5259"
   },
   "outputs": [
    {
     "data": {
      "text/plain": [
       "(917, 12)"
      ]
     },
     "execution_count": 9,
     "metadata": {},
     "output_type": "execute_result"
    }
   ],
   "source": [
    "df2.shape"
   ]
  },
  {
   "cell_type": "markdown",
   "metadata": {
    "id": "khuvnjo8ta5k"
   },
   "source": [
    "##  <font color='purple'>**LEGENDA**"
   ]
  },
  {
   "cell_type": "markdown",
   "metadata": {
    "id": "9Kz8O68wpsY3"
   },
   "source": [
    "Age = idade (anos)\n",
    "\n",
    "Sex = sexo (0=M; 1=F)\n",
    "\n",
    "Chest Pain Type = tipo de dor no peito (0=TA:angina típica; 1=ATA:angina atípica; 2=NAP:dor não anginosa; 3=ASY:assintomático)\n",
    "\n",
    "Resting BP = pressão sanguínea em repouso (mmHg)\n",
    "\n",
    "Cholesterol = colesterol sérico (mg/dl)\n",
    "\n",
    "Fasting BS = açúcar no sangue em jejum (mg/dl)\n",
    "          0: Fasting BS < 120 mg/dl (não diabético)\n",
    "          1: Fasting BS >= 120 mg/dl, (diabético)\n",
    "\n",
    "Resting ECG = eletrocardiograma em repouso (0=Normal; 1=ST:Anormalidade da onda ST-T; 2=LVH: Hipertrofia ventricular esquerda)\n",
    "\n",
    "Max HR = frequência cardíaca máxima\n",
    "\n",
    "Exercise Angina = Angina induzida por exercício (0=Não; 1=Sim)\n",
    "\n",
    "Old Peak = Depressão de ST induzida por exercício em relação ao repouso\n",
    "\n",
    "ST_Slope = Inclinação do segmento ST (0=UP; 1=Flat; 2=Down)\n",
    "\n",
    "Heart Disease = Doença cardíaca (0=Não possui doença cardíaca; 1=Possui doença cardíaca)\n",
    "\n"
   ]
  },
  {
   "cell_type": "markdown",
   "metadata": {
    "id": "_NBxZCLzC8Bl"
   },
   "source": [
    "##  <font color='purple'>**ATRIBUTOS PREVISORES E ALVO**"
   ]
  },
  {
   "cell_type": "code",
   "execution_count": 10,
   "metadata": {
    "colab": {
     "base_uri": "https://localhost:8080/"
    },
    "id": "eLzWunR78ozP",
    "outputId": "fd54a656-20a2-473e-9ff2-2d1407da9c61"
   },
   "outputs": [
    {
     "data": {
      "text/html": [
       "<div>\n",
       "<style scoped>\n",
       "    .dataframe tbody tr th:only-of-type {\n",
       "        vertical-align: middle;\n",
       "    }\n",
       "\n",
       "    .dataframe tbody tr th {\n",
       "        vertical-align: top;\n",
       "    }\n",
       "\n",
       "    .dataframe thead th {\n",
       "        text-align: right;\n",
       "    }\n",
       "</style>\n",
       "<table border=\"1\" class=\"dataframe\">\n",
       "  <thead>\n",
       "    <tr style=\"text-align: right;\">\n",
       "      <th></th>\n",
       "      <th>Age</th>\n",
       "      <th>Sex</th>\n",
       "      <th>ChestPainType</th>\n",
       "      <th>RestingBP</th>\n",
       "      <th>Cholesterol</th>\n",
       "      <th>FastingBS</th>\n",
       "      <th>RestingECG</th>\n",
       "      <th>MaxHR</th>\n",
       "      <th>ExerciseAngina</th>\n",
       "      <th>Oldpeak</th>\n",
       "      <th>ST_Slope</th>\n",
       "      <th>HeartDisease</th>\n",
       "    </tr>\n",
       "  </thead>\n",
       "  <tbody>\n",
       "    <tr>\n",
       "      <th>0</th>\n",
       "      <td>40</td>\n",
       "      <td>0</td>\n",
       "      <td>1</td>\n",
       "      <td>140</td>\n",
       "      <td>289.0</td>\n",
       "      <td>0</td>\n",
       "      <td>0</td>\n",
       "      <td>172</td>\n",
       "      <td>0</td>\n",
       "      <td>0.0</td>\n",
       "      <td>0</td>\n",
       "      <td>0</td>\n",
       "    </tr>\n",
       "    <tr>\n",
       "      <th>1</th>\n",
       "      <td>49</td>\n",
       "      <td>1</td>\n",
       "      <td>2</td>\n",
       "      <td>160</td>\n",
       "      <td>180.0</td>\n",
       "      <td>0</td>\n",
       "      <td>0</td>\n",
       "      <td>156</td>\n",
       "      <td>0</td>\n",
       "      <td>1.0</td>\n",
       "      <td>1</td>\n",
       "      <td>1</td>\n",
       "    </tr>\n",
       "    <tr>\n",
       "      <th>2</th>\n",
       "      <td>37</td>\n",
       "      <td>0</td>\n",
       "      <td>1</td>\n",
       "      <td>130</td>\n",
       "      <td>283.0</td>\n",
       "      <td>0</td>\n",
       "      <td>1</td>\n",
       "      <td>98</td>\n",
       "      <td>0</td>\n",
       "      <td>0.0</td>\n",
       "      <td>0</td>\n",
       "      <td>0</td>\n",
       "    </tr>\n",
       "    <tr>\n",
       "      <th>3</th>\n",
       "      <td>48</td>\n",
       "      <td>1</td>\n",
       "      <td>3</td>\n",
       "      <td>138</td>\n",
       "      <td>214.0</td>\n",
       "      <td>0</td>\n",
       "      <td>0</td>\n",
       "      <td>108</td>\n",
       "      <td>1</td>\n",
       "      <td>1.5</td>\n",
       "      <td>1</td>\n",
       "      <td>1</td>\n",
       "    </tr>\n",
       "    <tr>\n",
       "      <th>4</th>\n",
       "      <td>54</td>\n",
       "      <td>0</td>\n",
       "      <td>2</td>\n",
       "      <td>150</td>\n",
       "      <td>195.0</td>\n",
       "      <td>0</td>\n",
       "      <td>0</td>\n",
       "      <td>122</td>\n",
       "      <td>0</td>\n",
       "      <td>0.0</td>\n",
       "      <td>0</td>\n",
       "      <td>0</td>\n",
       "    </tr>\n",
       "  </tbody>\n",
       "</table>\n",
       "</div>"
      ],
      "text/plain": [
       "   Age  Sex  ChestPainType  RestingBP  Cholesterol  FastingBS  RestingECG  \\\n",
       "0   40    0              1        140        289.0          0           0   \n",
       "1   49    1              2        160        180.0          0           0   \n",
       "2   37    0              1        130        283.0          0           1   \n",
       "3   48    1              3        138        214.0          0           0   \n",
       "4   54    0              2        150        195.0          0           0   \n",
       "\n",
       "   MaxHR  ExerciseAngina  Oldpeak  ST_Slope  HeartDisease  \n",
       "0    172               0      0.0         0             0  \n",
       "1    156               0      1.0         1             1  \n",
       "2     98               0      0.0         0             0  \n",
       "3    108               1      1.5         1             1  \n",
       "4    122               0      0.0         0             0  "
      ]
     },
     "execution_count": 10,
     "metadata": {},
     "output_type": "execute_result"
    }
   ],
   "source": [
    "df2.head()"
   ]
  },
  {
   "cell_type": "code",
   "execution_count": 11,
   "metadata": {
    "id": "alp9Gsx8z6f3"
   },
   "outputs": [],
   "source": [
    "# identificamos os atributos previsores\n",
    "previsores = df2.iloc[:, 0:11].values"
   ]
  },
  {
   "cell_type": "code",
   "execution_count": 12,
   "metadata": {
    "colab": {
     "base_uri": "https://localhost:8080/"
    },
    "id": "ZJjs6cWq-9Bn",
    "outputId": "97429b1f-1505-4ddd-f89a-c14ccc8bc280"
   },
   "outputs": [
    {
     "data": {
      "text/plain": [
       "array([[40. ,  0. ,  1. , ...,  0. ,  0. ,  0. ],\n",
       "       [49. ,  1. ,  2. , ...,  0. ,  1. ,  1. ],\n",
       "       [37. ,  0. ,  1. , ...,  0. ,  0. ,  0. ],\n",
       "       ...,\n",
       "       [57. ,  0. ,  3. , ...,  1. ,  1.2,  1. ],\n",
       "       [57. ,  1. ,  1. , ...,  0. ,  0. ,  1. ],\n",
       "       [38. ,  0. ,  2. , ...,  0. ,  0. ,  0. ]])"
      ]
     },
     "execution_count": 12,
     "metadata": {},
     "output_type": "execute_result"
    }
   ],
   "source": [
    "previsores"
   ]
  },
  {
   "cell_type": "code",
   "execution_count": 13,
   "metadata": {
    "colab": {
     "base_uri": "https://localhost:8080/"
    },
    "id": "KrtsyKXXAxTL",
    "outputId": "ccef3d56-c8e2-4c54-e66d-1e5858195cf1"
   },
   "outputs": [
    {
     "data": {
      "text/plain": [
       "(917, 11)"
      ]
     },
     "execution_count": 13,
     "metadata": {},
     "output_type": "execute_result"
    }
   ],
   "source": [
    "previsores.shape"
   ]
  },
  {
   "cell_type": "code",
   "execution_count": 14,
   "metadata": {
    "id": "wdXWRjHMBAFo"
   },
   "outputs": [],
   "source": [
    "# a variavel alvo é chamada tambem variavel target ou 'HeartDisease' neste caso\n",
    "alvo = df2.iloc[:, 11].values"
   ]
  },
  {
   "cell_type": "code",
   "execution_count": 15,
   "metadata": {
    "colab": {
     "base_uri": "https://localhost:8080/"
    },
    "id": "wK163BWgBJg2",
    "outputId": "38a9743e-d497-4917-e9ce-cba769723884"
   },
   "outputs": [
    {
     "data": {
      "text/plain": [
       "array([0, 1, 0, 1, 0, 0, 0, 0, 1, 0, 0, 1, 0, 1, 0, 0, 1, 0, 1, 1, 0, 0,\n",
       "       0, 1, 0, 0, 0, 0, 0, 0, 1, 0, 1, 1, 0, 0, 1, 0, 0, 0, 0, 1, 0, 0,\n",
       "       1, 0, 0, 0, 0, 1, 1, 1, 0, 0, 0, 0, 1, 1, 0, 1, 0, 0, 0, 1, 0, 0,\n",
       "       0, 0, 1, 0, 1, 0, 1, 0, 1, 0, 1, 0, 0, 1, 0, 0, 1, 0, 1, 1, 1, 0,\n",
       "       1, 0, 0, 0, 0, 1, 0, 1, 0, 0, 0, 0, 1, 0, 1, 1, 1, 0, 0, 0, 0, 0,\n",
       "       0, 1, 0, 0, 0, 1, 1, 1, 0, 1, 1, 0, 0, 1, 0, 0, 0, 0, 0, 0, 0, 1,\n",
       "       1, 1, 0, 1, 0, 0, 1, 1, 1, 1, 1, 0, 1, 0, 0, 0, 0, 1, 0, 0, 0, 0,\n",
       "       0, 1, 1, 0, 1, 0, 1, 1, 0, 0, 0, 1, 1, 0, 0, 0, 0, 0, 0, 0, 1, 1,\n",
       "       1, 0, 0, 0, 1, 0, 1, 0, 0, 1, 0, 1, 0, 1, 0, 0, 0, 0, 0, 0, 0, 0,\n",
       "       1, 0, 0, 0, 0, 0, 0, 0, 0, 1, 0, 1, 1, 1, 0, 0, 1, 0, 1, 0, 0, 0,\n",
       "       1, 1, 0, 0, 0, 1, 0, 1, 0, 0, 0, 0, 0, 0, 0, 0, 1, 1, 1, 1, 0, 1,\n",
       "       1, 0, 1, 0, 1, 1, 1, 1, 1, 1, 0, 0, 1, 0, 0, 0, 0, 0, 0, 0, 1, 1,\n",
       "       1, 0, 1, 0, 1, 0, 0, 0, 1, 0, 0, 0, 1, 1, 0, 0, 0, 1, 0, 0, 0, 0,\n",
       "       0, 0, 0, 0, 0, 0, 0, 1, 1, 1, 1, 1, 1, 1, 1, 0, 1, 1, 1, 1, 1, 0,\n",
       "       1, 1, 0, 1, 1, 1, 0, 1, 1, 1, 1, 1, 1, 1, 1, 1, 1, 1, 0, 1, 1, 1,\n",
       "       1, 1, 0, 1, 1, 1, 0, 1, 1, 1, 1, 1, 1, 1, 1, 1, 1, 1, 1, 1, 1, 1,\n",
       "       1, 1, 1, 1, 1, 1, 1, 1, 1, 1, 1, 1, 0, 1, 1, 1, 1, 1, 1, 1, 1, 1,\n",
       "       1, 1, 1, 1, 1, 1, 1, 1, 1, 1, 1, 1, 1, 1, 1, 1, 1, 1, 1, 1, 1, 1,\n",
       "       1, 1, 1, 1, 1, 1, 1, 1, 1, 1, 1, 1, 1, 1, 1, 1, 1, 1, 1, 1, 1, 0,\n",
       "       1, 1, 0, 0, 1, 0, 1, 1, 0, 1, 1, 1, 1, 0, 1, 1, 0, 0, 1, 1, 1, 0,\n",
       "       1, 1, 1, 1, 1, 1, 1, 1, 1, 1, 1, 1, 0, 1, 0, 1, 1, 1, 0, 1, 1, 1,\n",
       "       0, 1, 0, 1, 0, 1, 0, 1, 1, 1, 1, 0, 1, 0, 1, 1, 1, 1, 1, 1, 1, 1,\n",
       "       1, 0, 1, 0, 1, 1, 1, 1, 1, 1, 1, 0, 1, 1, 1, 1, 1, 1, 0, 1, 1, 1,\n",
       "       0, 1, 1, 0, 1, 0, 1, 1, 0, 1, 1, 1, 1, 0, 1, 1, 1, 0, 0, 1, 0, 1,\n",
       "       1, 1, 1, 1, 1, 1, 1, 1, 1, 1, 0, 1, 1, 1, 1, 0, 0, 1, 1, 1, 0, 1,\n",
       "       0, 1, 1, 0, 1, 0, 1, 1, 1, 0, 0, 0, 1, 1, 1, 0, 1, 1, 1, 1, 1, 1,\n",
       "       1, 1, 1, 1, 1, 1, 1, 1, 1, 1, 0, 1, 1, 1, 0, 1, 1, 0, 0, 1, 1, 1,\n",
       "       1, 1, 0, 1, 1, 0, 1, 1, 1, 0, 0, 1, 1, 1, 1, 1, 0, 1, 0, 1, 1, 0,\n",
       "       1, 0, 0, 0, 1, 1, 1, 1, 0, 0, 0, 1, 0, 0, 1, 1, 0, 0, 1, 0, 0, 0,\n",
       "       0, 0, 0, 0, 1, 0, 1, 0, 0, 1, 1, 1, 1, 1, 0, 0, 1, 0, 0, 0, 1, 0,\n",
       "       1, 1, 1, 1, 1, 0, 0, 0, 0, 0, 1, 0, 1, 1, 0, 1, 0, 0, 0, 1, 0, 1,\n",
       "       0, 1, 1, 0, 0, 0, 0, 1, 0, 0, 0, 0, 1, 1, 1, 0, 0, 0, 0, 0, 0, 1,\n",
       "       0, 1, 1, 1, 1, 1, 0, 1, 0, 0, 0, 1, 0, 1, 1, 1, 0, 1, 1, 0, 1, 0,\n",
       "       1, 0, 0, 0, 1, 1, 0, 1, 1, 1, 1, 0, 0, 0, 1, 0, 0, 1, 1, 1, 0, 1,\n",
       "       0, 0, 0, 1, 0, 0, 1, 0, 1, 0, 1, 1, 1, 1, 1, 0, 0, 0, 0, 0, 0, 0,\n",
       "       1, 0, 0, 1, 1, 1, 0, 1, 0, 0, 0, 0, 0, 1, 0, 1, 1, 0, 0, 1, 1, 1,\n",
       "       1, 0, 0, 1, 1, 0, 0, 0, 1, 0, 0, 1, 0, 1, 0, 1, 0, 0, 0, 0, 0, 1,\n",
       "       0, 1, 1, 1, 1, 0, 0, 0, 1, 0, 1, 0, 0, 1, 0, 0, 0, 0, 0, 0, 1, 1,\n",
       "       0, 1, 0, 0, 1, 1, 0, 0, 1, 1, 0, 1, 0, 1, 0, 1, 0, 0, 1, 0, 0, 1,\n",
       "       0, 1, 1, 0, 1, 1, 1, 0, 1, 0, 0, 0, 0, 1, 1, 0, 0, 1, 1, 0, 1, 0,\n",
       "       0, 0, 0, 1, 0, 0, 1, 1, 1, 0, 0, 0, 1, 0, 1, 0, 1, 0, 1, 1, 1, 0,\n",
       "       0, 0, 1, 0, 1, 1, 1, 0, 1, 1, 1, 1, 1, 1, 0])"
      ]
     },
     "execution_count": 15,
     "metadata": {},
     "output_type": "execute_result"
    }
   ],
   "source": [
    "alvo"
   ]
  },
  {
   "cell_type": "code",
   "execution_count": 16,
   "metadata": {
    "colab": {
     "base_uri": "https://localhost:8080/"
    },
    "id": "RoSOdYF3BaOf",
    "outputId": "9873efb2-14d1-4729-c204-19c96c3d5064"
   },
   "outputs": [
    {
     "data": {
      "text/plain": [
       "(917,)"
      ]
     },
     "execution_count": 16,
     "metadata": {},
     "output_type": "execute_result"
    }
   ],
   "source": [
    "alvo.shape"
   ]
  },
  {
   "cell_type": "markdown",
   "metadata": {
    "id": "Xw6d4rM0C9ZD"
   },
   "source": [
    "## **Análise das escalas dos atributos (Escalonamento)**"
   ]
  },
  {
   "cell_type": "code",
   "execution_count": 17,
   "metadata": {
    "id": "JzYfrEIxDHIL"
   },
   "outputs": [
    {
     "data": {
      "text/html": [
       "<div>\n",
       "<style scoped>\n",
       "    .dataframe tbody tr th:only-of-type {\n",
       "        vertical-align: middle;\n",
       "    }\n",
       "\n",
       "    .dataframe tbody tr th {\n",
       "        vertical-align: top;\n",
       "    }\n",
       "\n",
       "    .dataframe thead th {\n",
       "        text-align: right;\n",
       "    }\n",
       "</style>\n",
       "<table border=\"1\" class=\"dataframe\">\n",
       "  <thead>\n",
       "    <tr style=\"text-align: right;\">\n",
       "      <th></th>\n",
       "      <th>Age</th>\n",
       "      <th>Sex</th>\n",
       "      <th>ChestPainType</th>\n",
       "      <th>RestingBP</th>\n",
       "      <th>Cholesterol</th>\n",
       "      <th>FastingBS</th>\n",
       "      <th>RestingECG</th>\n",
       "      <th>MaxHR</th>\n",
       "      <th>ExerciseAngina</th>\n",
       "      <th>Oldpeak</th>\n",
       "      <th>ST_Slope</th>\n",
       "      <th>HeartDisease</th>\n",
       "    </tr>\n",
       "  </thead>\n",
       "  <tbody>\n",
       "    <tr>\n",
       "      <th>count</th>\n",
       "      <td>917.000000</td>\n",
       "      <td>917.000000</td>\n",
       "      <td>917.000000</td>\n",
       "      <td>917.000000</td>\n",
       "      <td>917.000000</td>\n",
       "      <td>917.000000</td>\n",
       "      <td>917.000000</td>\n",
       "      <td>917.000000</td>\n",
       "      <td>917.000000</td>\n",
       "      <td>917.000000</td>\n",
       "      <td>917.00000</td>\n",
       "      <td>917.000000</td>\n",
       "    </tr>\n",
       "    <tr>\n",
       "      <th>mean</th>\n",
       "      <td>53.509269</td>\n",
       "      <td>0.210469</td>\n",
       "      <td>2.251908</td>\n",
       "      <td>132.540894</td>\n",
       "      <td>244.635389</td>\n",
       "      <td>0.233370</td>\n",
       "      <td>0.604144</td>\n",
       "      <td>136.789531</td>\n",
       "      <td>0.404580</td>\n",
       "      <td>0.886696</td>\n",
       "      <td>0.63795</td>\n",
       "      <td>0.552890</td>\n",
       "    </tr>\n",
       "    <tr>\n",
       "      <th>std</th>\n",
       "      <td>9.437636</td>\n",
       "      <td>0.407864</td>\n",
       "      <td>0.931502</td>\n",
       "      <td>17.999749</td>\n",
       "      <td>53.347125</td>\n",
       "      <td>0.423206</td>\n",
       "      <td>0.806161</td>\n",
       "      <td>25.467129</td>\n",
       "      <td>0.491078</td>\n",
       "      <td>1.066960</td>\n",
       "      <td>0.60727</td>\n",
       "      <td>0.497466</td>\n",
       "    </tr>\n",
       "    <tr>\n",
       "      <th>min</th>\n",
       "      <td>28.000000</td>\n",
       "      <td>0.000000</td>\n",
       "      <td>0.000000</td>\n",
       "      <td>80.000000</td>\n",
       "      <td>85.000000</td>\n",
       "      <td>0.000000</td>\n",
       "      <td>0.000000</td>\n",
       "      <td>60.000000</td>\n",
       "      <td>0.000000</td>\n",
       "      <td>-2.600000</td>\n",
       "      <td>0.00000</td>\n",
       "      <td>0.000000</td>\n",
       "    </tr>\n",
       "    <tr>\n",
       "      <th>25%</th>\n",
       "      <td>47.000000</td>\n",
       "      <td>0.000000</td>\n",
       "      <td>2.000000</td>\n",
       "      <td>120.000000</td>\n",
       "      <td>214.000000</td>\n",
       "      <td>0.000000</td>\n",
       "      <td>0.000000</td>\n",
       "      <td>120.000000</td>\n",
       "      <td>0.000000</td>\n",
       "      <td>0.000000</td>\n",
       "      <td>0.00000</td>\n",
       "      <td>0.000000</td>\n",
       "    </tr>\n",
       "    <tr>\n",
       "      <th>50%</th>\n",
       "      <td>54.000000</td>\n",
       "      <td>0.000000</td>\n",
       "      <td>3.000000</td>\n",
       "      <td>130.000000</td>\n",
       "      <td>244.635389</td>\n",
       "      <td>0.000000</td>\n",
       "      <td>0.000000</td>\n",
       "      <td>138.000000</td>\n",
       "      <td>0.000000</td>\n",
       "      <td>0.600000</td>\n",
       "      <td>1.00000</td>\n",
       "      <td>1.000000</td>\n",
       "    </tr>\n",
       "    <tr>\n",
       "      <th>75%</th>\n",
       "      <td>60.000000</td>\n",
       "      <td>0.000000</td>\n",
       "      <td>3.000000</td>\n",
       "      <td>140.000000</td>\n",
       "      <td>267.000000</td>\n",
       "      <td>0.000000</td>\n",
       "      <td>1.000000</td>\n",
       "      <td>156.000000</td>\n",
       "      <td>1.000000</td>\n",
       "      <td>1.500000</td>\n",
       "      <td>1.00000</td>\n",
       "      <td>1.000000</td>\n",
       "    </tr>\n",
       "    <tr>\n",
       "      <th>max</th>\n",
       "      <td>77.000000</td>\n",
       "      <td>1.000000</td>\n",
       "      <td>3.000000</td>\n",
       "      <td>200.000000</td>\n",
       "      <td>603.000000</td>\n",
       "      <td>1.000000</td>\n",
       "      <td>2.000000</td>\n",
       "      <td>202.000000</td>\n",
       "      <td>1.000000</td>\n",
       "      <td>6.200000</td>\n",
       "      <td>2.00000</td>\n",
       "      <td>1.000000</td>\n",
       "    </tr>\n",
       "  </tbody>\n",
       "</table>\n",
       "</div>"
      ],
      "text/plain": [
       "              Age         Sex  ChestPainType   RestingBP  Cholesterol  \\\n",
       "count  917.000000  917.000000     917.000000  917.000000   917.000000   \n",
       "mean    53.509269    0.210469       2.251908  132.540894   244.635389   \n",
       "std      9.437636    0.407864       0.931502   17.999749    53.347125   \n",
       "min     28.000000    0.000000       0.000000   80.000000    85.000000   \n",
       "25%     47.000000    0.000000       2.000000  120.000000   214.000000   \n",
       "50%     54.000000    0.000000       3.000000  130.000000   244.635389   \n",
       "75%     60.000000    0.000000       3.000000  140.000000   267.000000   \n",
       "max     77.000000    1.000000       3.000000  200.000000   603.000000   \n",
       "\n",
       "        FastingBS  RestingECG       MaxHR  ExerciseAngina     Oldpeak  \\\n",
       "count  917.000000  917.000000  917.000000      917.000000  917.000000   \n",
       "mean     0.233370    0.604144  136.789531        0.404580    0.886696   \n",
       "std      0.423206    0.806161   25.467129        0.491078    1.066960   \n",
       "min      0.000000    0.000000   60.000000        0.000000   -2.600000   \n",
       "25%      0.000000    0.000000  120.000000        0.000000    0.000000   \n",
       "50%      0.000000    0.000000  138.000000        0.000000    0.600000   \n",
       "75%      0.000000    1.000000  156.000000        1.000000    1.500000   \n",
       "max      1.000000    2.000000  202.000000        1.000000    6.200000   \n",
       "\n",
       "        ST_Slope  HeartDisease  \n",
       "count  917.00000    917.000000  \n",
       "mean     0.63795      0.552890  \n",
       "std      0.60727      0.497466  \n",
       "min      0.00000      0.000000  \n",
       "25%      0.00000      0.000000  \n",
       "50%      1.00000      1.000000  \n",
       "75%      1.00000      1.000000  \n",
       "max      2.00000      1.000000  "
      ]
     },
     "execution_count": 17,
     "metadata": {},
     "output_type": "execute_result"
    }
   ],
   "source": [
    "df2.describe()"
   ]
  },
  {
   "cell_type": "markdown",
   "metadata": {
    "id": "XcSAxyqTD4dw"
   },
   "source": [
    "### **podemos utilizar dois métodos ou técnicas**\n",
    "\n",
    "Padronização (utiliza a média e o desvio padrão como referência).\n",
    "\n",
    "Normalização (utiliza os valores máximo e mínimo como referência)."
   ]
  },
  {
   "cell_type": "code",
   "execution_count": 18,
   "metadata": {
    "id": "eMoVJG5kEJSG"
   },
   "outputs": [],
   "source": [
    "#neste caso vamos a usar a Padronização \n",
    "from sklearn.preprocessing import StandardScaler"
   ]
  },
  {
   "cell_type": "code",
   "execution_count": 19,
   "metadata": {
    "id": "0DpkgD9REQ7m"
   },
   "outputs": [],
   "source": [
    "previsores_esc = StandardScaler().fit_transform(previsores)"
   ]
  },
  {
   "cell_type": "code",
   "execution_count": 20,
   "metadata": {
    "id": "qmoQSiWMEr0k"
   },
   "outputs": [
    {
     "data": {
      "text/plain": [
       "array([[-1.43220634, -0.51630861, -1.34470119, ..., -0.82431012,\n",
       "        -0.83150225, -1.05109458],\n",
       "       [-0.47805725,  1.9368261 , -0.27058012, ..., -0.82431012,\n",
       "         0.10625149,  0.59651863],\n",
       "       [-1.75025603, -0.51630861, -1.34470119, ..., -0.82431012,\n",
       "        -0.83150225, -1.05109458],\n",
       "       ...,\n",
       "       [ 0.37007527, -0.51630861,  0.80354095, ...,  1.21313565,\n",
       "         0.29380223,  0.59651863],\n",
       "       [ 0.37007527,  1.9368261 , -1.34470119, ..., -0.82431012,\n",
       "        -0.83150225,  0.59651863],\n",
       "       [-1.64423947, -0.51630861, -0.27058012, ..., -0.82431012,\n",
       "        -0.83150225, -1.05109458]])"
      ]
     },
     "execution_count": 20,
     "metadata": {},
     "output_type": "execute_result"
    }
   ],
   "source": [
    "previsores_esc"
   ]
  },
  {
   "cell_type": "code",
   "execution_count": 21,
   "metadata": {
    "id": "aFabOc6kFLMu"
   },
   "outputs": [
    {
     "data": {
      "text/html": [
       "<div>\n",
       "<style scoped>\n",
       "    .dataframe tbody tr th:only-of-type {\n",
       "        vertical-align: middle;\n",
       "    }\n",
       "\n",
       "    .dataframe tbody tr th {\n",
       "        vertical-align: top;\n",
       "    }\n",
       "\n",
       "    .dataframe thead th {\n",
       "        text-align: right;\n",
       "    }\n",
       "</style>\n",
       "<table border=\"1\" class=\"dataframe\">\n",
       "  <thead>\n",
       "    <tr style=\"text-align: right;\">\n",
       "      <th></th>\n",
       "      <th>0</th>\n",
       "      <th>1</th>\n",
       "      <th>2</th>\n",
       "      <th>3</th>\n",
       "      <th>4</th>\n",
       "      <th>5</th>\n",
       "      <th>6</th>\n",
       "      <th>7</th>\n",
       "      <th>8</th>\n",
       "      <th>9</th>\n",
       "      <th>10</th>\n",
       "    </tr>\n",
       "  </thead>\n",
       "  <tbody>\n",
       "    <tr>\n",
       "      <th>0</th>\n",
       "      <td>-1.432206</td>\n",
       "      <td>-0.516309</td>\n",
       "      <td>-1.344701</td>\n",
       "      <td>0.414627</td>\n",
       "      <td>0.832075</td>\n",
       "      <td>-0.551733</td>\n",
       "      <td>-0.749818</td>\n",
       "      <td>1.383339</td>\n",
       "      <td>-0.824310</td>\n",
       "      <td>-0.831502</td>\n",
       "      <td>-1.051095</td>\n",
       "    </tr>\n",
       "    <tr>\n",
       "      <th>1</th>\n",
       "      <td>-0.478057</td>\n",
       "      <td>1.936826</td>\n",
       "      <td>-0.270580</td>\n",
       "      <td>1.526360</td>\n",
       "      <td>-1.212261</td>\n",
       "      <td>-0.551733</td>\n",
       "      <td>-0.749818</td>\n",
       "      <td>0.754736</td>\n",
       "      <td>-0.824310</td>\n",
       "      <td>0.106251</td>\n",
       "      <td>0.596519</td>\n",
       "    </tr>\n",
       "    <tr>\n",
       "      <th>2</th>\n",
       "      <td>-1.750256</td>\n",
       "      <td>-0.516309</td>\n",
       "      <td>-1.344701</td>\n",
       "      <td>-0.141240</td>\n",
       "      <td>0.719543</td>\n",
       "      <td>-0.551733</td>\n",
       "      <td>0.491306</td>\n",
       "      <td>-1.523953</td>\n",
       "      <td>-0.824310</td>\n",
       "      <td>-0.831502</td>\n",
       "      <td>-1.051095</td>\n",
       "    </tr>\n",
       "    <tr>\n",
       "      <th>3</th>\n",
       "      <td>-0.584074</td>\n",
       "      <td>1.936826</td>\n",
       "      <td>0.803541</td>\n",
       "      <td>0.303453</td>\n",
       "      <td>-0.574578</td>\n",
       "      <td>-0.551733</td>\n",
       "      <td>-0.749818</td>\n",
       "      <td>-1.131075</td>\n",
       "      <td>1.213136</td>\n",
       "      <td>0.575128</td>\n",
       "      <td>0.596519</td>\n",
       "    </tr>\n",
       "    <tr>\n",
       "      <th>4</th>\n",
       "      <td>0.052026</td>\n",
       "      <td>-0.516309</td>\n",
       "      <td>-0.270580</td>\n",
       "      <td>0.970493</td>\n",
       "      <td>-0.930931</td>\n",
       "      <td>-0.551733</td>\n",
       "      <td>-0.749818</td>\n",
       "      <td>-0.581047</td>\n",
       "      <td>-0.824310</td>\n",
       "      <td>-0.831502</td>\n",
       "      <td>-1.051095</td>\n",
       "    </tr>\n",
       "    <tr>\n",
       "      <th>...</th>\n",
       "      <td>...</td>\n",
       "      <td>...</td>\n",
       "      <td>...</td>\n",
       "      <td>...</td>\n",
       "      <td>...</td>\n",
       "      <td>...</td>\n",
       "      <td>...</td>\n",
       "      <td>...</td>\n",
       "      <td>...</td>\n",
       "      <td>...</td>\n",
       "      <td>...</td>\n",
       "    </tr>\n",
       "    <tr>\n",
       "      <th>912</th>\n",
       "      <td>-0.902124</td>\n",
       "      <td>-0.516309</td>\n",
       "      <td>-2.418822</td>\n",
       "      <td>-1.252973</td>\n",
       "      <td>0.363191</td>\n",
       "      <td>-0.551733</td>\n",
       "      <td>-0.749818</td>\n",
       "      <td>-0.188170</td>\n",
       "      <td>-0.824310</td>\n",
       "      <td>0.293802</td>\n",
       "      <td>0.596519</td>\n",
       "    </tr>\n",
       "    <tr>\n",
       "      <th>913</th>\n",
       "      <td>1.536257</td>\n",
       "      <td>-0.516309</td>\n",
       "      <td>0.803541</td>\n",
       "      <td>0.636973</td>\n",
       "      <td>-0.968441</td>\n",
       "      <td>1.812470</td>\n",
       "      <td>-0.749818</td>\n",
       "      <td>0.165420</td>\n",
       "      <td>-0.824310</td>\n",
       "      <td>2.356860</td>\n",
       "      <td>0.596519</td>\n",
       "    </tr>\n",
       "    <tr>\n",
       "      <th>914</th>\n",
       "      <td>0.370075</td>\n",
       "      <td>-0.516309</td>\n",
       "      <td>0.803541</td>\n",
       "      <td>-0.141240</td>\n",
       "      <td>-2.131275</td>\n",
       "      <td>-0.551733</td>\n",
       "      <td>-0.749818</td>\n",
       "      <td>-0.856061</td>\n",
       "      <td>1.213136</td>\n",
       "      <td>0.293802</td>\n",
       "      <td>0.596519</td>\n",
       "    </tr>\n",
       "    <tr>\n",
       "      <th>915</th>\n",
       "      <td>0.370075</td>\n",
       "      <td>1.936826</td>\n",
       "      <td>-1.344701</td>\n",
       "      <td>-0.141240</td>\n",
       "      <td>-0.161960</td>\n",
       "      <td>-0.551733</td>\n",
       "      <td>1.732430</td>\n",
       "      <td>1.461915</td>\n",
       "      <td>-0.824310</td>\n",
       "      <td>-0.831502</td>\n",
       "      <td>0.596519</td>\n",
       "    </tr>\n",
       "    <tr>\n",
       "      <th>916</th>\n",
       "      <td>-1.644239</td>\n",
       "      <td>-0.516309</td>\n",
       "      <td>-0.270580</td>\n",
       "      <td>0.303453</td>\n",
       "      <td>-1.306038</td>\n",
       "      <td>-0.551733</td>\n",
       "      <td>-0.749818</td>\n",
       "      <td>1.422627</td>\n",
       "      <td>-0.824310</td>\n",
       "      <td>-0.831502</td>\n",
       "      <td>-1.051095</td>\n",
       "    </tr>\n",
       "  </tbody>\n",
       "</table>\n",
       "<p>917 rows × 11 columns</p>\n",
       "</div>"
      ],
      "text/plain": [
       "           0         1         2         3         4         5         6   \\\n",
       "0   -1.432206 -0.516309 -1.344701  0.414627  0.832075 -0.551733 -0.749818   \n",
       "1   -0.478057  1.936826 -0.270580  1.526360 -1.212261 -0.551733 -0.749818   \n",
       "2   -1.750256 -0.516309 -1.344701 -0.141240  0.719543 -0.551733  0.491306   \n",
       "3   -0.584074  1.936826  0.803541  0.303453 -0.574578 -0.551733 -0.749818   \n",
       "4    0.052026 -0.516309 -0.270580  0.970493 -0.930931 -0.551733 -0.749818   \n",
       "..        ...       ...       ...       ...       ...       ...       ...   \n",
       "912 -0.902124 -0.516309 -2.418822 -1.252973  0.363191 -0.551733 -0.749818   \n",
       "913  1.536257 -0.516309  0.803541  0.636973 -0.968441  1.812470 -0.749818   \n",
       "914  0.370075 -0.516309  0.803541 -0.141240 -2.131275 -0.551733 -0.749818   \n",
       "915  0.370075  1.936826 -1.344701 -0.141240 -0.161960 -0.551733  1.732430   \n",
       "916 -1.644239 -0.516309 -0.270580  0.303453 -1.306038 -0.551733 -0.749818   \n",
       "\n",
       "           7         8         9         10  \n",
       "0    1.383339 -0.824310 -0.831502 -1.051095  \n",
       "1    0.754736 -0.824310  0.106251  0.596519  \n",
       "2   -1.523953 -0.824310 -0.831502 -1.051095  \n",
       "3   -1.131075  1.213136  0.575128  0.596519  \n",
       "4   -0.581047 -0.824310 -0.831502 -1.051095  \n",
       "..        ...       ...       ...       ...  \n",
       "912 -0.188170 -0.824310  0.293802  0.596519  \n",
       "913  0.165420 -0.824310  2.356860  0.596519  \n",
       "914 -0.856061  1.213136  0.293802  0.596519  \n",
       "915  1.461915 -0.824310 -0.831502  0.596519  \n",
       "916  1.422627 -0.824310 -0.831502 -1.051095  \n",
       "\n",
       "[917 rows x 11 columns]"
      ]
     },
     "execution_count": 21,
     "metadata": {},
     "output_type": "execute_result"
    }
   ],
   "source": [
    "# Transformamos valores numéricos da variável previsores_esc em um dataframe\n",
    "previsoresdf = pd.DataFrame(previsores_esc)\n",
    "previsoresdf"
   ]
  },
  {
   "cell_type": "code",
   "execution_count": 22,
   "metadata": {
    "id": "cXVXsyAtFWSo"
   },
   "outputs": [
    {
     "data": {
      "text/html": [
       "<div>\n",
       "<style scoped>\n",
       "    .dataframe tbody tr th:only-of-type {\n",
       "        vertical-align: middle;\n",
       "    }\n",
       "\n",
       "    .dataframe tbody tr th {\n",
       "        vertical-align: top;\n",
       "    }\n",
       "\n",
       "    .dataframe thead th {\n",
       "        text-align: right;\n",
       "    }\n",
       "</style>\n",
       "<table border=\"1\" class=\"dataframe\">\n",
       "  <thead>\n",
       "    <tr style=\"text-align: right;\">\n",
       "      <th></th>\n",
       "      <th>0</th>\n",
       "      <th>1</th>\n",
       "      <th>2</th>\n",
       "      <th>3</th>\n",
       "      <th>4</th>\n",
       "      <th>5</th>\n",
       "      <th>6</th>\n",
       "      <th>7</th>\n",
       "      <th>8</th>\n",
       "      <th>9</th>\n",
       "      <th>10</th>\n",
       "    </tr>\n",
       "  </thead>\n",
       "  <tbody>\n",
       "    <tr>\n",
       "      <th>count</th>\n",
       "      <td>9.170000e+02</td>\n",
       "      <td>9.170000e+02</td>\n",
       "      <td>9.170000e+02</td>\n",
       "      <td>9.170000e+02</td>\n",
       "      <td>9.170000e+02</td>\n",
       "      <td>9.170000e+02</td>\n",
       "      <td>9.170000e+02</td>\n",
       "      <td>9.170000e+02</td>\n",
       "      <td>9.170000e+02</td>\n",
       "      <td>9.170000e+02</td>\n",
       "      <td>9.170000e+02</td>\n",
       "    </tr>\n",
       "    <tr>\n",
       "      <th>mean</th>\n",
       "      <td>1.025231e-15</td>\n",
       "      <td>3.099423e-17</td>\n",
       "      <td>6.552979e-16</td>\n",
       "      <td>7.554844e-16</td>\n",
       "      <td>-1.929875e-16</td>\n",
       "      <td>-2.808852e-17</td>\n",
       "      <td>1.954089e-16</td>\n",
       "      <td>-4.881591e-16</td>\n",
       "      <td>1.280933e-16</td>\n",
       "      <td>1.217976e-16</td>\n",
       "      <td>4.770206e-17</td>\n",
       "    </tr>\n",
       "    <tr>\n",
       "      <th>std</th>\n",
       "      <td>1.000546e+00</td>\n",
       "      <td>1.000546e+00</td>\n",
       "      <td>1.000546e+00</td>\n",
       "      <td>1.000546e+00</td>\n",
       "      <td>1.000546e+00</td>\n",
       "      <td>1.000546e+00</td>\n",
       "      <td>1.000546e+00</td>\n",
       "      <td>1.000546e+00</td>\n",
       "      <td>1.000546e+00</td>\n",
       "      <td>1.000546e+00</td>\n",
       "      <td>1.000546e+00</td>\n",
       "    </tr>\n",
       "    <tr>\n",
       "      <th>min</th>\n",
       "      <td>-2.704405e+00</td>\n",
       "      <td>-5.163086e-01</td>\n",
       "      <td>-2.418822e+00</td>\n",
       "      <td>-2.920572e+00</td>\n",
       "      <td>-2.994023e+00</td>\n",
       "      <td>-5.517333e-01</td>\n",
       "      <td>-7.498176e-01</td>\n",
       "      <td>-3.016886e+00</td>\n",
       "      <td>-8.243101e-01</td>\n",
       "      <td>-3.269662e+00</td>\n",
       "      <td>-1.051095e+00</td>\n",
       "    </tr>\n",
       "    <tr>\n",
       "      <th>25%</th>\n",
       "      <td>-6.900904e-01</td>\n",
       "      <td>-5.163086e-01</td>\n",
       "      <td>-2.705801e-01</td>\n",
       "      <td>-6.971063e-01</td>\n",
       "      <td>-5.745784e-01</td>\n",
       "      <td>-5.517333e-01</td>\n",
       "      <td>-7.498176e-01</td>\n",
       "      <td>-6.596226e-01</td>\n",
       "      <td>-8.243101e-01</td>\n",
       "      <td>-8.315022e-01</td>\n",
       "      <td>-1.051095e+00</td>\n",
       "    </tr>\n",
       "    <tr>\n",
       "      <th>50%</th>\n",
       "      <td>5.202558e-02</td>\n",
       "      <td>-5.163086e-01</td>\n",
       "      <td>8.035410e-01</td>\n",
       "      <td>-1.412398e-01</td>\n",
       "      <td>0.000000e+00</td>\n",
       "      <td>-5.517333e-01</td>\n",
       "      <td>-7.498176e-01</td>\n",
       "      <td>4.755658e-02</td>\n",
       "      <td>-8.243101e-01</td>\n",
       "      <td>-2.688500e-01</td>\n",
       "      <td>5.965186e-01</td>\n",
       "    </tr>\n",
       "    <tr>\n",
       "      <th>75%</th>\n",
       "      <td>6.881250e-01</td>\n",
       "      <td>-5.163086e-01</td>\n",
       "      <td>8.035410e-01</td>\n",
       "      <td>4.146267e-01</td>\n",
       "      <td>4.194568e-01</td>\n",
       "      <td>-5.517333e-01</td>\n",
       "      <td>4.913064e-01</td>\n",
       "      <td>7.547357e-01</td>\n",
       "      <td>1.213136e+00</td>\n",
       "      <td>5.751284e-01</td>\n",
       "      <td>5.965186e-01</td>\n",
       "    </tr>\n",
       "    <tr>\n",
       "      <th>max</th>\n",
       "      <td>2.490407e+00</td>\n",
       "      <td>1.936826e+00</td>\n",
       "      <td>8.035410e-01</td>\n",
       "      <td>3.749826e+00</td>\n",
       "      <td>6.721265e+00</td>\n",
       "      <td>1.812470e+00</td>\n",
       "      <td>1.732430e+00</td>\n",
       "      <td>2.561971e+00</td>\n",
       "      <td>1.213136e+00</td>\n",
       "      <td>4.982571e+00</td>\n",
       "      <td>2.244132e+00</td>\n",
       "    </tr>\n",
       "  </tbody>\n",
       "</table>\n",
       "</div>"
      ],
      "text/plain": [
       "                 0             1             2             3             4   \\\n",
       "count  9.170000e+02  9.170000e+02  9.170000e+02  9.170000e+02  9.170000e+02   \n",
       "mean   1.025231e-15  3.099423e-17  6.552979e-16  7.554844e-16 -1.929875e-16   \n",
       "std    1.000546e+00  1.000546e+00  1.000546e+00  1.000546e+00  1.000546e+00   \n",
       "min   -2.704405e+00 -5.163086e-01 -2.418822e+00 -2.920572e+00 -2.994023e+00   \n",
       "25%   -6.900904e-01 -5.163086e-01 -2.705801e-01 -6.971063e-01 -5.745784e-01   \n",
       "50%    5.202558e-02 -5.163086e-01  8.035410e-01 -1.412398e-01  0.000000e+00   \n",
       "75%    6.881250e-01 -5.163086e-01  8.035410e-01  4.146267e-01  4.194568e-01   \n",
       "max    2.490407e+00  1.936826e+00  8.035410e-01  3.749826e+00  6.721265e+00   \n",
       "\n",
       "                 5             6             7             8             9   \\\n",
       "count  9.170000e+02  9.170000e+02  9.170000e+02  9.170000e+02  9.170000e+02   \n",
       "mean  -2.808852e-17  1.954089e-16 -4.881591e-16  1.280933e-16  1.217976e-16   \n",
       "std    1.000546e+00  1.000546e+00  1.000546e+00  1.000546e+00  1.000546e+00   \n",
       "min   -5.517333e-01 -7.498176e-01 -3.016886e+00 -8.243101e-01 -3.269662e+00   \n",
       "25%   -5.517333e-01 -7.498176e-01 -6.596226e-01 -8.243101e-01 -8.315022e-01   \n",
       "50%   -5.517333e-01 -7.498176e-01  4.755658e-02 -8.243101e-01 -2.688500e-01   \n",
       "75%   -5.517333e-01  4.913064e-01  7.547357e-01  1.213136e+00  5.751284e-01   \n",
       "max    1.812470e+00  1.732430e+00  2.561971e+00  1.213136e+00  4.982571e+00   \n",
       "\n",
       "                 10  \n",
       "count  9.170000e+02  \n",
       "mean   4.770206e-17  \n",
       "std    1.000546e+00  \n",
       "min   -1.051095e+00  \n",
       "25%   -1.051095e+00  \n",
       "50%    5.965186e-01  \n",
       "75%    5.965186e-01  \n",
       "max    2.244132e+00  "
      ]
     },
     "execution_count": 22,
     "metadata": {},
     "output_type": "execute_result"
    }
   ],
   "source": [
    "previsoresdf.describe()"
   ]
  },
  {
   "cell_type": "markdown",
   "metadata": {
    "id": "HU3ZNfuI0BaL"
   },
   "source": [
    "## **Codificação de variáveis categóricas**"
   ]
  },
  {
   "cell_type": "markdown",
   "metadata": {
    "id": "lPObOxwx0Qy5"
   },
   "source": [
    "### **LabelEncoder: transformação de variáveis categóricas em numéricas automaticamante usando LabelEncoder**\n",
    "- Anteriormente foi manualmente"
   ]
  },
  {
   "cell_type": "code",
   "execution_count": 23,
   "metadata": {
    "id": "oLt4fZ620l-5"
   },
   "outputs": [],
   "source": [
    "from sklearn.preprocessing import LabelEncoder"
   ]
  },
  {
   "cell_type": "code",
   "execution_count": 24,
   "metadata": {
    "id": "oJc1Q36h1Ls_"
   },
   "outputs": [
    {
     "data": {
      "text/html": [
       "<div>\n",
       "<style scoped>\n",
       "    .dataframe tbody tr th:only-of-type {\n",
       "        vertical-align: middle;\n",
       "    }\n",
       "\n",
       "    .dataframe tbody tr th {\n",
       "        vertical-align: top;\n",
       "    }\n",
       "\n",
       "    .dataframe thead th {\n",
       "        text-align: right;\n",
       "    }\n",
       "</style>\n",
       "<table border=\"1\" class=\"dataframe\">\n",
       "  <thead>\n",
       "    <tr style=\"text-align: right;\">\n",
       "      <th></th>\n",
       "      <th>Age</th>\n",
       "      <th>Sex</th>\n",
       "      <th>ChestPainType</th>\n",
       "      <th>RestingBP</th>\n",
       "      <th>Cholesterol</th>\n",
       "      <th>FastingBS</th>\n",
       "      <th>RestingECG</th>\n",
       "      <th>MaxHR</th>\n",
       "      <th>ExerciseAngina</th>\n",
       "      <th>Oldpeak</th>\n",
       "      <th>ST_Slope</th>\n",
       "      <th>HeartDisease</th>\n",
       "    </tr>\n",
       "  </thead>\n",
       "  <tbody>\n",
       "    <tr>\n",
       "      <th>0</th>\n",
       "      <td>40</td>\n",
       "      <td>M</td>\n",
       "      <td>ATA</td>\n",
       "      <td>140</td>\n",
       "      <td>289.0</td>\n",
       "      <td>0</td>\n",
       "      <td>Normal</td>\n",
       "      <td>172</td>\n",
       "      <td>N</td>\n",
       "      <td>0.0</td>\n",
       "      <td>Up</td>\n",
       "      <td>0</td>\n",
       "    </tr>\n",
       "    <tr>\n",
       "      <th>1</th>\n",
       "      <td>49</td>\n",
       "      <td>F</td>\n",
       "      <td>NAP</td>\n",
       "      <td>160</td>\n",
       "      <td>180.0</td>\n",
       "      <td>0</td>\n",
       "      <td>Normal</td>\n",
       "      <td>156</td>\n",
       "      <td>N</td>\n",
       "      <td>1.0</td>\n",
       "      <td>Flat</td>\n",
       "      <td>1</td>\n",
       "    </tr>\n",
       "    <tr>\n",
       "      <th>2</th>\n",
       "      <td>37</td>\n",
       "      <td>M</td>\n",
       "      <td>ATA</td>\n",
       "      <td>130</td>\n",
       "      <td>283.0</td>\n",
       "      <td>0</td>\n",
       "      <td>ST</td>\n",
       "      <td>98</td>\n",
       "      <td>N</td>\n",
       "      <td>0.0</td>\n",
       "      <td>Up</td>\n",
       "      <td>0</td>\n",
       "    </tr>\n",
       "    <tr>\n",
       "      <th>3</th>\n",
       "      <td>48</td>\n",
       "      <td>F</td>\n",
       "      <td>ASY</td>\n",
       "      <td>138</td>\n",
       "      <td>214.0</td>\n",
       "      <td>0</td>\n",
       "      <td>Normal</td>\n",
       "      <td>108</td>\n",
       "      <td>Y</td>\n",
       "      <td>1.5</td>\n",
       "      <td>Flat</td>\n",
       "      <td>1</td>\n",
       "    </tr>\n",
       "    <tr>\n",
       "      <th>4</th>\n",
       "      <td>54</td>\n",
       "      <td>M</td>\n",
       "      <td>NAP</td>\n",
       "      <td>150</td>\n",
       "      <td>195.0</td>\n",
       "      <td>0</td>\n",
       "      <td>Normal</td>\n",
       "      <td>122</td>\n",
       "      <td>N</td>\n",
       "      <td>0.0</td>\n",
       "      <td>Up</td>\n",
       "      <td>0</td>\n",
       "    </tr>\n",
       "  </tbody>\n",
       "</table>\n",
       "</div>"
      ],
      "text/plain": [
       "   Age Sex ChestPainType  RestingBP  Cholesterol  FastingBS RestingECG  MaxHR  \\\n",
       "0   40   M           ATA        140        289.0          0     Normal    172   \n",
       "1   49   F           NAP        160        180.0          0     Normal    156   \n",
       "2   37   M           ATA        130        283.0          0         ST     98   \n",
       "3   48   F           ASY        138        214.0          0     Normal    108   \n",
       "4   54   M           NAP        150        195.0          0     Normal    122   \n",
       "\n",
       "  ExerciseAngina  Oldpeak ST_Slope  HeartDisease  \n",
       "0              N      0.0       Up             0  \n",
       "1              N      1.0     Flat             1  \n",
       "2              N      0.0       Up             0  \n",
       "3              Y      1.5     Flat             1  \n",
       "4              N      0.0       Up             0  "
      ]
     },
     "execution_count": 24,
     "metadata": {},
     "output_type": "execute_result"
    }
   ],
   "source": [
    "df.head()"
   ]
  },
  {
   "cell_type": "code",
   "execution_count": 25,
   "metadata": {
    "id": "0VFq4NJ_181-"
   },
   "outputs": [
    {
     "data": {
      "text/plain": [
       "array([[40, 'M', 'ATA', ..., 'N', 0.0, 'Up'],\n",
       "       [49, 'F', 'NAP', ..., 'N', 1.0, 'Flat'],\n",
       "       [37, 'M', 'ATA', ..., 'N', 0.0, 'Up'],\n",
       "       ...,\n",
       "       [57, 'M', 'ASY', ..., 'Y', 1.2, 'Flat'],\n",
       "       [57, 'F', 'ATA', ..., 'N', 0.0, 'Flat'],\n",
       "       [38, 'M', 'NAP', ..., 'N', 0.0, 'Up']], dtype=object)"
      ]
     },
     "execution_count": 25,
     "metadata": {},
     "output_type": "execute_result"
    }
   ],
   "source": [
    "previsores2 = df.iloc[:, 0:11].values\n",
    "previsores2"
   ]
  },
  {
   "cell_type": "code",
   "execution_count": 26,
   "metadata": {
    "id": "36oIQ8I10nin"
   },
   "outputs": [],
   "source": [
    "# Vamos transforma a segunda coluna com indice '1' como exemplo\n",
    "previsores2[:,1] = LabelEncoder().fit_transform(previsores2[:,1])"
   ]
  },
  {
   "cell_type": "code",
   "execution_count": 27,
   "metadata": {
    "id": "IZQuLVsb1kMW"
   },
   "outputs": [
    {
     "data": {
      "text/plain": [
       "array([[40, 1, 'ATA', ..., 'N', 0.0, 'Up'],\n",
       "       [49, 0, 'NAP', ..., 'N', 1.0, 'Flat'],\n",
       "       [37, 1, 'ATA', ..., 'N', 0.0, 'Up'],\n",
       "       ...,\n",
       "       [57, 1, 'ASY', ..., 'Y', 1.2, 'Flat'],\n",
       "       [57, 0, 'ATA', ..., 'N', 0.0, 'Flat'],\n",
       "       [38, 1, 'NAP', ..., 'N', 0.0, 'Up']], dtype=object)"
      ]
     },
     "execution_count": 27,
     "metadata": {},
     "output_type": "execute_result"
    }
   ],
   "source": [
    "previsores2"
   ]
  },
  {
   "cell_type": "code",
   "execution_count": 28,
   "metadata": {
    "id": "VAV6Jrmg00_B"
   },
   "outputs": [],
   "source": [
    "previsores2[:,2] = LabelEncoder().fit_transform(previsores2[:,2])\n",
    "previsores2[:,6] = LabelEncoder().fit_transform(previsores2[:,6])\n",
    "previsores2[:,8] = LabelEncoder().fit_transform(previsores2[:,8])\n",
    "previsores2[:,10] = LabelEncoder().fit_transform(previsores2[:,10])"
   ]
  },
  {
   "cell_type": "code",
   "execution_count": 29,
   "metadata": {
    "id": "6OYCPPGa3EE6"
   },
   "outputs": [
    {
     "data": {
      "text/plain": [
       "array([[40, 1, 1, ..., 0, 0.0, 2],\n",
       "       [49, 0, 2, ..., 0, 1.0, 1],\n",
       "       [37, 1, 1, ..., 0, 0.0, 2],\n",
       "       ...,\n",
       "       [57, 1, 0, ..., 1, 1.2, 1],\n",
       "       [57, 0, 1, ..., 0, 0.0, 1],\n",
       "       [38, 1, 2, ..., 0, 0.0, 2]], dtype=object)"
      ]
     },
     "execution_count": 29,
     "metadata": {},
     "output_type": "execute_result"
    }
   ],
   "source": [
    "previsores2"
   ]
  },
  {
   "cell_type": "code",
   "execution_count": 30,
   "metadata": {
    "id": "SV6SHdiD3i_Z"
   },
   "outputs": [
    {
     "data": {
      "text/plain": [
       "(917, 11)"
      ]
     },
     "execution_count": 30,
     "metadata": {},
     "output_type": "execute_result"
    }
   ],
   "source": [
    "previsores2.shape"
   ]
  },
  {
   "cell_type": "markdown",
   "metadata": {
    "id": "PIqEAMoH52Og"
   },
   "source": [
    "### <font color='purple'>**OneHotEncoder: Criação de variáveis Dummy (fictícia).**\n",
    "**Codifique recursos categóricos como uma matriz numérica one-hot** "
   ]
  },
  {
   "cell_type": "markdown",
   "metadata": {
    "id": "Ic1BCbFvGTNL"
   },
   "source": [
    "Cuidado com a multicolinearidade (variáveis altamente correlacionadas entre si)."
   ]
  },
  {
   "cell_type": "markdown",
   "metadata": {
    "id": "ruBvkbyn74ly"
   },
   "source": [
    "![image.png](data:image/png;base64,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)"
   ]
  },
  {
   "cell_type": "markdown",
   "metadata": {
    "id": "ZszZwZIBPrQR"
   },
   "source": [
    "A   B   C   D   \n",
    "1   0   0   0   \n",
    "0   1   0   0   \n",
    "0   0   1   0   \n",
    "0   0   0   1\n"
   ]
  },
  {
   "cell_type": "code",
   "execution_count": 31,
   "metadata": {
    "id": "YeSR7cQC8uCQ"
   },
   "outputs": [],
   "source": [
    "from sklearn.preprocessing import OneHotEncoder\n",
    "from sklearn.compose import ColumnTransformer"
   ]
  },
  {
   "cell_type": "code",
   "execution_count": 32,
   "metadata": {
    "id": "qx2UeR9S2Whp"
   },
   "outputs": [],
   "source": [
    "ColumnTransformer?"
   ]
  },
  {
   "cell_type": "markdown",
   "metadata": {
    "id": "ZT_BjSzytpVX"
   },
   "source": [
    "Parâmetros ColumnTransformer\n",
    "- name: nome dado a transformação.\n",
    "- transformer: tipo de estimador (OneHotEncoder).\n",
    "- columns: colunas que serão transformadas(seleciona por indice de colunas).\n",
    "- remainder: o que acontecerá com o restante das colunas não relacionadas: \n",
    "1) drop = exclui as outras colunas.\n",
    "2) passthrough = mantém as outras colunas. drop é default.  \n",
    "- sparse_threshold: parâmetro de classificação de matrizes esparsas. default é 0.3\n",
    "- n_jobs: número de trabalhos a serem executados em paralelo. default é nenhum\n",
    "- transformer_weights: definição de pesos aos transformadores.\n",
    "-verbose: default é False. se for True a execução é apresentada na tela."
   ]
  },
  {
   "cell_type": "code",
   "execution_count": 33,
   "metadata": {
    "id": "rXFOyMmd9JEB"
   },
   "outputs": [],
   "source": [
    "previsores3 = ColumnTransformer(transformers=[('OneHot', OneHotEncoder(), [1,2,6,8,10])],\n",
    "                                remainder='passthrough').fit_transform(previsores2)"
   ]
  },
  {
   "cell_type": "code",
   "execution_count": 34,
   "metadata": {
    "id": "F_H3hiDD_pfB"
   },
   "outputs": [
    {
     "data": {
      "text/plain": [
       "array([[0.0, 1.0, 0.0, ..., 0, 172, 0.0],\n",
       "       [1.0, 0.0, 0.0, ..., 0, 156, 1.0],\n",
       "       [0.0, 1.0, 0.0, ..., 0, 98, 0.0],\n",
       "       ...,\n",
       "       [0.0, 1.0, 1.0, ..., 0, 115, 1.2],\n",
       "       [1.0, 0.0, 0.0, ..., 0, 174, 0.0],\n",
       "       [0.0, 1.0, 0.0, ..., 0, 173, 0.0]], dtype=object)"
      ]
     },
     "execution_count": 34,
     "metadata": {},
     "output_type": "execute_result"
    }
   ],
   "source": [
    "previsores3"
   ]
  },
  {
   "cell_type": "code",
   "execution_count": 35,
   "metadata": {
    "id": "eZ-nG4XEBMXU"
   },
   "outputs": [
    {
     "data": {
      "text/plain": [
       "(917, 20)"
      ]
     },
     "execution_count": 35,
     "metadata": {},
     "output_type": "execute_result"
    }
   ],
   "source": [
    "previsores3.shape"
   ]
  },
  {
   "cell_type": "code",
   "execution_count": 36,
   "metadata": {
    "id": "1iTTX6b0C_0-"
   },
   "outputs": [
    {
     "data": {
      "text/html": [
       "<div>\n",
       "<style scoped>\n",
       "    .dataframe tbody tr th:only-of-type {\n",
       "        vertical-align: middle;\n",
       "    }\n",
       "\n",
       "    .dataframe tbody tr th {\n",
       "        vertical-align: top;\n",
       "    }\n",
       "\n",
       "    .dataframe thead th {\n",
       "        text-align: right;\n",
       "    }\n",
       "</style>\n",
       "<table border=\"1\" class=\"dataframe\">\n",
       "  <thead>\n",
       "    <tr style=\"text-align: right;\">\n",
       "      <th></th>\n",
       "      <th>0</th>\n",
       "      <th>1</th>\n",
       "      <th>2</th>\n",
       "      <th>3</th>\n",
       "      <th>4</th>\n",
       "      <th>5</th>\n",
       "      <th>6</th>\n",
       "      <th>7</th>\n",
       "      <th>8</th>\n",
       "      <th>9</th>\n",
       "      <th>10</th>\n",
       "      <th>11</th>\n",
       "      <th>12</th>\n",
       "      <th>13</th>\n",
       "      <th>14</th>\n",
       "      <th>15</th>\n",
       "      <th>16</th>\n",
       "      <th>17</th>\n",
       "      <th>18</th>\n",
       "      <th>19</th>\n",
       "    </tr>\n",
       "  </thead>\n",
       "  <tbody>\n",
       "    <tr>\n",
       "      <th>0</th>\n",
       "      <td>0.0</td>\n",
       "      <td>1.0</td>\n",
       "      <td>0.0</td>\n",
       "      <td>1.0</td>\n",
       "      <td>0.0</td>\n",
       "      <td>0.0</td>\n",
       "      <td>0.0</td>\n",
       "      <td>1.0</td>\n",
       "      <td>0.0</td>\n",
       "      <td>1.0</td>\n",
       "      <td>0.0</td>\n",
       "      <td>0.0</td>\n",
       "      <td>0.0</td>\n",
       "      <td>1.0</td>\n",
       "      <td>40</td>\n",
       "      <td>140</td>\n",
       "      <td>289.0</td>\n",
       "      <td>0</td>\n",
       "      <td>172</td>\n",
       "      <td>0.0</td>\n",
       "    </tr>\n",
       "    <tr>\n",
       "      <th>1</th>\n",
       "      <td>1.0</td>\n",
       "      <td>0.0</td>\n",
       "      <td>0.0</td>\n",
       "      <td>0.0</td>\n",
       "      <td>1.0</td>\n",
       "      <td>0.0</td>\n",
       "      <td>0.0</td>\n",
       "      <td>1.0</td>\n",
       "      <td>0.0</td>\n",
       "      <td>1.0</td>\n",
       "      <td>0.0</td>\n",
       "      <td>0.0</td>\n",
       "      <td>1.0</td>\n",
       "      <td>0.0</td>\n",
       "      <td>49</td>\n",
       "      <td>160</td>\n",
       "      <td>180.0</td>\n",
       "      <td>0</td>\n",
       "      <td>156</td>\n",
       "      <td>1.0</td>\n",
       "    </tr>\n",
       "    <tr>\n",
       "      <th>2</th>\n",
       "      <td>0.0</td>\n",
       "      <td>1.0</td>\n",
       "      <td>0.0</td>\n",
       "      <td>1.0</td>\n",
       "      <td>0.0</td>\n",
       "      <td>0.0</td>\n",
       "      <td>0.0</td>\n",
       "      <td>0.0</td>\n",
       "      <td>1.0</td>\n",
       "      <td>1.0</td>\n",
       "      <td>0.0</td>\n",
       "      <td>0.0</td>\n",
       "      <td>0.0</td>\n",
       "      <td>1.0</td>\n",
       "      <td>37</td>\n",
       "      <td>130</td>\n",
       "      <td>283.0</td>\n",
       "      <td>0</td>\n",
       "      <td>98</td>\n",
       "      <td>0.0</td>\n",
       "    </tr>\n",
       "    <tr>\n",
       "      <th>3</th>\n",
       "      <td>1.0</td>\n",
       "      <td>0.0</td>\n",
       "      <td>1.0</td>\n",
       "      <td>0.0</td>\n",
       "      <td>0.0</td>\n",
       "      <td>0.0</td>\n",
       "      <td>0.0</td>\n",
       "      <td>1.0</td>\n",
       "      <td>0.0</td>\n",
       "      <td>0.0</td>\n",
       "      <td>1.0</td>\n",
       "      <td>0.0</td>\n",
       "      <td>1.0</td>\n",
       "      <td>0.0</td>\n",
       "      <td>48</td>\n",
       "      <td>138</td>\n",
       "      <td>214.0</td>\n",
       "      <td>0</td>\n",
       "      <td>108</td>\n",
       "      <td>1.5</td>\n",
       "    </tr>\n",
       "    <tr>\n",
       "      <th>4</th>\n",
       "      <td>0.0</td>\n",
       "      <td>1.0</td>\n",
       "      <td>0.0</td>\n",
       "      <td>0.0</td>\n",
       "      <td>1.0</td>\n",
       "      <td>0.0</td>\n",
       "      <td>0.0</td>\n",
       "      <td>1.0</td>\n",
       "      <td>0.0</td>\n",
       "      <td>1.0</td>\n",
       "      <td>0.0</td>\n",
       "      <td>0.0</td>\n",
       "      <td>0.0</td>\n",
       "      <td>1.0</td>\n",
       "      <td>54</td>\n",
       "      <td>150</td>\n",
       "      <td>195.0</td>\n",
       "      <td>0</td>\n",
       "      <td>122</td>\n",
       "      <td>0.0</td>\n",
       "    </tr>\n",
       "  </tbody>\n",
       "</table>\n",
       "</div>"
      ],
      "text/plain": [
       "    0    1    2    3    4    5    6    7    8    9    10   11   12   13  14  \\\n",
       "0  0.0  1.0  0.0  1.0  0.0  0.0  0.0  1.0  0.0  1.0  0.0  0.0  0.0  1.0  40   \n",
       "1  1.0  0.0  0.0  0.0  1.0  0.0  0.0  1.0  0.0  1.0  0.0  0.0  1.0  0.0  49   \n",
       "2  0.0  1.0  0.0  1.0  0.0  0.0  0.0  0.0  1.0  1.0  0.0  0.0  0.0  1.0  37   \n",
       "3  1.0  0.0  1.0  0.0  0.0  0.0  0.0  1.0  0.0  0.0  1.0  0.0  1.0  0.0  48   \n",
       "4  0.0  1.0  0.0  0.0  1.0  0.0  0.0  1.0  0.0  1.0  0.0  0.0  0.0  1.0  54   \n",
       "\n",
       "    15     16 17   18   19  \n",
       "0  140  289.0  0  172  0.0  \n",
       "1  160  180.0  0  156  1.0  \n",
       "2  130  283.0  0   98  0.0  \n",
       "3  138  214.0  0  108  1.5  \n",
       "4  150  195.0  0  122  0.0  "
      ]
     },
     "execution_count": 36,
     "metadata": {},
     "output_type": "execute_result"
    }
   ],
   "source": [
    "# Transfromamos em um data frame\n",
    "previsores3df = pd.DataFrame(previsores3)\n",
    "previsores3df.head()"
   ]
  },
  {
   "cell_type": "code",
   "execution_count": 37,
   "metadata": {
    "id": "KTfczx7EDvwc"
   },
   "outputs": [
    {
     "data": {
      "text/html": [
       "<div>\n",
       "<style scoped>\n",
       "    .dataframe tbody tr th:only-of-type {\n",
       "        vertical-align: middle;\n",
       "    }\n",
       "\n",
       "    .dataframe tbody tr th {\n",
       "        vertical-align: top;\n",
       "    }\n",
       "\n",
       "    .dataframe thead th {\n",
       "        text-align: right;\n",
       "    }\n",
       "</style>\n",
       "<table border=\"1\" class=\"dataframe\">\n",
       "  <thead>\n",
       "    <tr style=\"text-align: right;\">\n",
       "      <th></th>\n",
       "      <th>Age</th>\n",
       "      <th>Sex</th>\n",
       "      <th>ChestPainType</th>\n",
       "      <th>RestingBP</th>\n",
       "      <th>Cholesterol</th>\n",
       "      <th>FastingBS</th>\n",
       "      <th>RestingECG</th>\n",
       "      <th>MaxHR</th>\n",
       "      <th>ExerciseAngina</th>\n",
       "      <th>Oldpeak</th>\n",
       "      <th>ST_Slope</th>\n",
       "      <th>HeartDisease</th>\n",
       "    </tr>\n",
       "  </thead>\n",
       "  <tbody>\n",
       "    <tr>\n",
       "      <th>0</th>\n",
       "      <td>40</td>\n",
       "      <td>M</td>\n",
       "      <td>ATA</td>\n",
       "      <td>140</td>\n",
       "      <td>289.0</td>\n",
       "      <td>0</td>\n",
       "      <td>Normal</td>\n",
       "      <td>172</td>\n",
       "      <td>N</td>\n",
       "      <td>0.0</td>\n",
       "      <td>Up</td>\n",
       "      <td>0</td>\n",
       "    </tr>\n",
       "    <tr>\n",
       "      <th>1</th>\n",
       "      <td>49</td>\n",
       "      <td>F</td>\n",
       "      <td>NAP</td>\n",
       "      <td>160</td>\n",
       "      <td>180.0</td>\n",
       "      <td>0</td>\n",
       "      <td>Normal</td>\n",
       "      <td>156</td>\n",
       "      <td>N</td>\n",
       "      <td>1.0</td>\n",
       "      <td>Flat</td>\n",
       "      <td>1</td>\n",
       "    </tr>\n",
       "    <tr>\n",
       "      <th>2</th>\n",
       "      <td>37</td>\n",
       "      <td>M</td>\n",
       "      <td>ATA</td>\n",
       "      <td>130</td>\n",
       "      <td>283.0</td>\n",
       "      <td>0</td>\n",
       "      <td>ST</td>\n",
       "      <td>98</td>\n",
       "      <td>N</td>\n",
       "      <td>0.0</td>\n",
       "      <td>Up</td>\n",
       "      <td>0</td>\n",
       "    </tr>\n",
       "  </tbody>\n",
       "</table>\n",
       "</div>"
      ],
      "text/plain": [
       "   Age Sex ChestPainType  RestingBP  Cholesterol  FastingBS RestingECG  MaxHR  \\\n",
       "0   40   M           ATA        140        289.0          0     Normal    172   \n",
       "1   49   F           NAP        160        180.0          0     Normal    156   \n",
       "2   37   M           ATA        130        283.0          0         ST     98   \n",
       "\n",
       "  ExerciseAngina  Oldpeak ST_Slope  HeartDisease  \n",
       "0              N      0.0       Up             0  \n",
       "1              N      1.0     Flat             1  \n",
       "2              N      0.0       Up             0  "
      ]
     },
     "execution_count": 37,
     "metadata": {},
     "output_type": "execute_result"
    }
   ],
   "source": [
    "df.head(3)"
   ]
  },
  {
   "cell_type": "markdown",
   "metadata": {
    "id": "YWlyb9T-Fk1I"
   },
   "source": [
    "## <font color='purple'>**Escalonamento**"
   ]
  },
  {
   "cell_type": "code",
   "execution_count": 38,
   "metadata": {
    "id": "x4jzommSFk1L"
   },
   "outputs": [],
   "source": [
    "from sklearn.preprocessing import StandardScaler"
   ]
  },
  {
   "cell_type": "code",
   "execution_count": 39,
   "metadata": {
    "id": "nvLu4mtDFk1L"
   },
   "outputs": [],
   "source": [
    "previsores3_esc = StandardScaler().fit_transform(previsores3)"
   ]
  },
  {
   "cell_type": "code",
   "execution_count": 40,
   "metadata": {
    "id": "eFTA8spkFk1M"
   },
   "outputs": [
    {
     "data": {
      "text/plain": [
       "array([[-0.51630861,  0.51630861, -1.08542493, ..., -0.55173333,\n",
       "         1.38333943, -0.83150225],\n",
       "       [ 1.9368261 , -1.9368261 , -1.08542493, ..., -0.55173333,\n",
       "         0.75473573,  0.10625149],\n",
       "       [-0.51630861,  0.51630861, -1.08542493, ..., -0.55173333,\n",
       "        -1.52395266, -0.83150225],\n",
       "       ...,\n",
       "       [-0.51630861,  0.51630861,  0.92129817, ..., -0.55173333,\n",
       "        -0.85606123,  0.29380223],\n",
       "       [ 1.9368261 , -1.9368261 , -1.08542493, ..., -0.55173333,\n",
       "         1.46191489, -0.83150225],\n",
       "       [-0.51630861,  0.51630861, -1.08542493, ..., -0.55173333,\n",
       "         1.42262716, -0.83150225]])"
      ]
     },
     "execution_count": 40,
     "metadata": {},
     "output_type": "execute_result"
    }
   ],
   "source": [
    "previsores3_esc"
   ]
  },
  {
   "cell_type": "code",
   "execution_count": 41,
   "metadata": {
    "id": "w6JQStnqFk1M"
   },
   "outputs": [
    {
     "data": {
      "text/html": [
       "<div>\n",
       "<style scoped>\n",
       "    .dataframe tbody tr th:only-of-type {\n",
       "        vertical-align: middle;\n",
       "    }\n",
       "\n",
       "    .dataframe tbody tr th {\n",
       "        vertical-align: top;\n",
       "    }\n",
       "\n",
       "    .dataframe thead th {\n",
       "        text-align: right;\n",
       "    }\n",
       "</style>\n",
       "<table border=\"1\" class=\"dataframe\">\n",
       "  <thead>\n",
       "    <tr style=\"text-align: right;\">\n",
       "      <th></th>\n",
       "      <th>0</th>\n",
       "      <th>1</th>\n",
       "      <th>2</th>\n",
       "      <th>3</th>\n",
       "      <th>4</th>\n",
       "      <th>5</th>\n",
       "      <th>6</th>\n",
       "      <th>7</th>\n",
       "      <th>8</th>\n",
       "      <th>9</th>\n",
       "      <th>10</th>\n",
       "      <th>11</th>\n",
       "      <th>12</th>\n",
       "      <th>13</th>\n",
       "      <th>14</th>\n",
       "      <th>15</th>\n",
       "      <th>16</th>\n",
       "      <th>17</th>\n",
       "      <th>18</th>\n",
       "      <th>19</th>\n",
       "    </tr>\n",
       "  </thead>\n",
       "  <tbody>\n",
       "    <tr>\n",
       "      <th>0</th>\n",
       "      <td>-0.516309</td>\n",
       "      <td>0.516309</td>\n",
       "      <td>-1.085425</td>\n",
       "      <td>2.073784</td>\n",
       "      <td>-0.531524</td>\n",
       "      <td>-0.229810</td>\n",
       "      <td>-0.507826</td>\n",
       "      <td>0.815013</td>\n",
       "      <td>-0.490781</td>\n",
       "      <td>0.824310</td>\n",
       "      <td>-0.824310</td>\n",
       "      <td>-0.271607</td>\n",
       "      <td>-1.001091</td>\n",
       "      <td>1.149573</td>\n",
       "      <td>-1.432206</td>\n",
       "      <td>0.414627</td>\n",
       "      <td>0.832075</td>\n",
       "      <td>-0.551733</td>\n",
       "      <td>1.383339</td>\n",
       "      <td>-0.831502</td>\n",
       "    </tr>\n",
       "    <tr>\n",
       "      <th>1</th>\n",
       "      <td>1.936826</td>\n",
       "      <td>-1.936826</td>\n",
       "      <td>-1.085425</td>\n",
       "      <td>-0.482210</td>\n",
       "      <td>1.881384</td>\n",
       "      <td>-0.229810</td>\n",
       "      <td>-0.507826</td>\n",
       "      <td>0.815013</td>\n",
       "      <td>-0.490781</td>\n",
       "      <td>0.824310</td>\n",
       "      <td>-0.824310</td>\n",
       "      <td>-0.271607</td>\n",
       "      <td>0.998910</td>\n",
       "      <td>-0.869888</td>\n",
       "      <td>-0.478057</td>\n",
       "      <td>1.526360</td>\n",
       "      <td>-1.212261</td>\n",
       "      <td>-0.551733</td>\n",
       "      <td>0.754736</td>\n",
       "      <td>0.106251</td>\n",
       "    </tr>\n",
       "    <tr>\n",
       "      <th>2</th>\n",
       "      <td>-0.516309</td>\n",
       "      <td>0.516309</td>\n",
       "      <td>-1.085425</td>\n",
       "      <td>2.073784</td>\n",
       "      <td>-0.531524</td>\n",
       "      <td>-0.229810</td>\n",
       "      <td>-0.507826</td>\n",
       "      <td>-1.226974</td>\n",
       "      <td>2.037569</td>\n",
       "      <td>0.824310</td>\n",
       "      <td>-0.824310</td>\n",
       "      <td>-0.271607</td>\n",
       "      <td>-1.001091</td>\n",
       "      <td>1.149573</td>\n",
       "      <td>-1.750256</td>\n",
       "      <td>-0.141240</td>\n",
       "      <td>0.719543</td>\n",
       "      <td>-0.551733</td>\n",
       "      <td>-1.523953</td>\n",
       "      <td>-0.831502</td>\n",
       "    </tr>\n",
       "    <tr>\n",
       "      <th>3</th>\n",
       "      <td>1.936826</td>\n",
       "      <td>-1.936826</td>\n",
       "      <td>0.921298</td>\n",
       "      <td>-0.482210</td>\n",
       "      <td>-0.531524</td>\n",
       "      <td>-0.229810</td>\n",
       "      <td>-0.507826</td>\n",
       "      <td>0.815013</td>\n",
       "      <td>-0.490781</td>\n",
       "      <td>-1.213136</td>\n",
       "      <td>1.213136</td>\n",
       "      <td>-0.271607</td>\n",
       "      <td>0.998910</td>\n",
       "      <td>-0.869888</td>\n",
       "      <td>-0.584074</td>\n",
       "      <td>0.303453</td>\n",
       "      <td>-0.574578</td>\n",
       "      <td>-0.551733</td>\n",
       "      <td>-1.131075</td>\n",
       "      <td>0.575128</td>\n",
       "    </tr>\n",
       "    <tr>\n",
       "      <th>4</th>\n",
       "      <td>-0.516309</td>\n",
       "      <td>0.516309</td>\n",
       "      <td>-1.085425</td>\n",
       "      <td>-0.482210</td>\n",
       "      <td>1.881384</td>\n",
       "      <td>-0.229810</td>\n",
       "      <td>-0.507826</td>\n",
       "      <td>0.815013</td>\n",
       "      <td>-0.490781</td>\n",
       "      <td>0.824310</td>\n",
       "      <td>-0.824310</td>\n",
       "      <td>-0.271607</td>\n",
       "      <td>-1.001091</td>\n",
       "      <td>1.149573</td>\n",
       "      <td>0.052026</td>\n",
       "      <td>0.970493</td>\n",
       "      <td>-0.930931</td>\n",
       "      <td>-0.551733</td>\n",
       "      <td>-0.581047</td>\n",
       "      <td>-0.831502</td>\n",
       "    </tr>\n",
       "    <tr>\n",
       "      <th>...</th>\n",
       "      <td>...</td>\n",
       "      <td>...</td>\n",
       "      <td>...</td>\n",
       "      <td>...</td>\n",
       "      <td>...</td>\n",
       "      <td>...</td>\n",
       "      <td>...</td>\n",
       "      <td>...</td>\n",
       "      <td>...</td>\n",
       "      <td>...</td>\n",
       "      <td>...</td>\n",
       "      <td>...</td>\n",
       "      <td>...</td>\n",
       "      <td>...</td>\n",
       "      <td>...</td>\n",
       "      <td>...</td>\n",
       "      <td>...</td>\n",
       "      <td>...</td>\n",
       "      <td>...</td>\n",
       "      <td>...</td>\n",
       "    </tr>\n",
       "    <tr>\n",
       "      <th>912</th>\n",
       "      <td>-0.516309</td>\n",
       "      <td>0.516309</td>\n",
       "      <td>-1.085425</td>\n",
       "      <td>-0.482210</td>\n",
       "      <td>-0.531524</td>\n",
       "      <td>4.351412</td>\n",
       "      <td>-0.507826</td>\n",
       "      <td>0.815013</td>\n",
       "      <td>-0.490781</td>\n",
       "      <td>0.824310</td>\n",
       "      <td>-0.824310</td>\n",
       "      <td>-0.271607</td>\n",
       "      <td>0.998910</td>\n",
       "      <td>-0.869888</td>\n",
       "      <td>-0.902124</td>\n",
       "      <td>-1.252973</td>\n",
       "      <td>0.363191</td>\n",
       "      <td>-0.551733</td>\n",
       "      <td>-0.188170</td>\n",
       "      <td>0.293802</td>\n",
       "    </tr>\n",
       "    <tr>\n",
       "      <th>913</th>\n",
       "      <td>-0.516309</td>\n",
       "      <td>0.516309</td>\n",
       "      <td>0.921298</td>\n",
       "      <td>-0.482210</td>\n",
       "      <td>-0.531524</td>\n",
       "      <td>-0.229810</td>\n",
       "      <td>-0.507826</td>\n",
       "      <td>0.815013</td>\n",
       "      <td>-0.490781</td>\n",
       "      <td>0.824310</td>\n",
       "      <td>-0.824310</td>\n",
       "      <td>-0.271607</td>\n",
       "      <td>0.998910</td>\n",
       "      <td>-0.869888</td>\n",
       "      <td>1.536257</td>\n",
       "      <td>0.636973</td>\n",
       "      <td>-0.968441</td>\n",
       "      <td>1.812470</td>\n",
       "      <td>0.165420</td>\n",
       "      <td>2.356860</td>\n",
       "    </tr>\n",
       "    <tr>\n",
       "      <th>914</th>\n",
       "      <td>-0.516309</td>\n",
       "      <td>0.516309</td>\n",
       "      <td>0.921298</td>\n",
       "      <td>-0.482210</td>\n",
       "      <td>-0.531524</td>\n",
       "      <td>-0.229810</td>\n",
       "      <td>-0.507826</td>\n",
       "      <td>0.815013</td>\n",
       "      <td>-0.490781</td>\n",
       "      <td>-1.213136</td>\n",
       "      <td>1.213136</td>\n",
       "      <td>-0.271607</td>\n",
       "      <td>0.998910</td>\n",
       "      <td>-0.869888</td>\n",
       "      <td>0.370075</td>\n",
       "      <td>-0.141240</td>\n",
       "      <td>-2.131275</td>\n",
       "      <td>-0.551733</td>\n",
       "      <td>-0.856061</td>\n",
       "      <td>0.293802</td>\n",
       "    </tr>\n",
       "    <tr>\n",
       "      <th>915</th>\n",
       "      <td>1.936826</td>\n",
       "      <td>-1.936826</td>\n",
       "      <td>-1.085425</td>\n",
       "      <td>2.073784</td>\n",
       "      <td>-0.531524</td>\n",
       "      <td>-0.229810</td>\n",
       "      <td>1.969177</td>\n",
       "      <td>-1.226974</td>\n",
       "      <td>-0.490781</td>\n",
       "      <td>0.824310</td>\n",
       "      <td>-0.824310</td>\n",
       "      <td>-0.271607</td>\n",
       "      <td>0.998910</td>\n",
       "      <td>-0.869888</td>\n",
       "      <td>0.370075</td>\n",
       "      <td>-0.141240</td>\n",
       "      <td>-0.161960</td>\n",
       "      <td>-0.551733</td>\n",
       "      <td>1.461915</td>\n",
       "      <td>-0.831502</td>\n",
       "    </tr>\n",
       "    <tr>\n",
       "      <th>916</th>\n",
       "      <td>-0.516309</td>\n",
       "      <td>0.516309</td>\n",
       "      <td>-1.085425</td>\n",
       "      <td>-0.482210</td>\n",
       "      <td>1.881384</td>\n",
       "      <td>-0.229810</td>\n",
       "      <td>-0.507826</td>\n",
       "      <td>0.815013</td>\n",
       "      <td>-0.490781</td>\n",
       "      <td>0.824310</td>\n",
       "      <td>-0.824310</td>\n",
       "      <td>-0.271607</td>\n",
       "      <td>-1.001091</td>\n",
       "      <td>1.149573</td>\n",
       "      <td>-1.644239</td>\n",
       "      <td>0.303453</td>\n",
       "      <td>-1.306038</td>\n",
       "      <td>-0.551733</td>\n",
       "      <td>1.422627</td>\n",
       "      <td>-0.831502</td>\n",
       "    </tr>\n",
       "  </tbody>\n",
       "</table>\n",
       "<p>917 rows × 20 columns</p>\n",
       "</div>"
      ],
      "text/plain": [
       "           0         1         2         3         4         5         6   \\\n",
       "0   -0.516309  0.516309 -1.085425  2.073784 -0.531524 -0.229810 -0.507826   \n",
       "1    1.936826 -1.936826 -1.085425 -0.482210  1.881384 -0.229810 -0.507826   \n",
       "2   -0.516309  0.516309 -1.085425  2.073784 -0.531524 -0.229810 -0.507826   \n",
       "3    1.936826 -1.936826  0.921298 -0.482210 -0.531524 -0.229810 -0.507826   \n",
       "4   -0.516309  0.516309 -1.085425 -0.482210  1.881384 -0.229810 -0.507826   \n",
       "..        ...       ...       ...       ...       ...       ...       ...   \n",
       "912 -0.516309  0.516309 -1.085425 -0.482210 -0.531524  4.351412 -0.507826   \n",
       "913 -0.516309  0.516309  0.921298 -0.482210 -0.531524 -0.229810 -0.507826   \n",
       "914 -0.516309  0.516309  0.921298 -0.482210 -0.531524 -0.229810 -0.507826   \n",
       "915  1.936826 -1.936826 -1.085425  2.073784 -0.531524 -0.229810  1.969177   \n",
       "916 -0.516309  0.516309 -1.085425 -0.482210  1.881384 -0.229810 -0.507826   \n",
       "\n",
       "           7         8         9         10        11        12        13  \\\n",
       "0    0.815013 -0.490781  0.824310 -0.824310 -0.271607 -1.001091  1.149573   \n",
       "1    0.815013 -0.490781  0.824310 -0.824310 -0.271607  0.998910 -0.869888   \n",
       "2   -1.226974  2.037569  0.824310 -0.824310 -0.271607 -1.001091  1.149573   \n",
       "3    0.815013 -0.490781 -1.213136  1.213136 -0.271607  0.998910 -0.869888   \n",
       "4    0.815013 -0.490781  0.824310 -0.824310 -0.271607 -1.001091  1.149573   \n",
       "..        ...       ...       ...       ...       ...       ...       ...   \n",
       "912  0.815013 -0.490781  0.824310 -0.824310 -0.271607  0.998910 -0.869888   \n",
       "913  0.815013 -0.490781  0.824310 -0.824310 -0.271607  0.998910 -0.869888   \n",
       "914  0.815013 -0.490781 -1.213136  1.213136 -0.271607  0.998910 -0.869888   \n",
       "915 -1.226974 -0.490781  0.824310 -0.824310 -0.271607  0.998910 -0.869888   \n",
       "916  0.815013 -0.490781  0.824310 -0.824310 -0.271607 -1.001091  1.149573   \n",
       "\n",
       "           14        15        16        17        18        19  \n",
       "0   -1.432206  0.414627  0.832075 -0.551733  1.383339 -0.831502  \n",
       "1   -0.478057  1.526360 -1.212261 -0.551733  0.754736  0.106251  \n",
       "2   -1.750256 -0.141240  0.719543 -0.551733 -1.523953 -0.831502  \n",
       "3   -0.584074  0.303453 -0.574578 -0.551733 -1.131075  0.575128  \n",
       "4    0.052026  0.970493 -0.930931 -0.551733 -0.581047 -0.831502  \n",
       "..        ...       ...       ...       ...       ...       ...  \n",
       "912 -0.902124 -1.252973  0.363191 -0.551733 -0.188170  0.293802  \n",
       "913  1.536257  0.636973 -0.968441  1.812470  0.165420  2.356860  \n",
       "914  0.370075 -0.141240 -2.131275 -0.551733 -0.856061  0.293802  \n",
       "915  0.370075 -0.141240 -0.161960 -0.551733  1.461915 -0.831502  \n",
       "916 -1.644239  0.303453 -1.306038 -0.551733  1.422627 -0.831502  \n",
       "\n",
       "[917 rows x 20 columns]"
      ]
     },
     "execution_count": 41,
     "metadata": {},
     "output_type": "execute_result"
    }
   ],
   "source": [
    "previsores3df = pd.DataFrame(previsores3_esc)\n",
    "previsores3df"
   ]
  },
  {
   "cell_type": "code",
   "execution_count": 42,
   "metadata": {
    "id": "e-dcMRS-Fk1N"
   },
   "outputs": [
    {
     "data": {
      "text/html": [
       "<div>\n",
       "<style scoped>\n",
       "    .dataframe tbody tr th:only-of-type {\n",
       "        vertical-align: middle;\n",
       "    }\n",
       "\n",
       "    .dataframe tbody tr th {\n",
       "        vertical-align: top;\n",
       "    }\n",
       "\n",
       "    .dataframe thead th {\n",
       "        text-align: right;\n",
       "    }\n",
       "</style>\n",
       "<table border=\"1\" class=\"dataframe\">\n",
       "  <thead>\n",
       "    <tr style=\"text-align: right;\">\n",
       "      <th></th>\n",
       "      <th>0</th>\n",
       "      <th>1</th>\n",
       "      <th>2</th>\n",
       "      <th>3</th>\n",
       "      <th>4</th>\n",
       "      <th>5</th>\n",
       "      <th>6</th>\n",
       "      <th>7</th>\n",
       "      <th>8</th>\n",
       "      <th>9</th>\n",
       "      <th>10</th>\n",
       "      <th>11</th>\n",
       "      <th>12</th>\n",
       "      <th>13</th>\n",
       "      <th>14</th>\n",
       "      <th>15</th>\n",
       "      <th>16</th>\n",
       "      <th>17</th>\n",
       "      <th>18</th>\n",
       "      <th>19</th>\n",
       "    </tr>\n",
       "  </thead>\n",
       "  <tbody>\n",
       "    <tr>\n",
       "      <th>count</th>\n",
       "      <td>9.170000e+02</td>\n",
       "      <td>9.170000e+02</td>\n",
       "      <td>9.170000e+02</td>\n",
       "      <td>9.170000e+02</td>\n",
       "      <td>9.170000e+02</td>\n",
       "      <td>9.170000e+02</td>\n",
       "      <td>9.170000e+02</td>\n",
       "      <td>9.170000e+02</td>\n",
       "      <td>9.170000e+02</td>\n",
       "      <td>9.170000e+02</td>\n",
       "      <td>9.170000e+02</td>\n",
       "      <td>9.170000e+02</td>\n",
       "      <td>9.170000e+02</td>\n",
       "      <td>9.170000e+02</td>\n",
       "      <td>9.170000e+02</td>\n",
       "      <td>9.170000e+02</td>\n",
       "      <td>9.170000e+02</td>\n",
       "      <td>9.170000e+02</td>\n",
       "      <td>9.170000e+02</td>\n",
       "      <td>9.170000e+02</td>\n",
       "    </tr>\n",
       "    <tr>\n",
       "      <th>mean</th>\n",
       "      <td>-2.985616e-16</td>\n",
       "      <td>2.962613e-16</td>\n",
       "      <td>-8.034286e-16</td>\n",
       "      <td>-8.105718e-16</td>\n",
       "      <td>1.117003e-15</td>\n",
       "      <td>2.330015e-16</td>\n",
       "      <td>-3.319531e-15</td>\n",
       "      <td>-4.690299e-16</td>\n",
       "      <td>-4.492953e-16</td>\n",
       "      <td>8.402342e-17</td>\n",
       "      <td>-8.402342e-17</td>\n",
       "      <td>-1.212649e-15</td>\n",
       "      <td>-4.561963e-16</td>\n",
       "      <td>-9.661483e-17</td>\n",
       "      <td>1.050172e-15</td>\n",
       "      <td>7.537288e-16</td>\n",
       "      <td>3.070850e-15</td>\n",
       "      <td>-9.930261e-16</td>\n",
       "      <td>-4.881591e-16</td>\n",
       "      <td>-1.234926e-17</td>\n",
       "    </tr>\n",
       "    <tr>\n",
       "      <th>std</th>\n",
       "      <td>1.000546e+00</td>\n",
       "      <td>1.000546e+00</td>\n",
       "      <td>1.000546e+00</td>\n",
       "      <td>1.000546e+00</td>\n",
       "      <td>1.000546e+00</td>\n",
       "      <td>1.000546e+00</td>\n",
       "      <td>1.000546e+00</td>\n",
       "      <td>1.000546e+00</td>\n",
       "      <td>1.000546e+00</td>\n",
       "      <td>1.000546e+00</td>\n",
       "      <td>1.000546e+00</td>\n",
       "      <td>1.000546e+00</td>\n",
       "      <td>1.000546e+00</td>\n",
       "      <td>1.000546e+00</td>\n",
       "      <td>1.000546e+00</td>\n",
       "      <td>1.000546e+00</td>\n",
       "      <td>1.000546e+00</td>\n",
       "      <td>1.000546e+00</td>\n",
       "      <td>1.000546e+00</td>\n",
       "      <td>1.000546e+00</td>\n",
       "    </tr>\n",
       "    <tr>\n",
       "      <th>min</th>\n",
       "      <td>-5.163086e-01</td>\n",
       "      <td>-1.936826e+00</td>\n",
       "      <td>-1.085425e+00</td>\n",
       "      <td>-4.822104e-01</td>\n",
       "      <td>-5.315237e-01</td>\n",
       "      <td>-2.298105e-01</td>\n",
       "      <td>-5.078263e-01</td>\n",
       "      <td>-1.226974e+00</td>\n",
       "      <td>-4.907810e-01</td>\n",
       "      <td>-1.213136e+00</td>\n",
       "      <td>-8.243101e-01</td>\n",
       "      <td>-2.716072e-01</td>\n",
       "      <td>-1.001091e+00</td>\n",
       "      <td>-8.698879e-01</td>\n",
       "      <td>-2.704405e+00</td>\n",
       "      <td>-2.920572e+00</td>\n",
       "      <td>-2.994023e+00</td>\n",
       "      <td>-5.517333e-01</td>\n",
       "      <td>-3.016886e+00</td>\n",
       "      <td>-3.269662e+00</td>\n",
       "    </tr>\n",
       "    <tr>\n",
       "      <th>25%</th>\n",
       "      <td>-5.163086e-01</td>\n",
       "      <td>5.163086e-01</td>\n",
       "      <td>-1.085425e+00</td>\n",
       "      <td>-4.822104e-01</td>\n",
       "      <td>-5.315237e-01</td>\n",
       "      <td>-2.298105e-01</td>\n",
       "      <td>-5.078263e-01</td>\n",
       "      <td>-1.226974e+00</td>\n",
       "      <td>-4.907810e-01</td>\n",
       "      <td>-1.213136e+00</td>\n",
       "      <td>-8.243101e-01</td>\n",
       "      <td>-2.716072e-01</td>\n",
       "      <td>-1.001091e+00</td>\n",
       "      <td>-8.698879e-01</td>\n",
       "      <td>-6.900904e-01</td>\n",
       "      <td>-6.971063e-01</td>\n",
       "      <td>-5.745784e-01</td>\n",
       "      <td>-5.517333e-01</td>\n",
       "      <td>-6.596226e-01</td>\n",
       "      <td>-8.315022e-01</td>\n",
       "    </tr>\n",
       "    <tr>\n",
       "      <th>50%</th>\n",
       "      <td>-5.163086e-01</td>\n",
       "      <td>5.163086e-01</td>\n",
       "      <td>9.212982e-01</td>\n",
       "      <td>-4.822104e-01</td>\n",
       "      <td>-5.315237e-01</td>\n",
       "      <td>-2.298105e-01</td>\n",
       "      <td>-5.078263e-01</td>\n",
       "      <td>8.150134e-01</td>\n",
       "      <td>-4.907810e-01</td>\n",
       "      <td>8.243101e-01</td>\n",
       "      <td>-8.243101e-01</td>\n",
       "      <td>-2.716072e-01</td>\n",
       "      <td>9.989101e-01</td>\n",
       "      <td>-8.698879e-01</td>\n",
       "      <td>5.202558e-02</td>\n",
       "      <td>-1.412398e-01</td>\n",
       "      <td>3.198360e-15</td>\n",
       "      <td>-5.517333e-01</td>\n",
       "      <td>4.755658e-02</td>\n",
       "      <td>-2.688500e-01</td>\n",
       "    </tr>\n",
       "    <tr>\n",
       "      <th>75%</th>\n",
       "      <td>-5.163086e-01</td>\n",
       "      <td>5.163086e-01</td>\n",
       "      <td>9.212982e-01</td>\n",
       "      <td>-4.822104e-01</td>\n",
       "      <td>-5.315237e-01</td>\n",
       "      <td>-2.298105e-01</td>\n",
       "      <td>-5.078263e-01</td>\n",
       "      <td>8.150134e-01</td>\n",
       "      <td>-4.907810e-01</td>\n",
       "      <td>8.243101e-01</td>\n",
       "      <td>1.213136e+00</td>\n",
       "      <td>-2.716072e-01</td>\n",
       "      <td>9.989101e-01</td>\n",
       "      <td>1.149573e+00</td>\n",
       "      <td>6.881250e-01</td>\n",
       "      <td>4.146267e-01</td>\n",
       "      <td>4.194568e-01</td>\n",
       "      <td>-5.517333e-01</td>\n",
       "      <td>7.547357e-01</td>\n",
       "      <td>5.751284e-01</td>\n",
       "    </tr>\n",
       "    <tr>\n",
       "      <th>max</th>\n",
       "      <td>1.936826e+00</td>\n",
       "      <td>5.163086e-01</td>\n",
       "      <td>9.212982e-01</td>\n",
       "      <td>2.073784e+00</td>\n",
       "      <td>1.881384e+00</td>\n",
       "      <td>4.351412e+00</td>\n",
       "      <td>1.969177e+00</td>\n",
       "      <td>8.150134e-01</td>\n",
       "      <td>2.037569e+00</td>\n",
       "      <td>8.243101e-01</td>\n",
       "      <td>1.213136e+00</td>\n",
       "      <td>3.681787e+00</td>\n",
       "      <td>9.989101e-01</td>\n",
       "      <td>1.149573e+00</td>\n",
       "      <td>2.490407e+00</td>\n",
       "      <td>3.749826e+00</td>\n",
       "      <td>6.721265e+00</td>\n",
       "      <td>1.812470e+00</td>\n",
       "      <td>2.561971e+00</td>\n",
       "      <td>4.982571e+00</td>\n",
       "    </tr>\n",
       "  </tbody>\n",
       "</table>\n",
       "</div>"
      ],
      "text/plain": [
       "                 0             1             2             3             4   \\\n",
       "count  9.170000e+02  9.170000e+02  9.170000e+02  9.170000e+02  9.170000e+02   \n",
       "mean  -2.985616e-16  2.962613e-16 -8.034286e-16 -8.105718e-16  1.117003e-15   \n",
       "std    1.000546e+00  1.000546e+00  1.000546e+00  1.000546e+00  1.000546e+00   \n",
       "min   -5.163086e-01 -1.936826e+00 -1.085425e+00 -4.822104e-01 -5.315237e-01   \n",
       "25%   -5.163086e-01  5.163086e-01 -1.085425e+00 -4.822104e-01 -5.315237e-01   \n",
       "50%   -5.163086e-01  5.163086e-01  9.212982e-01 -4.822104e-01 -5.315237e-01   \n",
       "75%   -5.163086e-01  5.163086e-01  9.212982e-01 -4.822104e-01 -5.315237e-01   \n",
       "max    1.936826e+00  5.163086e-01  9.212982e-01  2.073784e+00  1.881384e+00   \n",
       "\n",
       "                 5             6             7             8             9   \\\n",
       "count  9.170000e+02  9.170000e+02  9.170000e+02  9.170000e+02  9.170000e+02   \n",
       "mean   2.330015e-16 -3.319531e-15 -4.690299e-16 -4.492953e-16  8.402342e-17   \n",
       "std    1.000546e+00  1.000546e+00  1.000546e+00  1.000546e+00  1.000546e+00   \n",
       "min   -2.298105e-01 -5.078263e-01 -1.226974e+00 -4.907810e-01 -1.213136e+00   \n",
       "25%   -2.298105e-01 -5.078263e-01 -1.226974e+00 -4.907810e-01 -1.213136e+00   \n",
       "50%   -2.298105e-01 -5.078263e-01  8.150134e-01 -4.907810e-01  8.243101e-01   \n",
       "75%   -2.298105e-01 -5.078263e-01  8.150134e-01 -4.907810e-01  8.243101e-01   \n",
       "max    4.351412e+00  1.969177e+00  8.150134e-01  2.037569e+00  8.243101e-01   \n",
       "\n",
       "                 10            11            12            13            14  \\\n",
       "count  9.170000e+02  9.170000e+02  9.170000e+02  9.170000e+02  9.170000e+02   \n",
       "mean  -8.402342e-17 -1.212649e-15 -4.561963e-16 -9.661483e-17  1.050172e-15   \n",
       "std    1.000546e+00  1.000546e+00  1.000546e+00  1.000546e+00  1.000546e+00   \n",
       "min   -8.243101e-01 -2.716072e-01 -1.001091e+00 -8.698879e-01 -2.704405e+00   \n",
       "25%   -8.243101e-01 -2.716072e-01 -1.001091e+00 -8.698879e-01 -6.900904e-01   \n",
       "50%   -8.243101e-01 -2.716072e-01  9.989101e-01 -8.698879e-01  5.202558e-02   \n",
       "75%    1.213136e+00 -2.716072e-01  9.989101e-01  1.149573e+00  6.881250e-01   \n",
       "max    1.213136e+00  3.681787e+00  9.989101e-01  1.149573e+00  2.490407e+00   \n",
       "\n",
       "                 15            16            17            18            19  \n",
       "count  9.170000e+02  9.170000e+02  9.170000e+02  9.170000e+02  9.170000e+02  \n",
       "mean   7.537288e-16  3.070850e-15 -9.930261e-16 -4.881591e-16 -1.234926e-17  \n",
       "std    1.000546e+00  1.000546e+00  1.000546e+00  1.000546e+00  1.000546e+00  \n",
       "min   -2.920572e+00 -2.994023e+00 -5.517333e-01 -3.016886e+00 -3.269662e+00  \n",
       "25%   -6.971063e-01 -5.745784e-01 -5.517333e-01 -6.596226e-01 -8.315022e-01  \n",
       "50%   -1.412398e-01  3.198360e-15 -5.517333e-01  4.755658e-02 -2.688500e-01  \n",
       "75%    4.146267e-01  4.194568e-01 -5.517333e-01  7.547357e-01  5.751284e-01  \n",
       "max    3.749826e+00  6.721265e+00  1.812470e+00  2.561971e+00  4.982571e+00  "
      ]
     },
     "execution_count": 42,
     "metadata": {},
     "output_type": "execute_result"
    }
   ],
   "source": [
    "previsores3df.describe()"
   ]
  },
  {
   "cell_type": "markdown",
   "metadata": {
    "id": "kW700Sj9Fk1O"
   },
   "source": [
    "## <font color='purple'>**RESUMO PRÉ-PROCESSAMENTO**"
   ]
  },
  {
   "cell_type": "markdown",
   "metadata": {
    "id": "k-L1kFumG1pO"
   },
   "source": [
    "alvo = variável que se pretende atingir (tem ou não doença cardíaca).\n",
    "\n",
    "previsores = conjunto de variáveis previsoras com as variáveis categóricas transformadas em numéricas manualmente, sem escalonar.\n",
    "\n",
    "previsores_esc = conjunto de variáveis previsoras com as variáveis categóricas transformadas em numéricas, escalonada.\n",
    "\n",
    "previsores2 = conjunto de variáveis previsoras com as variáveis categóricas transformadas em numéricas pelo labelencoder.\n",
    "\n",
    "previsores3 = conjunto de variáveis previsoras transformadas pelo labelencoder e onehotencoder, sem escalonar.\n",
    "\n",
    "previsores3_esc = conjunto de variáveis previsoras transformadas pelo labelencoder e onehotencoder escalonada."
   ]
  },
  {
   "cell_type": "markdown",
   "metadata": {
    "id": "S3Kl3wySKBEw"
   },
   "source": [
    "## <font color='blue'>**Redução de dimensionalidade**"
   ]
  },
  {
   "cell_type": "markdown",
   "metadata": {
    "id": "w5fLfwjg8xrw"
   },
   "source": [
    "**Objetivo é selecionar os melhores componentes (atributos) para treinamento do algoritmo, através da análise das correlações entre as variáveis.**"
   ]
  },
  {
   "cell_type": "markdown",
   "metadata": {
    "id": "6OurC4GyUoak"
   },
   "source": [
    "### <font color='green'> 1. Análise dos Componentes Principais (PCA)"
   ]
  },
  {
   "cell_type": "markdown",
   "metadata": {
    "id": "iB5XY2Tf9AH5"
   },
   "source": [
    "**Seleção de características:** seleciona os melhores atributos e utiliza sem transformações.\n",
    "\n",
    "**Extração de Características:** Encontra os relacionamentos dos melhores atributos e cria novos atributos.\n",
    "\n",
    "É um algoritmo de aprendizagem não supervisionada.\n",
    "\n",
    "Aplica-se em dados linearmente separáveis."
   ]
  },
  {
   "cell_type": "code",
   "execution_count": 43,
   "metadata": {
    "id": "j2adDUMyX3d2"
   },
   "outputs": [],
   "source": [
    "from sklearn.decomposition import PCA"
   ]
  },
  {
   "cell_type": "code",
   "execution_count": 44,
   "metadata": {
    "id": "ZmpO8urpX8kz"
   },
   "outputs": [],
   "source": [
    "pca = PCA(n_components=3)"
   ]
  },
  {
   "cell_type": "code",
   "execution_count": 45,
   "metadata": {
    "id": "zVHnZ8rYYOeL"
   },
   "outputs": [],
   "source": [
    "previsores_pca = pca.fit_transform(previsores2)"
   ]
  },
  {
   "cell_type": "code",
   "execution_count": 46,
   "metadata": {
    "id": "5Ouz2wdFYkJh"
   },
   "outputs": [
    {
     "data": {
      "text/plain": [
       "(917, 3)"
      ]
     },
     "execution_count": 46,
     "metadata": {},
     "output_type": "execute_result"
    }
   ],
   "source": [
    "previsores_pca.shape"
   ]
  },
  {
   "cell_type": "code",
   "execution_count": 47,
   "metadata": {
    "id": "i06cyMBkYubR"
   },
   "outputs": [
    {
     "data": {
      "text/plain": [
       "array([[  44.01218603,  -36.15137592,   10.64727631],\n",
       "       [ -63.9918455 ,  -13.93849233,   31.69212503],\n",
       "       [  38.53844277,   33.91712222,  -12.48837374],\n",
       "       ...,\n",
       "       [-113.3467467 ,   23.48595247,   -2.51064362],\n",
       "       [  -9.1141306 ,  -35.90083188,    4.81814643],\n",
       "       [ -70.01342608,  -35.68741686,   12.10984845]])"
      ]
     },
     "execution_count": 47,
     "metadata": {},
     "output_type": "execute_result"
    }
   ],
   "source": [
    "# Componentes principais\n",
    "previsores_pca"
   ]
  },
  {
   "cell_type": "code",
   "execution_count": 48,
   "metadata": {
    "id": "hdBAi-piY28x"
   },
   "outputs": [
    {
     "data": {
      "text/plain": [
       "array([0.72847929, 0.17183534, 0.08122019])"
      ]
     },
     "execution_count": 48,
     "metadata": {},
     "output_type": "execute_result"
    }
   ],
   "source": [
    "# razão das variáveis explicativas\n",
    "pca.explained_variance_ratio_"
   ]
  },
  {
   "cell_type": "code",
   "execution_count": 49,
   "metadata": {
    "id": "lBxPFP0VZR1I"
   },
   "outputs": [
    {
     "data": {
      "text/plain": [
       "0.9815348236774052"
      ]
     },
     "execution_count": 49,
     "metadata": {},
     "output_type": "execute_result"
    }
   ],
   "source": [
    "# Soma das variáveis explicativas\n",
    "pca.explained_variance_ratio_.sum()"
   ]
  },
  {
   "cell_type": "markdown",
   "metadata": {
    "id": "2UhdSgBmUtJ6"
   },
   "source": [
    "### <font color='green'> 2. Kernel PCA (É outra técnica)"
   ]
  },
  {
   "cell_type": "markdown",
   "metadata": {
    "id": "1DM-bEoM_JzC"
   },
   "source": [
    "É um algoritmo de aprendizagem não supervisionada.\n",
    "\n",
    "Aplica-se também em dados linearmente não separáveis."
   ]
  },
  {
   "cell_type": "code",
   "execution_count": 50,
   "metadata": {
    "id": "z4ATtNXscFq2"
   },
   "outputs": [],
   "source": [
    "from sklearn.decomposition import KernelPCA"
   ]
  },
  {
   "cell_type": "code",
   "execution_count": 51,
   "metadata": {
    "id": "8kB6ZCIvcNb1"
   },
   "outputs": [],
   "source": [
    "# Gaussian Kernel (RBF)\n",
    "kpca = KernelPCA(n_components=4, kernel='rbf')"
   ]
  },
  {
   "cell_type": "code",
   "execution_count": 52,
   "metadata": {
    "id": "bRAZ06bXPspG"
   },
   "outputs": [],
   "source": [
    "previsores_kernel = kpca.fit_transform(previsores2)"
   ]
  },
  {
   "cell_type": "code",
   "execution_count": 53,
   "metadata": {
    "id": "tswhvRYtdMvr"
   },
   "outputs": [
    {
     "data": {
      "text/plain": [
       "(917, 4)"
      ]
     },
     "execution_count": 53,
     "metadata": {},
     "output_type": "execute_result"
    }
   ],
   "source": [
    "previsores_kernel.shape"
   ]
  },
  {
   "cell_type": "code",
   "execution_count": 54,
   "metadata": {
    "id": "age1iPvsdZg-"
   },
   "outputs": [
    {
     "data": {
      "text/plain": [
       "array([[-0.00249772, -0.00290225, -0.0027372 , -0.00191636],\n",
       "       [-0.00249877, -0.00290359, -0.00273854, -0.00191743],\n",
       "       [-0.00249785, -0.00290241, -0.00273736, -0.00191649],\n",
       "       ...,\n",
       "       [-0.00249774, -0.00290227, -0.00273723, -0.00191638],\n",
       "       [-0.00249793, -0.00290252, -0.00273748, -0.00191659],\n",
       "       [-0.00249772, -0.00290225, -0.0027372 , -0.00191637]])"
      ]
     },
     "execution_count": 54,
     "metadata": {},
     "output_type": "execute_result"
    }
   ],
   "source": [
    "previsores_kernel"
   ]
  },
  {
   "cell_type": "markdown",
   "metadata": {
    "id": "u3jQ6H1S-HtG"
   },
   "source": [
    "### <font color='green'> 3. **Análise do Discriminante Linear (LDA: Linear Discriminant Analysis)**"
   ]
  },
  {
   "cell_type": "markdown",
   "metadata": {
    "id": "NqO1DSAP-7tT"
   },
   "source": [
    "Algoritmo de aprendizagem supervisionada, pois utiliza a classe como referência para seleção.\n",
    "\n",
    "Aplicado em situações com muitos atributos previsores e também com o atributo alvo com muitas classes."
   ]
  },
  {
   "cell_type": "code",
   "execution_count": 55,
   "metadata": {
    "id": "3RRYZemLenmT"
   },
   "outputs": [],
   "source": [
    "# n_components = 1 o número 1 é referido ao númerp de classes da variável alvo (se tem ou não coencia cardiaca)\n",
    "# ou seja dois classes sim, não=1,0 então seriam 2 classes 2-1=1\n",
    "from sklearn.discriminant_analysis import LinearDiscriminantAnalysis\n",
    "lda = LinearDiscriminantAnalysis(n_components = 1)"
   ]
  },
  {
   "cell_type": "code",
   "execution_count": 56,
   "metadata": {
    "id": "onA-GJZafCLU"
   },
   "outputs": [],
   "source": [
    "previsores_lda = lda.fit_transform(previsores2, alvo)"
   ]
  },
  {
   "cell_type": "code",
   "execution_count": 57,
   "metadata": {
    "id": "Y2qtrFLrBVzr"
   },
   "outputs": [
    {
     "data": {
      "text/plain": [
       "array([[ 1.47297727],\n",
       "       [ 1.41360735],\n",
       "       [ 0.96705302],\n",
       "       [-0.53331037],\n",
       "       [ 1.45783427],\n",
       "       [ 1.78559221],\n",
       "       [ 2.28906835],\n",
       "       [ 1.26844095],\n",
       "       [-1.03044735],\n",
       "       [ 1.8033219 ],\n",
       "       [ 2.56103248],\n",
       "       [-1.08833702],\n",
       "       [ 1.4298088 ],\n",
       "       [-1.02172609],\n",
       "       [ 2.51881925],\n",
       "       [ 0.75582909],\n",
       "       [ 0.27447783],\n",
       "       [ 2.33841952],\n",
       "       [-0.50562225],\n",
       "       [-0.03155735],\n",
       "       [ 2.89530718],\n",
       "       [ 0.23402029],\n",
       "       [ 2.26833719],\n",
       "       [-0.97019565],\n",
       "       [ 1.70998121],\n",
       "       [ 2.0730337 ],\n",
       "       [-1.62722174],\n",
       "       [ 0.96486408],\n",
       "       [ 1.52502126],\n",
       "       [ 1.33460621],\n",
       "       [ 0.03948873],\n",
       "       [ 1.44459749],\n",
       "       [-0.63936919],\n",
       "       [-0.34808635],\n",
       "       [ 2.23945383],\n",
       "       [ 1.48957548],\n",
       "       [-2.4746182 ],\n",
       "       [ 2.13691975],\n",
       "       [ 1.54252555],\n",
       "       [-0.30741381],\n",
       "       [ 1.8748176 ],\n",
       "       [ 0.26749988],\n",
       "       [ 1.51713745],\n",
       "       [ 1.79186716],\n",
       "       [-1.00348547],\n",
       "       [-0.64800053],\n",
       "       [ 1.22524435],\n",
       "       [ 1.47829185],\n",
       "       [ 0.77636186],\n",
       "       [ 0.12865852],\n",
       "       [-1.34295208],\n",
       "       [-0.65422291],\n",
       "       [ 0.4557005 ],\n",
       "       [ 2.15691729],\n",
       "       [-0.25536539],\n",
       "       [ 2.26417676],\n",
       "       [-0.86836148],\n",
       "       [ 0.60301353],\n",
       "       [ 0.38277361],\n",
       "       [-1.50907547],\n",
       "       [ 1.50857567],\n",
       "       [ 2.67081271],\n",
       "       [ 0.93385381],\n",
       "       [-1.15581054],\n",
       "       [ 2.12436997],\n",
       "       [ 2.02566299],\n",
       "       [ 1.61128669],\n",
       "       [ 1.7825921 ],\n",
       "       [-2.05082548],\n",
       "       [ 0.83570852],\n",
       "       [-0.70693463],\n",
       "       [ 1.27352923],\n",
       "       [ 0.02482612],\n",
       "       [ 1.55996385],\n",
       "       [-1.31581706],\n",
       "       [ 1.53819264],\n",
       "       [-0.49380729],\n",
       "       [ 1.95231331],\n",
       "       [ 0.67889962],\n",
       "       [ 0.16066905],\n",
       "       [ 1.66499886],\n",
       "       [ 1.30296599],\n",
       "       [-0.45795738],\n",
       "       [ 1.42756451],\n",
       "       [-1.86472923],\n",
       "       [-1.39491241],\n",
       "       [-2.33294249],\n",
       "       [-0.03204149],\n",
       "       [ 1.12661004],\n",
       "       [-1.21970316],\n",
       "       [ 2.2425467 ],\n",
       "       [ 0.8391131 ],\n",
       "       [ 2.10401498],\n",
       "       [-1.65426173],\n",
       "       [ 2.93875944],\n",
       "       [-1.3176681 ],\n",
       "       [ 1.30501623],\n",
       "       [ 1.28599933],\n",
       "       [ 1.04351704],\n",
       "       [ 1.29286266],\n",
       "       [-1.3983015 ],\n",
       "       [ 0.61376488],\n",
       "       [ 0.04322651],\n",
       "       [-1.86713147],\n",
       "       [-0.12667388],\n",
       "       [ 0.42526827],\n",
       "       [ 1.42477203],\n",
       "       [ 1.63348802],\n",
       "       [ 0.96697796],\n",
       "       [ 0.97872716],\n",
       "       [ 0.71472611],\n",
       "       [-1.87337251],\n",
       "       [-0.71098493],\n",
       "       [ 1.30594287],\n",
       "       [ 2.42439448],\n",
       "       [ 0.02367259],\n",
       "       [ 0.15644551],\n",
       "       [-1.30613953],\n",
       "       [ 3.41405246],\n",
       "       [ 1.57442636],\n",
       "       [ 0.96084658],\n",
       "       [ 2.30250912],\n",
       "       [ 0.9303196 ],\n",
       "       [-0.48767217],\n",
       "       [ 1.23390101],\n",
       "       [ 0.9434399 ],\n",
       "       [ 2.67333379],\n",
       "       [ 1.71885403],\n",
       "       [ 1.31052999],\n",
       "       [-0.1651487 ],\n",
       "       [ 1.52484955],\n",
       "       [-0.65120793],\n",
       "       [-1.66167923],\n",
       "       [-1.28137826],\n",
       "       [-0.56657326],\n",
       "       [ 0.87302219],\n",
       "       [ 2.42171127],\n",
       "       [ 1.05416952],\n",
       "       [-0.95858464],\n",
       "       [-1.25165012],\n",
       "       [-1.85556412],\n",
       "       [-1.5570952 ],\n",
       "       [-1.30041712],\n",
       "       [ 0.91367757],\n",
       "       [ 0.81492644],\n",
       "       [ 0.85458961],\n",
       "       [ 1.48952001],\n",
       "       [ 2.37524388],\n",
       "       [ 1.50038603],\n",
       "       [-2.44483595],\n",
       "       [ 1.20312923],\n",
       "       [ 1.08524172],\n",
       "       [ 1.33407261],\n",
       "       [ 0.7573623 ],\n",
       "       [ 1.4166922 ],\n",
       "       [-2.23120635],\n",
       "       [-0.73115764],\n",
       "       [ 0.84762309],\n",
       "       [-1.54218584],\n",
       "       [ 0.98547065],\n",
       "       [-1.86137596],\n",
       "       [-1.14317372],\n",
       "       [ 1.43919738],\n",
       "       [ 1.45331485],\n",
       "       [ 1.99282263],\n",
       "       [ 0.20427491],\n",
       "       [-1.70211104],\n",
       "       [ 1.05246642],\n",
       "       [ 0.47205912],\n",
       "       [ 1.75670659],\n",
       "       [ 1.58128745],\n",
       "       [ 2.05994677],\n",
       "       [ 1.22032442],\n",
       "       [ 1.92453514],\n",
       "       [-1.32446452],\n",
       "       [-1.26569907],\n",
       "       [-0.69086695],\n",
       "       [ 1.12114124],\n",
       "       [ 1.86679774],\n",
       "       [ 1.27290952],\n",
       "       [-1.35716728],\n",
       "       [ 1.31042056],\n",
       "       [-1.62385683],\n",
       "       [-0.93631205],\n",
       "       [ 1.73165747],\n",
       "       [-0.48765751],\n",
       "       [ 0.88511655],\n",
       "       [-1.62097012],\n",
       "       [-0.60933153],\n",
       "       [-1.40838981],\n",
       "       [ 0.6241705 ],\n",
       "       [ 1.05454657],\n",
       "       [ 1.38434072],\n",
       "       [ 1.47224495],\n",
       "       [ 2.49687918],\n",
       "       [ 2.48419036],\n",
       "       [-0.44778238],\n",
       "       [ 1.19164147],\n",
       "       [-1.06848936],\n",
       "       [ 1.08627342],\n",
       "       [ 2.08200743],\n",
       "       [ 1.73528777],\n",
       "       [ 1.82633959],\n",
       "       [ 2.35721403],\n",
       "       [ 0.93253202],\n",
       "       [ 0.14330776],\n",
       "       [ 1.550762  ],\n",
       "       [ 0.3753301 ],\n",
       "       [ 1.92633663],\n",
       "       [-0.13349137],\n",
       "       [-1.04405064],\n",
       "       [ 0.59160027],\n",
       "       [ 0.49155109],\n",
       "       [ 2.56681625],\n",
       "       [-1.42069008],\n",
       "       [ 3.16014054],\n",
       "       [ 0.00455886],\n",
       "       [ 1.57713237],\n",
       "       [ 1.30484654],\n",
       "       [ 1.60395028],\n",
       "       [-0.29328685],\n",
       "       [-0.31205856],\n",
       "       [ 2.35955308],\n",
       "       [ 2.02670304],\n",
       "       [ 0.45131542],\n",
       "       [-0.11734055],\n",
       "       [ 1.6455011 ],\n",
       "       [-0.98223348],\n",
       "       [ 1.46223644],\n",
       "       [ 2.23048631],\n",
       "       [ 0.98729539],\n",
       "       [ 1.83301464],\n",
       "       [ 1.98424435],\n",
       "       [ 0.94861876],\n",
       "       [ 1.86629516],\n",
       "       [-0.31541967],\n",
       "       [-1.60871922],\n",
       "       [ 0.80471512],\n",
       "       [-1.72846954],\n",
       "       [-1.62149828],\n",
       "       [ 1.1304052 ],\n",
       "       [-1.24436421],\n",
       "       [-1.65274078],\n",
       "       [ 1.86413969],\n",
       "       [-1.38226014],\n",
       "       [ 1.67398489],\n",
       "       [-0.31003073],\n",
       "       [-2.78593696],\n",
       "       [-0.99935619],\n",
       "       [-1.33828415],\n",
       "       [-0.52894479],\n",
       "       [-0.68866632],\n",
       "       [-0.22487709],\n",
       "       [ 0.95817247],\n",
       "       [-1.62987478],\n",
       "       [ 2.22487019],\n",
       "       [ 1.75802244],\n",
       "       [ 2.07990393],\n",
       "       [ 2.1594062 ],\n",
       "       [ 1.95224582],\n",
       "       [ 0.66930706],\n",
       "       [ 1.8128839 ],\n",
       "       [-0.98546405],\n",
       "       [-0.16168507],\n",
       "       [-0.14853301],\n",
       "       [ 1.31301352],\n",
       "       [-1.3770381 ],\n",
       "       [ 1.51803096],\n",
       "       [-1.4563745 ],\n",
       "       [ 1.11876647],\n",
       "       [ 0.92490573],\n",
       "       [ 2.46651771],\n",
       "       [-1.45639102],\n",
       "       [ 1.5122684 ],\n",
       "       [ 2.21473145],\n",
       "       [ 1.17162839],\n",
       "       [ 0.44931342],\n",
       "       [-1.26722129],\n",
       "       [-0.59107024],\n",
       "       [ 2.08610147],\n",
       "       [ 1.43078248],\n",
       "       [-0.61858106],\n",
       "       [ 1.48987542],\n",
       "       [ 1.99465406],\n",
       "       [ 0.95323414],\n",
       "       [ 2.31154558],\n",
       "       [ 0.85639019],\n",
       "       [ 1.23027055],\n",
       "       [ 1.70856544],\n",
       "       [ 1.79504883],\n",
       "       [ 1.66405711],\n",
       "       [ 1.77445463],\n",
       "       [ 0.96810702],\n",
       "       [-1.35624968],\n",
       "       [ 1.26699755],\n",
       "       [-1.13404434],\n",
       "       [-1.68887454],\n",
       "       [-0.89192537],\n",
       "       [-1.19006114],\n",
       "       [-0.06388196],\n",
       "       [-0.95760723],\n",
       "       [ 1.21884641],\n",
       "       [-0.28940391],\n",
       "       [-2.24447341],\n",
       "       [-1.29036475],\n",
       "       [-0.13814178],\n",
       "       [-0.75544498],\n",
       "       [-1.03554626],\n",
       "       [-0.00765534],\n",
       "       [-1.62368595],\n",
       "       [ 0.5946977 ],\n",
       "       [-0.18926704],\n",
       "       [ 0.24907235],\n",
       "       [ 0.40058775],\n",
       "       [-2.15288514],\n",
       "       [-0.05416492],\n",
       "       [-0.1036372 ],\n",
       "       [-1.09454096],\n",
       "       [-1.86710518],\n",
       "       [-0.38359443],\n",
       "       [-0.33808944],\n",
       "       [-1.00068387],\n",
       "       [ 0.79683041],\n",
       "       [-3.1508434 ],\n",
       "       [-0.32359031],\n",
       "       [-2.2450472 ],\n",
       "       [ 1.65653801],\n",
       "       [-0.96279735],\n",
       "       [-2.11431285],\n",
       "       [-2.86135322],\n",
       "       [ 0.42807523],\n",
       "       [-0.1395382 ],\n",
       "       [ 2.23427119],\n",
       "       [ 0.35057846],\n",
       "       [ 0.50406329],\n",
       "       [ 0.26098473],\n",
       "       [-0.15728719],\n",
       "       [-0.50679805],\n",
       "       [-0.28929007],\n",
       "       [-1.26798669],\n",
       "       [-2.10919353],\n",
       "       [-3.06350319],\n",
       "       [-1.36605469],\n",
       "       [-1.00314274],\n",
       "       [-1.10758215],\n",
       "       [-0.41357299],\n",
       "       [-0.41803771],\n",
       "       [-0.88372537],\n",
       "       [-1.58852733],\n",
       "       [-1.67572817],\n",
       "       [-1.00061797],\n",
       "       [ 0.11400685],\n",
       "       [-1.99928015],\n",
       "       [-1.40104225],\n",
       "       [ 0.39382639],\n",
       "       [ 0.65089248],\n",
       "       [-1.2804095 ],\n",
       "       [-0.14371283],\n",
       "       [-0.07314985],\n",
       "       [ 0.40659027],\n",
       "       [-0.79831036],\n",
       "       [-0.99424132],\n",
       "       [ 0.2182558 ],\n",
       "       [-0.1024341 ],\n",
       "       [ 0.21792997],\n",
       "       [-0.47020931],\n",
       "       [-1.52241832],\n",
       "       [-0.18877912],\n",
       "       [-1.44844604],\n",
       "       [-1.78583376],\n",
       "       [-0.67614963],\n",
       "       [-1.64114833],\n",
       "       [-0.40163824],\n",
       "       [-1.32530632],\n",
       "       [-2.2162147 ],\n",
       "       [ 1.9881817 ],\n",
       "       [-0.46197067],\n",
       "       [-1.33181571],\n",
       "       [-1.96051671],\n",
       "       [ 0.28514746],\n",
       "       [-1.37649259],\n",
       "       [-1.08787029],\n",
       "       [-1.08736303],\n",
       "       [ 0.90238368],\n",
       "       [-0.05501476],\n",
       "       [-1.26574074],\n",
       "       [-1.12531647],\n",
       "       [-1.13115354],\n",
       "       [-0.65613811],\n",
       "       [-1.07719685],\n",
       "       [-0.79914271],\n",
       "       [-1.38507027],\n",
       "       [-0.47611231],\n",
       "       [-1.72991047],\n",
       "       [-2.32533712],\n",
       "       [-0.63891572],\n",
       "       [ 0.97855747],\n",
       "       [-1.91371281],\n",
       "       [-0.93813356],\n",
       "       [-0.79181952],\n",
       "       [-0.3146305 ],\n",
       "       [-0.62785746],\n",
       "       [-1.65929899],\n",
       "       [-2.01090329],\n",
       "       [-0.89555129],\n",
       "       [-1.67397512],\n",
       "       [-1.93416166],\n",
       "       [-2.0845939 ],\n",
       "       [-1.25079031],\n",
       "       [-1.02445415],\n",
       "       [-1.77828134],\n",
       "       [-1.10971477],\n",
       "       [-2.05845141],\n",
       "       [-0.1083399 ],\n",
       "       [-2.34145158],\n",
       "       [-0.61917586],\n",
       "       [-1.74217189],\n",
       "       [ 0.87237704],\n",
       "       [-2.13328918],\n",
       "       [-0.25687311],\n",
       "       [-1.44730953],\n",
       "       [ 1.39893279],\n",
       "       [-1.94266616],\n",
       "       [-0.50405737],\n",
       "       [-0.23699838],\n",
       "       [-0.54644327],\n",
       "       [ 1.30822157],\n",
       "       [-1.28872242],\n",
       "       [-1.19656229],\n",
       "       [-0.59946667],\n",
       "       [-1.69015361],\n",
       "       [ 0.37168032],\n",
       "       [-2.78615351],\n",
       "       [-1.25380876],\n",
       "       [-1.64138711],\n",
       "       [-0.14859618],\n",
       "       [ 0.47234942],\n",
       "       [-1.54049408],\n",
       "       [-0.43741118],\n",
       "       [ 1.11936529],\n",
       "       [ 1.38127202],\n",
       "       [-1.24351547],\n",
       "       [-1.84915996],\n",
       "       [-1.60276065],\n",
       "       [-1.09570752],\n",
       "       [-0.52013034],\n",
       "       [-1.29907866],\n",
       "       [-0.57387893],\n",
       "       [-2.12852626],\n",
       "       [-1.68924668],\n",
       "       [-1.301961  ],\n",
       "       [-1.43634145],\n",
       "       [-0.36982331],\n",
       "       [-1.90183175],\n",
       "       [-0.30243865],\n",
       "       [-0.67736167],\n",
       "       [-0.52774593],\n",
       "       [-1.59852847],\n",
       "       [ 0.74943586],\n",
       "       [-2.14965361],\n",
       "       [-1.43343158],\n",
       "       [-2.3086103 ],\n",
       "       [ 0.56642915],\n",
       "       [-1.62520535],\n",
       "       [ 1.81943187],\n",
       "       [-0.67756253],\n",
       "       [ 1.7695649 ],\n",
       "       [-0.46772558],\n",
       "       [-0.65473094],\n",
       "       [-0.43884558],\n",
       "       [-1.64801971],\n",
       "       [-1.83418625],\n",
       "       [-1.42731733],\n",
       "       [ 0.99588277],\n",
       "       [-1.86846878],\n",
       "       [ 0.13256577],\n",
       "       [-3.20503685],\n",
       "       [-1.9742736 ],\n",
       "       [-0.81704689],\n",
       "       [-1.82467517],\n",
       "       [-1.83727559],\n",
       "       [ 0.50312585],\n",
       "       [-2.46390553],\n",
       "       [-1.42266861],\n",
       "       [-1.53480843],\n",
       "       [ 0.82601248],\n",
       "       [-1.18348035],\n",
       "       [ 1.6979588 ],\n",
       "       [-1.39356202],\n",
       "       [-0.73581795],\n",
       "       [-1.27254184],\n",
       "       [ 0.52560067],\n",
       "       [-0.68131048],\n",
       "       [-1.60038916],\n",
       "       [-0.4502456 ],\n",
       "       [-2.96219487],\n",
       "       [-2.42379023],\n",
       "       [-2.01343704],\n",
       "       [-1.3194868 ],\n",
       "       [-2.69980309],\n",
       "       [-1.45316611],\n",
       "       [-1.32014624],\n",
       "       [ 0.14646919],\n",
       "       [-3.36134718],\n",
       "       [-1.10124266],\n",
       "       [-1.8229923 ],\n",
       "       [ 0.52844355],\n",
       "       [-2.14218391],\n",
       "       [-0.3612475 ],\n",
       "       [ 0.64709104],\n",
       "       [-2.47039177],\n",
       "       [ 2.01519925],\n",
       "       [ 0.02613638],\n",
       "       [ 0.66480555],\n",
       "       [-0.54396616],\n",
       "       [-0.25725793],\n",
       "       [-1.43380959],\n",
       "       [-2.10369212],\n",
       "       [-0.35806895],\n",
       "       [-0.40184572],\n",
       "       [-2.70910426],\n",
       "       [-0.42373062],\n",
       "       [-1.16096418],\n",
       "       [ 1.00260561],\n",
       "       [ 1.65832757],\n",
       "       [-1.66679303],\n",
       "       [ 0.93872855],\n",
       "       [-0.30491454],\n",
       "       [-1.52303744],\n",
       "       [-1.10937883],\n",
       "       [-2.27385138],\n",
       "       [-1.0361609 ],\n",
       "       [-1.29685312],\n",
       "       [-2.36355103],\n",
       "       [-1.26228272],\n",
       "       [-1.2585278 ],\n",
       "       [-3.55004738],\n",
       "       [-2.08191829],\n",
       "       [ 0.52493097],\n",
       "       [-0.49662546],\n",
       "       [-1.18452289],\n",
       "       [-0.71022701],\n",
       "       [-2.58338502],\n",
       "       [ 0.23960695],\n",
       "       [ 0.7904523 ],\n",
       "       [ 0.17903891],\n",
       "       [-1.28351519],\n",
       "       [ 0.4128116 ],\n",
       "       [ 1.149053  ],\n",
       "       [-1.14941993],\n",
       "       [ 1.0670796 ],\n",
       "       [-0.85966694],\n",
       "       [-1.12330776],\n",
       "       [ 1.0876075 ],\n",
       "       [-0.31763678],\n",
       "       [-3.47228584],\n",
       "       [-1.22916584],\n",
       "       [-0.52129229],\n",
       "       [-3.02724212],\n",
       "       [ 1.57554087],\n",
       "       [ 1.28483531],\n",
       "       [-1.24657264],\n",
       "       [-1.8054684 ],\n",
       "       [-1.83109196],\n",
       "       [-1.52345993],\n",
       "       [-1.03899448],\n",
       "       [-1.19373062],\n",
       "       [-2.31252409],\n",
       "       [-1.573519  ],\n",
       "       [-2.3515015 ],\n",
       "       [-2.02619492],\n",
       "       [-1.03641919],\n",
       "       [-1.24768979],\n",
       "       [-2.13795128],\n",
       "       [-1.98655531],\n",
       "       [-1.52449686],\n",
       "       [-1.81134466],\n",
       "       [-2.54433382],\n",
       "       [-2.33630302],\n",
       "       [-1.68391717],\n",
       "       [ 0.07200154],\n",
       "       [-2.13432193],\n",
       "       [ 1.1545702 ],\n",
       "       [-2.11176255],\n",
       "       [-0.91496576],\n",
       "       [-1.37248845],\n",
       "       [ 0.74280147],\n",
       "       [-1.46045437],\n",
       "       [-0.6691308 ],\n",
       "       [ 1.14051808],\n",
       "       [ 0.63441664],\n",
       "       [-3.06533191],\n",
       "       [-1.08730252],\n",
       "       [-1.10541382],\n",
       "       [-1.65649281],\n",
       "       [-0.5773584 ],\n",
       "       [ 1.58687157],\n",
       "       [-2.27506925],\n",
       "       [-1.41163617],\n",
       "       [-1.36284382],\n",
       "       [-0.65390639],\n",
       "       [-0.68315574],\n",
       "       [-2.68952107],\n",
       "       [ 0.08466893],\n",
       "       [ 0.37791689],\n",
       "       [-2.45806342],\n",
       "       [-2.00516362],\n",
       "       [-0.87874892],\n",
       "       [-0.32846032],\n",
       "       [-0.0806349 ],\n",
       "       [ 1.97350112],\n",
       "       [-1.11831654],\n",
       "       [-0.27762136],\n",
       "       [-1.0008783 ],\n",
       "       [-1.15460179],\n",
       "       [ 0.58136427],\n",
       "       [ 1.07755132],\n",
       "       [-1.33231469],\n",
       "       [ 0.81107814],\n",
       "       [ 0.7401585 ],\n",
       "       [-0.98281019],\n",
       "       [-1.13530236],\n",
       "       [-0.3332688 ],\n",
       "       [-0.38963788],\n",
       "       [-0.14447789],\n",
       "       [-0.14868847],\n",
       "       [ 1.93179234],\n",
       "       [ 0.46641398],\n",
       "       [ 1.58313548],\n",
       "       [ 0.21202799],\n",
       "       [-1.41422951],\n",
       "       [-2.94792208],\n",
       "       [-0.10426638],\n",
       "       [ 1.45386495],\n",
       "       [-1.55620898],\n",
       "       [ 0.49926973],\n",
       "       [-0.04294646],\n",
       "       [ 0.95509893],\n",
       "       [ 0.61265937],\n",
       "       [ 2.29479146],\n",
       "       [ 0.02276089],\n",
       "       [ 2.29095735],\n",
       "       [ 0.30181952],\n",
       "       [ 1.37302395],\n",
       "       [ 0.54424005],\n",
       "       [ 0.22442409],\n",
       "       [ 2.78737633],\n",
       "       [-2.72970162],\n",
       "       [-1.10140375],\n",
       "       [-0.5063465 ],\n",
       "       [-0.31329962],\n",
       "       [ 1.64460263],\n",
       "       [ 1.84136999],\n",
       "       [ 1.23423329],\n",
       "       [ 1.26033075],\n",
       "       [ 1.74880707],\n",
       "       [ 1.18229415],\n",
       "       [ 0.80436748],\n",
       "       [-0.54957092],\n",
       "       [ 1.03874187],\n",
       "       [ 1.48200374],\n",
       "       [ 1.25601938],\n",
       "       [-0.83504232],\n",
       "       [ 0.09380739],\n",
       "       [-1.33814187],\n",
       "       [ 0.92223168],\n",
       "       [ 1.22344097],\n",
       "       [ 2.24293909],\n",
       "       [ 1.22033797],\n",
       "       [ 2.40410771],\n",
       "       [-1.62703599],\n",
       "       [ 1.36411001],\n",
       "       [-0.19869353],\n",
       "       [-0.49758419],\n",
       "       [ 1.22687176],\n",
       "       [-0.37716501],\n",
       "       [ 1.91053206],\n",
       "       [ 2.71563484],\n",
       "       [-1.15922115],\n",
       "       [-1.3547069 ],\n",
       "       [ 0.40793628],\n",
       "       [ 1.17838292],\n",
       "       [ 1.48084206],\n",
       "       [ 1.73521054],\n",
       "       [-1.6104645 ],\n",
       "       [ 0.75077928],\n",
       "       [ 0.98173637],\n",
       "       [ 0.84653896],\n",
       "       [ 1.48220199],\n",
       "       [-0.90186502],\n",
       "       [-1.21347664],\n",
       "       [ 2.89617668],\n",
       "       [ 1.79211311],\n",
       "       [ 1.3356734 ],\n",
       "       [-0.82737115],\n",
       "       [-0.99032875],\n",
       "       [-0.41699303],\n",
       "       [ 0.57963328],\n",
       "       [-1.20734519],\n",
       "       [ 2.1451677 ],\n",
       "       [ 0.44821933],\n",
       "       [-0.91373591],\n",
       "       [ 2.16669077],\n",
       "       [-0.74666642],\n",
       "       [ 0.62344748],\n",
       "       [ 1.57811889],\n",
       "       [-1.58325016],\n",
       "       [-1.09193541],\n",
       "       [ 0.9177444 ],\n",
       "       [-1.23211784],\n",
       "       [-0.39008135],\n",
       "       [ 0.91891988],\n",
       "       [ 2.02170125],\n",
       "       [ 1.98593211],\n",
       "       [ 1.8065775 ],\n",
       "       [-1.00468248],\n",
       "       [ 1.76994383],\n",
       "       [-1.33513105],\n",
       "       [-0.50390027],\n",
       "       [-0.07741209],\n",
       "       [-0.23567449],\n",
       "       [ 0.14672819],\n",
       "       [ 0.30345337],\n",
       "       [ 1.20104262],\n",
       "       [-1.06751756],\n",
       "       [ 1.43626325],\n",
       "       [ 1.53075756],\n",
       "       [ 1.78509281],\n",
       "       [ 1.38963185],\n",
       "       [ 1.14790879],\n",
       "       [ 0.74113988],\n",
       "       [-2.73196784],\n",
       "       [-0.02847217],\n",
       "       [-3.23874677],\n",
       "       [ 0.35512335],\n",
       "       [-1.73326062],\n",
       "       [-1.62156389],\n",
       "       [ 1.92244877],\n",
       "       [-0.47627315],\n",
       "       [ 2.54370655],\n",
       "       [-1.6381938 ],\n",
       "       [ 1.62199313],\n",
       "       [ 1.25533589],\n",
       "       [-0.70400916],\n",
       "       [-0.30036755],\n",
       "       [-0.06642152],\n",
       "       [ 1.22727483],\n",
       "       [-2.7251934 ],\n",
       "       [ 1.42968888],\n",
       "       [-0.29095888],\n",
       "       [ 2.37851954],\n",
       "       [-1.80432131],\n",
       "       [ 2.50233817],\n",
       "       [ 0.33157325],\n",
       "       [-0.68803407],\n",
       "       [ 0.99987545],\n",
       "       [ 0.68445897],\n",
       "       [ 0.89991351],\n",
       "       [ 1.44024675],\n",
       "       [-1.64639125],\n",
       "       [ 1.01726181],\n",
       "       [-1.19969785],\n",
       "       [ 1.20803571],\n",
       "       [ 1.94945798],\n",
       "       [ 1.98932565],\n",
       "       [ 1.30043812],\n",
       "       [ 2.50571079],\n",
       "       [-0.08285144],\n",
       "       [ 2.29573024],\n",
       "       [ 2.37823233],\n",
       "       [-3.06899875],\n",
       "       [ 1.3666765 ],\n",
       "       [ 0.82671364],\n",
       "       [-0.9184909 ],\n",
       "       [ 0.07535019],\n",
       "       [-0.34956372],\n",
       "       [ 1.25083598],\n",
       "       [-1.59014858],\n",
       "       [ 1.14398153],\n",
       "       [ 0.69213888],\n",
       "       [ 1.75014385],\n",
       "       [-1.15355634],\n",
       "       [ 0.00838713],\n",
       "       [ 0.07966998],\n",
       "       [-0.01898824],\n",
       "       [ 0.06252445],\n",
       "       [-1.37689494],\n",
       "       [ 0.79296142],\n",
       "       [ 2.46599596],\n",
       "       [-0.84688598],\n",
       "       [-1.84698599],\n",
       "       [ 0.06086432],\n",
       "       [-0.85175381],\n",
       "       [ 1.84295857],\n",
       "       [-0.67693841],\n",
       "       [-0.68280366],\n",
       "       [ 1.17493682],\n",
       "       [ 0.44108234],\n",
       "       [ 1.10573122],\n",
       "       [ 1.37690055],\n",
       "       [-1.4949269 ],\n",
       "       [ 0.21794342],\n",
       "       [ 0.16817031],\n",
       "       [-1.10783138],\n",
       "       [ 0.73916671],\n",
       "       [-2.51253683],\n",
       "       [ 1.21973905],\n",
       "       [ 0.30785644],\n",
       "       [ 1.18902982],\n",
       "       [ 0.84228414],\n",
       "       [ 0.24744491],\n",
       "       [ 1.28227147],\n",
       "       [ 2.32760056],\n",
       "       [-0.08039122],\n",
       "       [ 1.28448873],\n",
       "       [ 0.89210846],\n",
       "       [-1.48223796],\n",
       "       [-0.0093788 ],\n",
       "       [-1.14352094],\n",
       "       [ 0.25498238],\n",
       "       [ 2.34577635],\n",
       "       [-0.17222734],\n",
       "       [-0.72919003],\n",
       "       [-0.50719338],\n",
       "       [ 0.86066056],\n",
       "       [-0.32484783],\n",
       "       [ 1.67557319],\n",
       "       [-1.37303714],\n",
       "       [ 1.93565301],\n",
       "       [ 2.12308764],\n",
       "       [ 2.45040633],\n",
       "       [ 1.04170395],\n",
       "       [ 0.51259589],\n",
       "       [ 1.55343755],\n",
       "       [-1.46771077],\n",
       "       [-0.93254394],\n",
       "       [ 1.60109671],\n",
       "       [-1.2260175 ],\n",
       "       [ 1.93545863],\n",
       "       [ 0.31102129],\n",
       "       [ 0.69282769],\n",
       "       [-1.4302537 ],\n",
       "       [ 1.87132154],\n",
       "       [ 1.43289725],\n",
       "       [-0.45432364],\n",
       "       [-0.19715333],\n",
       "       [ 1.20275518],\n",
       "       [ 0.25232469],\n",
       "       [ 0.24029426],\n",
       "       [-1.44171531],\n",
       "       [ 1.72746895],\n",
       "       [-1.29698041],\n",
       "       [ 1.68122955],\n",
       "       [ 1.28974531],\n",
       "       [-1.29932564],\n",
       "       [ 1.85789146],\n",
       "       [ 0.5042792 ],\n",
       "       [-1.00896199],\n",
       "       [ 1.96973984],\n",
       "       [-0.2032225 ],\n",
       "       [ 0.7186107 ],\n",
       "       [ 2.0771769 ],\n",
       "       [ 0.15417225],\n",
       "       [-1.53689274],\n",
       "       [-0.54133242],\n",
       "       [ 1.65793142],\n",
       "       [ 0.91581493],\n",
       "       [ 1.46933905],\n",
       "       [ 0.6983248 ],\n",
       "       [ 1.76702569],\n",
       "       [-1.11679298],\n",
       "       [-1.35780969],\n",
       "       [ 1.43421774],\n",
       "       [ 0.85346494],\n",
       "       [ 2.40254279],\n",
       "       [-1.40583604],\n",
       "       [-0.0851993 ],\n",
       "       [ 1.32252353],\n",
       "       [-0.63986776],\n",
       "       [ 0.99202986],\n",
       "       [ 1.50834481],\n",
       "       [ 0.71086621],\n",
       "       [-0.14914618],\n",
       "       [-1.66797091],\n",
       "       [ 2.16283999],\n",
       "       [ 1.8170826 ],\n",
       "       [-1.49998533],\n",
       "       [-1.54121585],\n",
       "       [ 1.96426485],\n",
       "       [ 0.80859047],\n",
       "       [ 1.22857051],\n",
       "       [ 1.61597014],\n",
       "       [ 1.29471864],\n",
       "       [ 0.4607469 ],\n",
       "       [-1.55100431],\n",
       "       [ 1.90540791],\n",
       "       [-0.4613423 ],\n",
       "       [ 1.71335028],\n",
       "       [ 0.93873984],\n",
       "       [-2.04804177],\n",
       "       [-1.32024901],\n",
       "       [ 0.15770864],\n",
       "       [ 1.34298905],\n",
       "       [-0.5625252 ],\n",
       "       [ 0.37654647],\n",
       "       [ 1.78093261],\n",
       "       [-2.11113324],\n",
       "       [-0.62197504],\n",
       "       [-0.14855117],\n",
       "       [ 1.77738959],\n",
       "       [-1.44035262],\n",
       "       [-0.31842344],\n",
       "       [ 0.74387089],\n",
       "       [-1.52212946],\n",
       "       [-1.1536229 ],\n",
       "       [ 1.19989839],\n",
       "       [ 2.0591881 ]])"
      ]
     },
     "execution_count": 57,
     "metadata": {},
     "output_type": "execute_result"
    }
   ],
   "source": [
    "previsores_lda"
   ]
  },
  {
   "cell_type": "code",
   "execution_count": 58,
   "metadata": {
    "id": "g5l0JnpGBfn7"
   },
   "outputs": [
    {
     "data": {
      "text/plain": [
       "array([1.])"
      ]
     },
     "execution_count": 58,
     "metadata": {},
     "output_type": "execute_result"
    }
   ],
   "source": [
    "lda.explained_variance_ratio_"
   ]
  },
  {
   "cell_type": "markdown",
   "metadata": {},
   "source": [
    "<font color='red'> **No nosso estudo não aplicaremos estas tecnicas por que temos poucas colunas  no caso de muitas é provável usar**"
   ]
  },
  {
   "cell_type": "markdown",
   "metadata": {
    "id": "Caf7XRsO4BYE"
   },
   "source": [
    "## <font color='purple'>**Salvando as variáveis (atributos)**"
   ]
  },
  {
   "cell_type": "code",
   "execution_count": 59,
   "metadata": {
    "id": "Vn6R_DKHhG0u"
   },
   "outputs": [],
   "source": [
    "import pickle"
   ]
  },
  {
   "cell_type": "code",
   "execution_count": 60,
   "metadata": {
    "id": "DuPE27wl-vBw"
   },
   "outputs": [],
   "source": [
    "# Criando arquivo\n",
    "arq1 = open('heart.pkl', 'wb')"
   ]
  },
  {
   "cell_type": "code",
   "execution_count": 61,
   "metadata": {
    "id": "jTvKGTxnHien"
   },
   "outputs": [],
   "source": [
    "# Salvando a variável no arquivo\n",
    "pickle.dump(alvo, arq1)"
   ]
  },
  {
   "cell_type": "code",
   "execution_count": 62,
   "metadata": {
    "id": "sle5bDZZIJjt"
   },
   "outputs": [],
   "source": [
    "# Fechando arquivo\n",
    "arq1.close()"
   ]
  },
  {
   "cell_type": "code",
   "execution_count": 63,
   "metadata": {
    "id": "5-HNb-3IISWs"
   },
   "outputs": [],
   "source": [
    "# Lendo arquivo\n",
    "arq1 = open('heart.pkl', 'rb')"
   ]
  },
  {
   "cell_type": "code",
   "execution_count": 64,
   "metadata": {
    "id": "poLMbNNvIjlz"
   },
   "outputs": [],
   "source": [
    "# Chamando a variável\n",
    "alvo = pickle.load(arq1)"
   ]
  },
  {
   "cell_type": "code",
   "execution_count": 65,
   "metadata": {
    "id": "MZHEQpHeKzK_"
   },
   "outputs": [
    {
     "data": {
      "text/plain": [
       "array([0, 1, 0, 1, 0, 0, 0, 0, 1, 0, 0, 1, 0, 1, 0, 0, 1, 0, 1, 1, 0, 0,\n",
       "       0, 1, 0, 0, 0, 0, 0, 0, 1, 0, 1, 1, 0, 0, 1, 0, 0, 0, 0, 1, 0, 0,\n",
       "       1, 0, 0, 0, 0, 1, 1, 1, 0, 0, 0, 0, 1, 1, 0, 1, 0, 0, 0, 1, 0, 0,\n",
       "       0, 0, 1, 0, 1, 0, 1, 0, 1, 0, 1, 0, 0, 1, 0, 0, 1, 0, 1, 1, 1, 0,\n",
       "       1, 0, 0, 0, 0, 1, 0, 1, 0, 0, 0, 0, 1, 0, 1, 1, 1, 0, 0, 0, 0, 0,\n",
       "       0, 1, 0, 0, 0, 1, 1, 1, 0, 1, 1, 0, 0, 1, 0, 0, 0, 0, 0, 0, 0, 1,\n",
       "       1, 1, 0, 1, 0, 0, 1, 1, 1, 1, 1, 0, 1, 0, 0, 0, 0, 1, 0, 0, 0, 0,\n",
       "       0, 1, 1, 0, 1, 0, 1, 1, 0, 0, 0, 1, 1, 0, 0, 0, 0, 0, 0, 0, 1, 1,\n",
       "       1, 0, 0, 0, 1, 0, 1, 0, 0, 1, 0, 1, 0, 1, 0, 0, 0, 0, 0, 0, 0, 0,\n",
       "       1, 0, 0, 0, 0, 0, 0, 0, 0, 1, 0, 1, 1, 1, 0, 0, 1, 0, 1, 0, 0, 0,\n",
       "       1, 1, 0, 0, 0, 1, 0, 1, 0, 0, 0, 0, 0, 0, 0, 0, 1, 1, 1, 1, 0, 1,\n",
       "       1, 0, 1, 0, 1, 1, 1, 1, 1, 1, 0, 0, 1, 0, 0, 0, 0, 0, 0, 0, 1, 1,\n",
       "       1, 0, 1, 0, 1, 0, 0, 0, 1, 0, 0, 0, 1, 1, 0, 0, 0, 1, 0, 0, 0, 0,\n",
       "       0, 0, 0, 0, 0, 0, 0, 1, 1, 1, 1, 1, 1, 1, 1, 0, 1, 1, 1, 1, 1, 0,\n",
       "       1, 1, 0, 1, 1, 1, 0, 1, 1, 1, 1, 1, 1, 1, 1, 1, 1, 1, 0, 1, 1, 1,\n",
       "       1, 1, 0, 1, 1, 1, 0, 1, 1, 1, 1, 1, 1, 1, 1, 1, 1, 1, 1, 1, 1, 1,\n",
       "       1, 1, 1, 1, 1, 1, 1, 1, 1, 1, 1, 1, 0, 1, 1, 1, 1, 1, 1, 1, 1, 1,\n",
       "       1, 1, 1, 1, 1, 1, 1, 1, 1, 1, 1, 1, 1, 1, 1, 1, 1, 1, 1, 1, 1, 1,\n",
       "       1, 1, 1, 1, 1, 1, 1, 1, 1, 1, 1, 1, 1, 1, 1, 1, 1, 1, 1, 1, 1, 0,\n",
       "       1, 1, 0, 0, 1, 0, 1, 1, 0, 1, 1, 1, 1, 0, 1, 1, 0, 0, 1, 1, 1, 0,\n",
       "       1, 1, 1, 1, 1, 1, 1, 1, 1, 1, 1, 1, 0, 1, 0, 1, 1, 1, 0, 1, 1, 1,\n",
       "       0, 1, 0, 1, 0, 1, 0, 1, 1, 1, 1, 0, 1, 0, 1, 1, 1, 1, 1, 1, 1, 1,\n",
       "       1, 0, 1, 0, 1, 1, 1, 1, 1, 1, 1, 0, 1, 1, 1, 1, 1, 1, 0, 1, 1, 1,\n",
       "       0, 1, 1, 0, 1, 0, 1, 1, 0, 1, 1, 1, 1, 0, 1, 1, 1, 0, 0, 1, 0, 1,\n",
       "       1, 1, 1, 1, 1, 1, 1, 1, 1, 1, 0, 1, 1, 1, 1, 0, 0, 1, 1, 1, 0, 1,\n",
       "       0, 1, 1, 0, 1, 0, 1, 1, 1, 0, 0, 0, 1, 1, 1, 0, 1, 1, 1, 1, 1, 1,\n",
       "       1, 1, 1, 1, 1, 1, 1, 1, 1, 1, 0, 1, 1, 1, 0, 1, 1, 0, 0, 1, 1, 1,\n",
       "       1, 1, 0, 1, 1, 0, 1, 1, 1, 0, 0, 1, 1, 1, 1, 1, 0, 1, 0, 1, 1, 0,\n",
       "       1, 0, 0, 0, 1, 1, 1, 1, 0, 0, 0, 1, 0, 0, 1, 1, 0, 0, 1, 0, 0, 0,\n",
       "       0, 0, 0, 0, 1, 0, 1, 0, 0, 1, 1, 1, 1, 1, 0, 0, 1, 0, 0, 0, 1, 0,\n",
       "       1, 1, 1, 1, 1, 0, 0, 0, 0, 0, 1, 0, 1, 1, 0, 1, 0, 0, 0, 1, 0, 1,\n",
       "       0, 1, 1, 0, 0, 0, 0, 1, 0, 0, 0, 0, 1, 1, 1, 0, 0, 0, 0, 0, 0, 1,\n",
       "       0, 1, 1, 1, 1, 1, 0, 1, 0, 0, 0, 1, 0, 1, 1, 1, 0, 1, 1, 0, 1, 0,\n",
       "       1, 0, 0, 0, 1, 1, 0, 1, 1, 1, 1, 0, 0, 0, 1, 0, 0, 1, 1, 1, 0, 1,\n",
       "       0, 0, 0, 1, 0, 0, 1, 0, 1, 0, 1, 1, 1, 1, 1, 0, 0, 0, 0, 0, 0, 0,\n",
       "       1, 0, 0, 1, 1, 1, 0, 1, 0, 0, 0, 0, 0, 1, 0, 1, 1, 0, 0, 1, 1, 1,\n",
       "       1, 0, 0, 1, 1, 0, 0, 0, 1, 0, 0, 1, 0, 1, 0, 1, 0, 0, 0, 0, 0, 1,\n",
       "       0, 1, 1, 1, 1, 0, 0, 0, 1, 0, 1, 0, 0, 1, 0, 0, 0, 0, 0, 0, 1, 1,\n",
       "       0, 1, 0, 0, 1, 1, 0, 0, 1, 1, 0, 1, 0, 1, 0, 1, 0, 0, 1, 0, 0, 1,\n",
       "       0, 1, 1, 0, 1, 1, 1, 0, 1, 0, 0, 0, 0, 1, 1, 0, 0, 1, 1, 0, 1, 0,\n",
       "       0, 0, 0, 1, 0, 0, 1, 1, 1, 0, 0, 0, 1, 0, 1, 0, 1, 0, 1, 1, 1, 0,\n",
       "       0, 0, 1, 0, 1, 1, 1, 0, 1, 1, 1, 1, 1, 1, 0])"
      ]
     },
     "execution_count": 65,
     "metadata": {},
     "output_type": "execute_result"
    }
   ],
   "source": [
    "alvo"
   ]
  },
  {
   "cell_type": "code",
   "execution_count": 66,
   "metadata": {
    "id": "hb4PNxyzQgC1"
   },
   "outputs": [],
   "source": [
    "# Criando arquivos e Salvando as variáveis\n",
    "arq2 = open('heart2.pkl', 'wb')\n",
    "pickle.dump(previsores, arq2)\n",
    "arq3 = open('heart3.pkl', 'wb')\n",
    "pickle.dump(previsores_esc, arq3)\n",
    "arq4 = open('heart4.pkl', 'wb')\n",
    "pickle.dump(previsores2, arq4)\n",
    "arq5 = open('heart5.pkl', 'wb')\n",
    "pickle.dump(previsores3, arq5)\n",
    "arq6 = open('heart6.pkl', 'wb')\n",
    "pickle.dump(previsores3_esc, arq6)"
   ]
  },
  {
   "cell_type": "code",
   "execution_count": 67,
   "metadata": {
    "id": "i7noq9dAEwog"
   },
   "outputs": [],
   "source": [
    "arq2 = open('heart2.pkl', 'rb')"
   ]
  },
  {
   "cell_type": "code",
   "execution_count": 68,
   "metadata": {
    "id": "sNSCfClWE0_G"
   },
   "outputs": [],
   "source": [
    "previsores = pickle.load(arq2)"
   ]
  },
  {
   "cell_type": "code",
   "execution_count": 69,
   "metadata": {
    "id": "3rE0rqRXRxR3"
   },
   "outputs": [
    {
     "data": {
      "text/plain": [
       "array([[40. ,  0. ,  1. , ...,  0. ,  0. ,  0. ],\n",
       "       [49. ,  1. ,  2. , ...,  0. ,  1. ,  1. ],\n",
       "       [37. ,  0. ,  1. , ...,  0. ,  0. ,  0. ],\n",
       "       ...,\n",
       "       [57. ,  0. ,  3. , ...,  1. ,  1.2,  1. ],\n",
       "       [57. ,  1. ,  1. , ...,  0. ,  0. ,  1. ],\n",
       "       [38. ,  0. ,  2. , ...,  0. ,  0. ,  0. ]])"
      ]
     },
     "execution_count": 69,
     "metadata": {},
     "output_type": "execute_result"
    }
   ],
   "source": [
    "previsores"
   ]
  },
  {
   "cell_type": "markdown",
   "metadata": {
    "id": "w-W634n0I_Db"
   },
   "source": [
    "# <font color='purple'>**BASE DE TREINO E TESTE**"
   ]
  },
  {
   "cell_type": "code",
   "execution_count": 70,
   "metadata": {
    "id": "UmjBvEubFG72"
   },
   "outputs": [],
   "source": [
    "from sklearn.model_selection import train_test_split"
   ]
  },
  {
   "cell_type": "markdown",
   "metadata": {
    "id": "cB1szLDSyfzA"
   },
   "source": [
    "Parâmetros train_test_split:   \n",
    "- arrays: nomes dos atributos previsores e alvo.   \n",
    "- test_size: tamanho em porcentagem dos dados de teste. default é none.   \n",
    "- train_size: tamanho em porcentagem dos dados de treinamento.default é none.  \n",
    "- random_state: nomeação de um estado aleatório.   \n",
    "- shuffle: embaralhamento dos dados aleatórios. Associado com o random_state ocorre o mesmo embaralhamento sempre. Default é True.  \n",
    "- stratify: Possibilidade de dividir os dados de forma estratificada. Default é None (nesse caso é mantido a proporção, isto é, se tem 30% de zeros e 70% de 1 no dataframe, na separação em treinamento e teste se manterá essa proporção)."
   ]
  },
  {
   "cell_type": "code",
   "execution_count": 71,
   "metadata": {
    "id": "JFn1OrYtF0m9"
   },
   "outputs": [],
   "source": [
    "x_treino, x_teste, y_treino, y_teste = train_test_split(previsores, alvo, test_size = 0.3, random_state = 0)"
   ]
  },
  {
   "cell_type": "code",
   "execution_count": 72,
   "metadata": {
    "id": "Xza9uNMgJFD8"
   },
   "outputs": [
    {
     "data": {
      "text/plain": [
       "(641, 11)"
      ]
     },
     "execution_count": 72,
     "metadata": {},
     "output_type": "execute_result"
    }
   ],
   "source": [
    "x_treino.shape"
   ]
  },
  {
   "cell_type": "code",
   "execution_count": 73,
   "metadata": {
    "id": "gM74hUlEJNOZ"
   },
   "outputs": [
    {
     "data": {
      "text/plain": [
       "(276, 11)"
      ]
     },
     "execution_count": 73,
     "metadata": {},
     "output_type": "execute_result"
    }
   ],
   "source": [
    "x_teste.shape"
   ]
  },
  {
   "cell_type": "code",
   "execution_count": 74,
   "metadata": {
    "id": "lGzLxpISJeWG"
   },
   "outputs": [
    {
     "data": {
      "text/plain": [
       "(641,)"
      ]
     },
     "execution_count": 74,
     "metadata": {},
     "output_type": "execute_result"
    }
   ],
   "source": [
    "y_treino.shape"
   ]
  },
  {
   "cell_type": "code",
   "execution_count": 75,
   "metadata": {
    "id": "ZUojufPlJnhy"
   },
   "outputs": [
    {
     "data": {
      "text/plain": [
       "(276,)"
      ]
     },
     "execution_count": 75,
     "metadata": {},
     "output_type": "execute_result"
    }
   ],
   "source": [
    "y_teste.shape"
   ]
  },
  {
   "cell_type": "markdown",
   "metadata": {
    "id": "f6u542_aEj6B"
   },
   "source": [
    "# <font color='purple'>**NAIVE BAYES**"
   ]
  },
  {
   "cell_type": "markdown",
   "metadata": {
    "id": "2tnCKM7kcfQl"
   },
   "source": [
    "https://scikit-learn.org/stable/modules/naive_bayes.html"
   ]
  },
  {
   "cell_type": "markdown",
   "metadata": {
    "id": "-GK8qvcgzWGQ"
   },
   "source": [
    "<font color='red'>**Treinamento do algoritmo**"
   ]
  },
  {
   "cell_type": "code",
   "execution_count": 76,
   "metadata": {
    "id": "YhAnMs4TJRoa"
   },
   "outputs": [],
   "source": [
    "from sklearn.naive_bayes import GaussianNB"
   ]
  },
  {
   "cell_type": "code",
   "execution_count": 77,
   "metadata": {
    "id": "ak0_M56CJheq"
   },
   "outputs": [
    {
     "data": {
      "text/plain": [
       "GaussianNB()"
      ]
     },
     "execution_count": 77,
     "metadata": {},
     "output_type": "execute_result"
    }
   ],
   "source": [
    "# GaussianNB implementa o algoritmo Gaussian Naive Bayes para classificação.\n",
    "# A probabilidade dos recursos é assumida como gaussiana:\n",
    "naive = GaussianNB()\n",
    "naive.fit(x_treino, y_treino)"
   ]
  },
  {
   "cell_type": "markdown",
   "metadata": {
    "id": "neBugc1HzbL_"
   },
   "source": [
    "<font color='red'>**Avaliação do algoritmo**"
   ]
  },
  {
   "cell_type": "code",
   "execution_count": 78,
   "metadata": {
    "id": "ac4kuVBsJ85p"
   },
   "outputs": [
    {
     "data": {
      "text/plain": [
       "array([1, 1, 1, 0, 0, 0, 0, 0, 0, 0, 1, 1, 1, 1, 0, 1, 1, 1, 1, 0, 1, 1,\n",
       "       1, 0, 0, 0, 1, 1, 0, 1, 1, 0, 0, 0, 1, 0, 0, 0, 1, 0, 0, 1, 1, 1,\n",
       "       1, 0, 0, 1, 0, 1, 0, 0, 0, 1, 1, 0, 0, 0, 0, 0, 1, 0, 1, 0, 1, 1,\n",
       "       1, 0, 1, 0, 1, 1, 0, 1, 1, 1, 1, 1, 1, 1, 0, 1, 0, 0, 1, 1, 1, 1,\n",
       "       1, 0, 1, 0, 0, 0, 1, 0, 1, 0, 0, 0, 0, 0, 1, 1, 0, 1, 1, 0, 0, 1,\n",
       "       1, 1, 1, 1, 1, 1, 0, 1, 1, 1, 1, 1, 1, 0, 1, 1, 0, 1, 0, 1, 0, 1,\n",
       "       1, 1, 1, 1, 1, 1, 1, 0, 0, 1, 0, 1, 0, 0, 1, 1, 0, 0, 0, 1, 0, 0,\n",
       "       1, 0, 1, 1, 1, 0, 1, 1, 1, 0, 1, 0, 1, 0, 1, 0, 1, 1, 0, 0, 0, 1,\n",
       "       1, 0, 0, 1, 1, 1, 0, 1, 1, 1, 0, 1, 1, 0, 0, 0, 1, 1, 1, 1, 0, 0,\n",
       "       1, 0, 1, 1, 0, 1, 1, 0, 0, 0, 1, 0, 1, 1, 0, 0, 0, 0, 1, 0, 1, 1,\n",
       "       1, 0, 0, 1, 1, 1, 0, 1, 1, 1, 0, 1, 1, 1, 0, 1, 1, 1, 0, 1, 1, 0,\n",
       "       1, 0, 0, 0, 0, 0, 1, 0, 1, 0, 1, 0, 0, 0, 1, 0, 0, 1, 0, 1, 1, 0,\n",
       "       0, 0, 0, 0, 1, 0, 0, 0, 1, 1, 1, 0])"
      ]
     },
     "execution_count": 78,
     "metadata": {},
     "output_type": "execute_result"
    }
   ],
   "source": [
    "previsoes_naive = naive.predict(x_teste)\n",
    "previsoes_naive"
   ]
  },
  {
   "cell_type": "code",
   "execution_count": 79,
   "metadata": {
    "id": "aBPvzhRUKLoZ"
   },
   "outputs": [
    {
     "data": {
      "text/plain": [
       "array([1, 0, 1, 0, 0, 0, 0, 0, 0, 0, 1, 0, 1, 1, 0, 1, 1, 1, 1, 0, 1, 1,\n",
       "       1, 0, 0, 0, 1, 1, 0, 0, 1, 0, 0, 0, 1, 0, 1, 0, 1, 0, 0, 1, 1, 1,\n",
       "       1, 0, 0, 1, 1, 1, 1, 0, 0, 1, 1, 0, 0, 0, 1, 0, 1, 1, 1, 0, 1, 1,\n",
       "       1, 0, 1, 0, 1, 1, 1, 1, 1, 1, 1, 1, 1, 0, 0, 1, 0, 0, 1, 1, 0, 1,\n",
       "       1, 0, 1, 0, 0, 1, 1, 0, 1, 0, 0, 0, 0, 1, 1, 1, 0, 1, 0, 0, 0, 1,\n",
       "       0, 1, 1, 1, 0, 1, 1, 1, 1, 1, 1, 1, 1, 0, 0, 1, 0, 1, 0, 1, 0, 1,\n",
       "       0, 1, 0, 0, 0, 1, 1, 0, 1, 1, 0, 1, 0, 0, 1, 1, 1, 0, 1, 1, 0, 0,\n",
       "       0, 0, 1, 1, 1, 0, 1, 1, 1, 0, 1, 0, 1, 0, 1, 0, 1, 1, 0, 0, 1, 0,\n",
       "       0, 1, 0, 1, 1, 1, 0, 1, 1, 1, 0, 1, 1, 0, 0, 0, 1, 1, 1, 1, 1, 0,\n",
       "       1, 0, 1, 1, 0, 1, 1, 0, 0, 0, 1, 0, 1, 1, 0, 1, 0, 1, 1, 1, 1, 1,\n",
       "       1, 1, 0, 0, 0, 1, 0, 1, 1, 1, 0, 1, 0, 1, 1, 1, 1, 1, 0, 1, 1, 0,\n",
       "       1, 0, 1, 0, 0, 0, 1, 0, 1, 0, 1, 1, 0, 0, 1, 0, 0, 1, 0, 1, 1, 0,\n",
       "       0, 0, 0, 0, 1, 0, 0, 1, 1, 1, 1, 1])"
      ]
     },
     "execution_count": 79,
     "metadata": {},
     "output_type": "execute_result"
    }
   ],
   "source": [
    "y_teste"
   ]
  },
  {
   "cell_type": "markdown",
   "metadata": {},
   "source": [
    "<font color='red'>**Verificamos o quanto ele acertou, para isso importamos apartir da biblioteca\n",
    "    sklearn.metrics as bibliotecas accuracy_score, confusion_matrix, classification_report**"
   ]
  },
  {
   "cell_type": "code",
   "execution_count": 80,
   "metadata": {
    "id": "OEXPFIiVKUl_"
   },
   "outputs": [],
   "source": [
    "from sklearn.metrics import accuracy_score, confusion_matrix, classification_report"
   ]
  },
  {
   "cell_type": "code",
   "execution_count": 81,
   "metadata": {
    "id": "hojdvgEgKYjg"
   },
   "outputs": [
    {
     "data": {
      "text/plain": [
       "0.8442028985507246"
      ]
     },
     "execution_count": 81,
     "metadata": {},
     "output_type": "execute_result"
    }
   ],
   "source": [
    "accuracy_score(y_teste, previsoes_naive)"
   ]
  },
  {
   "cell_type": "code",
   "execution_count": 82,
   "metadata": {
    "id": "R8rjCRA7CwLV"
   },
   "outputs": [
    {
     "name": "stdout",
     "output_type": "stream",
     "text": [
      "Acurácia: 84.42%\n"
     ]
    }
   ],
   "source": [
    "print(\"Acurácia: %.2f%%\" % (accuracy_score(y_teste, previsoes_naive) * 100.0))"
   ]
  },
  {
   "cell_type": "markdown",
   "metadata": {},
   "source": [
    "**Matriz de Confusão:** Uma matriz de confusão é uma tabela que indica os erros e acertos do seu modelo, comparando com o resultado esperado\n",
    "- **Verdadeiros Positivos:** classificação correta da classe Positivo;\n",
    "- **Falsos Negativos:** erro em que o modelo previu a classe Negativo quando o valor real era classe Positivo;\n",
    "- **Falsos Positivo**: erro em que o modelo previu a classe Positivo quando o valor real era classe Negativo;\n",
    "- **Verdadeiros Negativos:** classificação correta da classe Negativo."
   ]
  },
  {
   "cell_type": "markdown",
   "metadata": {},
   "source": [
    "![](matriz-de-confusao.png)"
   ]
  },
  {
   "cell_type": "code",
   "execution_count": 83,
   "metadata": {
    "id": "N_xxZiTXKeG3"
   },
   "outputs": [
    {
     "data": {
      "text/plain": [
       "array([[102,  19],\n",
       "       [ 24, 131]])"
      ]
     },
     "execution_count": 83,
     "metadata": {},
     "output_type": "execute_result"
    }
   ],
   "source": [
    "confusion_matrix(y_teste, previsoes_naive)"
   ]
  },
  {
   "cell_type": "code",
   "execution_count": 84,
   "metadata": {
    "id": "CZMZ_zPNKzqW"
   },
   "outputs": [
    {
     "name": "stdout",
     "output_type": "stream",
     "text": [
      "              precision    recall  f1-score   support\n",
      "\n",
      "           0       0.81      0.84      0.83       121\n",
      "           1       0.87      0.85      0.86       155\n",
      "\n",
      "    accuracy                           0.84       276\n",
      "   macro avg       0.84      0.84      0.84       276\n",
      "weighted avg       0.85      0.84      0.84       276\n",
      "\n"
     ]
    }
   ],
   "source": [
    "print(classification_report(y_teste, previsoes_naive))"
   ]
  },
  {
   "cell_type": "markdown",
   "metadata": {},
   "source": [
    "<font color='red'>**Notas de métricas de avaliação**\n",
    "- **Acurácia:** indica uma performance geral do modelo. Dentre todas as classificações, quantas o modelo classificou corretamente;\n",
    "- **Precisão:** dentre todas as classificações de classe Positivo que o modelo fez, quantas estão corretas \n",
    "     (aqui buscamos os falsos positivos);\n",
    "- **Recall/Revocação/Sensibilidade:** dentre todas as situações de classe Positivo como valor esperado, quantas estão corretas (aqui buscamos os falsos negativos);\n",
    "- **F1-Score:** média harmônica entre precisão e recall (uma maneira de observar em um único número a precisão e o recall)."
   ]
  },
  {
   "cell_type": "markdown",
   "metadata": {
    "id": "Gnte-P_e0536"
   },
   "source": [
    "<font color='red'>**Análise dados de treino**"
   ]
  },
  {
   "cell_type": "code",
   "execution_count": 85,
   "metadata": {
    "id": "_t9CZH8qz9w-"
   },
   "outputs": [
    {
     "data": {
      "text/plain": [
       "array([0, 0, 1, 1, 1, 1, 0, 0, 0, 0, 1, 0, 1, 1, 1, 0, 0, 0, 0, 1, 0, 0,\n",
       "       1, 1, 1, 0, 0, 1, 0, 1, 1, 0, 1, 1, 0, 0, 1, 1, 0, 1, 0, 1, 0, 0,\n",
       "       1, 1, 0, 1, 1, 1, 0, 0, 1, 0, 1, 0, 0, 0, 1, 0, 0, 0, 0, 0, 1, 1,\n",
       "       0, 1, 1, 0, 1, 1, 1, 1, 0, 0, 0, 1, 0, 1, 1, 1, 1, 1, 0, 1, 1, 1,\n",
       "       1, 1, 0, 1, 0, 0, 1, 1, 1, 1, 1, 1, 1, 1, 0, 1, 1, 1, 1, 0, 0, 1,\n",
       "       0, 0, 1, 0, 1, 0, 1, 0, 1, 0, 0, 0, 0, 1, 0, 1, 0, 0, 0, 1, 1, 0,\n",
       "       1, 1, 0, 0, 1, 0, 1, 1, 0, 1, 1, 1, 1, 1, 1, 0, 0, 1, 1, 0, 1, 0,\n",
       "       1, 0, 1, 1, 1, 1, 1, 0, 0, 0, 0, 1, 1, 0, 0, 0, 0, 1, 1, 0, 1, 0,\n",
       "       0, 1, 1, 0, 0, 0, 0, 0, 0, 1, 1, 1, 1, 0, 0, 0, 1, 0, 0, 0, 1, 1,\n",
       "       0, 1, 0, 1, 0, 1, 1, 1, 1, 1, 1, 0, 0, 0, 1, 1, 1, 1, 1, 0, 0, 1,\n",
       "       1, 0, 0, 1, 1, 0, 1, 1, 1, 1, 0, 1, 0, 1, 1, 0, 1, 0, 0, 0, 1, 0,\n",
       "       1, 1, 1, 1, 1, 1, 1, 0, 1, 1, 0, 0, 0, 0, 0, 0, 1, 0, 0, 1, 1, 0,\n",
       "       1, 0, 1, 0, 1, 0, 1, 1, 0, 1, 0, 1, 1, 0, 0, 0, 1, 0, 0, 0, 1, 1,\n",
       "       0, 1, 1, 1, 1, 0, 1, 1, 0, 1, 0, 1, 0, 1, 1, 0, 0, 1, 0, 1, 0, 1,\n",
       "       1, 0, 1, 0, 1, 0, 1, 0, 1, 0, 1, 0, 1, 1, 1, 1, 0, 1, 1, 1, 1, 0,\n",
       "       0, 0, 1, 0, 0, 0, 0, 1, 0, 1, 1, 1, 1, 1, 1, 0, 1, 1, 0, 1, 0, 1,\n",
       "       0, 0, 0, 0, 0, 0, 1, 0, 0, 1, 0, 1, 1, 0, 0, 0, 0, 0, 1, 1, 0, 1,\n",
       "       0, 1, 1, 1, 0, 0, 1, 1, 0, 1, 0, 1, 0, 0, 0, 1, 0, 1, 1, 0, 1, 1,\n",
       "       0, 0, 0, 1, 1, 1, 1, 0, 1, 0, 1, 1, 1, 0, 0, 1, 0, 1, 1, 1, 0, 0,\n",
       "       0, 1, 1, 1, 0, 1, 1, 0, 1, 0, 0, 0, 0, 1, 0, 1, 1, 1, 1, 0, 1, 1,\n",
       "       0, 0, 1, 1, 1, 1, 0, 1, 0, 0, 1, 0, 1, 1, 1, 1, 0, 0, 0, 1, 0, 1,\n",
       "       1, 1, 1, 1, 1, 0, 1, 1, 1, 1, 1, 1, 1, 1, 1, 0, 0, 0, 1, 0, 0, 0,\n",
       "       0, 0, 1, 0, 1, 1, 0, 0, 0, 1, 1, 0, 1, 1, 1, 0, 1, 1, 0, 0, 1, 1,\n",
       "       1, 0, 0, 0, 1, 1, 1, 1, 0, 1, 0, 0, 1, 0, 1, 1, 1, 0, 0, 1, 1, 0,\n",
       "       1, 0, 1, 0, 1, 0, 1, 0, 1, 0, 1, 1, 0, 1, 0, 1, 1, 0, 0, 1, 1, 1,\n",
       "       0, 1, 1, 0, 1, 0, 1, 1, 1, 0, 1, 1, 0, 0, 0, 0, 1, 0, 0, 1, 0, 1,\n",
       "       1, 0, 0, 0, 1, 0, 0, 0, 0, 0, 0, 1, 1, 1, 1, 0, 1, 0, 0, 0, 0, 0,\n",
       "       0, 0, 1, 0, 0, 0, 0, 0, 0, 0, 1, 0, 0, 1, 0, 0, 1, 0, 0, 1, 0, 1,\n",
       "       1, 1, 1, 1, 1, 0, 1, 0, 1, 1, 1, 1, 0, 1, 1, 0, 0, 0, 1, 0, 1, 0,\n",
       "       0, 0, 1])"
      ]
     },
     "execution_count": 85,
     "metadata": {},
     "output_type": "execute_result"
    }
   ],
   "source": [
    "previsoes_treino = naive.predict(x_treino)\n",
    "previsoes_treino"
   ]
  },
  {
   "cell_type": "code",
   "execution_count": 86,
   "metadata": {
    "id": "ixfPbrJB0iEE"
   },
   "outputs": [
    {
     "data": {
      "text/plain": [
       "0.8361934477379095"
      ]
     },
     "execution_count": 86,
     "metadata": {},
     "output_type": "execute_result"
    }
   ],
   "source": [
    "accuracy_score(y_treino, previsoes_treino)"
   ]
  },
  {
   "cell_type": "code",
   "execution_count": 87,
   "metadata": {
    "id": "nyTX_2Te0suq"
   },
   "outputs": [
    {
     "data": {
      "text/plain": [
       "array([[243,  46],\n",
       "       [ 59, 293]])"
      ]
     },
     "execution_count": 87,
     "metadata": {},
     "output_type": "execute_result"
    }
   ],
   "source": [
    "confusion_matrix(y_treino, previsoes_treino)"
   ]
  },
  {
   "cell_type": "markdown",
   "metadata": {
    "id": "rNsT6wAn_e1l"
   },
   "source": [
    "## <font color='purple'>**Validação Cruzada**"
   ]
  },
  {
   "cell_type": "code",
   "execution_count": 88,
   "metadata": {
    "id": "lvBuy5bm_qok"
   },
   "outputs": [],
   "source": [
    "from sklearn.model_selection import KFold\n",
    "from sklearn.model_selection import cross_val_score"
   ]
  },
  {
   "cell_type": "code",
   "execution_count": 89,
   "metadata": {
    "id": "SS_dyx4x_260"
   },
   "outputs": [],
   "source": [
    "# Separando os dados em folds\n",
    "kfold = KFold(n_splits = 30, shuffle=True, random_state = 5)"
   ]
  },
  {
   "cell_type": "code",
   "execution_count": 90,
   "metadata": {
    "id": "K0aqT7kPAf1L"
   },
   "outputs": [
    {
     "data": {
      "text/plain": [
       "array([0.87096774, 0.87096774, 0.90322581, 0.80645161, 0.77419355,\n",
       "       0.90322581, 0.70967742, 0.87096774, 0.77419355, 0.87096774,\n",
       "       0.90322581, 0.77419355, 0.93548387, 0.90322581, 0.87096774,\n",
       "       0.87096774, 0.87096774, 0.93333333, 0.93333333, 0.9       ,\n",
       "       0.76666667, 0.83333333, 0.8       , 0.7       , 0.83333333,\n",
       "       0.93333333, 0.86666667, 0.9       , 0.86666667, 0.8       ])"
      ]
     },
     "execution_count": 90,
     "metadata": {},
     "output_type": "execute_result"
    }
   ],
   "source": [
    "# Criando o modelo\n",
    "modelo = GaussianNB()\n",
    "resultado = cross_val_score(modelo, previsores3_esc, alvo, cv = kfold)\n",
    "resultado"
   ]
  },
  {
   "cell_type": "code",
   "execution_count": 91,
   "metadata": {
    "id": "VmmFUeXird9B"
   },
   "outputs": [
    {
     "name": "stdout",
     "output_type": "stream",
     "text": [
      "Acurácia Média: 85.17%\n"
     ]
    }
   ],
   "source": [
    "# Usamos a média e o desvio padrão\n",
    "print(\"Acurácia Média: %.2f%%\" % (resultado.mean() * 100.0))"
   ]
  },
  {
   "cell_type": "markdown",
   "metadata": {
    "id": "tZ03xoOQNkQP"
   },
   "source": [
    "Naive Bayes = 84,78% (treino e teste) - 234 acertos e 85,17% (validação cruzada) - previsores3_esc\n",
    "\n",
    "\n",
    "\n"
   ]
  },
  {
   "cell_type": "markdown",
   "metadata": {
    "id": "n1ky9LQipNn0"
   },
   "source": [
    "# <font color='purple'>**MÁQUINAS DE VETORES DE SUPORTE (SVM)**"
   ]
  },
  {
   "cell_type": "markdown",
   "metadata": {
    "id": "5p55FhL3b52u"
   },
   "source": [
    "https://scikit-learn.org/stable/modules/generated/sklearn.svm.SVC.html"
   ]
  },
  {
   "cell_type": "code",
   "execution_count": 92,
   "metadata": {
    "id": "oVy0EpUfpquK"
   },
   "outputs": [],
   "source": [
    "from sklearn.svm import SVC"
   ]
  },
  {
   "cell_type": "code",
   "execution_count": 93,
   "metadata": {
    "id": "P7xKKTCabAab"
   },
   "outputs": [
    {
     "data": {
      "text/plain": [
       "SVC(C=2, random_state=1)"
      ]
     },
     "execution_count": 93,
     "metadata": {},
     "output_type": "execute_result"
    }
   ],
   "source": [
    "#svm = SVC(kernel='linear', random_state=1, C = 2) # da melhor resultado na acuracia e com c=30\n",
    "# melhora mais so que o tempo computacional aumenta\n",
    "#svm = SVC(kernel='poly', random_state=1, C = 2) \n",
    "#svm = SVC(kernel='sigmoid', random_state=1, C = 2) \n",
    "#svm = SVC(kernel='precomputed', random_state=1, C = 2) no funciona\n",
    "svm = SVC(kernel='rbf', random_state=1, C = 2) #melhor para resultados3_esc e menor tempo computacional\n",
    "svm.fit(x_treino, y_treino)"
   ]
  },
  {
   "cell_type": "code",
   "execution_count": 94,
   "metadata": {
    "id": "VjKeaHKrbicN"
   },
   "outputs": [
    {
     "data": {
      "text/plain": [
       "array([0, 1, 1, 1, 1, 0, 0, 0, 0, 1, 1, 1, 1, 1, 1, 1, 1, 1, 0, 0, 1, 1,\n",
       "       1, 0, 1, 1, 0, 1, 0, 1, 1, 1, 0, 0, 1, 0, 0, 0, 1, 0, 0, 1, 1, 1,\n",
       "       1, 0, 0, 0, 1, 1, 0, 0, 1, 1, 1, 0, 0, 1, 1, 0, 1, 0, 0, 0, 1, 1,\n",
       "       1, 0, 1, 0, 0, 1, 0, 1, 1, 1, 0, 1, 1, 1, 0, 1, 0, 0, 1, 0, 1, 1,\n",
       "       1, 0, 1, 1, 0, 1, 1, 0, 1, 0, 1, 1, 1, 1, 1, 1, 0, 0, 0, 0, 0, 0,\n",
       "       1, 1, 1, 1, 0, 1, 0, 1, 1, 1, 1, 1, 1, 1, 1, 1, 1, 0, 0, 1, 0, 1,\n",
       "       1, 1, 1, 0, 1, 1, 1, 0, 1, 1, 0, 1, 0, 0, 1, 1, 0, 0, 0, 1, 1, 0,\n",
       "       1, 0, 1, 0, 1, 1, 1, 0, 1, 1, 1, 0, 1, 0, 1, 1, 1, 0, 0, 0, 0, 1,\n",
       "       1, 0, 1, 1, 1, 1, 1, 1, 0, 1, 1, 1, 1, 1, 0, 1, 1, 1, 1, 1, 0, 0,\n",
       "       1, 1, 1, 1, 0, 0, 1, 1, 1, 0, 1, 0, 0, 1, 1, 0, 0, 0, 1, 0, 1, 1,\n",
       "       1, 0, 1, 0, 1, 1, 0, 1, 1, 1, 0, 1, 1, 1, 1, 1, 0, 0, 1, 1, 1, 0,\n",
       "       1, 1, 0, 0, 0, 0, 1, 1, 1, 0, 1, 1, 0, 1, 1, 0, 1, 1, 1, 1, 1, 1,\n",
       "       0, 1, 0, 0, 1, 0, 1, 0, 0, 1, 0, 0])"
      ]
     },
     "execution_count": 94,
     "metadata": {},
     "output_type": "execute_result"
    }
   ],
   "source": [
    "previsoes_svm = svm.predict(x_teste)\n",
    "previsoes_svm"
   ]
  },
  {
   "cell_type": "code",
   "execution_count": 95,
   "metadata": {
    "id": "ulL7w207qcwQ"
   },
   "outputs": [
    {
     "data": {
      "text/plain": [
       "array([1, 0, 1, 0, 0, 0, 0, 0, 0, 0, 1, 0, 1, 1, 0, 1, 1, 1, 1, 0, 1, 1,\n",
       "       1, 0, 0, 0, 1, 1, 0, 0, 1, 0, 0, 0, 1, 0, 1, 0, 1, 0, 0, 1, 1, 1,\n",
       "       1, 0, 0, 1, 1, 1, 1, 0, 0, 1, 1, 0, 0, 0, 1, 0, 1, 1, 1, 0, 1, 1,\n",
       "       1, 0, 1, 0, 1, 1, 1, 1, 1, 1, 1, 1, 1, 0, 0, 1, 0, 0, 1, 1, 0, 1,\n",
       "       1, 0, 1, 0, 0, 1, 1, 0, 1, 0, 0, 0, 0, 1, 1, 1, 0, 1, 0, 0, 0, 1,\n",
       "       0, 1, 1, 1, 0, 1, 1, 1, 1, 1, 1, 1, 1, 0, 0, 1, 0, 1, 0, 1, 0, 1,\n",
       "       0, 1, 0, 0, 0, 1, 1, 0, 1, 1, 0, 1, 0, 0, 1, 1, 1, 0, 1, 1, 0, 0,\n",
       "       0, 0, 1, 1, 1, 0, 1, 1, 1, 0, 1, 0, 1, 0, 1, 0, 1, 1, 0, 0, 1, 0,\n",
       "       0, 1, 0, 1, 1, 1, 0, 1, 1, 1, 0, 1, 1, 0, 0, 0, 1, 1, 1, 1, 1, 0,\n",
       "       1, 0, 1, 1, 0, 1, 1, 0, 0, 0, 1, 0, 1, 1, 0, 1, 0, 1, 1, 1, 1, 1,\n",
       "       1, 1, 0, 0, 0, 1, 0, 1, 1, 1, 0, 1, 0, 1, 1, 1, 1, 1, 0, 1, 1, 0,\n",
       "       1, 0, 1, 0, 0, 0, 1, 0, 1, 0, 1, 1, 0, 0, 1, 0, 0, 1, 0, 1, 1, 0,\n",
       "       0, 0, 0, 0, 1, 0, 0, 1, 1, 1, 1, 1])"
      ]
     },
     "execution_count": 95,
     "metadata": {},
     "output_type": "execute_result"
    }
   ],
   "source": [
    "y_teste"
   ]
  },
  {
   "cell_type": "code",
   "execution_count": 96,
   "metadata": {
    "id": "iWdYWQQBvnVQ"
   },
   "outputs": [],
   "source": [
    "from sklearn.metrics import accuracy_score, confusion_matrix, classification_report"
   ]
  },
  {
   "cell_type": "code",
   "execution_count": 97,
   "metadata": {
    "id": "kRZ4VwD-qjW4"
   },
   "outputs": [
    {
     "name": "stdout",
     "output_type": "stream",
     "text": [
      "Acurácia: 67.03%\n"
     ]
    }
   ],
   "source": [
    "print(\"Acurácia: %.2f%%\" % (accuracy_score(y_teste, previsoes_svm) * 100.0))"
   ]
  },
  {
   "cell_type": "code",
   "execution_count": 98,
   "metadata": {
    "id": "VYeZMXUtqjW5"
   },
   "outputs": [
    {
     "data": {
      "text/plain": [
       "array([[ 68,  53],\n",
       "       [ 38, 117]])"
      ]
     },
     "execution_count": 98,
     "metadata": {},
     "output_type": "execute_result"
    }
   ],
   "source": [
    "confusion_matrix(y_teste, previsoes_svm)"
   ]
  },
  {
   "cell_type": "code",
   "execution_count": 99,
   "metadata": {
    "id": "YPKWlAGAqjW6"
   },
   "outputs": [
    {
     "name": "stdout",
     "output_type": "stream",
     "text": [
      "              precision    recall  f1-score   support\n",
      "\n",
      "           0       0.64      0.56      0.60       121\n",
      "           1       0.69      0.75      0.72       155\n",
      "\n",
      "    accuracy                           0.67       276\n",
      "   macro avg       0.66      0.66      0.66       276\n",
      "weighted avg       0.67      0.67      0.67       276\n",
      "\n"
     ]
    }
   ],
   "source": [
    "print(classification_report(y_teste, previsoes_svm))"
   ]
  },
  {
   "cell_type": "markdown",
   "metadata": {
    "id": "GeeUpamU1u6d"
   },
   "source": [
    "<font color='red'>**Análise dados de treino**\n",
    "    \n",
    "<font color='blue'>Vemos se não temos problemas de overfitting    \n",
    "**overfitting:** Sobre-ajuste ou sobreajuste (do inglês: overfitting) é um termo usado em estatística para descrever quando um modelo estatístico se ajusta muito bem ao conjunto de dados anteriormente observado, mas se mostra ineficaz para prever novos resultados.    "
   ]
  },
  {
   "cell_type": "code",
   "execution_count": 100,
   "metadata": {
    "id": "VVGJEYpC1u6d"
   },
   "outputs": [
    {
     "data": {
      "text/plain": [
       "array([1, 0, 1, 1, 0, 0, 1, 0, 0, 1, 1, 0, 1, 1, 1, 0, 0, 1, 0, 1, 0, 0,\n",
       "       1, 0, 1, 0, 0, 1, 1, 1, 1, 0, 1, 1, 0, 0, 1, 1, 0, 1, 0, 1, 0, 0,\n",
       "       1, 1, 0, 1, 1, 1, 1, 0, 1, 0, 1, 0, 1, 1, 0, 0, 0, 1, 0, 0, 1, 1,\n",
       "       1, 1, 1, 0, 0, 1, 1, 1, 0, 0, 1, 1, 0, 1, 1, 1, 1, 1, 0, 1, 1, 1,\n",
       "       1, 1, 1, 0, 0, 1, 1, 1, 1, 1, 1, 1, 0, 1, 1, 0, 1, 1, 1, 0, 0, 1,\n",
       "       0, 0, 1, 0, 1, 0, 0, 1, 1, 0, 0, 0, 0, 1, 0, 1, 1, 0, 1, 1, 1, 0,\n",
       "       1, 1, 0, 1, 0, 0, 1, 1, 0, 1, 1, 1, 1, 1, 1, 1, 1, 1, 1, 1, 1, 1,\n",
       "       1, 0, 1, 0, 1, 1, 1, 0, 0, 0, 0, 1, 1, 1, 0, 1, 0, 1, 1, 0, 1, 1,\n",
       "       0, 1, 1, 0, 1, 0, 0, 0, 0, 1, 1, 1, 1, 1, 0, 1, 1, 1, 0, 0, 1, 1,\n",
       "       1, 1, 0, 1, 0, 1, 1, 0, 0, 0, 0, 1, 0, 1, 1, 1, 1, 1, 1, 0, 1, 1,\n",
       "       0, 0, 1, 1, 1, 0, 1, 1, 1, 1, 1, 1, 1, 1, 1, 0, 1, 0, 0, 0, 1, 0,\n",
       "       1, 0, 0, 1, 1, 1, 1, 1, 1, 1, 0, 1, 0, 0, 0, 0, 1, 0, 0, 0, 1, 0,\n",
       "       1, 1, 1, 0, 1, 0, 0, 1, 1, 0, 0, 1, 1, 0, 0, 0, 1, 0, 0, 0, 1, 1,\n",
       "       0, 1, 1, 1, 1, 0, 1, 0, 1, 0, 0, 0, 0, 1, 1, 1, 0, 1, 0, 1, 0, 1,\n",
       "       1, 0, 1, 0, 0, 0, 1, 0, 1, 0, 1, 0, 1, 1, 1, 1, 0, 1, 1, 0, 1, 1,\n",
       "       1, 1, 1, 0, 1, 1, 0, 1, 0, 1, 1, 1, 1, 1, 1, 0, 1, 1, 0, 0, 0, 1,\n",
       "       0, 0, 1, 1, 0, 0, 1, 1, 0, 0, 1, 1, 1, 0, 0, 0, 0, 1, 1, 0, 0, 1,\n",
       "       1, 1, 1, 1, 0, 0, 1, 1, 0, 1, 0, 1, 0, 0, 0, 0, 1, 1, 0, 0, 1, 1,\n",
       "       0, 1, 1, 1, 1, 1, 1, 1, 1, 1, 0, 1, 1, 0, 0, 1, 1, 1, 1, 1, 0, 1,\n",
       "       1, 1, 1, 1, 1, 1, 0, 0, 1, 1, 1, 0, 0, 1, 0, 0, 1, 1, 1, 0, 1, 1,\n",
       "       0, 0, 1, 1, 0, 1, 0, 1, 1, 1, 1, 0, 1, 1, 1, 1, 0, 0, 1, 1, 0, 1,\n",
       "       1, 1, 1, 1, 1, 0, 1, 0, 1, 1, 1, 1, 0, 1, 1, 0, 0, 0, 1, 0, 1, 0,\n",
       "       1, 0, 0, 1, 1, 0, 1, 1, 0, 1, 1, 0, 1, 1, 1, 0, 1, 1, 0, 1, 1, 1,\n",
       "       1, 1, 0, 0, 0, 1, 0, 1, 0, 1, 1, 0, 1, 0, 1, 1, 0, 0, 0, 1, 1, 0,\n",
       "       1, 0, 0, 1, 1, 1, 1, 0, 0, 0, 1, 1, 0, 1, 0, 0, 0, 0, 0, 1, 0, 0,\n",
       "       0, 0, 1, 0, 1, 0, 1, 1, 1, 1, 1, 0, 1, 0, 1, 1, 1, 0, 0, 1, 0, 1,\n",
       "       1, 1, 1, 0, 1, 1, 0, 1, 1, 1, 1, 0, 1, 1, 1, 1, 1, 0, 1, 1, 1, 0,\n",
       "       0, 0, 1, 0, 0, 1, 1, 1, 0, 0, 1, 1, 0, 1, 0, 0, 1, 0, 0, 1, 0, 0,\n",
       "       1, 1, 0, 1, 0, 0, 0, 1, 1, 1, 1, 1, 0, 1, 1, 0, 1, 1, 1, 0, 1, 0,\n",
       "       1, 1, 1])"
      ]
     },
     "execution_count": 100,
     "metadata": {},
     "output_type": "execute_result"
    }
   ],
   "source": [
    "previsoes_treino = svm.predict(x_treino)\n",
    "previsoes_treino"
   ]
  },
  {
   "cell_type": "code",
   "execution_count": 101,
   "metadata": {
    "id": "Xo-iYrMn1u6d"
   },
   "outputs": [
    {
     "data": {
      "text/plain": [
       "0.7145085803432137"
      ]
     },
     "execution_count": 101,
     "metadata": {},
     "output_type": "execute_result"
    }
   ],
   "source": [
    "accuracy_score(y_treino, previsoes_treino)"
   ]
  },
  {
   "cell_type": "code",
   "execution_count": 102,
   "metadata": {
    "id": "Z42CYXuC1u6e"
   },
   "outputs": [
    {
     "data": {
      "text/plain": [
       "array([[181, 108],\n",
       "       [ 75, 277]])"
      ]
     },
     "execution_count": 102,
     "metadata": {},
     "output_type": "execute_result"
    }
   ],
   "source": [
    "confusion_matrix(y_treino, previsoes_treino)"
   ]
  },
  {
   "cell_type": "markdown",
   "metadata": {
    "id": "xXM2zqKVH1Vi"
   },
   "source": [
    "### <font color='purple'>**Validação Cruzada**"
   ]
  },
  {
   "cell_type": "code",
   "execution_count": 103,
   "metadata": {
    "id": "tukeEaG8H1Vj"
   },
   "outputs": [],
   "source": [
    "from sklearn.model_selection import KFold\n",
    "from sklearn.model_selection import cross_val_score"
   ]
  },
  {
   "cell_type": "code",
   "execution_count": 104,
   "metadata": {
    "id": "4tYyKK_RH1Vj"
   },
   "outputs": [],
   "source": [
    "# Separando os dados em folds\n",
    "kfold = KFold(n_splits = 30, shuffle=True, random_state = 5)"
   ]
  },
  {
   "cell_type": "code",
   "execution_count": 105,
   "metadata": {
    "id": "mhD3BcOWH1Vk"
   },
   "outputs": [
    {
     "name": "stdout",
     "output_type": "stream",
     "text": [
      "Acurácia Média: 85.72%\n"
     ]
    }
   ],
   "source": [
    "# Criando o modelo Ojo demora en executar\n",
    "modelo = SVC(kernel='rbf', random_state=1, C = 2) \n",
    "resultado = cross_val_score(modelo, previsores3_esc, alvo, cv = kfold)\n",
    "\n",
    "# Usamos a média e o desvio padrão\n",
    "print(\"Acurácia Média: %.2f%%\" % (resultado.mean() * 100.0))"
   ]
  },
  {
   "cell_type": "markdown",
   "metadata": {
    "id": "fT_1y1Hoqycp"
   },
   "source": [
    "Naive Bayes = 84,78% (treino e teste) - 234 acertos e 85,17% (validação cruzada) : previsores3_esc\n",
    "\n",
    "SVM = 86,23% - 238 acertos e 85,72% (validação cruzada) : previsores3_esc - SVC(kernel='linear', random_state=1, C =2)\n",
    "\n"
   ]
  },
  {
   "cell_type": "markdown",
   "metadata": {
    "id": "jebC8M2jqyc9"
   },
   "source": [
    "# <font color='purple'> **REGRESSÃO LOGÍSTICA**"
   ]
  },
  {
   "cell_type": "markdown",
   "metadata": {
    "id": "mprvbtyNbzP3"
   },
   "source": [
    "https://scikit-learn.org/stable/modules/generated/sklearn.linear_model.LogisticRegression.html"
   ]
  },
  {
   "cell_type": "code",
   "execution_count": 106,
   "metadata": {
    "id": "NVGe2Q7ur-Nv"
   },
   "outputs": [],
   "source": [
    "from sklearn.linear_model import LogisticRegression"
   ]
  },
  {
   "cell_type": "code",
   "execution_count": 107,
   "metadata": {
    "id": "f_RnL43VV9Yc"
   },
   "outputs": [
    {
     "name": "stderr",
     "output_type": "stream",
     "text": [
      "/home/miguel/anaconda3/lib/python3.9/site-packages/sklearn/linear_model/_logistic.py:763: ConvergenceWarning: lbfgs failed to converge (status=1):\n",
      "STOP: TOTAL NO. of ITERATIONS REACHED LIMIT.\n",
      "\n",
      "Increase the number of iterations (max_iter) or scale the data as shown in:\n",
      "    https://scikit-learn.org/stable/modules/preprocessing.html\n",
      "Please also refer to the documentation for alternative solver options:\n",
      "    https://scikit-learn.org/stable/modules/linear_model.html#logistic-regression\n",
      "  n_iter_i = _check_optimize_result(\n"
     ]
    },
    {
     "data": {
      "text/plain": [
       "LogisticRegression(C=1, max_iter=500, random_state=1)"
      ]
     },
     "execution_count": 107,
     "metadata": {},
     "output_type": "execute_result"
    }
   ],
   "source": [
    "logistica = LogisticRegression(random_state=1, max_iter=500, penalty=\"l2\",\n",
    "                               tol=0.0001, C=1,solver=\"lbfgs\")\n",
    "logistica.fit(x_treino, y_treino)"
   ]
  },
  {
   "cell_type": "code",
   "execution_count": 108,
   "metadata": {
    "id": "I7EqQihmWIQG"
   },
   "outputs": [
    {
     "data": {
      "text/plain": [
       "array([-3.3232042])"
      ]
     },
     "execution_count": 108,
     "metadata": {},
     "output_type": "execute_result"
    }
   ],
   "source": [
    "logistica.intercept_"
   ]
  },
  {
   "cell_type": "code",
   "execution_count": 109,
   "metadata": {
    "id": "6BS-aVjsWK_0"
   },
   "outputs": [
    {
     "data": {
      "text/plain": [
       "array([[ 0.0123078 , -1.2759312 ,  0.66434321,  0.00314185,  0.00427141,\n",
       "         0.92345118,  0.09235564, -0.01172684,  1.02644313,  0.25012551,\n",
       "         1.64741881]])"
      ]
     },
     "execution_count": 109,
     "metadata": {},
     "output_type": "execute_result"
    }
   ],
   "source": [
    "logistica.coef_"
   ]
  },
  {
   "cell_type": "code",
   "execution_count": 110,
   "metadata": {
    "id": "zKlba1wBWX1O"
   },
   "outputs": [
    {
     "data": {
      "text/plain": [
       "array([1, 1, 1, 0, 0, 0, 0, 0, 0, 0, 1, 1, 1, 1, 0, 1, 1, 1, 1, 0, 1, 1,\n",
       "       1, 0, 0, 0, 1, 1, 1, 1, 1, 0, 0, 0, 1, 0, 0, 0, 1, 0, 0, 1, 1, 1,\n",
       "       1, 0, 0, 1, 0, 1, 1, 0, 0, 1, 1, 0, 0, 0, 0, 0, 1, 1, 1, 0, 1, 1,\n",
       "       1, 0, 1, 0, 1, 1, 0, 1, 1, 1, 1, 1, 1, 1, 1, 1, 0, 0, 1, 1, 1, 1,\n",
       "       1, 0, 1, 0, 0, 0, 1, 0, 1, 0, 0, 0, 0, 1, 1, 1, 0, 1, 1, 0, 0, 1,\n",
       "       1, 1, 1, 1, 1, 1, 0, 1, 1, 1, 1, 1, 1, 0, 1, 1, 0, 1, 0, 1, 0, 1,\n",
       "       1, 1, 0, 1, 1, 1, 1, 0, 0, 1, 0, 1, 0, 0, 1, 1, 0, 1, 0, 1, 1, 0,\n",
       "       1, 0, 1, 1, 1, 0, 1, 1, 1, 0, 1, 0, 1, 0, 1, 0, 1, 1, 0, 0, 1, 1,\n",
       "       1, 0, 0, 1, 1, 1, 0, 1, 1, 1, 0, 1, 1, 0, 0, 0, 1, 1, 1, 1, 0, 0,\n",
       "       1, 0, 1, 1, 0, 1, 1, 0, 0, 0, 1, 0, 1, 1, 0, 0, 0, 0, 1, 0, 1, 1,\n",
       "       1, 0, 0, 1, 1, 1, 0, 1, 0, 1, 0, 1, 1, 1, 0, 1, 1, 1, 0, 1, 1, 0,\n",
       "       1, 0, 1, 0, 0, 0, 1, 0, 1, 0, 1, 0, 0, 0, 1, 0, 0, 1, 0, 1, 1, 0,\n",
       "       0, 0, 0, 0, 1, 0, 0, 1, 1, 1, 1, 1])"
      ]
     },
     "execution_count": 110,
     "metadata": {},
     "output_type": "execute_result"
    }
   ],
   "source": [
    "previsoes_logistica = logistica.predict(x_teste)\n",
    "previsoes_logistica"
   ]
  },
  {
   "cell_type": "code",
   "execution_count": 111,
   "metadata": {
    "id": "PbF05awQvhzK"
   },
   "outputs": [],
   "source": [
    "from sklearn.metrics import accuracy_score, confusion_matrix, classification_report"
   ]
  },
  {
   "cell_type": "code",
   "execution_count": 112,
   "metadata": {
    "id": "72UCRQBdt2Iy"
   },
   "outputs": [
    {
     "name": "stdout",
     "output_type": "stream",
     "text": [
      "Acurácia: 85.51%\n"
     ]
    }
   ],
   "source": [
    "print(\"Acurácia: %.2f%%\" % (accuracy_score(y_teste, previsoes_logistica) * 100.0))"
   ]
  },
  {
   "cell_type": "code",
   "execution_count": 113,
   "metadata": {
    "id": "g2FaBeYDt2Iz"
   },
   "outputs": [
    {
     "data": {
      "text/plain": [
       "array([[ 99,  22],\n",
       "       [ 18, 137]])"
      ]
     },
     "execution_count": 113,
     "metadata": {},
     "output_type": "execute_result"
    }
   ],
   "source": [
    "confusion_matrix(y_teste, previsoes_logistica)"
   ]
  },
  {
   "cell_type": "code",
   "execution_count": 114,
   "metadata": {
    "id": "MAgJo5b5t2I0"
   },
   "outputs": [
    {
     "name": "stdout",
     "output_type": "stream",
     "text": [
      "              precision    recall  f1-score   support\n",
      "\n",
      "           0       0.85      0.82      0.83       121\n",
      "           1       0.86      0.88      0.87       155\n",
      "\n",
      "    accuracy                           0.86       276\n",
      "   macro avg       0.85      0.85      0.85       276\n",
      "weighted avg       0.85      0.86      0.85       276\n",
      "\n"
     ]
    }
   ],
   "source": [
    "print(classification_report(y_teste, previsoes_logistica))"
   ]
  },
  {
   "cell_type": "markdown",
   "metadata": {
    "id": "6LpYZvhb17ms"
   },
   "source": [
    "<font color='red'>**Análise dados de treino**\n",
    "    \n",
    "- vemos se temos problemas de overfiting"
   ]
  },
  {
   "cell_type": "code",
   "execution_count": 115,
   "metadata": {
    "id": "9Mup9Cn817mt"
   },
   "outputs": [
    {
     "data": {
      "text/plain": [
       "array([1, 0, 1, 1, 1, 1, 0, 0, 0, 0, 1, 0, 1, 1, 1, 0, 0, 0, 0, 1, 1, 1,\n",
       "       1, 1, 1, 0, 0, 1, 0, 1, 1, 0, 1, 1, 0, 0, 1, 1, 0, 1, 0, 1, 0, 0,\n",
       "       1, 1, 0, 1, 1, 1, 0, 0, 1, 0, 1, 0, 1, 0, 1, 0, 0, 0, 0, 0, 1, 1,\n",
       "       0, 1, 1, 0, 1, 1, 1, 1, 0, 0, 1, 1, 0, 1, 1, 1, 1, 1, 0, 1, 1, 1,\n",
       "       1, 1, 0, 1, 0, 0, 1, 1, 1, 1, 1, 1, 0, 1, 0, 1, 1, 1, 1, 0, 0, 1,\n",
       "       0, 0, 1, 0, 1, 0, 1, 0, 1, 0, 0, 0, 0, 1, 0, 1, 0, 0, 1, 1, 1, 0,\n",
       "       1, 1, 0, 0, 1, 0, 1, 1, 0, 1, 1, 1, 1, 1, 1, 0, 0, 1, 1, 0, 1, 0,\n",
       "       1, 0, 1, 1, 1, 1, 1, 0, 0, 0, 0, 0, 1, 1, 0, 0, 0, 1, 1, 0, 1, 0,\n",
       "       0, 1, 1, 0, 0, 0, 0, 0, 0, 1, 1, 1, 1, 0, 0, 0, 1, 0, 0, 1, 1, 0,\n",
       "       1, 1, 0, 1, 0, 1, 1, 1, 1, 1, 1, 0, 0, 0, 1, 1, 1, 1, 1, 0, 0, 1,\n",
       "       1, 0, 0, 1, 1, 0, 1, 1, 1, 1, 0, 1, 0, 1, 1, 0, 1, 0, 1, 0, 1, 0,\n",
       "       1, 1, 0, 1, 1, 1, 1, 0, 1, 1, 0, 0, 0, 0, 0, 0, 1, 0, 1, 1, 1, 0,\n",
       "       1, 0, 1, 0, 1, 0, 1, 1, 0, 1, 0, 1, 1, 1, 0, 0, 1, 0, 0, 0, 1, 1,\n",
       "       1, 1, 1, 1, 1, 0, 1, 1, 0, 1, 0, 1, 0, 1, 1, 0, 0, 1, 0, 0, 1, 1,\n",
       "       1, 0, 1, 0, 1, 0, 1, 0, 1, 0, 1, 0, 1, 1, 1, 1, 0, 1, 1, 1, 1, 0,\n",
       "       0, 0, 1, 0, 0, 0, 1, 1, 0, 1, 1, 1, 1, 1, 1, 0, 1, 1, 0, 1, 0, 1,\n",
       "       0, 0, 0, 0, 0, 0, 1, 0, 0, 1, 0, 1, 1, 0, 0, 0, 0, 0, 1, 1, 0, 1,\n",
       "       0, 1, 1, 1, 0, 1, 1, 1, 0, 1, 0, 1, 0, 0, 0, 1, 0, 1, 1, 0, 1, 1,\n",
       "       0, 0, 0, 1, 1, 1, 1, 0, 1, 0, 1, 1, 1, 0, 0, 1, 0, 1, 1, 1, 0, 0,\n",
       "       0, 1, 1, 1, 0, 1, 1, 0, 1, 0, 0, 0, 0, 1, 1, 1, 1, 1, 1, 0, 1, 1,\n",
       "       0, 0, 1, 1, 1, 1, 0, 1, 0, 0, 1, 0, 1, 1, 1, 1, 0, 0, 0, 1, 0, 1,\n",
       "       1, 1, 1, 1, 1, 0, 1, 1, 1, 1, 1, 1, 0, 1, 1, 0, 0, 0, 1, 0, 0, 0,\n",
       "       0, 0, 1, 0, 1, 1, 0, 0, 0, 1, 1, 0, 1, 1, 1, 0, 1, 1, 0, 1, 1, 1,\n",
       "       1, 1, 0, 0, 1, 1, 1, 1, 0, 1, 0, 0, 1, 0, 1, 1, 1, 0, 0, 1, 1, 0,\n",
       "       1, 0, 1, 0, 1, 0, 1, 0, 1, 0, 1, 1, 0, 1, 1, 1, 1, 0, 0, 1, 1, 0,\n",
       "       0, 0, 1, 0, 1, 0, 1, 1, 1, 0, 1, 1, 0, 0, 0, 1, 1, 0, 0, 1, 0, 1,\n",
       "       1, 0, 0, 0, 1, 0, 0, 0, 0, 1, 0, 1, 1, 1, 1, 0, 1, 0, 0, 0, 0, 1,\n",
       "       0, 0, 1, 0, 0, 0, 0, 0, 0, 0, 1, 0, 0, 1, 0, 1, 1, 1, 1, 1, 0, 1,\n",
       "       1, 1, 0, 1, 1, 0, 1, 0, 1, 1, 1, 1, 0, 1, 1, 0, 0, 1, 1, 0, 1, 0,\n",
       "       0, 0, 1])"
      ]
     },
     "execution_count": 115,
     "metadata": {},
     "output_type": "execute_result"
    }
   ],
   "source": [
    "previsoes_treino = logistica.predict(x_treino)\n",
    "previsoes_treino"
   ]
  },
  {
   "cell_type": "code",
   "execution_count": 116,
   "metadata": {
    "id": "T4imJ5_w17mt"
   },
   "outputs": [
    {
     "data": {
      "text/plain": [
       "0.8486739469578783"
      ]
     },
     "execution_count": 116,
     "metadata": {},
     "output_type": "execute_result"
    }
   ],
   "source": [
    "accuracy_score(y_treino, previsoes_treino)"
   ]
  },
  {
   "cell_type": "code",
   "execution_count": 117,
   "metadata": {
    "id": "2Ms9dnHk17mu"
   },
   "outputs": [
    {
     "data": {
      "text/plain": [
       "array([[238,  51],\n",
       "       [ 46, 306]])"
      ]
     },
     "execution_count": 117,
     "metadata": {},
     "output_type": "execute_result"
    }
   ],
   "source": [
    "confusion_matrix(y_treino, previsoes_treino)"
   ]
  },
  {
   "cell_type": "markdown",
   "metadata": {
    "id": "rGdamAVpJfJ5"
   },
   "source": [
    "### <font color='purple'>**Validação Cruzada**"
   ]
  },
  {
   "cell_type": "code",
   "execution_count": 118,
   "metadata": {
    "id": "IcNfFmq9JfJ6"
   },
   "outputs": [],
   "source": [
    "from sklearn.model_selection import KFold\n",
    "from sklearn.model_selection import cross_val_score"
   ]
  },
  {
   "cell_type": "code",
   "execution_count": 119,
   "metadata": {
    "id": "srKfNrUoJfJ6"
   },
   "outputs": [],
   "source": [
    "# Separando os dados em folds\n",
    "kfold = KFold(n_splits = 30, shuffle=True, random_state = 5)"
   ]
  },
  {
   "cell_type": "code",
   "execution_count": 120,
   "metadata": {
    "id": "eHZjsD-RJfJ7"
   },
   "outputs": [
    {
     "name": "stdout",
     "output_type": "stream",
     "text": [
      "Acurácia Média: 85.83%\n"
     ]
    }
   ],
   "source": [
    "# Criando o modelo\n",
    "modelo = LogisticRegression(random_state=1, max_iter=600, penalty=\"l2\",\n",
    "                               tol=0.0001, C=1,solver=\"lbfgs\")\n",
    "resultado = cross_val_score(modelo, previsores3_esc, alvo, cv = kfold)\n",
    "\n",
    "# Usamos a média e o desvio padrão\n",
    "print(\"Acurácia Média: %.2f%%\" % (resultado.mean() * 100.0))"
   ]
  },
  {
   "cell_type": "markdown",
   "metadata": {
    "id": "KmKIO-uUv31v"
   },
   "source": [
    "Naive Bayes = 84,78% (treino e teste) - 234 acertos e 85,17% (validação cruzada) : previsores3_esc\n",
    "\n",
    "SVM = 86,23% - 238 acertos e 85,72% (validação cruzada) : previsores3-esc - SVC(kernel='rbf', random_state=1, C = 2)\n",
    "\n",
    "Regressão logística = 86,23% - 238 acertos e 85,83% (validação cruzada) : previsores3_esc - LogisticRegression(random_state=1, max_iter=600, penalty=\"l2\", tol=0.0001, C=1,solver=\"lbfgs\")"
   ]
  },
  {
   "cell_type": "markdown",
   "metadata": {
    "id": "GETCbQj7v32B"
   },
   "source": [
    "# <font color='purple'>**APRENDIZAGEM BASEADA EM INSTÂNCIAS (KNN)**"
   ]
  },
  {
   "cell_type": "markdown",
   "metadata": {
    "id": "AXOVpUsGbnlK"
   },
   "source": [
    "https://scikit-learn.org/stable/modules/generated/sklearn.neighbors.KNeighborsClassifier.html"
   ]
  },
  {
   "cell_type": "code",
   "execution_count": 121,
   "metadata": {
    "id": "u3_VSVAFwo8H"
   },
   "outputs": [],
   "source": [
    "from sklearn.neighbors import KNeighborsClassifier"
   ]
  },
  {
   "cell_type": "code",
   "execution_count": 122,
   "metadata": {
    "id": "xkC1VdFmXvcz"
   },
   "outputs": [
    {
     "data": {
      "text/plain": [
       "KNeighborsClassifier(n_neighbors=7, p=1)"
      ]
     },
     "execution_count": 122,
     "metadata": {},
     "output_type": "execute_result"
    }
   ],
   "source": [
    "knn = KNeighborsClassifier(n_neighbors=7, metric='minkowski', p=1)\n",
    "knn.fit(x_treino, y_treino)"
   ]
  },
  {
   "cell_type": "markdown",
   "metadata": {
    "id": "CJB-tW-g2P4_"
   },
   "source": [
    "https://scikit-learn.org/stable/modules/generated/sklearn.metrics.DistanceMetric.html"
   ]
  },
  {
   "cell_type": "code",
   "execution_count": 123,
   "metadata": {
    "id": "sSCtq6WKYlFx"
   },
   "outputs": [
    {
     "data": {
      "text/plain": [
       "array([1, 1, 1, 1, 1, 0, 0, 0, 0, 1, 1, 1, 1, 1, 1, 1, 1, 1, 0, 0, 1, 1,\n",
       "       1, 0, 0, 0, 1, 1, 0, 1, 1, 0, 0, 0, 1, 0, 0, 0, 1, 0, 0, 1, 1, 1,\n",
       "       1, 0, 0, 0, 1, 1, 1, 0, 1, 1, 1, 0, 0, 1, 1, 0, 1, 1, 0, 0, 1, 1,\n",
       "       1, 0, 1, 0, 1, 1, 1, 1, 1, 1, 1, 1, 1, 1, 0, 1, 0, 1, 1, 0, 1, 1,\n",
       "       0, 0, 1, 1, 0, 0, 1, 0, 1, 0, 1, 1, 0, 1, 1, 1, 0, 0, 0, 0, 0, 0,\n",
       "       1, 1, 1, 1, 0, 1, 0, 1, 1, 1, 1, 1, 1, 0, 0, 1, 1, 0, 0, 1, 0, 1,\n",
       "       1, 0, 1, 1, 1, 1, 1, 0, 1, 1, 0, 1, 0, 0, 1, 1, 0, 0, 0, 1, 1, 0,\n",
       "       1, 1, 1, 1, 0, 1, 1, 0, 1, 1, 1, 0, 1, 0, 1, 1, 1, 1, 0, 0, 0, 1,\n",
       "       1, 0, 1, 0, 1, 1, 1, 1, 0, 1, 1, 1, 1, 1, 0, 1, 1, 1, 1, 1, 0, 0,\n",
       "       1, 1, 1, 1, 0, 0, 1, 1, 0, 1, 1, 0, 0, 0, 0, 0, 0, 0, 1, 0, 1, 1,\n",
       "       1, 0, 1, 0, 1, 1, 0, 1, 1, 1, 0, 1, 1, 1, 0, 1, 0, 0, 0, 1, 1, 0,\n",
       "       1, 0, 0, 1, 0, 0, 1, 1, 1, 0, 1, 1, 0, 1, 1, 0, 0, 1, 1, 1, 0, 1,\n",
       "       0, 1, 0, 0, 0, 0, 0, 0, 0, 1, 0, 0])"
      ]
     },
     "execution_count": 123,
     "metadata": {},
     "output_type": "execute_result"
    }
   ],
   "source": [
    "previsoes_knn = knn.predict(x_teste)\n",
    "previsoes_knn"
   ]
  },
  {
   "cell_type": "code",
   "execution_count": 124,
   "metadata": {
    "id": "oG0I-trLxQ50"
   },
   "outputs": [
    {
     "data": {
      "text/plain": [
       "array([1, 0, 1, 0, 0, 0, 0, 0, 0, 0, 1, 0, 1, 1, 0, 1, 1, 1, 1, 0, 1, 1,\n",
       "       1, 0, 0, 0, 1, 1, 0, 0, 1, 0, 0, 0, 1, 0, 1, 0, 1, 0, 0, 1, 1, 1,\n",
       "       1, 0, 0, 1, 1, 1, 1, 0, 0, 1, 1, 0, 0, 0, 1, 0, 1, 1, 1, 0, 1, 1,\n",
       "       1, 0, 1, 0, 1, 1, 1, 1, 1, 1, 1, 1, 1, 0, 0, 1, 0, 0, 1, 1, 0, 1,\n",
       "       1, 0, 1, 0, 0, 1, 1, 0, 1, 0, 0, 0, 0, 1, 1, 1, 0, 1, 0, 0, 0, 1,\n",
       "       0, 1, 1, 1, 0, 1, 1, 1, 1, 1, 1, 1, 1, 0, 0, 1, 0, 1, 0, 1, 0, 1,\n",
       "       0, 1, 0, 0, 0, 1, 1, 0, 1, 1, 0, 1, 0, 0, 1, 1, 1, 0, 1, 1, 0, 0,\n",
       "       0, 0, 1, 1, 1, 0, 1, 1, 1, 0, 1, 0, 1, 0, 1, 0, 1, 1, 0, 0, 1, 0,\n",
       "       0, 1, 0, 1, 1, 1, 0, 1, 1, 1, 0, 1, 1, 0, 0, 0, 1, 1, 1, 1, 1, 0,\n",
       "       1, 0, 1, 1, 0, 1, 1, 0, 0, 0, 1, 0, 1, 1, 0, 1, 0, 1, 1, 1, 1, 1,\n",
       "       1, 1, 0, 0, 0, 1, 0, 1, 1, 1, 0, 1, 0, 1, 1, 1, 1, 1, 0, 1, 1, 0,\n",
       "       1, 0, 1, 0, 0, 0, 1, 0, 1, 0, 1, 1, 0, 0, 1, 0, 0, 1, 0, 1, 1, 0,\n",
       "       0, 0, 0, 0, 1, 0, 0, 1, 1, 1, 1, 1])"
      ]
     },
     "execution_count": 124,
     "metadata": {},
     "output_type": "execute_result"
    }
   ],
   "source": [
    "y_teste"
   ]
  },
  {
   "cell_type": "code",
   "execution_count": 125,
   "metadata": {
    "id": "aQYth6LjxOSG"
   },
   "outputs": [],
   "source": [
    "from sklearn.metrics import accuracy_score, confusion_matrix, classification_report"
   ]
  },
  {
   "cell_type": "code",
   "execution_count": 126,
   "metadata": {
    "id": "OWDZlThoxOSI"
   },
   "outputs": [
    {
     "name": "stdout",
     "output_type": "stream",
     "text": [
      "Acurácia: 69.57%\n"
     ]
    }
   ],
   "source": [
    "print(\"Acurácia: %.2f%%\" % (accuracy_score(y_teste, previsoes_knn) * 100.0))"
   ]
  },
  {
   "cell_type": "code",
   "execution_count": 127,
   "metadata": {
    "id": "-IGoTCdmxOSJ"
   },
   "outputs": [
    {
     "data": {
      "text/plain": [
       "array([[ 75,  46],\n",
       "       [ 38, 117]])"
      ]
     },
     "execution_count": 127,
     "metadata": {},
     "output_type": "execute_result"
    }
   ],
   "source": [
    "confusion_matrix(y_teste, previsoes_knn)"
   ]
  },
  {
   "cell_type": "code",
   "execution_count": 128,
   "metadata": {
    "id": "5V-bhRMvxOSJ"
   },
   "outputs": [
    {
     "name": "stdout",
     "output_type": "stream",
     "text": [
      "              precision    recall  f1-score   support\n",
      "\n",
      "           0       0.66      0.62      0.64       121\n",
      "           1       0.72      0.75      0.74       155\n",
      "\n",
      "    accuracy                           0.70       276\n",
      "   macro avg       0.69      0.69      0.69       276\n",
      "weighted avg       0.69      0.70      0.69       276\n",
      "\n"
     ]
    }
   ],
   "source": [
    "print(classification_report(y_teste, previsoes_knn))"
   ]
  },
  {
   "cell_type": "markdown",
   "metadata": {
    "id": "qEF7YW-Y2KT9"
   },
   "source": [
    "<font color='red'>**Análise dados de treino**"
   ]
  },
  {
   "cell_type": "code",
   "execution_count": 129,
   "metadata": {
    "id": "gmZgnjMe2KT-"
   },
   "outputs": [
    {
     "data": {
      "text/plain": [
       "array([1, 0, 1, 1, 1, 1, 1, 0, 0, 1, 1, 0, 1, 1, 1, 0, 0, 0, 0, 1, 0, 0,\n",
       "       1, 0, 1, 0, 0, 1, 1, 1, 1, 0, 1, 1, 0, 0, 1, 1, 0, 0, 0, 1, 0, 0,\n",
       "       1, 1, 0, 1, 1, 1, 0, 0, 1, 0, 1, 0, 1, 0, 1, 1, 0, 0, 1, 0, 1, 1,\n",
       "       1, 1, 1, 0, 1, 1, 1, 1, 0, 0, 0, 1, 0, 1, 1, 1, 1, 1, 0, 1, 1, 1,\n",
       "       1, 1, 1, 0, 0, 1, 1, 1, 1, 1, 1, 1, 1, 1, 1, 0, 1, 1, 1, 0, 0, 1,\n",
       "       0, 0, 1, 1, 1, 0, 1, 1, 0, 0, 0, 0, 0, 1, 1, 1, 1, 0, 1, 1, 1, 0,\n",
       "       1, 1, 0, 1, 0, 0, 1, 1, 0, 1, 1, 1, 1, 1, 0, 1, 1, 1, 1, 1, 1, 0,\n",
       "       1, 0, 1, 0, 1, 1, 1, 1, 0, 0, 1, 1, 1, 1, 0, 1, 0, 1, 1, 0, 1, 0,\n",
       "       0, 1, 1, 0, 1, 0, 0, 0, 0, 1, 1, 1, 1, 0, 0, 1, 1, 1, 0, 0, 1, 1,\n",
       "       1, 1, 1, 0, 0, 1, 1, 0, 0, 0, 0, 1, 0, 0, 1, 1, 1, 1, 1, 0, 1, 1,\n",
       "       1, 0, 0, 1, 1, 0, 1, 1, 1, 1, 1, 1, 1, 1, 1, 0, 1, 0, 1, 0, 1, 0,\n",
       "       1, 1, 0, 1, 1, 0, 1, 1, 1, 1, 0, 0, 0, 0, 0, 0, 0, 0, 1, 0, 1, 0,\n",
       "       1, 0, 1, 1, 1, 0, 0, 1, 1, 0, 0, 1, 1, 0, 0, 0, 1, 0, 0, 0, 1, 1,\n",
       "       0, 1, 1, 1, 1, 0, 1, 1, 1, 0, 0, 0, 0, 1, 1, 0, 0, 1, 0, 1, 1, 1,\n",
       "       1, 0, 1, 0, 0, 0, 1, 0, 1, 0, 1, 0, 0, 1, 1, 1, 0, 1, 0, 1, 1, 0,\n",
       "       0, 1, 1, 0, 0, 0, 0, 1, 0, 1, 1, 1, 1, 1, 1, 0, 1, 1, 0, 1, 0, 1,\n",
       "       0, 0, 1, 0, 0, 1, 1, 1, 0, 0, 0, 1, 1, 0, 0, 0, 0, 0, 1, 1, 1, 1,\n",
       "       1, 1, 1, 1, 1, 1, 1, 1, 0, 1, 0, 1, 0, 0, 1, 1, 0, 0, 1, 1, 1, 1,\n",
       "       0, 1, 1, 1, 0, 1, 1, 0, 1, 1, 1, 1, 1, 0, 0, 1, 0, 1, 1, 1, 0, 1,\n",
       "       1, 1, 1, 1, 1, 1, 1, 0, 1, 1, 1, 0, 0, 1, 1, 0, 1, 1, 1, 1, 1, 1,\n",
       "       0, 1, 1, 1, 0, 1, 0, 1, 1, 0, 1, 0, 1, 1, 1, 1, 0, 0, 0, 1, 0, 1,\n",
       "       1, 0, 1, 1, 1, 0, 1, 0, 1, 1, 1, 1, 0, 1, 1, 0, 0, 0, 0, 0, 0, 0,\n",
       "       0, 0, 1, 1, 1, 1, 0, 1, 0, 1, 1, 0, 1, 1, 1, 0, 1, 1, 0, 1, 1, 1,\n",
       "       1, 1, 0, 0, 0, 1, 0, 1, 0, 1, 1, 0, 1, 0, 1, 1, 1, 1, 0, 1, 1, 0,\n",
       "       1, 0, 0, 1, 1, 0, 1, 0, 0, 0, 0, 1, 0, 1, 0, 1, 1, 0, 0, 1, 0, 1,\n",
       "       0, 0, 1, 0, 1, 0, 1, 1, 1, 0, 1, 1, 1, 0, 0, 1, 1, 0, 1, 1, 0, 1,\n",
       "       1, 0, 1, 0, 1, 1, 0, 0, 0, 1, 1, 1, 1, 1, 0, 0, 1, 0, 1, 0, 0, 0,\n",
       "       0, 0, 1, 0, 0, 1, 1, 0, 0, 0, 1, 1, 0, 1, 1, 1, 1, 0, 0, 1, 0, 1,\n",
       "       1, 1, 0, 1, 1, 1, 1, 0, 1, 1, 1, 1, 0, 1, 1, 0, 0, 1, 1, 0, 1, 0,\n",
       "       1, 0, 1])"
      ]
     },
     "execution_count": 129,
     "metadata": {},
     "output_type": "execute_result"
    }
   ],
   "source": [
    "previsoes_treino = knn.predict(x_treino)\n",
    "previsoes_treino"
   ]
  },
  {
   "cell_type": "code",
   "execution_count": 130,
   "metadata": {
    "id": "q5pLRV6J2KT_"
   },
   "outputs": [
    {
     "name": "stdout",
     "output_type": "stream",
     "text": [
      "Acurácia: 79.72%\n"
     ]
    }
   ],
   "source": [
    "print(\"Acurácia: %.2f%%\" % (accuracy_score(y_treino, previsoes_treino) * 100.0))\n",
    "#accuracy_score(y_treino, previsoes_treino) * 100.0"
   ]
  },
  {
   "cell_type": "code",
   "execution_count": 131,
   "metadata": {
    "id": "w4ce2FGJ2KT_"
   },
   "outputs": [
    {
     "data": {
      "text/plain": [
       "array([[209,  80],\n",
       "       [ 50, 302]])"
      ]
     },
     "execution_count": 131,
     "metadata": {},
     "output_type": "execute_result"
    }
   ],
   "source": [
    "confusion_matrix(y_treino, previsoes_treino)"
   ]
  },
  {
   "cell_type": "markdown",
   "metadata": {
    "id": "pUNWBzC8KJ5v"
   },
   "source": [
    "### <font color='red'>**Validação Cruzada**"
   ]
  },
  {
   "cell_type": "code",
   "execution_count": 132,
   "metadata": {
    "id": "b88vNYd8KJ5w"
   },
   "outputs": [],
   "source": [
    "from sklearn.model_selection import KFold\n",
    "from sklearn.model_selection import cross_val_score"
   ]
  },
  {
   "cell_type": "code",
   "execution_count": 133,
   "metadata": {
    "id": "nG58w5CNKJ5w"
   },
   "outputs": [],
   "source": [
    "# Separando os dados em folds\n",
    "kfold = KFold(n_splits = 30, shuffle=True, random_state = 5)"
   ]
  },
  {
   "cell_type": "code",
   "execution_count": 134,
   "metadata": {
    "id": "V9BM96VTKJ5w"
   },
   "outputs": [
    {
     "name": "stdout",
     "output_type": "stream",
     "text": [
      "Acurácia Média: 85.84%\n"
     ]
    }
   ],
   "source": [
    "# Criando o modelo\n",
    "modelo = KNeighborsClassifier(n_neighbors=7, metric='minkowski', p = 1)\n",
    "resultado = cross_val_score(modelo, previsores3_esc, alvo, cv = kfold)\n",
    "\n",
    "# Usamos a média e o desvio padrão\n",
    "print(\"Acurácia Média: %.2f%%\" % (resultado.mean() * 100.0))"
   ]
  },
  {
   "cell_type": "markdown",
   "metadata": {
    "id": "ovmlWcN6xOSK"
   },
   "source": [
    "Naive Bayes = 84,78% (treino e teste) - 234 acertos e 85,17% (validação cruzada) : previsores3_esc\n",
    "\n",
    "SVM = 86,23% - 238 acertos e 85,72% (validação cruzada) : previsores3-esc - SVC(kernel='rbf', random_state=1, C = 2)\n",
    "\n",
    "Regressão logística = 86,23% - 238 acertos e 85,83% (validação cruzada) : previsores3_esc - LogisticRegression(random_state=1, max_iter=600, penalty=\"l2\", tol=0.0001, C=1,solver=\"lbfgs\")\n",
    "\n",
    "KNN = 84,06% - 232 acertos e 85,84% (validação cruzada) : previsores3_esc ou previsores_esc - KNeighborsClassifier(n_neighbors=7, metric='minkowski', p = 1) \n",
    "\n"
   ]
  },
  {
   "cell_type": "markdown",
   "metadata": {
    "id": "VdGvKcYjODGt"
   },
   "source": [
    "# <font color='purple'>**ÁRVORE DE DECISÃO**"
   ]
  },
  {
   "cell_type": "markdown",
   "metadata": {
    "id": "i65VtZ4pcQGP"
   },
   "source": [
    "https://scikit-learn.org/stable/modules/tree.html"
   ]
  },
  {
   "cell_type": "code",
   "execution_count": 135,
   "metadata": {
    "id": "-2oaMph5OFa2"
   },
   "outputs": [],
   "source": [
    "from sklearn.tree import DecisionTreeClassifier"
   ]
  },
  {
   "cell_type": "code",
   "execution_count": 136,
   "metadata": {
    "id": "Zxu4_zhCOMVj"
   },
   "outputs": [
    {
     "data": {
      "text/plain": [
       "DecisionTreeClassifier(criterion='entropy', max_depth=3, random_state=0)"
      ]
     },
     "execution_count": 136,
     "metadata": {},
     "output_type": "execute_result"
    }
   ],
   "source": [
    "arvore = DecisionTreeClassifier(criterion='entropy', random_state = 0, max_depth=3)\n",
    "arvore.fit(x_treino, y_treino)"
   ]
  },
  {
   "cell_type": "code",
   "execution_count": 137,
   "metadata": {
    "id": "UnxRfJZXOVkk"
   },
   "outputs": [
    {
     "data": {
      "text/plain": [
       "array([1, 1, 1, 0, 0, 0, 1, 0, 0, 0, 1, 1, 1, 1, 0, 1, 1, 1, 1, 0, 1, 1,\n",
       "       0, 0, 0, 0, 1, 1, 0, 1, 1, 0, 0, 0, 1, 0, 0, 0, 1, 0, 0, 1, 1, 1,\n",
       "       1, 0, 0, 1, 0, 1, 1, 0, 0, 0, 1, 0, 0, 0, 0, 0, 1, 1, 0, 0, 1, 1,\n",
       "       1, 0, 1, 0, 1, 1, 0, 1, 1, 1, 0, 1, 1, 1, 1, 1, 0, 0, 1, 1, 1, 1,\n",
       "       1, 0, 1, 0, 0, 0, 0, 0, 1, 0, 0, 0, 0, 1, 1, 1, 0, 1, 0, 0, 0, 0,\n",
       "       0, 1, 1, 1, 0, 1, 1, 1, 1, 1, 1, 1, 1, 0, 0, 1, 0, 1, 0, 1, 0, 1,\n",
       "       1, 1, 0, 0, 0, 1, 0, 0, 0, 1, 0, 1, 0, 0, 1, 0, 1, 0, 0, 1, 1, 0,\n",
       "       1, 0, 1, 0, 1, 0, 1, 0, 1, 0, 1, 0, 1, 0, 1, 0, 1, 0, 0, 0, 1, 1,\n",
       "       1, 0, 0, 1, 1, 1, 0, 1, 1, 1, 0, 1, 1, 0, 1, 0, 1, 0, 1, 0, 0, 0,\n",
       "       1, 0, 1, 1, 0, 1, 1, 0, 0, 0, 1, 0, 1, 1, 0, 0, 0, 0, 1, 0, 1, 1,\n",
       "       1, 1, 0, 1, 1, 1, 0, 1, 1, 1, 0, 1, 1, 1, 0, 1, 0, 1, 0, 1, 1, 0,\n",
       "       1, 0, 0, 0, 0, 0, 1, 0, 1, 0, 1, 0, 0, 0, 1, 0, 0, 1, 0, 1, 1, 0,\n",
       "       0, 0, 0, 0, 1, 0, 0, 1, 1, 1, 1, 1])"
      ]
     },
     "execution_count": 137,
     "metadata": {},
     "output_type": "execute_result"
    }
   ],
   "source": [
    "previsoes_arvore = arvore.predict(x_teste)\n",
    "previsoes_arvore"
   ]
  },
  {
   "cell_type": "code",
   "execution_count": 138,
   "metadata": {
    "id": "ozqiMkVAOke6"
   },
   "outputs": [
    {
     "data": {
      "text/plain": [
       "array([1, 0, 1, 0, 0, 0, 0, 0, 0, 0, 1, 0, 1, 1, 0, 1, 1, 1, 1, 0, 1, 1,\n",
       "       1, 0, 0, 0, 1, 1, 0, 0, 1, 0, 0, 0, 1, 0, 1, 0, 1, 0, 0, 1, 1, 1,\n",
       "       1, 0, 0, 1, 1, 1, 1, 0, 0, 1, 1, 0, 0, 0, 1, 0, 1, 1, 1, 0, 1, 1,\n",
       "       1, 0, 1, 0, 1, 1, 1, 1, 1, 1, 1, 1, 1, 0, 0, 1, 0, 0, 1, 1, 0, 1,\n",
       "       1, 0, 1, 0, 0, 1, 1, 0, 1, 0, 0, 0, 0, 1, 1, 1, 0, 1, 0, 0, 0, 1,\n",
       "       0, 1, 1, 1, 0, 1, 1, 1, 1, 1, 1, 1, 1, 0, 0, 1, 0, 1, 0, 1, 0, 1,\n",
       "       0, 1, 0, 0, 0, 1, 1, 0, 1, 1, 0, 1, 0, 0, 1, 1, 1, 0, 1, 1, 0, 0,\n",
       "       0, 0, 1, 1, 1, 0, 1, 1, 1, 0, 1, 0, 1, 0, 1, 0, 1, 1, 0, 0, 1, 0,\n",
       "       0, 1, 0, 1, 1, 1, 0, 1, 1, 1, 0, 1, 1, 0, 0, 0, 1, 1, 1, 1, 1, 0,\n",
       "       1, 0, 1, 1, 0, 1, 1, 0, 0, 0, 1, 0, 1, 1, 0, 1, 0, 1, 1, 1, 1, 1,\n",
       "       1, 1, 0, 0, 0, 1, 0, 1, 1, 1, 0, 1, 0, 1, 1, 1, 1, 1, 0, 1, 1, 0,\n",
       "       1, 0, 1, 0, 0, 0, 1, 0, 1, 0, 1, 1, 0, 0, 1, 0, 0, 1, 0, 1, 1, 0,\n",
       "       0, 0, 0, 0, 1, 0, 0, 1, 1, 1, 1, 1])"
      ]
     },
     "execution_count": 138,
     "metadata": {},
     "output_type": "execute_result"
    }
   ],
   "source": [
    "y_teste"
   ]
  },
  {
   "cell_type": "code",
   "execution_count": 139,
   "metadata": {
    "id": "fS4QmmG9vrl4"
   },
   "outputs": [],
   "source": [
    "from sklearn.metrics import accuracy_score, confusion_matrix, classification_report"
   ]
  },
  {
   "cell_type": "code",
   "execution_count": 140,
   "metadata": {
    "id": "9vuYKW1_Onqq"
   },
   "outputs": [
    {
     "name": "stdout",
     "output_type": "stream",
     "text": [
      "Acurácia: 83.70%\n"
     ]
    }
   ],
   "source": [
    "print(\"Acurácia: %.2f%%\" % (accuracy_score(y_teste, previsoes_arvore) * 100.0))"
   ]
  },
  {
   "cell_type": "code",
   "execution_count": 141,
   "metadata": {
    "id": "IAJonpblPUGh"
   },
   "outputs": [
    {
     "data": {
      "text/plain": [
       "array([[105,  16],\n",
       "       [ 29, 126]])"
      ]
     },
     "execution_count": 141,
     "metadata": {},
     "output_type": "execute_result"
    }
   ],
   "source": [
    "confusion_matrix(y_teste, previsoes_arvore)"
   ]
  },
  {
   "cell_type": "code",
   "execution_count": 142,
   "metadata": {
    "id": "wACzOEs-PcTo"
   },
   "outputs": [
    {
     "name": "stdout",
     "output_type": "stream",
     "text": [
      "              precision    recall  f1-score   support\n",
      "\n",
      "           0       0.78      0.87      0.82       121\n",
      "           1       0.89      0.81      0.85       155\n",
      "\n",
      "    accuracy                           0.84       276\n",
      "   macro avg       0.84      0.84      0.84       276\n",
      "weighted avg       0.84      0.84      0.84       276\n",
      "\n"
     ]
    }
   ],
   "source": [
    "print(classification_report(y_teste, previsoes_arvore))"
   ]
  },
  {
   "cell_type": "markdown",
   "metadata": {
    "id": "PXa_22cA1DcE"
   },
   "source": [
    "<font color='red'>**Análise dados de treino**"
   ]
  },
  {
   "cell_type": "code",
   "execution_count": 143,
   "metadata": {
    "id": "UZFn-68G1DcF"
   },
   "outputs": [
    {
     "data": {
      "text/plain": [
       "array([1, 0, 1, 1, 1, 0, 0, 0, 0, 0, 1, 0, 1, 1, 1, 0, 0, 0, 0, 1, 0, 1,\n",
       "       1, 1, 1, 0, 0, 1, 0, 1, 1, 0, 1, 1, 0, 0, 0, 1, 0, 1, 0, 1, 0, 0,\n",
       "       1, 1, 0, 1, 1, 1, 1, 0, 1, 0, 1, 0, 1, 0, 1, 0, 0, 0, 0, 0, 1, 1,\n",
       "       0, 1, 1, 0, 0, 1, 1, 1, 0, 0, 0, 1, 0, 1, 1, 1, 1, 1, 0, 1, 1, 1,\n",
       "       1, 1, 0, 0, 0, 0, 1, 1, 1, 1, 1, 1, 0, 0, 0, 1, 1, 1, 1, 0, 0, 1,\n",
       "       0, 0, 1, 0, 1, 0, 1, 0, 1, 0, 0, 0, 0, 1, 0, 1, 0, 0, 1, 1, 1, 0,\n",
       "       0, 1, 0, 0, 1, 0, 1, 1, 0, 1, 1, 1, 1, 1, 1, 0, 0, 1, 1, 0, 1, 0,\n",
       "       1, 0, 1, 1, 1, 0, 1, 0, 0, 0, 0, 0, 1, 0, 0, 0, 0, 1, 1, 0, 1, 1,\n",
       "       0, 1, 1, 0, 0, 0, 0, 0, 0, 1, 1, 1, 1, 0, 0, 0, 1, 0, 0, 1, 1, 1,\n",
       "       1, 1, 0, 0, 0, 1, 1, 0, 0, 1, 1, 0, 0, 0, 1, 1, 1, 1, 1, 0, 0, 1,\n",
       "       1, 0, 0, 1, 1, 0, 1, 1, 1, 1, 1, 1, 0, 1, 1, 0, 1, 0, 1, 0, 1, 0,\n",
       "       1, 1, 1, 0, 1, 1, 1, 1, 1, 1, 0, 0, 0, 0, 0, 0, 0, 0, 0, 0, 1, 0,\n",
       "       1, 0, 1, 0, 1, 0, 1, 1, 0, 0, 0, 1, 1, 0, 0, 0, 1, 0, 0, 0, 1, 1,\n",
       "       0, 0, 1, 1, 1, 0, 1, 1, 1, 1, 0, 0, 0, 1, 1, 0, 0, 1, 0, 0, 1, 1,\n",
       "       1, 0, 1, 0, 0, 0, 1, 0, 1, 0, 1, 0, 1, 1, 1, 1, 0, 1, 1, 1, 1, 0,\n",
       "       0, 0, 1, 0, 0, 0, 1, 1, 0, 1, 1, 1, 1, 1, 1, 1, 1, 1, 0, 1, 0, 1,\n",
       "       0, 0, 0, 1, 0, 0, 1, 1, 0, 0, 0, 1, 1, 0, 0, 0, 0, 0, 1, 1, 0, 1,\n",
       "       0, 1, 1, 1, 0, 0, 1, 1, 0, 1, 0, 1, 0, 0, 0, 1, 0, 0, 1, 0, 1, 1,\n",
       "       0, 0, 1, 1, 1, 1, 1, 0, 1, 0, 1, 1, 1, 0, 0, 1, 0, 1, 1, 1, 0, 0,\n",
       "       0, 1, 1, 0, 0, 1, 1, 0, 0, 1, 0, 0, 0, 1, 1, 0, 1, 1, 1, 0, 1, 1,\n",
       "       0, 0, 1, 1, 0, 1, 0, 1, 0, 0, 1, 0, 1, 1, 1, 1, 0, 0, 1, 1, 0, 1,\n",
       "       1, 1, 1, 1, 1, 0, 1, 0, 1, 1, 1, 1, 0, 1, 1, 0, 0, 0, 1, 0, 0, 0,\n",
       "       0, 0, 1, 0, 1, 1, 1, 0, 0, 1, 1, 0, 1, 1, 1, 0, 1, 1, 0, 0, 1, 1,\n",
       "       1, 1, 0, 0, 1, 1, 0, 1, 0, 1, 0, 0, 0, 0, 1, 1, 0, 1, 0, 1, 1, 0,\n",
       "       1, 0, 1, 0, 1, 0, 1, 0, 0, 0, 1, 1, 0, 1, 1, 0, 1, 0, 0, 1, 1, 0,\n",
       "       0, 0, 1, 0, 1, 0, 1, 1, 1, 0, 1, 1, 1, 0, 0, 0, 1, 0, 0, 1, 0, 1,\n",
       "       1, 1, 0, 0, 1, 0, 0, 1, 0, 1, 0, 1, 1, 1, 1, 0, 1, 0, 0, 0, 0, 0,\n",
       "       0, 0, 0, 0, 0, 1, 0, 0, 0, 0, 1, 0, 1, 1, 0, 1, 1, 1, 1, 1, 0, 1,\n",
       "       1, 1, 0, 1, 1, 0, 1, 0, 1, 1, 0, 1, 0, 1, 1, 0, 0, 1, 1, 0, 1, 0,\n",
       "       1, 0, 1])"
      ]
     },
     "execution_count": 143,
     "metadata": {},
     "output_type": "execute_result"
    }
   ],
   "source": [
    "previsoes_treino = arvore.predict(x_treino)\n",
    "previsoes_treino"
   ]
  },
  {
   "cell_type": "code",
   "execution_count": 144,
   "metadata": {
    "id": "mDqKNd3v1DcG"
   },
   "outputs": [
    {
     "name": "stdout",
     "output_type": "stream",
     "text": [
      "Acurácia: 85.18%\n"
     ]
    }
   ],
   "source": [
    "print(\"Acurácia: %.2f%%\" % (accuracy_score(y_treino, previsoes_treino) * 100.0))\n",
    "#accuracy_score(y_treino, previsoes_treino)"
   ]
  },
  {
   "cell_type": "code",
   "execution_count": 145,
   "metadata": {
    "id": "dMQiq4o01DcG"
   },
   "outputs": [
    {
     "data": {
      "text/plain": [
       "array([[249,  40],\n",
       "       [ 55, 297]])"
      ]
     },
     "execution_count": 145,
     "metadata": {},
     "output_type": "execute_result"
    }
   ],
   "source": [
    "confusion_matrix(y_treino, previsoes_treino)"
   ]
  },
  {
   "cell_type": "markdown",
   "metadata": {
    "id": "dxwugdgiEhdw"
   },
   "source": [
    "### <font color='purple'>**Validação Cruzada**"
   ]
  },
  {
   "cell_type": "code",
   "execution_count": 146,
   "metadata": {
    "id": "ArJOjabUEZJf"
   },
   "outputs": [],
   "source": [
    "from sklearn.model_selection import KFold\n",
    "from sklearn.model_selection import cross_val_score"
   ]
  },
  {
   "cell_type": "code",
   "execution_count": 147,
   "metadata": {
    "id": "zfWK55DrEZJg"
   },
   "outputs": [],
   "source": [
    "# Separando os dados em folds\n",
    "kfold = KFold(n_splits = 30, shuffle=True, random_state = 5)"
   ]
  },
  {
   "cell_type": "code",
   "execution_count": 148,
   "metadata": {
    "id": "MwGsKOFZEZJh"
   },
   "outputs": [
    {
     "name": "stdout",
     "output_type": "stream",
     "text": [
      "Acurácia Média: 83.32%\n"
     ]
    }
   ],
   "source": [
    "# Criando o modelo\n",
    "modelo = DecisionTreeClassifier(criterion='entropy', random_state = 0, max_depth=3)\n",
    "resultado = cross_val_score(modelo, previsores3_esc, alvo, cv = kfold)\n",
    "\n",
    "# Usamos a média e o desvio padrão\n",
    "print(\"Acurácia Média: %.2f%%\" % (resultado.mean() * 100.0))"
   ]
  },
  {
   "cell_type": "markdown",
   "metadata": {
    "id": "-Ti98jalQK23"
   },
   "source": [
    "Naive Bayes = 84,78% (treino e teste) - 234 acertos e 85,17% (validação cruzada) : previsores3_esc\n",
    "\n",
    "SVM = 86,23% - 238 acertos e 85,72% (validação cruzada) : previsores3-esc - SVC(kernel='rbf', random_state=1, C = 2)\n",
    "\n",
    "Regressão logística = 86,23% - 238 acertos e 85,83% (validação cruzada) : previsores3_esc - LogisticRegression(random_state=1, max_iter=600, penalty=\"l2\", tol=0.0001, C=1,solver=\"lbfgs\")\n",
    "\n",
    "KNN = 84,06% - 232 acertos e 85,84% (validação cruzada) : previsores3_esc ou previsores_esc - KNeighborsClassifier(n_neighbors=7, metric='minkowski', p = 1)\n",
    "\n",
    "Árvore de decisão = 83,7% (treino e teste) - 231 acertos e 83,32% (validação cruzada): previsores3_esc - DecisionTreeClassifier(criterion='entropy', random_state = 0, max_depth=3)"
   ]
  },
  {
   "cell_type": "markdown",
   "metadata": {
    "id": "hw7px-UemoSc"
   },
   "source": [
    "# <font color='purple'>**RANDOM FOREST**"
   ]
  },
  {
   "cell_type": "markdown",
   "metadata": {
    "id": "HAUbw5xfcCYy"
   },
   "source": [
    "https://scikit-learn.org/stable/modules/generated/sklearn.ensemble.RandomForestClassifier.html"
   ]
  },
  {
   "cell_type": "code",
   "execution_count": 149,
   "metadata": {
    "id": "BqqXdinImokj"
   },
   "outputs": [],
   "source": [
    "from sklearn.ensemble import RandomForestClassifier"
   ]
  },
  {
   "cell_type": "code",
   "execution_count": 150,
   "metadata": {
    "id": "Klr3lymumztn"
   },
   "outputs": [
    {
     "data": {
      "text/plain": [
       "RandomForestClassifier(criterion='entropy', max_depth=4, n_estimators=150,\n",
       "                       random_state=0)"
      ]
     },
     "execution_count": 150,
     "metadata": {},
     "output_type": "execute_result"
    }
   ],
   "source": [
    "random = RandomForestClassifier(n_estimators=150, criterion='entropy', random_state = 0, max_depth=4)\n",
    "random.fit(x_treino, y_treino)"
   ]
  },
  {
   "cell_type": "code",
   "execution_count": 151,
   "metadata": {
    "id": "0JOqI4bQnY17"
   },
   "outputs": [
    {
     "data": {
      "text/plain": [
       "array([1, 1, 1, 0, 0, 0, 0, 0, 0, 0, 1, 1, 1, 1, 0, 1, 1, 1, 1, 0, 1, 1,\n",
       "       1, 0, 0, 0, 1, 1, 1, 1, 1, 0, 0, 0, 1, 0, 0, 0, 1, 0, 0, 1, 1, 1,\n",
       "       1, 0, 0, 1, 0, 1, 1, 0, 0, 0, 1, 0, 0, 0, 1, 0, 1, 1, 1, 0, 1, 1,\n",
       "       1, 0, 1, 0, 1, 1, 0, 1, 1, 1, 1, 1, 1, 1, 1, 1, 0, 0, 1, 1, 1, 1,\n",
       "       1, 0, 1, 0, 0, 0, 1, 0, 1, 0, 0, 0, 0, 1, 1, 1, 0, 1, 0, 0, 0, 1,\n",
       "       0, 1, 1, 1, 0, 1, 0, 1, 1, 1, 1, 1, 1, 0, 1, 1, 0, 1, 0, 1, 0, 1,\n",
       "       1, 1, 0, 1, 1, 1, 1, 0, 0, 1, 0, 1, 0, 0, 1, 1, 1, 0, 0, 1, 1, 0,\n",
       "       1, 0, 1, 1, 1, 0, 1, 1, 1, 0, 1, 0, 1, 0, 1, 0, 1, 1, 0, 0, 1, 1,\n",
       "       1, 0, 0, 1, 1, 1, 0, 1, 1, 1, 0, 1, 1, 0, 0, 0, 1, 0, 1, 1, 0, 0,\n",
       "       1, 0, 1, 1, 0, 1, 1, 0, 0, 0, 1, 0, 1, 1, 0, 0, 0, 0, 1, 0, 1, 1,\n",
       "       1, 0, 0, 1, 1, 1, 0, 1, 0, 1, 0, 1, 1, 1, 0, 1, 1, 1, 0, 1, 1, 0,\n",
       "       1, 0, 0, 0, 0, 0, 1, 0, 1, 0, 1, 0, 0, 0, 1, 0, 0, 1, 0, 1, 1, 0,\n",
       "       0, 0, 0, 0, 1, 0, 0, 1, 1, 1, 1, 1])"
      ]
     },
     "execution_count": 151,
     "metadata": {},
     "output_type": "execute_result"
    }
   ],
   "source": [
    "previsoes_random = random.predict(x_teste)\n",
    "previsoes_random"
   ]
  },
  {
   "cell_type": "code",
   "execution_count": 152,
   "metadata": {
    "id": "fRN6hPPXn5qp"
   },
   "outputs": [
    {
     "data": {
      "text/plain": [
       "array([1, 0, 1, 0, 0, 0, 0, 0, 0, 0, 1, 0, 1, 1, 0, 1, 1, 1, 1, 0, 1, 1,\n",
       "       1, 0, 0, 0, 1, 1, 0, 0, 1, 0, 0, 0, 1, 0, 1, 0, 1, 0, 0, 1, 1, 1,\n",
       "       1, 0, 0, 1, 1, 1, 1, 0, 0, 1, 1, 0, 0, 0, 1, 0, 1, 1, 1, 0, 1, 1,\n",
       "       1, 0, 1, 0, 1, 1, 1, 1, 1, 1, 1, 1, 1, 0, 0, 1, 0, 0, 1, 1, 0, 1,\n",
       "       1, 0, 1, 0, 0, 1, 1, 0, 1, 0, 0, 0, 0, 1, 1, 1, 0, 1, 0, 0, 0, 1,\n",
       "       0, 1, 1, 1, 0, 1, 1, 1, 1, 1, 1, 1, 1, 0, 0, 1, 0, 1, 0, 1, 0, 1,\n",
       "       0, 1, 0, 0, 0, 1, 1, 0, 1, 1, 0, 1, 0, 0, 1, 1, 1, 0, 1, 1, 0, 0,\n",
       "       0, 0, 1, 1, 1, 0, 1, 1, 1, 0, 1, 0, 1, 0, 1, 0, 1, 1, 0, 0, 1, 0,\n",
       "       0, 1, 0, 1, 1, 1, 0, 1, 1, 1, 0, 1, 1, 0, 0, 0, 1, 1, 1, 1, 1, 0,\n",
       "       1, 0, 1, 1, 0, 1, 1, 0, 0, 0, 1, 0, 1, 1, 0, 1, 0, 1, 1, 1, 1, 1,\n",
       "       1, 1, 0, 0, 0, 1, 0, 1, 1, 1, 0, 1, 0, 1, 1, 1, 1, 1, 0, 1, 1, 0,\n",
       "       1, 0, 1, 0, 0, 0, 1, 0, 1, 0, 1, 1, 0, 0, 1, 0, 0, 1, 0, 1, 1, 0,\n",
       "       0, 0, 0, 0, 1, 0, 0, 1, 1, 1, 1, 1])"
      ]
     },
     "execution_count": 152,
     "metadata": {},
     "output_type": "execute_result"
    }
   ],
   "source": [
    "y_teste"
   ]
  },
  {
   "cell_type": "code",
   "execution_count": 153,
   "metadata": {
    "id": "cgB44VIOvpZf"
   },
   "outputs": [],
   "source": [
    "from sklearn.metrics import accuracy_score, confusion_matrix, classification_report"
   ]
  },
  {
   "cell_type": "code",
   "execution_count": 154,
   "metadata": {
    "id": "gnAuxYDDoDxM"
   },
   "outputs": [
    {
     "name": "stdout",
     "output_type": "stream",
     "text": [
      "Acurácia: 86.59%\n"
     ]
    }
   ],
   "source": [
    "print(\"Acurácia: %.2f%%\" % (accuracy_score(y_teste, previsoes_random) * 100.0))"
   ]
  },
  {
   "cell_type": "code",
   "execution_count": 155,
   "metadata": {
    "id": "zjAqh3e8oDxN"
   },
   "outputs": [
    {
     "data": {
      "text/plain": [
       "array([[103,  18],\n",
       "       [ 19, 136]])"
      ]
     },
     "execution_count": 155,
     "metadata": {},
     "output_type": "execute_result"
    }
   ],
   "source": [
    "confusion_matrix(y_teste, previsoes_random)"
   ]
  },
  {
   "cell_type": "code",
   "execution_count": null,
   "metadata": {
    "id": "IdpisYpjoDxO"
   },
   "outputs": [],
   "source": [
    "print(classification_report(y_teste, previsoes_random))"
   ]
  },
  {
   "cell_type": "markdown",
   "metadata": {
    "id": "e9NiPecr1bdw"
   },
   "source": [
    "<font color='red'>**Análise dados de treino**"
   ]
  },
  {
   "cell_type": "code",
   "execution_count": 156,
   "metadata": {
    "id": "DDs9J1hX1bdx"
   },
   "outputs": [
    {
     "data": {
      "text/plain": [
       "array([1, 0, 1, 1, 1, 1, 0, 0, 0, 0, 1, 0, 1, 1, 1, 0, 0, 0, 0, 1, 1, 1,\n",
       "       1, 1, 1, 0, 0, 1, 1, 1, 1, 0, 1, 1, 0, 0, 1, 1, 0, 1, 0, 1, 0, 0,\n",
       "       1, 1, 0, 1, 1, 1, 1, 0, 1, 0, 1, 0, 1, 0, 1, 0, 0, 0, 1, 0, 1, 1,\n",
       "       0, 1, 1, 0, 1, 1, 1, 1, 0, 0, 1, 1, 1, 1, 1, 1, 1, 1, 0, 1, 1, 1,\n",
       "       1, 1, 0, 1, 0, 0, 1, 1, 1, 1, 1, 1, 1, 1, 0, 1, 1, 1, 1, 0, 0, 1,\n",
       "       0, 0, 1, 0, 1, 0, 1, 0, 1, 0, 0, 0, 0, 1, 1, 1, 1, 0, 1, 1, 1, 0,\n",
       "       1, 1, 0, 0, 1, 0, 1, 1, 0, 1, 1, 1, 1, 1, 0, 0, 0, 1, 1, 0, 1, 0,\n",
       "       1, 0, 1, 1, 1, 0, 1, 0, 0, 0, 0, 1, 1, 0, 0, 0, 0, 1, 1, 0, 1, 0,\n",
       "       0, 1, 1, 0, 0, 0, 0, 0, 0, 1, 1, 1, 1, 1, 0, 0, 1, 0, 0, 1, 1, 1,\n",
       "       1, 1, 0, 0, 0, 1, 1, 1, 1, 1, 1, 0, 1, 0, 1, 1, 1, 1, 1, 0, 0, 1,\n",
       "       1, 0, 0, 1, 1, 1, 1, 1, 1, 1, 1, 1, 0, 1, 1, 0, 1, 0, 1, 0, 1, 0,\n",
       "       1, 1, 0, 1, 1, 1, 1, 1, 1, 1, 0, 0, 0, 0, 0, 0, 0, 0, 1, 0, 1, 0,\n",
       "       1, 0, 1, 0, 1, 0, 1, 1, 0, 0, 0, 1, 1, 0, 0, 0, 1, 0, 0, 0, 1, 1,\n",
       "       1, 1, 1, 1, 1, 0, 1, 1, 0, 1, 0, 1, 0, 1, 1, 0, 0, 1, 0, 0, 1, 1,\n",
       "       1, 0, 1, 0, 1, 0, 1, 0, 1, 1, 1, 0, 1, 1, 1, 1, 0, 1, 1, 1, 1, 0,\n",
       "       0, 0, 1, 0, 0, 0, 1, 1, 0, 1, 1, 1, 1, 1, 1, 0, 1, 1, 0, 1, 0, 1,\n",
       "       0, 0, 0, 1, 0, 1, 1, 1, 0, 1, 0, 1, 1, 0, 0, 0, 0, 0, 1, 1, 1, 1,\n",
       "       0, 1, 1, 1, 0, 1, 1, 1, 0, 1, 0, 1, 0, 0, 0, 1, 0, 1, 1, 1, 1, 1,\n",
       "       0, 0, 0, 1, 1, 1, 1, 0, 1, 1, 1, 1, 1, 0, 0, 1, 0, 1, 1, 1, 0, 0,\n",
       "       0, 1, 1, 0, 0, 1, 1, 0, 1, 1, 0, 0, 0, 1, 1, 1, 1, 1, 1, 1, 1, 1,\n",
       "       0, 0, 1, 1, 0, 1, 0, 1, 0, 0, 1, 0, 1, 1, 1, 1, 0, 0, 0, 1, 0, 1,\n",
       "       1, 1, 1, 1, 1, 0, 1, 0, 1, 1, 1, 1, 1, 1, 1, 0, 0, 0, 1, 0, 0, 0,\n",
       "       0, 0, 1, 0, 1, 1, 1, 0, 0, 1, 1, 0, 1, 1, 1, 0, 1, 1, 0, 0, 1, 1,\n",
       "       1, 1, 0, 0, 1, 1, 1, 1, 0, 1, 0, 0, 1, 0, 1, 1, 1, 1, 0, 1, 1, 0,\n",
       "       1, 0, 1, 0, 1, 0, 1, 0, 1, 0, 1, 1, 0, 1, 1, 1, 1, 0, 0, 1, 1, 0,\n",
       "       0, 1, 1, 0, 1, 0, 1, 1, 1, 0, 1, 1, 0, 1, 0, 1, 1, 0, 0, 1, 0, 1,\n",
       "       1, 1, 0, 0, 1, 0, 0, 1, 0, 1, 0, 1, 1, 1, 1, 0, 1, 0, 0, 0, 0, 0,\n",
       "       0, 0, 1, 0, 0, 1, 0, 0, 0, 0, 1, 0, 0, 1, 0, 1, 1, 1, 1, 1, 0, 1,\n",
       "       1, 1, 1, 1, 1, 0, 1, 1, 1, 1, 1, 1, 0, 1, 1, 0, 0, 1, 1, 0, 1, 0,\n",
       "       1, 0, 1])"
      ]
     },
     "execution_count": 156,
     "metadata": {},
     "output_type": "execute_result"
    }
   ],
   "source": [
    "previsoes_treino = random.predict(x_treino)\n",
    "previsoes_treino"
   ]
  },
  {
   "cell_type": "code",
   "execution_count": 160,
   "metadata": {
    "id": "MkH9uYfz1bdy"
   },
   "outputs": [
    {
     "name": "stdout",
     "output_type": "stream",
     "text": [
      "Acurácia: 89.08%\n"
     ]
    }
   ],
   "source": [
    "print(\"Acurácia: %.2f%%\" % (accuracy_score(y_treino, previsoes_treino)* 100.0))\n",
    "#accuracy_score(y_treino, previsoes_treino)"
   ]
  },
  {
   "cell_type": "code",
   "execution_count": 161,
   "metadata": {
    "id": "pLge3xVL1bdy"
   },
   "outputs": [
    {
     "data": {
      "text/plain": [
       "array([[241,  48],\n",
       "       [ 22, 330]])"
      ]
     },
     "execution_count": 161,
     "metadata": {},
     "output_type": "execute_result"
    }
   ],
   "source": [
    "confusion_matrix(y_treino, previsoes_treino)"
   ]
  },
  {
   "cell_type": "markdown",
   "metadata": {
    "id": "GH4nEvlaGOb7"
   },
   "source": [
    "### <font color='red'>**Validação Cruzada**"
   ]
  },
  {
   "cell_type": "code",
   "execution_count": 162,
   "metadata": {
    "id": "hreEC55-GOb8"
   },
   "outputs": [],
   "source": [
    "from sklearn.model_selection import KFold\n",
    "from sklearn.model_selection import cross_val_score"
   ]
  },
  {
   "cell_type": "code",
   "execution_count": 163,
   "metadata": {
    "id": "ETYEB99OGOb9"
   },
   "outputs": [],
   "source": [
    "# Separando os dados em folds\n",
    "kfold = KFold(n_splits = 30, shuffle=True, random_state = 5)"
   ]
  },
  {
   "cell_type": "code",
   "execution_count": 164,
   "metadata": {
    "id": "7GHcsag3GOb9"
   },
   "outputs": [
    {
     "name": "stdout",
     "output_type": "stream",
     "text": [
      "Acurácia Média: 85.92%\n"
     ]
    }
   ],
   "source": [
    "# Criando o modelo\n",
    "modelo = RandomForestClassifier(n_estimators=150, criterion='entropy', random_state = 0, max_depth=4)\n",
    "resultado = cross_val_score(modelo, previsores, alvo, cv = kfold)\n",
    "\n",
    "# Usamos a média e o desvio padrão\n",
    "print(\"Acurácia Média: %.2f%%\" % (resultado.mean() * 100.0))"
   ]
  },
  {
   "cell_type": "markdown",
   "metadata": {
    "id": "N3dUl9DDpNnz"
   },
   "source": [
    "Naive Bayes = 84,78% (treino e teste) - 234 acertos e 85,17% (validação cruzada) : previsores3_esc\n",
    "\n",
    "SVM = 86,23% - 238 acertos e 85,72% (validação cruzada) : previsores3-esc - SVC(kernel='rbf', random_state=1, C = 2)\n",
    "\n",
    "Regressão logística = 86,23% - 238 acertos e 85,83% (validação cruzada) : previsores3_esc - LogisticRegression(random_state=1, max_iter=600, penalty=\"l2\", tol=0.0001, C=1,solver=\"lbfgs\")\n",
    "\n",
    "KNN = 84,06% - 232 acertos e 85,84% (validação cruzada) : previsores3_esc ou previsores_esc - KNeighborsClassifier(n_neighbors=7, metric='minkowski', p = 1)\n",
    "\n",
    "Árvore de decisão = 83,7% (treino e teste) - 231 acertos e 83,32% (validação cruzada): previsores3_esc - DecisionTreeClassifier(criterion='entropy', random_state = 0, max_depth=3)\n",
    "\n",
    "Random Forest = 86,59% - 239 acertos e 85,92% (validação cruzada) : previsores - RandomForestClassifier(n_estimators=150, criterion='entropy', random_state = 0, max_depth=4)"
   ]
  },
  {
   "cell_type": "markdown",
   "metadata": {
    "id": "jH3OocboSGXH"
   },
   "source": [
    "# <font color='purple'>**XGBOOST**\n",
    "    \n",
    "- Para a instalação usar: !pip install xgboost"
   ]
  },
  {
   "cell_type": "markdown",
   "metadata": {
    "id": "OpLLJlcnbcsR"
   },
   "source": [
    "https://xgboost.readthedocs.io/en/stable/"
   ]
  },
  {
   "cell_type": "code",
   "execution_count": 170,
   "metadata": {
    "id": "PKdcu1J2Qk0h"
   },
   "outputs": [],
   "source": [
    "from xgboost import XGBClassifier"
   ]
  },
  {
   "cell_type": "code",
   "execution_count": 171,
   "metadata": {
    "id": "jyOMVARbQmLa"
   },
   "outputs": [
    {
     "data": {
      "text/plain": [
       "XGBClassifier(base_score=0.5, booster='gbtree', callbacks=None,\n",
       "              colsample_bylevel=1, colsample_bynode=1, colsample_bytree=1,\n",
       "              early_stopping_rounds=None, enable_categorical=False,\n",
       "              eval_metric=None, gamma=0, gpu_id=-1, grow_policy='depthwise',\n",
       "              importance_type=None, interaction_constraints='',\n",
       "              learning_rate=0.05, max_bin=256, max_cat_to_onehot=4,\n",
       "              max_delta_step=0, max_depth=2, max_leaves=0, min_child_weight=1,\n",
       "              missing=nan, monotone_constraints='()', n_estimators=250,\n",
       "              n_jobs=0, num_parallel_tree=1, predictor='auto', random_state=3,\n",
       "              reg_alpha=0, reg_lambda=1, ...)"
      ]
     },
     "execution_count": 171,
     "metadata": {},
     "output_type": "execute_result"
    }
   ],
   "source": [
    "xg = XGBClassifier(max_depth=2, learning_rate=0.05, n_estimators=250, objective='binary:logistic', random_state=3)\n",
    "xg.fit(x_treino,y_treino)"
   ]
  },
  {
   "cell_type": "code",
   "execution_count": 172,
   "metadata": {
    "id": "QrR1ZLZVQ5K4"
   },
   "outputs": [
    {
     "data": {
      "text/plain": [
       "array([1, 1, 1, 0, 0, 0, 0, 0, 0, 0, 1, 1, 1, 1, 0, 1, 1, 1, 1, 0, 1, 1,\n",
       "       1, 0, 0, 0, 1, 1, 1, 1, 1, 0, 0, 0, 1, 0, 0, 0, 1, 0, 0, 1, 1, 1,\n",
       "       1, 0, 0, 1, 0, 1, 1, 0, 0, 0, 1, 0, 0, 0, 1, 0, 1, 1, 1, 0, 1, 1,\n",
       "       1, 0, 1, 0, 1, 1, 0, 1, 1, 1, 1, 1, 1, 1, 1, 1, 0, 0, 1, 1, 1, 1,\n",
       "       1, 0, 1, 0, 0, 0, 1, 0, 1, 0, 0, 0, 0, 1, 1, 1, 0, 1, 0, 0, 0, 1,\n",
       "       0, 1, 1, 1, 0, 1, 0, 1, 1, 1, 1, 1, 1, 0, 1, 1, 0, 1, 0, 1, 0, 1,\n",
       "       1, 1, 0, 0, 0, 1, 1, 0, 0, 1, 0, 1, 0, 0, 1, 1, 1, 0, 0, 1, 1, 0,\n",
       "       1, 0, 1, 1, 1, 0, 1, 1, 1, 0, 1, 0, 1, 0, 1, 0, 1, 1, 0, 0, 1, 0,\n",
       "       1, 0, 0, 1, 1, 1, 0, 1, 1, 1, 0, 1, 1, 0, 1, 0, 1, 1, 1, 1, 0, 0,\n",
       "       1, 0, 1, 1, 0, 1, 1, 0, 0, 0, 1, 0, 1, 1, 0, 1, 0, 0, 1, 0, 1, 1,\n",
       "       1, 0, 0, 1, 1, 1, 0, 1, 0, 1, 0, 1, 1, 1, 0, 1, 1, 1, 0, 1, 1, 0,\n",
       "       1, 0, 0, 0, 0, 0, 1, 0, 1, 0, 1, 1, 0, 0, 1, 0, 0, 1, 0, 0, 1, 0,\n",
       "       1, 0, 0, 0, 1, 0, 0, 1, 1, 1, 1, 1])"
      ]
     },
     "execution_count": 172,
     "metadata": {},
     "output_type": "execute_result"
    }
   ],
   "source": [
    "previsoes_xg = xg.predict(x_teste)\n",
    "previsoes_xg"
   ]
  },
  {
   "cell_type": "code",
   "execution_count": 173,
   "metadata": {
    "id": "HSR36D1mRZpz"
   },
   "outputs": [],
   "source": [
    "from sklearn.metrics import accuracy_score, confusion_matrix, classification_report"
   ]
  },
  {
   "cell_type": "code",
   "execution_count": 174,
   "metadata": {
    "id": "UxMj0PznRZp0"
   },
   "outputs": [
    {
     "name": "stdout",
     "output_type": "stream",
     "text": [
      "Acurácia: 87.68%\n"
     ]
    }
   ],
   "source": [
    "print(\"Acurácia: %.2f%%\" % (accuracy_score(y_teste, previsoes_xg) * 100.0))"
   ]
  },
  {
   "cell_type": "code",
   "execution_count": 175,
   "metadata": {
    "id": "5PcyMmFqRZp1"
   },
   "outputs": [
    {
     "data": {
      "text/plain": [
       "array([[104,  17],\n",
       "       [ 17, 138]])"
      ]
     },
     "execution_count": 175,
     "metadata": {},
     "output_type": "execute_result"
    }
   ],
   "source": [
    "confusion_matrix(y_teste, previsoes_xg)"
   ]
  },
  {
   "cell_type": "code",
   "execution_count": 176,
   "metadata": {
    "id": "fBYjluOzRZp2"
   },
   "outputs": [
    {
     "name": "stdout",
     "output_type": "stream",
     "text": [
      "              precision    recall  f1-score   support\n",
      "\n",
      "           0       0.86      0.86      0.86       121\n",
      "           1       0.89      0.89      0.89       155\n",
      "\n",
      "    accuracy                           0.88       276\n",
      "   macro avg       0.87      0.87      0.87       276\n",
      "weighted avg       0.88      0.88      0.88       276\n",
      "\n"
     ]
    }
   ],
   "source": [
    "print(classification_report(y_teste, previsoes_xg))"
   ]
  },
  {
   "cell_type": "markdown",
   "metadata": {
    "id": "VLAUCC_t2dkX"
   },
   "source": [
    "<font color='red'>**Análise dados de treino**"
   ]
  },
  {
   "cell_type": "code",
   "execution_count": 177,
   "metadata": {
    "id": "K5oak1Jy2dkY"
   },
   "outputs": [
    {
     "data": {
      "text/plain": [
       "array([1, 0, 1, 1, 1, 1, 0, 0, 0, 0, 1, 0, 1, 1, 1, 0, 0, 0, 0, 1, 0, 1,\n",
       "       1, 1, 1, 0, 0, 1, 1, 1, 1, 0, 1, 1, 0, 0, 1, 1, 0, 1, 0, 1, 0, 0,\n",
       "       1, 1, 0, 1, 1, 1, 0, 0, 1, 0, 1, 0, 1, 0, 1, 0, 0, 0, 1, 0, 1, 1,\n",
       "       0, 0, 1, 0, 1, 1, 1, 1, 0, 0, 1, 1, 1, 1, 1, 1, 1, 1, 0, 1, 1, 1,\n",
       "       1, 1, 0, 1, 0, 0, 1, 1, 1, 1, 1, 1, 1, 1, 0, 1, 1, 1, 1, 0, 1, 1,\n",
       "       0, 0, 1, 0, 1, 0, 1, 0, 1, 0, 0, 0, 0, 1, 0, 1, 1, 0, 1, 1, 1, 0,\n",
       "       1, 1, 0, 0, 1, 0, 1, 1, 0, 1, 1, 1, 1, 1, 0, 0, 0, 1, 1, 0, 1, 0,\n",
       "       1, 0, 1, 1, 1, 0, 1, 0, 0, 0, 1, 0, 1, 0, 0, 0, 0, 1, 1, 0, 1, 0,\n",
       "       0, 1, 1, 0, 0, 0, 0, 0, 0, 1, 1, 1, 1, 1, 0, 0, 1, 0, 0, 1, 1, 1,\n",
       "       1, 1, 0, 0, 0, 1, 1, 1, 1, 1, 0, 0, 1, 0, 1, 1, 1, 1, 1, 0, 0, 1,\n",
       "       1, 0, 0, 1, 1, 1, 1, 1, 1, 1, 1, 1, 0, 1, 1, 0, 1, 0, 1, 0, 1, 0,\n",
       "       1, 1, 0, 1, 1, 1, 1, 1, 1, 1, 0, 0, 0, 0, 0, 0, 0, 0, 0, 0, 1, 0,\n",
       "       1, 0, 1, 1, 1, 0, 1, 1, 0, 0, 0, 1, 1, 0, 0, 0, 1, 0, 0, 0, 1, 1,\n",
       "       1, 1, 1, 1, 1, 0, 1, 1, 0, 1, 0, 1, 0, 1, 1, 0, 0, 1, 0, 1, 1, 1,\n",
       "       1, 0, 1, 0, 1, 0, 1, 0, 1, 1, 1, 0, 1, 1, 1, 1, 0, 1, 1, 1, 1, 0,\n",
       "       0, 0, 1, 0, 0, 0, 1, 1, 0, 1, 1, 1, 1, 1, 1, 0, 1, 1, 0, 1, 0, 1,\n",
       "       0, 0, 0, 1, 0, 1, 1, 1, 0, 1, 0, 1, 1, 0, 0, 0, 0, 0, 1, 1, 0, 1,\n",
       "       0, 1, 1, 1, 0, 1, 1, 1, 0, 1, 0, 1, 0, 0, 1, 1, 0, 1, 1, 1, 1, 1,\n",
       "       0, 0, 0, 1, 1, 1, 1, 0, 1, 1, 1, 1, 0, 0, 0, 1, 0, 1, 1, 1, 0, 0,\n",
       "       0, 1, 1, 0, 0, 1, 1, 0, 1, 1, 0, 0, 0, 1, 1, 0, 1, 1, 1, 1, 1, 1,\n",
       "       0, 0, 1, 1, 0, 1, 0, 1, 0, 0, 1, 0, 1, 1, 1, 1, 0, 0, 0, 1, 0, 1,\n",
       "       1, 1, 1, 1, 1, 0, 1, 0, 1, 1, 1, 1, 1, 1, 1, 0, 0, 0, 1, 0, 0, 0,\n",
       "       0, 0, 1, 0, 1, 1, 0, 0, 0, 1, 1, 0, 0, 1, 1, 0, 1, 1, 0, 0, 1, 1,\n",
       "       1, 1, 0, 0, 1, 1, 1, 1, 0, 1, 0, 0, 1, 0, 1, 1, 1, 1, 0, 1, 1, 0,\n",
       "       1, 0, 1, 0, 1, 0, 1, 0, 1, 0, 1, 1, 0, 1, 1, 1, 1, 0, 0, 1, 1, 0,\n",
       "       0, 1, 1, 0, 1, 0, 1, 1, 1, 0, 1, 1, 1, 0, 0, 1, 1, 0, 1, 1, 0, 1,\n",
       "       1, 1, 0, 0, 1, 0, 0, 0, 0, 0, 0, 1, 1, 1, 1, 0, 1, 0, 0, 0, 0, 0,\n",
       "       0, 0, 1, 0, 0, 0, 0, 0, 0, 0, 1, 0, 1, 1, 0, 1, 1, 1, 1, 1, 0, 1,\n",
       "       1, 1, 0, 1, 1, 0, 1, 1, 1, 1, 1, 1, 0, 1, 1, 0, 0, 1, 1, 0, 1, 0,\n",
       "       0, 0, 1])"
      ]
     },
     "execution_count": 177,
     "metadata": {},
     "output_type": "execute_result"
    }
   ],
   "source": [
    "previsoes_treino = xg.predict(x_treino)\n",
    "previsoes_treino"
   ]
  },
  {
   "cell_type": "code",
   "execution_count": 180,
   "metadata": {
    "id": "70k-raF62dkZ"
   },
   "outputs": [
    {
     "name": "stdout",
     "output_type": "stream",
     "text": [
      "Acurácia: 91.58%\n"
     ]
    }
   ],
   "source": [
    "print(\"Acurácia: %.2f%%\" % (accuracy_score(y_treino, previsoes_treino) * 100.0))\n",
    "#accuracy_score(y_treino, previsoes_treino)"
   ]
  },
  {
   "cell_type": "code",
   "execution_count": 181,
   "metadata": {
    "id": "Hy7uFw9E2dkZ"
   },
   "outputs": [
    {
     "data": {
      "text/plain": [
       "array([[254,  35],\n",
       "       [ 19, 333]])"
      ]
     },
     "execution_count": 181,
     "metadata": {},
     "output_type": "execute_result"
    }
   ],
   "source": [
    "confusion_matrix(y_treino, previsoes_treino)"
   ]
  },
  {
   "cell_type": "markdown",
   "metadata": {
    "id": "gHvG_uWZLARo"
   },
   "source": [
    "### <font color='purple'>**Validação Cruzada**"
   ]
  },
  {
   "cell_type": "code",
   "execution_count": 182,
   "metadata": {
    "id": "l3RZmFL_LARp"
   },
   "outputs": [],
   "source": [
    "from sklearn.model_selection import KFold\n",
    "from sklearn.model_selection import cross_val_score"
   ]
  },
  {
   "cell_type": "code",
   "execution_count": 183,
   "metadata": {
    "id": "BKmF7defLARq"
   },
   "outputs": [],
   "source": [
    "# Separando os dados em folds\n",
    "kfold = KFold(n_splits = 30, shuffle=True, random_state = 5)"
   ]
  },
  {
   "cell_type": "code",
   "execution_count": 184,
   "metadata": {
    "id": "1h7FUmsWLARr"
   },
   "outputs": [
    {
     "name": "stdout",
     "output_type": "stream",
     "text": [
      "Acurácia Média: 87.13%\n"
     ]
    }
   ],
   "source": [
    "# Criando o modelo\n",
    "modelo = XGBClassifier(max_depth=2, learning_rate=0.05, n_estimators=250, objective='binary:logistic', random_state=3)\n",
    "resultado = cross_val_score(modelo, previsores, alvo, cv = kfold)\n",
    "\n",
    "# Usamos a média e o desvio padrão\n",
    "print(\"Acurácia Média: %.2f%%\" % (resultado.mean() * 100.0))"
   ]
  },
  {
   "cell_type": "markdown",
   "metadata": {
    "id": "gkZCAe-OR3rW"
   },
   "source": [
    "Naive Bayes = 84,78% (treino e teste) - 234 acertos e 85,17% (validação cruzada) : previsores3_esc\n",
    "\n",
    "SVM = 86,23% - 238 acertos e 85,72% (validação cruzada) : previsores3-esc - SVC(kernel='rbf', random_state=1, C = 2)\n",
    "\n",
    "Regressão logística = 86,23% - 238 acertos e 85,83% (validação cruzada) : previsores3_esc - LogisticRegression(random_state=1, max_iter=600, penalty=\"l2\", tol=0.0001, C=1,solver=\"lbfgs\")\n",
    "\n",
    "KNN = 84,06% - 232 acertos e 85,84% (validação cruzada) : previsores3_esc ou previsores_esc - KNeighborsClassifier(n_neighbors=7, metric='minkowski', p = 1)\n",
    "\n",
    "Árvore de decisão = 83,7% (treino e teste) - 231 acertos e 83,32% (validação cruzada): previsores3_esc - DecisionTreeClassifier(criterion='entropy', random_state = 0, max_depth=3)\n",
    "\n",
    "Random Forest = 86,59% - 239 acertos e 85,92% (validação cruzada) : previsores - RandomForestClassifier(n_estimators=150, criterion='entropy', random_state = 0, max_depth=4)\n",
    "\n",
    "XGboost = 87,68% - 242 acertos e 87,13% (validação cruzada) : previsores - XGBClassifier(max_depth=2, learning_rate=0.05, n_estimators=250, objective='binary:logistic', random_state=3)"
   ]
  },
  {
   "cell_type": "markdown",
   "metadata": {
    "id": "sPZLUYzCqTWL"
   },
   "source": [
    "# <font color='purple'>**LIGHTGBM**"
   ]
  },
  {
   "cell_type": "markdown",
   "metadata": {
    "id": "LLop9X5OVOfc"
   },
   "source": [
    "https://lightgbm.readthedocs.io/en/latest/pythonapi/lightgbm.train.html"
   ]
  },
  {
   "cell_type": "markdown",
   "metadata": {
    "id": "r2fYJevzt58X"
   },
   "source": [
    "#### Instalação do Algoritmo\n",
    "<font color='blue'>**!pip install lightgbm**"
   ]
  },
  {
   "cell_type": "code",
   "execution_count": 186,
   "metadata": {
    "id": "HyJzU46uq9mQ"
   },
   "outputs": [],
   "source": [
    "import lightgbm as lgb "
   ]
  },
  {
   "cell_type": "code",
   "execution_count": 187,
   "metadata": {
    "id": "D7GfTX-TxWh2"
   },
   "outputs": [],
   "source": [
    "# Dataset para treino\n",
    "dataset = lgb.Dataset(x_treino,label=y_treino)"
   ]
  },
  {
   "cell_type": "markdown",
   "metadata": {
    "id": "9sYH7x7pjczh"
   },
   "source": [
    " <font color='green'>**Hiperparâmetros**\n",
    "\n",
    " <font color='red'>**Controle de ajuste**\n",
    " \n",
    " <font color='blue'>num_leaves: </font> define o número de folhas a serem formadas em uma árvore. Não tem uma relação direta entre num_leaves e max_depth e, portanto, os dois não devem estar vinculados um ao outro.\n",
    "\n",
    "<font color='blue'>max_depth :</font>  especifica a profundidade máxima ou nível até o qual a árvore pode crescer.\n",
    "\n",
    " <font color='red'>**Controle de velocidade**\n",
    "\n",
    "<font color='blue'>learning_rate:</font> taxa de aprendizagem, determina o impacto de cada árvore no resultado final.\n",
    "\n",
    "<font color='blue'>max_bin :</font> O valor menor de max_bin reduz muito tempo de procesamento, pois agrupa os valores do recurso em caixas discretas, o que é computacionalmente mais barato.\n",
    "\n",
    " <font color='red'>**Controle de precisão**\n",
    "\n",
    "<font color='blue'>num_leaves :</font>  valor alto produz árvores mais profundas com maior precisão, mas leva ao overfitting. \n",
    "\n",
    "<font color='blue'>max_bin :</font>  valores altos tem efeito semelhante ao causado pelo aumento do valor de num_leaves e também torna mais lento o procedimento de treinamento."
   ]
  },
  {
   "cell_type": "code",
   "execution_count": 188,
   "metadata": {
    "id": "eRYtywqRxnRM"
   },
   "outputs": [],
   "source": [
    "# Parâmetros\n",
    "parametros = {'num_leaves':250, # número de folhas\n",
    "              'objective':'binary', # classificação Binária     \n",
    "              'max_depth':2,\n",
    "              'learning_rate':.05,\n",
    "              'max_bin':100}"
   ]
  },
  {
   "cell_type": "code",
   "execution_count": 189,
   "metadata": {
    "id": "s-75IteevPFt"
   },
   "outputs": [
    {
     "name": "stdout",
     "output_type": "stream",
     "text": [
      "[LightGBM] [Info] Number of positive: 352, number of negative: 289\n",
      "[LightGBM] [Warning] Auto-choosing row-wise multi-threading, the overhead of testing was 0.001183 seconds.\n",
      "You can set `force_row_wise=true` to remove the overhead.\n",
      "And if memory is not enough, you can set `force_col_wise=true`.\n",
      "[LightGBM] [Info] Total Bins 329\n",
      "[LightGBM] [Info] Number of data points in the train set: 641, number of used features: 11\n",
      "[LightGBM] [Info] [binary:BoostFromScore]: pavg=0.549142 -> initscore=0.197204\n",
      "[LightGBM] [Info] Start training from score 0.197204\n",
      "[LightGBM] [Warning] No further splits with positive gain, best gain: -inf\n",
      "[LightGBM] [Warning] No further splits with positive gain, best gain: -inf\n",
      "[LightGBM] [Warning] No further splits with positive gain, best gain: -inf\n"
     ]
    }
   ],
   "source": [
    "lgbm=lgb.train(parametros,dataset,num_boost_round=200)"
   ]
  },
  {
   "cell_type": "code",
   "execution_count": 190,
   "metadata": {
    "id": "w2eVSPh7XeQe"
   },
   "outputs": [
    {
     "name": "stdout",
     "output_type": "stream",
     "text": [
      "[LightGBM] [Info] Number of positive: 352, number of negative: 289\n",
      "[LightGBM] [Warning] Auto-choosing row-wise multi-threading, the overhead of testing was 0.082588 seconds.\n",
      "You can set `force_row_wise=true` to remove the overhead.\n",
      "And if memory is not enough, you can set `force_col_wise=true`.\n",
      "[LightGBM] [Info] Total Bins 329\n",
      "[LightGBM] [Info] Number of data points in the train set: 641, number of used features: 11\n",
      "[LightGBM] [Info] [binary:BoostFromScore]: pavg=0.549142 -> initscore=0.197204\n",
      "[LightGBM] [Info] Start training from score 0.197204\n"
     ]
    },
    {
     "data": {
      "text/plain": [
       "datetime.timedelta(microseconds=269130)"
      ]
     },
     "execution_count": 190,
     "metadata": {},
     "output_type": "execute_result"
    }
   ],
   "source": [
    "# Marcação do tempo de execução\n",
    "from datetime import datetime\n",
    "inicio=datetime.now()\n",
    "lgbm=lgb.train(parametros,dataset)\n",
    "fim=datetime.now()\n",
    "\n",
    "tempo = fim - inicio\n",
    "tempo"
   ]
  },
  {
   "cell_type": "code",
   "execution_count": 191,
   "metadata": {
    "id": "FbY1sQrzvPFv"
   },
   "outputs": [
    {
     "data": {
      "text/plain": [
       "array([0.8631083 , 0.83285722, 0.94121847, 0.06260666, 0.15908234,\n",
       "       0.33596225, 0.44795132, 0.04080421, 0.06681764, 0.10646924,\n",
       "       0.87293215, 0.85666014, 0.94121847, 0.92509557, 0.38578614,\n",
       "       0.89352895, 0.68203754, 0.90039234, 0.89886887, 0.20832387,\n",
       "       0.91127604, 0.91253524, 0.64552617, 0.23798301, 0.06075688,\n",
       "       0.04290165, 0.89685493, 0.94636401, 0.62332556, 0.62401938,\n",
       "       0.9070605 , 0.07879909, 0.0722919 , 0.08016473, 0.74953452,\n",
       "       0.13491234, 0.20813334, 0.0668571 , 0.65237727, 0.0341922 ,\n",
       "       0.0442399 , 0.9138597 , 0.89253651, 0.94845106, 0.91035189,\n",
       "       0.09338637, 0.02879235, 0.87679209, 0.41602918, 0.94588648,\n",
       "       0.88002128, 0.1340031 , 0.14784491, 0.36115723, 0.94362517,\n",
       "       0.19719527, 0.10324206, 0.15242684, 0.54934888, 0.1420239 ,\n",
       "       0.92777162, 0.85094376, 0.62064475, 0.13917976, 0.9369576 ,\n",
       "       0.62849277, 0.94786119, 0.33767584, 0.9156089 , 0.13917976,\n",
       "       0.84932712, 0.86621385, 0.3177706 , 0.94362517, 0.88056449,\n",
       "       0.88625869, 0.7000327 , 0.9677459 , 0.88104159, 0.83097694,\n",
       "       0.81808046, 0.85396398, 0.12622161, 0.13057538, 0.88442027,\n",
       "       0.73647507, 0.82206925, 0.93304015, 0.88965641, 0.22980637,\n",
       "       0.88735051, 0.34279863, 0.03663237, 0.30883259, 0.59301811,\n",
       "       0.16386711, 0.85244458, 0.06635117, 0.10637606, 0.16180007,\n",
       "       0.20442131, 0.73292644, 0.94322104, 0.84845888, 0.22679279,\n",
       "       0.89490672, 0.31639395, 0.0397669 , 0.21634752, 0.63547161,\n",
       "       0.51148081, 0.95206164, 0.93559692, 0.90039234, 0.35833476,\n",
       "       0.93751867, 0.44795132, 0.93915168, 0.93471304, 0.88357467,\n",
       "       0.93655313, 0.9740113 , 0.96019323, 0.09928622, 0.60247022,\n",
       "       0.67003937, 0.25386197, 0.64700328, 0.0668571 , 0.93781991,\n",
       "       0.30487724, 0.9631326 , 0.85997078, 0.80788139, 0.24029035,\n",
       "       0.54230911, 0.55821124, 0.94322104, 0.76168994, 0.09338637,\n",
       "       0.24423534, 0.92429079, 0.05843099, 0.89502778, 0.48538496,\n",
       "       0.06573405, 0.89219323, 0.59207844, 0.52365187, 0.37953477,\n",
       "       0.40802524, 0.90933139, 0.63316228, 0.0962533 , 0.88377209,\n",
       "       0.05922248, 0.79779166, 0.64499819, 0.81384816, 0.04076776,\n",
       "       0.9497215 , 0.5511283 , 0.92353458, 0.46459982, 0.88002128,\n",
       "       0.19630102, 0.87467404, 0.035594  , 0.8387825 , 0.36396617,\n",
       "       0.80886146, 0.72398073, 0.0539453 , 0.21634752, 0.76665573,\n",
       "       0.49801378, 0.6312662 , 0.30262874, 0.15915687, 0.69513073,\n",
       "       0.94362517, 0.77771844, 0.14727236, 0.91735641, 0.92263908,\n",
       "       0.91526799, 0.16629234, 0.87467404, 0.9209366 , 0.10968923,\n",
       "       0.54009754, 0.12857539, 0.93358752, 0.4997978 , 0.89635978,\n",
       "       0.56921239, 0.28290494, 0.04290165, 0.8109833 , 0.08726347,\n",
       "       0.92426039, 0.85341266, 0.24339934, 0.93170507, 0.95782451,\n",
       "       0.25746706, 0.05453652, 0.07377122, 0.94421497, 0.25726881,\n",
       "       0.85494866, 0.95667658, 0.02853526, 0.56691579, 0.11476741,\n",
       "       0.08333537, 0.89804618, 0.08566976, 0.81471279, 0.78355877,\n",
       "       0.90418235, 0.15626518, 0.44556646, 0.63823871, 0.8679544 ,\n",
       "       0.92183859, 0.10637606, 0.91736336, 0.25059588, 0.84506881,\n",
       "       0.04770973, 0.92446109, 0.7532919 , 0.9063887 , 0.1079716 ,\n",
       "       0.86715604, 0.66866243, 0.79364474, 0.04403299, 0.91127604,\n",
       "       0.93910909, 0.02879235, 0.90418235, 0.19906639, 0.29122652,\n",
       "       0.09338637, 0.22394724, 0.27939001, 0.91336409, 0.08996108,\n",
       "       0.94636401, 0.06628333, 0.75936137, 0.37903228, 0.02940056,\n",
       "       0.15550872, 0.95782451, 0.10971259, 0.0738023 , 0.89851853,\n",
       "       0.09362368, 0.5290795 , 0.53410847, 0.0824265 , 0.44073171,\n",
       "       0.36649329, 0.02879235, 0.07786572, 0.92413107, 0.05978238,\n",
       "       0.04854085, 0.85557824, 0.9037202 , 0.92398071, 0.83510271,\n",
       "       0.84612449])"
      ]
     },
     "execution_count": 191,
     "metadata": {},
     "output_type": "execute_result"
    }
   ],
   "source": [
    "previsoes_lgbm = lgbm.predict(x_teste)\n",
    "previsoes_lgbm"
   ]
  },
  {
   "cell_type": "code",
   "execution_count": 192,
   "metadata": {
    "id": "eQ-eOobHzgdY"
   },
   "outputs": [
    {
     "data": {
      "text/plain": [
       "(276,)"
      ]
     },
     "execution_count": 192,
     "metadata": {},
     "output_type": "execute_result"
    }
   ],
   "source": [
    "previsoes_lgbm.shape"
   ]
  },
  {
   "cell_type": "code",
   "execution_count": 193,
   "metadata": {
    "id": "bCK5052RyreS"
   },
   "outputs": [],
   "source": [
    "# Quando for menor que 5 considera 0 e quando for maior ou igual a 5 considera 1\n",
    "for i in range(0, 276):\n",
    "    if previsoes_lgbm[i] >= .5:       \n",
    "       previsoes_lgbm[i] = 1\n",
    "    else:  \n",
    "       previsoes_lgbm[i] = 0"
   ]
  },
  {
   "cell_type": "code",
   "execution_count": 194,
   "metadata": {
    "id": "X3kyhhXJzmtG"
   },
   "outputs": [
    {
     "data": {
      "text/plain": [
       "array([1., 1., 1., 0., 0., 0., 0., 0., 0., 0., 1., 1., 1., 1., 0., 1., 1.,\n",
       "       1., 1., 0., 1., 1., 1., 0., 0., 0., 1., 1., 1., 1., 1., 0., 0., 0.,\n",
       "       1., 0., 0., 0., 1., 0., 0., 1., 1., 1., 1., 0., 0., 1., 0., 1., 1.,\n",
       "       0., 0., 0., 1., 0., 0., 0., 1., 0., 1., 1., 1., 0., 1., 1., 1., 0.,\n",
       "       1., 0., 1., 1., 0., 1., 1., 1., 1., 1., 1., 1., 1., 1., 0., 0., 1.,\n",
       "       1., 1., 1., 1., 0., 1., 0., 0., 0., 1., 0., 1., 0., 0., 0., 0., 1.,\n",
       "       1., 1., 0., 1., 0., 0., 0., 1., 1., 1., 1., 1., 0., 1., 0., 1., 1.,\n",
       "       1., 1., 1., 1., 0., 1., 1., 0., 1., 0., 1., 0., 1., 1., 1., 0., 1.,\n",
       "       1., 1., 1., 0., 0., 1., 0., 1., 0., 0., 1., 1., 1., 0., 0., 1., 1.,\n",
       "       0., 1., 0., 1., 1., 1., 0., 1., 1., 1., 0., 1., 0., 1., 0., 1., 0.,\n",
       "       1., 1., 0., 0., 1., 0., 1., 0., 0., 1., 1., 1., 0., 1., 1., 1., 0.,\n",
       "       1., 1., 0., 1., 0., 1., 0., 1., 1., 0., 0., 1., 0., 1., 1., 0., 1.,\n",
       "       1., 0., 0., 0., 1., 0., 1., 1., 0., 1., 0., 0., 1., 0., 1., 1., 1.,\n",
       "       0., 0., 1., 1., 1., 0., 1., 0., 1., 0., 1., 1., 1., 0., 1., 1., 1.,\n",
       "       0., 1., 1., 0., 1., 0., 0., 0., 0., 0., 1., 0., 1., 0., 1., 0., 0.,\n",
       "       0., 1., 0., 0., 1., 0., 1., 1., 0., 0., 0., 0., 0., 1., 0., 0., 1.,\n",
       "       1., 1., 1., 1.])"
      ]
     },
     "execution_count": 194,
     "metadata": {},
     "output_type": "execute_result"
    }
   ],
   "source": [
    "previsoes_lgbm"
   ]
  },
  {
   "cell_type": "code",
   "execution_count": 195,
   "metadata": {
    "id": "wvItoNPgvPFw"
   },
   "outputs": [
    {
     "data": {
      "text/plain": [
       "array([1, 0, 1, 0, 0, 0, 0, 0, 0, 0, 1, 0, 1, 1, 0, 1, 1, 1, 1, 0, 1, 1,\n",
       "       1, 0, 0, 0, 1, 1, 0, 0, 1, 0, 0, 0, 1, 0, 1, 0, 1, 0, 0, 1, 1, 1,\n",
       "       1, 0, 0, 1, 1, 1, 1, 0, 0, 1, 1, 0, 0, 0, 1, 0, 1, 1, 1, 0, 1, 1,\n",
       "       1, 0, 1, 0, 1, 1, 1, 1, 1, 1, 1, 1, 1, 0, 0, 1, 0, 0, 1, 1, 0, 1,\n",
       "       1, 0, 1, 0, 0, 1, 1, 0, 1, 0, 0, 0, 0, 1, 1, 1, 0, 1, 0, 0, 0, 1,\n",
       "       0, 1, 1, 1, 0, 1, 1, 1, 1, 1, 1, 1, 1, 0, 0, 1, 0, 1, 0, 1, 0, 1,\n",
       "       0, 1, 0, 0, 0, 1, 1, 0, 1, 1, 0, 1, 0, 0, 1, 1, 1, 0, 1, 1, 0, 0,\n",
       "       0, 0, 1, 1, 1, 0, 1, 1, 1, 0, 1, 0, 1, 0, 1, 0, 1, 1, 0, 0, 1, 0,\n",
       "       0, 1, 0, 1, 1, 1, 0, 1, 1, 1, 0, 1, 1, 0, 0, 0, 1, 1, 1, 1, 1, 0,\n",
       "       1, 0, 1, 1, 0, 1, 1, 0, 0, 0, 1, 0, 1, 1, 0, 1, 0, 1, 1, 1, 1, 1,\n",
       "       1, 1, 0, 0, 0, 1, 0, 1, 1, 1, 0, 1, 0, 1, 1, 1, 1, 1, 0, 1, 1, 0,\n",
       "       1, 0, 1, 0, 0, 0, 1, 0, 1, 0, 1, 1, 0, 0, 1, 0, 0, 1, 0, 1, 1, 0,\n",
       "       0, 0, 0, 0, 1, 0, 0, 1, 1, 1, 1, 1])"
      ]
     },
     "execution_count": 195,
     "metadata": {},
     "output_type": "execute_result"
    }
   ],
   "source": [
    "y_teste"
   ]
  },
  {
   "cell_type": "code",
   "execution_count": 196,
   "metadata": {
    "id": "7zmmlXg00NgO"
   },
   "outputs": [],
   "source": [
    "from sklearn.metrics import accuracy_score, confusion_matrix, classification_report"
   ]
  },
  {
   "cell_type": "code",
   "execution_count": 197,
   "metadata": {
    "id": "7jtEMCEd0NgP"
   },
   "outputs": [
    {
     "name": "stdout",
     "output_type": "stream",
     "text": [
      "Acurácia: 86.59%\n"
     ]
    }
   ],
   "source": [
    "print(\"Acurácia: %.2f%%\" % (accuracy_score(y_teste, previsoes_lgbm) * 100.0))"
   ]
  },
  {
   "cell_type": "code",
   "execution_count": 198,
   "metadata": {
    "id": "Vi92nyDd0NgQ"
   },
   "outputs": [
    {
     "data": {
      "text/plain": [
       "array([[102,  19],\n",
       "       [ 18, 137]])"
      ]
     },
     "execution_count": 198,
     "metadata": {},
     "output_type": "execute_result"
    }
   ],
   "source": [
    "confusion_matrix(y_teste, previsoes_lgbm)"
   ]
  },
  {
   "cell_type": "markdown",
   "metadata": {
    "id": "u3pNMaVs0NgR"
   },
   "source": [
    "<font color='red'>**Análise dados de treino**"
   ]
  },
  {
   "cell_type": "code",
   "execution_count": 199,
   "metadata": {
    "id": "fS-C8nIw0NgR"
   },
   "outputs": [
    {
     "data": {
      "text/plain": [
       "array([0.88387506, 0.52323924, 0.90744562, 0.83876831, 0.71445756,\n",
       "       0.62509401, 0.15160555, 0.03207216, 0.07361481, 0.08780439,\n",
       "       0.89361033, 0.06785013, 0.85243896, 0.8198371 , 0.90340223,\n",
       "       0.02067333, 0.04854085, 0.21634752, 0.31009387, 0.92509557,\n",
       "       0.42055273, 0.72466162, 0.89361033, 0.85396398, 0.78532788,\n",
       "       0.12536091, 0.20835896, 0.84283679, 0.59988603, 0.89150775,\n",
       "       0.94249694, 0.02067333, 0.89517269, 0.94710793, 0.06858269,\n",
       "       0.25380743, 0.8055276 , 0.63277579, 0.05043591, 0.84831906,\n",
       "       0.15248551, 0.91471384, 0.10732662, 0.09033864, 0.9245565 ,\n",
       "       0.94455068, 0.12322972, 0.92236955, 0.93654586, 0.84459819,\n",
       "       0.54067727, 0.09412674, 0.79713073, 0.41513822, 0.92073466,\n",
       "       0.32725595, 0.87600516, 0.05747886, 0.79991362, 0.09338637,\n",
       "       0.0539453 , 0.0740234 , 0.51741263, 0.03207216, 0.91913409,\n",
       "       0.86002219, 0.09114629, 0.6124623 , 0.96604667, 0.02305023,\n",
       "       0.56559723, 0.89581636, 0.95696552, 0.95642146, 0.05948111,\n",
       "       0.04854085, 0.58861665, 0.94362517, 0.64133033, 0.94786563,\n",
       "       0.74767442, 0.94672663, 0.94200625, 0.9369576 , 0.13917976,\n",
       "       0.90138129, 0.90529909, 0.63171855, 0.95424472, 0.94777027,\n",
       "       0.15160555, 0.62085585, 0.09296082, 0.19020458, 0.89192555,\n",
       "       0.80349509, 0.78532788, 0.87467404, 0.90178107, 0.93434101,\n",
       "       0.68135772, 0.72150314, 0.20466448, 0.60139192, 0.9181627 ,\n",
       "       0.92446653, 0.84046632, 0.13491234, 0.46341512, 0.91336409,\n",
       "       0.03020091, 0.15836611, 0.91183632, 0.20793437, 0.83876831,\n",
       "       0.12421576, 0.82353878, 0.06895835, 0.58339917, 0.32768789,\n",
       "       0.09489687, 0.05355345, 0.02067333, 0.77547465, 0.48124692,\n",
       "       0.96604667, 0.48349121, 0.05978238, 0.84859314, 0.87520023,\n",
       "       0.87972244, 0.05355345, 0.58781215, 0.77967976, 0.03207216,\n",
       "       0.40225275, 0.534545  , 0.02305023, 0.92183859, 0.86853439,\n",
       "       0.05567576, 0.90951918, 0.63243955, 0.92031116, 0.85423834,\n",
       "       0.86456387, 0.37559927, 0.17241049, 0.37511643, 0.9434673 ,\n",
       "       0.91661475, 0.16946366, 0.79212485, 0.05800465, 0.89360377,\n",
       "       0.02067333, 0.72466162, 0.9037202 , 0.71106383, 0.30420559,\n",
       "       0.93559692, 0.38578614, 0.06845079, 0.05978238, 0.54126829,\n",
       "       0.30328539, 0.8989106 , 0.32724358, 0.06845079, 0.08076435,\n",
       "       0.10253094, 0.8600765 , 0.71921597, 0.05010713, 0.91400206,\n",
       "       0.36092627, 0.09290748, 0.90851225, 0.86212705, 0.03378857,\n",
       "       0.12115735, 0.05825308, 0.0962533 , 0.23798301, 0.06168788,\n",
       "       0.90039234, 0.92465409, 0.85626041, 0.93911079, 0.7339924 ,\n",
       "       0.05010713, 0.23533388, 0.89447931, 0.22038003, 0.09338637,\n",
       "       0.67196691, 0.78889195, 0.4064384 , 0.78326314, 0.89581636,\n",
       "       0.21634752, 0.30548164, 0.03274731, 0.80048935, 0.7387412 ,\n",
       "       0.58800357, 0.67734729, 0.82417331, 0.48471472, 0.16180007,\n",
       "       0.66300481, 0.23613546, 0.92231231, 0.96019323, 0.83700225,\n",
       "       0.65237727, 0.84087314, 0.23798301, 0.12243451, 0.91826506,\n",
       "       0.7737396 , 0.30487724, 0.22445674, 0.85326602, 0.63712284,\n",
       "       0.60879012, 0.91027012, 0.74425945, 0.76397059, 0.91539425,\n",
       "       0.84816626, 0.92906859, 0.1976959 , 0.94249694, 0.86090715,\n",
       "       0.07377122, 0.89447931, 0.08961097, 0.88879014, 0.06572371,\n",
       "       0.95374442, 0.06796115, 0.79041683, 0.72308142, 0.27144015,\n",
       "       0.68343723, 0.66620555, 0.9051069 , 0.92495705, 0.73292644,\n",
       "       0.68477277, 0.92587106, 0.02067333, 0.04770973, 0.06168788,\n",
       "       0.05978238, 0.08897394, 0.07414195, 0.28396342, 0.12637686,\n",
       "       0.53622224, 0.38586413, 0.9631326 , 0.5323966 , 0.9209366 ,\n",
       "       0.30903165, 0.9369576 , 0.37986977, 0.92906859, 0.12571533,\n",
       "       0.84486047, 0.91035189, 0.13305574, 0.45924956, 0.17213488,\n",
       "       0.89849195, 0.80378341, 0.39604408, 0.06671548, 0.1007201 ,\n",
       "       0.90257018, 0.26167247, 0.04854085, 0.04854085, 0.79163084,\n",
       "       0.91127604, 0.58724452, 0.80826084, 0.89323188, 0.90118885,\n",
       "       0.8461413 , 0.02940056, 0.93600235, 0.91991971, 0.33591466,\n",
       "       0.61610741, 0.0962533 , 0.64428149, 0.13935356, 0.94556387,\n",
       "       0.89447931, 0.10968923, 0.06838097, 0.83932397, 0.05215331,\n",
       "       0.5323383 , 0.52166679, 0.78676785, 0.92236955, 0.09371659,\n",
       "       0.9209366 , 0.05355345, 0.64659124, 0.33596225, 0.93860119,\n",
       "       0.0539453 , 0.86628725, 0.49206723, 0.81300846, 0.25424718,\n",
       "       0.81120209, 0.89608396, 0.91628581, 0.81575664, 0.43402196,\n",
       "       0.96177768, 0.87549708, 0.80672661, 0.64272274, 0.15508686,\n",
       "       0.07440678, 0.09719841, 0.94002613, 0.12243451, 0.02381458,\n",
       "       0.19020458, 0.77972079, 0.94636401, 0.14547726, 0.73951152,\n",
       "       0.91621641, 0.83295372, 0.90102642, 0.94467518, 0.93187922,\n",
       "       0.47387838, 0.93871219, 0.88189206, 0.06033773, 0.79690485,\n",
       "       0.20992603, 0.96338978, 0.10324206, 0.09338637, 0.08016204,\n",
       "       0.63503186, 0.04080421, 0.59220084, 0.85168498, 0.82206925,\n",
       "       0.33596225, 0.66866243, 0.27089331, 0.88963324, 0.84053631,\n",
       "       0.09782322, 0.04854085, 0.04854085, 0.0539453 , 0.03274731,\n",
       "       0.84859314, 0.65529994, 0.41819192, 0.8573704 , 0.27082565,\n",
       "       0.92853417, 0.85747539, 0.89793382, 0.35771501, 0.6453553 ,\n",
       "       0.94360108, 0.91805715, 0.02067333, 0.92703847, 0.10253094,\n",
       "       0.95206164, 0.25746706, 0.09074694, 0.51713941, 0.89969393,\n",
       "       0.04290165, 0.45390965, 0.81268374, 0.62032672, 0.85577019,\n",
       "       0.92251421, 0.08505638, 0.13191097, 0.41550032, 0.87587092,\n",
       "       0.90212831, 0.96889609, 0.77577348, 0.12115735, 0.93922971,\n",
       "       0.50962441, 0.87903244, 0.82837939, 0.53204299, 0.08243923,\n",
       "       0.41707388, 0.61325096, 0.06635117, 0.83700225, 0.88189206,\n",
       "       0.79991362, 0.11141594, 0.3156309 , 0.2037113 , 0.89854972,\n",
       "       0.90933139, 0.37047305, 0.14735875, 0.88735051, 0.81728181,\n",
       "       0.32725595, 0.70946877, 0.54965307, 0.04925058, 0.0668571 ,\n",
       "       0.05978238, 0.90524855, 0.89594498, 0.52350453, 0.92942299,\n",
       "       0.96125175, 0.91570054, 0.71897275, 0.91628581, 0.8434523 ,\n",
       "       0.0808305 , 0.2927171 , 0.92165609, 0.94360108, 0.43022442,\n",
       "       0.93559692, 0.0539453 , 0.90039234, 0.13057538, 0.05453652,\n",
       "       0.87289853, 0.09338637, 0.82871812, 0.89697828, 0.81451747,\n",
       "       0.88241724, 0.06168788, 0.05978238, 0.24473952, 0.94597651,\n",
       "       0.09338637, 0.9205633 , 0.71892979, 0.8292707 , 0.86287736,\n",
       "       0.89874453, 0.90926754, 0.2019937 , 0.91670279, 0.45676674,\n",
       "       0.82801645, 0.9209366 , 0.9465861 , 0.88017541, 0.5590575 ,\n",
       "       0.93412636, 0.91797945, 0.30151769, 0.06635117, 0.04080421,\n",
       "       0.67603409, 0.27387933, 0.14015354, 0.23158244, 0.06822207,\n",
       "       0.11662897, 0.89447931, 0.08949188, 0.95374442, 0.67213912,\n",
       "       0.44918165, 0.1462376 , 0.10564589, 0.93006562, 0.84244097,\n",
       "       0.13917976, 0.65640133, 0.94710793, 0.89246629, 0.10637606,\n",
       "       0.95642146, 0.96311653, 0.04854085, 0.38326994, 0.71276121,\n",
       "       0.91193852, 0.89748735, 0.80847514, 0.0539453 , 0.06228302,\n",
       "       0.85494866, 0.75506467, 0.59355094, 0.9420217 , 0.21634752,\n",
       "       0.91857843, 0.0962533 , 0.10977235, 0.77946263, 0.1205202 ,\n",
       "       0.93926181, 0.6820565 , 0.77993559, 0.6671366 , 0.06635117,\n",
       "       0.93781991, 0.87148098, 0.06822207, 0.87761626, 0.21634752,\n",
       "       0.85321845, 0.05264126, 0.93416092, 0.0962533 , 0.88965641,\n",
       "       0.09338637, 0.70292072, 0.08575561, 0.93358752, 0.68400115,\n",
       "       0.05424545, 0.9209366 , 0.77418491, 0.74624967, 0.85321845,\n",
       "       0.16426329, 0.24536671, 0.90418235, 0.84678462, 0.13371872,\n",
       "       0.05567576, 0.55375119, 0.92853417, 0.02879235, 0.90725625,\n",
       "       0.15008007, 0.85396398, 0.88481359, 0.77340055, 0.30903165,\n",
       "       0.83876831, 0.92438897, 0.57854357, 0.44748192, 0.06058363,\n",
       "       0.64966603, 0.94121847, 0.06168788, 0.44073171, 0.94779177,\n",
       "       0.0962533 , 0.90951918, 0.90039234, 0.79611789, 0.07306174,\n",
       "       0.41293962, 0.92227306, 0.1443488 , 0.04290165, 0.5893858 ,\n",
       "       0.03378857, 0.57629992, 0.08736116, 0.77271869, 0.95642146,\n",
       "       0.9677459 , 0.72817067, 0.11837335, 0.91793972, 0.16236694,\n",
       "       0.31698252, 0.3031823 , 0.05313383, 0.47339606, 0.11476741,\n",
       "       0.07706908, 0.79186367, 0.04290165, 0.10170601, 0.60729214,\n",
       "       0.04860387, 0.13191097, 0.09338637, 0.14746181, 0.91419341,\n",
       "       0.27082565, 0.51429071, 0.89745086, 0.37986977, 0.68732351,\n",
       "       0.90874197, 0.82684676, 0.79355451, 0.9332684 , 0.06326851,\n",
       "       0.8110769 , 0.92812338, 0.89943207, 0.3968957 , 0.90176787,\n",
       "       0.89361033, 0.24339934, 0.82144945, 0.59753648, 0.88114507,\n",
       "       0.90739921, 0.7706128 , 0.87467404, 0.34515395, 0.84017933,\n",
       "       0.86844148, 0.23948702, 0.06381172, 0.8327087 , 0.89523802,\n",
       "       0.1475631 , 0.90462698, 0.10324206, 0.54359009, 0.06671548,\n",
       "       0.89192555])"
      ]
     },
     "execution_count": 199,
     "metadata": {},
     "output_type": "execute_result"
    }
   ],
   "source": [
    "previsoes_treino = lgbm.predict(x_treino)\n",
    "previsoes_treino"
   ]
  },
  {
   "cell_type": "code",
   "execution_count": 200,
   "metadata": {
    "id": "5ZTvZKs51umQ"
   },
   "outputs": [
    {
     "data": {
      "text/plain": [
       "(641,)"
      ]
     },
     "execution_count": 200,
     "metadata": {},
     "output_type": "execute_result"
    }
   ],
   "source": [
    "previsoes_treino.shape"
   ]
  },
  {
   "cell_type": "code",
   "execution_count": 201,
   "metadata": {
    "id": "y_Xb-SEN1bNL"
   },
   "outputs": [],
   "source": [
    "# Quando for menor que 5 considera 0 e quando for maior ou igual a 5 considera 1\n",
    "for i in range(0, 641):\n",
    "    if previsoes_treino[i] >= .5:       \n",
    "       previsoes_treino[i] = 1\n",
    "    else:  \n",
    "       previsoes_treino[i] = 0"
   ]
  },
  {
   "cell_type": "code",
   "execution_count": 202,
   "metadata": {
    "id": "ENkdM8Jd1oCJ"
   },
   "outputs": [
    {
     "data": {
      "text/plain": [
       "array([1., 1., 1., 1., 1., 1., 0., 0., 0., 0., 1., 0., 1., 1., 1., 0., 0.,\n",
       "       0., 0., 1., 0., 1., 1., 1., 1., 0., 0., 1., 1., 1., 1., 0., 1., 1.,\n",
       "       0., 0., 1., 1., 0., 1., 0., 1., 0., 0., 1., 1., 0., 1., 1., 1., 1.,\n",
       "       0., 1., 0., 1., 0., 1., 0., 1., 0., 0., 0., 1., 0., 1., 1., 0., 1.,\n",
       "       1., 0., 1., 1., 1., 1., 0., 0., 1., 1., 1., 1., 1., 1., 1., 1., 0.,\n",
       "       1., 1., 1., 1., 1., 0., 1., 0., 0., 1., 1., 1., 1., 1., 1., 1., 1.,\n",
       "       0., 1., 1., 1., 1., 0., 0., 1., 0., 0., 1., 0., 1., 0., 1., 0., 1.,\n",
       "       0., 0., 0., 0., 1., 0., 1., 0., 0., 1., 1., 1., 0., 1., 1., 0., 0.,\n",
       "       1., 0., 1., 1., 0., 1., 1., 1., 1., 1., 0., 0., 0., 1., 1., 0., 1.,\n",
       "       0., 1., 0., 1., 1., 1., 0., 1., 0., 0., 0., 1., 0., 1., 0., 0., 0.,\n",
       "       0., 1., 1., 0., 1., 0., 0., 1., 1., 0., 0., 0., 0., 0., 0., 1., 1.,\n",
       "       1., 1., 1., 0., 0., 1., 0., 0., 1., 1., 0., 1., 1., 0., 0., 0., 1.,\n",
       "       1., 1., 1., 1., 0., 0., 1., 0., 1., 1., 1., 1., 1., 0., 0., 1., 1.,\n",
       "       0., 0., 1., 1., 1., 1., 1., 1., 1., 1., 1., 0., 1., 1., 0., 1., 0.,\n",
       "       1., 0., 1., 0., 1., 1., 0., 1., 1., 1., 1., 1., 1., 1., 0., 0., 0.,\n",
       "       0., 0., 0., 0., 0., 1., 0., 1., 1., 1., 0., 1., 0., 1., 0., 1., 1.,\n",
       "       0., 0., 0., 1., 1., 0., 0., 0., 1., 0., 0., 0., 1., 1., 1., 1., 1.,\n",
       "       1., 1., 0., 1., 1., 0., 1., 0., 1., 0., 1., 1., 0., 0., 1., 0., 1.,\n",
       "       1., 1., 1., 0., 1., 0., 1., 0., 1., 0., 1., 0., 1., 0., 1., 1., 1.,\n",
       "       1., 0., 1., 1., 1., 1., 0., 0., 0., 1., 0., 0., 0., 1., 1., 0., 1.,\n",
       "       1., 1., 1., 1., 1., 0., 1., 1., 0., 1., 0., 1., 0., 0., 0., 1., 0.,\n",
       "       1., 1., 1., 0., 1., 0., 1., 1., 0., 0., 0., 0., 0., 1., 1., 0., 1.,\n",
       "       0., 1., 1., 1., 0., 1., 1., 1., 0., 1., 0., 1., 0., 0., 1., 1., 0.,\n",
       "       0., 1., 1., 1., 1., 0., 0., 0., 1., 1., 1., 1., 0., 1., 1., 1., 1.,\n",
       "       1., 0., 0., 1., 0., 1., 1., 1., 0., 0., 0., 1., 1., 0., 0., 1., 1.,\n",
       "       0., 1., 1., 0., 0., 0., 1., 1., 1., 1., 1., 1., 1., 1., 1., 0., 0.,\n",
       "       1., 1., 0., 1., 0., 1., 0., 0., 1., 0., 1., 1., 1., 1., 0., 0., 0.,\n",
       "       1., 0., 1., 1., 1., 1., 1., 1., 0., 1., 0., 1., 1., 1., 1., 1., 1.,\n",
       "       1., 0., 0., 0., 1., 0., 0., 0., 0., 0., 1., 0., 1., 1., 0., 0., 0.,\n",
       "       1., 1., 0., 1., 1., 1., 0., 1., 1., 0., 0., 1., 1., 1., 1., 0., 0.,\n",
       "       1., 1., 1., 1., 0., 1., 0., 0., 1., 0., 1., 1., 1., 1., 0., 1., 1.,\n",
       "       0., 1., 0., 1., 0., 1., 0., 1., 0., 1., 0., 1., 1., 0., 1., 1., 1.,\n",
       "       1., 0., 0., 1., 1., 0., 0., 1., 1., 0., 1., 0., 1., 1., 1., 0., 1.,\n",
       "       1., 1., 0., 0., 1., 1., 0., 0., 1., 0., 1., 1., 1., 0., 0., 1., 0.,\n",
       "       0., 1., 0., 1., 0., 1., 1., 1., 1., 0., 1., 0., 0., 0., 0., 0., 0.,\n",
       "       0., 1., 0., 0., 1., 0., 0., 0., 0., 1., 0., 1., 1., 0., 1., 1., 1.,\n",
       "       1., 1., 0., 1., 1., 1., 0., 1., 1., 0., 1., 1., 1., 1., 1., 1., 0.,\n",
       "       1., 1., 0., 0., 1., 1., 0., 1., 0., 1., 0., 1.])"
      ]
     },
     "execution_count": 202,
     "metadata": {},
     "output_type": "execute_result"
    }
   ],
   "source": [
    "previsoes_treino"
   ]
  },
  {
   "cell_type": "code",
   "execution_count": 205,
   "metadata": {
    "id": "NKAIaTGF0NgS"
   },
   "outputs": [
    {
     "name": "stdout",
     "output_type": "stream",
     "text": [
      "Acurácia: 89.55%\n"
     ]
    }
   ],
   "source": [
    "print(\"Acurácia: %.2f%%\" % (accuracy_score(y_treino, previsoes_treino) * 100.0))\n",
    "#accuracy_score(y_treino, previsoes_treino)"
   ]
  },
  {
   "cell_type": "code",
   "execution_count": 206,
   "metadata": {
    "id": "dDOEsI4W0NgT"
   },
   "outputs": [
    {
     "data": {
      "text/plain": [
       "array([[245,  44],\n",
       "       [ 23, 329]])"
      ]
     },
     "execution_count": 206,
     "metadata": {},
     "output_type": "execute_result"
    }
   ],
   "source": [
    "confusion_matrix(y_treino, previsoes_treino)"
   ]
  },
  {
   "cell_type": "markdown",
   "metadata": {
    "id": "3hEGp61Q0NgT"
   },
   "source": [
    "### **Validação Cruzada**"
   ]
  },
  {
   "cell_type": "code",
   "execution_count": 207,
   "metadata": {
    "id": "RwR3Salk0NgT"
   },
   "outputs": [],
   "source": [
    "from sklearn.model_selection import KFold\n",
    "from sklearn.model_selection import cross_val_score"
   ]
  },
  {
   "cell_type": "code",
   "execution_count": 208,
   "metadata": {
    "id": "8Xnl-F4XSNTJ"
   },
   "outputs": [],
   "source": [
    "# Separando os dados em folds\n",
    "kfold = KFold(n_splits = 30, shuffle=True, random_state = 5)"
   ]
  },
  {
   "cell_type": "code",
   "execution_count": 209,
   "metadata": {
    "id": "Qq7iUdMxSNTL"
   },
   "outputs": [
    {
     "name": "stdout",
     "output_type": "stream",
     "text": [
      "Acurácia Média: 85.93%\n"
     ]
    }
   ],
   "source": [
    "# Criando o modelo\n",
    "modelo = lgb.LGBMClassifier(num_leaves = 250, objective = 'binary',     \n",
    "                            max_depth = 2, learning_rate = .05, max_bin =100)\n",
    "resultado = cross_val_score(modelo, previsores, alvo, cv = kfold)\n",
    "\n",
    "# Usamos a média e o desvio padrão\n",
    "print(\"Acurácia Média: %.2f%%\" % (resultado.mean() * 100.0))"
   ]
  },
  {
   "cell_type": "markdown",
   "metadata": {
    "id": "W6ADUoMW0NgV"
   },
   "source": [
    "Naive Bayes = 84,78% (treino e teste) - 234 acertos e 85,17% (validação cruzada) : previsores3_esc\n",
    "\n",
    "SVM = 86,23% - 238 acertos e 85,72% (validação cruzada) : previsores3-esc - SVC(kernel='rbf', random_state=1, C = 2)\n",
    "\n",
    "Regressão logística = 86,23% - 238 acertos e 85,83% (validação cruzada) : previsores3_esc - LogisticRegression(random_state=1, max_iter=600, penalty=\"l2\", tol=0.0001, C=1,solver=\"lbfgs\")\n",
    "\n",
    "KNN = 84,06% - 232 acertos e 85,84% (validação cruzada) : previsores3_esc ou previsores_esc - KNeighborsClassifier(n_neighbors=7, metric='minkowski', p = 1)\n",
    "\n",
    "Árvore de decisão = 83,7% (treino e teste) - 231 acertos e 83,32% (validação cruzada): previsores3_esc - DecisionTreeClassifier(criterion='entropy', random_state = 0, max_depth=3)\n",
    "\n",
    "Random Forest = 86,59% - 239 acertos e 85,92% (validação cruzada) : previsores - RandomForestClassifier(n_estimators=150, criterion='entropy', random_state = 0, max_depth=4)\n",
    "\n",
    "XGboost = 87,68% - 242 acertos e 87,13% (validação cruzada) : previsores - XGBClassifier(max_depth=2, learning_rate=0.05, n_estimators=250, objective='binary:logistic', random_state=3)\n",
    "\n",
    "LightGBM = 86,23% (treino e teste)- 238 acertos e 85,93% (validação cruzada) : previsores - lgb.LGBMClassifier(num_leaves = 250, objective = 'binary',  max_depth = 2, learning_rate = .05, max_bin =100)"
   ]
  },
  {
   "cell_type": "markdown",
   "metadata": {
    "id": "yKpYGEuWUChU"
   },
   "source": [
    "# <font color='purple'>**CATBOOST**"
   ]
  },
  {
   "cell_type": "markdown",
   "metadata": {
    "id": "LMqQ_NMTUChV"
   },
   "source": [
    "https://catboost.ai/en/docs/"
   ]
  },
  {
   "cell_type": "markdown",
   "metadata": {
    "id": "Vkt7hfJVUChV"
   },
   "source": [
    "#### Instalação\n",
    "**!pip install catboost**"
   ]
  },
  {
   "cell_type": "code",
   "execution_count": 211,
   "metadata": {
    "id": "kisDuh-RUChW"
   },
   "outputs": [],
   "source": [
    "from catboost import CatBoostClassifier"
   ]
  },
  {
   "cell_type": "code",
   "execution_count": 212,
   "metadata": {
    "id": "fochAJydUChX"
   },
   "outputs": [
    {
     "data": {
      "text/html": [
       "<div>\n",
       "<style scoped>\n",
       "    .dataframe tbody tr th:only-of-type {\n",
       "        vertical-align: middle;\n",
       "    }\n",
       "\n",
       "    .dataframe tbody tr th {\n",
       "        vertical-align: top;\n",
       "    }\n",
       "\n",
       "    .dataframe thead th {\n",
       "        text-align: right;\n",
       "    }\n",
       "</style>\n",
       "<table border=\"1\" class=\"dataframe\">\n",
       "  <thead>\n",
       "    <tr style=\"text-align: right;\">\n",
       "      <th></th>\n",
       "      <th>Age</th>\n",
       "      <th>Sex</th>\n",
       "      <th>ChestPainType</th>\n",
       "      <th>RestingBP</th>\n",
       "      <th>Cholesterol</th>\n",
       "      <th>FastingBS</th>\n",
       "      <th>RestingECG</th>\n",
       "      <th>MaxHR</th>\n",
       "      <th>ExerciseAngina</th>\n",
       "      <th>Oldpeak</th>\n",
       "      <th>ST_Slope</th>\n",
       "      <th>HeartDisease</th>\n",
       "    </tr>\n",
       "  </thead>\n",
       "  <tbody>\n",
       "    <tr>\n",
       "      <th>0</th>\n",
       "      <td>40</td>\n",
       "      <td>M</td>\n",
       "      <td>ATA</td>\n",
       "      <td>140</td>\n",
       "      <td>289.0</td>\n",
       "      <td>0</td>\n",
       "      <td>Normal</td>\n",
       "      <td>172</td>\n",
       "      <td>N</td>\n",
       "      <td>0.0</td>\n",
       "      <td>Up</td>\n",
       "      <td>0</td>\n",
       "    </tr>\n",
       "    <tr>\n",
       "      <th>1</th>\n",
       "      <td>49</td>\n",
       "      <td>F</td>\n",
       "      <td>NAP</td>\n",
       "      <td>160</td>\n",
       "      <td>180.0</td>\n",
       "      <td>0</td>\n",
       "      <td>Normal</td>\n",
       "      <td>156</td>\n",
       "      <td>N</td>\n",
       "      <td>1.0</td>\n",
       "      <td>Flat</td>\n",
       "      <td>1</td>\n",
       "    </tr>\n",
       "    <tr>\n",
       "      <th>2</th>\n",
       "      <td>37</td>\n",
       "      <td>M</td>\n",
       "      <td>ATA</td>\n",
       "      <td>130</td>\n",
       "      <td>283.0</td>\n",
       "      <td>0</td>\n",
       "      <td>ST</td>\n",
       "      <td>98</td>\n",
       "      <td>N</td>\n",
       "      <td>0.0</td>\n",
       "      <td>Up</td>\n",
       "      <td>0</td>\n",
       "    </tr>\n",
       "  </tbody>\n",
       "</table>\n",
       "</div>"
      ],
      "text/plain": [
       "   Age Sex ChestPainType  RestingBP  Cholesterol  FastingBS RestingECG  MaxHR  \\\n",
       "0   40   M           ATA        140        289.0          0     Normal    172   \n",
       "1   49   F           NAP        160        180.0          0     Normal    156   \n",
       "2   37   M           ATA        130        283.0          0         ST     98   \n",
       "\n",
       "  ExerciseAngina  Oldpeak ST_Slope  HeartDisease  \n",
       "0              N      0.0       Up             0  \n",
       "1              N      1.0     Flat             1  \n",
       "2              N      0.0       Up             0  "
      ]
     },
     "execution_count": 212,
     "metadata": {},
     "output_type": "execute_result"
    }
   ],
   "source": [
    "df.head(3)"
   ]
  },
  {
   "cell_type": "code",
   "execution_count": 213,
   "metadata": {
    "id": "mFw4wb_2CZWv"
   },
   "outputs": [],
   "source": [
    "previsores4 = df.iloc[:, 0:11]"
   ]
  },
  {
   "cell_type": "code",
   "execution_count": 214,
   "metadata": {
    "id": "6EGMtQa9Dwf7"
   },
   "outputs": [
    {
     "data": {
      "text/html": [
       "<div>\n",
       "<style scoped>\n",
       "    .dataframe tbody tr th:only-of-type {\n",
       "        vertical-align: middle;\n",
       "    }\n",
       "\n",
       "    .dataframe tbody tr th {\n",
       "        vertical-align: top;\n",
       "    }\n",
       "\n",
       "    .dataframe thead th {\n",
       "        text-align: right;\n",
       "    }\n",
       "</style>\n",
       "<table border=\"1\" class=\"dataframe\">\n",
       "  <thead>\n",
       "    <tr style=\"text-align: right;\">\n",
       "      <th></th>\n",
       "      <th>Age</th>\n",
       "      <th>Sex</th>\n",
       "      <th>ChestPainType</th>\n",
       "      <th>RestingBP</th>\n",
       "      <th>Cholesterol</th>\n",
       "      <th>FastingBS</th>\n",
       "      <th>RestingECG</th>\n",
       "      <th>MaxHR</th>\n",
       "      <th>ExerciseAngina</th>\n",
       "      <th>Oldpeak</th>\n",
       "      <th>ST_Slope</th>\n",
       "    </tr>\n",
       "  </thead>\n",
       "  <tbody>\n",
       "    <tr>\n",
       "      <th>0</th>\n",
       "      <td>40</td>\n",
       "      <td>M</td>\n",
       "      <td>ATA</td>\n",
       "      <td>140</td>\n",
       "      <td>289.0</td>\n",
       "      <td>0</td>\n",
       "      <td>Normal</td>\n",
       "      <td>172</td>\n",
       "      <td>N</td>\n",
       "      <td>0.0</td>\n",
       "      <td>Up</td>\n",
       "    </tr>\n",
       "    <tr>\n",
       "      <th>1</th>\n",
       "      <td>49</td>\n",
       "      <td>F</td>\n",
       "      <td>NAP</td>\n",
       "      <td>160</td>\n",
       "      <td>180.0</td>\n",
       "      <td>0</td>\n",
       "      <td>Normal</td>\n",
       "      <td>156</td>\n",
       "      <td>N</td>\n",
       "      <td>1.0</td>\n",
       "      <td>Flat</td>\n",
       "    </tr>\n",
       "    <tr>\n",
       "      <th>2</th>\n",
       "      <td>37</td>\n",
       "      <td>M</td>\n",
       "      <td>ATA</td>\n",
       "      <td>130</td>\n",
       "      <td>283.0</td>\n",
       "      <td>0</td>\n",
       "      <td>ST</td>\n",
       "      <td>98</td>\n",
       "      <td>N</td>\n",
       "      <td>0.0</td>\n",
       "      <td>Up</td>\n",
       "    </tr>\n",
       "    <tr>\n",
       "      <th>3</th>\n",
       "      <td>48</td>\n",
       "      <td>F</td>\n",
       "      <td>ASY</td>\n",
       "      <td>138</td>\n",
       "      <td>214.0</td>\n",
       "      <td>0</td>\n",
       "      <td>Normal</td>\n",
       "      <td>108</td>\n",
       "      <td>Y</td>\n",
       "      <td>1.5</td>\n",
       "      <td>Flat</td>\n",
       "    </tr>\n",
       "    <tr>\n",
       "      <th>4</th>\n",
       "      <td>54</td>\n",
       "      <td>M</td>\n",
       "      <td>NAP</td>\n",
       "      <td>150</td>\n",
       "      <td>195.0</td>\n",
       "      <td>0</td>\n",
       "      <td>Normal</td>\n",
       "      <td>122</td>\n",
       "      <td>N</td>\n",
       "      <td>0.0</td>\n",
       "      <td>Up</td>\n",
       "    </tr>\n",
       "  </tbody>\n",
       "</table>\n",
       "</div>"
      ],
      "text/plain": [
       "   Age Sex ChestPainType  RestingBP  Cholesterol  FastingBS RestingECG  MaxHR  \\\n",
       "0   40   M           ATA        140        289.0          0     Normal    172   \n",
       "1   49   F           NAP        160        180.0          0     Normal    156   \n",
       "2   37   M           ATA        130        283.0          0         ST     98   \n",
       "3   48   F           ASY        138        214.0          0     Normal    108   \n",
       "4   54   M           NAP        150        195.0          0     Normal    122   \n",
       "\n",
       "  ExerciseAngina  Oldpeak ST_Slope  \n",
       "0              N      0.0       Up  \n",
       "1              N      1.0     Flat  \n",
       "2              N      0.0       Up  \n",
       "3              Y      1.5     Flat  \n",
       "4              N      0.0       Up  "
      ]
     },
     "execution_count": 214,
     "metadata": {},
     "output_type": "execute_result"
    }
   ],
   "source": [
    "previsores4.head()"
   ]
  },
  {
   "cell_type": "code",
   "execution_count": 215,
   "metadata": {
    "id": "G0qli4gSEBbM"
   },
   "outputs": [],
   "source": [
    "alvo4 = df.iloc[:, 11]"
   ]
  },
  {
   "cell_type": "code",
   "execution_count": 216,
   "metadata": {
    "id": "hAcS1ULCC78V"
   },
   "outputs": [],
   "source": [
    "from sklearn.model_selection import train_test_split"
   ]
  },
  {
   "cell_type": "code",
   "execution_count": 217,
   "metadata": {
    "id": "OP69_qpGC78W"
   },
   "outputs": [],
   "source": [
    "x_treino, x_teste, y_treino, y_teste = train_test_split(previsores4, alvo4, test_size = 0.3, random_state = 0)"
   ]
  },
  {
   "cell_type": "code",
   "execution_count": 218,
   "metadata": {
    "id": "B9Gb_1r2UChX"
   },
   "outputs": [],
   "source": [
    "categoricas = ['Sex','ChestPainType', 'RestingECG', 'ExerciseAngina', 'ST_Slope']"
   ]
  },
  {
   "cell_type": "code",
   "execution_count": 219,
   "metadata": {
    "id": "kM7Xaph4UChY"
   },
   "outputs": [],
   "source": [
    "catboost = CatBoostClassifier(task_type='CPU', iterations=100, learning_rate=0.1, depth = 8, random_state = 5, \n",
    "                              eval_metric=\"Accuracy\")"
   ]
  },
  {
   "cell_type": "code",
   "execution_count": 220,
   "metadata": {
    "id": "frZ9Fw1EUChY"
   },
   "outputs": [
    {
     "data": {
      "application/vnd.jupyter.widget-view+json": {
       "model_id": "228cf14442eb47ed9784945eac81ec86",
       "version_major": 2,
       "version_minor": 0
      },
      "text/plain": [
       "MetricVisualizer(layout=Layout(align_self='stretch', height='500px'))"
      ]
     },
     "metadata": {},
     "output_type": "display_data"
    },
    {
     "name": "stdout",
     "output_type": "stream",
     "text": [
      "0:\tlearn: 0.8861154\ttest: 0.7789855\tbest: 0.7789855 (0)\ttotal: 63.3ms\tremaining: 6.27s\n",
      "1:\tlearn: 0.8689548\ttest: 0.7934783\tbest: 0.7934783 (1)\ttotal: 73ms\tremaining: 3.58s\n",
      "2:\tlearn: 0.8471139\ttest: 0.7971014\tbest: 0.7971014 (2)\ttotal: 76.9ms\tremaining: 2.49s\n",
      "3:\tlearn: 0.8549142\ttest: 0.8043478\tbest: 0.8043478 (3)\ttotal: 81.7ms\tremaining: 1.96s\n",
      "4:\tlearn: 0.8517941\ttest: 0.8043478\tbest: 0.8043478 (3)\ttotal: 85.1ms\tremaining: 1.62s\n",
      "5:\tlearn: 0.8486739\ttest: 0.8043478\tbest: 0.8043478 (3)\ttotal: 88.3ms\tremaining: 1.38s\n",
      "6:\tlearn: 0.8580343\ttest: 0.8115942\tbest: 0.8115942 (6)\ttotal: 91.2ms\tremaining: 1.21s\n",
      "7:\tlearn: 0.8642746\ttest: 0.8043478\tbest: 0.8115942 (6)\ttotal: 93.4ms\tremaining: 1.07s\n",
      "8:\tlearn: 0.8533541\ttest: 0.8043478\tbest: 0.8115942 (6)\ttotal: 95.7ms\tremaining: 967ms\n",
      "9:\tlearn: 0.8611544\ttest: 0.8115942\tbest: 0.8115942 (6)\ttotal: 97.5ms\tremaining: 878ms\n",
      "10:\tlearn: 0.8642746\ttest: 0.8079710\tbest: 0.8115942 (6)\ttotal: 99.6ms\tremaining: 806ms\n",
      "11:\tlearn: 0.8658346\ttest: 0.8043478\tbest: 0.8115942 (6)\ttotal: 102ms\tremaining: 745ms\n",
      "12:\tlearn: 0.8689548\ttest: 0.8043478\tbest: 0.8115942 (6)\ttotal: 103ms\tremaining: 691ms\n",
      "13:\tlearn: 0.8611544\ttest: 0.8007246\tbest: 0.8115942 (6)\ttotal: 104ms\tremaining: 637ms\n",
      "14:\tlearn: 0.8611544\ttest: 0.8007246\tbest: 0.8115942 (6)\ttotal: 105ms\tremaining: 598ms\n",
      "15:\tlearn: 0.8658346\ttest: 0.7971014\tbest: 0.8115942 (6)\ttotal: 107ms\tremaining: 559ms\n",
      "16:\tlearn: 0.8673947\ttest: 0.7971014\tbest: 0.8115942 (6)\ttotal: 108ms\tremaining: 528ms\n",
      "17:\tlearn: 0.8689548\ttest: 0.8007246\tbest: 0.8115942 (6)\ttotal: 110ms\tremaining: 503ms\n",
      "18:\tlearn: 0.8720749\ttest: 0.8007246\tbest: 0.8115942 (6)\ttotal: 112ms\tremaining: 478ms\n",
      "19:\tlearn: 0.8767551\ttest: 0.8007246\tbest: 0.8115942 (6)\ttotal: 114ms\tremaining: 456ms\n",
      "20:\tlearn: 0.8767551\ttest: 0.8079710\tbest: 0.8115942 (6)\ttotal: 116ms\tremaining: 438ms\n",
      "21:\tlearn: 0.8798752\ttest: 0.8079710\tbest: 0.8115942 (6)\ttotal: 118ms\tremaining: 420ms\n",
      "22:\tlearn: 0.8814353\ttest: 0.8079710\tbest: 0.8115942 (6)\ttotal: 120ms\tremaining: 403ms\n",
      "23:\tlearn: 0.8814353\ttest: 0.8079710\tbest: 0.8115942 (6)\ttotal: 123ms\tremaining: 388ms\n",
      "24:\tlearn: 0.8814353\ttest: 0.8079710\tbest: 0.8115942 (6)\ttotal: 125ms\tremaining: 376ms\n",
      "25:\tlearn: 0.8829953\ttest: 0.8115942\tbest: 0.8115942 (6)\ttotal: 127ms\tremaining: 362ms\n",
      "26:\tlearn: 0.8845554\ttest: 0.8152174\tbest: 0.8152174 (26)\ttotal: 129ms\tremaining: 349ms\n",
      "27:\tlearn: 0.8829953\ttest: 0.8152174\tbest: 0.8152174 (26)\ttotal: 131ms\tremaining: 336ms\n",
      "28:\tlearn: 0.8861154\ttest: 0.8115942\tbest: 0.8152174 (26)\ttotal: 132ms\tremaining: 324ms\n",
      "29:\tlearn: 0.8939158\ttest: 0.8115942\tbest: 0.8152174 (26)\ttotal: 134ms\tremaining: 313ms\n",
      "30:\tlearn: 0.8954758\ttest: 0.8115942\tbest: 0.8152174 (26)\ttotal: 136ms\tremaining: 302ms\n",
      "31:\tlearn: 0.8954758\ttest: 0.8152174\tbest: 0.8152174 (26)\ttotal: 137ms\tremaining: 292ms\n",
      "32:\tlearn: 0.8970359\ttest: 0.8115942\tbest: 0.8152174 (26)\ttotal: 139ms\tremaining: 282ms\n",
      "33:\tlearn: 0.9001560\ttest: 0.8152174\tbest: 0.8152174 (26)\ttotal: 140ms\tremaining: 273ms\n",
      "34:\tlearn: 0.9048362\ttest: 0.8188406\tbest: 0.8188406 (34)\ttotal: 142ms\tremaining: 264ms\n",
      "35:\tlearn: 0.9095164\ttest: 0.8297101\tbest: 0.8297101 (35)\ttotal: 144ms\tremaining: 256ms\n",
      "36:\tlearn: 0.9110764\ttest: 0.8224638\tbest: 0.8297101 (35)\ttotal: 145ms\tremaining: 248ms\n",
      "37:\tlearn: 0.9157566\ttest: 0.8260870\tbest: 0.8297101 (35)\ttotal: 147ms\tremaining: 240ms\n",
      "38:\tlearn: 0.9157566\ttest: 0.8333333\tbest: 0.8333333 (38)\ttotal: 148ms\tremaining: 231ms\n",
      "39:\tlearn: 0.9173167\ttest: 0.8333333\tbest: 0.8333333 (38)\ttotal: 149ms\tremaining: 224ms\n",
      "40:\tlearn: 0.9141966\ttest: 0.8369565\tbest: 0.8369565 (40)\ttotal: 150ms\tremaining: 215ms\n",
      "41:\tlearn: 0.9141966\ttest: 0.8405797\tbest: 0.8405797 (41)\ttotal: 151ms\tremaining: 208ms\n",
      "42:\tlearn: 0.9173167\ttest: 0.8442029\tbest: 0.8442029 (42)\ttotal: 153ms\tremaining: 202ms\n",
      "43:\tlearn: 0.9173167\ttest: 0.8514493\tbest: 0.8514493 (43)\ttotal: 154ms\tremaining: 196ms\n",
      "44:\tlearn: 0.9173167\ttest: 0.8478261\tbest: 0.8514493 (43)\ttotal: 156ms\tremaining: 190ms\n",
      "45:\tlearn: 0.9188768\ttest: 0.8478261\tbest: 0.8514493 (43)\ttotal: 157ms\tremaining: 184ms\n",
      "46:\tlearn: 0.9204368\ttest: 0.8514493\tbest: 0.8514493 (43)\ttotal: 159ms\tremaining: 179ms\n",
      "47:\tlearn: 0.9204368\ttest: 0.8550725\tbest: 0.8550725 (47)\ttotal: 160ms\tremaining: 174ms\n",
      "48:\tlearn: 0.9219969\ttest: 0.8623188\tbest: 0.8623188 (48)\ttotal: 162ms\tremaining: 169ms\n",
      "49:\tlearn: 0.9188768\ttest: 0.8623188\tbest: 0.8623188 (48)\ttotal: 163ms\tremaining: 163ms\n",
      "50:\tlearn: 0.9204368\ttest: 0.8659420\tbest: 0.8659420 (50)\ttotal: 164ms\tremaining: 158ms\n",
      "51:\tlearn: 0.9235569\ttest: 0.8659420\tbest: 0.8659420 (50)\ttotal: 165ms\tremaining: 152ms\n",
      "52:\tlearn: 0.9235569\ttest: 0.8659420\tbest: 0.8659420 (50)\ttotal: 165ms\tremaining: 147ms\n",
      "53:\tlearn: 0.9251170\ttest: 0.8659420\tbest: 0.8659420 (50)\ttotal: 167ms\tremaining: 142ms\n",
      "54:\tlearn: 0.9235569\ttest: 0.8695652\tbest: 0.8695652 (54)\ttotal: 168ms\tremaining: 137ms\n",
      "55:\tlearn: 0.9204368\ttest: 0.8695652\tbest: 0.8695652 (54)\ttotal: 169ms\tremaining: 133ms\n",
      "56:\tlearn: 0.9219969\ttest: 0.8695652\tbest: 0.8695652 (54)\ttotal: 171ms\tremaining: 129ms\n",
      "57:\tlearn: 0.9251170\ttest: 0.8695652\tbest: 0.8695652 (54)\ttotal: 172ms\tremaining: 125ms\n",
      "58:\tlearn: 0.9266771\ttest: 0.8695652\tbest: 0.8695652 (54)\ttotal: 173ms\tremaining: 121ms\n",
      "59:\tlearn: 0.9282371\ttest: 0.8695652\tbest: 0.8695652 (54)\ttotal: 175ms\tremaining: 117ms\n",
      "60:\tlearn: 0.9282371\ttest: 0.8695652\tbest: 0.8695652 (54)\ttotal: 176ms\tremaining: 113ms\n",
      "61:\tlearn: 0.9282371\ttest: 0.8695652\tbest: 0.8695652 (54)\ttotal: 178ms\tremaining: 109ms\n",
      "62:\tlearn: 0.9251170\ttest: 0.8695652\tbest: 0.8695652 (54)\ttotal: 179ms\tremaining: 105ms\n",
      "63:\tlearn: 0.9251170\ttest: 0.8695652\tbest: 0.8695652 (54)\ttotal: 180ms\tremaining: 101ms\n",
      "64:\tlearn: 0.9251170\ttest: 0.8695652\tbest: 0.8695652 (54)\ttotal: 181ms\tremaining: 97.2ms\n",
      "65:\tlearn: 0.9251170\ttest: 0.8695652\tbest: 0.8695652 (54)\ttotal: 182ms\tremaining: 93.7ms\n",
      "66:\tlearn: 0.9251170\ttest: 0.8695652\tbest: 0.8695652 (54)\ttotal: 183ms\tremaining: 90.2ms\n",
      "67:\tlearn: 0.9266771\ttest: 0.8695652\tbest: 0.8695652 (54)\ttotal: 184ms\tremaining: 86.4ms\n",
      "68:\tlearn: 0.9266771\ttest: 0.8695652\tbest: 0.8695652 (54)\ttotal: 184ms\tremaining: 82.7ms\n",
      "69:\tlearn: 0.9266771\ttest: 0.8695652\tbest: 0.8695652 (54)\ttotal: 185ms\tremaining: 79.1ms\n",
      "70:\tlearn: 0.9266771\ttest: 0.8695652\tbest: 0.8695652 (54)\ttotal: 186ms\tremaining: 75.9ms\n",
      "71:\tlearn: 0.9266771\ttest: 0.8695652\tbest: 0.8695652 (54)\ttotal: 186ms\tremaining: 72.5ms\n",
      "72:\tlearn: 0.9266771\ttest: 0.8695652\tbest: 0.8695652 (54)\ttotal: 187ms\tremaining: 69.1ms\n",
      "73:\tlearn: 0.9251170\ttest: 0.8695652\tbest: 0.8695652 (54)\ttotal: 188ms\tremaining: 66.2ms\n",
      "74:\tlearn: 0.9251170\ttest: 0.8695652\tbest: 0.8695652 (54)\ttotal: 189ms\tremaining: 63ms\n",
      "75:\tlearn: 0.9266771\ttest: 0.8695652\tbest: 0.8695652 (54)\ttotal: 190ms\tremaining: 59.9ms\n",
      "76:\tlearn: 0.9266771\ttest: 0.8695652\tbest: 0.8695652 (54)\ttotal: 191ms\tremaining: 57.1ms\n",
      "77:\tlearn: 0.9266771\ttest: 0.8695652\tbest: 0.8695652 (54)\ttotal: 192ms\tremaining: 54.2ms\n",
      "78:\tlearn: 0.9266771\ttest: 0.8659420\tbest: 0.8695652 (54)\ttotal: 194ms\tremaining: 51.5ms\n",
      "79:\tlearn: 0.9266771\ttest: 0.8659420\tbest: 0.8695652 (54)\ttotal: 194ms\tremaining: 48.5ms\n",
      "80:\tlearn: 0.9266771\ttest: 0.8659420\tbest: 0.8695652 (54)\ttotal: 196ms\tremaining: 45.9ms\n",
      "81:\tlearn: 0.9266771\ttest: 0.8659420\tbest: 0.8695652 (54)\ttotal: 197ms\tremaining: 43.2ms\n",
      "82:\tlearn: 0.9266771\ttest: 0.8659420\tbest: 0.8695652 (54)\ttotal: 198ms\tremaining: 40.6ms\n",
      "83:\tlearn: 0.9266771\ttest: 0.8659420\tbest: 0.8695652 (54)\ttotal: 200ms\tremaining: 38ms\n",
      "84:\tlearn: 0.9297972\ttest: 0.8659420\tbest: 0.8695652 (54)\ttotal: 201ms\tremaining: 35.4ms\n",
      "85:\tlearn: 0.9297972\ttest: 0.8659420\tbest: 0.8695652 (54)\ttotal: 202ms\tremaining: 32.9ms\n",
      "86:\tlearn: 0.9282371\ttest: 0.8659420\tbest: 0.8695652 (54)\ttotal: 204ms\tremaining: 30.4ms\n",
      "87:\tlearn: 0.9282371\ttest: 0.8659420\tbest: 0.8695652 (54)\ttotal: 205ms\tremaining: 28ms\n",
      "88:\tlearn: 0.9282371\ttest: 0.8659420\tbest: 0.8695652 (54)\ttotal: 207ms\tremaining: 25.5ms\n",
      "89:\tlearn: 0.9282371\ttest: 0.8659420\tbest: 0.8695652 (54)\ttotal: 207ms\tremaining: 23ms\n",
      "90:\tlearn: 0.9282371\ttest: 0.8659420\tbest: 0.8695652 (54)\ttotal: 208ms\tremaining: 20.6ms\n",
      "91:\tlearn: 0.9282371\ttest: 0.8659420\tbest: 0.8695652 (54)\ttotal: 210ms\tremaining: 18.2ms\n",
      "92:\tlearn: 0.9282371\ttest: 0.8659420\tbest: 0.8695652 (54)\ttotal: 211ms\tremaining: 15.9ms\n",
      "93:\tlearn: 0.9282371\ttest: 0.8659420\tbest: 0.8695652 (54)\ttotal: 212ms\tremaining: 13.6ms\n",
      "94:\tlearn: 0.9282371\ttest: 0.8659420\tbest: 0.8695652 (54)\ttotal: 214ms\tremaining: 11.2ms\n",
      "95:\tlearn: 0.9282371\ttest: 0.8659420\tbest: 0.8695652 (54)\ttotal: 215ms\tremaining: 8.96ms\n",
      "96:\tlearn: 0.9282371\ttest: 0.8659420\tbest: 0.8695652 (54)\ttotal: 216ms\tremaining: 6.69ms\n",
      "97:\tlearn: 0.9282371\ttest: 0.8659420\tbest: 0.8695652 (54)\ttotal: 218ms\tremaining: 4.44ms\n",
      "98:\tlearn: 0.9282371\ttest: 0.8659420\tbest: 0.8695652 (54)\ttotal: 219ms\tremaining: 2.21ms\n",
      "99:\tlearn: 0.9297972\ttest: 0.8659420\tbest: 0.8695652 (54)\ttotal: 220ms\tremaining: 0us\n",
      "\n",
      "bestTest = 0.8695652174\n",
      "bestIteration = 54\n",
      "\n",
      "Shrink model to first 55 iterations.\n"
     ]
    },
    {
     "data": {
      "text/plain": [
       "<catboost.core.CatBoostClassifier at 0x7f56482ce580>"
      ]
     },
     "execution_count": 220,
     "metadata": {},
     "output_type": "execute_result"
    }
   ],
   "source": [
    "catboost.fit( x_treino, y_treino, cat_features= categoricas, plot=True, eval_set=(x_teste, y_teste))"
   ]
  },
  {
   "cell_type": "code",
   "execution_count": 223,
   "metadata": {
    "id": "MIJVraLTUChZ"
   },
   "outputs": [
    {
     "data": {
      "text/plain": [
       "array([1, 1, 1, 0, 0, 0, 0, 0, 0, 0, 1, 1, 1, 1, 0, 1, 1, 1, 1, 0, 1, 1,\n",
       "       1, 0, 0, 0, 1, 1, 1, 1, 1, 0, 0, 0, 1, 0, 0, 0, 1, 0, 0, 1, 1, 1,\n",
       "       1, 0, 0, 1, 0, 1, 1, 0, 0, 0, 1, 0, 0, 0, 1, 0, 1, 1, 1, 0, 1, 1,\n",
       "       1, 0, 1, 0, 1, 1, 0, 1, 1, 1, 1, 1, 1, 1, 1, 1, 0, 0, 1, 1, 1, 1,\n",
       "       1, 0, 1, 0, 0, 0, 1, 0, 1, 0, 0, 0, 0, 1, 1, 1, 0, 1, 0, 0, 0, 1,\n",
       "       0, 1, 1, 1, 0, 1, 0, 1, 1, 1, 1, 1, 1, 0, 1, 1, 0, 1, 0, 1, 0, 1,\n",
       "       1, 1, 0, 1, 1, 1, 1, 0, 0, 1, 0, 1, 0, 0, 1, 1, 1, 0, 0, 1, 1, 0,\n",
       "       1, 0, 1, 1, 1, 0, 1, 1, 1, 0, 1, 0, 1, 0, 1, 0, 1, 1, 0, 0, 1, 0,\n",
       "       1, 0, 0, 1, 1, 1, 0, 1, 1, 1, 0, 1, 1, 0, 1, 0, 1, 1, 1, 1, 0, 0,\n",
       "       1, 0, 1, 1, 0, 1, 1, 0, 0, 0, 1, 0, 1, 1, 0, 1, 0, 0, 1, 0, 1, 1,\n",
       "       1, 0, 0, 1, 1, 1, 0, 1, 0, 1, 0, 1, 1, 1, 0, 1, 1, 1, 0, 1, 1, 0,\n",
       "       1, 0, 0, 0, 0, 0, 1, 0, 1, 0, 1, 0, 0, 0, 1, 0, 0, 1, 0, 1, 0, 0,\n",
       "       0, 0, 0, 0, 1, 0, 0, 1, 1, 1, 1, 1])"
      ]
     },
     "execution_count": 223,
     "metadata": {},
     "output_type": "execute_result"
    }
   ],
   "source": [
    "previsoes_cat = catboost.predict(x_teste)\n",
    "previsoes_cat"
   ]
  },
  {
   "cell_type": "code",
   "execution_count": 224,
   "metadata": {
    "id": "dSrjeuL_UCha"
   },
   "outputs": [
    {
     "data": {
      "text/plain": [
       "306    1\n",
       "710    0\n",
       "298    1\n",
       "466    0\n",
       "253    0\n",
       "      ..\n",
       "49     1\n",
       "456    1\n",
       "342    1\n",
       "906    1\n",
       "116    1\n",
       "Name: HeartDisease, Length: 276, dtype: int64"
      ]
     },
     "execution_count": 224,
     "metadata": {},
     "output_type": "execute_result"
    }
   ],
   "source": [
    "y_teste"
   ]
  },
  {
   "cell_type": "code",
   "execution_count": 225,
   "metadata": {
    "id": "r6FeKp07UCha"
   },
   "outputs": [],
   "source": [
    "from sklearn.metrics import accuracy_score, confusion_matrix, classification_report"
   ]
  },
  {
   "cell_type": "code",
   "execution_count": 226,
   "metadata": {
    "id": "rknZXiSyUChb"
   },
   "outputs": [
    {
     "name": "stdout",
     "output_type": "stream",
     "text": [
      "Acurácia: 86.96%\n"
     ]
    }
   ],
   "source": [
    "print(\"Acurácia: %.2f%%\" % (accuracy_score(y_teste, previsoes_cat) * 100.0))"
   ]
  },
  {
   "cell_type": "code",
   "execution_count": 227,
   "metadata": {
    "id": "coB92zR9UChb"
   },
   "outputs": [
    {
     "data": {
      "text/plain": [
       "array([[103,  18],\n",
       "       [ 18, 137]])"
      ]
     },
     "execution_count": 227,
     "metadata": {},
     "output_type": "execute_result"
    }
   ],
   "source": [
    "confusion_matrix(y_teste, previsoes_cat)"
   ]
  },
  {
   "cell_type": "markdown",
   "metadata": {
    "id": "IA02yBduUChc"
   },
   "source": [
    "<font color='red'>**Análise dados de treino**"
   ]
  },
  {
   "cell_type": "code",
   "execution_count": 228,
   "metadata": {
    "id": "pu0f-5frUChc"
   },
   "outputs": [
    {
     "data": {
      "text/plain": [
       "array([1, 0, 1, 1, 1, 1, 0, 0, 0, 0, 1, 0, 1, 1, 1, 0, 0, 0, 0, 1, 0, 1,\n",
       "       1, 1, 1, 0, 0, 1, 1, 1, 1, 0, 1, 1, 0, 0, 1, 1, 0, 1, 0, 1, 0, 0,\n",
       "       1, 1, 0, 1, 1, 1, 1, 0, 1, 0, 1, 0, 1, 0, 1, 0, 0, 0, 0, 0, 1, 1,\n",
       "       0, 0, 1, 0, 1, 1, 1, 1, 0, 0, 1, 1, 1, 1, 1, 1, 1, 1, 0, 1, 1, 1,\n",
       "       1, 1, 0, 1, 0, 0, 1, 1, 1, 1, 1, 1, 1, 1, 0, 1, 1, 1, 1, 0, 1, 1,\n",
       "       0, 0, 1, 0, 1, 0, 1, 0, 1, 0, 0, 0, 0, 1, 0, 1, 0, 0, 1, 1, 1, 0,\n",
       "       1, 1, 0, 1, 1, 0, 1, 1, 0, 1, 1, 1, 1, 1, 0, 0, 0, 1, 1, 0, 1, 0,\n",
       "       1, 0, 1, 1, 1, 0, 1, 0, 0, 0, 1, 0, 1, 0, 0, 0, 0, 1, 1, 0, 1, 0,\n",
       "       0, 1, 1, 0, 0, 0, 0, 0, 0, 1, 1, 1, 1, 1, 0, 0, 1, 0, 0, 1, 1, 1,\n",
       "       1, 1, 0, 0, 0, 1, 1, 0, 1, 1, 1, 0, 1, 0, 1, 1, 1, 0, 1, 0, 0, 1,\n",
       "       1, 0, 0, 1, 1, 1, 1, 1, 1, 1, 1, 1, 0, 1, 1, 0, 1, 0, 1, 0, 1, 0,\n",
       "       1, 1, 0, 1, 1, 1, 1, 1, 0, 1, 0, 0, 0, 0, 0, 0, 0, 0, 1, 0, 1, 0,\n",
       "       1, 0, 1, 0, 1, 0, 1, 1, 0, 0, 0, 1, 1, 0, 0, 0, 1, 0, 0, 0, 1, 1,\n",
       "       1, 1, 1, 1, 1, 0, 1, 1, 0, 1, 0, 1, 0, 1, 1, 0, 0, 1, 0, 0, 1, 1,\n",
       "       1, 0, 1, 0, 1, 0, 1, 0, 1, 1, 1, 0, 1, 1, 1, 1, 0, 1, 1, 1, 1, 0,\n",
       "       0, 0, 1, 0, 0, 0, 1, 1, 0, 1, 1, 1, 1, 1, 1, 0, 1, 1, 0, 1, 0, 1,\n",
       "       0, 0, 0, 1, 0, 1, 1, 1, 0, 1, 0, 1, 1, 0, 0, 0, 0, 0, 1, 1, 0, 1,\n",
       "       0, 1, 1, 1, 0, 1, 1, 1, 0, 1, 0, 1, 0, 0, 1, 1, 0, 0, 1, 1, 1, 1,\n",
       "       0, 0, 0, 1, 1, 1, 1, 0, 1, 1, 1, 1, 1, 0, 0, 1, 0, 1, 1, 1, 0, 0,\n",
       "       0, 1, 1, 0, 0, 1, 1, 0, 1, 1, 0, 0, 0, 1, 1, 0, 1, 1, 1, 1, 1, 1,\n",
       "       0, 0, 1, 1, 0, 1, 0, 1, 0, 0, 1, 0, 1, 1, 1, 1, 0, 0, 0, 1, 0, 1,\n",
       "       1, 1, 1, 1, 1, 0, 1, 0, 1, 1, 1, 1, 1, 1, 1, 0, 0, 0, 1, 0, 0, 0,\n",
       "       0, 0, 1, 0, 1, 1, 0, 0, 0, 1, 1, 0, 1, 1, 1, 0, 1, 1, 0, 0, 1, 1,\n",
       "       1, 1, 0, 0, 1, 1, 1, 1, 0, 1, 0, 0, 1, 0, 1, 1, 1, 1, 0, 1, 1, 0,\n",
       "       1, 0, 1, 0, 1, 0, 1, 0, 1, 0, 1, 1, 0, 1, 1, 1, 1, 0, 0, 1, 1, 0,\n",
       "       0, 1, 1, 0, 1, 0, 1, 1, 1, 0, 1, 1, 0, 1, 0, 1, 1, 0, 0, 1, 0, 1,\n",
       "       1, 1, 0, 0, 1, 0, 0, 0, 0, 1, 0, 1, 1, 1, 1, 0, 1, 0, 0, 0, 0, 0,\n",
       "       0, 0, 1, 0, 0, 1, 0, 0, 0, 0, 1, 0, 1, 1, 0, 1, 1, 1, 1, 1, 0, 1,\n",
       "       1, 1, 0, 1, 1, 0, 1, 1, 1, 1, 1, 1, 0, 1, 1, 0, 0, 1, 1, 0, 1, 0,\n",
       "       0, 0, 1])"
      ]
     },
     "execution_count": 228,
     "metadata": {},
     "output_type": "execute_result"
    }
   ],
   "source": [
    "previsoes_treino = catboost.predict(x_treino)\n",
    "previsoes_treino"
   ]
  },
  {
   "cell_type": "code",
   "execution_count": 230,
   "metadata": {
    "id": "agSmZWOEUChc"
   },
   "outputs": [
    {
     "name": "stdout",
     "output_type": "stream",
     "text": [
      "Acurácia: 91.73%\n"
     ]
    }
   ],
   "source": [
    "print(\"Acurácia: %.2f%%\" % (accuracy_score(y_treino, previsoes_treino) * 100.0))\n",
    "#accuracy_score(y_treino, previsoes_treino)"
   ]
  },
  {
   "cell_type": "code",
   "execution_count": 231,
   "metadata": {
    "id": "Oh06bx0IUChd"
   },
   "outputs": [
    {
     "data": {
      "text/plain": [
       "array([[255,  34],\n",
       "       [ 19, 333]])"
      ]
     },
     "execution_count": 231,
     "metadata": {},
     "output_type": "execute_result"
    }
   ],
   "source": [
    "confusion_matrix(y_treino, previsoes_treino)"
   ]
  },
  {
   "cell_type": "markdown",
   "metadata": {
    "id": "2LgdzmpMUChd"
   },
   "source": [
    "### <font color='red'>**Validação Cruzada**"
   ]
  },
  {
   "cell_type": "code",
   "execution_count": 232,
   "metadata": {
    "id": "N80OsHhNUChd"
   },
   "outputs": [],
   "source": [
    "from sklearn.model_selection import KFold\n",
    "from sklearn.model_selection import cross_val_score"
   ]
  },
  {
   "cell_type": "code",
   "execution_count": 233,
   "metadata": {
    "id": "vkhW9kFUUChd"
   },
   "outputs": [],
   "source": [
    "# Separando os dados em folds\n",
    "kfold = KFold(n_splits = 30, shuffle=True, random_state = 5)"
   ]
  },
  {
   "cell_type": "code",
   "execution_count": 234,
   "metadata": {
    "id": "lwgfw-cVUChd"
   },
   "outputs": [
    {
     "name": "stdout",
     "output_type": "stream",
     "text": [
      "0:\tlearn: 0.8803612\ttotal: 6.51ms\tremaining: 645ms\n",
      "1:\tlearn: 0.8758465\ttotal: 12.9ms\tremaining: 634ms\n",
      "2:\tlearn: 0.8837472\ttotal: 18.3ms\tremaining: 591ms\n",
      "3:\tlearn: 0.8927765\ttotal: 24.5ms\tremaining: 588ms\n",
      "4:\tlearn: 0.8792325\ttotal: 26.4ms\tremaining: 501ms\n",
      "5:\tlearn: 0.8803612\ttotal: 32.5ms\tremaining: 510ms\n",
      "6:\tlearn: 0.8893905\ttotal: 36.3ms\tremaining: 482ms\n",
      "7:\tlearn: 0.8860045\ttotal: 38.9ms\tremaining: 447ms\n",
      "8:\tlearn: 0.8927765\ttotal: 41.4ms\tremaining: 418ms\n",
      "9:\tlearn: 0.8950339\ttotal: 43.7ms\tremaining: 393ms\n",
      "10:\tlearn: 0.8950339\ttotal: 45.7ms\tremaining: 370ms\n",
      "11:\tlearn: 0.8961625\ttotal: 47.5ms\tremaining: 349ms\n",
      "12:\tlearn: 0.8972912\ttotal: 49.4ms\tremaining: 331ms\n",
      "13:\tlearn: 0.8972912\ttotal: 51.3ms\tremaining: 315ms\n",
      "14:\tlearn: 0.8995485\ttotal: 52.8ms\tremaining: 299ms\n",
      "15:\tlearn: 0.9006772\ttotal: 55.8ms\tremaining: 293ms\n",
      "16:\tlearn: 0.9029345\ttotal: 57.3ms\tremaining: 280ms\n",
      "17:\tlearn: 0.9040632\ttotal: 58.8ms\tremaining: 268ms\n",
      "18:\tlearn: 0.9018059\ttotal: 59.3ms\tremaining: 253ms\n",
      "19:\tlearn: 0.9051919\ttotal: 60.7ms\tremaining: 243ms\n",
      "20:\tlearn: 0.9029345\ttotal: 62ms\tremaining: 233ms\n",
      "21:\tlearn: 0.9074492\ttotal: 63.4ms\tremaining: 225ms\n",
      "22:\tlearn: 0.9063205\ttotal: 64.7ms\tremaining: 217ms\n",
      "23:\tlearn: 0.9085779\ttotal: 65.1ms\tremaining: 206ms\n",
      "24:\tlearn: 0.9097065\ttotal: 66.3ms\tremaining: 199ms\n",
      "25:\tlearn: 0.9085779\ttotal: 67.5ms\tremaining: 192ms\n",
      "26:\tlearn: 0.9097065\ttotal: 68.7ms\tremaining: 186ms\n",
      "27:\tlearn: 0.9097065\ttotal: 71.7ms\tremaining: 184ms\n",
      "28:\tlearn: 0.9130926\ttotal: 73ms\tremaining: 179ms\n",
      "29:\tlearn: 0.9119639\ttotal: 74.2ms\tremaining: 173ms\n",
      "30:\tlearn: 0.9130926\ttotal: 75.5ms\tremaining: 168ms\n",
      "31:\tlearn: 0.9130926\ttotal: 76.7ms\tremaining: 163ms\n",
      "32:\tlearn: 0.9130926\ttotal: 77.9ms\tremaining: 158ms\n",
      "33:\tlearn: 0.9119639\ttotal: 79.2ms\tremaining: 154ms\n",
      "34:\tlearn: 0.9142212\ttotal: 80.4ms\tremaining: 149ms\n",
      "35:\tlearn: 0.9142212\ttotal: 81.5ms\tremaining: 145ms\n",
      "36:\tlearn: 0.9142212\ttotal: 82.6ms\tremaining: 141ms\n",
      "37:\tlearn: 0.9187359\ttotal: 83.8ms\tremaining: 137ms\n",
      "38:\tlearn: 0.9164786\ttotal: 84.9ms\tremaining: 133ms\n",
      "39:\tlearn: 0.9187359\ttotal: 86.1ms\tremaining: 129ms\n",
      "40:\tlearn: 0.9198646\ttotal: 87.3ms\tremaining: 126ms\n",
      "41:\tlearn: 0.9209932\ttotal: 88.4ms\tremaining: 122ms\n",
      "42:\tlearn: 0.9221219\ttotal: 89.5ms\tremaining: 119ms\n",
      "43:\tlearn: 0.9243792\ttotal: 90.7ms\tremaining: 115ms\n",
      "44:\tlearn: 0.9232506\ttotal: 91.7ms\tremaining: 112ms\n",
      "45:\tlearn: 0.9266366\ttotal: 92.8ms\tremaining: 109ms\n",
      "46:\tlearn: 0.9266366\ttotal: 93.9ms\tremaining: 106ms\n",
      "47:\tlearn: 0.9277652\ttotal: 95.1ms\tremaining: 103ms\n",
      "48:\tlearn: 0.9277652\ttotal: 96.1ms\tremaining: 100ms\n",
      "49:\tlearn: 0.9277652\ttotal: 97.2ms\tremaining: 97.2ms\n",
      "50:\tlearn: 0.9266366\ttotal: 98.3ms\tremaining: 94.4ms\n",
      "51:\tlearn: 0.9277652\ttotal: 99.4ms\tremaining: 91.7ms\n",
      "52:\tlearn: 0.9277652\ttotal: 100ms\tremaining: 89ms\n",
      "53:\tlearn: 0.9277652\ttotal: 101ms\tremaining: 86.4ms\n",
      "54:\tlearn: 0.9277652\ttotal: 103ms\tremaining: 83.9ms\n",
      "55:\tlearn: 0.9266366\ttotal: 104ms\tremaining: 81.5ms\n",
      "56:\tlearn: 0.9277652\ttotal: 105ms\tremaining: 79.1ms\n",
      "57:\tlearn: 0.9288939\ttotal: 106ms\tremaining: 76.6ms\n",
      "58:\tlearn: 0.9277652\ttotal: 107ms\tremaining: 74.3ms\n",
      "59:\tlearn: 0.9277652\ttotal: 108ms\tremaining: 72ms\n",
      "60:\tlearn: 0.9288939\ttotal: 109ms\tremaining: 69.7ms\n",
      "61:\tlearn: 0.9300226\ttotal: 110ms\tremaining: 67.5ms\n",
      "62:\tlearn: 0.9300226\ttotal: 111ms\tremaining: 64.9ms\n",
      "63:\tlearn: 0.9300226\ttotal: 112ms\tremaining: 62.8ms\n",
      "64:\tlearn: 0.9288939\ttotal: 113ms\tremaining: 60.7ms\n",
      "65:\tlearn: 0.9300226\ttotal: 114ms\tremaining: 58.7ms\n",
      "66:\tlearn: 0.9300226\ttotal: 115ms\tremaining: 56.6ms\n",
      "67:\tlearn: 0.9300226\ttotal: 117ms\tremaining: 55.2ms\n",
      "68:\tlearn: 0.9300226\ttotal: 119ms\tremaining: 53.3ms\n",
      "69:\tlearn: 0.9288939\ttotal: 120ms\tremaining: 51.3ms\n",
      "70:\tlearn: 0.9300226\ttotal: 121ms\tremaining: 49.4ms\n",
      "71:\tlearn: 0.9300226\ttotal: 122ms\tremaining: 47.4ms\n",
      "72:\tlearn: 0.9322799\ttotal: 123ms\tremaining: 45.5ms\n",
      "73:\tlearn: 0.9334086\ttotal: 124ms\tremaining: 43.6ms\n",
      "74:\tlearn: 0.9334086\ttotal: 125ms\tremaining: 41.7ms\n",
      "75:\tlearn: 0.9334086\ttotal: 126ms\tremaining: 39.8ms\n",
      "76:\tlearn: 0.9367946\ttotal: 127ms\tremaining: 38ms\n",
      "77:\tlearn: 0.9367946\ttotal: 128ms\tremaining: 36.2ms\n",
      "78:\tlearn: 0.9367946\ttotal: 129ms\tremaining: 34.4ms\n",
      "79:\tlearn: 0.9367946\ttotal: 130ms\tremaining: 32.5ms\n",
      "80:\tlearn: 0.9356659\ttotal: 131ms\tremaining: 30.8ms\n",
      "81:\tlearn: 0.9356659\ttotal: 132ms\tremaining: 29.1ms\n",
      "82:\tlearn: 0.9356659\ttotal: 133ms\tremaining: 27.3ms\n",
      "83:\tlearn: 0.9356659\ttotal: 135ms\tremaining: 25.6ms\n",
      "84:\tlearn: 0.9356659\ttotal: 136ms\tremaining: 23.9ms\n",
      "85:\tlearn: 0.9367946\ttotal: 137ms\tremaining: 22.3ms\n",
      "86:\tlearn: 0.9367946\ttotal: 138ms\tremaining: 20.6ms\n",
      "87:\tlearn: 0.9367946\ttotal: 139ms\tremaining: 18.9ms\n",
      "88:\tlearn: 0.9367946\ttotal: 140ms\tremaining: 17.2ms\n",
      "89:\tlearn: 0.9367946\ttotal: 141ms\tremaining: 15.6ms\n",
      "90:\tlearn: 0.9367946\ttotal: 142ms\tremaining: 14ms\n",
      "91:\tlearn: 0.9367946\ttotal: 143ms\tremaining: 12.4ms\n",
      "92:\tlearn: 0.9367946\ttotal: 144ms\tremaining: 10.8ms\n",
      "93:\tlearn: 0.9367946\ttotal: 144ms\tremaining: 9.22ms\n",
      "94:\tlearn: 0.9367946\ttotal: 145ms\tremaining: 7.66ms\n",
      "95:\tlearn: 0.9367946\ttotal: 147ms\tremaining: 6.1ms\n",
      "96:\tlearn: 0.9367946\ttotal: 148ms\tremaining: 4.56ms\n",
      "97:\tlearn: 0.9367946\ttotal: 149ms\tremaining: 3.03ms\n",
      "98:\tlearn: 0.9367946\ttotal: 150ms\tremaining: 1.51ms\n",
      "99:\tlearn: 0.9367946\ttotal: 151ms\tremaining: 0us\n",
      "0:\tlearn: 0.8735892\ttotal: 7.2ms\tremaining: 712ms\n",
      "1:\tlearn: 0.8814898\ttotal: 13.2ms\tremaining: 648ms\n",
      "2:\tlearn: 0.8871332\ttotal: 18.9ms\tremaining: 613ms\n",
      "3:\tlearn: 0.8871332\ttotal: 24.9ms\tremaining: 596ms\n",
      "4:\tlearn: 0.8769752\ttotal: 27.3ms\tremaining: 519ms\n",
      "5:\tlearn: 0.8735892\ttotal: 28.9ms\tremaining: 453ms\n",
      "6:\tlearn: 0.8758465\ttotal: 30.4ms\tremaining: 404ms\n",
      "7:\tlearn: 0.8803612\ttotal: 33.5ms\tremaining: 385ms\n",
      "8:\tlearn: 0.8803612\ttotal: 36.5ms\tremaining: 369ms\n",
      "9:\tlearn: 0.8814898\ttotal: 38.8ms\tremaining: 349ms\n",
      "10:\tlearn: 0.8814898\ttotal: 41.1ms\tremaining: 333ms\n",
      "11:\tlearn: 0.8814898\ttotal: 43ms\tremaining: 315ms\n",
      "12:\tlearn: 0.8814898\ttotal: 44.8ms\tremaining: 300ms\n",
      "13:\tlearn: 0.8860045\ttotal: 45.5ms\tremaining: 279ms\n",
      "14:\tlearn: 0.8860045\ttotal: 47ms\tremaining: 267ms\n",
      "15:\tlearn: 0.8882619\ttotal: 48.5ms\tremaining: 255ms\n",
      "16:\tlearn: 0.8893905\ttotal: 50.1ms\tremaining: 245ms\n",
      "17:\tlearn: 0.8905192\ttotal: 51.6ms\tremaining: 235ms\n",
      "18:\tlearn: 0.8927765\ttotal: 52.9ms\tremaining: 226ms\n",
      "19:\tlearn: 0.8905192\ttotal: 54.2ms\tremaining: 217ms\n",
      "20:\tlearn: 0.8916479\ttotal: 55.4ms\tremaining: 208ms\n",
      "21:\tlearn: 0.8927765\ttotal: 56.6ms\tremaining: 201ms\n",
      "22:\tlearn: 0.8972912\ttotal: 57.9ms\tremaining: 194ms\n",
      "23:\tlearn: 0.8984199\ttotal: 59ms\tremaining: 187ms\n",
      "24:\tlearn: 0.8984199\ttotal: 60.1ms\tremaining: 180ms\n",
      "25:\tlearn: 0.9006772\ttotal: 61.4ms\tremaining: 175ms\n",
      "26:\tlearn: 0.9006772\ttotal: 62.5ms\tremaining: 169ms\n",
      "27:\tlearn: 0.9051919\ttotal: 63.6ms\tremaining: 164ms\n",
      "28:\tlearn: 0.9051919\ttotal: 64.7ms\tremaining: 158ms\n",
      "29:\tlearn: 0.9074492\ttotal: 65.8ms\tremaining: 154ms\n",
      "30:\tlearn: 0.9074492\ttotal: 66.9ms\tremaining: 149ms\n",
      "31:\tlearn: 0.9063205\ttotal: 68.1ms\tremaining: 145ms\n",
      "32:\tlearn: 0.9063205\ttotal: 69.4ms\tremaining: 141ms\n",
      "33:\tlearn: 0.9063205\ttotal: 70.5ms\tremaining: 137ms\n",
      "34:\tlearn: 0.9097065\ttotal: 71.6ms\tremaining: 133ms\n",
      "35:\tlearn: 0.9108352\ttotal: 72.7ms\tremaining: 129ms\n",
      "36:\tlearn: 0.9108352\ttotal: 73.7ms\tremaining: 126ms\n",
      "37:\tlearn: 0.9130926\ttotal: 74.8ms\tremaining: 122ms\n",
      "38:\tlearn: 0.9153499\ttotal: 76ms\tremaining: 119ms\n",
      "39:\tlearn: 0.9164786\ttotal: 77.3ms\tremaining: 116ms\n",
      "40:\tlearn: 0.9153499\ttotal: 78.3ms\tremaining: 113ms\n",
      "41:\tlearn: 0.9164786\ttotal: 79.4ms\tremaining: 110ms\n",
      "42:\tlearn: 0.9164786\ttotal: 80.5ms\tremaining: 107ms\n",
      "43:\tlearn: 0.9176072\ttotal: 81.6ms\tremaining: 104ms\n",
      "44:\tlearn: 0.9164786\ttotal: 82.7ms\tremaining: 101ms\n",
      "45:\tlearn: 0.9176072\ttotal: 83.7ms\tremaining: 98.3ms\n",
      "46:\tlearn: 0.9176072\ttotal: 84.9ms\tremaining: 95.7ms\n",
      "47:\tlearn: 0.9176072\ttotal: 86ms\tremaining: 93.2ms\n",
      "48:\tlearn: 0.9198646\ttotal: 87.1ms\tremaining: 90.6ms\n",
      "49:\tlearn: 0.9209932\ttotal: 88.2ms\tremaining: 88.2ms\n",
      "50:\tlearn: 0.9209932\ttotal: 89.3ms\tremaining: 85.8ms\n",
      "51:\tlearn: 0.9209932\ttotal: 90.5ms\tremaining: 83.5ms\n",
      "52:\tlearn: 0.9221219\ttotal: 91.7ms\tremaining: 81.3ms\n",
      "53:\tlearn: 0.9221219\ttotal: 92.8ms\tremaining: 79.1ms\n",
      "54:\tlearn: 0.9255079\ttotal: 94ms\tremaining: 76.9ms\n",
      "55:\tlearn: 0.9243792\ttotal: 95.1ms\tremaining: 74.7ms\n",
      "56:\tlearn: 0.9243792\ttotal: 96.2ms\tremaining: 72.6ms\n",
      "57:\tlearn: 0.9255079\ttotal: 97.3ms\tremaining: 70.5ms\n",
      "58:\tlearn: 0.9266366\ttotal: 98.4ms\tremaining: 68.4ms\n",
      "59:\tlearn: 0.9277652\ttotal: 99.5ms\tremaining: 66.3ms\n",
      "60:\tlearn: 0.9277652\ttotal: 101ms\tremaining: 64.3ms\n",
      "61:\tlearn: 0.9300226\ttotal: 102ms\tremaining: 62.4ms\n",
      "62:\tlearn: 0.9266366\ttotal: 102ms\tremaining: 60ms\n",
      "63:\tlearn: 0.9277652\ttotal: 103ms\tremaining: 58.1ms\n",
      "64:\tlearn: 0.9277652\ttotal: 104ms\tremaining: 56.2ms\n",
      "65:\tlearn: 0.9277652\ttotal: 106ms\tremaining: 54.4ms\n",
      "66:\tlearn: 0.9277652\ttotal: 107ms\tremaining: 52.6ms\n",
      "67:\tlearn: 0.9288939\ttotal: 108ms\tremaining: 50.7ms\n",
      "68:\tlearn: 0.9300226\ttotal: 109ms\tremaining: 48.9ms\n",
      "69:\tlearn: 0.9311512\ttotal: 110ms\tremaining: 47.2ms\n",
      "70:\tlearn: 0.9300226\ttotal: 111ms\tremaining: 45.5ms\n",
      "71:\tlearn: 0.9311512\ttotal: 112ms\tremaining: 43.7ms\n",
      "72:\tlearn: 0.9311512\ttotal: 114ms\tremaining: 42ms\n",
      "73:\tlearn: 0.9300226\ttotal: 115ms\tremaining: 40.3ms\n",
      "74:\tlearn: 0.9311512\ttotal: 116ms\tremaining: 38.6ms\n",
      "75:\tlearn: 0.9300226\ttotal: 117ms\tremaining: 36.9ms\n",
      "76:\tlearn: 0.9300226\ttotal: 118ms\tremaining: 35.2ms\n",
      "77:\tlearn: 0.9300226\ttotal: 119ms\tremaining: 33.5ms\n",
      "78:\tlearn: 0.9300226\ttotal: 120ms\tremaining: 31.9ms\n",
      "79:\tlearn: 0.9300226\ttotal: 121ms\tremaining: 30.3ms\n",
      "80:\tlearn: 0.9311512\ttotal: 122ms\tremaining: 28.7ms\n",
      "81:\tlearn: 0.9300226\ttotal: 123ms\tremaining: 27.1ms\n",
      "82:\tlearn: 0.9311512\ttotal: 124ms\tremaining: 25.5ms\n",
      "83:\tlearn: 0.9311512\ttotal: 126ms\tremaining: 23.9ms\n",
      "84:\tlearn: 0.9311512\ttotal: 127ms\tremaining: 22.4ms\n",
      "85:\tlearn: 0.9300226\ttotal: 128ms\tremaining: 20.8ms\n",
      "86:\tlearn: 0.9300226\ttotal: 129ms\tremaining: 19.3ms\n",
      "87:\tlearn: 0.9300226\ttotal: 130ms\tremaining: 17.7ms\n",
      "88:\tlearn: 0.9311512\ttotal: 130ms\tremaining: 16.1ms\n",
      "89:\tlearn: 0.9311512\ttotal: 131ms\tremaining: 14.6ms\n",
      "90:\tlearn: 0.9288939\ttotal: 132ms\tremaining: 13.1ms\n",
      "91:\tlearn: 0.9311512\ttotal: 133ms\tremaining: 11.6ms\n",
      "92:\tlearn: 0.9322799\ttotal: 134ms\tremaining: 10.1ms\n",
      "93:\tlearn: 0.9322799\ttotal: 135ms\tremaining: 8.64ms\n",
      "94:\tlearn: 0.9322799\ttotal: 136ms\tremaining: 7.15ms\n",
      "95:\tlearn: 0.9322799\ttotal: 136ms\tremaining: 5.67ms\n",
      "96:\tlearn: 0.9322799\ttotal: 137ms\tremaining: 4.23ms\n",
      "97:\tlearn: 0.9334086\ttotal: 138ms\tremaining: 2.81ms\n",
      "98:\tlearn: 0.9334086\ttotal: 139ms\tremaining: 1.41ms\n",
      "99:\tlearn: 0.9345372\ttotal: 140ms\tremaining: 0us\n"
     ]
    },
    {
     "name": "stdout",
     "output_type": "stream",
     "text": [
      "0:\tlearn: 0.8634312\ttotal: 6.93ms\tremaining: 686ms\n",
      "1:\tlearn: 0.8781038\ttotal: 13.5ms\tremaining: 664ms\n",
      "2:\tlearn: 0.8837472\ttotal: 19.6ms\tremaining: 634ms\n",
      "3:\tlearn: 0.8871332\ttotal: 26.7ms\tremaining: 641ms\n",
      "4:\tlearn: 0.8781038\ttotal: 28.7ms\tremaining: 545ms\n",
      "5:\tlearn: 0.8826185\ttotal: 33.1ms\tremaining: 519ms\n",
      "6:\tlearn: 0.8905192\ttotal: 36.3ms\tremaining: 483ms\n",
      "7:\tlearn: 0.8893905\ttotal: 39ms\tremaining: 449ms\n",
      "8:\tlearn: 0.8961625\ttotal: 41.2ms\tremaining: 416ms\n",
      "9:\tlearn: 0.8950339\ttotal: 43.4ms\tremaining: 391ms\n",
      "10:\tlearn: 0.8939052\ttotal: 45.1ms\tremaining: 365ms\n",
      "11:\tlearn: 0.8939052\ttotal: 46.8ms\tremaining: 343ms\n",
      "12:\tlearn: 0.8950339\ttotal: 48.5ms\tremaining: 324ms\n",
      "13:\tlearn: 0.8939052\ttotal: 49.8ms\tremaining: 306ms\n",
      "14:\tlearn: 0.8961625\ttotal: 51.3ms\tremaining: 291ms\n",
      "15:\tlearn: 0.9018059\ttotal: 52.8ms\tremaining: 277ms\n",
      "16:\tlearn: 0.9051919\ttotal: 54.1ms\tremaining: 264ms\n",
      "17:\tlearn: 0.9029345\ttotal: 55.4ms\tremaining: 252ms\n",
      "18:\tlearn: 0.8995485\ttotal: 55.8ms\tremaining: 238ms\n",
      "19:\tlearn: 0.9029345\ttotal: 57.1ms\tremaining: 228ms\n",
      "20:\tlearn: 0.9040632\ttotal: 58.5ms\tremaining: 220ms\n",
      "21:\tlearn: 0.9018059\ttotal: 59.9ms\tremaining: 212ms\n",
      "22:\tlearn: 0.9051919\ttotal: 61.2ms\tremaining: 205ms\n",
      "23:\tlearn: 0.9074492\ttotal: 61.6ms\tremaining: 195ms\n",
      "24:\tlearn: 0.9063205\ttotal: 63ms\tremaining: 189ms\n",
      "25:\tlearn: 0.9119639\ttotal: 64.3ms\tremaining: 183ms\n",
      "26:\tlearn: 0.9108352\ttotal: 65.5ms\tremaining: 177ms\n",
      "27:\tlearn: 0.9119639\ttotal: 66.7ms\tremaining: 172ms\n",
      "28:\tlearn: 0.9097065\ttotal: 67.1ms\tremaining: 164ms\n",
      "29:\tlearn: 0.9130926\ttotal: 68.3ms\tremaining: 159ms\n",
      "30:\tlearn: 0.9142212\ttotal: 69.5ms\tremaining: 155ms\n",
      "31:\tlearn: 0.9142212\ttotal: 70.7ms\tremaining: 150ms\n",
      "32:\tlearn: 0.9164786\ttotal: 71.8ms\tremaining: 146ms\n",
      "33:\tlearn: 0.9176072\ttotal: 72.9ms\tremaining: 141ms\n",
      "34:\tlearn: 0.9187359\ttotal: 74ms\tremaining: 137ms\n",
      "35:\tlearn: 0.9187359\ttotal: 75.2ms\tremaining: 134ms\n",
      "36:\tlearn: 0.9198646\ttotal: 76.4ms\tremaining: 130ms\n",
      "37:\tlearn: 0.9198646\ttotal: 77.5ms\tremaining: 127ms\n",
      "38:\tlearn: 0.9198646\ttotal: 78.7ms\tremaining: 123ms\n",
      "39:\tlearn: 0.9221219\ttotal: 79.9ms\tremaining: 120ms\n",
      "40:\tlearn: 0.9221219\ttotal: 81.1ms\tremaining: 117ms\n",
      "41:\tlearn: 0.9232506\ttotal: 82.2ms\tremaining: 114ms\n",
      "42:\tlearn: 0.9221219\ttotal: 83.3ms\tremaining: 110ms\n",
      "43:\tlearn: 0.9221219\ttotal: 84.4ms\tremaining: 107ms\n",
      "44:\tlearn: 0.9221219\ttotal: 85.5ms\tremaining: 104ms\n",
      "45:\tlearn: 0.9232506\ttotal: 86.5ms\tremaining: 102ms\n",
      "46:\tlearn: 0.9255079\ttotal: 87.5ms\tremaining: 98.7ms\n",
      "47:\tlearn: 0.9232506\ttotal: 88.7ms\tremaining: 96.1ms\n",
      "48:\tlearn: 0.9243792\ttotal: 89.8ms\tremaining: 93.5ms\n",
      "49:\tlearn: 0.9243792\ttotal: 91.1ms\tremaining: 91.1ms\n",
      "50:\tlearn: 0.9243792\ttotal: 92.2ms\tremaining: 88.6ms\n",
      "51:\tlearn: 0.9266366\ttotal: 93.2ms\tremaining: 86.1ms\n",
      "52:\tlearn: 0.9277652\ttotal: 94.3ms\tremaining: 83.7ms\n",
      "53:\tlearn: 0.9288939\ttotal: 95.4ms\tremaining: 81.3ms\n",
      "54:\tlearn: 0.9288939\ttotal: 96.6ms\tremaining: 79ms\n",
      "55:\tlearn: 0.9288939\ttotal: 97.6ms\tremaining: 76.7ms\n",
      "56:\tlearn: 0.9288939\ttotal: 98.7ms\tremaining: 74.5ms\n",
      "57:\tlearn: 0.9288939\ttotal: 99.8ms\tremaining: 72.2ms\n",
      "58:\tlearn: 0.9277652\ttotal: 101ms\tremaining: 70.1ms\n",
      "59:\tlearn: 0.9288939\ttotal: 102ms\tremaining: 68ms\n",
      "60:\tlearn: 0.9288939\ttotal: 103ms\tremaining: 65.8ms\n",
      "61:\tlearn: 0.9300226\ttotal: 104ms\tremaining: 63.8ms\n",
      "62:\tlearn: 0.9300226\ttotal: 106ms\tremaining: 62.3ms\n",
      "63:\tlearn: 0.9300226\ttotal: 107ms\tremaining: 60.3ms\n",
      "64:\tlearn: 0.9311512\ttotal: 108ms\tremaining: 58.3ms\n",
      "65:\tlearn: 0.9322799\ttotal: 109ms\tremaining: 56.3ms\n",
      "66:\tlearn: 0.9334086\ttotal: 110ms\tremaining: 54.4ms\n",
      "67:\tlearn: 0.9322799\ttotal: 112ms\tremaining: 52.5ms\n",
      "68:\tlearn: 0.9322799\ttotal: 113ms\tremaining: 50.6ms\n",
      "69:\tlearn: 0.9334086\ttotal: 114ms\tremaining: 48.7ms\n",
      "70:\tlearn: 0.9322799\ttotal: 115ms\tremaining: 46.8ms\n",
      "71:\tlearn: 0.9334086\ttotal: 116ms\tremaining: 45ms\n",
      "72:\tlearn: 0.9322799\ttotal: 117ms\tremaining: 43.2ms\n",
      "73:\tlearn: 0.9345372\ttotal: 118ms\tremaining: 41.5ms\n",
      "74:\tlearn: 0.9356659\ttotal: 119ms\tremaining: 39.7ms\n",
      "75:\tlearn: 0.9345372\ttotal: 120ms\tremaining: 37.9ms\n",
      "76:\tlearn: 0.9356659\ttotal: 121ms\tremaining: 36.2ms\n",
      "77:\tlearn: 0.9367946\ttotal: 122ms\tremaining: 34.5ms\n",
      "78:\tlearn: 0.9356659\ttotal: 123ms\tremaining: 32.8ms\n",
      "79:\tlearn: 0.9345372\ttotal: 124ms\tremaining: 31.1ms\n",
      "80:\tlearn: 0.9379233\ttotal: 125ms\tremaining: 29.4ms\n",
      "81:\tlearn: 0.9367946\ttotal: 126ms\tremaining: 27.6ms\n",
      "82:\tlearn: 0.9367946\ttotal: 127ms\tremaining: 26ms\n",
      "83:\tlearn: 0.9390519\ttotal: 128ms\tremaining: 24.4ms\n",
      "84:\tlearn: 0.9390519\ttotal: 129ms\tremaining: 22.8ms\n",
      "85:\tlearn: 0.9379233\ttotal: 130ms\tremaining: 21.2ms\n",
      "86:\tlearn: 0.9379233\ttotal: 131ms\tremaining: 19.6ms\n",
      "87:\tlearn: 0.9379233\ttotal: 132ms\tremaining: 18.1ms\n",
      "88:\tlearn: 0.9379233\ttotal: 133ms\tremaining: 16.4ms\n",
      "89:\tlearn: 0.9379233\ttotal: 134ms\tremaining: 14.9ms\n",
      "90:\tlearn: 0.9379233\ttotal: 135ms\tremaining: 13.3ms\n",
      "91:\tlearn: 0.9379233\ttotal: 135ms\tremaining: 11.8ms\n",
      "92:\tlearn: 0.9379233\ttotal: 136ms\tremaining: 10.3ms\n",
      "93:\tlearn: 0.9379233\ttotal: 137ms\tremaining: 8.78ms\n",
      "94:\tlearn: 0.9390519\ttotal: 139ms\tremaining: 7.29ms\n",
      "95:\tlearn: 0.9401806\ttotal: 140ms\tremaining: 5.82ms\n",
      "96:\tlearn: 0.9401806\ttotal: 141ms\tremaining: 4.36ms\n",
      "97:\tlearn: 0.9413093\ttotal: 142ms\tremaining: 2.9ms\n",
      "98:\tlearn: 0.9424379\ttotal: 143ms\tremaining: 1.44ms\n",
      "99:\tlearn: 0.9424379\ttotal: 144ms\tremaining: 0us\n",
      "0:\tlearn: 0.8713318\ttotal: 6.39ms\tremaining: 633ms\n",
      "1:\tlearn: 0.8781038\ttotal: 12.9ms\tremaining: 630ms\n",
      "2:\tlearn: 0.8950339\ttotal: 18.9ms\tremaining: 612ms\n",
      "3:\tlearn: 0.8995485\ttotal: 24.4ms\tremaining: 585ms\n",
      "4:\tlearn: 0.8848758\ttotal: 26.4ms\tremaining: 502ms\n",
      "5:\tlearn: 0.8826185\ttotal: 28.8ms\tremaining: 452ms\n",
      "6:\tlearn: 0.8803612\ttotal: 30.7ms\tremaining: 408ms\n",
      "7:\tlearn: 0.8792325\ttotal: 36.2ms\tremaining: 416ms\n",
      "8:\tlearn: 0.8826185\ttotal: 42.1ms\tremaining: 425ms\n",
      "9:\tlearn: 0.8826185\ttotal: 48.8ms\tremaining: 439ms\n",
      "10:\tlearn: 0.8871332\ttotal: 54.3ms\tremaining: 439ms\n",
      "11:\tlearn: 0.8837472\ttotal: 60.1ms\tremaining: 441ms\n",
      "12:\tlearn: 0.8871332\ttotal: 65.8ms\tremaining: 441ms\n",
      "13:\tlearn: 0.8860045\ttotal: 68.2ms\tremaining: 419ms\n",
      "14:\tlearn: 0.8848758\ttotal: 74.2ms\tremaining: 421ms\n",
      "15:\tlearn: 0.8860045\ttotal: 80.3ms\tremaining: 422ms\n",
      "16:\tlearn: 0.8837472\ttotal: 86.3ms\tremaining: 421ms\n",
      "17:\tlearn: 0.8871332\ttotal: 92ms\tremaining: 419ms\n",
      "18:\tlearn: 0.8893905\ttotal: 98.3ms\tremaining: 419ms\n",
      "19:\tlearn: 0.8905192\ttotal: 104ms\tremaining: 418ms\n",
      "20:\tlearn: 0.8916479\ttotal: 110ms\tremaining: 414ms\n",
      "21:\tlearn: 0.8961625\ttotal: 116ms\tremaining: 410ms\n",
      "22:\tlearn: 0.8961625\ttotal: 122ms\tremaining: 410ms\n",
      "23:\tlearn: 0.9018059\ttotal: 128ms\tremaining: 406ms\n",
      "24:\tlearn: 0.9029345\ttotal: 134ms\tremaining: 402ms\n",
      "25:\tlearn: 0.9040632\ttotal: 140ms\tremaining: 397ms\n",
      "26:\tlearn: 0.9051919\ttotal: 145ms\tremaining: 392ms\n",
      "27:\tlearn: 0.9074492\ttotal: 151ms\tremaining: 388ms\n",
      "28:\tlearn: 0.9108352\ttotal: 157ms\tremaining: 384ms\n",
      "29:\tlearn: 0.9108352\ttotal: 163ms\tremaining: 381ms\n",
      "30:\tlearn: 0.9108352\ttotal: 169ms\tremaining: 377ms\n",
      "31:\tlearn: 0.9108352\ttotal: 175ms\tremaining: 372ms\n",
      "32:\tlearn: 0.9108352\ttotal: 181ms\tremaining: 367ms\n",
      "33:\tlearn: 0.9097065\ttotal: 187ms\tremaining: 363ms\n",
      "34:\tlearn: 0.9130926\ttotal: 192ms\tremaining: 356ms\n",
      "35:\tlearn: 0.9130926\ttotal: 199ms\tremaining: 354ms\n",
      "36:\tlearn: 0.9164786\ttotal: 205ms\tremaining: 349ms\n",
      "37:\tlearn: 0.9164786\ttotal: 211ms\tremaining: 344ms\n",
      "38:\tlearn: 0.9164786\ttotal: 217ms\tremaining: 339ms\n",
      "39:\tlearn: 0.9176072\ttotal: 223ms\tremaining: 334ms\n",
      "40:\tlearn: 0.9187359\ttotal: 228ms\tremaining: 329ms\n",
      "41:\tlearn: 0.9187359\ttotal: 235ms\tremaining: 325ms\n",
      "42:\tlearn: 0.9198646\ttotal: 241ms\tremaining: 320ms\n",
      "43:\tlearn: 0.9198646\ttotal: 247ms\tremaining: 314ms\n",
      "44:\tlearn: 0.9209932\ttotal: 251ms\tremaining: 306ms\n",
      "45:\tlearn: 0.9232506\ttotal: 254ms\tremaining: 299ms\n",
      "46:\tlearn: 0.9232506\ttotal: 257ms\tremaining: 290ms\n",
      "47:\tlearn: 0.9232506\ttotal: 261ms\tremaining: 283ms\n",
      "48:\tlearn: 0.9232506\ttotal: 264ms\tremaining: 275ms\n",
      "49:\tlearn: 0.9243792\ttotal: 266ms\tremaining: 266ms\n",
      "50:\tlearn: 0.9243792\ttotal: 268ms\tremaining: 257ms\n",
      "51:\tlearn: 0.9243792\ttotal: 270ms\tremaining: 249ms\n",
      "52:\tlearn: 0.9243792\ttotal: 272ms\tremaining: 241ms\n",
      "53:\tlearn: 0.9243792\ttotal: 274ms\tremaining: 234ms\n",
      "54:\tlearn: 0.9243792\ttotal: 276ms\tremaining: 226ms\n",
      "55:\tlearn: 0.9255079\ttotal: 278ms\tremaining: 218ms\n",
      "56:\tlearn: 0.9232506\ttotal: 280ms\tremaining: 211ms\n",
      "57:\tlearn: 0.9232506\ttotal: 282ms\tremaining: 204ms\n",
      "58:\tlearn: 0.9209932\ttotal: 283ms\tremaining: 197ms\n",
      "59:\tlearn: 0.9243792\ttotal: 285ms\tremaining: 190ms\n",
      "60:\tlearn: 0.9255079\ttotal: 286ms\tremaining: 183ms\n",
      "61:\tlearn: 0.9255079\ttotal: 287ms\tremaining: 176ms\n",
      "62:\tlearn: 0.9266366\ttotal: 288ms\tremaining: 169ms\n",
      "63:\tlearn: 0.9266366\ttotal: 289ms\tremaining: 163ms\n",
      "64:\tlearn: 0.9277652\ttotal: 291ms\tremaining: 157ms\n",
      "65:\tlearn: 0.9277652\ttotal: 292ms\tremaining: 151ms\n",
      "66:\tlearn: 0.9277652\ttotal: 294ms\tremaining: 145ms\n",
      "67:\tlearn: 0.9288939\ttotal: 295ms\tremaining: 139ms\n",
      "68:\tlearn: 0.9277652\ttotal: 296ms\tremaining: 133ms\n",
      "69:\tlearn: 0.9300226\ttotal: 298ms\tremaining: 128ms\n",
      "70:\tlearn: 0.9300226\ttotal: 299ms\tremaining: 122ms\n",
      "71:\tlearn: 0.9311512\ttotal: 300ms\tremaining: 117ms\n",
      "72:\tlearn: 0.9300226\ttotal: 301ms\tremaining: 111ms\n",
      "73:\tlearn: 0.9311512\ttotal: 302ms\tremaining: 106ms\n",
      "74:\tlearn: 0.9322799\ttotal: 303ms\tremaining: 101ms\n",
      "75:\tlearn: 0.9311512\ttotal: 304ms\tremaining: 96.1ms\n",
      "76:\tlearn: 0.9311512\ttotal: 305ms\tremaining: 91.2ms\n",
      "77:\tlearn: 0.9311512\ttotal: 306ms\tremaining: 86.4ms\n",
      "78:\tlearn: 0.9311512\ttotal: 308ms\tremaining: 81.8ms\n",
      "79:\tlearn: 0.9311512\ttotal: 309ms\tremaining: 77.2ms\n",
      "80:\tlearn: 0.9311512\ttotal: 310ms\tremaining: 72.6ms\n",
      "81:\tlearn: 0.9311512\ttotal: 311ms\tremaining: 68.2ms\n",
      "82:\tlearn: 0.9311512\ttotal: 312ms\tremaining: 63.9ms\n",
      "83:\tlearn: 0.9311512\ttotal: 313ms\tremaining: 59.6ms\n",
      "84:\tlearn: 0.9322799\ttotal: 314ms\tremaining: 55.4ms\n",
      "85:\tlearn: 0.9334086\ttotal: 315ms\tremaining: 51.3ms\n",
      "86:\tlearn: 0.9334086\ttotal: 316ms\tremaining: 47.2ms\n",
      "87:\tlearn: 0.9334086\ttotal: 317ms\tremaining: 43.3ms\n",
      "88:\tlearn: 0.9345372\ttotal: 318ms\tremaining: 39.3ms\n",
      "89:\tlearn: 0.9334086\ttotal: 319ms\tremaining: 35.5ms\n",
      "90:\tlearn: 0.9334086\ttotal: 320ms\tremaining: 31.6ms\n",
      "91:\tlearn: 0.9334086\ttotal: 321ms\tremaining: 27.9ms\n",
      "92:\tlearn: 0.9334086\ttotal: 321ms\tremaining: 24.2ms\n",
      "93:\tlearn: 0.9322799\ttotal: 322ms\tremaining: 20.6ms\n",
      "94:\tlearn: 0.9334086\ttotal: 323ms\tremaining: 17ms\n",
      "95:\tlearn: 0.9334086\ttotal: 324ms\tremaining: 13.5ms\n",
      "96:\tlearn: 0.9334086\ttotal: 325ms\tremaining: 10.1ms\n",
      "97:\tlearn: 0.9345372\ttotal: 326ms\tremaining: 6.66ms\n",
      "98:\tlearn: 0.9345372\ttotal: 328ms\tremaining: 3.31ms\n",
      "99:\tlearn: 0.9345372\ttotal: 328ms\tremaining: 0us\n"
     ]
    },
    {
     "name": "stdout",
     "output_type": "stream",
     "text": [
      "0:\tlearn: 0.8690745\ttotal: 4.01ms\tremaining: 397ms\n",
      "1:\tlearn: 0.8803612\ttotal: 7.47ms\tremaining: 366ms\n",
      "2:\tlearn: 0.8927765\ttotal: 11.1ms\tremaining: 358ms\n",
      "3:\tlearn: 0.8916479\ttotal: 13.4ms\tremaining: 321ms\n",
      "4:\tlearn: 0.8724605\ttotal: 14.1ms\tremaining: 268ms\n",
      "5:\tlearn: 0.8803612\ttotal: 15ms\tremaining: 235ms\n",
      "6:\tlearn: 0.8758465\ttotal: 15.7ms\tremaining: 208ms\n",
      "7:\tlearn: 0.8814898\ttotal: 18.7ms\tremaining: 215ms\n",
      "8:\tlearn: 0.8814898\ttotal: 21.1ms\tremaining: 214ms\n",
      "9:\tlearn: 0.8837472\ttotal: 23.6ms\tremaining: 213ms\n",
      "10:\tlearn: 0.8826185\ttotal: 25.8ms\tremaining: 209ms\n",
      "11:\tlearn: 0.8860045\ttotal: 28ms\tremaining: 205ms\n",
      "12:\tlearn: 0.8848758\ttotal: 30.2ms\tremaining: 202ms\n",
      "13:\tlearn: 0.8814898\ttotal: 33.1ms\tremaining: 203ms\n",
      "14:\tlearn: 0.8837472\ttotal: 35.5ms\tremaining: 201ms\n",
      "15:\tlearn: 0.8848758\ttotal: 37.4ms\tremaining: 196ms\n",
      "16:\tlearn: 0.8848758\ttotal: 38.1ms\tremaining: 186ms\n",
      "17:\tlearn: 0.8826185\ttotal: 39.9ms\tremaining: 182ms\n",
      "18:\tlearn: 0.8871332\ttotal: 41.9ms\tremaining: 179ms\n",
      "19:\tlearn: 0.8916479\ttotal: 43.2ms\tremaining: 173ms\n",
      "20:\tlearn: 0.8927765\ttotal: 45ms\tremaining: 169ms\n",
      "21:\tlearn: 0.8939052\ttotal: 47.2ms\tremaining: 167ms\n",
      "22:\tlearn: 0.8961625\ttotal: 49.1ms\tremaining: 164ms\n",
      "23:\tlearn: 0.8984199\ttotal: 52.1ms\tremaining: 165ms\n",
      "24:\tlearn: 0.8995485\ttotal: 54.2ms\tremaining: 163ms\n",
      "25:\tlearn: 0.9040632\ttotal: 55.9ms\tremaining: 159ms\n",
      "26:\tlearn: 0.9040632\ttotal: 57.6ms\tremaining: 156ms\n",
      "27:\tlearn: 0.9063205\ttotal: 59.1ms\tremaining: 152ms\n",
      "28:\tlearn: 0.9051919\ttotal: 60.7ms\tremaining: 149ms\n",
      "29:\tlearn: 0.9051919\ttotal: 62.1ms\tremaining: 145ms\n",
      "30:\tlearn: 0.9074492\ttotal: 63.8ms\tremaining: 142ms\n",
      "31:\tlearn: 0.9074492\ttotal: 65.3ms\tremaining: 139ms\n",
      "32:\tlearn: 0.9108352\ttotal: 67ms\tremaining: 136ms\n",
      "33:\tlearn: 0.9097065\ttotal: 69ms\tremaining: 134ms\n",
      "34:\tlearn: 0.9097065\ttotal: 70.8ms\tremaining: 132ms\n",
      "35:\tlearn: 0.9142212\ttotal: 72.6ms\tremaining: 129ms\n",
      "36:\tlearn: 0.9142212\ttotal: 74.2ms\tremaining: 126ms\n",
      "37:\tlearn: 0.9164786\ttotal: 75.7ms\tremaining: 123ms\n",
      "38:\tlearn: 0.9176072\ttotal: 77.1ms\tremaining: 121ms\n",
      "39:\tlearn: 0.9187359\ttotal: 78.6ms\tremaining: 118ms\n",
      "40:\tlearn: 0.9176072\ttotal: 83ms\tremaining: 120ms\n",
      "41:\tlearn: 0.9187359\ttotal: 85ms\tremaining: 117ms\n",
      "42:\tlearn: 0.9209932\ttotal: 86.5ms\tremaining: 115ms\n",
      "43:\tlearn: 0.9221219\ttotal: 88.2ms\tremaining: 112ms\n",
      "44:\tlearn: 0.9232506\ttotal: 89.7ms\tremaining: 110ms\n",
      "45:\tlearn: 0.9243792\ttotal: 91.2ms\tremaining: 107ms\n",
      "46:\tlearn: 0.9266366\ttotal: 92.5ms\tremaining: 104ms\n",
      "47:\tlearn: 0.9255079\ttotal: 94ms\tremaining: 102ms\n",
      "48:\tlearn: 0.9255079\ttotal: 95.6ms\tremaining: 99.5ms\n",
      "49:\tlearn: 0.9277652\ttotal: 97.4ms\tremaining: 97.4ms\n",
      "50:\tlearn: 0.9266366\ttotal: 99ms\tremaining: 95.1ms\n",
      "51:\tlearn: 0.9277652\ttotal: 101ms\tremaining: 93.1ms\n",
      "52:\tlearn: 0.9266366\ttotal: 103ms\tremaining: 90.9ms\n",
      "53:\tlearn: 0.9266366\ttotal: 104ms\tremaining: 88.9ms\n",
      "54:\tlearn: 0.9266366\ttotal: 106ms\tremaining: 86.7ms\n",
      "55:\tlearn: 0.9266366\ttotal: 107ms\tremaining: 84.4ms\n",
      "56:\tlearn: 0.9277652\ttotal: 109ms\tremaining: 82.2ms\n",
      "57:\tlearn: 0.9288939\ttotal: 111ms\tremaining: 80.3ms\n",
      "58:\tlearn: 0.9277652\ttotal: 114ms\tremaining: 79.2ms\n",
      "59:\tlearn: 0.9311512\ttotal: 116ms\tremaining: 77.2ms\n",
      "60:\tlearn: 0.9300226\ttotal: 118ms\tremaining: 75.2ms\n",
      "61:\tlearn: 0.9322799\ttotal: 119ms\tremaining: 73.1ms\n",
      "62:\tlearn: 0.9322799\ttotal: 121ms\tremaining: 71ms\n",
      "63:\tlearn: 0.9322799\ttotal: 121ms\tremaining: 68.3ms\n",
      "64:\tlearn: 0.9322799\ttotal: 123ms\tremaining: 66.1ms\n",
      "65:\tlearn: 0.9322799\ttotal: 124ms\tremaining: 64ms\n",
      "66:\tlearn: 0.9334086\ttotal: 126ms\tremaining: 62ms\n",
      "67:\tlearn: 0.9345372\ttotal: 128ms\tremaining: 60ms\n",
      "68:\tlearn: 0.9334086\ttotal: 128ms\tremaining: 57.6ms\n",
      "69:\tlearn: 0.9334086\ttotal: 130ms\tremaining: 55.7ms\n",
      "70:\tlearn: 0.9334086\ttotal: 132ms\tremaining: 53.9ms\n",
      "71:\tlearn: 0.9356659\ttotal: 133ms\tremaining: 51.9ms\n",
      "72:\tlearn: 0.9356659\ttotal: 135ms\tremaining: 50ms\n",
      "73:\tlearn: 0.9356659\ttotal: 136ms\tremaining: 48ms\n",
      "74:\tlearn: 0.9356659\ttotal: 138ms\tremaining: 46ms\n",
      "75:\tlearn: 0.9367946\ttotal: 139ms\tremaining: 44ms\n",
      "76:\tlearn: 0.9356659\ttotal: 141ms\tremaining: 42ms\n",
      "77:\tlearn: 0.9356659\ttotal: 142ms\tremaining: 40.2ms\n",
      "78:\tlearn: 0.9356659\ttotal: 145ms\tremaining: 38.6ms\n",
      "79:\tlearn: 0.9356659\ttotal: 147ms\tremaining: 36.8ms\n",
      "80:\tlearn: 0.9356659\ttotal: 149ms\tremaining: 34.9ms\n",
      "81:\tlearn: 0.9356659\ttotal: 151ms\tremaining: 33.1ms\n",
      "82:\tlearn: 0.9367946\ttotal: 152ms\tremaining: 31.2ms\n",
      "83:\tlearn: 0.9356659\ttotal: 154ms\tremaining: 29.3ms\n",
      "84:\tlearn: 0.9356659\ttotal: 154ms\tremaining: 27.2ms\n",
      "85:\tlearn: 0.9356659\ttotal: 156ms\tremaining: 25.4ms\n",
      "86:\tlearn: 0.9356659\ttotal: 158ms\tremaining: 23.6ms\n",
      "87:\tlearn: 0.9367946\ttotal: 160ms\tremaining: 21.8ms\n",
      "88:\tlearn: 0.9367946\ttotal: 161ms\tremaining: 19.9ms\n",
      "89:\tlearn: 0.9367946\ttotal: 163ms\tremaining: 18.1ms\n",
      "90:\tlearn: 0.9367946\ttotal: 165ms\tremaining: 16.3ms\n",
      "91:\tlearn: 0.9367946\ttotal: 166ms\tremaining: 14.4ms\n",
      "92:\tlearn: 0.9367946\ttotal: 168ms\tremaining: 12.6ms\n",
      "93:\tlearn: 0.9367946\ttotal: 169ms\tremaining: 10.8ms\n",
      "94:\tlearn: 0.9367946\ttotal: 170ms\tremaining: 8.96ms\n",
      "95:\tlearn: 0.9367946\ttotal: 172ms\tremaining: 7.15ms\n",
      "96:\tlearn: 0.9379233\ttotal: 173ms\tremaining: 5.35ms\n",
      "97:\tlearn: 0.9379233\ttotal: 175ms\tremaining: 3.56ms\n",
      "98:\tlearn: 0.9379233\ttotal: 176ms\tremaining: 1.78ms\n",
      "99:\tlearn: 0.9379233\ttotal: 177ms\tremaining: 0us\n",
      "0:\tlearn: 0.8724605\ttotal: 6.05ms\tremaining: 599ms\n",
      "1:\tlearn: 0.8792325\ttotal: 12.3ms\tremaining: 605ms\n",
      "2:\tlearn: 0.8893905\ttotal: 18.8ms\tremaining: 607ms\n",
      "3:\tlearn: 0.8871332\ttotal: 22.7ms\tremaining: 546ms\n",
      "4:\tlearn: 0.8690745\ttotal: 23.9ms\tremaining: 454ms\n",
      "5:\tlearn: 0.8826185\ttotal: 26.9ms\tremaining: 421ms\n",
      "6:\tlearn: 0.8871332\ttotal: 29.9ms\tremaining: 398ms\n",
      "7:\tlearn: 0.8860045\ttotal: 32.6ms\tremaining: 375ms\n",
      "8:\tlearn: 0.8939052\ttotal: 34.9ms\tremaining: 352ms\n",
      "9:\tlearn: 0.8984199\ttotal: 36.8ms\tremaining: 331ms\n",
      "10:\tlearn: 0.8984199\ttotal: 38.7ms\tremaining: 314ms\n",
      "11:\tlearn: 0.8995485\ttotal: 40.6ms\tremaining: 297ms\n",
      "12:\tlearn: 0.8984199\ttotal: 42.1ms\tremaining: 282ms\n",
      "13:\tlearn: 0.8939052\ttotal: 43.5ms\tremaining: 267ms\n",
      "14:\tlearn: 0.8950339\ttotal: 45ms\tremaining: 255ms\n",
      "15:\tlearn: 0.8984199\ttotal: 47.1ms\tremaining: 247ms\n",
      "16:\tlearn: 0.8995485\ttotal: 48.7ms\tremaining: 238ms\n",
      "17:\tlearn: 0.9018059\ttotal: 50.5ms\tremaining: 230ms\n",
      "18:\tlearn: 0.8939052\ttotal: 51.1ms\tremaining: 218ms\n",
      "19:\tlearn: 0.8950339\ttotal: 53ms\tremaining: 212ms\n",
      "20:\tlearn: 0.8984199\ttotal: 54.6ms\tremaining: 205ms\n",
      "21:\tlearn: 0.8995485\ttotal: 56.1ms\tremaining: 199ms\n",
      "22:\tlearn: 0.9006772\ttotal: 57.5ms\tremaining: 193ms\n",
      "23:\tlearn: 0.9051919\ttotal: 58.8ms\tremaining: 186ms\n",
      "24:\tlearn: 0.9074492\ttotal: 60.5ms\tremaining: 182ms\n",
      "25:\tlearn: 0.9142212\ttotal: 62.1ms\tremaining: 177ms\n",
      "26:\tlearn: 0.9051919\ttotal: 63.8ms\tremaining: 172ms\n",
      "27:\tlearn: 0.9074492\ttotal: 65.5ms\tremaining: 168ms\n",
      "28:\tlearn: 0.9085779\ttotal: 67.3ms\tremaining: 165ms\n",
      "29:\tlearn: 0.9108352\ttotal: 68.9ms\tremaining: 161ms\n",
      "30:\tlearn: 0.9153499\ttotal: 70.5ms\tremaining: 157ms\n",
      "31:\tlearn: 0.9164786\ttotal: 71.9ms\tremaining: 153ms\n",
      "32:\tlearn: 0.9187359\ttotal: 73.3ms\tremaining: 149ms\n",
      "33:\tlearn: 0.9198646\ttotal: 74.7ms\tremaining: 145ms\n",
      "34:\tlearn: 0.9209932\ttotal: 76.7ms\tremaining: 143ms\n",
      "35:\tlearn: 0.9198646\ttotal: 78.3ms\tremaining: 139ms\n",
      "36:\tlearn: 0.9221219\ttotal: 79.9ms\tremaining: 136ms\n",
      "37:\tlearn: 0.9232506\ttotal: 82.2ms\tremaining: 134ms\n",
      "38:\tlearn: 0.9232506\ttotal: 83.9ms\tremaining: 131ms\n",
      "39:\tlearn: 0.9243792\ttotal: 85.9ms\tremaining: 129ms\n",
      "40:\tlearn: 0.9243792\ttotal: 87.3ms\tremaining: 126ms\n",
      "41:\tlearn: 0.9243792\ttotal: 88.7ms\tremaining: 123ms\n",
      "42:\tlearn: 0.9243792\ttotal: 90ms\tremaining: 119ms\n",
      "43:\tlearn: 0.9255079\ttotal: 91.4ms\tremaining: 116ms\n",
      "44:\tlearn: 0.9266366\ttotal: 93ms\tremaining: 114ms\n",
      "45:\tlearn: 0.9255079\ttotal: 94.6ms\tremaining: 111ms\n",
      "46:\tlearn: 0.9255079\ttotal: 96.1ms\tremaining: 108ms\n",
      "47:\tlearn: 0.9255079\ttotal: 98ms\tremaining: 106ms\n",
      "48:\tlearn: 0.9255079\ttotal: 99.6ms\tremaining: 104ms\n",
      "49:\tlearn: 0.9255079\ttotal: 101ms\tremaining: 101ms\n",
      "50:\tlearn: 0.9255079\ttotal: 103ms\tremaining: 98.8ms\n",
      "51:\tlearn: 0.9255079\ttotal: 104ms\tremaining: 96.1ms\n",
      "52:\tlearn: 0.9277652\ttotal: 106ms\tremaining: 93.6ms\n",
      "53:\tlearn: 0.9266366\ttotal: 107ms\tremaining: 91.4ms\n",
      "54:\tlearn: 0.9277652\ttotal: 109ms\tremaining: 89.4ms\n",
      "55:\tlearn: 0.9266366\ttotal: 111ms\tremaining: 87.2ms\n",
      "56:\tlearn: 0.9266366\ttotal: 113ms\tremaining: 85ms\n",
      "57:\tlearn: 0.9266366\ttotal: 114ms\tremaining: 82.9ms\n",
      "58:\tlearn: 0.9266366\ttotal: 116ms\tremaining: 80.7ms\n",
      "59:\tlearn: 0.9277652\ttotal: 118ms\tremaining: 78.4ms\n",
      "60:\tlearn: 0.9288939\ttotal: 119ms\tremaining: 76.1ms\n",
      "61:\tlearn: 0.9300226\ttotal: 120ms\tremaining: 73.8ms\n",
      "62:\tlearn: 0.9288939\ttotal: 121ms\tremaining: 71ms\n",
      "63:\tlearn: 0.9300226\ttotal: 122ms\tremaining: 68.9ms\n",
      "64:\tlearn: 0.9311512\ttotal: 124ms\tremaining: 66.7ms\n",
      "65:\tlearn: 0.9300226\ttotal: 126ms\tremaining: 64.7ms\n",
      "66:\tlearn: 0.9311512\ttotal: 127ms\tremaining: 62.7ms\n",
      "67:\tlearn: 0.9322799\ttotal: 129ms\tremaining: 60.7ms\n",
      "68:\tlearn: 0.9311512\ttotal: 131ms\tremaining: 58.8ms\n",
      "69:\tlearn: 0.9322799\ttotal: 133ms\tremaining: 57.2ms\n",
      "70:\tlearn: 0.9311512\ttotal: 135ms\tremaining: 55.1ms\n",
      "71:\tlearn: 0.9300226\ttotal: 136ms\tremaining: 53ms\n",
      "72:\tlearn: 0.9300226\ttotal: 138ms\tremaining: 51.1ms\n",
      "73:\tlearn: 0.9311512\ttotal: 140ms\tremaining: 49.2ms\n",
      "74:\tlearn: 0.9311512\ttotal: 142ms\tremaining: 47.2ms\n",
      "75:\tlearn: 0.9334086\ttotal: 143ms\tremaining: 45.3ms\n",
      "76:\tlearn: 0.9345372\ttotal: 145ms\tremaining: 43.4ms\n",
      "77:\tlearn: 0.9322799\ttotal: 147ms\tremaining: 41.5ms\n",
      "78:\tlearn: 0.9322799\ttotal: 149ms\tremaining: 39.5ms\n",
      "79:\tlearn: 0.9322799\ttotal: 150ms\tremaining: 37.6ms\n",
      "80:\tlearn: 0.9322799\ttotal: 152ms\tremaining: 35.6ms\n",
      "81:\tlearn: 0.9334086\ttotal: 154ms\tremaining: 33.7ms\n",
      "82:\tlearn: 0.9334086\ttotal: 155ms\tremaining: 31.8ms\n",
      "83:\tlearn: 0.9334086\ttotal: 156ms\tremaining: 29.6ms\n",
      "84:\tlearn: 0.9334086\ttotal: 157ms\tremaining: 27.8ms\n",
      "85:\tlearn: 0.9356659\ttotal: 159ms\tremaining: 25.9ms\n",
      "86:\tlearn: 0.9356659\ttotal: 161ms\tremaining: 24ms\n",
      "87:\tlearn: 0.9367946\ttotal: 162ms\tremaining: 22.1ms\n",
      "88:\tlearn: 0.9367946\ttotal: 164ms\tremaining: 20.3ms\n",
      "89:\tlearn: 0.9356659\ttotal: 165ms\tremaining: 18.3ms\n",
      "90:\tlearn: 0.9356659\ttotal: 165ms\tremaining: 16.4ms\n",
      "91:\tlearn: 0.9356659\ttotal: 166ms\tremaining: 14.4ms\n",
      "92:\tlearn: 0.9356659\ttotal: 167ms\tremaining: 12.6ms\n",
      "93:\tlearn: 0.9356659\ttotal: 169ms\tremaining: 10.8ms\n",
      "94:\tlearn: 0.9379233\ttotal: 171ms\tremaining: 8.98ms\n",
      "95:\tlearn: 0.9379233\ttotal: 172ms\tremaining: 7.15ms\n",
      "96:\tlearn: 0.9379233\ttotal: 173ms\tremaining: 5.36ms\n",
      "97:\tlearn: 0.9379233\ttotal: 174ms\tremaining: 3.55ms\n",
      "98:\tlearn: 0.9379233\ttotal: 176ms\tremaining: 1.77ms\n",
      "99:\tlearn: 0.9379233\ttotal: 177ms\tremaining: 0us\n"
     ]
    },
    {
     "name": "stdout",
     "output_type": "stream",
     "text": [
      "0:\tlearn: 0.8826185\ttotal: 5.75ms\tremaining: 569ms\n",
      "1:\tlearn: 0.8871332\ttotal: 11.5ms\tremaining: 563ms\n",
      "2:\tlearn: 0.8882619\ttotal: 17.2ms\tremaining: 557ms\n",
      "3:\tlearn: 0.8950339\ttotal: 22.9ms\tremaining: 550ms\n",
      "4:\tlearn: 0.8893905\ttotal: 24.9ms\tremaining: 474ms\n",
      "5:\tlearn: 0.8848758\ttotal: 27.2ms\tremaining: 426ms\n",
      "6:\tlearn: 0.8803612\ttotal: 29.1ms\tremaining: 387ms\n",
      "7:\tlearn: 0.8882619\ttotal: 34.2ms\tremaining: 393ms\n",
      "8:\tlearn: 0.8826185\ttotal: 37.6ms\tremaining: 380ms\n",
      "9:\tlearn: 0.8781038\ttotal: 38.2ms\tremaining: 344ms\n",
      "10:\tlearn: 0.8814898\ttotal: 41ms\tremaining: 331ms\n",
      "11:\tlearn: 0.8837472\ttotal: 43.3ms\tremaining: 317ms\n",
      "12:\tlearn: 0.8860045\ttotal: 45.5ms\tremaining: 304ms\n",
      "13:\tlearn: 0.8905192\ttotal: 47.5ms\tremaining: 292ms\n",
      "14:\tlearn: 0.8972912\ttotal: 49.2ms\tremaining: 279ms\n",
      "15:\tlearn: 0.8972912\ttotal: 50.9ms\tremaining: 267ms\n",
      "16:\tlearn: 0.8972912\ttotal: 52.5ms\tremaining: 256ms\n",
      "17:\tlearn: 0.8995485\ttotal: 54.1ms\tremaining: 246ms\n",
      "18:\tlearn: 0.9029345\ttotal: 55.6ms\tremaining: 237ms\n",
      "19:\tlearn: 0.9029345\ttotal: 56.6ms\tremaining: 227ms\n",
      "20:\tlearn: 0.9040632\ttotal: 58ms\tremaining: 218ms\n",
      "21:\tlearn: 0.9051919\ttotal: 59.5ms\tremaining: 211ms\n",
      "22:\tlearn: 0.9051919\ttotal: 60.6ms\tremaining: 203ms\n",
      "23:\tlearn: 0.9074492\ttotal: 61.9ms\tremaining: 196ms\n",
      "24:\tlearn: 0.9063205\ttotal: 63ms\tremaining: 189ms\n",
      "25:\tlearn: 0.9085779\ttotal: 64.3ms\tremaining: 183ms\n",
      "26:\tlearn: 0.9051919\ttotal: 64.7ms\tremaining: 175ms\n",
      "27:\tlearn: 0.9063205\ttotal: 65.9ms\tremaining: 170ms\n",
      "28:\tlearn: 0.9085779\ttotal: 67.1ms\tremaining: 164ms\n",
      "29:\tlearn: 0.9074492\ttotal: 68.3ms\tremaining: 159ms\n",
      "30:\tlearn: 0.9063205\ttotal: 69.4ms\tremaining: 154ms\n",
      "31:\tlearn: 0.9108352\ttotal: 70.4ms\tremaining: 150ms\n",
      "32:\tlearn: 0.9108352\ttotal: 71.5ms\tremaining: 145ms\n",
      "33:\tlearn: 0.9153499\ttotal: 72.6ms\tremaining: 141ms\n",
      "34:\tlearn: 0.9176072\ttotal: 73.9ms\tremaining: 137ms\n",
      "35:\tlearn: 0.9164786\ttotal: 75.1ms\tremaining: 134ms\n",
      "36:\tlearn: 0.9187359\ttotal: 76.4ms\tremaining: 130ms\n",
      "37:\tlearn: 0.9198646\ttotal: 77.5ms\tremaining: 126ms\n",
      "38:\tlearn: 0.9221219\ttotal: 78.6ms\tremaining: 123ms\n",
      "39:\tlearn: 0.9198646\ttotal: 79.7ms\tremaining: 120ms\n",
      "40:\tlearn: 0.9221219\ttotal: 80.8ms\tremaining: 116ms\n",
      "41:\tlearn: 0.9221219\ttotal: 81.9ms\tremaining: 113ms\n",
      "42:\tlearn: 0.9221219\ttotal: 83ms\tremaining: 110ms\n",
      "43:\tlearn: 0.9232506\ttotal: 84ms\tremaining: 107ms\n",
      "44:\tlearn: 0.9221219\ttotal: 84.6ms\tremaining: 103ms\n",
      "45:\tlearn: 0.9221219\ttotal: 85.6ms\tremaining: 101ms\n",
      "46:\tlearn: 0.9221219\ttotal: 86.7ms\tremaining: 97.8ms\n",
      "47:\tlearn: 0.9221219\ttotal: 87.8ms\tremaining: 95.1ms\n",
      "48:\tlearn: 0.9232506\ttotal: 88.9ms\tremaining: 92.5ms\n",
      "49:\tlearn: 0.9232506\ttotal: 90ms\tremaining: 90ms\n",
      "50:\tlearn: 0.9232506\ttotal: 91.1ms\tremaining: 87.6ms\n",
      "51:\tlearn: 0.9255079\ttotal: 92.3ms\tremaining: 85.2ms\n",
      "52:\tlearn: 0.9232506\ttotal: 93.3ms\tremaining: 82.8ms\n",
      "53:\tlearn: 0.9243792\ttotal: 94.4ms\tremaining: 80.4ms\n",
      "54:\tlearn: 0.9255079\ttotal: 95.5ms\tremaining: 78.1ms\n",
      "55:\tlearn: 0.9255079\ttotal: 96.6ms\tremaining: 75.9ms\n",
      "56:\tlearn: 0.9255079\ttotal: 97.6ms\tremaining: 73.7ms\n",
      "57:\tlearn: 0.9255079\ttotal: 98.8ms\tremaining: 71.5ms\n",
      "58:\tlearn: 0.9243792\ttotal: 99.9ms\tremaining: 69.4ms\n",
      "59:\tlearn: 0.9255079\ttotal: 101ms\tremaining: 67.3ms\n",
      "60:\tlearn: 0.9266366\ttotal: 102ms\tremaining: 65.3ms\n",
      "61:\tlearn: 0.9255079\ttotal: 103ms\tremaining: 63.2ms\n",
      "62:\tlearn: 0.9277652\ttotal: 104ms\tremaining: 61.2ms\n",
      "63:\tlearn: 0.9300226\ttotal: 105ms\tremaining: 59.2ms\n",
      "64:\tlearn: 0.9322799\ttotal: 107ms\tremaining: 57.4ms\n",
      "65:\tlearn: 0.9345372\ttotal: 108ms\tremaining: 55.6ms\n",
      "66:\tlearn: 0.9334086\ttotal: 109ms\tremaining: 53.7ms\n",
      "67:\tlearn: 0.9334086\ttotal: 110ms\tremaining: 51.9ms\n",
      "68:\tlearn: 0.9356659\ttotal: 111ms\tremaining: 50ms\n",
      "69:\tlearn: 0.9356659\ttotal: 113ms\tremaining: 48.3ms\n",
      "70:\tlearn: 0.9356659\ttotal: 114ms\tremaining: 46.5ms\n",
      "71:\tlearn: 0.9367946\ttotal: 115ms\tremaining: 44.7ms\n",
      "72:\tlearn: 0.9367946\ttotal: 116ms\tremaining: 42.9ms\n",
      "73:\tlearn: 0.9367946\ttotal: 117ms\tremaining: 41.2ms\n",
      "74:\tlearn: 0.9379233\ttotal: 118ms\tremaining: 39.4ms\n",
      "75:\tlearn: 0.9367946\ttotal: 119ms\tremaining: 37.7ms\n",
      "76:\tlearn: 0.9367946\ttotal: 120ms\tremaining: 36ms\n",
      "77:\tlearn: 0.9367946\ttotal: 122ms\tremaining: 34.3ms\n",
      "78:\tlearn: 0.9367946\ttotal: 123ms\tremaining: 32.6ms\n",
      "79:\tlearn: 0.9379233\ttotal: 124ms\tremaining: 31ms\n",
      "80:\tlearn: 0.9379233\ttotal: 125ms\tremaining: 29.3ms\n",
      "81:\tlearn: 0.9379233\ttotal: 126ms\tremaining: 27.7ms\n",
      "82:\tlearn: 0.9390519\ttotal: 127ms\tremaining: 26.1ms\n",
      "83:\tlearn: 0.9390519\ttotal: 128ms\tremaining: 24.5ms\n",
      "84:\tlearn: 0.9390519\ttotal: 130ms\tremaining: 22.9ms\n",
      "85:\tlearn: 0.9390519\ttotal: 131ms\tremaining: 21.3ms\n",
      "86:\tlearn: 0.9401806\ttotal: 132ms\tremaining: 19.7ms\n",
      "87:\tlearn: 0.9401806\ttotal: 133ms\tremaining: 18.1ms\n",
      "88:\tlearn: 0.9401806\ttotal: 134ms\tremaining: 16.5ms\n",
      "89:\tlearn: 0.9401806\ttotal: 135ms\tremaining: 15ms\n",
      "90:\tlearn: 0.9413093\ttotal: 136ms\tremaining: 13.5ms\n",
      "91:\tlearn: 0.9413093\ttotal: 138ms\tremaining: 12ms\n",
      "92:\tlearn: 0.9413093\ttotal: 138ms\tremaining: 10.4ms\n",
      "93:\tlearn: 0.9413093\ttotal: 140ms\tremaining: 8.9ms\n",
      "94:\tlearn: 0.9413093\ttotal: 141ms\tremaining: 7.4ms\n",
      "95:\tlearn: 0.9413093\ttotal: 142ms\tremaining: 5.9ms\n",
      "96:\tlearn: 0.9413093\ttotal: 143ms\tremaining: 4.42ms\n",
      "97:\tlearn: 0.9413093\ttotal: 144ms\tremaining: 2.94ms\n",
      "98:\tlearn: 0.9413093\ttotal: 145ms\tremaining: 1.46ms\n",
      "99:\tlearn: 0.9413093\ttotal: 146ms\tremaining: 0us\n",
      "0:\tlearn: 0.8724605\ttotal: 6.72ms\tremaining: 665ms\n",
      "1:\tlearn: 0.8803612\ttotal: 11.4ms\tremaining: 560ms\n",
      "2:\tlearn: 0.8916479\ttotal: 14.4ms\tremaining: 466ms\n",
      "3:\tlearn: 0.8905192\ttotal: 17ms\tremaining: 407ms\n",
      "4:\tlearn: 0.8792325\ttotal: 17.6ms\tremaining: 334ms\n",
      "5:\tlearn: 0.8893905\ttotal: 19.6ms\tremaining: 306ms\n",
      "6:\tlearn: 0.8950339\ttotal: 21.6ms\tremaining: 287ms\n",
      "7:\tlearn: 0.9063205\ttotal: 23.3ms\tremaining: 268ms\n",
      "8:\tlearn: 0.8995485\ttotal: 25ms\tremaining: 253ms\n",
      "9:\tlearn: 0.9029345\ttotal: 26.6ms\tremaining: 240ms\n",
      "10:\tlearn: 0.9051919\ttotal: 28.2ms\tremaining: 228ms\n",
      "11:\tlearn: 0.9040632\ttotal: 29.8ms\tremaining: 218ms\n",
      "12:\tlearn: 0.9051919\ttotal: 31.2ms\tremaining: 209ms\n",
      "13:\tlearn: 0.9085779\ttotal: 32.7ms\tremaining: 201ms\n",
      "14:\tlearn: 0.9097065\ttotal: 34.1ms\tremaining: 193ms\n",
      "15:\tlearn: 0.9018059\ttotal: 35.6ms\tremaining: 187ms\n",
      "16:\tlearn: 0.9063205\ttotal: 36.9ms\tremaining: 180ms\n",
      "17:\tlearn: 0.9085779\ttotal: 38.4ms\tremaining: 175ms\n",
      "18:\tlearn: 0.9051919\ttotal: 38.8ms\tremaining: 165ms\n",
      "19:\tlearn: 0.9040632\ttotal: 40.1ms\tremaining: 161ms\n",
      "20:\tlearn: 0.9097065\ttotal: 41.5ms\tremaining: 156ms\n",
      "21:\tlearn: 0.9074492\ttotal: 41.9ms\tremaining: 148ms\n",
      "22:\tlearn: 0.9063205\ttotal: 43.2ms\tremaining: 145ms\n",
      "23:\tlearn: 0.9074492\ttotal: 44.5ms\tremaining: 141ms\n",
      "24:\tlearn: 0.9074492\ttotal: 45.8ms\tremaining: 137ms\n",
      "25:\tlearn: 0.9074492\ttotal: 47.1ms\tremaining: 134ms\n",
      "26:\tlearn: 0.9074492\ttotal: 48.5ms\tremaining: 131ms\n",
      "27:\tlearn: 0.9119639\ttotal: 49.8ms\tremaining: 128ms\n",
      "28:\tlearn: 0.9119639\ttotal: 51ms\tremaining: 125ms\n",
      "29:\tlearn: 0.9153499\ttotal: 52.4ms\tremaining: 122ms\n",
      "30:\tlearn: 0.9164786\ttotal: 53.7ms\tremaining: 119ms\n",
      "31:\tlearn: 0.9176072\ttotal: 54.9ms\tremaining: 117ms\n",
      "32:\tlearn: 0.9187359\ttotal: 56ms\tremaining: 114ms\n",
      "33:\tlearn: 0.9209932\ttotal: 57.2ms\tremaining: 111ms\n",
      "34:\tlearn: 0.9209932\ttotal: 58.4ms\tremaining: 108ms\n",
      "35:\tlearn: 0.9221219\ttotal: 59.6ms\tremaining: 106ms\n",
      "36:\tlearn: 0.9243792\ttotal: 60.7ms\tremaining: 103ms\n",
      "37:\tlearn: 0.9221219\ttotal: 61.1ms\tremaining: 99.6ms\n",
      "38:\tlearn: 0.9209932\ttotal: 62.2ms\tremaining: 97.3ms\n",
      "39:\tlearn: 0.9221219\ttotal: 63.3ms\tremaining: 95ms\n",
      "40:\tlearn: 0.9221219\ttotal: 64.4ms\tremaining: 92.7ms\n",
      "41:\tlearn: 0.9232506\ttotal: 65.5ms\tremaining: 90.4ms\n",
      "42:\tlearn: 0.9221219\ttotal: 66.6ms\tremaining: 88.3ms\n",
      "43:\tlearn: 0.9232506\ttotal: 67.7ms\tremaining: 86.1ms\n",
      "44:\tlearn: 0.9243792\ttotal: 68.7ms\tremaining: 84ms\n",
      "45:\tlearn: 0.9266366\ttotal: 70.3ms\tremaining: 82.6ms\n",
      "46:\tlearn: 0.9277652\ttotal: 71.8ms\tremaining: 80.9ms\n",
      "47:\tlearn: 0.9277652\ttotal: 73.3ms\tremaining: 79.4ms\n",
      "48:\tlearn: 0.9277652\ttotal: 74.4ms\tremaining: 77.5ms\n",
      "49:\tlearn: 0.9288939\ttotal: 75.5ms\tremaining: 75.5ms\n",
      "50:\tlearn: 0.9288939\ttotal: 76.7ms\tremaining: 73.7ms\n",
      "51:\tlearn: 0.9288939\ttotal: 77.9ms\tremaining: 71.9ms\n",
      "52:\tlearn: 0.9300226\ttotal: 79.1ms\tremaining: 70.2ms\n",
      "53:\tlearn: 0.9300226\ttotal: 80.4ms\tremaining: 68.5ms\n",
      "54:\tlearn: 0.9300226\ttotal: 81.7ms\tremaining: 66.8ms\n",
      "55:\tlearn: 0.9311512\ttotal: 82.9ms\tremaining: 65.2ms\n",
      "56:\tlearn: 0.9322799\ttotal: 83.3ms\tremaining: 62.8ms\n",
      "57:\tlearn: 0.9322799\ttotal: 84.6ms\tremaining: 61.2ms\n",
      "58:\tlearn: 0.9322799\ttotal: 85.7ms\tremaining: 59.5ms\n",
      "59:\tlearn: 0.9322799\ttotal: 86.8ms\tremaining: 57.8ms\n",
      "60:\tlearn: 0.9311512\ttotal: 87.9ms\tremaining: 56.2ms\n",
      "61:\tlearn: 0.9311512\ttotal: 89.1ms\tremaining: 54.6ms\n",
      "62:\tlearn: 0.9322799\ttotal: 90.2ms\tremaining: 52.9ms\n",
      "63:\tlearn: 0.9311512\ttotal: 91.2ms\tremaining: 51.3ms\n",
      "64:\tlearn: 0.9311512\ttotal: 92.5ms\tremaining: 49.8ms\n",
      "65:\tlearn: 0.9345372\ttotal: 93.9ms\tremaining: 48.4ms\n",
      "66:\tlearn: 0.9334086\ttotal: 95.1ms\tremaining: 46.8ms\n",
      "67:\tlearn: 0.9334086\ttotal: 96.3ms\tremaining: 45.3ms\n",
      "68:\tlearn: 0.9334086\ttotal: 97.6ms\tremaining: 43.8ms\n",
      "69:\tlearn: 0.9345372\ttotal: 99ms\tremaining: 42.4ms\n",
      "70:\tlearn: 0.9356659\ttotal: 100ms\tremaining: 40.9ms\n",
      "71:\tlearn: 0.9356659\ttotal: 101ms\tremaining: 39.4ms\n",
      "72:\tlearn: 0.9356659\ttotal: 102ms\tremaining: 37.9ms\n",
      "73:\tlearn: 0.9367946\ttotal: 104ms\tremaining: 36.4ms\n",
      "74:\tlearn: 0.9367946\ttotal: 105ms\tremaining: 34.8ms\n",
      "75:\tlearn: 0.9367946\ttotal: 106ms\tremaining: 33.3ms\n",
      "76:\tlearn: 0.9367946\ttotal: 107ms\tremaining: 31.9ms\n",
      "77:\tlearn: 0.9379233\ttotal: 108ms\tremaining: 30.5ms\n",
      "78:\tlearn: 0.9379233\ttotal: 109ms\tremaining: 29ms\n",
      "79:\tlearn: 0.9379233\ttotal: 110ms\tremaining: 27.6ms\n",
      "80:\tlearn: 0.9379233\ttotal: 111ms\tremaining: 26.1ms\n",
      "81:\tlearn: 0.9379233\ttotal: 113ms\tremaining: 24.7ms\n",
      "82:\tlearn: 0.9379233\ttotal: 114ms\tremaining: 23.3ms\n",
      "83:\tlearn: 0.9390519\ttotal: 115ms\tremaining: 21.8ms\n",
      "84:\tlearn: 0.9390519\ttotal: 115ms\tremaining: 20.3ms\n",
      "85:\tlearn: 0.9379233\ttotal: 116ms\tremaining: 18.9ms\n",
      "86:\tlearn: 0.9379233\ttotal: 117ms\tremaining: 17.5ms\n",
      "87:\tlearn: 0.9379233\ttotal: 118ms\tremaining: 16.1ms\n",
      "88:\tlearn: 0.9379233\ttotal: 119ms\tremaining: 14.8ms\n",
      "89:\tlearn: 0.9413093\ttotal: 121ms\tremaining: 13.4ms\n",
      "90:\tlearn: 0.9424379\ttotal: 122ms\tremaining: 12ms\n",
      "91:\tlearn: 0.9424379\ttotal: 123ms\tremaining: 10.7ms\n",
      "92:\tlearn: 0.9424379\ttotal: 124ms\tremaining: 9.31ms\n",
      "93:\tlearn: 0.9424379\ttotal: 125ms\tremaining: 7.96ms\n",
      "94:\tlearn: 0.9413093\ttotal: 126ms\tremaining: 6.61ms\n",
      "95:\tlearn: 0.9424379\ttotal: 127ms\tremaining: 5.28ms\n",
      "96:\tlearn: 0.9424379\ttotal: 128ms\tremaining: 3.95ms\n",
      "97:\tlearn: 0.9424379\ttotal: 129ms\tremaining: 2.63ms\n",
      "98:\tlearn: 0.9424379\ttotal: 130ms\tremaining: 1.31ms\n",
      "99:\tlearn: 0.9424379\ttotal: 131ms\tremaining: 0us\n"
     ]
    },
    {
     "name": "stdout",
     "output_type": "stream",
     "text": [
      "0:\tlearn: 0.8803612\ttotal: 1.99ms\tremaining: 197ms\n",
      "1:\tlearn: 0.8871332\ttotal: 4.29ms\tremaining: 210ms\n",
      "2:\tlearn: 0.8860045\ttotal: 6.91ms\tremaining: 223ms\n",
      "3:\tlearn: 0.8860045\ttotal: 8.96ms\tremaining: 215ms\n",
      "4:\tlearn: 0.8769752\ttotal: 9.66ms\tremaining: 184ms\n",
      "5:\tlearn: 0.8803612\ttotal: 11.7ms\tremaining: 184ms\n",
      "6:\tlearn: 0.8781038\ttotal: 13.5ms\tremaining: 180ms\n",
      "7:\tlearn: 0.8803612\ttotal: 15.7ms\tremaining: 181ms\n",
      "8:\tlearn: 0.8848758\ttotal: 18ms\tremaining: 182ms\n",
      "9:\tlearn: 0.8871332\ttotal: 19.8ms\tremaining: 178ms\n",
      "10:\tlearn: 0.8882619\ttotal: 21.9ms\tremaining: 177ms\n",
      "11:\tlearn: 0.8882619\ttotal: 24.4ms\tremaining: 179ms\n",
      "12:\tlearn: 0.8961625\ttotal: 26.4ms\tremaining: 177ms\n",
      "13:\tlearn: 0.8927765\ttotal: 28.1ms\tremaining: 173ms\n",
      "14:\tlearn: 0.8961625\ttotal: 30ms\tremaining: 170ms\n",
      "15:\tlearn: 0.9018059\ttotal: 32ms\tremaining: 168ms\n",
      "16:\tlearn: 0.9040632\ttotal: 33.8ms\tremaining: 165ms\n",
      "17:\tlearn: 0.9029345\ttotal: 35.9ms\tremaining: 164ms\n",
      "18:\tlearn: 0.8984199\ttotal: 36.5ms\tremaining: 156ms\n",
      "19:\tlearn: 0.9018059\ttotal: 38.3ms\tremaining: 153ms\n",
      "20:\tlearn: 0.9029345\ttotal: 40.1ms\tremaining: 151ms\n",
      "21:\tlearn: 0.9063205\ttotal: 41.9ms\tremaining: 148ms\n",
      "22:\tlearn: 0.9108352\ttotal: 43.5ms\tremaining: 145ms\n",
      "23:\tlearn: 0.9097065\ttotal: 43.9ms\tremaining: 139ms\n",
      "24:\tlearn: 0.9108352\ttotal: 45.6ms\tremaining: 137ms\n",
      "25:\tlearn: 0.9119639\ttotal: 47.3ms\tremaining: 135ms\n",
      "26:\tlearn: 0.9097065\ttotal: 49ms\tremaining: 133ms\n",
      "27:\tlearn: 0.9097065\ttotal: 50.8ms\tremaining: 131ms\n",
      "28:\tlearn: 0.9108352\ttotal: 52.6ms\tremaining: 129ms\n",
      "29:\tlearn: 0.9119639\ttotal: 54.4ms\tremaining: 127ms\n",
      "30:\tlearn: 0.9153499\ttotal: 56.5ms\tremaining: 126ms\n",
      "31:\tlearn: 0.9164786\ttotal: 58ms\tremaining: 123ms\n",
      "32:\tlearn: 0.9153499\ttotal: 59.6ms\tremaining: 121ms\n",
      "33:\tlearn: 0.9142212\ttotal: 61.5ms\tremaining: 119ms\n",
      "34:\tlearn: 0.9187359\ttotal: 63.4ms\tremaining: 118ms\n",
      "35:\tlearn: 0.9176072\ttotal: 65.1ms\tremaining: 116ms\n",
      "36:\tlearn: 0.9198646\ttotal: 66.8ms\tremaining: 114ms\n",
      "37:\tlearn: 0.9187359\ttotal: 68.5ms\tremaining: 112ms\n",
      "38:\tlearn: 0.9198646\ttotal: 70.2ms\tremaining: 110ms\n",
      "39:\tlearn: 0.9198646\ttotal: 71.8ms\tremaining: 108ms\n",
      "40:\tlearn: 0.9209932\ttotal: 73.2ms\tremaining: 105ms\n",
      "41:\tlearn: 0.9232506\ttotal: 74.7ms\tremaining: 103ms\n",
      "42:\tlearn: 0.9232506\ttotal: 76.3ms\tremaining: 101ms\n",
      "43:\tlearn: 0.9243792\ttotal: 78ms\tremaining: 99.3ms\n",
      "44:\tlearn: 0.9243792\ttotal: 79.6ms\tremaining: 97.3ms\n",
      "45:\tlearn: 0.9232506\ttotal: 81.6ms\tremaining: 95.8ms\n",
      "46:\tlearn: 0.9243792\ttotal: 83.3ms\tremaining: 93.9ms\n",
      "47:\tlearn: 0.9266366\ttotal: 84.9ms\tremaining: 91.9ms\n",
      "48:\tlearn: 0.9266366\ttotal: 86.5ms\tremaining: 90ms\n",
      "49:\tlearn: 0.9266366\ttotal: 88ms\tremaining: 88ms\n",
      "50:\tlearn: 0.9266366\ttotal: 89.3ms\tremaining: 85.8ms\n",
      "51:\tlearn: 0.9277652\ttotal: 91.2ms\tremaining: 84.2ms\n",
      "52:\tlearn: 0.9300226\ttotal: 92.8ms\tremaining: 82.3ms\n",
      "53:\tlearn: 0.9300226\ttotal: 94.5ms\tremaining: 80.5ms\n",
      "54:\tlearn: 0.9300226\ttotal: 96.1ms\tremaining: 78.7ms\n",
      "55:\tlearn: 0.9311512\ttotal: 98.1ms\tremaining: 77ms\n",
      "56:\tlearn: 0.9300226\ttotal: 99.6ms\tremaining: 75.2ms\n",
      "57:\tlearn: 0.9300226\ttotal: 101ms\tremaining: 73.3ms\n",
      "58:\tlearn: 0.9300226\ttotal: 103ms\tremaining: 71.3ms\n",
      "59:\tlearn: 0.9300226\ttotal: 104ms\tremaining: 69.4ms\n",
      "60:\tlearn: 0.9311512\ttotal: 105ms\tremaining: 67.4ms\n",
      "61:\tlearn: 0.9311512\ttotal: 107ms\tremaining: 65.5ms\n",
      "62:\tlearn: 0.9311512\ttotal: 108ms\tremaining: 63.1ms\n",
      "63:\tlearn: 0.9311512\ttotal: 109ms\tremaining: 61.3ms\n",
      "64:\tlearn: 0.9322799\ttotal: 111ms\tremaining: 59.5ms\n",
      "65:\tlearn: 0.9334086\ttotal: 112ms\tremaining: 57.7ms\n",
      "66:\tlearn: 0.9322799\ttotal: 113ms\tremaining: 55.9ms\n",
      "67:\tlearn: 0.9334086\ttotal: 115ms\tremaining: 54ms\n",
      "68:\tlearn: 0.9345372\ttotal: 116ms\tremaining: 52.2ms\n",
      "69:\tlearn: 0.9356659\ttotal: 118ms\tremaining: 50.4ms\n",
      "70:\tlearn: 0.9356659\ttotal: 119ms\tremaining: 48.6ms\n",
      "71:\tlearn: 0.9367946\ttotal: 120ms\tremaining: 46.8ms\n",
      "72:\tlearn: 0.9356659\ttotal: 122ms\tremaining: 45.2ms\n",
      "73:\tlearn: 0.9356659\ttotal: 124ms\tremaining: 43.4ms\n",
      "74:\tlearn: 0.9367946\ttotal: 126ms\tremaining: 42.1ms\n",
      "75:\tlearn: 0.9379233\ttotal: 128ms\tremaining: 40.4ms\n",
      "76:\tlearn: 0.9367946\ttotal: 129ms\tremaining: 38.6ms\n",
      "77:\tlearn: 0.9379233\ttotal: 131ms\tremaining: 36.9ms\n",
      "78:\tlearn: 0.9390519\ttotal: 132ms\tremaining: 35.2ms\n",
      "79:\tlearn: 0.9390519\ttotal: 134ms\tremaining: 33.4ms\n",
      "80:\tlearn: 0.9379233\ttotal: 135ms\tremaining: 31.7ms\n",
      "81:\tlearn: 0.9379233\ttotal: 137ms\tremaining: 30ms\n",
      "82:\tlearn: 0.9367946\ttotal: 138ms\tremaining: 28.3ms\n",
      "83:\tlearn: 0.9367946\ttotal: 140ms\tremaining: 26.6ms\n",
      "84:\tlearn: 0.9379233\ttotal: 141ms\tremaining: 24.9ms\n",
      "85:\tlearn: 0.9367946\ttotal: 143ms\tremaining: 23.3ms\n",
      "86:\tlearn: 0.9379233\ttotal: 144ms\tremaining: 21.6ms\n",
      "87:\tlearn: 0.9379233\ttotal: 146ms\tremaining: 19.9ms\n",
      "88:\tlearn: 0.9390519\ttotal: 147ms\tremaining: 18.2ms\n",
      "89:\tlearn: 0.9401806\ttotal: 149ms\tremaining: 16.5ms\n",
      "90:\tlearn: 0.9401806\ttotal: 150ms\tremaining: 14.8ms\n",
      "91:\tlearn: 0.9401806\ttotal: 151ms\tremaining: 13.2ms\n",
      "92:\tlearn: 0.9390519\ttotal: 153ms\tremaining: 11.5ms\n",
      "93:\tlearn: 0.9390519\ttotal: 154ms\tremaining: 9.85ms\n",
      "94:\tlearn: 0.9390519\ttotal: 156ms\tremaining: 8.2ms\n",
      "95:\tlearn: 0.9390519\ttotal: 157ms\tremaining: 6.56ms\n",
      "96:\tlearn: 0.9390519\ttotal: 159ms\tremaining: 4.93ms\n",
      "97:\tlearn: 0.9390519\ttotal: 161ms\tremaining: 3.28ms\n",
      "98:\tlearn: 0.9390519\ttotal: 163ms\tremaining: 1.64ms\n",
      "99:\tlearn: 0.9390519\ttotal: 164ms\tremaining: 0us\n",
      "0:\tlearn: 0.8702032\ttotal: 5.52ms\tremaining: 547ms\n",
      "1:\tlearn: 0.8781038\ttotal: 11.5ms\tremaining: 563ms\n",
      "2:\tlearn: 0.8905192\ttotal: 17.3ms\tremaining: 560ms\n",
      "3:\tlearn: 0.8916479\ttotal: 23.1ms\tremaining: 554ms\n",
      "4:\tlearn: 0.8758465\ttotal: 25.2ms\tremaining: 478ms\n",
      "5:\tlearn: 0.8848758\ttotal: 32ms\tremaining: 501ms\n",
      "6:\tlearn: 0.8905192\ttotal: 36.1ms\tremaining: 480ms\n",
      "7:\tlearn: 0.8995485\ttotal: 39.2ms\tremaining: 451ms\n",
      "8:\tlearn: 0.9006772\ttotal: 41.9ms\tremaining: 424ms\n",
      "9:\tlearn: 0.9029345\ttotal: 44.5ms\tremaining: 401ms\n",
      "10:\tlearn: 0.8995485\ttotal: 46.8ms\tremaining: 379ms\n",
      "11:\tlearn: 0.9006772\ttotal: 49ms\tremaining: 359ms\n",
      "12:\tlearn: 0.9040632\ttotal: 50.7ms\tremaining: 339ms\n",
      "13:\tlearn: 0.9051919\ttotal: 52.4ms\tremaining: 322ms\n",
      "14:\tlearn: 0.9051919\ttotal: 54.1ms\tremaining: 307ms\n",
      "15:\tlearn: 0.9074492\ttotal: 55.8ms\tremaining: 293ms\n",
      "16:\tlearn: 0.9130926\ttotal: 57.3ms\tremaining: 280ms\n",
      "17:\tlearn: 0.9119639\ttotal: 58.8ms\tremaining: 268ms\n",
      "18:\tlearn: 0.9074492\ttotal: 59.3ms\tremaining: 253ms\n",
      "19:\tlearn: 0.9074492\ttotal: 60.7ms\tremaining: 243ms\n",
      "20:\tlearn: 0.9063205\ttotal: 62.1ms\tremaining: 234ms\n",
      "21:\tlearn: 0.9097065\ttotal: 63.2ms\tremaining: 224ms\n",
      "22:\tlearn: 0.9130926\ttotal: 64.5ms\tremaining: 216ms\n",
      "23:\tlearn: 0.9142212\ttotal: 65.8ms\tremaining: 208ms\n",
      "24:\tlearn: 0.9153499\ttotal: 67ms\tremaining: 201ms\n",
      "25:\tlearn: 0.9164786\ttotal: 68.3ms\tremaining: 194ms\n",
      "26:\tlearn: 0.9142212\ttotal: 68.6ms\tremaining: 185ms\n",
      "27:\tlearn: 0.9153499\ttotal: 69.7ms\tremaining: 179ms\n",
      "28:\tlearn: 0.9153499\ttotal: 70.7ms\tremaining: 173ms\n",
      "29:\tlearn: 0.9142212\ttotal: 71.8ms\tremaining: 168ms\n",
      "30:\tlearn: 0.9187359\ttotal: 72.9ms\tremaining: 162ms\n",
      "31:\tlearn: 0.9198646\ttotal: 74.1ms\tremaining: 157ms\n",
      "32:\tlearn: 0.9198646\ttotal: 75.2ms\tremaining: 153ms\n",
      "33:\tlearn: 0.9209932\ttotal: 76.3ms\tremaining: 148ms\n",
      "34:\tlearn: 0.9209932\ttotal: 77.5ms\tremaining: 144ms\n",
      "35:\tlearn: 0.9209932\ttotal: 78.5ms\tremaining: 140ms\n",
      "36:\tlearn: 0.9221219\ttotal: 79.6ms\tremaining: 136ms\n",
      "37:\tlearn: 0.9255079\ttotal: 80.9ms\tremaining: 132ms\n",
      "38:\tlearn: 0.9243792\ttotal: 82.1ms\tremaining: 128ms\n",
      "39:\tlearn: 0.9266366\ttotal: 83.2ms\tremaining: 125ms\n",
      "40:\tlearn: 0.9288939\ttotal: 84.2ms\tremaining: 121ms\n",
      "41:\tlearn: 0.9277652\ttotal: 85.3ms\tremaining: 118ms\n",
      "42:\tlearn: 0.9288939\ttotal: 86.3ms\tremaining: 114ms\n",
      "43:\tlearn: 0.9288939\ttotal: 87.4ms\tremaining: 111ms\n",
      "44:\tlearn: 0.9277652\ttotal: 88.5ms\tremaining: 108ms\n",
      "45:\tlearn: 0.9277652\ttotal: 89.6ms\tremaining: 105ms\n",
      "46:\tlearn: 0.9288939\ttotal: 90.7ms\tremaining: 102ms\n",
      "47:\tlearn: 0.9300226\ttotal: 91.7ms\tremaining: 99.4ms\n",
      "48:\tlearn: 0.9311512\ttotal: 92.8ms\tremaining: 96.6ms\n",
      "49:\tlearn: 0.9322799\ttotal: 93.9ms\tremaining: 93.9ms\n",
      "50:\tlearn: 0.9322799\ttotal: 94.9ms\tremaining: 91.2ms\n",
      "51:\tlearn: 0.9345372\ttotal: 96ms\tremaining: 88.6ms\n",
      "52:\tlearn: 0.9356659\ttotal: 97.2ms\tremaining: 86.2ms\n",
      "53:\tlearn: 0.9356659\ttotal: 98.3ms\tremaining: 83.7ms\n",
      "54:\tlearn: 0.9345372\ttotal: 99.4ms\tremaining: 81.3ms\n",
      "55:\tlearn: 0.9345372\ttotal: 100ms\tremaining: 78.9ms\n",
      "56:\tlearn: 0.9356659\ttotal: 101ms\tremaining: 76.6ms\n",
      "57:\tlearn: 0.9345372\ttotal: 103ms\tremaining: 74.3ms\n",
      "58:\tlearn: 0.9367946\ttotal: 104ms\tremaining: 72ms\n",
      "59:\tlearn: 0.9367946\ttotal: 105ms\tremaining: 69.9ms\n",
      "60:\tlearn: 0.9356659\ttotal: 106ms\tremaining: 67.7ms\n",
      "61:\tlearn: 0.9367946\ttotal: 107ms\tremaining: 65.6ms\n",
      "62:\tlearn: 0.9367946\ttotal: 107ms\tremaining: 63.1ms\n",
      "63:\tlearn: 0.9356659\ttotal: 108ms\tremaining: 61ms\n",
      "64:\tlearn: 0.9356659\ttotal: 109ms\tremaining: 58.9ms\n",
      "65:\tlearn: 0.9356659\ttotal: 111ms\tremaining: 57ms\n",
      "66:\tlearn: 0.9356659\ttotal: 112ms\tremaining: 55.1ms\n",
      "67:\tlearn: 0.9356659\ttotal: 113ms\tremaining: 53.1ms\n",
      "68:\tlearn: 0.9345372\ttotal: 114ms\tremaining: 51.2ms\n",
      "69:\tlearn: 0.9356659\ttotal: 115ms\tremaining: 49.4ms\n",
      "70:\tlearn: 0.9356659\ttotal: 116ms\tremaining: 47.5ms\n",
      "71:\tlearn: 0.9379233\ttotal: 117ms\tremaining: 45.6ms\n",
      "72:\tlearn: 0.9379233\ttotal: 118ms\tremaining: 43.8ms\n",
      "73:\tlearn: 0.9390519\ttotal: 120ms\tremaining: 42ms\n",
      "74:\tlearn: 0.9390519\ttotal: 121ms\tremaining: 40.2ms\n",
      "75:\tlearn: 0.9401806\ttotal: 122ms\tremaining: 38.4ms\n",
      "76:\tlearn: 0.9401806\ttotal: 123ms\tremaining: 36.7ms\n",
      "77:\tlearn: 0.9413093\ttotal: 124ms\tremaining: 34.9ms\n",
      "78:\tlearn: 0.9413093\ttotal: 125ms\tremaining: 33.2ms\n",
      "79:\tlearn: 0.9413093\ttotal: 126ms\tremaining: 31.5ms\n",
      "80:\tlearn: 0.9413093\ttotal: 127ms\tremaining: 29.8ms\n",
      "81:\tlearn: 0.9413093\ttotal: 128ms\tremaining: 28.1ms\n",
      "82:\tlearn: 0.9413093\ttotal: 129ms\tremaining: 26.5ms\n",
      "83:\tlearn: 0.9413093\ttotal: 130ms\tremaining: 24.8ms\n",
      "84:\tlearn: 0.9424379\ttotal: 131ms\tremaining: 23.2ms\n",
      "85:\tlearn: 0.9424379\ttotal: 132ms\tremaining: 21.5ms\n",
      "86:\tlearn: 0.9413093\ttotal: 133ms\tremaining: 19.9ms\n",
      "87:\tlearn: 0.9424379\ttotal: 134ms\tremaining: 18.3ms\n",
      "88:\tlearn: 0.9424379\ttotal: 135ms\tremaining: 16.7ms\n",
      "89:\tlearn: 0.9424379\ttotal: 137ms\tremaining: 15.2ms\n",
      "90:\tlearn: 0.9424379\ttotal: 137ms\tremaining: 13.5ms\n",
      "91:\tlearn: 0.9424379\ttotal: 138ms\tremaining: 12ms\n",
      "92:\tlearn: 0.9424379\ttotal: 139ms\tremaining: 10.5ms\n",
      "93:\tlearn: 0.9424379\ttotal: 140ms\tremaining: 8.96ms\n",
      "94:\tlearn: 0.9424379\ttotal: 142ms\tremaining: 7.45ms\n",
      "95:\tlearn: 0.9424379\ttotal: 142ms\tremaining: 5.92ms\n",
      "96:\tlearn: 0.9424379\ttotal: 143ms\tremaining: 4.42ms\n",
      "97:\tlearn: 0.9424379\ttotal: 144ms\tremaining: 2.94ms\n",
      "98:\tlearn: 0.9435666\ttotal: 145ms\tremaining: 1.46ms\n",
      "99:\tlearn: 0.9435666\ttotal: 146ms\tremaining: 0us\n"
     ]
    },
    {
     "name": "stdout",
     "output_type": "stream",
     "text": [
      "0:\tlearn: 0.8747178\ttotal: 6.72ms\tremaining: 666ms\n",
      "1:\tlearn: 0.8871332\ttotal: 13.1ms\tremaining: 641ms\n",
      "2:\tlearn: 0.8927765\ttotal: 18.6ms\tremaining: 600ms\n",
      "3:\tlearn: 0.8984199\ttotal: 24.1ms\tremaining: 580ms\n",
      "4:\tlearn: 0.8848758\ttotal: 25.8ms\tremaining: 491ms\n",
      "5:\tlearn: 0.8837472\ttotal: 28.1ms\tremaining: 441ms\n",
      "6:\tlearn: 0.8803612\ttotal: 30ms\tremaining: 399ms\n",
      "7:\tlearn: 0.8848758\ttotal: 35.5ms\tremaining: 408ms\n",
      "8:\tlearn: 0.8769752\ttotal: 40.8ms\tremaining: 413ms\n",
      "9:\tlearn: 0.8826185\ttotal: 46.9ms\tremaining: 422ms\n",
      "10:\tlearn: 0.8814898\ttotal: 52.8ms\tremaining: 428ms\n",
      "11:\tlearn: 0.8803612\ttotal: 58.3ms\tremaining: 427ms\n",
      "12:\tlearn: 0.8792325\ttotal: 64.3ms\tremaining: 430ms\n",
      "13:\tlearn: 0.8837472\ttotal: 70.1ms\tremaining: 430ms\n",
      "14:\tlearn: 0.8803612\ttotal: 75.8ms\tremaining: 430ms\n",
      "15:\tlearn: 0.8860045\ttotal: 81.8ms\tremaining: 429ms\n",
      "16:\tlearn: 0.8826185\ttotal: 83.3ms\tremaining: 407ms\n",
      "17:\tlearn: 0.8871332\ttotal: 88.8ms\tremaining: 405ms\n",
      "18:\tlearn: 0.8939052\ttotal: 94.7ms\tremaining: 404ms\n",
      "19:\tlearn: 0.8916479\ttotal: 99ms\tremaining: 396ms\n",
      "20:\tlearn: 0.8916479\ttotal: 106ms\tremaining: 397ms\n",
      "21:\tlearn: 0.8939052\ttotal: 111ms\tremaining: 394ms\n",
      "22:\tlearn: 0.8995485\ttotal: 117ms\tremaining: 392ms\n",
      "23:\tlearn: 0.9006772\ttotal: 123ms\tremaining: 389ms\n",
      "24:\tlearn: 0.9006772\ttotal: 129ms\tremaining: 386ms\n",
      "25:\tlearn: 0.8995485\ttotal: 134ms\tremaining: 381ms\n",
      "26:\tlearn: 0.8972912\ttotal: 135ms\tremaining: 366ms\n",
      "27:\tlearn: 0.8984199\ttotal: 139ms\tremaining: 357ms\n",
      "28:\tlearn: 0.9006772\ttotal: 142ms\tremaining: 347ms\n",
      "29:\tlearn: 0.9040632\ttotal: 145ms\tremaining: 338ms\n",
      "30:\tlearn: 0.9051919\ttotal: 148ms\tremaining: 328ms\n",
      "31:\tlearn: 0.9074492\ttotal: 150ms\tremaining: 319ms\n",
      "32:\tlearn: 0.9063205\ttotal: 152ms\tremaining: 309ms\n",
      "33:\tlearn: 0.9051919\ttotal: 154ms\tremaining: 300ms\n",
      "34:\tlearn: 0.9063205\ttotal: 156ms\tremaining: 291ms\n",
      "35:\tlearn: 0.9097065\ttotal: 159ms\tremaining: 283ms\n",
      "36:\tlearn: 0.9130926\ttotal: 161ms\tremaining: 274ms\n",
      "37:\tlearn: 0.9130926\ttotal: 163ms\tremaining: 266ms\n",
      "38:\tlearn: 0.9153499\ttotal: 165ms\tremaining: 259ms\n",
      "39:\tlearn: 0.9153499\ttotal: 167ms\tremaining: 251ms\n",
      "40:\tlearn: 0.9164786\ttotal: 169ms\tremaining: 244ms\n",
      "41:\tlearn: 0.9153499\ttotal: 172ms\tremaining: 237ms\n",
      "42:\tlearn: 0.9187359\ttotal: 174ms\tremaining: 230ms\n",
      "43:\tlearn: 0.9187359\ttotal: 176ms\tremaining: 224ms\n",
      "44:\tlearn: 0.9187359\ttotal: 178ms\tremaining: 217ms\n",
      "45:\tlearn: 0.9209932\ttotal: 180ms\tremaining: 211ms\n",
      "46:\tlearn: 0.9187359\ttotal: 182ms\tremaining: 205ms\n",
      "47:\tlearn: 0.9176072\ttotal: 184ms\tremaining: 199ms\n",
      "48:\tlearn: 0.9221219\ttotal: 186ms\tremaining: 194ms\n",
      "49:\tlearn: 0.9209932\ttotal: 188ms\tremaining: 188ms\n",
      "50:\tlearn: 0.9209932\ttotal: 190ms\tremaining: 183ms\n",
      "51:\tlearn: 0.9221219\ttotal: 193ms\tremaining: 178ms\n",
      "52:\tlearn: 0.9221219\ttotal: 195ms\tremaining: 172ms\n",
      "53:\tlearn: 0.9232506\ttotal: 197ms\tremaining: 168ms\n",
      "54:\tlearn: 0.9243792\ttotal: 199ms\tremaining: 163ms\n",
      "55:\tlearn: 0.9255079\ttotal: 201ms\tremaining: 158ms\n",
      "56:\tlearn: 0.9266366\ttotal: 202ms\tremaining: 152ms\n",
      "57:\tlearn: 0.9243792\ttotal: 204ms\tremaining: 148ms\n",
      "58:\tlearn: 0.9255079\ttotal: 207ms\tremaining: 144ms\n",
      "59:\tlearn: 0.9255079\ttotal: 209ms\tremaining: 139ms\n",
      "60:\tlearn: 0.9266366\ttotal: 211ms\tremaining: 135ms\n",
      "61:\tlearn: 0.9255079\ttotal: 213ms\tremaining: 131ms\n",
      "62:\tlearn: 0.9243792\ttotal: 216ms\tremaining: 127ms\n",
      "63:\tlearn: 0.9277652\ttotal: 218ms\tremaining: 123ms\n",
      "64:\tlearn: 0.9277652\ttotal: 220ms\tremaining: 118ms\n",
      "65:\tlearn: 0.9277652\ttotal: 222ms\tremaining: 115ms\n",
      "66:\tlearn: 0.9277652\ttotal: 225ms\tremaining: 111ms\n",
      "67:\tlearn: 0.9288939\ttotal: 227ms\tremaining: 107ms\n",
      "68:\tlearn: 0.9288939\ttotal: 230ms\tremaining: 103ms\n",
      "69:\tlearn: 0.9311512\ttotal: 232ms\tremaining: 99.4ms\n",
      "70:\tlearn: 0.9311512\ttotal: 234ms\tremaining: 95.6ms\n",
      "71:\tlearn: 0.9300226\ttotal: 236ms\tremaining: 91.9ms\n",
      "72:\tlearn: 0.9311512\ttotal: 239ms\tremaining: 88.2ms\n",
      "73:\tlearn: 0.9311512\ttotal: 241ms\tremaining: 84.6ms\n",
      "74:\tlearn: 0.9300226\ttotal: 243ms\tremaining: 81.1ms\n",
      "75:\tlearn: 0.9311512\ttotal: 246ms\tremaining: 77.5ms\n",
      "76:\tlearn: 0.9322799\ttotal: 248ms\tremaining: 74ms\n",
      "77:\tlearn: 0.9311512\ttotal: 250ms\tremaining: 70.4ms\n",
      "78:\tlearn: 0.9311512\ttotal: 252ms\tremaining: 66.9ms\n",
      "79:\tlearn: 0.9334086\ttotal: 254ms\tremaining: 63.5ms\n",
      "80:\tlearn: 0.9311512\ttotal: 256ms\tremaining: 60.1ms\n",
      "81:\tlearn: 0.9311512\ttotal: 258ms\tremaining: 56.7ms\n",
      "82:\tlearn: 0.9322799\ttotal: 260ms\tremaining: 53.3ms\n",
      "83:\tlearn: 0.9334086\ttotal: 262ms\tremaining: 50ms\n",
      "84:\tlearn: 0.9356659\ttotal: 264ms\tremaining: 46.6ms\n",
      "85:\tlearn: 0.9345372\ttotal: 266ms\tremaining: 43.4ms\n",
      "86:\tlearn: 0.9356659\ttotal: 269ms\tremaining: 40.1ms\n",
      "87:\tlearn: 0.9356659\ttotal: 271ms\tremaining: 36.9ms\n",
      "88:\tlearn: 0.9356659\ttotal: 273ms\tremaining: 33.7ms\n",
      "89:\tlearn: 0.9356659\ttotal: 275ms\tremaining: 30.6ms\n",
      "90:\tlearn: 0.9345372\ttotal: 277ms\tremaining: 27.4ms\n",
      "91:\tlearn: 0.9334086\ttotal: 279ms\tremaining: 24.3ms\n",
      "92:\tlearn: 0.9334086\ttotal: 281ms\tremaining: 21.2ms\n",
      "93:\tlearn: 0.9334086\ttotal: 282ms\tremaining: 18ms\n",
      "94:\tlearn: 0.9334086\ttotal: 284ms\tremaining: 14.9ms\n",
      "95:\tlearn: 0.9334086\ttotal: 286ms\tremaining: 11.9ms\n",
      "96:\tlearn: 0.9356659\ttotal: 288ms\tremaining: 8.92ms\n",
      "97:\tlearn: 0.9345372\ttotal: 290ms\tremaining: 5.93ms\n",
      "98:\tlearn: 0.9345372\ttotal: 293ms\tremaining: 2.96ms\n",
      "99:\tlearn: 0.9345372\ttotal: 294ms\tremaining: 0us\n",
      "0:\tlearn: 0.8792325\ttotal: 5.35ms\tremaining: 530ms\n",
      "1:\tlearn: 0.8814898\ttotal: 13.4ms\tremaining: 658ms\n",
      "2:\tlearn: 0.8871332\ttotal: 18.2ms\tremaining: 587ms\n",
      "3:\tlearn: 0.8916479\ttotal: 21.5ms\tremaining: 517ms\n",
      "4:\tlearn: 0.8826185\ttotal: 22.6ms\tremaining: 429ms\n",
      "5:\tlearn: 0.8837472\ttotal: 23.7ms\tremaining: 371ms\n",
      "6:\tlearn: 0.8769752\ttotal: 24.6ms\tremaining: 327ms\n",
      "7:\tlearn: 0.8848758\ttotal: 27.2ms\tremaining: 313ms\n",
      "8:\tlearn: 0.8724605\ttotal: 29.1ms\tremaining: 294ms\n",
      "9:\tlearn: 0.8781038\ttotal: 31.7ms\tremaining: 286ms\n",
      "10:\tlearn: 0.8769752\ttotal: 33.7ms\tremaining: 273ms\n",
      "11:\tlearn: 0.8814898\ttotal: 35.5ms\tremaining: 261ms\n",
      "12:\tlearn: 0.8837472\ttotal: 37.4ms\tremaining: 250ms\n",
      "13:\tlearn: 0.8826185\ttotal: 38ms\tremaining: 234ms\n",
      "14:\tlearn: 0.8860045\ttotal: 40.7ms\tremaining: 231ms\n",
      "15:\tlearn: 0.8916479\ttotal: 42.4ms\tremaining: 222ms\n",
      "16:\tlearn: 0.8905192\ttotal: 44.2ms\tremaining: 216ms\n",
      "17:\tlearn: 0.8905192\ttotal: 45.8ms\tremaining: 208ms\n",
      "18:\tlearn: 0.8893905\ttotal: 47.2ms\tremaining: 201ms\n",
      "19:\tlearn: 0.8893905\ttotal: 48.7ms\tremaining: 195ms\n",
      "20:\tlearn: 0.8882619\ttotal: 50ms\tremaining: 188ms\n",
      "21:\tlearn: 0.8905192\ttotal: 51.4ms\tremaining: 182ms\n",
      "22:\tlearn: 0.8916479\ttotal: 53ms\tremaining: 177ms\n",
      "23:\tlearn: 0.8927765\ttotal: 54.5ms\tremaining: 173ms\n",
      "24:\tlearn: 0.8927765\ttotal: 56ms\tremaining: 168ms\n",
      "25:\tlearn: 0.8950339\ttotal: 57.5ms\tremaining: 164ms\n",
      "26:\tlearn: 0.8950339\ttotal: 59ms\tremaining: 160ms\n",
      "27:\tlearn: 0.8961625\ttotal: 60.5ms\tremaining: 156ms\n",
      "28:\tlearn: 0.9006772\ttotal: 61.9ms\tremaining: 152ms\n",
      "29:\tlearn: 0.9029345\ttotal: 63.4ms\tremaining: 148ms\n",
      "30:\tlearn: 0.9051919\ttotal: 64.8ms\tremaining: 144ms\n",
      "31:\tlearn: 0.9040632\ttotal: 66.3ms\tremaining: 141ms\n",
      "32:\tlearn: 0.9029345\ttotal: 67.8ms\tremaining: 138ms\n",
      "33:\tlearn: 0.9040632\ttotal: 69.5ms\tremaining: 135ms\n",
      "34:\tlearn: 0.9074492\ttotal: 71ms\tremaining: 132ms\n",
      "35:\tlearn: 0.9063205\ttotal: 72.5ms\tremaining: 129ms\n",
      "36:\tlearn: 0.9074492\ttotal: 73.9ms\tremaining: 126ms\n",
      "37:\tlearn: 0.9108352\ttotal: 75.3ms\tremaining: 123ms\n",
      "38:\tlearn: 0.9130926\ttotal: 76.7ms\tremaining: 120ms\n",
      "39:\tlearn: 0.9142212\ttotal: 78.1ms\tremaining: 117ms\n",
      "40:\tlearn: 0.9153499\ttotal: 79.5ms\tremaining: 114ms\n",
      "41:\tlearn: 0.9142212\ttotal: 81.1ms\tremaining: 112ms\n",
      "42:\tlearn: 0.9164786\ttotal: 82.6ms\tremaining: 109ms\n",
      "43:\tlearn: 0.9164786\ttotal: 84ms\tremaining: 107ms\n",
      "44:\tlearn: 0.9187359\ttotal: 85.5ms\tremaining: 104ms\n",
      "45:\tlearn: 0.9198646\ttotal: 86.8ms\tremaining: 102ms\n",
      "46:\tlearn: 0.9198646\ttotal: 88.5ms\tremaining: 99.7ms\n",
      "47:\tlearn: 0.9209932\ttotal: 89.9ms\tremaining: 97.4ms\n",
      "48:\tlearn: 0.9209932\ttotal: 91.4ms\tremaining: 95.2ms\n",
      "49:\tlearn: 0.9198646\ttotal: 92.9ms\tremaining: 92.9ms\n",
      "50:\tlearn: 0.9209932\ttotal: 94.4ms\tremaining: 90.7ms\n",
      "51:\tlearn: 0.9221219\ttotal: 96ms\tremaining: 88.6ms\n",
      "52:\tlearn: 0.9221219\ttotal: 97.4ms\tremaining: 86.4ms\n",
      "53:\tlearn: 0.9221219\ttotal: 98.8ms\tremaining: 84.2ms\n",
      "54:\tlearn: 0.9221219\ttotal: 102ms\tremaining: 83.1ms\n",
      "55:\tlearn: 0.9221219\ttotal: 103ms\tremaining: 81ms\n",
      "56:\tlearn: 0.9243792\ttotal: 105ms\tremaining: 79ms\n",
      "57:\tlearn: 0.9243792\ttotal: 108ms\tremaining: 78.4ms\n",
      "58:\tlearn: 0.9243792\ttotal: 110ms\tremaining: 76.3ms\n",
      "59:\tlearn: 0.9243792\ttotal: 112ms\tremaining: 74.4ms\n",
      "60:\tlearn: 0.9243792\ttotal: 114ms\tremaining: 72.7ms\n",
      "61:\tlearn: 0.9243792\ttotal: 116ms\tremaining: 71ms\n",
      "62:\tlearn: 0.9255079\ttotal: 117ms\tremaining: 68.5ms\n",
      "63:\tlearn: 0.9232506\ttotal: 120ms\tremaining: 67.3ms\n",
      "64:\tlearn: 0.9221219\ttotal: 121ms\tremaining: 65.4ms\n",
      "65:\tlearn: 0.9232506\ttotal: 123ms\tremaining: 63.4ms\n",
      "66:\tlearn: 0.9232506\ttotal: 124ms\tremaining: 61.3ms\n",
      "67:\tlearn: 0.9243792\ttotal: 126ms\tremaining: 59.2ms\n",
      "68:\tlearn: 0.9232506\ttotal: 127ms\tremaining: 57.2ms\n",
      "69:\tlearn: 0.9243792\ttotal: 129ms\tremaining: 55.1ms\n",
      "70:\tlearn: 0.9266366\ttotal: 130ms\tremaining: 53.1ms\n",
      "71:\tlearn: 0.9255079\ttotal: 132ms\tremaining: 51.2ms\n",
      "72:\tlearn: 0.9300226\ttotal: 133ms\tremaining: 49.3ms\n",
      "73:\tlearn: 0.9311512\ttotal: 135ms\tremaining: 47.3ms\n",
      "74:\tlearn: 0.9311512\ttotal: 136ms\tremaining: 45.3ms\n",
      "75:\tlearn: 0.9322799\ttotal: 137ms\tremaining: 43.4ms\n",
      "76:\tlearn: 0.9322799\ttotal: 139ms\tremaining: 41.5ms\n",
      "77:\tlearn: 0.9322799\ttotal: 140ms\tremaining: 39.6ms\n",
      "78:\tlearn: 0.9322799\ttotal: 142ms\tremaining: 37.7ms\n",
      "79:\tlearn: 0.9322799\ttotal: 143ms\tremaining: 35.8ms\n",
      "80:\tlearn: 0.9334086\ttotal: 144ms\tremaining: 33.9ms\n",
      "81:\tlearn: 0.9322799\ttotal: 146ms\tremaining: 32ms\n",
      "82:\tlearn: 0.9322799\ttotal: 147ms\tremaining: 30.2ms\n",
      "83:\tlearn: 0.9322799\ttotal: 148ms\tremaining: 28.2ms\n",
      "84:\tlearn: 0.9322799\ttotal: 149ms\tremaining: 26.4ms\n",
      "85:\tlearn: 0.9322799\ttotal: 151ms\tremaining: 24.5ms\n",
      "86:\tlearn: 0.9311512\ttotal: 152ms\tremaining: 22.8ms\n",
      "87:\tlearn: 0.9311512\ttotal: 153ms\tremaining: 20.9ms\n",
      "88:\tlearn: 0.9300226\ttotal: 155ms\tremaining: 19.1ms\n",
      "89:\tlearn: 0.9311512\ttotal: 156ms\tremaining: 17.3ms\n",
      "90:\tlearn: 0.9300226\ttotal: 158ms\tremaining: 15.6ms\n",
      "91:\tlearn: 0.9300226\ttotal: 159ms\tremaining: 13.9ms\n",
      "92:\tlearn: 0.9300226\ttotal: 161ms\tremaining: 12.1ms\n",
      "93:\tlearn: 0.9300226\ttotal: 162ms\tremaining: 10.3ms\n",
      "94:\tlearn: 0.9311512\ttotal: 163ms\tremaining: 8.59ms\n",
      "95:\tlearn: 0.9311512\ttotal: 165ms\tremaining: 6.87ms\n",
      "96:\tlearn: 0.9311512\ttotal: 166ms\tremaining: 5.12ms\n",
      "97:\tlearn: 0.9322799\ttotal: 167ms\tremaining: 3.41ms\n",
      "98:\tlearn: 0.9322799\ttotal: 169ms\tremaining: 1.7ms\n",
      "99:\tlearn: 0.9322799\ttotal: 170ms\tremaining: 0us\n"
     ]
    },
    {
     "name": "stdout",
     "output_type": "stream",
     "text": [
      "0:\tlearn: 0.8656885\ttotal: 6.45ms\tremaining: 638ms\n",
      "1:\tlearn: 0.8769752\ttotal: 12.8ms\tremaining: 626ms\n",
      "2:\tlearn: 0.8905192\ttotal: 18.7ms\tremaining: 605ms\n",
      "3:\tlearn: 0.8882619\ttotal: 24.2ms\tremaining: 580ms\n",
      "4:\tlearn: 0.8702032\ttotal: 26.3ms\tremaining: 499ms\n",
      "5:\tlearn: 0.8769752\ttotal: 32.3ms\tremaining: 506ms\n",
      "6:\tlearn: 0.8826185\ttotal: 37.9ms\tremaining: 504ms\n",
      "7:\tlearn: 0.8826185\ttotal: 43.9ms\tremaining: 505ms\n",
      "8:\tlearn: 0.8837472\ttotal: 49.9ms\tremaining: 504ms\n",
      "9:\tlearn: 0.8848758\ttotal: 56.8ms\tremaining: 511ms\n",
      "10:\tlearn: 0.8905192\ttotal: 62.7ms\tremaining: 507ms\n",
      "11:\tlearn: 0.8927765\ttotal: 69.3ms\tremaining: 508ms\n",
      "12:\tlearn: 0.8939052\ttotal: 75.5ms\tremaining: 505ms\n",
      "13:\tlearn: 0.8961625\ttotal: 81.2ms\tremaining: 499ms\n",
      "14:\tlearn: 0.8972912\ttotal: 87.8ms\tremaining: 498ms\n",
      "15:\tlearn: 0.8972912\ttotal: 93.9ms\tremaining: 493ms\n",
      "16:\tlearn: 0.8995485\ttotal: 99.3ms\tremaining: 485ms\n",
      "17:\tlearn: 0.8984199\ttotal: 106ms\tremaining: 481ms\n",
      "18:\tlearn: 0.8972912\ttotal: 107ms\tremaining: 458ms\n",
      "19:\tlearn: 0.8995485\ttotal: 114ms\tremaining: 455ms\n",
      "20:\tlearn: 0.9006772\ttotal: 120ms\tremaining: 450ms\n",
      "21:\tlearn: 0.8995485\ttotal: 125ms\tremaining: 445ms\n",
      "22:\tlearn: 0.9006772\ttotal: 131ms\tremaining: 439ms\n",
      "23:\tlearn: 0.9018059\ttotal: 137ms\tremaining: 432ms\n",
      "24:\tlearn: 0.9029345\ttotal: 142ms\tremaining: 427ms\n",
      "25:\tlearn: 0.9051919\ttotal: 148ms\tremaining: 423ms\n",
      "26:\tlearn: 0.9006772\ttotal: 150ms\tremaining: 406ms\n",
      "27:\tlearn: 0.9040632\ttotal: 156ms\tremaining: 400ms\n",
      "28:\tlearn: 0.9029345\ttotal: 161ms\tremaining: 395ms\n",
      "29:\tlearn: 0.9063205\ttotal: 167ms\tremaining: 389ms\n",
      "30:\tlearn: 0.9097065\ttotal: 173ms\tremaining: 385ms\n",
      "31:\tlearn: 0.9085779\ttotal: 178ms\tremaining: 378ms\n",
      "32:\tlearn: 0.9142212\ttotal: 184ms\tremaining: 374ms\n",
      "33:\tlearn: 0.9130926\ttotal: 190ms\tremaining: 369ms\n",
      "34:\tlearn: 0.9176072\ttotal: 197ms\tremaining: 365ms\n",
      "35:\tlearn: 0.9176072\ttotal: 203ms\tremaining: 362ms\n",
      "36:\tlearn: 0.9176072\ttotal: 209ms\tremaining: 357ms\n",
      "37:\tlearn: 0.9164786\ttotal: 216ms\tremaining: 352ms\n",
      "38:\tlearn: 0.9164786\ttotal: 221ms\tremaining: 346ms\n",
      "39:\tlearn: 0.9164786\ttotal: 228ms\tremaining: 342ms\n",
      "40:\tlearn: 0.9209932\ttotal: 234ms\tremaining: 337ms\n",
      "41:\tlearn: 0.9198646\ttotal: 240ms\tremaining: 331ms\n",
      "42:\tlearn: 0.9209932\ttotal: 246ms\tremaining: 326ms\n",
      "43:\tlearn: 0.9221219\ttotal: 252ms\tremaining: 321ms\n",
      "44:\tlearn: 0.9209932\ttotal: 259ms\tremaining: 316ms\n",
      "45:\tlearn: 0.9209932\ttotal: 265ms\tremaining: 311ms\n",
      "46:\tlearn: 0.9198646\ttotal: 271ms\tremaining: 305ms\n",
      "47:\tlearn: 0.9198646\ttotal: 276ms\tremaining: 299ms\n",
      "48:\tlearn: 0.9209932\ttotal: 282ms\tremaining: 293ms\n",
      "49:\tlearn: 0.9209932\ttotal: 288ms\tremaining: 288ms\n",
      "50:\tlearn: 0.9221219\ttotal: 294ms\tremaining: 282ms\n",
      "51:\tlearn: 0.9266366\ttotal: 299ms\tremaining: 276ms\n",
      "52:\tlearn: 0.9277652\ttotal: 305ms\tremaining: 270ms\n",
      "53:\tlearn: 0.9266366\ttotal: 311ms\tremaining: 265ms\n",
      "54:\tlearn: 0.9277652\ttotal: 316ms\tremaining: 259ms\n",
      "55:\tlearn: 0.9266366\ttotal: 325ms\tremaining: 255ms\n",
      "56:\tlearn: 0.9266366\ttotal: 331ms\tremaining: 249ms\n",
      "57:\tlearn: 0.9277652\ttotal: 337ms\tremaining: 244ms\n",
      "58:\tlearn: 0.9277652\ttotal: 342ms\tremaining: 238ms\n",
      "59:\tlearn: 0.9288939\ttotal: 346ms\tremaining: 231ms\n",
      "60:\tlearn: 0.9277652\ttotal: 350ms\tremaining: 224ms\n",
      "61:\tlearn: 0.9266366\ttotal: 353ms\tremaining: 216ms\n",
      "62:\tlearn: 0.9266366\ttotal: 354ms\tremaining: 208ms\n",
      "63:\tlearn: 0.9266366\ttotal: 357ms\tremaining: 201ms\n",
      "64:\tlearn: 0.9266366\ttotal: 360ms\tremaining: 194ms\n",
      "65:\tlearn: 0.9266366\ttotal: 362ms\tremaining: 187ms\n",
      "66:\tlearn: 0.9266366\ttotal: 365ms\tremaining: 180ms\n",
      "67:\tlearn: 0.9277652\ttotal: 368ms\tremaining: 173ms\n",
      "68:\tlearn: 0.9277652\ttotal: 372ms\tremaining: 167ms\n",
      "69:\tlearn: 0.9277652\ttotal: 374ms\tremaining: 160ms\n",
      "70:\tlearn: 0.9288939\ttotal: 377ms\tremaining: 154ms\n",
      "71:\tlearn: 0.9300226\ttotal: 379ms\tremaining: 148ms\n",
      "72:\tlearn: 0.9300226\ttotal: 382ms\tremaining: 141ms\n",
      "73:\tlearn: 0.9300226\ttotal: 385ms\tremaining: 135ms\n",
      "74:\tlearn: 0.9311512\ttotal: 388ms\tremaining: 129ms\n",
      "75:\tlearn: 0.9345372\ttotal: 391ms\tremaining: 123ms\n",
      "76:\tlearn: 0.9345372\ttotal: 393ms\tremaining: 117ms\n",
      "77:\tlearn: 0.9334086\ttotal: 396ms\tremaining: 112ms\n",
      "78:\tlearn: 0.9322799\ttotal: 398ms\tremaining: 106ms\n",
      "79:\tlearn: 0.9322799\ttotal: 401ms\tremaining: 100ms\n",
      "80:\tlearn: 0.9334086\ttotal: 404ms\tremaining: 94.7ms\n",
      "81:\tlearn: 0.9334086\ttotal: 407ms\tremaining: 89.3ms\n",
      "82:\tlearn: 0.9334086\ttotal: 409ms\tremaining: 83.8ms\n",
      "83:\tlearn: 0.9334086\ttotal: 412ms\tremaining: 78.5ms\n",
      "84:\tlearn: 0.9345372\ttotal: 415ms\tremaining: 73.3ms\n",
      "85:\tlearn: 0.9356659\ttotal: 418ms\tremaining: 68.1ms\n",
      "86:\tlearn: 0.9356659\ttotal: 421ms\tremaining: 63ms\n",
      "87:\tlearn: 0.9367946\ttotal: 424ms\tremaining: 57.8ms\n",
      "88:\tlearn: 0.9367946\ttotal: 427ms\tremaining: 52.8ms\n",
      "89:\tlearn: 0.9356659\ttotal: 431ms\tremaining: 47.9ms\n",
      "90:\tlearn: 0.9367946\ttotal: 434ms\tremaining: 43ms\n",
      "91:\tlearn: 0.9356659\ttotal: 437ms\tremaining: 38ms\n",
      "92:\tlearn: 0.9356659\ttotal: 440ms\tremaining: 33.1ms\n",
      "93:\tlearn: 0.9356659\ttotal: 443ms\tremaining: 28.3ms\n",
      "94:\tlearn: 0.9356659\ttotal: 445ms\tremaining: 23.4ms\n",
      "95:\tlearn: 0.9356659\ttotal: 447ms\tremaining: 18.6ms\n",
      "96:\tlearn: 0.9356659\ttotal: 449ms\tremaining: 13.9ms\n",
      "97:\tlearn: 0.9356659\ttotal: 451ms\tremaining: 9.21ms\n",
      "98:\tlearn: 0.9356659\ttotal: 453ms\tremaining: 4.57ms\n",
      "99:\tlearn: 0.9379233\ttotal: 455ms\tremaining: 0us\n",
      "0:\tlearn: 0.8724605\ttotal: 6.51ms\tremaining: 645ms\n",
      "1:\tlearn: 0.8803612\ttotal: 12.9ms\tremaining: 631ms\n",
      "2:\tlearn: 0.8848758\ttotal: 19.3ms\tremaining: 625ms\n",
      "3:\tlearn: 0.8792325\ttotal: 25.2ms\tremaining: 605ms\n",
      "4:\tlearn: 0.8758465\ttotal: 27.2ms\tremaining: 516ms\n",
      "5:\tlearn: 0.8735892\ttotal: 33.5ms\tremaining: 524ms\n",
      "6:\tlearn: 0.8882619\ttotal: 39.1ms\tremaining: 519ms\n",
      "7:\tlearn: 0.8893905\ttotal: 45.1ms\tremaining: 518ms\n",
      "8:\tlearn: 0.8972912\ttotal: 50.9ms\tremaining: 515ms\n",
      "9:\tlearn: 0.8961625\ttotal: 57.1ms\tremaining: 514ms\n",
      "10:\tlearn: 0.8916479\ttotal: 63.6ms\tremaining: 514ms\n",
      "11:\tlearn: 0.8927765\ttotal: 70.3ms\tremaining: 516ms\n",
      "12:\tlearn: 0.8984199\ttotal: 76.2ms\tremaining: 510ms\n",
      "13:\tlearn: 0.8972912\ttotal: 82.6ms\tremaining: 507ms\n",
      "14:\tlearn: 0.8972912\ttotal: 89ms\tremaining: 504ms\n",
      "15:\tlearn: 0.8972912\ttotal: 96.3ms\tremaining: 506ms\n",
      "16:\tlearn: 0.9018059\ttotal: 103ms\tremaining: 501ms\n",
      "17:\tlearn: 0.9040632\ttotal: 109ms\tremaining: 495ms\n",
      "18:\tlearn: 0.9018059\ttotal: 110ms\tremaining: 469ms\n",
      "19:\tlearn: 0.9051919\ttotal: 114ms\tremaining: 456ms\n",
      "20:\tlearn: 0.9051919\ttotal: 117ms\tremaining: 439ms\n",
      "21:\tlearn: 0.9040632\ttotal: 118ms\tremaining: 417ms\n",
      "22:\tlearn: 0.9063205\ttotal: 120ms\tremaining: 403ms\n",
      "23:\tlearn: 0.9074492\ttotal: 123ms\tremaining: 389ms\n",
      "24:\tlearn: 0.9040632\ttotal: 126ms\tremaining: 377ms\n",
      "25:\tlearn: 0.9029345\ttotal: 128ms\tremaining: 366ms\n",
      "26:\tlearn: 0.9029345\ttotal: 131ms\tremaining: 355ms\n",
      "27:\tlearn: 0.9051919\ttotal: 134ms\tremaining: 345ms\n",
      "28:\tlearn: 0.9051919\ttotal: 137ms\tremaining: 335ms\n",
      "29:\tlearn: 0.9074492\ttotal: 139ms\tremaining: 325ms\n",
      "30:\tlearn: 0.9108352\ttotal: 142ms\tremaining: 316ms\n",
      "31:\tlearn: 0.9130926\ttotal: 145ms\tremaining: 308ms\n",
      "32:\tlearn: 0.9142212\ttotal: 148ms\tremaining: 300ms\n",
      "33:\tlearn: 0.9142212\ttotal: 151ms\tremaining: 293ms\n",
      "34:\tlearn: 0.9142212\ttotal: 154ms\tremaining: 285ms\n",
      "35:\tlearn: 0.9130926\ttotal: 156ms\tremaining: 278ms\n",
      "36:\tlearn: 0.9164786\ttotal: 159ms\tremaining: 271ms\n",
      "37:\tlearn: 0.9187359\ttotal: 162ms\tremaining: 264ms\n",
      "38:\tlearn: 0.9221219\ttotal: 164ms\tremaining: 257ms\n",
      "39:\tlearn: 0.9198646\ttotal: 167ms\tremaining: 251ms\n",
      "40:\tlearn: 0.9198646\ttotal: 170ms\tremaining: 244ms\n",
      "41:\tlearn: 0.9221219\ttotal: 172ms\tremaining: 238ms\n",
      "42:\tlearn: 0.9221219\ttotal: 175ms\tremaining: 232ms\n",
      "43:\tlearn: 0.9221219\ttotal: 178ms\tremaining: 226ms\n",
      "44:\tlearn: 0.9232506\ttotal: 180ms\tremaining: 220ms\n",
      "45:\tlearn: 0.9232506\ttotal: 183ms\tremaining: 215ms\n",
      "46:\tlearn: 0.9243792\ttotal: 186ms\tremaining: 210ms\n",
      "47:\tlearn: 0.9255079\ttotal: 189ms\tremaining: 204ms\n",
      "48:\tlearn: 0.9266366\ttotal: 191ms\tremaining: 199ms\n",
      "49:\tlearn: 0.9277652\ttotal: 194ms\tremaining: 194ms\n",
      "50:\tlearn: 0.9277652\ttotal: 197ms\tremaining: 189ms\n",
      "51:\tlearn: 0.9266366\ttotal: 200ms\tremaining: 185ms\n",
      "52:\tlearn: 0.9288939\ttotal: 203ms\tremaining: 180ms\n",
      "53:\tlearn: 0.9300226\ttotal: 206ms\tremaining: 175ms\n",
      "54:\tlearn: 0.9300226\ttotal: 209ms\tremaining: 171ms\n",
      "55:\tlearn: 0.9300226\ttotal: 211ms\tremaining: 166ms\n",
      "56:\tlearn: 0.9311512\ttotal: 214ms\tremaining: 162ms\n",
      "57:\tlearn: 0.9311512\ttotal: 217ms\tremaining: 157ms\n",
      "58:\tlearn: 0.9311512\ttotal: 220ms\tremaining: 153ms\n",
      "59:\tlearn: 0.9311512\ttotal: 223ms\tremaining: 149ms\n",
      "60:\tlearn: 0.9311512\ttotal: 225ms\tremaining: 144ms\n",
      "61:\tlearn: 0.9311512\ttotal: 228ms\tremaining: 140ms\n",
      "62:\tlearn: 0.9311512\ttotal: 231ms\tremaining: 136ms\n",
      "63:\tlearn: 0.9311512\ttotal: 234ms\tremaining: 131ms\n",
      "64:\tlearn: 0.9311512\ttotal: 237ms\tremaining: 127ms\n",
      "65:\tlearn: 0.9311512\ttotal: 239ms\tremaining: 123ms\n",
      "66:\tlearn: 0.9311512\ttotal: 242ms\tremaining: 119ms\n",
      "67:\tlearn: 0.9311512\ttotal: 245ms\tremaining: 115ms\n",
      "68:\tlearn: 0.9322799\ttotal: 247ms\tremaining: 111ms\n",
      "69:\tlearn: 0.9322799\ttotal: 249ms\tremaining: 107ms\n",
      "70:\tlearn: 0.9334086\ttotal: 251ms\tremaining: 103ms\n",
      "71:\tlearn: 0.9356659\ttotal: 253ms\tremaining: 98.6ms\n",
      "72:\tlearn: 0.9345372\ttotal: 255ms\tremaining: 94.4ms\n",
      "73:\tlearn: 0.9345372\ttotal: 257ms\tremaining: 90.3ms\n",
      "74:\tlearn: 0.9356659\ttotal: 259ms\tremaining: 86.3ms\n",
      "75:\tlearn: 0.9356659\ttotal: 261ms\tremaining: 82.3ms\n",
      "76:\tlearn: 0.9367946\ttotal: 262ms\tremaining: 78.3ms\n",
      "77:\tlearn: 0.9367946\ttotal: 263ms\tremaining: 74.3ms\n",
      "78:\tlearn: 0.9367946\ttotal: 265ms\tremaining: 70.5ms\n",
      "79:\tlearn: 0.9356659\ttotal: 267ms\tremaining: 66.7ms\n",
      "80:\tlearn: 0.9356659\ttotal: 267ms\tremaining: 62.6ms\n",
      "81:\tlearn: 0.9356659\ttotal: 269ms\tremaining: 59ms\n",
      "82:\tlearn: 0.9356659\ttotal: 270ms\tremaining: 55.3ms\n",
      "83:\tlearn: 0.9356659\ttotal: 272ms\tremaining: 51.8ms\n",
      "84:\tlearn: 0.9356659\ttotal: 273ms\tremaining: 48.2ms\n",
      "85:\tlearn: 0.9345372\ttotal: 275ms\tremaining: 44.7ms\n",
      "86:\tlearn: 0.9367946\ttotal: 276ms\tremaining: 41.3ms\n",
      "87:\tlearn: 0.9367946\ttotal: 278ms\tremaining: 37.9ms\n",
      "88:\tlearn: 0.9379233\ttotal: 279ms\tremaining: 34.5ms\n",
      "89:\tlearn: 0.9379233\ttotal: 280ms\tremaining: 31.2ms\n",
      "90:\tlearn: 0.9379233\ttotal: 282ms\tremaining: 27.9ms\n",
      "91:\tlearn: 0.9367946\ttotal: 283ms\tremaining: 24.6ms\n",
      "92:\tlearn: 0.9367946\ttotal: 286ms\tremaining: 21.5ms\n",
      "93:\tlearn: 0.9367946\ttotal: 286ms\tremaining: 18.3ms\n",
      "94:\tlearn: 0.9367946\ttotal: 288ms\tremaining: 15.1ms\n",
      "95:\tlearn: 0.9367946\ttotal: 289ms\tremaining: 12ms\n",
      "96:\tlearn: 0.9367946\ttotal: 289ms\tremaining: 8.95ms\n",
      "97:\tlearn: 0.9367946\ttotal: 291ms\tremaining: 5.94ms\n",
      "98:\tlearn: 0.9367946\ttotal: 292ms\tremaining: 2.95ms\n",
      "99:\tlearn: 0.9367946\ttotal: 294ms\tremaining: 0us\n"
     ]
    },
    {
     "name": "stdout",
     "output_type": "stream",
     "text": [
      "0:\tlearn: 0.8668172\ttotal: 5.79ms\tremaining: 573ms\n",
      "1:\tlearn: 0.8758465\ttotal: 11.7ms\tremaining: 575ms\n",
      "2:\tlearn: 0.8871332\ttotal: 17.3ms\tremaining: 561ms\n",
      "3:\tlearn: 0.8848758\ttotal: 22.8ms\tremaining: 547ms\n",
      "4:\tlearn: 0.8735892\ttotal: 24.6ms\tremaining: 467ms\n",
      "5:\tlearn: 0.8747178\ttotal: 27.2ms\tremaining: 426ms\n",
      "6:\tlearn: 0.8713318\ttotal: 29.4ms\tremaining: 390ms\n",
      "7:\tlearn: 0.8792325\ttotal: 34.9ms\tremaining: 402ms\n",
      "8:\tlearn: 0.8747178\ttotal: 40.8ms\tremaining: 413ms\n",
      "9:\tlearn: 0.8758465\ttotal: 46.5ms\tremaining: 419ms\n",
      "10:\tlearn: 0.8803612\ttotal: 52.3ms\tremaining: 423ms\n",
      "11:\tlearn: 0.8803612\ttotal: 57.8ms\tremaining: 424ms\n",
      "12:\tlearn: 0.8848758\ttotal: 63.7ms\tremaining: 427ms\n",
      "13:\tlearn: 0.8814898\ttotal: 66.2ms\tremaining: 406ms\n",
      "14:\tlearn: 0.8837472\ttotal: 71.9ms\tremaining: 408ms\n",
      "15:\tlearn: 0.8871332\ttotal: 75.9ms\tremaining: 399ms\n",
      "16:\tlearn: 0.8882619\ttotal: 79.6ms\tremaining: 388ms\n",
      "17:\tlearn: 0.8893905\ttotal: 82.5ms\tremaining: 376ms\n",
      "18:\tlearn: 0.8916479\ttotal: 85.2ms\tremaining: 363ms\n",
      "19:\tlearn: 0.8893905\ttotal: 87.9ms\tremaining: 351ms\n",
      "20:\tlearn: 0.8905192\ttotal: 89.9ms\tremaining: 338ms\n",
      "21:\tlearn: 0.8916479\ttotal: 92ms\tremaining: 326ms\n",
      "22:\tlearn: 0.8927765\ttotal: 94.2ms\tremaining: 315ms\n",
      "23:\tlearn: 0.8893905\ttotal: 96.3ms\tremaining: 305ms\n",
      "24:\tlearn: 0.8939052\ttotal: 98.4ms\tremaining: 295ms\n",
      "25:\tlearn: 0.8961625\ttotal: 101ms\tremaining: 286ms\n",
      "26:\tlearn: 0.8984199\ttotal: 103ms\tremaining: 278ms\n",
      "27:\tlearn: 0.9006772\ttotal: 105ms\tremaining: 269ms\n",
      "28:\tlearn: 0.9018059\ttotal: 107ms\tremaining: 261ms\n",
      "29:\tlearn: 0.9029345\ttotal: 109ms\tremaining: 254ms\n",
      "30:\tlearn: 0.9051919\ttotal: 111ms\tremaining: 247ms\n",
      "31:\tlearn: 0.9040632\ttotal: 113ms\tremaining: 240ms\n",
      "32:\tlearn: 0.9074492\ttotal: 115ms\tremaining: 234ms\n",
      "33:\tlearn: 0.9074492\ttotal: 117ms\tremaining: 228ms\n",
      "34:\tlearn: 0.9085779\ttotal: 120ms\tremaining: 222ms\n",
      "35:\tlearn: 0.9085779\ttotal: 122ms\tremaining: 216ms\n",
      "36:\tlearn: 0.9108352\ttotal: 124ms\tremaining: 211ms\n",
      "37:\tlearn: 0.9130926\ttotal: 126ms\tremaining: 205ms\n",
      "38:\tlearn: 0.9142212\ttotal: 128ms\tremaining: 200ms\n",
      "39:\tlearn: 0.9142212\ttotal: 130ms\tremaining: 195ms\n",
      "40:\tlearn: 0.9130926\ttotal: 132ms\tremaining: 190ms\n",
      "41:\tlearn: 0.9142212\ttotal: 134ms\tremaining: 185ms\n",
      "42:\tlearn: 0.9176072\ttotal: 136ms\tremaining: 180ms\n",
      "43:\tlearn: 0.9187359\ttotal: 138ms\tremaining: 176ms\n",
      "44:\tlearn: 0.9187359\ttotal: 140ms\tremaining: 171ms\n",
      "45:\tlearn: 0.9198646\ttotal: 142ms\tremaining: 167ms\n",
      "46:\tlearn: 0.9198646\ttotal: 144ms\tremaining: 163ms\n",
      "47:\tlearn: 0.9176072\ttotal: 146ms\tremaining: 159ms\n",
      "48:\tlearn: 0.9176072\ttotal: 148ms\tremaining: 155ms\n",
      "49:\tlearn: 0.9187359\ttotal: 150ms\tremaining: 150ms\n",
      "50:\tlearn: 0.9187359\ttotal: 153ms\tremaining: 147ms\n",
      "51:\tlearn: 0.9209932\ttotal: 155ms\tremaining: 143ms\n",
      "52:\tlearn: 0.9221219\ttotal: 156ms\tremaining: 139ms\n",
      "53:\tlearn: 0.9221219\ttotal: 158ms\tremaining: 135ms\n",
      "54:\tlearn: 0.9232506\ttotal: 160ms\tremaining: 131ms\n",
      "55:\tlearn: 0.9209932\ttotal: 161ms\tremaining: 127ms\n",
      "56:\tlearn: 0.9232506\ttotal: 163ms\tremaining: 123ms\n",
      "57:\tlearn: 0.9232506\ttotal: 165ms\tremaining: 119ms\n",
      "58:\tlearn: 0.9221219\ttotal: 166ms\tremaining: 115ms\n",
      "59:\tlearn: 0.9232506\ttotal: 167ms\tremaining: 112ms\n",
      "60:\tlearn: 0.9243792\ttotal: 169ms\tremaining: 108ms\n",
      "61:\tlearn: 0.9255079\ttotal: 170ms\tremaining: 104ms\n",
      "62:\tlearn: 0.9243792\ttotal: 171ms\tremaining: 100ms\n",
      "63:\tlearn: 0.9232506\ttotal: 172ms\tremaining: 96.9ms\n",
      "64:\tlearn: 0.9243792\ttotal: 174ms\tremaining: 93.4ms\n",
      "65:\tlearn: 0.9277652\ttotal: 175ms\tremaining: 90ms\n",
      "66:\tlearn: 0.9277652\ttotal: 176ms\tremaining: 86.7ms\n",
      "67:\tlearn: 0.9266366\ttotal: 177ms\tremaining: 83.4ms\n",
      "68:\tlearn: 0.9277652\ttotal: 179ms\tremaining: 80.2ms\n",
      "69:\tlearn: 0.9300226\ttotal: 180ms\tremaining: 77ms\n",
      "70:\tlearn: 0.9311512\ttotal: 181ms\tremaining: 73.9ms\n",
      "71:\tlearn: 0.9311512\ttotal: 182ms\tremaining: 70.8ms\n",
      "72:\tlearn: 0.9311512\ttotal: 183ms\tremaining: 67.8ms\n",
      "73:\tlearn: 0.9322799\ttotal: 184ms\tremaining: 64.8ms\n",
      "74:\tlearn: 0.9322799\ttotal: 186ms\tremaining: 61.9ms\n",
      "75:\tlearn: 0.9322799\ttotal: 187ms\tremaining: 59ms\n",
      "76:\tlearn: 0.9345372\ttotal: 188ms\tremaining: 56.1ms\n",
      "77:\tlearn: 0.9345372\ttotal: 189ms\tremaining: 53.3ms\n",
      "78:\tlearn: 0.9334086\ttotal: 190ms\tremaining: 50.5ms\n",
      "79:\tlearn: 0.9345372\ttotal: 191ms\tremaining: 47.7ms\n",
      "80:\tlearn: 0.9334086\ttotal: 192ms\tremaining: 45ms\n",
      "81:\tlearn: 0.9334086\ttotal: 193ms\tremaining: 42.4ms\n",
      "82:\tlearn: 0.9345372\ttotal: 194ms\tremaining: 39.8ms\n",
      "83:\tlearn: 0.9345372\ttotal: 196ms\tremaining: 37.2ms\n",
      "84:\tlearn: 0.9345372\ttotal: 197ms\tremaining: 34.7ms\n",
      "85:\tlearn: 0.9322799\ttotal: 198ms\tremaining: 32.3ms\n",
      "86:\tlearn: 0.9322799\ttotal: 199ms\tremaining: 29.8ms\n",
      "87:\tlearn: 0.9322799\ttotal: 200ms\tremaining: 27.3ms\n",
      "88:\tlearn: 0.9322799\ttotal: 201ms\tremaining: 24.9ms\n",
      "89:\tlearn: 0.9322799\ttotal: 202ms\tremaining: 22.5ms\n",
      "90:\tlearn: 0.9322799\ttotal: 203ms\tremaining: 20.1ms\n",
      "91:\tlearn: 0.9322799\ttotal: 204ms\tremaining: 17.7ms\n",
      "92:\tlearn: 0.9322799\ttotal: 205ms\tremaining: 15.4ms\n",
      "93:\tlearn: 0.9334086\ttotal: 206ms\tremaining: 13.2ms\n",
      "94:\tlearn: 0.9345372\ttotal: 207ms\tremaining: 10.9ms\n",
      "95:\tlearn: 0.9334086\ttotal: 208ms\tremaining: 8.69ms\n",
      "96:\tlearn: 0.9334086\ttotal: 210ms\tremaining: 6.48ms\n",
      "97:\tlearn: 0.9334086\ttotal: 211ms\tremaining: 4.3ms\n",
      "98:\tlearn: 0.9334086\ttotal: 212ms\tremaining: 2.14ms\n",
      "99:\tlearn: 0.9334086\ttotal: 213ms\tremaining: 0us\n",
      "0:\tlearn: 0.8623025\ttotal: 5.92ms\tremaining: 586ms\n",
      "1:\tlearn: 0.8758465\ttotal: 12.1ms\tremaining: 594ms\n",
      "2:\tlearn: 0.8871332\ttotal: 17.9ms\tremaining: 579ms\n",
      "3:\tlearn: 0.8848758\ttotal: 23.9ms\tremaining: 573ms\n",
      "4:\tlearn: 0.8792325\ttotal: 25.7ms\tremaining: 488ms\n",
      "5:\tlearn: 0.8747178\ttotal: 28.2ms\tremaining: 442ms\n",
      "6:\tlearn: 0.8814898\ttotal: 30ms\tremaining: 398ms\n",
      "7:\tlearn: 0.8837472\ttotal: 35.7ms\tremaining: 410ms\n",
      "8:\tlearn: 0.8814898\ttotal: 41.3ms\tremaining: 417ms\n",
      "9:\tlearn: 0.8814898\ttotal: 47ms\tremaining: 423ms\n",
      "10:\tlearn: 0.8758465\ttotal: 52.8ms\tremaining: 427ms\n",
      "11:\tlearn: 0.8814898\ttotal: 58.2ms\tremaining: 427ms\n",
      "12:\tlearn: 0.8837472\ttotal: 63.5ms\tremaining: 425ms\n",
      "13:\tlearn: 0.8814898\ttotal: 66ms\tremaining: 405ms\n",
      "14:\tlearn: 0.8860045\ttotal: 71.9ms\tremaining: 408ms\n",
      "15:\tlearn: 0.8860045\ttotal: 77.8ms\tremaining: 408ms\n",
      "16:\tlearn: 0.8860045\ttotal: 83.5ms\tremaining: 408ms\n",
      "17:\tlearn: 0.8905192\ttotal: 89.4ms\tremaining: 407ms\n",
      "18:\tlearn: 0.8916479\ttotal: 95.3ms\tremaining: 406ms\n",
      "19:\tlearn: 0.8893905\ttotal: 101ms\tremaining: 404ms\n",
      "20:\tlearn: 0.8916479\ttotal: 106ms\tremaining: 400ms\n",
      "21:\tlearn: 0.8950339\ttotal: 110ms\tremaining: 390ms\n",
      "22:\tlearn: 0.8927765\ttotal: 116ms\tremaining: 387ms\n",
      "23:\tlearn: 0.8995485\ttotal: 121ms\tremaining: 384ms\n",
      "24:\tlearn: 0.8995485\ttotal: 127ms\tremaining: 381ms\n",
      "25:\tlearn: 0.8972912\ttotal: 133ms\tremaining: 378ms\n",
      "26:\tlearn: 0.9018059\ttotal: 137ms\tremaining: 370ms\n",
      "27:\tlearn: 0.9006772\ttotal: 143ms\tremaining: 367ms\n",
      "28:\tlearn: 0.9018059\ttotal: 148ms\tremaining: 362ms\n",
      "29:\tlearn: 0.9006772\ttotal: 153ms\tremaining: 358ms\n",
      "30:\tlearn: 0.9074492\ttotal: 159ms\tremaining: 354ms\n",
      "31:\tlearn: 0.9074492\ttotal: 165ms\tremaining: 350ms\n",
      "32:\tlearn: 0.9074492\ttotal: 170ms\tremaining: 345ms\n",
      "33:\tlearn: 0.9108352\ttotal: 176ms\tremaining: 341ms\n",
      "34:\tlearn: 0.9142212\ttotal: 181ms\tremaining: 337ms\n",
      "35:\tlearn: 0.9176072\ttotal: 187ms\tremaining: 333ms\n",
      "36:\tlearn: 0.9187359\ttotal: 193ms\tremaining: 328ms\n",
      "37:\tlearn: 0.9187359\ttotal: 199ms\tremaining: 325ms\n",
      "38:\tlearn: 0.9176072\ttotal: 206ms\tremaining: 322ms\n",
      "39:\tlearn: 0.9187359\ttotal: 211ms\tremaining: 317ms\n",
      "40:\tlearn: 0.9187359\ttotal: 217ms\tremaining: 313ms\n",
      "41:\tlearn: 0.9209932\ttotal: 223ms\tremaining: 308ms\n",
      "42:\tlearn: 0.9221219\ttotal: 229ms\tremaining: 304ms\n",
      "43:\tlearn: 0.9232506\ttotal: 235ms\tremaining: 300ms\n",
      "44:\tlearn: 0.9243792\ttotal: 241ms\tremaining: 295ms\n",
      "45:\tlearn: 0.9243792\ttotal: 247ms\tremaining: 290ms\n",
      "46:\tlearn: 0.9255079\ttotal: 253ms\tremaining: 285ms\n",
      "47:\tlearn: 0.9255079\ttotal: 259ms\tremaining: 280ms\n",
      "48:\tlearn: 0.9243792\ttotal: 263ms\tremaining: 274ms\n",
      "49:\tlearn: 0.9255079\ttotal: 267ms\tremaining: 267ms\n",
      "50:\tlearn: 0.9266366\ttotal: 271ms\tremaining: 260ms\n",
      "51:\tlearn: 0.9266366\ttotal: 275ms\tremaining: 254ms\n",
      "52:\tlearn: 0.9266366\ttotal: 279ms\tremaining: 247ms\n",
      "53:\tlearn: 0.9266366\ttotal: 282ms\tremaining: 240ms\n",
      "54:\tlearn: 0.9266366\ttotal: 286ms\tremaining: 234ms\n",
      "55:\tlearn: 0.9277652\ttotal: 290ms\tremaining: 228ms\n",
      "56:\tlearn: 0.9300226\ttotal: 293ms\tremaining: 221ms\n",
      "57:\tlearn: 0.9300226\ttotal: 297ms\tremaining: 215ms\n",
      "58:\tlearn: 0.9288939\ttotal: 298ms\tremaining: 207ms\n",
      "59:\tlearn: 0.9300226\ttotal: 301ms\tremaining: 201ms\n",
      "60:\tlearn: 0.9322799\ttotal: 305ms\tremaining: 195ms\n",
      "61:\tlearn: 0.9311512\ttotal: 309ms\tremaining: 189ms\n",
      "62:\tlearn: 0.9300226\ttotal: 312ms\tremaining: 183ms\n",
      "63:\tlearn: 0.9322799\ttotal: 316ms\tremaining: 178ms\n",
      "64:\tlearn: 0.9345372\ttotal: 319ms\tremaining: 172ms\n",
      "65:\tlearn: 0.9345372\ttotal: 323ms\tremaining: 166ms\n",
      "66:\tlearn: 0.9356659\ttotal: 326ms\tremaining: 161ms\n",
      "67:\tlearn: 0.9356659\ttotal: 330ms\tremaining: 155ms\n",
      "68:\tlearn: 0.9345372\ttotal: 333ms\tremaining: 150ms\n",
      "69:\tlearn: 0.9345372\ttotal: 337ms\tremaining: 144ms\n",
      "70:\tlearn: 0.9345372\ttotal: 341ms\tremaining: 139ms\n",
      "71:\tlearn: 0.9345372\ttotal: 344ms\tremaining: 134ms\n",
      "72:\tlearn: 0.9345372\ttotal: 348ms\tremaining: 129ms\n",
      "73:\tlearn: 0.9345372\ttotal: 351ms\tremaining: 123ms\n",
      "74:\tlearn: 0.9345372\ttotal: 355ms\tremaining: 118ms\n",
      "75:\tlearn: 0.9322799\ttotal: 358ms\tremaining: 113ms\n",
      "76:\tlearn: 0.9334086\ttotal: 361ms\tremaining: 108ms\n",
      "77:\tlearn: 0.9345372\ttotal: 364ms\tremaining: 103ms\n",
      "78:\tlearn: 0.9345372\ttotal: 367ms\tremaining: 97.5ms\n",
      "79:\tlearn: 0.9356659\ttotal: 369ms\tremaining: 92.2ms\n",
      "80:\tlearn: 0.9356659\ttotal: 371ms\tremaining: 87ms\n",
      "81:\tlearn: 0.9356659\ttotal: 373ms\tremaining: 81.9ms\n",
      "82:\tlearn: 0.9356659\ttotal: 374ms\tremaining: 76.7ms\n",
      "83:\tlearn: 0.9356659\ttotal: 377ms\tremaining: 71.7ms\n",
      "84:\tlearn: 0.9356659\ttotal: 378ms\tremaining: 66.8ms\n",
      "85:\tlearn: 0.9356659\ttotal: 379ms\tremaining: 61.7ms\n",
      "86:\tlearn: 0.9356659\ttotal: 381ms\tremaining: 56.9ms\n",
      "87:\tlearn: 0.9356659\ttotal: 382ms\tremaining: 52.2ms\n",
      "88:\tlearn: 0.9356659\ttotal: 384ms\tremaining: 47.5ms\n",
      "89:\tlearn: 0.9356659\ttotal: 386ms\tremaining: 42.8ms\n",
      "90:\tlearn: 0.9356659\ttotal: 387ms\tremaining: 38.3ms\n",
      "91:\tlearn: 0.9356659\ttotal: 388ms\tremaining: 33.7ms\n"
     ]
    },
    {
     "name": "stdout",
     "output_type": "stream",
     "text": [
      "92:\tlearn: 0.9356659\ttotal: 389ms\tremaining: 29.3ms\n",
      "93:\tlearn: 0.9356659\ttotal: 391ms\tremaining: 25ms\n",
      "94:\tlearn: 0.9356659\ttotal: 393ms\tremaining: 20.7ms\n",
      "95:\tlearn: 0.9356659\ttotal: 394ms\tremaining: 16.4ms\n",
      "96:\tlearn: 0.9367946\ttotal: 395ms\tremaining: 12.2ms\n",
      "97:\tlearn: 0.9367946\ttotal: 397ms\tremaining: 8.1ms\n",
      "98:\tlearn: 0.9367946\ttotal: 398ms\tremaining: 4.02ms\n",
      "99:\tlearn: 0.9367946\ttotal: 400ms\tremaining: 0us\n",
      "0:\tlearn: 0.8713318\ttotal: 5.67ms\tremaining: 561ms\n",
      "1:\tlearn: 0.8814898\ttotal: 11.6ms\tremaining: 570ms\n",
      "2:\tlearn: 0.8893905\ttotal: 17.4ms\tremaining: 562ms\n",
      "3:\tlearn: 0.8927765\ttotal: 23ms\tremaining: 551ms\n",
      "4:\tlearn: 0.8803612\ttotal: 24.9ms\tremaining: 473ms\n",
      "5:\tlearn: 0.8837472\ttotal: 31.1ms\tremaining: 488ms\n",
      "6:\tlearn: 0.8972912\ttotal: 37ms\tremaining: 491ms\n",
      "7:\tlearn: 0.8995485\ttotal: 43.2ms\tremaining: 497ms\n",
      "8:\tlearn: 0.9018059\ttotal: 48.8ms\tremaining: 494ms\n",
      "9:\tlearn: 0.9006772\ttotal: 55ms\tremaining: 495ms\n",
      "10:\tlearn: 0.8984199\ttotal: 60.9ms\tremaining: 493ms\n",
      "11:\tlearn: 0.9029345\ttotal: 66.6ms\tremaining: 489ms\n",
      "12:\tlearn: 0.9051919\ttotal: 72ms\tremaining: 482ms\n",
      "13:\tlearn: 0.9018059\ttotal: 78.2ms\tremaining: 480ms\n",
      "14:\tlearn: 0.9040632\ttotal: 83.9ms\tremaining: 476ms\n",
      "15:\tlearn: 0.9040632\ttotal: 89.5ms\tremaining: 470ms\n",
      "16:\tlearn: 0.9051919\ttotal: 95.3ms\tremaining: 465ms\n",
      "17:\tlearn: 0.9085779\ttotal: 101ms\tremaining: 461ms\n",
      "18:\tlearn: 0.9051919\ttotal: 103ms\tremaining: 441ms\n",
      "19:\tlearn: 0.9085779\ttotal: 109ms\tremaining: 436ms\n",
      "20:\tlearn: 0.9051919\ttotal: 115ms\tremaining: 432ms\n",
      "21:\tlearn: 0.9085779\ttotal: 120ms\tremaining: 426ms\n",
      "22:\tlearn: 0.9097065\ttotal: 127ms\tremaining: 425ms\n",
      "23:\tlearn: 0.9130926\ttotal: 133ms\tremaining: 420ms\n",
      "24:\tlearn: 0.9142212\ttotal: 138ms\tremaining: 414ms\n",
      "25:\tlearn: 0.9142212\ttotal: 145ms\tremaining: 411ms\n",
      "26:\tlearn: 0.9130926\ttotal: 146ms\tremaining: 395ms\n",
      "27:\tlearn: 0.9130926\ttotal: 152ms\tremaining: 390ms\n",
      "28:\tlearn: 0.9142212\ttotal: 158ms\tremaining: 387ms\n",
      "29:\tlearn: 0.9153499\ttotal: 165ms\tremaining: 384ms\n",
      "30:\tlearn: 0.9176072\ttotal: 169ms\tremaining: 376ms\n",
      "31:\tlearn: 0.9187359\ttotal: 176ms\tremaining: 374ms\n",
      "32:\tlearn: 0.9198646\ttotal: 182ms\tremaining: 369ms\n",
      "33:\tlearn: 0.9198646\ttotal: 187ms\tremaining: 364ms\n",
      "34:\tlearn: 0.9209932\ttotal: 191ms\tremaining: 355ms\n",
      "35:\tlearn: 0.9221219\ttotal: 196ms\tremaining: 349ms\n",
      "36:\tlearn: 0.9221219\ttotal: 200ms\tremaining: 340ms\n",
      "37:\tlearn: 0.9243792\ttotal: 203ms\tremaining: 331ms\n",
      "38:\tlearn: 0.9255079\ttotal: 207ms\tremaining: 324ms\n",
      "39:\tlearn: 0.9255079\ttotal: 210ms\tremaining: 315ms\n",
      "40:\tlearn: 0.9255079\ttotal: 212ms\tremaining: 305ms\n",
      "41:\tlearn: 0.9255079\ttotal: 214ms\tremaining: 295ms\n",
      "42:\tlearn: 0.9255079\ttotal: 215ms\tremaining: 285ms\n",
      "43:\tlearn: 0.9255079\ttotal: 217ms\tremaining: 276ms\n",
      "44:\tlearn: 0.9255079\ttotal: 219ms\tremaining: 267ms\n",
      "45:\tlearn: 0.9255079\ttotal: 220ms\tremaining: 259ms\n",
      "46:\tlearn: 0.9255079\ttotal: 222ms\tremaining: 250ms\n",
      "47:\tlearn: 0.9255079\ttotal: 225ms\tremaining: 243ms\n",
      "48:\tlearn: 0.9255079\ttotal: 227ms\tremaining: 236ms\n",
      "49:\tlearn: 0.9255079\ttotal: 229ms\tremaining: 229ms\n",
      "50:\tlearn: 0.9255079\ttotal: 232ms\tremaining: 223ms\n",
      "51:\tlearn: 0.9255079\ttotal: 235ms\tremaining: 217ms\n",
      "52:\tlearn: 0.9266366\ttotal: 244ms\tremaining: 217ms\n",
      "53:\tlearn: 0.9266366\ttotal: 246ms\tremaining: 210ms\n",
      "54:\tlearn: 0.9266366\ttotal: 248ms\tremaining: 203ms\n",
      "55:\tlearn: 0.9266366\ttotal: 250ms\tremaining: 196ms\n",
      "56:\tlearn: 0.9277652\ttotal: 251ms\tremaining: 190ms\n",
      "57:\tlearn: 0.9300226\ttotal: 253ms\tremaining: 183ms\n",
      "58:\tlearn: 0.9288939\ttotal: 255ms\tremaining: 177ms\n",
      "59:\tlearn: 0.9288939\ttotal: 257ms\tremaining: 171ms\n",
      "60:\tlearn: 0.9288939\ttotal: 258ms\tremaining: 165ms\n",
      "61:\tlearn: 0.9300226\ttotal: 260ms\tremaining: 159ms\n",
      "62:\tlearn: 0.9288939\ttotal: 261ms\tremaining: 153ms\n",
      "63:\tlearn: 0.9311512\ttotal: 263ms\tremaining: 148ms\n",
      "64:\tlearn: 0.9300226\ttotal: 264ms\tremaining: 142ms\n",
      "65:\tlearn: 0.9300226\ttotal: 266ms\tremaining: 137ms\n",
      "66:\tlearn: 0.9300226\ttotal: 267ms\tremaining: 132ms\n",
      "67:\tlearn: 0.9300226\ttotal: 269ms\tremaining: 126ms\n",
      "68:\tlearn: 0.9300226\ttotal: 270ms\tremaining: 121ms\n",
      "69:\tlearn: 0.9311512\ttotal: 271ms\tremaining: 116ms\n",
      "70:\tlearn: 0.9311512\ttotal: 273ms\tremaining: 111ms\n",
      "71:\tlearn: 0.9311512\ttotal: 274ms\tremaining: 107ms\n",
      "72:\tlearn: 0.9311512\ttotal: 275ms\tremaining: 102ms\n",
      "73:\tlearn: 0.9311512\ttotal: 277ms\tremaining: 97.2ms\n",
      "74:\tlearn: 0.9311512\ttotal: 278ms\tremaining: 92.6ms\n",
      "75:\tlearn: 0.9311512\ttotal: 279ms\tremaining: 88.2ms\n",
      "76:\tlearn: 0.9311512\ttotal: 280ms\tremaining: 83.8ms\n",
      "77:\tlearn: 0.9311512\ttotal: 282ms\tremaining: 79.5ms\n",
      "78:\tlearn: 0.9311512\ttotal: 283ms\tremaining: 75.2ms\n",
      "79:\tlearn: 0.9311512\ttotal: 284ms\tremaining: 71.1ms\n",
      "80:\tlearn: 0.9311512\ttotal: 285ms\tremaining: 67ms\n",
      "81:\tlearn: 0.9322799\ttotal: 287ms\tremaining: 62.9ms\n",
      "82:\tlearn: 0.9322799\ttotal: 288ms\tremaining: 58.9ms\n",
      "83:\tlearn: 0.9334086\ttotal: 289ms\tremaining: 55ms\n",
      "84:\tlearn: 0.9334086\ttotal: 290ms\tremaining: 51.2ms\n",
      "85:\tlearn: 0.9334086\ttotal: 291ms\tremaining: 47.4ms\n",
      "86:\tlearn: 0.9334086\ttotal: 292ms\tremaining: 43.6ms\n",
      "87:\tlearn: 0.9334086\ttotal: 293ms\tremaining: 40ms\n",
      "88:\tlearn: 0.9334086\ttotal: 294ms\tremaining: 36.3ms\n",
      "89:\tlearn: 0.9334086\ttotal: 295ms\tremaining: 32.8ms\n",
      "90:\tlearn: 0.9334086\ttotal: 296ms\tremaining: 29.3ms\n",
      "91:\tlearn: 0.9334086\ttotal: 296ms\tremaining: 25.8ms\n",
      "92:\tlearn: 0.9334086\ttotal: 297ms\tremaining: 22.4ms\n",
      "93:\tlearn: 0.9334086\ttotal: 298ms\tremaining: 19.1ms\n",
      "94:\tlearn: 0.9345372\ttotal: 300ms\tremaining: 15.8ms\n",
      "95:\tlearn: 0.9345372\ttotal: 301ms\tremaining: 12.5ms\n",
      "96:\tlearn: 0.9345372\ttotal: 302ms\tremaining: 9.33ms\n",
      "97:\tlearn: 0.9345372\ttotal: 303ms\tremaining: 6.18ms\n",
      "98:\tlearn: 0.9345372\ttotal: 304ms\tremaining: 3.07ms\n",
      "99:\tlearn: 0.9356659\ttotal: 305ms\tremaining: 0us\n",
      "0:\tlearn: 0.8658399\ttotal: 6.86ms\tremaining: 679ms\n",
      "1:\tlearn: 0.8748591\ttotal: 14.3ms\tremaining: 700ms\n",
      "2:\tlearn: 0.8883878\ttotal: 22.7ms\tremaining: 733ms\n",
      "3:\tlearn: 0.8917700\ttotal: 30.8ms\tremaining: 740ms\n",
      "4:\tlearn: 0.8669673\ttotal: 32.9ms\tremaining: 625ms\n",
      "5:\tlearn: 0.8838782\ttotal: 39.2ms\tremaining: 614ms\n",
      "6:\tlearn: 0.8895152\ttotal: 45.5ms\tremaining: 604ms\n",
      "7:\tlearn: 0.8883878\ttotal: 52.1ms\tremaining: 599ms\n",
      "8:\tlearn: 0.8895152\ttotal: 58ms\tremaining: 586ms\n",
      "9:\tlearn: 0.8951522\ttotal: 63.7ms\tremaining: 573ms\n",
      "10:\tlearn: 0.8928974\ttotal: 69.3ms\tremaining: 561ms\n",
      "11:\tlearn: 0.8928974\ttotal: 73.1ms\tremaining: 536ms\n",
      "12:\tlearn: 0.9007892\ttotal: 76.8ms\tremaining: 514ms\n",
      "13:\tlearn: 0.8996618\ttotal: 79.7ms\tremaining: 490ms\n",
      "14:\tlearn: 0.9007892\ttotal: 82.6ms\tremaining: 468ms\n",
      "15:\tlearn: 0.9064262\ttotal: 87.2ms\tremaining: 458ms\n",
      "16:\tlearn: 0.9098083\ttotal: 89.5ms\tremaining: 437ms\n",
      "17:\tlearn: 0.9064262\ttotal: 91.7ms\tremaining: 418ms\n",
      "18:\tlearn: 0.9064262\ttotal: 92.4ms\tremaining: 394ms\n",
      "19:\tlearn: 0.9075536\ttotal: 94.3ms\tremaining: 377ms\n",
      "20:\tlearn: 0.9075536\ttotal: 96.1ms\tremaining: 361ms\n",
      "21:\tlearn: 0.9086809\ttotal: 97.9ms\tremaining: 347ms\n",
      "22:\tlearn: 0.9075536\ttotal: 99.6ms\tremaining: 333ms\n",
      "23:\tlearn: 0.9109357\ttotal: 100ms\tremaining: 317ms\n",
      "24:\tlearn: 0.9098083\ttotal: 102ms\tremaining: 306ms\n",
      "25:\tlearn: 0.9098083\ttotal: 104ms\tremaining: 295ms\n",
      "26:\tlearn: 0.9086809\ttotal: 105ms\tremaining: 285ms\n",
      "27:\tlearn: 0.9075536\ttotal: 107ms\tremaining: 276ms\n",
      "28:\tlearn: 0.9086809\ttotal: 109ms\tremaining: 267ms\n",
      "29:\tlearn: 0.9086809\ttotal: 111ms\tremaining: 258ms\n",
      "30:\tlearn: 0.9086809\ttotal: 112ms\tremaining: 250ms\n",
      "31:\tlearn: 0.9109357\ttotal: 114ms\tremaining: 243ms\n",
      "32:\tlearn: 0.9120631\ttotal: 116ms\tremaining: 235ms\n",
      "33:\tlearn: 0.9109357\ttotal: 118ms\tremaining: 229ms\n",
      "34:\tlearn: 0.9143179\ttotal: 120ms\tremaining: 222ms\n",
      "35:\tlearn: 0.9143179\ttotal: 122ms\tremaining: 216ms\n",
      "36:\tlearn: 0.9131905\ttotal: 123ms\tremaining: 210ms\n",
      "37:\tlearn: 0.9154453\ttotal: 125ms\tremaining: 204ms\n",
      "38:\tlearn: 0.9143179\ttotal: 127ms\tremaining: 198ms\n",
      "39:\tlearn: 0.9143179\ttotal: 128ms\tremaining: 193ms\n",
      "40:\tlearn: 0.9143179\ttotal: 130ms\tremaining: 187ms\n",
      "41:\tlearn: 0.9165727\ttotal: 132ms\tremaining: 182ms\n",
      "42:\tlearn: 0.9177001\ttotal: 133ms\tremaining: 177ms\n",
      "43:\tlearn: 0.9188275\ttotal: 135ms\tremaining: 172ms\n",
      "44:\tlearn: 0.9210823\ttotal: 137ms\tremaining: 167ms\n",
      "45:\tlearn: 0.9210823\ttotal: 139ms\tremaining: 163ms\n",
      "46:\tlearn: 0.9210823\ttotal: 140ms\tremaining: 158ms\n",
      "47:\tlearn: 0.9210823\ttotal: 142ms\tremaining: 154ms\n",
      "48:\tlearn: 0.9222097\ttotal: 144ms\tremaining: 150ms\n",
      "49:\tlearn: 0.9222097\ttotal: 146ms\tremaining: 146ms\n",
      "50:\tlearn: 0.9222097\ttotal: 147ms\tremaining: 142ms\n",
      "51:\tlearn: 0.9233371\ttotal: 149ms\tremaining: 138ms\n",
      "52:\tlearn: 0.9233371\ttotal: 151ms\tremaining: 134ms\n",
      "53:\tlearn: 0.9222097\ttotal: 153ms\tremaining: 130ms\n",
      "54:\tlearn: 0.9233371\ttotal: 155ms\tremaining: 127ms\n",
      "55:\tlearn: 0.9233371\ttotal: 157ms\tremaining: 123ms\n",
      "56:\tlearn: 0.9244645\ttotal: 158ms\tremaining: 119ms\n",
      "57:\tlearn: 0.9244645\ttotal: 160ms\tremaining: 116ms\n",
      "58:\tlearn: 0.9244645\ttotal: 162ms\tremaining: 112ms\n",
      "59:\tlearn: 0.9244645\ttotal: 163ms\tremaining: 109ms\n",
      "60:\tlearn: 0.9255919\ttotal: 165ms\tremaining: 106ms\n",
      "61:\tlearn: 0.9244645\ttotal: 167ms\tremaining: 103ms\n",
      "62:\tlearn: 0.9267193\ttotal: 168ms\tremaining: 98.6ms\n",
      "63:\tlearn: 0.9267193\ttotal: 170ms\tremaining: 95.5ms\n",
      "64:\tlearn: 0.9255919\ttotal: 171ms\tremaining: 92.3ms\n",
      "65:\tlearn: 0.9255919\ttotal: 173ms\tremaining: 89.1ms\n",
      "66:\tlearn: 0.9267193\ttotal: 175ms\tremaining: 86ms\n",
      "67:\tlearn: 0.9278467\ttotal: 176ms\tremaining: 83ms\n",
      "68:\tlearn: 0.9278467\ttotal: 178ms\tremaining: 80ms\n",
      "69:\tlearn: 0.9267193\ttotal: 180ms\tremaining: 77ms\n",
      "70:\tlearn: 0.9267193\ttotal: 181ms\tremaining: 74.1ms\n",
      "71:\tlearn: 0.9267193\ttotal: 184ms\tremaining: 71.4ms\n",
      "72:\tlearn: 0.9289741\ttotal: 185ms\tremaining: 68.6ms\n",
      "73:\tlearn: 0.9301015\ttotal: 187ms\tremaining: 65.8ms\n",
      "74:\tlearn: 0.9301015\ttotal: 189ms\tremaining: 63ms\n",
      "75:\tlearn: 0.9334837\ttotal: 191ms\tremaining: 60.2ms\n",
      "76:\tlearn: 0.9323563\ttotal: 192ms\tremaining: 57.5ms\n",
      "77:\tlearn: 0.9323563\ttotal: 194ms\tremaining: 54.6ms\n",
      "78:\tlearn: 0.9312289\ttotal: 195ms\tremaining: 52ms\n"
     ]
    },
    {
     "name": "stdout",
     "output_type": "stream",
     "text": [
      "79:\tlearn: 0.9312289\ttotal: 198ms\tremaining: 49.5ms\n",
      "80:\tlearn: 0.9312289\ttotal: 199ms\tremaining: 46.8ms\n",
      "81:\tlearn: 0.9312289\ttotal: 201ms\tremaining: 44.1ms\n",
      "82:\tlearn: 0.9312289\ttotal: 203ms\tremaining: 41.5ms\n",
      "83:\tlearn: 0.9312289\ttotal: 204ms\tremaining: 38.8ms\n",
      "84:\tlearn: 0.9312289\ttotal: 205ms\tremaining: 36.2ms\n",
      "85:\tlearn: 0.9312289\ttotal: 207ms\tremaining: 33.7ms\n",
      "86:\tlearn: 0.9323563\ttotal: 209ms\tremaining: 31.2ms\n",
      "87:\tlearn: 0.9323563\ttotal: 210ms\tremaining: 28.7ms\n",
      "88:\tlearn: 0.9334837\ttotal: 212ms\tremaining: 26.2ms\n",
      "89:\tlearn: 0.9334837\ttotal: 213ms\tremaining: 23.7ms\n",
      "90:\tlearn: 0.9334837\ttotal: 215ms\tremaining: 21.3ms\n",
      "91:\tlearn: 0.9334837\ttotal: 217ms\tremaining: 18.9ms\n",
      "92:\tlearn: 0.9334837\ttotal: 219ms\tremaining: 16.5ms\n",
      "93:\tlearn: 0.9334837\ttotal: 221ms\tremaining: 14.1ms\n",
      "94:\tlearn: 0.9334837\ttotal: 222ms\tremaining: 11.7ms\n",
      "95:\tlearn: 0.9334837\ttotal: 224ms\tremaining: 9.32ms\n",
      "96:\tlearn: 0.9334837\ttotal: 226ms\tremaining: 6.98ms\n",
      "97:\tlearn: 0.9334837\ttotal: 227ms\tremaining: 4.63ms\n",
      "98:\tlearn: 0.9334837\ttotal: 229ms\tremaining: 2.31ms\n",
      "99:\tlearn: 0.9334837\ttotal: 230ms\tremaining: 0us\n",
      "0:\tlearn: 0.8680947\ttotal: 2.02ms\tremaining: 200ms\n",
      "1:\tlearn: 0.8737317\ttotal: 4.3ms\tremaining: 211ms\n",
      "2:\tlearn: 0.8782413\ttotal: 6.57ms\tremaining: 212ms\n",
      "3:\tlearn: 0.8850056\ttotal: 8.48ms\tremaining: 203ms\n",
      "4:\tlearn: 0.8703495\ttotal: 9.15ms\tremaining: 174ms\n",
      "5:\tlearn: 0.8782413\ttotal: 11.2ms\tremaining: 176ms\n",
      "6:\tlearn: 0.8737317\ttotal: 13.5ms\tremaining: 180ms\n",
      "7:\tlearn: 0.8782413\ttotal: 15.4ms\tremaining: 177ms\n",
      "8:\tlearn: 0.8782413\ttotal: 17.4ms\tremaining: 176ms\n",
      "9:\tlearn: 0.8872604\ttotal: 19.2ms\tremaining: 173ms\n",
      "10:\tlearn: 0.8793687\ttotal: 21.5ms\tremaining: 174ms\n",
      "11:\tlearn: 0.8895152\ttotal: 23.3ms\tremaining: 171ms\n",
      "12:\tlearn: 0.8940248\ttotal: 25.4ms\tremaining: 170ms\n",
      "13:\tlearn: 0.8985344\ttotal: 27.7ms\tremaining: 170ms\n",
      "14:\tlearn: 0.8962796\ttotal: 29.5ms\tremaining: 167ms\n",
      "15:\tlearn: 0.8985344\ttotal: 31.3ms\tremaining: 164ms\n",
      "16:\tlearn: 0.8985344\ttotal: 33ms\tremaining: 161ms\n",
      "17:\tlearn: 0.8996618\ttotal: 34.6ms\tremaining: 158ms\n",
      "18:\tlearn: 0.8951522\ttotal: 35.2ms\tremaining: 150ms\n",
      "19:\tlearn: 0.9007892\ttotal: 37.2ms\tremaining: 149ms\n",
      "20:\tlearn: 0.8996618\ttotal: 39ms\tremaining: 147ms\n",
      "21:\tlearn: 0.9030440\ttotal: 41.4ms\tremaining: 147ms\n",
      "22:\tlearn: 0.9041714\ttotal: 43.8ms\tremaining: 146ms\n",
      "23:\tlearn: 0.9052988\ttotal: 45.5ms\tremaining: 144ms\n",
      "24:\tlearn: 0.9052988\ttotal: 47.1ms\tremaining: 141ms\n",
      "25:\tlearn: 0.9098083\ttotal: 48.7ms\tremaining: 139ms\n",
      "26:\tlearn: 0.9052988\ttotal: 49.1ms\tremaining: 133ms\n",
      "27:\tlearn: 0.9075536\ttotal: 51ms\tremaining: 131ms\n",
      "28:\tlearn: 0.9052988\ttotal: 53.2ms\tremaining: 130ms\n",
      "29:\tlearn: 0.9064262\ttotal: 55.1ms\tremaining: 129ms\n",
      "30:\tlearn: 0.9086809\ttotal: 56.1ms\tremaining: 125ms\n",
      "31:\tlearn: 0.9098083\ttotal: 58ms\tremaining: 123ms\n",
      "32:\tlearn: 0.9098083\ttotal: 59.8ms\tremaining: 122ms\n",
      "33:\tlearn: 0.9109357\ttotal: 61.4ms\tremaining: 119ms\n",
      "34:\tlearn: 0.9120631\ttotal: 63.2ms\tremaining: 117ms\n",
      "35:\tlearn: 0.9131905\ttotal: 64.8ms\tremaining: 115ms\n",
      "36:\tlearn: 0.9143179\ttotal: 66.3ms\tremaining: 113ms\n",
      "37:\tlearn: 0.9143179\ttotal: 68.3ms\tremaining: 111ms\n",
      "38:\tlearn: 0.9165727\ttotal: 70.3ms\tremaining: 110ms\n",
      "39:\tlearn: 0.9188275\ttotal: 72.3ms\tremaining: 108ms\n",
      "40:\tlearn: 0.9188275\ttotal: 74.2ms\tremaining: 107ms\n",
      "41:\tlearn: 0.9199549\ttotal: 76ms\tremaining: 105ms\n",
      "42:\tlearn: 0.9199549\ttotal: 77.5ms\tremaining: 103ms\n",
      "43:\tlearn: 0.9199549\ttotal: 79ms\tremaining: 101ms\n",
      "44:\tlearn: 0.9199549\ttotal: 80.7ms\tremaining: 98.6ms\n",
      "45:\tlearn: 0.9222097\ttotal: 82.5ms\tremaining: 96.9ms\n",
      "46:\tlearn: 0.9199549\ttotal: 84.2ms\tremaining: 95ms\n",
      "47:\tlearn: 0.9222097\ttotal: 88.1ms\tremaining: 95.5ms\n",
      "48:\tlearn: 0.9244645\ttotal: 90.1ms\tremaining: 93.8ms\n",
      "49:\tlearn: 0.9244645\ttotal: 91.6ms\tremaining: 91.6ms\n",
      "50:\tlearn: 0.9267193\ttotal: 93.2ms\tremaining: 89.5ms\n",
      "51:\tlearn: 0.9267193\ttotal: 94.9ms\tremaining: 87.6ms\n",
      "52:\tlearn: 0.9278467\ttotal: 96.6ms\tremaining: 85.6ms\n",
      "53:\tlearn: 0.9289741\ttotal: 98.2ms\tremaining: 83.6ms\n",
      "54:\tlearn: 0.9289741\ttotal: 100ms\tremaining: 82.2ms\n",
      "55:\tlearn: 0.9289741\ttotal: 102ms\tremaining: 80.3ms\n",
      "56:\tlearn: 0.9289741\ttotal: 104ms\tremaining: 78.4ms\n",
      "57:\tlearn: 0.9289741\ttotal: 106ms\tremaining: 76.5ms\n",
      "58:\tlearn: 0.9289741\ttotal: 107ms\tremaining: 74.4ms\n",
      "59:\tlearn: 0.9301015\ttotal: 109ms\tremaining: 72.6ms\n",
      "60:\tlearn: 0.9312289\ttotal: 111ms\tremaining: 70.8ms\n",
      "61:\tlearn: 0.9323563\ttotal: 112ms\tremaining: 68.7ms\n",
      "62:\tlearn: 0.9301015\ttotal: 114ms\tremaining: 66.7ms\n",
      "63:\tlearn: 0.9323563\ttotal: 115ms\tremaining: 64.8ms\n",
      "64:\tlearn: 0.9323563\ttotal: 118ms\tremaining: 63.4ms\n",
      "65:\tlearn: 0.9334837\ttotal: 120ms\tremaining: 61.6ms\n",
      "66:\tlearn: 0.9346110\ttotal: 121ms\tremaining: 59.8ms\n",
      "67:\tlearn: 0.9357384\ttotal: 123ms\tremaining: 57.9ms\n",
      "68:\tlearn: 0.9357384\ttotal: 125ms\tremaining: 56ms\n",
      "69:\tlearn: 0.9368658\ttotal: 126ms\tremaining: 54ms\n",
      "70:\tlearn: 0.9357384\ttotal: 127ms\tremaining: 52ms\n",
      "71:\tlearn: 0.9357384\ttotal: 129ms\tremaining: 50.2ms\n",
      "72:\tlearn: 0.9357384\ttotal: 131ms\tremaining: 48.3ms\n",
      "73:\tlearn: 0.9357384\ttotal: 132ms\tremaining: 46.5ms\n",
      "74:\tlearn: 0.9357384\ttotal: 134ms\tremaining: 44.6ms\n",
      "75:\tlearn: 0.9357384\ttotal: 136ms\tremaining: 42.9ms\n",
      "76:\tlearn: 0.9368658\ttotal: 137ms\tremaining: 41ms\n",
      "77:\tlearn: 0.9368658\ttotal: 139ms\tremaining: 39.2ms\n",
      "78:\tlearn: 0.9368658\ttotal: 141ms\tremaining: 37.4ms\n",
      "79:\tlearn: 0.9368658\ttotal: 142ms\tremaining: 35.4ms\n",
      "80:\tlearn: 0.9357384\ttotal: 143ms\tremaining: 33.6ms\n",
      "81:\tlearn: 0.9357384\ttotal: 145ms\tremaining: 31.8ms\n",
      "82:\tlearn: 0.9357384\ttotal: 146ms\tremaining: 29.9ms\n",
      "83:\tlearn: 0.9357384\ttotal: 148ms\tremaining: 28.1ms\n",
      "84:\tlearn: 0.9357384\ttotal: 149ms\tremaining: 26.3ms\n",
      "85:\tlearn: 0.9368658\ttotal: 151ms\tremaining: 24.5ms\n",
      "86:\tlearn: 0.9379932\ttotal: 152ms\tremaining: 22.7ms\n",
      "87:\tlearn: 0.9379932\ttotal: 153ms\tremaining: 20.9ms\n",
      "88:\tlearn: 0.9379932\ttotal: 155ms\tremaining: 19.1ms\n",
      "89:\tlearn: 0.9379932\ttotal: 156ms\tremaining: 17.3ms\n",
      "90:\tlearn: 0.9368658\ttotal: 157ms\tremaining: 15.5ms\n",
      "91:\tlearn: 0.9368658\ttotal: 158ms\tremaining: 13.8ms\n",
      "92:\tlearn: 0.9368658\ttotal: 160ms\tremaining: 12ms\n",
      "93:\tlearn: 0.9368658\ttotal: 162ms\tremaining: 10.3ms\n",
      "94:\tlearn: 0.9368658\ttotal: 163ms\tremaining: 8.6ms\n",
      "95:\tlearn: 0.9368658\ttotal: 165ms\tremaining: 6.87ms\n",
      "96:\tlearn: 0.9379932\ttotal: 166ms\tremaining: 5.15ms\n",
      "97:\tlearn: 0.9368658\ttotal: 168ms\tremaining: 3.42ms\n",
      "98:\tlearn: 0.9379932\ttotal: 169ms\tremaining: 1.71ms\n",
      "99:\tlearn: 0.9368658\ttotal: 170ms\tremaining: 0us\n",
      "0:\tlearn: 0.8692221\ttotal: 2.11ms\tremaining: 209ms\n",
      "1:\tlearn: 0.8726043\ttotal: 4.22ms\tremaining: 207ms\n",
      "2:\tlearn: 0.8872604\ttotal: 6.16ms\tremaining: 199ms\n",
      "3:\tlearn: 0.8906426\ttotal: 8.19ms\tremaining: 197ms\n",
      "4:\tlearn: 0.8703495\ttotal: 8.8ms\tremaining: 167ms\n",
      "5:\tlearn: 0.8816234\ttotal: 10.7ms\tremaining: 167ms\n",
      "6:\tlearn: 0.8838782\ttotal: 12.9ms\tremaining: 172ms\n",
      "7:\tlearn: 0.8883878\ttotal: 14.8ms\tremaining: 171ms\n",
      "8:\tlearn: 0.8951522\ttotal: 17ms\tremaining: 172ms\n",
      "9:\tlearn: 0.8962796\ttotal: 18.6ms\tremaining: 168ms\n",
      "10:\tlearn: 0.8962796\ttotal: 20.4ms\tremaining: 165ms\n",
      "11:\tlearn: 0.8974070\ttotal: 22.1ms\tremaining: 162ms\n",
      "12:\tlearn: 0.9019166\ttotal: 23.7ms\tremaining: 159ms\n",
      "13:\tlearn: 0.8996618\ttotal: 25.4ms\tremaining: 156ms\n",
      "14:\tlearn: 0.9007892\ttotal: 27.1ms\tremaining: 154ms\n",
      "15:\tlearn: 0.9041714\ttotal: 28.6ms\tremaining: 150ms\n",
      "16:\tlearn: 0.9052988\ttotal: 30.1ms\tremaining: 147ms\n",
      "17:\tlearn: 0.9052988\ttotal: 31.6ms\tremaining: 144ms\n",
      "18:\tlearn: 0.9019166\ttotal: 32.1ms\tremaining: 137ms\n",
      "19:\tlearn: 0.9052988\ttotal: 33.5ms\tremaining: 134ms\n",
      "20:\tlearn: 0.9052988\ttotal: 34.8ms\tremaining: 131ms\n",
      "21:\tlearn: 0.9052988\ttotal: 36.1ms\tremaining: 128ms\n",
      "22:\tlearn: 0.9064262\ttotal: 37.6ms\tremaining: 126ms\n",
      "23:\tlearn: 0.9075536\ttotal: 38ms\tremaining: 120ms\n",
      "24:\tlearn: 0.9086809\ttotal: 39.5ms\tremaining: 118ms\n",
      "25:\tlearn: 0.9098083\ttotal: 40.9ms\tremaining: 116ms\n",
      "26:\tlearn: 0.9098083\ttotal: 42.3ms\tremaining: 114ms\n",
      "27:\tlearn: 0.9098083\ttotal: 43.9ms\tremaining: 113ms\n",
      "28:\tlearn: 0.9109357\ttotal: 45.4ms\tremaining: 111ms\n",
      "29:\tlearn: 0.9131905\ttotal: 46.8ms\tremaining: 109ms\n",
      "30:\tlearn: 0.9154453\ttotal: 48ms\tremaining: 107ms\n",
      "31:\tlearn: 0.9131905\ttotal: 49.3ms\tremaining: 105ms\n",
      "32:\tlearn: 0.9154453\ttotal: 50.6ms\tremaining: 103ms\n",
      "33:\tlearn: 0.9143179\ttotal: 51.9ms\tremaining: 101ms\n",
      "34:\tlearn: 0.9143179\ttotal: 53.2ms\tremaining: 98.7ms\n",
      "35:\tlearn: 0.9154453\ttotal: 54.4ms\tremaining: 96.8ms\n",
      "36:\tlearn: 0.9165727\ttotal: 55.7ms\tremaining: 94.9ms\n",
      "37:\tlearn: 0.9165727\ttotal: 56.9ms\tremaining: 92.8ms\n",
      "38:\tlearn: 0.9154453\ttotal: 58ms\tremaining: 90.6ms\n",
      "39:\tlearn: 0.9165727\ttotal: 59.1ms\tremaining: 88.6ms\n",
      "40:\tlearn: 0.9199549\ttotal: 60.2ms\tremaining: 86.6ms\n",
      "41:\tlearn: 0.9188275\ttotal: 61.3ms\tremaining: 84.7ms\n",
      "42:\tlearn: 0.9188275\ttotal: 62.4ms\tremaining: 82.7ms\n",
      "43:\tlearn: 0.9199549\ttotal: 63.4ms\tremaining: 80.7ms\n",
      "44:\tlearn: 0.9199549\ttotal: 64.5ms\tremaining: 78.9ms\n",
      "45:\tlearn: 0.9199549\ttotal: 65.6ms\tremaining: 77ms\n",
      "46:\tlearn: 0.9210823\ttotal: 66.6ms\tremaining: 75.1ms\n",
      "47:\tlearn: 0.9222097\ttotal: 67.6ms\tremaining: 73.3ms\n",
      "48:\tlearn: 0.9222097\ttotal: 68.7ms\tremaining: 71.5ms\n",
      "49:\tlearn: 0.9222097\ttotal: 69.8ms\tremaining: 69.8ms\n",
      "50:\tlearn: 0.9233371\ttotal: 70.9ms\tremaining: 68.1ms\n",
      "51:\tlearn: 0.9222097\ttotal: 72ms\tremaining: 66.4ms\n",
      "52:\tlearn: 0.9244645\ttotal: 73ms\tremaining: 64.7ms\n",
      "53:\tlearn: 0.9255919\ttotal: 74.1ms\tremaining: 63.1ms\n",
      "54:\tlearn: 0.9244645\ttotal: 75.2ms\tremaining: 61.5ms\n",
      "55:\tlearn: 0.9255919\ttotal: 76.3ms\tremaining: 60ms\n",
      "56:\tlearn: 0.9255919\ttotal: 77.4ms\tremaining: 58.4ms\n",
      "57:\tlearn: 0.9255919\ttotal: 78.5ms\tremaining: 56.9ms\n",
      "58:\tlearn: 0.9244645\ttotal: 79.6ms\tremaining: 55.3ms\n",
      "59:\tlearn: 0.9255919\ttotal: 80.6ms\tremaining: 53.7ms\n",
      "60:\tlearn: 0.9278467\ttotal: 81.7ms\tremaining: 52.3ms\n",
      "61:\tlearn: 0.9278467\ttotal: 82.8ms\tremaining: 50.7ms\n",
      "62:\tlearn: 0.9278467\ttotal: 83.2ms\tremaining: 48.9ms\n",
      "63:\tlearn: 0.9289741\ttotal: 84.2ms\tremaining: 47.4ms\n",
      "64:\tlearn: 0.9278467\ttotal: 85.3ms\tremaining: 45.9ms\n",
      "65:\tlearn: 0.9301015\ttotal: 86.3ms\tremaining: 44.5ms\n",
      "66:\tlearn: 0.9301015\ttotal: 87.3ms\tremaining: 43ms\n",
      "67:\tlearn: 0.9289741\ttotal: 88.3ms\tremaining: 41.6ms\n",
      "68:\tlearn: 0.9289741\ttotal: 89.3ms\tremaining: 40.1ms\n",
      "69:\tlearn: 0.9301015\ttotal: 90.4ms\tremaining: 38.7ms\n",
      "70:\tlearn: 0.9289741\ttotal: 91.5ms\tremaining: 37.4ms\n",
      "71:\tlearn: 0.9289741\ttotal: 92.5ms\tremaining: 36ms\n",
      "72:\tlearn: 0.9323563\ttotal: 93.6ms\tremaining: 34.6ms\n",
      "73:\tlearn: 0.9323563\ttotal: 94.6ms\tremaining: 33.3ms\n",
      "74:\tlearn: 0.9323563\ttotal: 95.8ms\tremaining: 31.9ms\n",
      "75:\tlearn: 0.9323563\ttotal: 96.8ms\tremaining: 30.6ms\n",
      "76:\tlearn: 0.9346110\ttotal: 97.9ms\tremaining: 29.2ms\n",
      "77:\tlearn: 0.9334837\ttotal: 98.9ms\tremaining: 27.9ms\n",
      "78:\tlearn: 0.9334837\ttotal: 100ms\tremaining: 26.6ms\n",
      "79:\tlearn: 0.9334837\ttotal: 101ms\tremaining: 25.3ms\n",
      "80:\tlearn: 0.9323563\ttotal: 102ms\tremaining: 23.9ms\n",
      "81:\tlearn: 0.9323563\ttotal: 103ms\tremaining: 22.6ms\n",
      "82:\tlearn: 0.9323563\ttotal: 104ms\tremaining: 21.3ms\n",
      "83:\tlearn: 0.9334837\ttotal: 105ms\tremaining: 20ms\n",
      "84:\tlearn: 0.9334837\ttotal: 106ms\tremaining: 18.7ms\n",
      "85:\tlearn: 0.9334837\ttotal: 107ms\tremaining: 17.4ms\n",
      "86:\tlearn: 0.9346110\ttotal: 108ms\tremaining: 16.2ms\n",
      "87:\tlearn: 0.9346110\ttotal: 109ms\tremaining: 14.9ms\n",
      "88:\tlearn: 0.9346110\ttotal: 110ms\tremaining: 13.6ms\n",
      "89:\tlearn: 0.9346110\ttotal: 111ms\tremaining: 12.4ms\n",
      "90:\tlearn: 0.9346110\ttotal: 112ms\tremaining: 11.1ms\n",
      "91:\tlearn: 0.9357384\ttotal: 113ms\tremaining: 9.81ms\n",
      "92:\tlearn: 0.9368658\ttotal: 114ms\tremaining: 8.57ms\n",
      "93:\tlearn: 0.9368658\ttotal: 115ms\tremaining: 7.33ms\n",
      "94:\tlearn: 0.9368658\ttotal: 116ms\tremaining: 6.1ms\n",
      "95:\tlearn: 0.9368658\ttotal: 117ms\tremaining: 4.87ms\n",
      "96:\tlearn: 0.9357384\ttotal: 118ms\tremaining: 3.65ms\n",
      "97:\tlearn: 0.9357384\ttotal: 118ms\tremaining: 2.41ms\n",
      "98:\tlearn: 0.9357384\ttotal: 119ms\tremaining: 1.2ms\n",
      "99:\tlearn: 0.9357384\ttotal: 120ms\tremaining: 0us\n"
     ]
    },
    {
     "name": "stdout",
     "output_type": "stream",
     "text": [
      "0:\tlearn: 0.8726043\ttotal: 6.08ms\tremaining: 602ms\n",
      "1:\tlearn: 0.8827508\ttotal: 10.6ms\tremaining: 522ms\n",
      "2:\tlearn: 0.8928974\ttotal: 13.7ms\tremaining: 442ms\n",
      "3:\tlearn: 0.8928974\ttotal: 16.3ms\tremaining: 392ms\n",
      "4:\tlearn: 0.8827508\ttotal: 17.1ms\tremaining: 325ms\n",
      "5:\tlearn: 0.8872604\ttotal: 18ms\tremaining: 282ms\n",
      "6:\tlearn: 0.8827508\ttotal: 18.7ms\tremaining: 248ms\n",
      "7:\tlearn: 0.8872604\ttotal: 20.7ms\tremaining: 238ms\n",
      "8:\tlearn: 0.8883878\ttotal: 22.5ms\tremaining: 227ms\n",
      "9:\tlearn: 0.8883878\ttotal: 24.3ms\tremaining: 219ms\n",
      "10:\tlearn: 0.8838782\ttotal: 26.3ms\tremaining: 212ms\n",
      "11:\tlearn: 0.8850056\ttotal: 28ms\tremaining: 205ms\n",
      "12:\tlearn: 0.8883878\ttotal: 30.1ms\tremaining: 202ms\n",
      "13:\tlearn: 0.8883878\ttotal: 30.8ms\tremaining: 189ms\n",
      "14:\tlearn: 0.8906426\ttotal: 32.5ms\tremaining: 184ms\n",
      "15:\tlearn: 0.8928974\ttotal: 33.9ms\tremaining: 178ms\n",
      "16:\tlearn: 0.8962796\ttotal: 35.5ms\tremaining: 173ms\n",
      "17:\tlearn: 0.8940248\ttotal: 36.9ms\tremaining: 168ms\n",
      "18:\tlearn: 0.8974070\ttotal: 38.4ms\tremaining: 164ms\n",
      "19:\tlearn: 0.8985344\ttotal: 39.8ms\tremaining: 159ms\n",
      "20:\tlearn: 0.8962796\ttotal: 41.2ms\tremaining: 155ms\n",
      "21:\tlearn: 0.9007892\ttotal: 42.7ms\tremaining: 151ms\n",
      "22:\tlearn: 0.8996618\ttotal: 44.2ms\tremaining: 148ms\n",
      "23:\tlearn: 0.8996618\ttotal: 45.6ms\tremaining: 144ms\n",
      "24:\tlearn: 0.9030440\ttotal: 47ms\tremaining: 141ms\n",
      "25:\tlearn: 0.9052988\ttotal: 48.5ms\tremaining: 138ms\n",
      "26:\tlearn: 0.9075536\ttotal: 49.9ms\tremaining: 135ms\n",
      "27:\tlearn: 0.9064262\ttotal: 51.3ms\tremaining: 132ms\n",
      "28:\tlearn: 0.9075536\ttotal: 52.6ms\tremaining: 129ms\n",
      "29:\tlearn: 0.9109357\ttotal: 53.9ms\tremaining: 126ms\n",
      "30:\tlearn: 0.9075536\ttotal: 55.2ms\tremaining: 123ms\n",
      "31:\tlearn: 0.9109357\ttotal: 56.6ms\tremaining: 120ms\n",
      "32:\tlearn: 0.9143179\ttotal: 58.2ms\tremaining: 118ms\n",
      "33:\tlearn: 0.9120631\ttotal: 59.7ms\tremaining: 116ms\n",
      "34:\tlearn: 0.9131905\ttotal: 61ms\tremaining: 113ms\n",
      "35:\tlearn: 0.9143179\ttotal: 62.2ms\tremaining: 111ms\n",
      "36:\tlearn: 0.9143179\ttotal: 63.5ms\tremaining: 108ms\n",
      "37:\tlearn: 0.9143179\ttotal: 64.8ms\tremaining: 106ms\n",
      "38:\tlearn: 0.9154453\ttotal: 66.1ms\tremaining: 103ms\n",
      "39:\tlearn: 0.9154453\ttotal: 67.4ms\tremaining: 101ms\n",
      "40:\tlearn: 0.9199549\ttotal: 68.7ms\tremaining: 98.8ms\n",
      "41:\tlearn: 0.9177001\ttotal: 69.9ms\tremaining: 96.5ms\n",
      "42:\tlearn: 0.9199549\ttotal: 71ms\tremaining: 94.1ms\n",
      "43:\tlearn: 0.9233371\ttotal: 72.3ms\tremaining: 92ms\n",
      "44:\tlearn: 0.9244645\ttotal: 73.4ms\tremaining: 89.7ms\n",
      "45:\tlearn: 0.9267193\ttotal: 74.5ms\tremaining: 87.5ms\n",
      "46:\tlearn: 0.9255919\ttotal: 75.7ms\tremaining: 85.3ms\n",
      "47:\tlearn: 0.9255919\ttotal: 76.8ms\tremaining: 83.2ms\n",
      "48:\tlearn: 0.9244645\ttotal: 78ms\tremaining: 81.2ms\n",
      "49:\tlearn: 0.9244645\ttotal: 79.1ms\tremaining: 79.1ms\n",
      "50:\tlearn: 0.9267193\ttotal: 80.1ms\tremaining: 76.9ms\n",
      "51:\tlearn: 0.9278467\ttotal: 81.1ms\tremaining: 74.8ms\n",
      "52:\tlearn: 0.9278467\ttotal: 82.1ms\tremaining: 72.8ms\n",
      "53:\tlearn: 0.9267193\ttotal: 83.1ms\tremaining: 70.8ms\n",
      "54:\tlearn: 0.9278467\ttotal: 84.1ms\tremaining: 68.8ms\n",
      "55:\tlearn: 0.9267193\ttotal: 85.1ms\tremaining: 66.9ms\n",
      "56:\tlearn: 0.9267193\ttotal: 86.2ms\tremaining: 65ms\n",
      "57:\tlearn: 0.9301015\ttotal: 87.3ms\tremaining: 63.2ms\n",
      "58:\tlearn: 0.9301015\ttotal: 88.4ms\tremaining: 61.4ms\n",
      "59:\tlearn: 0.9301015\ttotal: 89.4ms\tremaining: 59.6ms\n",
      "60:\tlearn: 0.9334837\ttotal: 90.6ms\tremaining: 57.9ms\n",
      "61:\tlearn: 0.9346110\ttotal: 91.6ms\tremaining: 56.2ms\n",
      "62:\tlearn: 0.9323563\ttotal: 92ms\tremaining: 54.1ms\n",
      "63:\tlearn: 0.9346110\ttotal: 93.1ms\tremaining: 52.4ms\n",
      "64:\tlearn: 0.9346110\ttotal: 94.2ms\tremaining: 50.7ms\n",
      "65:\tlearn: 0.9346110\ttotal: 95.3ms\tremaining: 49.1ms\n",
      "66:\tlearn: 0.9346110\ttotal: 96.4ms\tremaining: 47.5ms\n",
      "67:\tlearn: 0.9357384\ttotal: 97.4ms\tremaining: 45.9ms\n",
      "68:\tlearn: 0.9368658\ttotal: 98.5ms\tremaining: 44.3ms\n",
      "69:\tlearn: 0.9368658\ttotal: 99.6ms\tremaining: 42.7ms\n",
      "70:\tlearn: 0.9357384\ttotal: 101ms\tremaining: 41.1ms\n",
      "71:\tlearn: 0.9368658\ttotal: 102ms\tremaining: 39.6ms\n",
      "72:\tlearn: 0.9368658\ttotal: 103ms\tremaining: 38.1ms\n",
      "73:\tlearn: 0.9357384\ttotal: 104ms\tremaining: 36.5ms\n",
      "74:\tlearn: 0.9391206\ttotal: 105ms\tremaining: 35ms\n",
      "75:\tlearn: 0.9402480\ttotal: 106ms\tremaining: 33.6ms\n",
      "76:\tlearn: 0.9391206\ttotal: 107ms\tremaining: 32.1ms\n",
      "77:\tlearn: 0.9402480\ttotal: 108ms\tremaining: 30.6ms\n",
      "78:\tlearn: 0.9413754\ttotal: 110ms\tremaining: 29.1ms\n",
      "79:\tlearn: 0.9413754\ttotal: 111ms\tremaining: 27.6ms\n",
      "80:\tlearn: 0.9402480\ttotal: 112ms\tremaining: 26.2ms\n",
      "81:\tlearn: 0.9391206\ttotal: 113ms\tremaining: 24.7ms\n",
      "82:\tlearn: 0.9402480\ttotal: 114ms\tremaining: 23.3ms\n",
      "83:\tlearn: 0.9413754\ttotal: 115ms\tremaining: 21.9ms\n",
      "84:\tlearn: 0.9402480\ttotal: 116ms\tremaining: 20.5ms\n",
      "85:\tlearn: 0.9425028\ttotal: 117ms\tremaining: 19ms\n",
      "86:\tlearn: 0.9425028\ttotal: 118ms\tremaining: 17.6ms\n",
      "87:\tlearn: 0.9413754\ttotal: 119ms\tremaining: 16.2ms\n",
      "88:\tlearn: 0.9413754\ttotal: 120ms\tremaining: 14.9ms\n",
      "89:\tlearn: 0.9425028\ttotal: 121ms\tremaining: 13.5ms\n",
      "90:\tlearn: 0.9413754\ttotal: 122ms\tremaining: 12.1ms\n",
      "91:\tlearn: 0.9413754\ttotal: 124ms\tremaining: 10.7ms\n",
      "92:\tlearn: 0.9436302\ttotal: 125ms\tremaining: 9.38ms\n",
      "93:\tlearn: 0.9447576\ttotal: 126ms\tremaining: 8.03ms\n",
      "94:\tlearn: 0.9436302\ttotal: 127ms\tremaining: 6.67ms\n",
      "95:\tlearn: 0.9436302\ttotal: 128ms\tremaining: 5.33ms\n",
      "96:\tlearn: 0.9447576\ttotal: 129ms\tremaining: 3.99ms\n",
      "97:\tlearn: 0.9458850\ttotal: 130ms\tremaining: 2.65ms\n",
      "98:\tlearn: 0.9447576\ttotal: 131ms\tremaining: 1.32ms\n",
      "99:\tlearn: 0.9447576\ttotal: 132ms\tremaining: 0us\n",
      "0:\tlearn: 0.8771139\ttotal: 5.61ms\tremaining: 555ms\n",
      "1:\tlearn: 0.8906426\ttotal: 12.5ms\tremaining: 610ms\n",
      "2:\tlearn: 0.8895152\ttotal: 19.1ms\tremaining: 619ms\n",
      "3:\tlearn: 0.8883878\ttotal: 25.1ms\tremaining: 602ms\n",
      "4:\tlearn: 0.8771139\ttotal: 27.1ms\tremaining: 515ms\n",
      "5:\tlearn: 0.8827508\ttotal: 33.3ms\tremaining: 522ms\n",
      "6:\tlearn: 0.8861330\ttotal: 38.9ms\tremaining: 517ms\n",
      "7:\tlearn: 0.8883878\ttotal: 45.3ms\tremaining: 522ms\n",
      "8:\tlearn: 0.8895152\ttotal: 52ms\tremaining: 526ms\n",
      "9:\tlearn: 0.8917700\ttotal: 57.9ms\tremaining: 521ms\n",
      "10:\tlearn: 0.8996618\ttotal: 64.5ms\tremaining: 522ms\n",
      "11:\tlearn: 0.8985344\ttotal: 70.4ms\tremaining: 516ms\n",
      "12:\tlearn: 0.8985344\ttotal: 75.5ms\tremaining: 505ms\n",
      "13:\tlearn: 0.9030440\ttotal: 79.6ms\tremaining: 489ms\n",
      "14:\tlearn: 0.9030440\ttotal: 83.5ms\tremaining: 473ms\n",
      "15:\tlearn: 0.9019166\ttotal: 86.6ms\tremaining: 455ms\n",
      "16:\tlearn: 0.9075536\ttotal: 89.5ms\tremaining: 437ms\n",
      "17:\tlearn: 0.9131905\ttotal: 91.7ms\tremaining: 418ms\n",
      "18:\tlearn: 0.9086809\ttotal: 92.5ms\tremaining: 394ms\n",
      "19:\tlearn: 0.9109357\ttotal: 95.2ms\tremaining: 381ms\n",
      "20:\tlearn: 0.9086809\ttotal: 98.3ms\tremaining: 370ms\n",
      "21:\tlearn: 0.9131905\ttotal: 100ms\tremaining: 355ms\n",
      "22:\tlearn: 0.9109357\ttotal: 102ms\tremaining: 342ms\n",
      "23:\tlearn: 0.9131905\ttotal: 103ms\tremaining: 325ms\n",
      "24:\tlearn: 0.9098083\ttotal: 104ms\tremaining: 313ms\n",
      "25:\tlearn: 0.9143179\ttotal: 106ms\tremaining: 302ms\n",
      "26:\tlearn: 0.9143179\ttotal: 108ms\tremaining: 291ms\n",
      "27:\tlearn: 0.9154453\ttotal: 109ms\tremaining: 280ms\n",
      "28:\tlearn: 0.9165727\ttotal: 110ms\tremaining: 271ms\n",
      "29:\tlearn: 0.9177001\ttotal: 112ms\tremaining: 262ms\n",
      "30:\tlearn: 0.9177001\ttotal: 114ms\tremaining: 254ms\n",
      "31:\tlearn: 0.9177001\ttotal: 115ms\tremaining: 245ms\n",
      "32:\tlearn: 0.9188275\ttotal: 117ms\tremaining: 237ms\n",
      "33:\tlearn: 0.9199549\ttotal: 118ms\tremaining: 230ms\n",
      "34:\tlearn: 0.9199549\ttotal: 120ms\tremaining: 222ms\n",
      "35:\tlearn: 0.9210823\ttotal: 121ms\tremaining: 215ms\n",
      "36:\tlearn: 0.9210823\ttotal: 122ms\tremaining: 209ms\n",
      "37:\tlearn: 0.9233371\ttotal: 124ms\tremaining: 202ms\n",
      "38:\tlearn: 0.9210823\ttotal: 125ms\tremaining: 196ms\n",
      "39:\tlearn: 0.9233371\ttotal: 127ms\tremaining: 190ms\n",
      "40:\tlearn: 0.9222097\ttotal: 128ms\tremaining: 185ms\n",
      "41:\tlearn: 0.9233371\ttotal: 130ms\tremaining: 180ms\n",
      "42:\tlearn: 0.9233371\ttotal: 132ms\tremaining: 174ms\n",
      "43:\tlearn: 0.9222097\ttotal: 133ms\tremaining: 169ms\n",
      "44:\tlearn: 0.9222097\ttotal: 134ms\tremaining: 164ms\n",
      "45:\tlearn: 0.9210823\ttotal: 136ms\tremaining: 159ms\n",
      "46:\tlearn: 0.9222097\ttotal: 137ms\tremaining: 155ms\n",
      "47:\tlearn: 0.9222097\ttotal: 139ms\tremaining: 150ms\n",
      "48:\tlearn: 0.9244645\ttotal: 140ms\tremaining: 146ms\n",
      "49:\tlearn: 0.9244645\ttotal: 142ms\tremaining: 142ms\n",
      "50:\tlearn: 0.9244645\ttotal: 145ms\tremaining: 139ms\n",
      "51:\tlearn: 0.9255919\ttotal: 146ms\tremaining: 135ms\n",
      "52:\tlearn: 0.9278467\ttotal: 148ms\tremaining: 131ms\n",
      "53:\tlearn: 0.9267193\ttotal: 149ms\tremaining: 127ms\n",
      "54:\tlearn: 0.9267193\ttotal: 151ms\tremaining: 123ms\n",
      "55:\tlearn: 0.9267193\ttotal: 152ms\tremaining: 119ms\n",
      "56:\tlearn: 0.9278467\ttotal: 153ms\tremaining: 116ms\n",
      "57:\tlearn: 0.9267193\ttotal: 155ms\tremaining: 112ms\n",
      "58:\tlearn: 0.9278467\ttotal: 156ms\tremaining: 109ms\n",
      "59:\tlearn: 0.9278467\ttotal: 158ms\tremaining: 105ms\n",
      "60:\tlearn: 0.9289741\ttotal: 159ms\tremaining: 102ms\n",
      "61:\tlearn: 0.9289741\ttotal: 160ms\tremaining: 98.2ms\n",
      "62:\tlearn: 0.9278467\ttotal: 161ms\tremaining: 94.4ms\n",
      "63:\tlearn: 0.9278467\ttotal: 162ms\tremaining: 91.1ms\n",
      "64:\tlearn: 0.9278467\ttotal: 163ms\tremaining: 87.9ms\n",
      "65:\tlearn: 0.9301015\ttotal: 164ms\tremaining: 84.7ms\n",
      "66:\tlearn: 0.9301015\ttotal: 166ms\tremaining: 81.6ms\n",
      "67:\tlearn: 0.9323563\ttotal: 167ms\tremaining: 78.4ms\n",
      "68:\tlearn: 0.9312289\ttotal: 168ms\tremaining: 75.4ms\n",
      "69:\tlearn: 0.9334837\ttotal: 169ms\tremaining: 72.4ms\n",
      "70:\tlearn: 0.9334837\ttotal: 170ms\tremaining: 69.4ms\n",
      "71:\tlearn: 0.9334837\ttotal: 171ms\tremaining: 66.5ms\n",
      "72:\tlearn: 0.9334837\ttotal: 172ms\tremaining: 63.7ms\n",
      "73:\tlearn: 0.9346110\ttotal: 173ms\tremaining: 60.9ms\n",
      "74:\tlearn: 0.9346110\ttotal: 174ms\tremaining: 58.1ms\n",
      "75:\tlearn: 0.9346110\ttotal: 176ms\tremaining: 55.4ms\n",
      "76:\tlearn: 0.9346110\ttotal: 177ms\tremaining: 52.8ms\n",
      "77:\tlearn: 0.9346110\ttotal: 178ms\tremaining: 50.1ms\n",
      "78:\tlearn: 0.9346110\ttotal: 179ms\tremaining: 47.5ms\n",
      "79:\tlearn: 0.9346110\ttotal: 180ms\tremaining: 45ms\n",
      "80:\tlearn: 0.9357384\ttotal: 181ms\tremaining: 42.4ms\n",
      "81:\tlearn: 0.9357384\ttotal: 182ms\tremaining: 39.9ms\n",
      "82:\tlearn: 0.9357384\ttotal: 183ms\tremaining: 37.5ms\n",
      "83:\tlearn: 0.9357384\ttotal: 184ms\tremaining: 35ms\n",
      "84:\tlearn: 0.9368658\ttotal: 185ms\tremaining: 32.6ms\n",
      "85:\tlearn: 0.9368658\ttotal: 186ms\tremaining: 30.3ms\n",
      "86:\tlearn: 0.9368658\ttotal: 187ms\tremaining: 27.9ms\n",
      "87:\tlearn: 0.9368658\ttotal: 188ms\tremaining: 25.6ms\n",
      "88:\tlearn: 0.9368658\ttotal: 189ms\tremaining: 23.4ms\n",
      "89:\tlearn: 0.9368658\ttotal: 190ms\tremaining: 21.1ms\n",
      "90:\tlearn: 0.9368658\ttotal: 191ms\tremaining: 18.9ms\n",
      "91:\tlearn: 0.9357384\ttotal: 192ms\tremaining: 16.7ms\n"
     ]
    },
    {
     "name": "stdout",
     "output_type": "stream",
     "text": [
      "92:\tlearn: 0.9357384\ttotal: 193ms\tremaining: 14.6ms\n",
      "93:\tlearn: 0.9357384\ttotal: 195ms\tremaining: 12.4ms\n",
      "94:\tlearn: 0.9357384\ttotal: 196ms\tremaining: 10.3ms\n",
      "95:\tlearn: 0.9357384\ttotal: 197ms\tremaining: 8.21ms\n",
      "96:\tlearn: 0.9368658\ttotal: 198ms\tremaining: 6.13ms\n",
      "97:\tlearn: 0.9379932\ttotal: 199ms\tremaining: 4.07ms\n",
      "98:\tlearn: 0.9379932\ttotal: 201ms\tremaining: 2.02ms\n",
      "99:\tlearn: 0.9379932\ttotal: 202ms\tremaining: 0us\n",
      "0:\tlearn: 0.8669673\ttotal: 5.92ms\tremaining: 586ms\n",
      "1:\tlearn: 0.8726043\ttotal: 12.4ms\tremaining: 610ms\n",
      "2:\tlearn: 0.8838782\ttotal: 18.4ms\tremaining: 594ms\n",
      "3:\tlearn: 0.8872604\ttotal: 27.3ms\tremaining: 655ms\n",
      "4:\tlearn: 0.8714769\ttotal: 29.7ms\tremaining: 564ms\n",
      "5:\tlearn: 0.8782413\ttotal: 35.6ms\tremaining: 558ms\n",
      "6:\tlearn: 0.8883878\ttotal: 41.5ms\tremaining: 551ms\n",
      "7:\tlearn: 0.8895152\ttotal: 47.8ms\tremaining: 550ms\n",
      "8:\tlearn: 0.8940248\ttotal: 53.6ms\tremaining: 542ms\n",
      "9:\tlearn: 0.8928974\ttotal: 59.4ms\tremaining: 534ms\n",
      "10:\tlearn: 0.8962796\ttotal: 65.4ms\tremaining: 529ms\n",
      "11:\tlearn: 0.8962796\ttotal: 71.5ms\tremaining: 524ms\n",
      "12:\tlearn: 0.8996618\ttotal: 77.3ms\tremaining: 518ms\n",
      "13:\tlearn: 0.8974070\ttotal: 83.5ms\tremaining: 513ms\n",
      "14:\tlearn: 0.8985344\ttotal: 89.3ms\tremaining: 506ms\n",
      "15:\tlearn: 0.9030440\ttotal: 95.4ms\tremaining: 501ms\n",
      "16:\tlearn: 0.9019166\ttotal: 101ms\tremaining: 495ms\n",
      "17:\tlearn: 0.9019166\ttotal: 108ms\tremaining: 492ms\n",
      "18:\tlearn: 0.9041714\ttotal: 110ms\tremaining: 468ms\n",
      "19:\tlearn: 0.9030440\ttotal: 116ms\tremaining: 464ms\n",
      "20:\tlearn: 0.9030440\ttotal: 121ms\tremaining: 456ms\n",
      "21:\tlearn: 0.9030440\ttotal: 127ms\tremaining: 452ms\n",
      "22:\tlearn: 0.9030440\ttotal: 134ms\tremaining: 448ms\n",
      "23:\tlearn: 0.9086809\ttotal: 140ms\tremaining: 443ms\n",
      "24:\tlearn: 0.9086809\ttotal: 145ms\tremaining: 436ms\n",
      "25:\tlearn: 0.9131905\ttotal: 151ms\tremaining: 430ms\n",
      "26:\tlearn: 0.9052988\ttotal: 153ms\tremaining: 412ms\n",
      "27:\tlearn: 0.9086809\ttotal: 158ms\tremaining: 407ms\n",
      "28:\tlearn: 0.9120631\ttotal: 165ms\tremaining: 403ms\n",
      "29:\tlearn: 0.9109357\ttotal: 171ms\tremaining: 399ms\n",
      "30:\tlearn: 0.9109357\ttotal: 174ms\tremaining: 388ms\n",
      "31:\tlearn: 0.9098083\ttotal: 181ms\tremaining: 385ms\n",
      "32:\tlearn: 0.9131905\ttotal: 186ms\tremaining: 378ms\n",
      "33:\tlearn: 0.9131905\ttotal: 191ms\tremaining: 370ms\n",
      "34:\tlearn: 0.9131905\ttotal: 195ms\tremaining: 363ms\n",
      "35:\tlearn: 0.9143179\ttotal: 199ms\tremaining: 353ms\n",
      "36:\tlearn: 0.9154453\ttotal: 202ms\tremaining: 345ms\n",
      "37:\tlearn: 0.9177001\ttotal: 205ms\tremaining: 334ms\n",
      "38:\tlearn: 0.9165727\ttotal: 207ms\tremaining: 324ms\n",
      "39:\tlearn: 0.9154453\ttotal: 210ms\tremaining: 315ms\n",
      "40:\tlearn: 0.9165727\ttotal: 211ms\tremaining: 304ms\n",
      "41:\tlearn: 0.9188275\ttotal: 214ms\tremaining: 295ms\n",
      "42:\tlearn: 0.9199549\ttotal: 216ms\tremaining: 287ms\n",
      "43:\tlearn: 0.9199549\ttotal: 219ms\tremaining: 278ms\n",
      "44:\tlearn: 0.9188275\ttotal: 219ms\tremaining: 268ms\n",
      "45:\tlearn: 0.9188275\ttotal: 221ms\tremaining: 259ms\n",
      "46:\tlearn: 0.9210823\ttotal: 222ms\tremaining: 251ms\n",
      "47:\tlearn: 0.9199549\ttotal: 225ms\tremaining: 244ms\n",
      "48:\tlearn: 0.9222097\ttotal: 227ms\tremaining: 236ms\n",
      "49:\tlearn: 0.9222097\ttotal: 229ms\tremaining: 229ms\n",
      "50:\tlearn: 0.9210823\ttotal: 231ms\tremaining: 222ms\n",
      "51:\tlearn: 0.9210823\ttotal: 232ms\tremaining: 215ms\n",
      "52:\tlearn: 0.9233371\ttotal: 234ms\tremaining: 208ms\n",
      "53:\tlearn: 0.9244645\ttotal: 236ms\tremaining: 201ms\n",
      "54:\tlearn: 0.9244645\ttotal: 237ms\tremaining: 194ms\n",
      "55:\tlearn: 0.9267193\ttotal: 239ms\tremaining: 188ms\n",
      "56:\tlearn: 0.9267193\ttotal: 241ms\tremaining: 182ms\n",
      "57:\tlearn: 0.9278467\ttotal: 243ms\tremaining: 176ms\n",
      "58:\tlearn: 0.9289741\ttotal: 245ms\tremaining: 170ms\n",
      "59:\tlearn: 0.9289741\ttotal: 247ms\tremaining: 165ms\n",
      "60:\tlearn: 0.9267193\ttotal: 249ms\tremaining: 159ms\n",
      "61:\tlearn: 0.9255919\ttotal: 250ms\tremaining: 153ms\n",
      "62:\tlearn: 0.9289741\ttotal: 252ms\tremaining: 148ms\n",
      "63:\tlearn: 0.9289741\ttotal: 254ms\tremaining: 143ms\n",
      "64:\tlearn: 0.9289741\ttotal: 255ms\tremaining: 137ms\n",
      "65:\tlearn: 0.9301015\ttotal: 257ms\tremaining: 132ms\n",
      "66:\tlearn: 0.9323563\ttotal: 259ms\tremaining: 127ms\n",
      "67:\tlearn: 0.9334837\ttotal: 260ms\tremaining: 123ms\n",
      "68:\tlearn: 0.9334837\ttotal: 262ms\tremaining: 118ms\n",
      "69:\tlearn: 0.9334837\ttotal: 264ms\tremaining: 113ms\n",
      "70:\tlearn: 0.9323563\ttotal: 265ms\tremaining: 108ms\n",
      "71:\tlearn: 0.9323563\ttotal: 267ms\tremaining: 104ms\n",
      "72:\tlearn: 0.9323563\ttotal: 268ms\tremaining: 99.2ms\n",
      "73:\tlearn: 0.9334837\ttotal: 270ms\tremaining: 94.7ms\n",
      "74:\tlearn: 0.9334837\ttotal: 271ms\tremaining: 90.4ms\n",
      "75:\tlearn: 0.9323563\ttotal: 273ms\tremaining: 86.1ms\n",
      "76:\tlearn: 0.9323563\ttotal: 274ms\tremaining: 82ms\n",
      "77:\tlearn: 0.9323563\ttotal: 276ms\tremaining: 77.9ms\n",
      "78:\tlearn: 0.9323563\ttotal: 278ms\tremaining: 73.8ms\n",
      "79:\tlearn: 0.9323563\ttotal: 279ms\tremaining: 69.8ms\n",
      "80:\tlearn: 0.9323563\ttotal: 281ms\tremaining: 65.8ms\n",
      "81:\tlearn: 0.9346110\ttotal: 282ms\tremaining: 61.9ms\n",
      "82:\tlearn: 0.9346110\ttotal: 283ms\tremaining: 58ms\n",
      "83:\tlearn: 0.9346110\ttotal: 285ms\tremaining: 54.3ms\n",
      "84:\tlearn: 0.9346110\ttotal: 286ms\tremaining: 50.4ms\n",
      "85:\tlearn: 0.9346110\ttotal: 287ms\tremaining: 46.7ms\n",
      "86:\tlearn: 0.9346110\ttotal: 289ms\tremaining: 43.2ms\n",
      "87:\tlearn: 0.9357384\ttotal: 291ms\tremaining: 39.6ms\n",
      "88:\tlearn: 0.9357384\ttotal: 292ms\tremaining: 36.1ms\n",
      "89:\tlearn: 0.9346110\ttotal: 294ms\tremaining: 32.7ms\n",
      "90:\tlearn: 0.9357384\ttotal: 295ms\tremaining: 29.2ms\n",
      "91:\tlearn: 0.9368658\ttotal: 297ms\tremaining: 25.8ms\n",
      "92:\tlearn: 0.9368658\ttotal: 298ms\tremaining: 22.4ms\n",
      "93:\tlearn: 0.9368658\ttotal: 300ms\tremaining: 19.1ms\n",
      "94:\tlearn: 0.9346110\ttotal: 301ms\tremaining: 15.9ms\n",
      "95:\tlearn: 0.9346110\ttotal: 303ms\tremaining: 12.6ms\n",
      "96:\tlearn: 0.9357384\ttotal: 305ms\tremaining: 9.42ms\n",
      "97:\tlearn: 0.9368658\ttotal: 306ms\tremaining: 6.25ms\n",
      "98:\tlearn: 0.9368658\ttotal: 308ms\tremaining: 3.11ms\n",
      "99:\tlearn: 0.9368658\ttotal: 310ms\tremaining: 0us\n",
      "0:\tlearn: 0.8624577\ttotal: 2.23ms\tremaining: 220ms\n",
      "1:\tlearn: 0.8782413\ttotal: 4.7ms\tremaining: 230ms\n",
      "2:\tlearn: 0.8917700\ttotal: 6.59ms\tremaining: 213ms\n",
      "3:\tlearn: 0.8861330\ttotal: 8.57ms\tremaining: 206ms\n",
      "4:\tlearn: 0.8793687\ttotal: 9.25ms\tremaining: 176ms\n",
      "5:\tlearn: 0.8782413\ttotal: 9.96ms\tremaining: 156ms\n",
      "6:\tlearn: 0.8759865\ttotal: 10.5ms\tremaining: 140ms\n",
      "7:\tlearn: 0.8928974\ttotal: 12.4ms\tremaining: 142ms\n",
      "8:\tlearn: 0.8906426\ttotal: 14.3ms\tremaining: 145ms\n",
      "9:\tlearn: 0.8928974\ttotal: 16.5ms\tremaining: 149ms\n",
      "10:\tlearn: 0.8906426\ttotal: 18.5ms\tremaining: 150ms\n",
      "11:\tlearn: 0.8940248\ttotal: 20.4ms\tremaining: 149ms\n",
      "12:\tlearn: 0.8996618\ttotal: 22.5ms\tremaining: 150ms\n",
      "13:\tlearn: 0.8996618\ttotal: 24.9ms\tremaining: 153ms\n",
      "14:\tlearn: 0.8962796\ttotal: 26.6ms\tremaining: 151ms\n",
      "15:\tlearn: 0.8974070\ttotal: 28.3ms\tremaining: 148ms\n",
      "16:\tlearn: 0.8974070\ttotal: 28.7ms\tremaining: 140ms\n",
      "17:\tlearn: 0.8974070\ttotal: 30.3ms\tremaining: 138ms\n",
      "18:\tlearn: 0.8951522\ttotal: 32ms\tremaining: 136ms\n",
      "19:\tlearn: 0.8951522\ttotal: 33.1ms\tremaining: 132ms\n",
      "20:\tlearn: 0.8962796\ttotal: 34.7ms\tremaining: 131ms\n",
      "21:\tlearn: 0.8962796\ttotal: 36.3ms\tremaining: 129ms\n",
      "22:\tlearn: 0.8974070\ttotal: 37.8ms\tremaining: 126ms\n",
      "23:\tlearn: 0.8985344\ttotal: 39.2ms\tremaining: 124ms\n",
      "24:\tlearn: 0.8996618\ttotal: 42.4ms\tremaining: 127ms\n",
      "25:\tlearn: 0.8985344\ttotal: 44.4ms\tremaining: 126ms\n",
      "26:\tlearn: 0.9019166\ttotal: 46.1ms\tremaining: 125ms\n",
      "27:\tlearn: 0.9007892\ttotal: 47.7ms\tremaining: 123ms\n",
      "28:\tlearn: 0.9041714\ttotal: 49.4ms\tremaining: 121ms\n",
      "29:\tlearn: 0.9019166\ttotal: 51.6ms\tremaining: 120ms\n",
      "30:\tlearn: 0.9052988\ttotal: 53.1ms\tremaining: 118ms\n",
      "31:\tlearn: 0.9075536\ttotal: 54.5ms\tremaining: 116ms\n",
      "32:\tlearn: 0.9075536\ttotal: 56.3ms\tremaining: 114ms\n",
      "33:\tlearn: 0.9109357\ttotal: 58ms\tremaining: 113ms\n",
      "34:\tlearn: 0.9120631\ttotal: 59.9ms\tremaining: 111ms\n",
      "35:\tlearn: 0.9120631\ttotal: 61.5ms\tremaining: 109ms\n",
      "36:\tlearn: 0.9131905\ttotal: 63ms\tremaining: 107ms\n",
      "37:\tlearn: 0.9131905\ttotal: 64.9ms\tremaining: 106ms\n",
      "38:\tlearn: 0.9143179\ttotal: 66.5ms\tremaining: 104ms\n",
      "39:\tlearn: 0.9131905\ttotal: 68ms\tremaining: 102ms\n",
      "40:\tlearn: 0.9165727\ttotal: 69.9ms\tremaining: 101ms\n",
      "41:\tlearn: 0.9177001\ttotal: 71.6ms\tremaining: 98.9ms\n",
      "42:\tlearn: 0.9177001\ttotal: 73.2ms\tremaining: 97.1ms\n",
      "43:\tlearn: 0.9177001\ttotal: 74.8ms\tremaining: 95.2ms\n",
      "44:\tlearn: 0.9199549\ttotal: 76.4ms\tremaining: 93.4ms\n",
      "45:\tlearn: 0.9210823\ttotal: 77.8ms\tremaining: 91.3ms\n",
      "46:\tlearn: 0.9199549\ttotal: 79.3ms\tremaining: 89.4ms\n",
      "47:\tlearn: 0.9210823\ttotal: 80.7ms\tremaining: 87.4ms\n",
      "48:\tlearn: 0.9210823\ttotal: 82.1ms\tremaining: 85.5ms\n",
      "49:\tlearn: 0.9210823\ttotal: 83.4ms\tremaining: 83.4ms\n",
      "50:\tlearn: 0.9222097\ttotal: 85.4ms\tremaining: 82ms\n",
      "51:\tlearn: 0.9233371\ttotal: 86.9ms\tremaining: 80.2ms\n",
      "52:\tlearn: 0.9222097\ttotal: 88.4ms\tremaining: 78.4ms\n",
      "53:\tlearn: 0.9233371\ttotal: 89.8ms\tremaining: 76.5ms\n",
      "54:\tlearn: 0.9233371\ttotal: 91.3ms\tremaining: 74.7ms\n",
      "55:\tlearn: 0.9255919\ttotal: 92.7ms\tremaining: 72.8ms\n",
      "56:\tlearn: 0.9255919\ttotal: 94ms\tremaining: 70.9ms\n",
      "57:\tlearn: 0.9267193\ttotal: 95.2ms\tremaining: 69ms\n",
      "58:\tlearn: 0.9278467\ttotal: 96.6ms\tremaining: 67.1ms\n",
      "59:\tlearn: 0.9289741\ttotal: 97.9ms\tremaining: 65.2ms\n",
      "60:\tlearn: 0.9289741\ttotal: 99.2ms\tremaining: 63.4ms\n",
      "61:\tlearn: 0.9289741\ttotal: 101ms\tremaining: 61.7ms\n",
      "62:\tlearn: 0.9301015\ttotal: 102ms\tremaining: 59.9ms\n",
      "63:\tlearn: 0.9289741\ttotal: 103ms\tremaining: 58.2ms\n",
      "64:\tlearn: 0.9289741\ttotal: 105ms\tremaining: 56.4ms\n",
      "65:\tlearn: 0.9289741\ttotal: 106ms\tremaining: 54.7ms\n",
      "66:\tlearn: 0.9289741\ttotal: 108ms\tremaining: 53ms\n",
      "67:\tlearn: 0.9301015\ttotal: 109ms\tremaining: 51.2ms\n",
      "68:\tlearn: 0.9323563\ttotal: 110ms\tremaining: 49.5ms\n",
      "69:\tlearn: 0.9312289\ttotal: 112ms\tremaining: 47.8ms\n",
      "70:\tlearn: 0.9323563\ttotal: 113ms\tremaining: 46.1ms\n",
      "71:\tlearn: 0.9323563\ttotal: 114ms\tremaining: 44.5ms\n",
      "72:\tlearn: 0.9323563\ttotal: 116ms\tremaining: 42.8ms\n",
      "73:\tlearn: 0.9323563\ttotal: 117ms\tremaining: 41.1ms\n",
      "74:\tlearn: 0.9323563\ttotal: 118ms\tremaining: 39.5ms\n",
      "75:\tlearn: 0.9323563\ttotal: 120ms\tremaining: 37.8ms\n",
      "76:\tlearn: 0.9323563\ttotal: 121ms\tremaining: 36.2ms\n",
      "77:\tlearn: 0.9323563\ttotal: 122ms\tremaining: 34.3ms\n",
      "78:\tlearn: 0.9334837\ttotal: 123ms\tremaining: 32.8ms\n",
      "79:\tlearn: 0.9334837\ttotal: 125ms\tremaining: 31.2ms\n",
      "80:\tlearn: 0.9334837\ttotal: 126ms\tremaining: 29.5ms\n",
      "81:\tlearn: 0.9323563\ttotal: 127ms\tremaining: 28ms\n",
      "82:\tlearn: 0.9323563\ttotal: 129ms\tremaining: 26.4ms\n",
      "83:\tlearn: 0.9334837\ttotal: 130ms\tremaining: 24.8ms\n",
      "84:\tlearn: 0.9346110\ttotal: 131ms\tremaining: 23.2ms\n",
      "85:\tlearn: 0.9346110\ttotal: 133ms\tremaining: 21.6ms\n",
      "86:\tlearn: 0.9346110\ttotal: 134ms\tremaining: 20ms\n",
      "87:\tlearn: 0.9346110\ttotal: 135ms\tremaining: 18.5ms\n",
      "88:\tlearn: 0.9346110\ttotal: 137ms\tremaining: 16.9ms\n",
      "89:\tlearn: 0.9346110\ttotal: 138ms\tremaining: 15.3ms\n",
      "90:\tlearn: 0.9346110\ttotal: 139ms\tremaining: 13.7ms\n",
      "91:\tlearn: 0.9357384\ttotal: 140ms\tremaining: 12.2ms\n",
      "92:\tlearn: 0.9357384\ttotal: 142ms\tremaining: 10.7ms\n",
      "93:\tlearn: 0.9357384\ttotal: 143ms\tremaining: 9.12ms\n",
      "94:\tlearn: 0.9346110\ttotal: 144ms\tremaining: 7.59ms\n",
      "95:\tlearn: 0.9346110\ttotal: 145ms\tremaining: 6.06ms\n",
      "96:\tlearn: 0.9346110\ttotal: 147ms\tremaining: 4.53ms\n",
      "97:\tlearn: 0.9357384\ttotal: 148ms\tremaining: 3.01ms\n",
      "98:\tlearn: 0.9346110\ttotal: 149ms\tremaining: 1.5ms\n",
      "99:\tlearn: 0.9346110\ttotal: 150ms\tremaining: 0us\n"
     ]
    },
    {
     "name": "stdout",
     "output_type": "stream",
     "text": [
      "0:\tlearn: 0.8838782\ttotal: 6.54ms\tremaining: 647ms\n",
      "1:\tlearn: 0.8793687\ttotal: 13.2ms\tremaining: 648ms\n",
      "2:\tlearn: 0.8872604\ttotal: 19.2ms\tremaining: 622ms\n",
      "3:\tlearn: 0.8838782\ttotal: 25.8ms\tremaining: 619ms\n",
      "4:\tlearn: 0.8759865\ttotal: 28.3ms\tremaining: 538ms\n",
      "5:\tlearn: 0.8726043\ttotal: 30.8ms\tremaining: 482ms\n",
      "6:\tlearn: 0.8737317\ttotal: 32.5ms\tremaining: 432ms\n",
      "7:\tlearn: 0.8793687\ttotal: 37.8ms\tremaining: 435ms\n",
      "8:\tlearn: 0.8771139\ttotal: 44.1ms\tremaining: 446ms\n",
      "9:\tlearn: 0.8816234\ttotal: 52.5ms\tremaining: 473ms\n",
      "10:\tlearn: 0.8838782\ttotal: 58.4ms\tremaining: 473ms\n",
      "11:\tlearn: 0.8838782\ttotal: 64.5ms\tremaining: 473ms\n",
      "12:\tlearn: 0.8838782\ttotal: 70.5ms\tremaining: 472ms\n",
      "13:\tlearn: 0.8850056\ttotal: 76.9ms\tremaining: 473ms\n",
      "14:\tlearn: 0.8850056\ttotal: 82.8ms\tremaining: 469ms\n",
      "15:\tlearn: 0.8895152\ttotal: 88.3ms\tremaining: 464ms\n",
      "16:\tlearn: 0.8895152\ttotal: 90.1ms\tremaining: 440ms\n",
      "17:\tlearn: 0.8895152\ttotal: 96.6ms\tremaining: 440ms\n",
      "18:\tlearn: 0.8883878\ttotal: 103ms\tremaining: 439ms\n",
      "19:\tlearn: 0.8906426\ttotal: 107ms\tremaining: 430ms\n",
      "20:\tlearn: 0.8917700\ttotal: 114ms\tremaining: 429ms\n",
      "21:\tlearn: 0.8951522\ttotal: 122ms\tremaining: 432ms\n",
      "22:\tlearn: 0.8928974\ttotal: 128ms\tremaining: 428ms\n",
      "23:\tlearn: 0.8928974\ttotal: 135ms\tremaining: 429ms\n",
      "24:\tlearn: 0.8940248\ttotal: 142ms\tremaining: 427ms\n",
      "25:\tlearn: 0.8996618\ttotal: 148ms\tremaining: 421ms\n",
      "26:\tlearn: 0.9007892\ttotal: 152ms\tremaining: 411ms\n",
      "27:\tlearn: 0.9019166\ttotal: 156ms\tremaining: 401ms\n",
      "28:\tlearn: 0.9041714\ttotal: 159ms\tremaining: 389ms\n",
      "29:\tlearn: 0.9019166\ttotal: 162ms\tremaining: 377ms\n",
      "30:\tlearn: 0.9064262\ttotal: 164ms\tremaining: 366ms\n",
      "31:\tlearn: 0.9075536\ttotal: 167ms\tremaining: 356ms\n",
      "32:\tlearn: 0.9098083\ttotal: 170ms\tremaining: 345ms\n",
      "33:\tlearn: 0.9120631\ttotal: 173ms\tremaining: 335ms\n",
      "34:\tlearn: 0.9154453\ttotal: 175ms\tremaining: 325ms\n",
      "35:\tlearn: 0.9165727\ttotal: 177ms\tremaining: 315ms\n",
      "36:\tlearn: 0.9165727\ttotal: 179ms\tremaining: 305ms\n",
      "37:\tlearn: 0.9188275\ttotal: 182ms\tremaining: 296ms\n",
      "38:\tlearn: 0.9188275\ttotal: 183ms\tremaining: 287ms\n",
      "39:\tlearn: 0.9199549\ttotal: 185ms\tremaining: 278ms\n",
      "40:\tlearn: 0.9210823\ttotal: 187ms\tremaining: 270ms\n",
      "41:\tlearn: 0.9210823\ttotal: 189ms\tremaining: 261ms\n",
      "42:\tlearn: 0.9210823\ttotal: 191ms\tremaining: 253ms\n",
      "43:\tlearn: 0.9210823\ttotal: 193ms\tremaining: 245ms\n",
      "44:\tlearn: 0.9210823\ttotal: 195ms\tremaining: 238ms\n",
      "45:\tlearn: 0.9222097\ttotal: 197ms\tremaining: 232ms\n",
      "46:\tlearn: 0.9233371\ttotal: 199ms\tremaining: 225ms\n",
      "47:\tlearn: 0.9233371\ttotal: 201ms\tremaining: 218ms\n",
      "48:\tlearn: 0.9244645\ttotal: 203ms\tremaining: 211ms\n",
      "49:\tlearn: 0.9267193\ttotal: 205ms\tremaining: 205ms\n",
      "50:\tlearn: 0.9267193\ttotal: 206ms\tremaining: 198ms\n",
      "51:\tlearn: 0.9267193\ttotal: 208ms\tremaining: 192ms\n",
      "52:\tlearn: 0.9267193\ttotal: 210ms\tremaining: 186ms\n",
      "53:\tlearn: 0.9267193\ttotal: 213ms\tremaining: 181ms\n",
      "54:\tlearn: 0.9267193\ttotal: 215ms\tremaining: 176ms\n",
      "55:\tlearn: 0.9289741\ttotal: 218ms\tremaining: 171ms\n",
      "56:\tlearn: 0.9289741\ttotal: 219ms\tremaining: 165ms\n",
      "57:\tlearn: 0.9323563\ttotal: 221ms\tremaining: 160ms\n",
      "58:\tlearn: 0.9346110\ttotal: 223ms\tremaining: 155ms\n",
      "59:\tlearn: 0.9334837\ttotal: 224ms\tremaining: 150ms\n",
      "60:\tlearn: 0.9357384\ttotal: 226ms\tremaining: 145ms\n",
      "61:\tlearn: 0.9334837\ttotal: 228ms\tremaining: 140ms\n",
      "62:\tlearn: 0.9334837\ttotal: 231ms\tremaining: 136ms\n",
      "63:\tlearn: 0.9346110\ttotal: 233ms\tremaining: 131ms\n",
      "64:\tlearn: 0.9346110\ttotal: 235ms\tremaining: 126ms\n",
      "65:\tlearn: 0.9346110\ttotal: 236ms\tremaining: 122ms\n",
      "66:\tlearn: 0.9346110\ttotal: 238ms\tremaining: 117ms\n",
      "67:\tlearn: 0.9346110\ttotal: 239ms\tremaining: 113ms\n",
      "68:\tlearn: 0.9323563\ttotal: 241ms\tremaining: 108ms\n",
      "69:\tlearn: 0.9323563\ttotal: 243ms\tremaining: 104ms\n",
      "70:\tlearn: 0.9323563\ttotal: 245ms\tremaining: 100ms\n",
      "71:\tlearn: 0.9323563\ttotal: 246ms\tremaining: 95.8ms\n",
      "72:\tlearn: 0.9334837\ttotal: 248ms\tremaining: 91.8ms\n",
      "73:\tlearn: 0.9346110\ttotal: 250ms\tremaining: 87.8ms\n",
      "74:\tlearn: 0.9334837\ttotal: 251ms\tremaining: 83.8ms\n",
      "75:\tlearn: 0.9323563\ttotal: 253ms\tremaining: 79.9ms\n",
      "76:\tlearn: 0.9323563\ttotal: 254ms\tremaining: 75.8ms\n",
      "77:\tlearn: 0.9334837\ttotal: 255ms\tremaining: 72.1ms\n",
      "78:\tlearn: 0.9334837\ttotal: 257ms\tremaining: 68.3ms\n",
      "79:\tlearn: 0.9346110\ttotal: 259ms\tremaining: 64.7ms\n",
      "80:\tlearn: 0.9357384\ttotal: 260ms\tremaining: 61.1ms\n",
      "81:\tlearn: 0.9346110\ttotal: 262ms\tremaining: 57.6ms\n",
      "82:\tlearn: 0.9357384\ttotal: 264ms\tremaining: 54.1ms\n",
      "83:\tlearn: 0.9357384\ttotal: 265ms\tremaining: 50.4ms\n",
      "84:\tlearn: 0.9357384\ttotal: 267ms\tremaining: 47ms\n",
      "85:\tlearn: 0.9368658\ttotal: 268ms\tremaining: 43.6ms\n",
      "86:\tlearn: 0.9368658\ttotal: 269ms\tremaining: 40.3ms\n",
      "87:\tlearn: 0.9368658\ttotal: 271ms\tremaining: 36.9ms\n",
      "88:\tlearn: 0.9357384\ttotal: 273ms\tremaining: 33.7ms\n",
      "89:\tlearn: 0.9357384\ttotal: 274ms\tremaining: 30.4ms\n",
      "90:\tlearn: 0.9346110\ttotal: 275ms\tremaining: 27.2ms\n",
      "91:\tlearn: 0.9346110\ttotal: 278ms\tremaining: 24.1ms\n",
      "92:\tlearn: 0.9346110\ttotal: 280ms\tremaining: 21ms\n",
      "93:\tlearn: 0.9346110\ttotal: 281ms\tremaining: 17.9ms\n",
      "94:\tlearn: 0.9346110\ttotal: 283ms\tremaining: 14.9ms\n",
      "95:\tlearn: 0.9346110\ttotal: 284ms\tremaining: 11.8ms\n",
      "96:\tlearn: 0.9379932\ttotal: 286ms\tremaining: 8.84ms\n",
      "97:\tlearn: 0.9368658\ttotal: 288ms\tremaining: 5.87ms\n",
      "98:\tlearn: 0.9368658\ttotal: 290ms\tremaining: 2.92ms\n",
      "99:\tlearn: 0.9368658\ttotal: 293ms\tremaining: 0us\n",
      "0:\tlearn: 0.8782413\ttotal: 5.43ms\tremaining: 538ms\n",
      "1:\tlearn: 0.8827508\ttotal: 11.7ms\tremaining: 573ms\n",
      "2:\tlearn: 0.8861330\ttotal: 17.6ms\tremaining: 569ms\n",
      "3:\tlearn: 0.8838782\ttotal: 23.4ms\tremaining: 562ms\n",
      "4:\tlearn: 0.8703495\ttotal: 25.4ms\tremaining: 482ms\n",
      "5:\tlearn: 0.8737317\ttotal: 27.6ms\tremaining: 432ms\n",
      "6:\tlearn: 0.8692221\ttotal: 29.8ms\tremaining: 395ms\n",
      "7:\tlearn: 0.8771139\ttotal: 35.5ms\tremaining: 408ms\n",
      "8:\tlearn: 0.8726043\ttotal: 41.6ms\tremaining: 420ms\n",
      "9:\tlearn: 0.8726043\ttotal: 48.3ms\tremaining: 434ms\n",
      "10:\tlearn: 0.8714769\ttotal: 54.3ms\tremaining: 440ms\n",
      "11:\tlearn: 0.8726043\ttotal: 59.8ms\tremaining: 438ms\n",
      "12:\tlearn: 0.8771139\ttotal: 65.8ms\tremaining: 440ms\n",
      "13:\tlearn: 0.8793687\ttotal: 72.9ms\tremaining: 448ms\n",
      "14:\tlearn: 0.8771139\ttotal: 79.2ms\tremaining: 449ms\n",
      "15:\tlearn: 0.8793687\ttotal: 85.9ms\tremaining: 451ms\n",
      "16:\tlearn: 0.8793687\ttotal: 87.4ms\tremaining: 427ms\n",
      "17:\tlearn: 0.8793687\ttotal: 94.7ms\tremaining: 431ms\n",
      "18:\tlearn: 0.8804961\ttotal: 101ms\tremaining: 430ms\n",
      "19:\tlearn: 0.8838782\ttotal: 105ms\tremaining: 420ms\n",
      "20:\tlearn: 0.8838782\ttotal: 111ms\tremaining: 416ms\n",
      "21:\tlearn: 0.8861330\ttotal: 117ms\tremaining: 414ms\n",
      "22:\tlearn: 0.8883878\ttotal: 124ms\tremaining: 415ms\n",
      "23:\tlearn: 0.8917700\ttotal: 130ms\tremaining: 413ms\n",
      "24:\tlearn: 0.8951522\ttotal: 135ms\tremaining: 404ms\n",
      "25:\tlearn: 0.8951522\ttotal: 138ms\tremaining: 393ms\n",
      "26:\tlearn: 0.8928974\ttotal: 139ms\tremaining: 376ms\n",
      "27:\tlearn: 0.8951522\ttotal: 142ms\tremaining: 365ms\n",
      "28:\tlearn: 0.8951522\ttotal: 145ms\tremaining: 355ms\n",
      "29:\tlearn: 0.8974070\ttotal: 148ms\tremaining: 344ms\n",
      "30:\tlearn: 0.8962796\ttotal: 150ms\tremaining: 334ms\n",
      "31:\tlearn: 0.8985344\ttotal: 152ms\tremaining: 323ms\n",
      "32:\tlearn: 0.8996618\ttotal: 154ms\tremaining: 314ms\n",
      "33:\tlearn: 0.9030440\ttotal: 156ms\tremaining: 303ms\n",
      "34:\tlearn: 0.9052988\ttotal: 158ms\tremaining: 294ms\n",
      "35:\tlearn: 0.9064262\ttotal: 160ms\tremaining: 284ms\n",
      "36:\tlearn: 0.9064262\ttotal: 162ms\tremaining: 276ms\n",
      "37:\tlearn: 0.9064262\ttotal: 164ms\tremaining: 268ms\n",
      "38:\tlearn: 0.9064262\ttotal: 166ms\tremaining: 260ms\n",
      "39:\tlearn: 0.9086809\ttotal: 168ms\tremaining: 252ms\n",
      "40:\tlearn: 0.9109357\ttotal: 170ms\tremaining: 245ms\n",
      "41:\tlearn: 0.9120631\ttotal: 173ms\tremaining: 239ms\n",
      "42:\tlearn: 0.9131905\ttotal: 175ms\tremaining: 232ms\n",
      "43:\tlearn: 0.9131905\ttotal: 177ms\tremaining: 225ms\n",
      "44:\tlearn: 0.9143179\ttotal: 178ms\tremaining: 217ms\n",
      "45:\tlearn: 0.9143179\ttotal: 179ms\tremaining: 210ms\n",
      "46:\tlearn: 0.9143179\ttotal: 181ms\tremaining: 204ms\n",
      "47:\tlearn: 0.9177001\ttotal: 183ms\tremaining: 198ms\n",
      "48:\tlearn: 0.9177001\ttotal: 184ms\tremaining: 192ms\n",
      "49:\tlearn: 0.9188275\ttotal: 186ms\tremaining: 186ms\n",
      "50:\tlearn: 0.9177001\ttotal: 188ms\tremaining: 180ms\n",
      "51:\tlearn: 0.9199549\ttotal: 189ms\tremaining: 174ms\n",
      "52:\tlearn: 0.9188275\ttotal: 190ms\tremaining: 169ms\n",
      "53:\tlearn: 0.9210823\ttotal: 192ms\tremaining: 164ms\n",
      "54:\tlearn: 0.9199549\ttotal: 195ms\tremaining: 159ms\n",
      "55:\tlearn: 0.9210823\ttotal: 196ms\tremaining: 154ms\n",
      "56:\tlearn: 0.9210823\ttotal: 198ms\tremaining: 149ms\n",
      "57:\tlearn: 0.9222097\ttotal: 200ms\tremaining: 145ms\n",
      "58:\tlearn: 0.9244645\ttotal: 202ms\tremaining: 140ms\n",
      "59:\tlearn: 0.9244645\ttotal: 204ms\tremaining: 136ms\n",
      "60:\tlearn: 0.9244645\ttotal: 205ms\tremaining: 131ms\n",
      "61:\tlearn: 0.9255919\ttotal: 207ms\tremaining: 127ms\n",
      "62:\tlearn: 0.9244645\ttotal: 209ms\tremaining: 123ms\n",
      "63:\tlearn: 0.9255919\ttotal: 210ms\tremaining: 118ms\n",
      "64:\tlearn: 0.9244645\ttotal: 212ms\tremaining: 114ms\n",
      "65:\tlearn: 0.9267193\ttotal: 214ms\tremaining: 110ms\n",
      "66:\tlearn: 0.9267193\ttotal: 215ms\tremaining: 106ms\n",
      "67:\tlearn: 0.9267193\ttotal: 217ms\tremaining: 102ms\n",
      "68:\tlearn: 0.9278467\ttotal: 219ms\tremaining: 98.2ms\n",
      "69:\tlearn: 0.9278467\ttotal: 220ms\tremaining: 94.4ms\n",
      "70:\tlearn: 0.9278467\ttotal: 222ms\tremaining: 90.6ms\n",
      "71:\tlearn: 0.9289741\ttotal: 223ms\tremaining: 86.8ms\n",
      "72:\tlearn: 0.9289741\ttotal: 225ms\tremaining: 83.3ms\n",
      "73:\tlearn: 0.9289741\ttotal: 227ms\tremaining: 79.6ms\n",
      "74:\tlearn: 0.9289741\ttotal: 228ms\tremaining: 76ms\n",
      "75:\tlearn: 0.9289741\ttotal: 230ms\tremaining: 72.5ms\n",
      "76:\tlearn: 0.9289741\ttotal: 231ms\tremaining: 69ms\n",
      "77:\tlearn: 0.9289741\ttotal: 232ms\tremaining: 65.6ms\n",
      "78:\tlearn: 0.9289741\ttotal: 234ms\tremaining: 62.2ms\n",
      "79:\tlearn: 0.9301015\ttotal: 235ms\tremaining: 58.9ms\n",
      "80:\tlearn: 0.9301015\ttotal: 237ms\tremaining: 55.5ms\n",
      "81:\tlearn: 0.9301015\ttotal: 238ms\tremaining: 52.3ms\n",
      "82:\tlearn: 0.9301015\ttotal: 240ms\tremaining: 49.1ms\n",
      "83:\tlearn: 0.9301015\ttotal: 240ms\tremaining: 45.8ms\n",
      "84:\tlearn: 0.9301015\ttotal: 241ms\tremaining: 42.5ms\n",
      "85:\tlearn: 0.9301015\ttotal: 242ms\tremaining: 39.4ms\n",
      "86:\tlearn: 0.9301015\ttotal: 244ms\tremaining: 36.5ms\n",
      "87:\tlearn: 0.9301015\ttotal: 246ms\tremaining: 33.5ms\n",
      "88:\tlearn: 0.9312289\ttotal: 248ms\tremaining: 30.7ms\n",
      "89:\tlearn: 0.9323563\ttotal: 250ms\tremaining: 27.8ms\n",
      "90:\tlearn: 0.9323563\ttotal: 252ms\tremaining: 24.9ms\n",
      "91:\tlearn: 0.9323563\ttotal: 253ms\tremaining: 22ms\n",
      "92:\tlearn: 0.9301015\ttotal: 254ms\tremaining: 19.1ms\n",
      "93:\tlearn: 0.9301015\ttotal: 256ms\tremaining: 16.4ms\n",
      "94:\tlearn: 0.9301015\ttotal: 258ms\tremaining: 13.6ms\n",
      "95:\tlearn: 0.9312289\ttotal: 260ms\tremaining: 10.8ms\n",
      "96:\tlearn: 0.9312289\ttotal: 261ms\tremaining: 8.07ms\n",
      "97:\tlearn: 0.9312289\ttotal: 263ms\tremaining: 5.37ms\n",
      "98:\tlearn: 0.9312289\ttotal: 265ms\tremaining: 2.67ms\n",
      "99:\tlearn: 0.9312289\ttotal: 266ms\tremaining: 0us\n"
     ]
    },
    {
     "name": "stdout",
     "output_type": "stream",
     "text": [
      "0:\tlearn: 0.8658399\ttotal: 2.05ms\tremaining: 203ms\n",
      "1:\tlearn: 0.8827508\ttotal: 4.18ms\tremaining: 205ms\n",
      "2:\tlearn: 0.8906426\ttotal: 5.95ms\tremaining: 192ms\n",
      "3:\tlearn: 0.8906426\ttotal: 7.81ms\tremaining: 188ms\n",
      "4:\tlearn: 0.8782413\ttotal: 8.45ms\tremaining: 161ms\n",
      "5:\tlearn: 0.8895152\ttotal: 10.7ms\tremaining: 167ms\n",
      "6:\tlearn: 0.8861330\ttotal: 12.7ms\tremaining: 169ms\n",
      "7:\tlearn: 0.8895152\ttotal: 15ms\tremaining: 172ms\n",
      "8:\tlearn: 0.8962796\ttotal: 16.7ms\tremaining: 169ms\n",
      "9:\tlearn: 0.8962796\ttotal: 18.5ms\tremaining: 166ms\n",
      "10:\tlearn: 0.8962796\ttotal: 20.2ms\tremaining: 163ms\n",
      "11:\tlearn: 0.8996618\ttotal: 21.9ms\tremaining: 160ms\n",
      "12:\tlearn: 0.8985344\ttotal: 23.7ms\tremaining: 159ms\n",
      "13:\tlearn: 0.9007892\ttotal: 26.8ms\tremaining: 165ms\n",
      "14:\tlearn: 0.9019166\ttotal: 28.9ms\tremaining: 163ms\n",
      "15:\tlearn: 0.9052988\ttotal: 31ms\tremaining: 163ms\n",
      "16:\tlearn: 0.9064262\ttotal: 32.6ms\tremaining: 159ms\n",
      "17:\tlearn: 0.9086809\ttotal: 34.2ms\tremaining: 156ms\n",
      "18:\tlearn: 0.9041714\ttotal: 34.6ms\tremaining: 148ms\n",
      "19:\tlearn: 0.9075536\ttotal: 36ms\tremaining: 144ms\n",
      "20:\tlearn: 0.9086809\ttotal: 37.1ms\tremaining: 140ms\n",
      "21:\tlearn: 0.9075536\ttotal: 37.6ms\tremaining: 133ms\n",
      "22:\tlearn: 0.9075536\ttotal: 39.2ms\tremaining: 131ms\n",
      "23:\tlearn: 0.9098083\ttotal: 42.3ms\tremaining: 134ms\n",
      "24:\tlearn: 0.9120631\ttotal: 44.3ms\tremaining: 133ms\n",
      "25:\tlearn: 0.9109357\ttotal: 46.1ms\tremaining: 131ms\n",
      "26:\tlearn: 0.9131905\ttotal: 47.8ms\tremaining: 129ms\n",
      "27:\tlearn: 0.9120631\ttotal: 50.1ms\tremaining: 129ms\n",
      "28:\tlearn: 0.9131905\ttotal: 51.6ms\tremaining: 126ms\n",
      "29:\tlearn: 0.9177001\ttotal: 53ms\tremaining: 124ms\n",
      "30:\tlearn: 0.9199549\ttotal: 54.6ms\tremaining: 122ms\n",
      "31:\tlearn: 0.9188275\ttotal: 56.1ms\tremaining: 119ms\n",
      "32:\tlearn: 0.9177001\ttotal: 57.8ms\tremaining: 117ms\n",
      "33:\tlearn: 0.9154453\ttotal: 59.6ms\tremaining: 116ms\n",
      "34:\tlearn: 0.9177001\ttotal: 61.1ms\tremaining: 113ms\n",
      "35:\tlearn: 0.9188275\ttotal: 62.5ms\tremaining: 111ms\n",
      "36:\tlearn: 0.9199549\ttotal: 63.8ms\tremaining: 109ms\n",
      "37:\tlearn: 0.9188275\ttotal: 65.1ms\tremaining: 106ms\n",
      "38:\tlearn: 0.9222097\ttotal: 66.5ms\tremaining: 104ms\n",
      "39:\tlearn: 0.9210823\ttotal: 67.8ms\tremaining: 102ms\n",
      "40:\tlearn: 0.9222097\ttotal: 69.2ms\tremaining: 99.5ms\n",
      "41:\tlearn: 0.9222097\ttotal: 70.5ms\tremaining: 97.4ms\n",
      "42:\tlearn: 0.9222097\ttotal: 71.8ms\tremaining: 95.2ms\n",
      "43:\tlearn: 0.9222097\ttotal: 73.2ms\tremaining: 93.2ms\n",
      "44:\tlearn: 0.9222097\ttotal: 74.7ms\tremaining: 91.2ms\n",
      "45:\tlearn: 0.9233371\ttotal: 75.9ms\tremaining: 89.1ms\n",
      "46:\tlearn: 0.9233371\ttotal: 77.2ms\tremaining: 87ms\n",
      "47:\tlearn: 0.9244645\ttotal: 78.4ms\tremaining: 84.9ms\n",
      "48:\tlearn: 0.9244645\ttotal: 79.6ms\tremaining: 82.8ms\n",
      "49:\tlearn: 0.9255919\ttotal: 80.8ms\tremaining: 80.8ms\n",
      "50:\tlearn: 0.9255919\ttotal: 82ms\tremaining: 78.8ms\n",
      "51:\tlearn: 0.9267193\ttotal: 83.2ms\tremaining: 76.8ms\n",
      "52:\tlearn: 0.9255919\ttotal: 84.5ms\tremaining: 74.9ms\n",
      "53:\tlearn: 0.9289741\ttotal: 85.8ms\tremaining: 73.1ms\n",
      "54:\tlearn: 0.9278467\ttotal: 87ms\tremaining: 71.1ms\n",
      "55:\tlearn: 0.9301015\ttotal: 88.1ms\tremaining: 69.2ms\n",
      "56:\tlearn: 0.9312289\ttotal: 89.3ms\tremaining: 67.4ms\n",
      "57:\tlearn: 0.9301015\ttotal: 90.6ms\tremaining: 65.6ms\n",
      "58:\tlearn: 0.9289741\ttotal: 91.8ms\tremaining: 63.8ms\n",
      "59:\tlearn: 0.9301015\ttotal: 92.9ms\tremaining: 62ms\n",
      "60:\tlearn: 0.9301015\ttotal: 94.1ms\tremaining: 60.1ms\n",
      "61:\tlearn: 0.9312289\ttotal: 95.3ms\tremaining: 58.4ms\n",
      "62:\tlearn: 0.9323563\ttotal: 96.5ms\tremaining: 56.7ms\n",
      "63:\tlearn: 0.9334837\ttotal: 97.7ms\tremaining: 55ms\n",
      "64:\tlearn: 0.9334837\ttotal: 99ms\tremaining: 53.3ms\n",
      "65:\tlearn: 0.9334837\ttotal: 100ms\tremaining: 51.6ms\n",
      "66:\tlearn: 0.9346110\ttotal: 101ms\tremaining: 50ms\n",
      "67:\tlearn: 0.9323563\ttotal: 103ms\tremaining: 48.3ms\n",
      "68:\tlearn: 0.9334837\ttotal: 104ms\tremaining: 46.7ms\n",
      "69:\tlearn: 0.9346110\ttotal: 105ms\tremaining: 45ms\n",
      "70:\tlearn: 0.9334837\ttotal: 106ms\tremaining: 43.4ms\n",
      "71:\tlearn: 0.9346110\ttotal: 107ms\tremaining: 41.8ms\n",
      "72:\tlearn: 0.9357384\ttotal: 109ms\tremaining: 40.1ms\n",
      "73:\tlearn: 0.9357384\ttotal: 110ms\tremaining: 38.6ms\n",
      "74:\tlearn: 0.9346110\ttotal: 111ms\tremaining: 37ms\n",
      "75:\tlearn: 0.9357384\ttotal: 112ms\tremaining: 35.4ms\n",
      "76:\tlearn: 0.9357384\ttotal: 113ms\tremaining: 33.8ms\n",
      "77:\tlearn: 0.9357384\ttotal: 114ms\tremaining: 32.3ms\n",
      "78:\tlearn: 0.9368658\ttotal: 116ms\tremaining: 30.7ms\n",
      "79:\tlearn: 0.9368658\ttotal: 117ms\tremaining: 29.2ms\n",
      "80:\tlearn: 0.9357384\ttotal: 118ms\tremaining: 27.6ms\n",
      "81:\tlearn: 0.9368658\ttotal: 119ms\tremaining: 26.1ms\n",
      "82:\tlearn: 0.9368658\ttotal: 120ms\tremaining: 24.6ms\n",
      "83:\tlearn: 0.9391206\ttotal: 121ms\tremaining: 23.1ms\n",
      "84:\tlearn: 0.9391206\ttotal: 122ms\tremaining: 21.6ms\n",
      "85:\tlearn: 0.9379932\ttotal: 123ms\tremaining: 20.1ms\n",
      "86:\tlearn: 0.9391206\ttotal: 125ms\tremaining: 18.6ms\n",
      "87:\tlearn: 0.9391206\ttotal: 126ms\tremaining: 17.1ms\n",
      "88:\tlearn: 0.9402480\ttotal: 127ms\tremaining: 15.7ms\n",
      "89:\tlearn: 0.9413754\ttotal: 128ms\tremaining: 14.2ms\n",
      "90:\tlearn: 0.9402480\ttotal: 129ms\tremaining: 12.8ms\n",
      "91:\tlearn: 0.9425028\ttotal: 130ms\tremaining: 11.3ms\n",
      "92:\tlearn: 0.9425028\ttotal: 132ms\tremaining: 9.9ms\n",
      "93:\tlearn: 0.9436302\ttotal: 133ms\tremaining: 8.47ms\n",
      "94:\tlearn: 0.9436302\ttotal: 134ms\tremaining: 7.05ms\n",
      "95:\tlearn: 0.9436302\ttotal: 134ms\tremaining: 5.6ms\n",
      "96:\tlearn: 0.9436302\ttotal: 135ms\tremaining: 4.19ms\n",
      "97:\tlearn: 0.9436302\ttotal: 136ms\tremaining: 2.79ms\n",
      "98:\tlearn: 0.9436302\ttotal: 138ms\tremaining: 1.39ms\n",
      "99:\tlearn: 0.9436302\ttotal: 139ms\tremaining: 0us\n",
      "0:\tlearn: 0.8714769\ttotal: 5.69ms\tremaining: 563ms\n",
      "1:\tlearn: 0.8793687\ttotal: 12.1ms\tremaining: 591ms\n",
      "2:\tlearn: 0.8850056\ttotal: 17.7ms\tremaining: 573ms\n",
      "3:\tlearn: 0.8883878\ttotal: 23.4ms\tremaining: 562ms\n",
      "4:\tlearn: 0.8782413\ttotal: 25.5ms\tremaining: 484ms\n",
      "5:\tlearn: 0.8782413\ttotal: 28.1ms\tremaining: 441ms\n",
      "6:\tlearn: 0.8771139\ttotal: 30ms\tremaining: 399ms\n",
      "7:\tlearn: 0.8793687\ttotal: 35.6ms\tremaining: 409ms\n",
      "8:\tlearn: 0.8782413\ttotal: 41.3ms\tremaining: 418ms\n",
      "9:\tlearn: 0.8816234\ttotal: 46.8ms\tremaining: 421ms\n",
      "10:\tlearn: 0.8793687\ttotal: 52.3ms\tremaining: 424ms\n",
      "11:\tlearn: 0.8816234\ttotal: 58.3ms\tremaining: 427ms\n",
      "12:\tlearn: 0.8827508\ttotal: 63.7ms\tremaining: 426ms\n",
      "13:\tlearn: 0.8850056\ttotal: 66.1ms\tremaining: 406ms\n",
      "14:\tlearn: 0.8838782\ttotal: 72.7ms\tremaining: 412ms\n",
      "15:\tlearn: 0.8861330\ttotal: 78.3ms\tremaining: 411ms\n",
      "16:\tlearn: 0.8838782\ttotal: 84.2ms\tremaining: 411ms\n",
      "17:\tlearn: 0.8883878\ttotal: 90.3ms\tremaining: 411ms\n",
      "18:\tlearn: 0.8895152\ttotal: 96.7ms\tremaining: 412ms\n",
      "19:\tlearn: 0.8917700\ttotal: 103ms\tremaining: 411ms\n",
      "20:\tlearn: 0.8917700\ttotal: 108ms\tremaining: 408ms\n",
      "21:\tlearn: 0.8928974\ttotal: 114ms\tremaining: 404ms\n",
      "22:\tlearn: 0.8951522\ttotal: 120ms\tremaining: 401ms\n",
      "23:\tlearn: 0.8974070\ttotal: 126ms\tremaining: 398ms\n",
      "24:\tlearn: 0.8974070\ttotal: 131ms\tremaining: 394ms\n",
      "25:\tlearn: 0.8985344\ttotal: 137ms\tremaining: 390ms\n",
      "26:\tlearn: 0.8985344\ttotal: 143ms\tremaining: 386ms\n",
      "27:\tlearn: 0.9007892\ttotal: 148ms\tremaining: 382ms\n",
      "28:\tlearn: 0.9019166\ttotal: 155ms\tremaining: 379ms\n",
      "29:\tlearn: 0.9030440\ttotal: 160ms\tremaining: 374ms\n",
      "30:\tlearn: 0.9030440\ttotal: 166ms\tremaining: 370ms\n",
      "31:\tlearn: 0.9052988\ttotal: 172ms\tremaining: 365ms\n",
      "32:\tlearn: 0.9052988\ttotal: 177ms\tremaining: 360ms\n",
      "33:\tlearn: 0.9075536\ttotal: 183ms\tremaining: 356ms\n",
      "34:\tlearn: 0.9109357\ttotal: 189ms\tremaining: 351ms\n",
      "35:\tlearn: 0.9120631\ttotal: 196ms\tremaining: 348ms\n",
      "36:\tlearn: 0.9109357\ttotal: 202ms\tremaining: 344ms\n",
      "37:\tlearn: 0.9120631\ttotal: 208ms\tremaining: 339ms\n",
      "38:\tlearn: 0.9109357\ttotal: 214ms\tremaining: 334ms\n",
      "39:\tlearn: 0.9131905\ttotal: 220ms\tremaining: 329ms\n",
      "40:\tlearn: 0.9131905\ttotal: 225ms\tremaining: 324ms\n",
      "41:\tlearn: 0.9143179\ttotal: 231ms\tremaining: 319ms\n",
      "42:\tlearn: 0.9143179\ttotal: 235ms\tremaining: 312ms\n",
      "43:\tlearn: 0.9165727\ttotal: 239ms\tremaining: 305ms\n",
      "44:\tlearn: 0.9165727\ttotal: 243ms\tremaining: 297ms\n",
      "45:\tlearn: 0.9188275\ttotal: 245ms\tremaining: 288ms\n",
      "46:\tlearn: 0.9210823\ttotal: 248ms\tremaining: 280ms\n",
      "47:\tlearn: 0.9222097\ttotal: 251ms\tremaining: 272ms\n",
      "48:\tlearn: 0.9188275\ttotal: 253ms\tremaining: 263ms\n",
      "49:\tlearn: 0.9199549\ttotal: 256ms\tremaining: 256ms\n",
      "50:\tlearn: 0.9210823\ttotal: 258ms\tremaining: 248ms\n",
      "51:\tlearn: 0.9199549\ttotal: 260ms\tremaining: 240ms\n",
      "52:\tlearn: 0.9210823\ttotal: 262ms\tremaining: 232ms\n",
      "53:\tlearn: 0.9188275\ttotal: 263ms\tremaining: 224ms\n",
      "54:\tlearn: 0.9199549\ttotal: 265ms\tremaining: 217ms\n",
      "55:\tlearn: 0.9222097\ttotal: 267ms\tremaining: 210ms\n",
      "56:\tlearn: 0.9222097\ttotal: 268ms\tremaining: 202ms\n",
      "57:\tlearn: 0.9222097\ttotal: 270ms\tremaining: 196ms\n",
      "58:\tlearn: 0.9222097\ttotal: 272ms\tremaining: 189ms\n",
      "59:\tlearn: 0.9233371\ttotal: 273ms\tremaining: 182ms\n",
      "60:\tlearn: 0.9267193\ttotal: 275ms\tremaining: 176ms\n",
      "61:\tlearn: 0.9255919\ttotal: 277ms\tremaining: 170ms\n",
      "62:\tlearn: 0.9267193\ttotal: 278ms\tremaining: 163ms\n",
      "63:\tlearn: 0.9255919\ttotal: 279ms\tremaining: 157ms\n",
      "64:\tlearn: 0.9267193\ttotal: 281ms\tremaining: 151ms\n",
      "65:\tlearn: 0.9267193\ttotal: 282ms\tremaining: 145ms\n",
      "66:\tlearn: 0.9267193\ttotal: 283ms\tremaining: 140ms\n",
      "67:\tlearn: 0.9278467\ttotal: 285ms\tremaining: 134ms\n",
      "68:\tlearn: 0.9267193\ttotal: 286ms\tremaining: 129ms\n",
      "69:\tlearn: 0.9267193\ttotal: 288ms\tremaining: 123ms\n",
      "70:\tlearn: 0.9267193\ttotal: 289ms\tremaining: 118ms\n",
      "71:\tlearn: 0.9278467\ttotal: 291ms\tremaining: 113ms\n",
      "72:\tlearn: 0.9289741\ttotal: 292ms\tremaining: 108ms\n",
      "73:\tlearn: 0.9278467\ttotal: 293ms\tremaining: 103ms\n",
      "74:\tlearn: 0.9278467\ttotal: 295ms\tremaining: 98.2ms\n",
      "75:\tlearn: 0.9301015\ttotal: 296ms\tremaining: 93.5ms\n",
      "76:\tlearn: 0.9312289\ttotal: 297ms\tremaining: 88.9ms\n",
      "77:\tlearn: 0.9312289\ttotal: 299ms\tremaining: 84.3ms\n",
      "78:\tlearn: 0.9312289\ttotal: 300ms\tremaining: 79.9ms\n",
      "79:\tlearn: 0.9323563\ttotal: 302ms\tremaining: 75.4ms\n",
      "80:\tlearn: 0.9334837\ttotal: 303ms\tremaining: 71.1ms\n",
      "81:\tlearn: 0.9323563\ttotal: 305ms\tremaining: 66.9ms\n",
      "82:\tlearn: 0.9323563\ttotal: 306ms\tremaining: 62.7ms\n",
      "83:\tlearn: 0.9323563\ttotal: 307ms\tremaining: 58.6ms\n",
      "84:\tlearn: 0.9323563\ttotal: 309ms\tremaining: 54.5ms\n",
      "85:\tlearn: 0.9323563\ttotal: 310ms\tremaining: 50.5ms\n",
      "86:\tlearn: 0.9323563\ttotal: 312ms\tremaining: 46.5ms\n",
      "87:\tlearn: 0.9323563\ttotal: 313ms\tremaining: 42.7ms\n",
      "88:\tlearn: 0.9323563\ttotal: 314ms\tremaining: 38.9ms\n",
      "89:\tlearn: 0.9334837\ttotal: 316ms\tremaining: 35.1ms\n",
      "90:\tlearn: 0.9334837\ttotal: 317ms\tremaining: 31.4ms\n",
      "91:\tlearn: 0.9334837\ttotal: 319ms\tremaining: 27.7ms\n",
      "92:\tlearn: 0.9323563\ttotal: 320ms\tremaining: 24.1ms\n",
      "93:\tlearn: 0.9323563\ttotal: 322ms\tremaining: 20.5ms\n",
      "94:\tlearn: 0.9323563\ttotal: 323ms\tremaining: 17ms\n",
      "95:\tlearn: 0.9346110\ttotal: 324ms\tremaining: 13.5ms\n",
      "96:\tlearn: 0.9346110\ttotal: 326ms\tremaining: 10.1ms\n",
      "97:\tlearn: 0.9346110\ttotal: 327ms\tremaining: 6.68ms\n",
      "98:\tlearn: 0.9346110\ttotal: 329ms\tremaining: 3.32ms\n",
      "99:\tlearn: 0.9334837\ttotal: 330ms\tremaining: 0us\n"
     ]
    },
    {
     "name": "stdout",
     "output_type": "stream",
     "text": [
      "0:\tlearn: 0.8726043\ttotal: 5.89ms\tremaining: 584ms\n",
      "1:\tlearn: 0.8782413\ttotal: 12.1ms\tremaining: 591ms\n",
      "2:\tlearn: 0.8759865\ttotal: 17.7ms\tremaining: 573ms\n",
      "3:\tlearn: 0.8759865\ttotal: 23.4ms\tremaining: 561ms\n",
      "4:\tlearn: 0.8680947\ttotal: 25.5ms\tremaining: 485ms\n",
      "5:\tlearn: 0.8726043\ttotal: 27.8ms\tremaining: 436ms\n",
      "6:\tlearn: 0.8714769\ttotal: 29.9ms\tremaining: 398ms\n",
      "7:\tlearn: 0.8782413\ttotal: 35.5ms\tremaining: 408ms\n",
      "8:\tlearn: 0.8793687\ttotal: 41.3ms\tremaining: 417ms\n",
      "9:\tlearn: 0.8737317\ttotal: 42.6ms\tremaining: 383ms\n",
      "10:\tlearn: 0.8748591\ttotal: 48.3ms\tremaining: 390ms\n",
      "11:\tlearn: 0.8782413\ttotal: 53.8ms\tremaining: 394ms\n",
      "12:\tlearn: 0.8782413\ttotal: 59.4ms\tremaining: 397ms\n",
      "13:\tlearn: 0.8782413\ttotal: 64.9ms\tremaining: 399ms\n",
      "14:\tlearn: 0.8850056\ttotal: 70.5ms\tremaining: 399ms\n",
      "15:\tlearn: 0.8827508\ttotal: 76.2ms\tremaining: 400ms\n",
      "16:\tlearn: 0.8850056\ttotal: 81.6ms\tremaining: 398ms\n",
      "17:\tlearn: 0.8883878\ttotal: 87.5ms\tremaining: 398ms\n",
      "18:\tlearn: 0.8928974\ttotal: 93ms\tremaining: 397ms\n",
      "19:\tlearn: 0.8940248\ttotal: 97.2ms\tremaining: 389ms\n",
      "20:\tlearn: 0.8974070\ttotal: 103ms\tremaining: 386ms\n",
      "21:\tlearn: 0.8962796\ttotal: 109ms\tremaining: 386ms\n",
      "22:\tlearn: 0.8974070\ttotal: 114ms\tremaining: 383ms\n",
      "23:\tlearn: 0.8962796\ttotal: 120ms\tremaining: 381ms\n",
      "24:\tlearn: 0.8985344\ttotal: 126ms\tremaining: 378ms\n",
      "25:\tlearn: 0.9041714\ttotal: 132ms\tremaining: 375ms\n",
      "26:\tlearn: 0.9007892\ttotal: 134ms\tremaining: 364ms\n",
      "27:\tlearn: 0.9052988\ttotal: 140ms\tremaining: 361ms\n",
      "28:\tlearn: 0.9075536\ttotal: 146ms\tremaining: 358ms\n",
      "29:\tlearn: 0.9120631\ttotal: 152ms\tremaining: 354ms\n",
      "30:\tlearn: 0.9109357\ttotal: 157ms\tremaining: 350ms\n",
      "31:\tlearn: 0.9120631\ttotal: 163ms\tremaining: 346ms\n",
      "32:\tlearn: 0.9143179\ttotal: 168ms\tremaining: 342ms\n",
      "33:\tlearn: 0.9143179\ttotal: 174ms\tremaining: 337ms\n",
      "34:\tlearn: 0.9143179\ttotal: 180ms\tremaining: 334ms\n",
      "35:\tlearn: 0.9143179\ttotal: 185ms\tremaining: 330ms\n",
      "36:\tlearn: 0.9165727\ttotal: 191ms\tremaining: 324ms\n",
      "37:\tlearn: 0.9154453\ttotal: 197ms\tremaining: 322ms\n",
      "38:\tlearn: 0.9154453\ttotal: 204ms\tremaining: 318ms\n",
      "39:\tlearn: 0.9188275\ttotal: 209ms\tremaining: 314ms\n",
      "40:\tlearn: 0.9199549\ttotal: 215ms\tremaining: 309ms\n",
      "41:\tlearn: 0.9199549\ttotal: 220ms\tremaining: 304ms\n",
      "42:\tlearn: 0.9233371\ttotal: 226ms\tremaining: 300ms\n",
      "43:\tlearn: 0.9267193\ttotal: 232ms\tremaining: 296ms\n",
      "44:\tlearn: 0.9233371\ttotal: 235ms\tremaining: 288ms\n",
      "45:\tlearn: 0.9222097\ttotal: 242ms\tremaining: 284ms\n",
      "46:\tlearn: 0.9222097\ttotal: 248ms\tremaining: 279ms\n",
      "47:\tlearn: 0.9233371\ttotal: 254ms\tremaining: 275ms\n",
      "48:\tlearn: 0.9233371\ttotal: 260ms\tremaining: 271ms\n",
      "49:\tlearn: 0.9222097\ttotal: 266ms\tremaining: 266ms\n",
      "50:\tlearn: 0.9233371\ttotal: 272ms\tremaining: 261ms\n",
      "51:\tlearn: 0.9244645\ttotal: 278ms\tremaining: 256ms\n",
      "52:\tlearn: 0.9267193\ttotal: 284ms\tremaining: 252ms\n",
      "53:\tlearn: 0.9289741\ttotal: 290ms\tremaining: 247ms\n",
      "54:\tlearn: 0.9278467\ttotal: 296ms\tremaining: 242ms\n",
      "55:\tlearn: 0.9278467\ttotal: 302ms\tremaining: 237ms\n",
      "56:\tlearn: 0.9278467\ttotal: 307ms\tremaining: 232ms\n",
      "57:\tlearn: 0.9267193\ttotal: 313ms\tremaining: 227ms\n",
      "58:\tlearn: 0.9267193\ttotal: 319ms\tremaining: 222ms\n",
      "59:\tlearn: 0.9267193\ttotal: 325ms\tremaining: 217ms\n",
      "60:\tlearn: 0.9267193\ttotal: 331ms\tremaining: 211ms\n",
      "61:\tlearn: 0.9255919\ttotal: 337ms\tremaining: 206ms\n",
      "62:\tlearn: 0.9267193\ttotal: 342ms\tremaining: 201ms\n",
      "63:\tlearn: 0.9278467\ttotal: 348ms\tremaining: 196ms\n",
      "64:\tlearn: 0.9278467\ttotal: 354ms\tremaining: 191ms\n",
      "65:\tlearn: 0.9278467\ttotal: 360ms\tremaining: 185ms\n",
      "66:\tlearn: 0.9289741\ttotal: 366ms\tremaining: 180ms\n",
      "67:\tlearn: 0.9312289\ttotal: 371ms\tremaining: 175ms\n",
      "68:\tlearn: 0.9323563\ttotal: 378ms\tremaining: 170ms\n",
      "69:\tlearn: 0.9334837\ttotal: 384ms\tremaining: 164ms\n",
      "70:\tlearn: 0.9334837\ttotal: 389ms\tremaining: 159ms\n",
      "71:\tlearn: 0.9334837\ttotal: 397ms\tremaining: 154ms\n",
      "72:\tlearn: 0.9334837\ttotal: 402ms\tremaining: 149ms\n",
      "73:\tlearn: 0.9357384\ttotal: 409ms\tremaining: 144ms\n",
      "74:\tlearn: 0.9346110\ttotal: 415ms\tremaining: 138ms\n",
      "75:\tlearn: 0.9346110\ttotal: 421ms\tremaining: 133ms\n",
      "76:\tlearn: 0.9357384\ttotal: 427ms\tremaining: 128ms\n",
      "77:\tlearn: 0.9346110\ttotal: 433ms\tremaining: 122ms\n",
      "78:\tlearn: 0.9346110\ttotal: 436ms\tremaining: 116ms\n",
      "79:\tlearn: 0.9357384\ttotal: 442ms\tremaining: 111ms\n",
      "80:\tlearn: 0.9357384\ttotal: 447ms\tremaining: 105ms\n",
      "81:\tlearn: 0.9357384\ttotal: 450ms\tremaining: 98.9ms\n",
      "82:\tlearn: 0.9368658\ttotal: 454ms\tremaining: 93ms\n",
      "83:\tlearn: 0.9368658\ttotal: 457ms\tremaining: 87.1ms\n",
      "84:\tlearn: 0.9368658\ttotal: 460ms\tremaining: 81.2ms\n",
      "85:\tlearn: 0.9368658\ttotal: 463ms\tremaining: 75.3ms\n",
      "86:\tlearn: 0.9368658\ttotal: 465ms\tremaining: 69.5ms\n",
      "87:\tlearn: 0.9368658\ttotal: 468ms\tremaining: 63.8ms\n",
      "88:\tlearn: 0.9368658\ttotal: 471ms\tremaining: 58.2ms\n",
      "89:\tlearn: 0.9368658\ttotal: 473ms\tremaining: 52.5ms\n",
      "90:\tlearn: 0.9402480\ttotal: 475ms\tremaining: 46.9ms\n",
      "91:\tlearn: 0.9402480\ttotal: 475ms\tremaining: 41.3ms\n",
      "92:\tlearn: 0.9391206\ttotal: 478ms\tremaining: 36ms\n",
      "93:\tlearn: 0.9379932\ttotal: 479ms\tremaining: 30.6ms\n",
      "94:\tlearn: 0.9379932\ttotal: 481ms\tremaining: 25.3ms\n",
      "95:\tlearn: 0.9357384\ttotal: 482ms\tremaining: 20.1ms\n",
      "96:\tlearn: 0.9357384\ttotal: 483ms\tremaining: 15ms\n",
      "97:\tlearn: 0.9379932\ttotal: 485ms\tremaining: 9.9ms\n",
      "98:\tlearn: 0.9391206\ttotal: 486ms\tremaining: 4.91ms\n",
      "99:\tlearn: 0.9379932\ttotal: 488ms\tremaining: 0us\n",
      "0:\tlearn: 0.8590755\ttotal: 6.23ms\tremaining: 617ms\n",
      "1:\tlearn: 0.8974070\ttotal: 12.5ms\tremaining: 612ms\n",
      "2:\tlearn: 0.8962796\ttotal: 18.4ms\tremaining: 596ms\n",
      "3:\tlearn: 0.8928974\ttotal: 24.4ms\tremaining: 586ms\n",
      "4:\tlearn: 0.8827508\ttotal: 26.6ms\tremaining: 506ms\n",
      "5:\tlearn: 0.8883878\ttotal: 32.7ms\tremaining: 513ms\n",
      "6:\tlearn: 0.8974070\ttotal: 38.7ms\tremaining: 515ms\n",
      "7:\tlearn: 0.8974070\ttotal: 44.9ms\tremaining: 517ms\n",
      "8:\tlearn: 0.8996618\ttotal: 50.1ms\tremaining: 507ms\n",
      "9:\tlearn: 0.9019166\ttotal: 56.3ms\tremaining: 506ms\n",
      "10:\tlearn: 0.8974070\ttotal: 62.2ms\tremaining: 503ms\n",
      "11:\tlearn: 0.9041714\ttotal: 68.2ms\tremaining: 500ms\n",
      "12:\tlearn: 0.9019166\ttotal: 74.1ms\tremaining: 496ms\n",
      "13:\tlearn: 0.9019166\ttotal: 79.7ms\tremaining: 489ms\n",
      "14:\tlearn: 0.9030440\ttotal: 85.7ms\tremaining: 486ms\n",
      "15:\tlearn: 0.9019166\ttotal: 91.7ms\tremaining: 481ms\n",
      "16:\tlearn: 0.9041714\ttotal: 97.2ms\tremaining: 475ms\n",
      "17:\tlearn: 0.9041714\ttotal: 103ms\tremaining: 468ms\n",
      "18:\tlearn: 0.8985344\ttotal: 105ms\tremaining: 449ms\n",
      "19:\tlearn: 0.9019166\ttotal: 111ms\tremaining: 444ms\n",
      "20:\tlearn: 0.8996618\ttotal: 116ms\tremaining: 438ms\n",
      "21:\tlearn: 0.9019166\ttotal: 122ms\tremaining: 432ms\n",
      "22:\tlearn: 0.9064262\ttotal: 127ms\tremaining: 426ms\n",
      "23:\tlearn: 0.9109357\ttotal: 131ms\tremaining: 415ms\n",
      "24:\tlearn: 0.9120631\ttotal: 135ms\tremaining: 404ms\n",
      "25:\tlearn: 0.9109357\ttotal: 138ms\tremaining: 392ms\n",
      "26:\tlearn: 0.9075536\ttotal: 138ms\tremaining: 374ms\n",
      "27:\tlearn: 0.9109357\ttotal: 141ms\tremaining: 363ms\n",
      "28:\tlearn: 0.9109357\ttotal: 144ms\tremaining: 352ms\n",
      "29:\tlearn: 0.9120631\ttotal: 146ms\tremaining: 341ms\n",
      "30:\tlearn: 0.9109357\ttotal: 147ms\tremaining: 328ms\n",
      "31:\tlearn: 0.9098083\ttotal: 149ms\tremaining: 317ms\n",
      "32:\tlearn: 0.9131905\ttotal: 151ms\tremaining: 307ms\n",
      "33:\tlearn: 0.9143179\ttotal: 153ms\tremaining: 297ms\n",
      "34:\tlearn: 0.9154453\ttotal: 155ms\tremaining: 288ms\n",
      "35:\tlearn: 0.9154453\ttotal: 157ms\tremaining: 278ms\n",
      "36:\tlearn: 0.9199549\ttotal: 158ms\tremaining: 270ms\n",
      "37:\tlearn: 0.9199549\ttotal: 160ms\tremaining: 261ms\n",
      "38:\tlearn: 0.9233371\ttotal: 162ms\tremaining: 253ms\n",
      "39:\tlearn: 0.9233371\ttotal: 163ms\tremaining: 245ms\n",
      "40:\tlearn: 0.9233371\ttotal: 165ms\tremaining: 237ms\n",
      "41:\tlearn: 0.9244645\ttotal: 166ms\tremaining: 229ms\n",
      "42:\tlearn: 0.9244645\ttotal: 168ms\tremaining: 222ms\n",
      "43:\tlearn: 0.9244645\ttotal: 169ms\tremaining: 215ms\n",
      "44:\tlearn: 0.9255919\ttotal: 170ms\tremaining: 208ms\n",
      "45:\tlearn: 0.9267193\ttotal: 171ms\tremaining: 201ms\n",
      "46:\tlearn: 0.9301015\ttotal: 173ms\tremaining: 195ms\n",
      "47:\tlearn: 0.9289741\ttotal: 174ms\tremaining: 189ms\n",
      "48:\tlearn: 0.9289741\ttotal: 175ms\tremaining: 182ms\n",
      "49:\tlearn: 0.9278467\ttotal: 177ms\tremaining: 177ms\n",
      "50:\tlearn: 0.9289741\ttotal: 178ms\tremaining: 171ms\n",
      "51:\tlearn: 0.9301015\ttotal: 179ms\tremaining: 165ms\n",
      "52:\tlearn: 0.9301015\ttotal: 180ms\tremaining: 160ms\n",
      "53:\tlearn: 0.9334837\ttotal: 181ms\tremaining: 154ms\n",
      "54:\tlearn: 0.9334837\ttotal: 182ms\tremaining: 149ms\n",
      "55:\tlearn: 0.9323563\ttotal: 183ms\tremaining: 144ms\n",
      "56:\tlearn: 0.9323563\ttotal: 184ms\tremaining: 139ms\n",
      "57:\tlearn: 0.9334837\ttotal: 185ms\tremaining: 134ms\n",
      "58:\tlearn: 0.9334837\ttotal: 187ms\tremaining: 130ms\n",
      "59:\tlearn: 0.9334837\ttotal: 188ms\tremaining: 125ms\n",
      "60:\tlearn: 0.9323563\ttotal: 189ms\tremaining: 121ms\n",
      "61:\tlearn: 0.9323563\ttotal: 190ms\tremaining: 116ms\n",
      "62:\tlearn: 0.9323563\ttotal: 191ms\tremaining: 112ms\n",
      "63:\tlearn: 0.9323563\ttotal: 192ms\tremaining: 108ms\n",
      "64:\tlearn: 0.9334837\ttotal: 194ms\tremaining: 104ms\n"
     ]
    },
    {
     "name": "stdout",
     "output_type": "stream",
     "text": [
      "65:\tlearn: 0.9323563\ttotal: 195ms\tremaining: 100ms\n",
      "66:\tlearn: 0.9334837\ttotal: 196ms\tremaining: 96.5ms\n",
      "67:\tlearn: 0.9334837\ttotal: 197ms\tremaining: 92.7ms\n",
      "68:\tlearn: 0.9334837\ttotal: 198ms\tremaining: 89ms\n",
      "69:\tlearn: 0.9323563\ttotal: 199ms\tremaining: 85.4ms\n",
      "70:\tlearn: 0.9323563\ttotal: 201ms\tremaining: 81.9ms\n",
      "71:\tlearn: 0.9334837\ttotal: 202ms\tremaining: 78.4ms\n",
      "72:\tlearn: 0.9334837\ttotal: 203ms\tremaining: 75ms\n",
      "73:\tlearn: 0.9334837\ttotal: 204ms\tremaining: 71.7ms\n",
      "74:\tlearn: 0.9334837\ttotal: 205ms\tremaining: 68.4ms\n",
      "75:\tlearn: 0.9334837\ttotal: 206ms\tremaining: 65.1ms\n",
      "76:\tlearn: 0.9334837\ttotal: 208ms\tremaining: 62ms\n",
      "77:\tlearn: 0.9346110\ttotal: 209ms\tremaining: 58.9ms\n",
      "78:\tlearn: 0.9357384\ttotal: 210ms\tremaining: 55.8ms\n",
      "79:\tlearn: 0.9357384\ttotal: 211ms\tremaining: 52.8ms\n",
      "80:\tlearn: 0.9346110\ttotal: 212ms\tremaining: 49.8ms\n",
      "81:\tlearn: 0.9346110\ttotal: 214ms\tremaining: 46.9ms\n",
      "82:\tlearn: 0.9357384\ttotal: 215ms\tremaining: 44.1ms\n",
      "83:\tlearn: 0.9357384\ttotal: 217ms\tremaining: 41.3ms\n",
      "84:\tlearn: 0.9357384\ttotal: 218ms\tremaining: 38.5ms\n",
      "85:\tlearn: 0.9357384\ttotal: 220ms\tremaining: 35.8ms\n",
      "86:\tlearn: 0.9346110\ttotal: 222ms\tremaining: 33.2ms\n",
      "87:\tlearn: 0.9346110\ttotal: 222ms\tremaining: 30.3ms\n",
      "88:\tlearn: 0.9346110\ttotal: 223ms\tremaining: 27.6ms\n",
      "89:\tlearn: 0.9346110\ttotal: 225ms\tremaining: 25ms\n",
      "90:\tlearn: 0.9346110\ttotal: 227ms\tremaining: 22.4ms\n",
      "91:\tlearn: 0.9346110\ttotal: 228ms\tremaining: 19.9ms\n",
      "92:\tlearn: 0.9346110\ttotal: 230ms\tremaining: 17.3ms\n",
      "93:\tlearn: 0.9357384\ttotal: 231ms\tremaining: 14.7ms\n",
      "94:\tlearn: 0.9357384\ttotal: 232ms\tremaining: 12.2ms\n",
      "95:\tlearn: 0.9346110\ttotal: 233ms\tremaining: 9.71ms\n",
      "96:\tlearn: 0.9346110\ttotal: 234ms\tremaining: 7.24ms\n",
      "97:\tlearn: 0.9346110\ttotal: 235ms\tremaining: 4.8ms\n",
      "98:\tlearn: 0.9346110\ttotal: 237ms\tremaining: 2.39ms\n",
      "99:\tlearn: 0.9357384\ttotal: 238ms\tremaining: 0us\n",
      "Acurácia Média: 88.00%\n"
     ]
    }
   ],
   "source": [
    "# Criando o modelo\n",
    "modelo = CatBoostClassifier(task_type='CPU', iterations=100, learning_rate=0.1, depth = 8, random_state = 5, \n",
    "                              eval_metric=\"Accuracy\")\n",
    "resultado = cross_val_score(modelo, previsores, alvo, cv = kfold)\n",
    "\n",
    "# Usamos a média e o desvio padrão\n",
    "print(\"Acurácia Média: %.2f%%\" % (resultado.mean() * 100.0))"
   ]
  },
  {
   "cell_type": "markdown",
   "metadata": {
    "id": "gco4qH1qUChe"
   },
   "source": [
    "Naive Bayes = 84,78% (treino e teste) - 234 acertos e 85,17% (validação cruzada) : previsores3_esc\n",
    "\n",
    "SVM = 86,23% - 238 acertos e 85,72% (validação cruzada) : previsores3-esc - SVC(kernel='rbf', random_state=1, C = 2)\n",
    "\n",
    "Regressão logística = 86,23% - 238 acertos e 85,83% (validação cruzada) : previsores3_esc - LogisticRegression(random_state=1, max_iter=600, penalty=\"l2\", tol=0.0001, C=1,solver=\"lbfgs\")\n",
    "\n",
    "KNN = 84,06% - 232 acertos e 85,84% (validação cruzada) : previsores3_esc ou previsores_esc - KNeighborsClassifier(n_neighbors=7, metric='minkowski', p = 1)\n",
    "\n",
    "Árvore de decisão = 83,7% (treino e teste) - 231 acertos e 83,32% (validação cruzada): previsores3_esc - DecisionTreeClassifier(criterion='entropy', random_state = 0, max_depth=3)\n",
    "\n",
    "Random Forest = 86,59% - 239 acertos e 85,92% (validação cruzada) : previsores - RandomForestClassifier(n_estimators=150, criterion='entropy', random_state = 0, max_depth=4)\n",
    "\n",
    "**XGboost = 87,68% - 242 acertos e 87,13% (validação cruzada) : previsores - XGBClassifier(max_depth=2, learning_rate=0.05, n_estimators=250, objective='binary:logistic', random_state=3)**\n",
    "\n",
    "LightGBM = 86,23% (treino e teste)- 238 acertos e 85,93% (validação cruzada) : previsores - lgb.LGBMClassifier(num_leaves = 250, objective = 'binary',  max_depth = 2, learning_rate = .05, max_bin =100)\n",
    "\n",
    "CatBoost = 86,96% (treino e teste) previsores4 - 240 acertos e 88% (validação cruzada com previsores) - CatBoostClassifier(task_type='CPU', iterations=100, learning_rate=0.1, depth = 8, random_state = 5, eval_metric=\"Accuracy\")"
   ]
  },
  {
   "cell_type": "markdown",
   "metadata": {
    "id": "-SI78UagmLD7"
   },
   "source": [
    "# <font color='purple'>**Salvando dados para Deploy**"
   ]
  },
  {
   "cell_type": "code",
   "execution_count": 236,
   "metadata": {
    "colab": {
     "base_uri": "https://localhost:8080/"
    },
    "id": "LNMNKr4TmLD8",
    "outputId": "4ea7c676-03f7-4c5f-97ab-ec346253c427"
   },
   "outputs": [
    {
     "data": {
      "text/plain": [
       "array([[40. ,  0. ,  1. , ...,  0. ,  0. ,  0. ],\n",
       "       [49. ,  1. ,  2. , ...,  0. ,  1. ,  1. ],\n",
       "       [37. ,  0. ,  1. , ...,  0. ,  0. ,  0. ],\n",
       "       ...,\n",
       "       [57. ,  0. ,  3. , ...,  1. ,  1.2,  1. ],\n",
       "       [57. ,  1. ,  1. , ...,  0. ,  0. ,  1. ],\n",
       "       [38. ,  0. ,  2. , ...,  0. ,  0. ,  0. ]])"
      ]
     },
     "execution_count": 236,
     "metadata": {},
     "output_type": "execute_result"
    }
   ],
   "source": [
    "previsores"
   ]
  },
  {
   "cell_type": "code",
   "execution_count": 237,
   "metadata": {
    "colab": {
     "base_uri": "https://localhost:8080/"
    },
    "id": "isSCWsMPDdw6",
    "outputId": "c9bed013-e189-4c52-c55a-2a47182611ae"
   },
   "outputs": [
    {
     "data": {
      "text/plain": [
       "array([0, 1, 0, 1, 0, 0, 0, 0, 1, 0, 0, 1, 0, 1, 0, 0, 1, 0, 1, 1, 0, 0,\n",
       "       0, 1, 0, 0, 0, 0, 0, 0, 1, 0, 1, 1, 0, 0, 1, 0, 0, 0, 0, 1, 0, 0,\n",
       "       1, 0, 0, 0, 0, 1, 1, 1, 0, 0, 0, 0, 1, 1, 0, 1, 0, 0, 0, 1, 0, 0,\n",
       "       0, 0, 1, 0, 1, 0, 1, 0, 1, 0, 1, 0, 0, 1, 0, 0, 1, 0, 1, 1, 1, 0,\n",
       "       1, 0, 0, 0, 0, 1, 0, 1, 0, 0, 0, 0, 1, 0, 1, 1, 1, 0, 0, 0, 0, 0,\n",
       "       0, 1, 0, 0, 0, 1, 1, 1, 0, 1, 1, 0, 0, 1, 0, 0, 0, 0, 0, 0, 0, 1,\n",
       "       1, 1, 0, 1, 0, 0, 1, 1, 1, 1, 1, 0, 1, 0, 0, 0, 0, 1, 0, 0, 0, 0,\n",
       "       0, 1, 1, 0, 1, 0, 1, 1, 0, 0, 0, 1, 1, 0, 0, 0, 0, 0, 0, 0, 1, 1,\n",
       "       1, 0, 0, 0, 1, 0, 1, 0, 0, 1, 0, 1, 0, 1, 0, 0, 0, 0, 0, 0, 0, 0,\n",
       "       1, 0, 0, 0, 0, 0, 0, 0, 0, 1, 0, 1, 1, 1, 0, 0, 1, 0, 1, 0, 0, 0,\n",
       "       1, 1, 0, 0, 0, 1, 0, 1, 0, 0, 0, 0, 0, 0, 0, 0, 1, 1, 1, 1, 0, 1,\n",
       "       1, 0, 1, 0, 1, 1, 1, 1, 1, 1, 0, 0, 1, 0, 0, 0, 0, 0, 0, 0, 1, 1,\n",
       "       1, 0, 1, 0, 1, 0, 0, 0, 1, 0, 0, 0, 1, 1, 0, 0, 0, 1, 0, 0, 0, 0,\n",
       "       0, 0, 0, 0, 0, 0, 0, 1, 1, 1, 1, 1, 1, 1, 1, 0, 1, 1, 1, 1, 1, 0,\n",
       "       1, 1, 0, 1, 1, 1, 0, 1, 1, 1, 1, 1, 1, 1, 1, 1, 1, 1, 0, 1, 1, 1,\n",
       "       1, 1, 0, 1, 1, 1, 0, 1, 1, 1, 1, 1, 1, 1, 1, 1, 1, 1, 1, 1, 1, 1,\n",
       "       1, 1, 1, 1, 1, 1, 1, 1, 1, 1, 1, 1, 0, 1, 1, 1, 1, 1, 1, 1, 1, 1,\n",
       "       1, 1, 1, 1, 1, 1, 1, 1, 1, 1, 1, 1, 1, 1, 1, 1, 1, 1, 1, 1, 1, 1,\n",
       "       1, 1, 1, 1, 1, 1, 1, 1, 1, 1, 1, 1, 1, 1, 1, 1, 1, 1, 1, 1, 1, 0,\n",
       "       1, 1, 0, 0, 1, 0, 1, 1, 0, 1, 1, 1, 1, 0, 1, 1, 0, 0, 1, 1, 1, 0,\n",
       "       1, 1, 1, 1, 1, 1, 1, 1, 1, 1, 1, 1, 0, 1, 0, 1, 1, 1, 0, 1, 1, 1,\n",
       "       0, 1, 0, 1, 0, 1, 0, 1, 1, 1, 1, 0, 1, 0, 1, 1, 1, 1, 1, 1, 1, 1,\n",
       "       1, 0, 1, 0, 1, 1, 1, 1, 1, 1, 1, 0, 1, 1, 1, 1, 1, 1, 0, 1, 1, 1,\n",
       "       0, 1, 1, 0, 1, 0, 1, 1, 0, 1, 1, 1, 1, 0, 1, 1, 1, 0, 0, 1, 0, 1,\n",
       "       1, 1, 1, 1, 1, 1, 1, 1, 1, 1, 0, 1, 1, 1, 1, 0, 0, 1, 1, 1, 0, 1,\n",
       "       0, 1, 1, 0, 1, 0, 1, 1, 1, 0, 0, 0, 1, 1, 1, 0, 1, 1, 1, 1, 1, 1,\n",
       "       1, 1, 1, 1, 1, 1, 1, 1, 1, 1, 0, 1, 1, 1, 0, 1, 1, 0, 0, 1, 1, 1,\n",
       "       1, 1, 0, 1, 1, 0, 1, 1, 1, 0, 0, 1, 1, 1, 1, 1, 0, 1, 0, 1, 1, 0,\n",
       "       1, 0, 0, 0, 1, 1, 1, 1, 0, 0, 0, 1, 0, 0, 1, 1, 0, 0, 1, 0, 0, 0,\n",
       "       0, 0, 0, 0, 1, 0, 1, 0, 0, 1, 1, 1, 1, 1, 0, 0, 1, 0, 0, 0, 1, 0,\n",
       "       1, 1, 1, 1, 1, 0, 0, 0, 0, 0, 1, 0, 1, 1, 0, 1, 0, 0, 0, 1, 0, 1,\n",
       "       0, 1, 1, 0, 0, 0, 0, 1, 0, 0, 0, 0, 1, 1, 1, 0, 0, 0, 0, 0, 0, 1,\n",
       "       0, 1, 1, 1, 1, 1, 0, 1, 0, 0, 0, 1, 0, 1, 1, 1, 0, 1, 1, 0, 1, 0,\n",
       "       1, 0, 0, 0, 1, 1, 0, 1, 1, 1, 1, 0, 0, 0, 1, 0, 0, 1, 1, 1, 0, 1,\n",
       "       0, 0, 0, 1, 0, 0, 1, 0, 1, 0, 1, 1, 1, 1, 1, 0, 0, 0, 0, 0, 0, 0,\n",
       "       1, 0, 0, 1, 1, 1, 0, 1, 0, 0, 0, 0, 0, 1, 0, 1, 1, 0, 0, 1, 1, 1,\n",
       "       1, 0, 0, 1, 1, 0, 0, 0, 1, 0, 0, 1, 0, 1, 0, 1, 0, 0, 0, 0, 0, 1,\n",
       "       0, 1, 1, 1, 1, 0, 0, 0, 1, 0, 1, 0, 0, 1, 0, 0, 0, 0, 0, 0, 1, 1,\n",
       "       0, 1, 0, 0, 1, 1, 0, 0, 1, 1, 0, 1, 0, 1, 0, 1, 0, 0, 1, 0, 0, 1,\n",
       "       0, 1, 1, 0, 1, 1, 1, 0, 1, 0, 0, 0, 0, 1, 1, 0, 0, 1, 1, 0, 1, 0,\n",
       "       0, 0, 0, 1, 0, 0, 1, 1, 1, 0, 0, 0, 1, 0, 1, 0, 1, 0, 1, 1, 1, 0,\n",
       "       0, 0, 1, 0, 1, 1, 1, 0, 1, 1, 1, 1, 1, 1, 0])"
      ]
     },
     "execution_count": 237,
     "metadata": {},
     "output_type": "execute_result"
    }
   ],
   "source": [
    "alvo"
   ]
  },
  {
   "cell_type": "code",
   "execution_count": 238,
   "metadata": {
    "id": "XUYRtI5VDBXF"
   },
   "outputs": [],
   "source": [
    "# Vamos salvar mas lembrando qye ele não é um data frame\n",
    "np.savetxt('previsores.csv', previsores, delimiter=',')"
   ]
  },
  {
   "cell_type": "code",
   "execution_count": 239,
   "metadata": {
    "id": "dd7lbPU3DQFO"
   },
   "outputs": [],
   "source": [
    "np.savetxt('alvo.csv', alvo, delimiter=',')"
   ]
  },
  {
   "cell_type": "markdown",
   "metadata": {
    "id": "Q6LoOxMow4Ci"
   },
   "source": [
    "# <font color='purple'>**SEGUNDO DESAFIO VAI SER:**"
   ]
  },
  {
   "cell_type": "markdown",
   "metadata": {
    "id": "bjLFumRQxayX"
   },
   "source": [
    "DESENVOLVER E SELECIONAR O MELHOR ALGORITMO DE MACHINE LEARNING DE CLASSIFICAÇÃO PARA O DATASET DO LINK A SEGUIR:"
   ]
  },
  {
   "cell_type": "markdown",
   "metadata": {
    "id": "VG8xV9wYxKk2"
   },
   "source": [
    "https://www.kaggle.com/uciml/breast-cancer-wisconsin-data"
   ]
  }
 ],
 "metadata": {
  "colab": {
   "name": "classificacao.ipynb",
   "provenance": []
  },
  "kernelspec": {
   "display_name": "Python 3 (ipykernel)",
   "language": "python",
   "name": "python3"
  },
  "language_info": {
   "codemirror_mode": {
    "name": "ipython",
    "version": 3
   },
   "file_extension": ".py",
   "mimetype": "text/x-python",
   "name": "python",
   "nbconvert_exporter": "python",
   "pygments_lexer": "ipython3",
   "version": "3.9.7"
  }
 },
 "nbformat": 4,
 "nbformat_minor": 1
}
