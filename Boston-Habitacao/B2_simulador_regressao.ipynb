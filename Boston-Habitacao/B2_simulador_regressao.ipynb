{
 "cells": [
  {
   "cell_type": "markdown",
   "metadata": {
    "id": "fQJ5CYV9Te0X"
   },
   "source": [
    "# **PrevCasa**"
   ]
  },
  {
   "cell_type": "markdown",
   "metadata": {
    "id": "kXFCCsVHTtTP"
   },
   "source": [
    "Este algoritmo realiza a previsão dos valores das casas em Boston com base em alguns fatores estruturais e sociais. "
   ]
  },
  {
   "cell_type": "markdown",
   "metadata": {
    "id": "zF4ZZ2IaMarJ"
   },
   "source": [
    "**Abertura dos atributos previsores e alvo**"
   ]
  },
  {
   "cell_type": "code",
   "execution_count": 1,
   "metadata": {
    "id": "WB8AihEHE-SO"
   },
   "outputs": [],
   "source": [
    "import pandas as pd\n",
    "import numpy as np"
   ]
  },
  {
   "cell_type": "code",
   "execution_count": 2,
   "metadata": {
    "id": "OgOCU0-ZE5JW"
   },
   "outputs": [],
   "source": [
    "independente = pd.read_csv('independente.csv',header=None)"
   ]
  },
  {
   "cell_type": "code",
   "execution_count": 5,
   "metadata": {
    "id": "OT_O9kmLiC3r"
   },
   "outputs": [
    {
     "data": {
      "text/plain": [
       "array([[ 6.575,  4.98 , 15.3  ],\n",
       "       [ 6.421,  9.14 , 17.8  ],\n",
       "       [ 7.185,  4.03 , 17.8  ],\n",
       "       ...,\n",
       "       [ 6.976,  5.64 , 21.   ],\n",
       "       [ 6.794,  6.48 , 21.   ],\n",
       "       [ 6.03 ,  7.88 , 21.   ]])"
      ]
     },
     "execution_count": 5,
     "metadata": {},
     "output_type": "execute_result"
    }
   ],
   "source": [
    "independente"
   ]
  },
  {
   "cell_type": "code",
   "execution_count": 4,
   "metadata": {
    "id": "98RdIzv6GAdC"
   },
   "outputs": [],
   "source": [
    "independente = independente.values"
   ]
  },
  {
   "cell_type": "code",
   "execution_count": 6,
   "metadata": {
    "id": "tu5Mpu8gG3Bw"
   },
   "outputs": [],
   "source": [
    "dependente = pd.read_csv('dependente.csv',header=None)"
   ]
  },
  {
   "cell_type": "code",
   "execution_count": 9,
   "metadata": {
    "id": "U2HIYfy4G63G"
   },
   "outputs": [
    {
     "data": {
      "text/plain": [
       "array([ 504000.,  453600.,  728700.,  701400.,  760200.,  602700.,\n",
       "        480900.,  569100.,  346500.,  396900.,  315000.,  396900.,\n",
       "        455700.,  428400.,  382200.,  417900.,  485100.,  367500.,\n",
       "        424200.,  382200.,  285600.,  411600.,  319200.,  304500.,\n",
       "        327600.,  291900.,  348600.,  310800.,  386400.,  441000.,\n",
       "        266700.,  304500.,  277200.,  275100.,  283500.,  396900.,\n",
       "        420000.,  441000.,  518700.,  646800.,  732900.,  558600.,\n",
       "        531300.,  518700.,  445200.,  405300.,  420000.,  348600.,\n",
       "        302400.,  407400.,  413700.,  430500.,  525000.,  491400.,\n",
       "        396900.,  743400.,  518700.,  663600.,  489300.,  411600.,\n",
       "        392700.,  336000.,  466200.,  525000.,  693000.,  493500.,\n",
       "        407400.,  462000.,  365400.,  438900.,  508200.,  455700.,\n",
       "        478800.,  491400.,  506100.,  449400.,  420000.,  436800.,\n",
       "        445200.,  426300.,  588000.,  501900.,  520800.,  480900.,\n",
       "        501900.,  558600.,  472500.,  466200.,  495600.,  602700.,\n",
       "        474600.,  462000.,  480900.,  525000.,  432600.,  596400.,\n",
       "        449400.,  812700.,  919800.,  697200.,  577500.,  556500.,\n",
       "        390600.,  405300.,  422100.,  409500.,  409500.,  428400.,\n",
       "        415800.,  407400.,  455700.,  478800.,  394800.,  392700.,\n",
       "        388500.,  384300.,  445200.,  403200.,  428400.,  405300.,\n",
       "        462000.,  426300.,  430500.,  363300.,  394800.,  449400.,\n",
       "        329700.,  340200.,  378000.,  300300.,  403200.,  411600.,\n",
       "        483000.,  386400.,  327600.,  380100.,  365400.,  359100.,\n",
       "        279300.,  373800.,  294000.,  302400.,  281400.,  327600.,\n",
       "        247800.,  289800.,  327600.,  306600.,  373800.,  323400.,\n",
       "        451500.,  411600.,  321300.,  407400.,  357000.,  327600.,\n",
       "        275100.,  867300.,  510300.,  489300.,  567000.,  476700.,\n",
       "        525000.,  499800.,  499800.,  468300.,  365400.,  401100.,\n",
       "        485100.,  495600.,  474600.,  617400.,  487200.,  516600.,\n",
       "        627900.,  781200.,  835800.,  760200.,  795900.,  682500.,\n",
       "        554400.,  621600.,  672000.,  625800.,  732900.,  777000.,\n",
       "        640500.,  764400.,  653100.,  611100.,  699300.,  636300.,\n",
       "        726600.,  732900.,  690900.,  506100.,  888300., 1018500.,\n",
       "        474600.,  512400.,  472500.,  512400.,  420000.,  455700.,\n",
       "        405300.,  470400.,  590100.,  497700.,  525000.,  489300.,\n",
       "        602700.,  451500.,  483000.,  560700.,  455700.,  577500.,\n",
       "        632100.,  940800.,  789600.,  663600.,  980700.,  661500.,\n",
       "        510300.,  665700.,  875700., 1014300.,  609000.,  504000.,\n",
       "        527100.,  661500.,  497700.,  489300.,  462000.,  422100.,\n",
       "        466200.,  497700.,  369600.,  388500.,  510300.,  430500.,\n",
       "        514500.,  550200.,  512400.,  520800.,  621600.,  898800.,\n",
       "        459900.,  438900.,  924000.,  756000.,  632100.,  709800.,\n",
       "        905100., 1024800.,  651000.,  766500.,  478800.,  644700.,\n",
       "        913500.,  434700.,  443100.,  529200.,  512400.,  739200.,\n",
       "        680400.,  672000.,  697200.,  695100.,  611100.,  737100.,\n",
       "        953400.,  743400.,  966000.,  676200.,  462000.,  422100.,\n",
       "        487200.,  468300.,  520800.,  598500.,  783300.,  585900.,\n",
       "        501900.,  455700.,  600600.,  569100.,  426300.,  472500.,\n",
       "        609000.,  520800.,  462000.,  554400.,  695100.,  758100.,\n",
       "        596400.,  701400.,  592200.,  478800.,  426300.,  338100.,\n",
       "        464100.,  407400.,  453600.,  499800.,  340200.,  373800.,\n",
       "        415800.,  485100.,  441000.,  499800.,  485100.,  428400.,\n",
       "        388500.,  525000.,  516600.,  483000.,  466200.,  405300.,\n",
       "        474600.,  415800.,  359100.,  407400.,  466200.,  434700.,\n",
       "        443100.,  409500.,  388500.,  432600.,  399000.,  392700.,\n",
       "        686700.,  346500.,  501900.,  655200.,  367500.,  361200.,\n",
       "        485100.,  514500.,  558600.,  480900.,  506100.,  390600.,\n",
       "        632100.,  382200.,  432600.,  373800.,  455700.,  476700.,\n",
       "        474600.,  525000.,  417900.,  436800.,  352800.,  577500.,\n",
       "        459900.,  485100.,  289800.,  289800.,  315000.,  291900.,\n",
       "        279300.,  275100.,  214200.,  218400.,  228900.,  237300.,\n",
       "        258300.,  184800.,  151200.,  220500.,  155400.,  214200.,\n",
       "        241500.,  317100.,  487200.,  203700.,  289800.,  266700.,\n",
       "        275100.,  262500.,  178500.,  105000.,  132300.,  117600.,\n",
       "        151200.,  254100.,  174300.,  178500.,  105000.,  249900.,\n",
       "        585900.,  361200.,  577500.,  315000.,  361200.,  375900.,\n",
       "        342300.,  147000.,  151200.,  157500.,  218400.,  184800.,\n",
       "        176400.,  350700.,  298200.,  436800.,  281400.,  245700.,\n",
       "        174300.,  214200.,  228900.,  231000.,  199500.,  304500.,\n",
       "        296100.,  338100.,  300300.,  245700.,  281400.,  201600.,\n",
       "        182700.,  176400.,  268800.,  220500.,  359100.,  386400.,\n",
       "        323400.,  226800.,  247800.,  312900.,  264600.,  296100.,\n",
       "        273000.,  281400.,  319200.,  338100.,  373800.,  312900.,\n",
       "        296100.,  266700.,  283500.,  312900.,  420000.,  344400.,\n",
       "        371700.,  409500.,  424200.,  449400.,  417900.,  399000.,\n",
       "        401100.,  401100.,  422100.,  417900.,  411600.,  487200.,\n",
       "        625800.,  289800.,  279300.,  350700.,  252000.,  306600.,\n",
       "        449400.,  483000.,  497700.,  525000.,  457800.,  432600.,\n",
       "        445200.,  401100.,  432600.,  319200.,  147000.,  170100.,\n",
       "        285600.,  422100.,  457800.,  514500.,  485100.,  413700.,\n",
       "        384300.,  445200.,  367500.,  352800.,  470400.,  432600.,\n",
       "        501900.,  462000.,  249900.])"
      ]
     },
     "execution_count": 9,
     "metadata": {},
     "output_type": "execute_result"
    }
   ],
   "source": [
    "dependente"
   ]
  },
  {
   "cell_type": "code",
   "execution_count": 8,
   "metadata": {
    "id": "RT7WpC3XG9Dt"
   },
   "outputs": [],
   "source": [
    "dependente = dependente.iloc[:, 0].values"
   ]
  },
  {
   "cell_type": "markdown",
   "metadata": {
    "id": "jH3OocboSGXH"
   },
   "source": [
    "**Carregando o Regressor Random Forest**"
   ]
  },
  {
   "cell_type": "code",
   "execution_count": 15,
   "metadata": {
    "colab": {
     "base_uri": "https://localhost:8080/"
    },
    "id": "bocaCQzKqK1v",
    "outputId": "8e94575d-5151-4b1a-8ed5-be3340ac4d17"
   },
   "outputs": [
    {
     "data": {
      "text/plain": [
       "RandomForestRegressor(max_depth=5, n_estimators=60, random_state=10)"
      ]
     },
     "execution_count": 15,
     "metadata": {},
     "output_type": "execute_result"
    }
   ],
   "source": [
    "# mse = squared_error\n",
    "from sklearn.ensemble import RandomForestRegressor\n",
    "random = RandomForestRegressor(n_estimators=60, criterion='mse', max_depth=5, random_state = 10)\n",
    "random.fit(independente, dependente)"
   ]
  },
  {
   "cell_type": "markdown",
   "metadata": {
    "id": "NGzVZVzkMzqv"
   },
   "source": [
    "**Previsão dos valores das casas**"
   ]
  },
  {
   "cell_type": "code",
   "execution_count": 16,
   "metadata": {
    "colab": {
     "base_uri": "https://localhost:8080/"
    },
    "id": "VZE8pMdgsoTY",
    "outputId": "9ee8a106-afb1-4f34-af1a-2e044ca92524"
   },
   "outputs": [
    {
     "name": "stdout",
     "output_type": "stream",
     "text": [
      "Qual o número de cômodos?8\n"
     ]
    }
   ],
   "source": [
    "RM = input ('Qual o número de cômodos?')"
   ]
  },
  {
   "cell_type": "code",
   "execution_count": 17,
   "metadata": {
    "colab": {
     "base_uri": "https://localhost:8080/"
    },
    "id": "cBBtuF5Tsta8",
    "outputId": "914447b4-eed1-47a3-923a-6f15b7b9ebff"
   },
   "outputs": [
    {
     "name": "stdout",
     "output_type": "stream",
     "text": [
      "Qual a porcentagem de proprietários de classe baixa?6\n"
     ]
    }
   ],
   "source": [
    "LSTAT = input ('Qual a porcentagem de proprietários de classe baixa?')"
   ]
  },
  {
   "cell_type": "code",
   "execution_count": 18,
   "metadata": {
    "colab": {
     "base_uri": "https://localhost:8080/"
    },
    "id": "Os6PnLoMs34b",
    "outputId": "8e6c0142-cae7-4be3-cce2-63d790e9ffee"
   },
   "outputs": [
    {
     "name": "stdout",
     "output_type": "stream",
     "text": [
      "Qual a razão entre o número de estudantes e professores?15\n"
     ]
    }
   ],
   "source": [
    "PTRATIO = input ('Qual a razão entre o número de estudantes e professores?')"
   ]
  },
  {
   "cell_type": "code",
   "execution_count": 19,
   "metadata": {
    "colab": {
     "base_uri": "https://localhost:8080/"
    },
    "id": "anLpFG7CsIRB",
    "outputId": "6388ddc6-9249-4b4e-d506-76679087c256"
   },
   "outputs": [
    {
     "name": "stdout",
     "output_type": "stream",
     "text": [
      "O valor da casa é de US$ 922605.50\n"
     ]
    }
   ],
   "source": [
    "# Fazendo previsões para valores distintos\n",
    "informacoes = [RM, LSTAT, PTRATIO]\n",
    "valor_casa = random.predict([informacoes])\n",
    "print(\"O valor da casa é de US$ {:.2f}\".format(valor_casa[0]))"
   ]
  },
  {
   "cell_type": "code",
   "execution_count": null,
   "metadata": {},
   "outputs": [],
   "source": []
  }
 ],
 "metadata": {
  "colab": {
   "name": "simulador_regressao.ipynb",
   "provenance": []
  },
  "kernelspec": {
   "display_name": "Python 3 (ipykernel)",
   "language": "python",
   "name": "python3"
  },
  "language_info": {
   "codemirror_mode": {
    "name": "ipython",
    "version": 3
   },
   "file_extension": ".py",
   "mimetype": "text/x-python",
   "name": "python",
   "nbconvert_exporter": "python",
   "pygments_lexer": "ipython3",
   "version": "3.9.7"
  }
 },
 "nbformat": 4,
 "nbformat_minor": 1
}
