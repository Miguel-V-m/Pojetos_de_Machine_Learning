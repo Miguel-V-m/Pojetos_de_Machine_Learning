{
 "cells": [
  {
   "cell_type": "markdown",
   "metadata": {
    "id": "a96WELzFA98V"
   },
   "source": [
    "# <font color='DarkRed'>**PROJETO CHUVA**"
   ]
  },
  {
   "cell_type": "code",
   "execution_count": 1,
   "metadata": {
    "id": "A5yMS5nI9uYM"
   },
   "outputs": [],
   "source": [
    "import numpy as np\n",
    "import pandas as pd\n",
    "import matplotlib.pyplot as plt"
   ]
  },
  {
   "cell_type": "code",
   "execution_count": 2,
   "metadata": {},
   "outputs": [],
   "source": [
    "import warnings\n",
    "warnings.filterwarnings(\"ignore\")"
   ]
  },
  {
   "cell_type": "code",
   "execution_count": 3,
   "metadata": {
    "id": "cAJTcWNL4A9U"
   },
   "outputs": [],
   "source": [
    "from matplotlib.pylab import rcParams\n",
    "rcParams['figure.figsize'] = 15, 6"
   ]
  },
  {
   "cell_type": "code",
   "execution_count": 4,
   "metadata": {
    "id": "kgcirDASxITd"
   },
   "outputs": [],
   "source": [
    "chuva = pd.read_csv('chuva_tratado.csv',sep=',')"
   ]
  },
  {
   "cell_type": "code",
   "execution_count": 6,
   "metadata": {
    "id": "C8AHlNaszHGw"
   },
   "outputs": [
    {
     "data": {
      "text/html": [
       "<div>\n",
       "<style scoped>\n",
       "    .dataframe tbody tr th:only-of-type {\n",
       "        vertical-align: middle;\n",
       "    }\n",
       "\n",
       "    .dataframe tbody tr th {\n",
       "        vertical-align: top;\n",
       "    }\n",
       "\n",
       "    .dataframe thead th {\n",
       "        text-align: right;\n",
       "    }\n",
       "</style>\n",
       "<table border=\"1\" class=\"dataframe\">\n",
       "  <thead>\n",
       "    <tr style=\"text-align: right;\">\n",
       "      <th></th>\n",
       "      <th>Ano</th>\n",
       "      <th>Janeiro</th>\n",
       "      <th>Fevereiro</th>\n",
       "      <th>Março</th>\n",
       "      <th>Abril</th>\n",
       "      <th>Maio</th>\n",
       "      <th>Junho</th>\n",
       "      <th>Julho</th>\n",
       "      <th>Agosto</th>\n",
       "      <th>Setembro</th>\n",
       "      <th>Outubro</th>\n",
       "      <th>Novembro</th>\n",
       "      <th>Dezembro</th>\n",
       "    </tr>\n",
       "  </thead>\n",
       "  <tbody>\n",
       "    <tr>\n",
       "      <th>0</th>\n",
       "      <td>1985</td>\n",
       "      <td>184.9</td>\n",
       "      <td>242.9</td>\n",
       "      <td>230.0</td>\n",
       "      <td>59.0</td>\n",
       "      <td>126.2</td>\n",
       "      <td>14.6</td>\n",
       "      <td>4.0</td>\n",
       "      <td>21.80</td>\n",
       "      <td>126.1</td>\n",
       "      <td>71.1</td>\n",
       "      <td>111.3</td>\n",
       "      <td>155.2</td>\n",
       "    </tr>\n",
       "    <tr>\n",
       "      <th>1</th>\n",
       "      <td>1986</td>\n",
       "      <td>199.6</td>\n",
       "      <td>221.0</td>\n",
       "      <td>218.7</td>\n",
       "      <td>106.5</td>\n",
       "      <td>113.1</td>\n",
       "      <td>3.9</td>\n",
       "      <td>30.3</td>\n",
       "      <td>27.85</td>\n",
       "      <td>34.5</td>\n",
       "      <td>60.7</td>\n",
       "      <td>242.5</td>\n",
       "      <td>389.9</td>\n",
       "    </tr>\n",
       "    <tr>\n",
       "      <th>2</th>\n",
       "      <td>1987</td>\n",
       "      <td>525.8</td>\n",
       "      <td>249.3</td>\n",
       "      <td>161.3</td>\n",
       "      <td>98.1</td>\n",
       "      <td>293.8</td>\n",
       "      <td>183.9</td>\n",
       "      <td>11.8</td>\n",
       "      <td>30.90</td>\n",
       "      <td>80.2</td>\n",
       "      <td>84.8</td>\n",
       "      <td>72.7</td>\n",
       "      <td>152.1</td>\n",
       "    </tr>\n",
       "  </tbody>\n",
       "</table>\n",
       "</div>"
      ],
      "text/plain": [
       "    Ano  Janeiro  Fevereiro  Março  Abril   Maio  Junho  Julho  Agosto  \\\n",
       "0  1985    184.9      242.9  230.0   59.0  126.2   14.6    4.0   21.80   \n",
       "1  1986    199.6      221.0  218.7  106.5  113.1    3.9   30.3   27.85   \n",
       "2  1987    525.8      249.3  161.3   98.1  293.8  183.9   11.8   30.90   \n",
       "\n",
       "   Setembro  Outubro  Novembro  Dezembro  \n",
       "0     126.1     71.1     111.3     155.2  \n",
       "1      34.5     60.7     242.5     389.9  \n",
       "2      80.2     84.8      72.7     152.1  "
      ]
     },
     "execution_count": 6,
     "metadata": {},
     "output_type": "execute_result"
    }
   ],
   "source": [
    "chuva.head(3)"
   ]
  },
  {
   "cell_type": "markdown",
   "metadata": {
    "id": "N7HIDnSS62vz"
   },
   "source": [
    "##  <font color='Red'>**Criação da Série**"
   ]
  },
  {
   "cell_type": "code",
   "execution_count": 7,
   "metadata": {
    "id": "jWnY053nv1Gm"
   },
   "outputs": [
    {
     "data": {
      "text/html": [
       "<div>\n",
       "<style scoped>\n",
       "    .dataframe tbody tr th:only-of-type {\n",
       "        vertical-align: middle;\n",
       "    }\n",
       "\n",
       "    .dataframe tbody tr th {\n",
       "        vertical-align: top;\n",
       "    }\n",
       "\n",
       "    .dataframe thead th {\n",
       "        text-align: right;\n",
       "    }\n",
       "</style>\n",
       "<table border=\"1\" class=\"dataframe\">\n",
       "  <thead>\n",
       "    <tr style=\"text-align: right;\">\n",
       "      <th></th>\n",
       "      <th>Janeiro</th>\n",
       "      <th>Fevereiro</th>\n",
       "      <th>Março</th>\n",
       "      <th>Abril</th>\n",
       "      <th>Maio</th>\n",
       "      <th>Junho</th>\n",
       "      <th>Julho</th>\n",
       "      <th>Agosto</th>\n",
       "      <th>Setembro</th>\n",
       "      <th>Outubro</th>\n",
       "      <th>Novembro</th>\n",
       "      <th>Dezembro</th>\n",
       "    </tr>\n",
       "  </thead>\n",
       "  <tbody>\n",
       "    <tr>\n",
       "      <th>0</th>\n",
       "      <td>184.9</td>\n",
       "      <td>242.9</td>\n",
       "      <td>230.0</td>\n",
       "      <td>59.0</td>\n",
       "      <td>126.2</td>\n",
       "      <td>14.6</td>\n",
       "      <td>4.0</td>\n",
       "      <td>21.80</td>\n",
       "      <td>126.1</td>\n",
       "      <td>71.1</td>\n",
       "      <td>111.3</td>\n",
       "      <td>155.2</td>\n",
       "    </tr>\n",
       "    <tr>\n",
       "      <th>1</th>\n",
       "      <td>199.6</td>\n",
       "      <td>221.0</td>\n",
       "      <td>218.7</td>\n",
       "      <td>106.5</td>\n",
       "      <td>113.1</td>\n",
       "      <td>3.9</td>\n",
       "      <td>30.3</td>\n",
       "      <td>27.85</td>\n",
       "      <td>34.5</td>\n",
       "      <td>60.7</td>\n",
       "      <td>242.5</td>\n",
       "      <td>389.9</td>\n",
       "    </tr>\n",
       "    <tr>\n",
       "      <th>2</th>\n",
       "      <td>525.8</td>\n",
       "      <td>249.3</td>\n",
       "      <td>161.3</td>\n",
       "      <td>98.1</td>\n",
       "      <td>293.8</td>\n",
       "      <td>183.9</td>\n",
       "      <td>11.8</td>\n",
       "      <td>30.90</td>\n",
       "      <td>80.2</td>\n",
       "      <td>84.8</td>\n",
       "      <td>72.7</td>\n",
       "      <td>152.1</td>\n",
       "    </tr>\n",
       "  </tbody>\n",
       "</table>\n",
       "</div>"
      ],
      "text/plain": [
       "   Janeiro  Fevereiro  Março  Abril   Maio  Junho  Julho  Agosto  Setembro  \\\n",
       "0    184.9      242.9  230.0   59.0  126.2   14.6    4.0   21.80     126.1   \n",
       "1    199.6      221.0  218.7  106.5  113.1    3.9   30.3   27.85      34.5   \n",
       "2    525.8      249.3  161.3   98.1  293.8  183.9   11.8   30.90      80.2   \n",
       "\n",
       "   Outubro  Novembro  Dezembro  \n",
       "0     71.1     111.3     155.2  \n",
       "1     60.7     242.5     389.9  \n",
       "2     84.8      72.7     152.1  "
      ]
     },
     "execution_count": 7,
     "metadata": {},
     "output_type": "execute_result"
    }
   ],
   "source": [
    "chuva2 = chuva.drop(columns='Ano')\n",
    "chuva2.head(3)"
   ]
  },
  {
   "cell_type": "code",
   "execution_count": 8,
   "metadata": {
    "id": "Oy9I21fMwu3e"
   },
   "outputs": [
    {
     "data": {
      "text/plain": [
       "array([[1.8490e+02, 2.4290e+02, 2.3000e+02, 5.9000e+01, 1.2620e+02,\n",
       "        1.4600e+01, 4.0000e+00, 2.1800e+01, 1.2610e+02, 7.1100e+01,\n",
       "        1.1130e+02, 1.5520e+02],\n",
       "       [1.9960e+02, 2.2100e+02, 2.1870e+02, 1.0650e+02, 1.1310e+02,\n",
       "        3.9000e+00, 3.0300e+01, 2.7850e+01, 3.4500e+01, 6.0700e+01,\n",
       "        2.4250e+02, 3.8990e+02],\n",
       "       [5.2580e+02, 2.4930e+02, 1.6130e+02, 9.8100e+01, 2.9380e+02,\n",
       "        1.8390e+02, 1.1800e+01, 3.0900e+01, 8.0200e+01, 8.4800e+01,\n",
       "        7.2700e+01, 1.5210e+02],\n",
       "       [2.6870e+02, 2.2440e+02, 1.8920e+02, 1.7510e+02, 2.2490e+02,\n",
       "        5.8600e+01, 1.3000e+00, 2.0000e-01, 2.8400e+01, 1.7390e+02,\n",
       "        1.0020e+02, 2.8980e+02],\n",
       "       [3.1290e+02, 3.4430e+02, 2.8820e+02, 6.6300e+01, 2.1700e+01,\n",
       "        5.2500e+01, 1.5010e+02, 3.2900e+01, 5.2100e+01, 8.0100e+01,\n",
       "        8.8000e+01, 2.3670e+02],\n",
       "       [2.8410e+02, 1.9690e+02, 3.1010e+02, 8.5800e+01, 7.7900e+01,\n",
       "        5.0600e+01, 1.2120e+02, 7.6300e+01, 9.7200e+01, 2.0680e+02,\n",
       "        1.1630e+02, 1.4980e+02],\n",
       "       [3.3070e+02, 3.4030e+02, 5.2240e+02, 2.0030e+02, 4.3300e+01,\n",
       "        9.6800e+01, 2.8200e+01, 3.7300e+01, 1.0140e+02, 1.6800e+02,\n",
       "        6.7300e+01, 2.3790e+02],\n",
       "       [1.2920e+02, 2.5850e+02, 2.2797e+02, 8.7200e+01, 9.3500e+01,\n",
       "        1.1600e+01, 4.0900e+01, 2.4700e+01, 1.5060e+02, 2.1960e+02,\n",
       "        1.4504e+02, 2.1170e+02],\n",
       "       [2.2150e+02, 2.2570e+02, 1.1000e+02, 8.4600e+01, 1.3390e+02,\n",
       "        7.4700e+01, 1.1200e+01, 4.0800e+01, 2.1010e+02, 1.3410e+02,\n",
       "        1.2550e+02, 1.7050e+02],\n",
       "       [1.9690e+02, 1.8440e+02, 2.3160e+02, 1.1140e+02, 5.4900e+01,\n",
       "        3.0500e+01, 3.9200e+01, 2.4000e+00, 1.8000e+00, 1.4760e+02,\n",
       "        8.6600e+01, 2.7630e+02],\n",
       "       [3.7380e+02, 3.8310e+02, 2.6770e+02, 7.3900e+01, 7.9700e+01,\n",
       "        3.1200e+01, 4.6800e+01, 1.5000e+00, 4.4200e+01, 2.0260e+02,\n",
       "        1.1510e+02, 2.3604e+02],\n",
       "       [3.3430e+02, 3.7650e+02, 2.8450e+02, 4.2300e+01, 2.1700e+01,\n",
       "        4.5100e+01, 1.2200e+01, 4.1200e+01, 1.7940e+02, 1.7980e+02,\n",
       "        8.7400e+01, 2.4390e+02],\n",
       "       [2.3500e+02, 1.8760e+02, 5.7100e+01, 6.3200e+01, 8.8200e+01,\n",
       "        1.2470e+02, 1.2500e+01, 2.8800e+01, 1.1800e+02, 1.5180e+02,\n",
       "        2.3630e+02, 2.1740e+02],\n",
       "       [2.3160e+02, 4.3010e+02, 2.1120e+02, 5.6900e+01, 1.3380e+02,\n",
       "        1.6600e+01, 1.6600e+01, 4.5500e+01, 9.9500e+01, 2.0310e+02,\n",
       "        4.1500e+01, 1.9840e+02],\n",
       "       [3.0579e+02, 3.3900e+02, 1.6230e+02, 3.4900e+01, 4.7200e+01,\n",
       "        8.6300e+01, 3.1000e+01, 0.0000e+00, 7.6900e+01, 6.4500e+01,\n",
       "        7.6000e+01, 1.0040e+02],\n",
       "       [3.8770e+02, 3.0400e+02, 1.9040e+02, 5.0000e+01, 9.7000e+00,\n",
       "        9.8000e+00, 7.4000e+01, 2.7850e+01, 1.2030e+02, 1.0550e+02,\n",
       "        3.2200e+02, 2.8100e+02],\n",
       "       [2.8310e+02, 2.2190e+02, 2.4120e+02, 2.8700e+01, 8.5000e+01,\n",
       "        3.1000e+01, 3.1700e+01, 2.6900e+01, 8.2300e+01, 2.1310e+02,\n",
       "        1.8160e+02, 2.9290e+02],\n",
       "       [3.0060e+02, 1.7360e+02, 3.5480e+02, 9.5300e+01, 1.3760e+02,\n",
       "        2.3000e+00, 2.3000e+01, 4.1500e+01, 8.4000e+01, 1.4390e+02,\n",
       "        2.0140e+02, 2.6370e+02],\n",
       "       [4.4340e+02, 1.4150e+02, 2.5020e+02, 4.5500e+01, 3.6600e+01,\n",
       "        2.0700e+01, 2.4500e+01, 2.7600e+01, 4.1500e+01, 1.7670e+02,\n",
       "        1.3300e+02, 8.9900e+01],\n",
       "       [1.8880e+02, 3.1690e+02, 1.2720e+02, 1.6050e+02, 7.7400e+01,\n",
       "        7.5600e+01, 1.0560e+02, 2.2000e+00, 1.3800e+01, 1.2060e+02,\n",
       "        2.1550e+02, 1.8100e+02],\n",
       "       [3.7830e+02, 9.5900e+01, 2.0210e+02, 1.3730e+02, 1.7710e+02,\n",
       "        3.5100e+01, 3.9800e+01, 1.1500e+01, 1.5030e+02, 1.9530e+02,\n",
       "        9.6600e+01, 1.4010e+02],\n",
       "       [2.3090e+02, 2.2350e+02, 4.0790e+02, 6.5400e+01, 2.3700e+01,\n",
       "        3.4800e+01, 7.8600e+01, 9.2000e+00, 8.6200e+01, 7.1900e+01,\n",
       "        1.7500e+02, 3.5330e+02],\n",
       "       [2.0870e+02, 3.0100e+02, 2.4020e+02, 6.7600e+01, 6.3100e+01,\n",
       "        1.7200e+01, 1.3430e+02, 1.0000e-01, 2.7400e+01, 1.6720e+02,\n",
       "        2.1170e+02, 2.6870e+02],\n",
       "       [3.8800e+02, 1.3640e+02, 3.3280e+02, 1.2360e+02, 8.0900e+01,\n",
       "        5.5700e+01, 0.0000e+00, 5.2500e+01, 4.9900e+01, 1.4430e+02,\n",
       "        1.2540e+02, 1.5290e+02],\n",
       "       [3.5640e+02, 1.4500e+02, 7.3600e+01, 7.5300e+01, 5.8100e+01,\n",
       "        2.8300e+01, 1.5770e+02, 2.7850e+01, 1.9890e+02, 1.5740e+02,\n",
       "        2.3720e+02, 2.9450e+02],\n",
       "       [5.4910e+02, 1.7540e+02, 2.5890e+02, 1.1640e+02, 5.2800e+01,\n",
       "        2.0200e+01, 7.8400e+01, 1.2000e+00, 1.0040e+02, 7.3800e+01,\n",
       "        1.2920e+02, 2.3470e+02],\n",
       "       [4.2840e+02, 3.4950e+02, 2.6510e+02, 1.4200e+02, 4.0100e+01,\n",
       "        8.1300e+01, 1.5000e+00, 4.9700e+01, 1.0700e+01, 2.1820e+02,\n",
       "        7.3400e+01, 3.9370e+02],\n",
       "       [4.0150e+02, 2.2600e+02, 1.6590e+02, 1.4910e+02, 8.2400e+01,\n",
       "        5.9660e+01, 1.0550e+02, 3.7000e+00, 3.1900e+01, 9.3900e+01,\n",
       "        1.5400e+02, 6.2320e+02],\n",
       "       [3.2170e+02, 3.7210e+02, 1.7500e+02, 1.0340e+02, 3.9400e+01,\n",
       "        2.1090e+02, 1.6880e+02, 1.5300e+01, 4.5100e+01, 1.1070e+02,\n",
       "        7.6600e+01, 1.3990e+02],\n",
       "       [1.8970e+02, 2.3610e+02, 2.2290e+02, 1.1020e+02, 7.1000e+01,\n",
       "        1.1500e+01, 5.1900e+01, 2.0500e+01, 8.2100e+01, 2.3800e+01,\n",
       "        2.0930e+02, 2.5800e+02],\n",
       "       [2.4930e+02, 3.0350e+02, 2.6590e+02, 1.0040e+02, 8.7200e+01,\n",
       "        2.5400e+01, 6.2700e+01, 4.0500e+01, 2.8090e+02, 1.3989e+02,\n",
       "        1.4504e+02, 2.2190e+02],\n",
       "       [2.4280e+02, 2.2520e+02, 2.8810e+02, 9.2200e+01, 1.4140e+02,\n",
       "        2.0730e+02, 0.0000e+00, 8.2200e+01, 2.9100e+01, 1.1690e+02,\n",
       "        1.8120e+02, 1.2920e+02],\n",
       "       [3.0579e+02, 2.4930e+02, 1.2080e+02, 1.5630e+02, 1.6610e+02,\n",
       "        1.0160e+02, 2.0000e-01, 5.3400e+01, 1.2000e+01, 1.2120e+02,\n",
       "        1.7440e+02, 1.6960e+02],\n",
       "       [2.3820e+02, 8.4500e+01, 2.2797e+02, 6.6400e+01, 2.5800e+01,\n",
       "        1.5000e+01, 2.0500e+01, 2.7850e+01, 7.2900e+01, 2.0340e+02,\n",
       "        1.3410e+02, 2.5800e+02],\n",
       "       [3.0579e+02, 3.1550e+02, 3.1850e+02, 1.7230e+02, 9.7300e+01,\n",
       "        5.9000e+01, 1.9510e+02, 6.7000e+00, 7.3700e+01, 7.5900e+01,\n",
       "        1.7080e+02, 2.4900e+02],\n",
       "       [4.0810e+02, 2.4930e+02, 9.5500e+01, 5.6000e+00, 1.3700e+01,\n",
       "        1.6380e+02, 5.4600e+01, 6.2100e+01, 2.2900e+01, 2.1390e+02,\n",
       "        1.6210e+02, 2.3604e+02]])"
      ]
     },
     "execution_count": 8,
     "metadata": {},
     "output_type": "execute_result"
    }
   ],
   "source": [
    "# Transformar em Array???\n",
    "chuva3 = chuva2.values\n",
    "chuva3"
   ]
  },
  {
   "cell_type": "code",
   "execution_count": 9,
   "metadata": {
    "id": "-LYGYGqVzJLY"
   },
   "outputs": [
    {
     "name": "stdout",
     "output_type": "stream",
     "text": [
      "[184.9, 242.9, 230.0, 59.0, 126.2, 14.6, 4.0, 21.8, 126.1, 71.1, 111.3, 155.2, 199.6, 221.0, 218.7, 106.5, 113.1, 3.9, 30.3, 27.85, 34.5, 60.7, 242.5, 389.9, 525.8, 249.3, 161.3, 98.1, 293.8, 183.9, 11.8, 30.9, 80.2, 84.8, 72.7, 152.1, 268.7, 224.4, 189.2, 175.1, 224.9, 58.6, 1.3, 0.2, 28.4, 173.9, 100.2, 289.8, 312.9, 344.3, 288.2, 66.3, 21.7, 52.5, 150.1, 32.9, 52.1, 80.1, 88.0, 236.7, 284.1, 196.9, 310.1, 85.8, 77.9, 50.6, 121.2, 76.3, 97.2, 206.8, 116.3, 149.8, 330.7, 340.3, 522.4, 200.3, 43.3, 96.8, 28.2, 37.3, 101.4, 168.0, 67.3, 237.9, 129.2, 258.5, 227.97, 87.2, 93.5, 11.6, 40.9, 24.7, 150.6, 219.6, 145.04, 211.7, 221.5, 225.7, 110.0, 84.6, 133.9, 74.7, 11.2, 40.8, 210.1, 134.1, 125.5, 170.5, 196.9, 184.4, 231.6, 111.4, 54.9, 30.5, 39.2, 2.4, 1.8, 147.6, 86.6, 276.3, 373.8, 383.1, 267.7, 73.9, 79.7, 31.2, 46.8, 1.5, 44.2, 202.6, 115.1, 236.04, 334.3, 376.5, 284.5, 42.3, 21.7, 45.1, 12.2, 41.2, 179.4, 179.8, 87.4, 243.9, 235.0, 187.6, 57.1, 63.2, 88.2, 124.7, 12.5, 28.8, 118.0, 151.8, 236.3, 217.4, 231.6, 430.1, 211.2, 56.9, 133.8, 16.6, 16.6, 45.5, 99.5, 203.1, 41.5, 198.4, 305.79, 339.0, 162.3, 34.9, 47.2, 86.3, 31.0, 0.0, 76.9, 64.5, 76.0, 100.4, 387.7, 304.0, 190.4, 50.0, 9.7, 9.8, 74.0, 27.85, 120.3, 105.5, 322.0, 281.0, 283.1, 221.9, 241.2, 28.7, 85.0, 31.0, 31.7, 26.9, 82.3, 213.1, 181.6, 292.9, 300.6, 173.6, 354.8, 95.3, 137.6, 2.3, 23.0, 41.5, 84.0, 143.9, 201.4, 263.7, 443.4, 141.5, 250.2, 45.5, 36.6, 20.7, 24.5, 27.6, 41.5, 176.7, 133.0, 89.9, 188.8, 316.9, 127.2, 160.5, 77.4, 75.6, 105.6, 2.2, 13.8, 120.6, 215.5, 181.0, 378.3, 95.9, 202.1, 137.3, 177.1, 35.1, 39.8, 11.5, 150.3, 195.3, 96.6, 140.1, 230.9, 223.5, 407.9, 65.4, 23.7, 34.8, 78.6, 9.2, 86.2, 71.9, 175.0, 353.3, 208.7, 301.0, 240.2, 67.6, 63.1, 17.2, 134.3, 0.1, 27.4, 167.2, 211.7, 268.7, 388.0, 136.4, 332.8, 123.6, 80.9, 55.7, 0.0, 52.5, 49.9, 144.3, 125.4, 152.9, 356.4, 145.0, 73.6, 75.3, 58.1, 28.3, 157.7, 27.85, 198.9, 157.4, 237.2, 294.5, 549.1, 175.4, 258.9, 116.4, 52.8, 20.2, 78.4, 1.2, 100.4, 73.8, 129.2, 234.7, 428.4, 349.5, 265.1, 142.0, 40.1, 81.3, 1.5, 49.7, 10.7, 218.2, 73.4, 393.7, 401.5, 226.0, 165.9, 149.1, 82.4, 59.66, 105.5, 3.7, 31.9, 93.9, 154.0, 623.2, 321.7, 372.1, 175.0, 103.4, 39.4, 210.9, 168.8, 15.3, 45.1, 110.7, 76.6, 139.9, 189.7, 236.1, 222.9, 110.2, 71.0, 11.5, 51.9, 20.5, 82.1, 23.8, 209.3, 258.0, 249.3, 303.5, 265.9, 100.4, 87.2, 25.4, 62.7, 40.5, 280.9, 139.89, 145.04, 221.9, 242.8, 225.2, 288.1, 92.2, 141.4, 207.3, 0.0, 82.2, 29.1, 116.9, 181.2, 129.2, 305.79, 249.3, 120.8, 156.3, 166.1, 101.6, 0.2, 53.4, 12.0, 121.2, 174.4, 169.6, 238.2, 84.5, 227.97, 66.4, 25.8, 15.0, 20.5, 27.85, 72.9, 203.4, 134.1, 258.0, 305.79, 315.5, 318.5, 172.3, 97.3, 59.0, 195.1, 6.7, 73.7, 75.9, 170.8, 249.0, 408.1, 249.3, 95.5, 5.6, 13.7, 163.8, 54.6, 62.1, 22.9, 213.9, 162.1, 236.04]\n"
     ]
    }
   ],
   "source": [
    "# Transformar em lista\n",
    "chuva4 = list(chuva3.flatten())\n",
    "print(chuva4)"
   ]
  },
  {
   "cell_type": "code",
   "execution_count": 10,
   "metadata": {
    "id": "MI-UW9tryKTE"
   },
   "outputs": [
    {
     "data": {
      "text/plain": [
       "DatetimeIndex(['1985-01-31', '1985-02-28', '1985-03-31', '1985-04-30',\n",
       "               '1985-05-31', '1985-06-30', '1985-07-31', '1985-08-31',\n",
       "               '1985-09-30', '1985-10-31',\n",
       "               ...\n",
       "               '2020-03-31', '2020-04-30', '2020-05-31', '2020-06-30',\n",
       "               '2020-07-31', '2020-08-31', '2020-09-30', '2020-10-31',\n",
       "               '2020-11-30', '2020-12-31'],\n",
       "              dtype='datetime64[ns]', length=432, freq='M')"
      ]
     },
     "execution_count": 10,
     "metadata": {},
     "output_type": "execute_result"
    }
   ],
   "source": [
    "indice = pd.date_range('1985', periods = len(chuva4), freq = 'M')\n",
    "indice"
   ]
  },
  {
   "cell_type": "code",
   "execution_count": 11,
   "metadata": {
    "id": "PCd2XD8b2A5f"
   },
   "outputs": [
    {
     "data": {
      "text/plain": [
       "1985-01-31    184.90\n",
       "1985-02-28    242.90\n",
       "1985-03-31    230.00\n",
       "1985-04-30     59.00\n",
       "1985-05-31    126.20\n",
       "               ...  \n",
       "2020-08-31     62.10\n",
       "2020-09-30     22.90\n",
       "2020-10-31    213.90\n",
       "2020-11-30    162.10\n",
       "2020-12-31    236.04\n",
       "Freq: M, Length: 432, dtype: float64"
      ]
     },
     "execution_count": 11,
     "metadata": {},
     "output_type": "execute_result"
    }
   ],
   "source": [
    "serie = pd.Series(chuva4, index = indice)\n",
    "serie"
   ]
  },
  {
   "cell_type": "code",
   "execution_count": 12,
   "metadata": {
    "id": "SE6V9am05QeQ"
   },
   "outputs": [
    {
     "data": {
      "image/png": "[encoded data removed]",
      "text/plain": [
       "<Figure size 1080x432 with 1 Axes>"
      ]
     },
     "metadata": {
      "needs_background": "light"
     },
     "output_type": "display_data"
    }
   ],
   "source": [
    "serie.plot()\n",
    "plt.show()"
   ]
  },
  {
   "cell_type": "markdown",
   "metadata": {
    "id": "S1Ir0OGB8sNG"
   },
   "source": [
    "##  <font color='Red'>**Análise e Preparação da Série**"
   ]
  },
  {
   "cell_type": "markdown",
   "metadata": {
    "id": "r2ADUdra-9bL"
   },
   "source": [
    "### <font color='Indigo'>**Média Móvel**"
   ]
  },
  {
   "cell_type": "code",
   "execution_count": 13,
   "metadata": {
    "id": "jBq9ACEU8zb-"
   },
   "outputs": [],
   "source": [
    "media_movel = serie.rolling(window=6)\n",
    "media_movel = media_movel.mean()"
   ]
  },
  {
   "cell_type": "code",
   "execution_count": 14,
   "metadata": {
    "id": "fNH-Bkrn_dtJ"
   },
   "outputs": [
    {
     "data": {
      "image/png": "[encoded data removed]",
      "text/plain": [
       "<Figure size 1080x432 with 1 Axes>"
      ]
     },
     "metadata": {
      "needs_background": "light"
     },
     "output_type": "display_data"
    }
   ],
   "source": [
    "plt.plot(media_movel);"
   ]
  },
  {
   "cell_type": "code",
   "execution_count": 15,
   "metadata": {
    "id": "5aOHUE_l_ii4"
   },
   "outputs": [
    {
     "data": {
      "image/png": "[encoded data removed]",
      "text/plain": [
       "<Figure size 1080x432 with 1 Axes>"
      ]
     },
     "metadata": {
      "needs_background": "light"
     },
     "output_type": "display_data"
    }
   ],
   "source": [
    "# Comparamos com a serie original\n",
    "plt.plot(serie, label='Série Real')\n",
    "plt.plot(media_movel,color='red', label='Média Móvel 6 meses')\n",
    "plt.legend(loc='best')\n",
    "plt.show()"
   ]
  },
  {
   "cell_type": "markdown",
   "metadata": {
    "id": "HObmA7J-HEpN"
   },
   "source": [
    "<font color='Teal'>**Decomposição**  "
   ]
  },
  {
   "cell_type": "code",
   "execution_count": null,
   "metadata": {
    "id": "fd0iAbK_HJfs"
   },
   "outputs": [],
   "source": [
    "from statsmodels.tsa.seasonal import seasonal_decompose"
   ]
  },
  {
   "cell_type": "code",
   "execution_count": null,
   "metadata": {
    "id": "LBACH2cPHahc"
   },
   "outputs": [],
   "source": [
    "decomposicao = seasonal_decompose(serie)"
   ]
  },
  {
   "cell_type": "code",
   "execution_count": null,
   "metadata": {
    "id": "F8h_ecVE2XD8"
   },
   "outputs": [],
   "source": [
    "decomposicao.plot()"
   ]
  },
  {
   "cell_type": "markdown",
   "metadata": {
    "id": "LPsPBbuDP-6v"
   },
   "source": [
    "### <font color='Indigo'>**Normalidade e Transformação**"
   ]
  },
  {
   "cell_type": "code",
   "execution_count": null,
   "metadata": {
    "id": "89NBIIl9jHFZ"
   },
   "outputs": [],
   "source": [
    "import scipy.stats as stats"
   ]
  },
  {
   "cell_type": "code",
   "execution_count": null,
   "metadata": {
    "id": "C8sjAI4tjQaW"
   },
   "outputs": [],
   "source": [
    "stats.probplot(serie, dist=\"norm\", plot=plt)\n",
    "plt.title(\"Normal QQ plot\")\n",
    "plt.show()"
   ]
  },
  {
   "cell_type": "markdown",
   "metadata": {
    "id": "Y7ax_KNLh_3F"
   },
   "source": [
    "<font color='Teal'>**Teste Shapiro-Wilk**\n",
    "\n",
    "<font color='Navy'>CRITÉRIOS:\n",
    "\n",
    "<font color='Navy'>NÍVEL DE SIGNIFICÂNCIA DE 0,05 ou 5% (MAIS UTILIZADO)\n",
    "\n",
    "<font color='Navy'>Ho = distribuição normal p > 0,05\n",
    "\n",
    "<font color='Navy'>Ha = distribuição não normal p <= 0,05"
   ]
  },
  {
   "cell_type": "code",
   "execution_count": null,
   "metadata": {
    "id": "uAwCqFApomAk"
   },
   "outputs": [],
   "source": [
    "e, p = stats.shapiro(serie)\n",
    "print('Estatística de teste: {}'.format(e))\n",
    "print('p-valor: {}'.format(p))"
   ]
  },
  {
   "cell_type": "code",
   "execution_count": null,
   "metadata": {
    "id": "ychSgFyqTOAY"
   },
   "outputs": [],
   "source": [
    "# Transformação por log (Diminuir variância e melhorar normalidade)\n",
    "serie2 = np.log(serie)\n",
    "serie2"
   ]
  },
  {
   "cell_type": "code",
   "execution_count": null,
   "metadata": {
    "id": "8EsJiMVRToDA"
   },
   "outputs": [],
   "source": [
    "e, p = stats.shapiro(serie2)\n",
    "print('Estatística de teste: {}'.format(e))\n",
    "print('p-valor: {}'.format(p))"
   ]
  },
  {
   "cell_type": "code",
   "execution_count": null,
   "metadata": {
    "id": "A_jsBe1cTu2E"
   },
   "outputs": [],
   "source": [
    "# Transformação por raiz cúbica (quando possui dados com valor zero ou negativos)\n",
    "serie3 = (serie)**(1/3)\n",
    "serie3"
   ]
  },
  {
   "cell_type": "code",
   "execution_count": null,
   "metadata": {
    "id": "IuDBz0osUEp9"
   },
   "outputs": [],
   "source": [
    "stats.probplot(serie3, dist=\"norm\", plot=plt)\n",
    "plt.title(\"Normal QQ plot\")\n",
    "plt.show()"
   ]
  },
  {
   "cell_type": "code",
   "execution_count": null,
   "metadata": {
    "id": "6xAvznImT0oG"
   },
   "outputs": [],
   "source": [
    "e, p =stats.shapiro(serie3)\n",
    "print('Estatística de teste: {}'.format(e))\n",
    "print('p-valor: {}'.format(p))"
   ]
  },
  {
   "cell_type": "code",
   "execution_count": null,
   "metadata": {
    "id": "7IJz8UbrVATV"
   },
   "outputs": [],
   "source": [
    "import seaborn as sns\n",
    "sns.distplot(serie);"
   ]
  },
  {
   "cell_type": "code",
   "execution_count": null,
   "metadata": {
    "id": "3B8-ZNGHVOCh"
   },
   "outputs": [],
   "source": [
    "sns.distplot(serie3);"
   ]
  },
  {
   "cell_type": "code",
   "execution_count": null,
   "metadata": {
    "id": "qdapCoHdUQhl"
   },
   "outputs": [],
   "source": [
    "# Posso tentar mais vezes???? Não é recomendado, pois não adianta.\n",
    "serie4 = (serie3)**(1/3)\n",
    "serie4"
   ]
  },
  {
   "cell_type": "markdown",
   "metadata": {
    "id": "0yfGe1EbV28T"
   },
   "source": [
    "### <font color='Indigo'>**Estacionaridade**"
   ]
  },
  {
   "cell_type": "code",
   "execution_count": null,
   "metadata": {
    "id": "2k1QZCcoZQKT"
   },
   "outputs": [],
   "source": [
    "import statsmodels.tsa.stattools"
   ]
  },
  {
   "cell_type": "markdown",
   "metadata": {
    "id": "g_uDFOAwZQKT"
   },
   "source": [
    "<font color='Navy'>Teste KPSS (Kwiatkowski-Phillips-Schmidt-Shin)\n",
    "\n",
    "<font color='Navy'>Ho = não é estacionário: estatística do teste > valor crítico\n",
    "\n",
    "<font color='Navy'>Ha = é estacionário:  estatística do teste < valor crítico"
   ]
  },
  {
   "cell_type": "code",
   "execution_count": null,
   "metadata": {
    "id": "CrGuOg6wZQKU"
   },
   "outputs": [],
   "source": [
    "kpss = statsmodels.tsa.stattools.kpss(serie3)\n",
    "print('Estatítica do teste: {:.4f}'.format(kpss[0]))\n",
    "print('p_valor: {:.4f}'.format(kpss[1]))\n",
    "print('Valores Críticos:')\n",
    "for chave, valor in kpss[3].items():\n",
    "   print('{}: {:.4f}'.format(chave, valor))"
   ]
  },
  {
   "cell_type": "code",
   "execution_count": null,
   "metadata": {
    "id": "LfjEft1aZnHX"
   },
   "outputs": [],
   "source": [
    "# Caso não fosse estacionária poderia tentar fazer a diferenciação:\n",
    "# serie5 = np.diff(serie3)"
   ]
  },
  {
   "cell_type": "markdown",
   "metadata": {
    "id": "CRydKZpEb7bB"
   },
   "source": [
    "### <font color='Indigo'>**Autocorrelação**"
   ]
  },
  {
   "cell_type": "code",
   "execution_count": null,
   "metadata": {
    "id": "pRNcRMAEtvnN"
   },
   "outputs": [],
   "source": [
    "from statsmodels.graphics.tsaplots import plot_acf, plot_pacf"
   ]
  },
  {
   "cell_type": "code",
   "execution_count": null,
   "metadata": {
    "id": "UfcDH02ass3X"
   },
   "outputs": [],
   "source": [
    "plot_acf(serie3, lags=20)\n",
    "plt.show()"
   ]
  },
  {
   "cell_type": "code",
   "execution_count": null,
   "metadata": {
    "id": "lHobkylY5rZ6"
   },
   "outputs": [],
   "source": [
    "plot_pacf(serie, lags=20)\n",
    "plt.show()"
   ]
  },
  {
   "cell_type": "markdown",
   "metadata": {
    "id": "zUb7noouc10H"
   },
   "source": [
    "<font color='Navy'>A série é autocorrelacionada, mas não tem problema, pois esse é um pressuposto da análise dos resíduos dos modelos de séries temporais."
   ]
  },
  {
   "cell_type": "markdown",
   "metadata": {
    "id": "mmAU7R-qdDzC"
   },
   "source": [
    "##  <font color='Red'>**Modelo AR**"
   ]
  },
  {
   "cell_type": "markdown",
   "metadata": {
    "id": "4qdfl01XdPMF"
   },
   "source": [
    "<font color='Navy'>Modelo arima:(p,d,q)\n",
    "\n",
    "<font color='Navy'>Modelo ar: (p,0,0)"
   ]
  },
  {
   "cell_type": "code",
   "execution_count": null,
   "metadata": {
    "id": "lnzLAs9G7msy"
   },
   "outputs": [],
   "source": [
    "from statsmodels.tsa.arima_model import ARIMA"
   ]
  },
  {
   "cell_type": "code",
   "execution_count": null,
   "metadata": {
    "id": "etSx8_Zf756T"
   },
   "outputs": [],
   "source": [
    "modelo_ar = ARIMA(serie3, order = (9,0,0))"
   ]
  },
  {
   "cell_type": "code",
   "execution_count": null,
   "metadata": {
    "id": "YzhVK8YB845b"
   },
   "outputs": [],
   "source": [
    "resultado = modelo_ar.fit()\n",
    "print(resultado.summary())"
   ]
  },
  {
   "cell_type": "code",
   "execution_count": null,
   "metadata": {
    "id": "oxxi2vwx3ng_"
   },
   "outputs": [],
   "source": [
    "plot_acf(serie3, lags=20)\n",
    "plt.show()"
   ]
  },
  {
   "cell_type": "markdown",
   "metadata": {
    "id": "RutvzFwG_4G9"
   },
   "source": [
    "<font color='Navy'>Melhor AIC: 1337.922 = (9,0,0)"
   ]
  },
  {
   "cell_type": "markdown",
   "metadata": {
    "id": "TMslCPkQBMKB"
   },
   "source": [
    "### <font color='Indigo'>**Análise dos Resíduos**"
   ]
  },
  {
   "cell_type": "code",
   "execution_count": null,
   "metadata": {
    "id": "9BS52mab_zvJ"
   },
   "outputs": [],
   "source": [
    "residuos = resultado.resid"
   ]
  },
  {
   "cell_type": "code",
   "execution_count": null,
   "metadata": {
    "id": "kC0WAKHdA6OU"
   },
   "outputs": [],
   "source": [
    "residuos.plot()\n",
    "plt.show()"
   ]
  },
  {
   "cell_type": "markdown",
   "metadata": {
    "id": "4VCNFCz0CFHX"
   },
   "source": [
    "<font color='Teal'>**Normalidade**"
   ]
  },
  {
   "cell_type": "code",
   "execution_count": null,
   "metadata": {
    "id": "fRLFBkPyBW8j"
   },
   "outputs": [],
   "source": [
    "stats.probplot(residuos, dist=\"norm\", plot=plt)\n",
    "plt.title(\"Normal QQ plot\")\n",
    "plt.show()"
   ]
  },
  {
   "cell_type": "code",
   "execution_count": null,
   "metadata": {
    "id": "z9B_hi4sBmer"
   },
   "outputs": [],
   "source": [
    "e, p = stats.shapiro(residuos)\n",
    "print('Estatística de teste: {}'.format(e))\n",
    "print('p-valor: {}'.format(p))"
   ]
  },
  {
   "cell_type": "code",
   "execution_count": null,
   "metadata": {
    "id": "MvaJ6Xz5B8hq"
   },
   "outputs": [],
   "source": [
    "import seaborn as sns\n",
    "sns.distplot(residuos);"
   ]
  },
  {
   "cell_type": "markdown",
   "metadata": {
    "id": "bPVw-UlsCbPJ"
   },
   "source": [
    "<font color='Teal'>**Autocorrelação**"
   ]
  },
  {
   "cell_type": "code",
   "execution_count": null,
   "metadata": {
    "id": "H8LOlk5zCb5h"
   },
   "outputs": [],
   "source": [
    "from statsmodels.graphics.tsaplots import plot_acf, plot_pacf"
   ]
  },
  {
   "cell_type": "code",
   "execution_count": null,
   "metadata": {
    "id": "ekWTLx__Cb5i"
   },
   "outputs": [],
   "source": [
    "plot_acf(residuos, lags=20)\n",
    "plt.show()"
   ]
  },
  {
   "cell_type": "code",
   "execution_count": null,
   "metadata": {
    "id": "xrDemTcGGl8H"
   },
   "outputs": [],
   "source": [
    "plot_pacf(residuos, lags=20)\n",
    "plt.show()"
   ]
  },
  {
   "cell_type": "code",
   "execution_count": null,
   "metadata": {
    "id": "4WreQ-OnDPyL"
   },
   "outputs": [],
   "source": [
    "plt.plot(serie3, label='Série Real')\n",
    "plt.plot(serie3-residuos,color='red', label='Resíduos')\n",
    "plt.legend(loc='best')\n",
    "plt.show()"
   ]
  },
  {
   "cell_type": "markdown",
   "metadata": {
    "id": "CRE-r5V2GsIX"
   },
   "source": [
    "<font color='Teal'>**Previsão**"
   ]
  },
  {
   "cell_type": "code",
   "execution_count": null,
   "metadata": {
    "id": "dcEP5avQGq9s"
   },
   "outputs": [],
   "source": [
    "resultado.fittedvalues"
   ]
  },
  {
   "cell_type": "code",
   "execution_count": null,
   "metadata": {
    "id": "9vebjUaZJn8q"
   },
   "outputs": [],
   "source": [
    "previsao = resultado.predict(431, end=443)\n",
    "previsao"
   ]
  },
  {
   "cell_type": "code",
   "execution_count": null,
   "metadata": {
    "id": "PA5Pk2HYmqjc"
   },
   "outputs": [],
   "source": [
    "previsao2 = resultado.forecast(12)\n",
    "previsao2"
   ]
  },
  {
   "cell_type": "code",
   "execution_count": null,
   "metadata": {
    "id": "N-iZowTem-dq"
   },
   "outputs": [],
   "source": [
    "previsao2[0]"
   ]
  },
  {
   "cell_type": "code",
   "execution_count": null,
   "metadata": {
    "id": "uRwooWEBKM3a"
   },
   "outputs": [],
   "source": [
    "plt.plot(serie3,color='yellow', label='Série Real')\n",
    "plt.plot(previsao,color='blue', label='Previsão')\n",
    "plt.plot(serie3-residuos,color='red', label='Resíduos')\n",
    "plt.legend(loc='best')\n",
    "plt.show()"
   ]
  },
  {
   "cell_type": "code",
   "execution_count": null,
   "metadata": {
    "id": "JWS--IyRNg1r"
   },
   "outputs": [],
   "source": [
    "prev_escala = pd.DataFrame(previsao ** 3, columns=['Previsão_AR'])\n",
    "prev_escala"
   ]
  },
  {
   "cell_type": "code",
   "execution_count": null,
   "metadata": {
    "id": "4Zh9OhKnLizi"
   },
   "outputs": [],
   "source": [
    "pd.concat([serie,prev_escala]).plot();"
   ]
  },
  {
   "cell_type": "markdown",
   "metadata": {
    "id": "oJvKUABeWX6y"
   },
   "source": [
    "##  <font color='Red'>**Modelo MA**"
   ]
  },
  {
   "cell_type": "markdown",
   "metadata": {
    "id": "wEtWYUx3WX6y"
   },
   "source": [
    "<font color='Navy'>Modelo arima:(p,d,q)\n",
    "\n",
    "<font color='Navy'>Modelo ma: (0,0,q)"
   ]
  },
  {
   "cell_type": "code",
   "execution_count": null,
   "metadata": {
    "id": "Wb696qs5WX6z"
   },
   "outputs": [],
   "source": [
    "from statsmodels.tsa.arima_model import ARIMA"
   ]
  },
  {
   "cell_type": "code",
   "execution_count": null,
   "metadata": {
    "id": "4QrJHNUrWX6z"
   },
   "outputs": [],
   "source": [
    "modelo_ma = ARIMA(serie3, order = (0,0,8))"
   ]
  },
  {
   "cell_type": "code",
   "execution_count": null,
   "metadata": {
    "id": "FyXelRdFWX60"
   },
   "outputs": [],
   "source": [
    "resultado_ma = modelo_ma.fit()\n",
    "print(resultado_ma.summary())"
   ]
  },
  {
   "cell_type": "markdown",
   "metadata": {
    "id": "QgNb_9uYa5XI"
   },
   "source": [
    "<font color='Navy'>Modelo AR: AIC = 1337.922 (9,0,0)\n",
    "\n",
    "<font color='Navy'>Modelo MA: AIC = 1411.696 (0,0,8)"
   ]
  },
  {
   "cell_type": "markdown",
   "metadata": {
    "id": "jbWhQgy6WX62"
   },
   "source": [
    "### <font color='Indigo'>**Análise dos Resíduos**"
   ]
  },
  {
   "cell_type": "code",
   "execution_count": null,
   "metadata": {
    "id": "SPmm9AE-WX62"
   },
   "outputs": [],
   "source": [
    "residuos_ma = resultado_ma.resid"
   ]
  },
  {
   "cell_type": "code",
   "execution_count": null,
   "metadata": {
    "id": "X7q8gj10WX62"
   },
   "outputs": [],
   "source": [
    "residuos_ma.plot()\n",
    "plt.show()"
   ]
  },
  {
   "cell_type": "markdown",
   "metadata": {
    "id": "xaigM-Y4WX63"
   },
   "source": [
    "<font color='Teal'>**Normalidade**"
   ]
  },
  {
   "cell_type": "code",
   "execution_count": null,
   "metadata": {
    "id": "I4ayFpznWX63"
   },
   "outputs": [],
   "source": [
    "stats.probplot(residuos_ma, dist=\"norm\", plot=plt)\n",
    "plt.title(\"Normal QQ plot\")\n",
    "plt.show()"
   ]
  },
  {
   "cell_type": "code",
   "execution_count": null,
   "metadata": {
    "id": "0gyiDJ0CWX64"
   },
   "outputs": [],
   "source": [
    "e, p = stats.shapiro(residuos_ma)\n",
    "print('Estatística de teste: {}'.format(e))\n",
    "print('p-valor: {}'.format(p))"
   ]
  },
  {
   "cell_type": "code",
   "execution_count": null,
   "metadata": {
    "id": "dtElZxbiWX64"
   },
   "outputs": [],
   "source": [
    "import seaborn as sns\n",
    "sns.distplot(residuos_ma);"
   ]
  },
  {
   "cell_type": "markdown",
   "metadata": {
    "id": "tcQVuFOlWX65"
   },
   "source": [
    "<font color='Teal'>**Autocorrelação**"
   ]
  },
  {
   "cell_type": "code",
   "execution_count": null,
   "metadata": {
    "id": "yYXv_nEZWX65"
   },
   "outputs": [],
   "source": [
    "from statsmodels.graphics.tsaplots import plot_acf, plot_pacf"
   ]
  },
  {
   "cell_type": "code",
   "execution_count": null,
   "metadata": {
    "id": "u_tqMwAAWX65"
   },
   "outputs": [],
   "source": [
    "plot_acf(residuos_ma, lags=30)\n",
    "plt.show()"
   ]
  },
  {
   "cell_type": "code",
   "execution_count": null,
   "metadata": {
    "id": "QZ0IW1PiWX66"
   },
   "outputs": [],
   "source": [
    "plot_pacf(residuos_ma, lags=30)\n",
    "plt.show()"
   ]
  },
  {
   "cell_type": "code",
   "execution_count": null,
   "metadata": {
    "id": "v52dtgPdWX66"
   },
   "outputs": [],
   "source": [
    "plt.plot(serie3, label='Série Real')\n",
    "plt.plot(serie3-residuos_ma,color='red', label='Resíduos')\n",
    "plt.legend(loc='best')\n",
    "plt.show()"
   ]
  },
  {
   "cell_type": "markdown",
   "metadata": {
    "id": "OwIppQ9nWX67"
   },
   "source": [
    "<font color='Teal'>**Previsão**"
   ]
  },
  {
   "cell_type": "code",
   "execution_count": null,
   "metadata": {
    "id": "d3Rwp-pkWX67"
   },
   "outputs": [],
   "source": [
    "resultado_ma.fittedvalues"
   ]
  },
  {
   "cell_type": "code",
   "execution_count": null,
   "metadata": {
    "id": "JvNzvc0aWX68"
   },
   "outputs": [],
   "source": [
    "previsao_ma = resultado_ma.predict(start=431, end=443)\n",
    "previsao_ma"
   ]
  },
  {
   "cell_type": "code",
   "execution_count": null,
   "metadata": {
    "id": "kbNrttIrWX68"
   },
   "outputs": [],
   "source": [
    "plt.plot(serie3,color='yellow', label='Série Real')\n",
    "plt.plot(previsao_ma,color='blue', label='Previsão')\n",
    "plt.plot(serie3-residuos_ma,color='red', label='Resíduos')\n",
    "plt.legend(loc='best')\n",
    "plt.show()"
   ]
  },
  {
   "cell_type": "code",
   "execution_count": null,
   "metadata": {
    "id": "T8uBecxIWX69"
   },
   "outputs": [],
   "source": [
    "prev_escala_ma = pd.DataFrame(previsao_ma ** 3, columns=['Previsão_MA'])\n",
    "prev_escala_ma"
   ]
  },
  {
   "cell_type": "code",
   "execution_count": null,
   "metadata": {
    "id": "JNmMnLi4LDTc"
   },
   "outputs": [],
   "source": [
    "pd.concat([serie,prev_escala_ma]).plot();"
   ]
  },
  {
   "cell_type": "markdown",
   "metadata": {
    "id": "BWSj9aviK4-k"
   },
   "source": [
    "##  <font color='Red'>**Modelo ARMA**"
   ]
  },
  {
   "cell_type": "markdown",
   "metadata": {
    "id": "-kF1d-ieK4-l"
   },
   "source": [
    "<font color='Navy'>Modelo arima:(p,d,q)\n",
    "\n",
    "<font color='Navy'>Modelo arma: (p,0,q)"
   ]
  },
  {
   "cell_type": "markdown",
   "metadata": {
    "id": "sylwvUmhK4-o"
   },
   "source": [
    "<font color='Navy'>Modelo AR: AIC = 1337.922 (9,0,0)\n",
    "\n",
    "<font color='Navy'>Modelo MA: AIC = 1411.696 (0,0,8)"
   ]
  },
  {
   "cell_type": "code",
   "execution_count": null,
   "metadata": {
    "id": "88VrsnqNK4-m"
   },
   "outputs": [],
   "source": [
    "from statsmodels.tsa.arima_model import ARIMA"
   ]
  },
  {
   "cell_type": "code",
   "execution_count": null,
   "metadata": {
    "id": "Km1ODjkOK4-m"
   },
   "outputs": [],
   "source": [
    "modelo_arma = ARIMA(serie3, order = (10,0,2))"
   ]
  },
  {
   "cell_type": "code",
   "execution_count": null,
   "metadata": {
    "id": "25aGtI-kK4-n"
   },
   "outputs": [],
   "source": [
    "resultado_arma = modelo_arma.fit()\n",
    "print(resultado_arma.summary())"
   ]
  },
  {
   "cell_type": "markdown",
   "metadata": {
    "id": "z54JGTJnPITx"
   },
   "source": [
    "<font color='Navy'>Modelo AR: AIC = 1337.922 (9,0,0)\n",
    "\n",
    "<font color='Navy'>Modelo MA: AIC = 1411.696 (0,0,8)\n",
    "\n",
    "<font color='Navy'>Modelo ARMA: Melhor AIC = 1273.766 (10,0,2)"
   ]
  },
  {
   "cell_type": "markdown",
   "metadata": {
    "id": "ZqMdSKwGK4-o"
   },
   "source": [
    "### <font color='Indigo'>**Análise dos Resíduos**"
   ]
  },
  {
   "cell_type": "code",
   "execution_count": null,
   "metadata": {
    "id": "yCa0US8PK4-o"
   },
   "outputs": [],
   "source": [
    "residuos_arma = resultado_arma.resid"
   ]
  },
  {
   "cell_type": "code",
   "execution_count": null,
   "metadata": {
    "id": "wl8ORjkKK4-p"
   },
   "outputs": [],
   "source": [
    "residuos_arma.plot()\n",
    "plt.show()"
   ]
  },
  {
   "cell_type": "markdown",
   "metadata": {
    "id": "eDBwE7I0K4-q"
   },
   "source": [
    "<font color='Teal'>**Normalidade**"
   ]
  },
  {
   "cell_type": "code",
   "execution_count": null,
   "metadata": {
    "id": "nV_6lmBzK4-q"
   },
   "outputs": [],
   "source": [
    "stats.probplot(residuos_arma, dist=\"norm\", plot=plt)\n",
    "plt.title(\"Normal QQ plot\")\n",
    "plt.show()"
   ]
  },
  {
   "cell_type": "code",
   "execution_count": null,
   "metadata": {
    "id": "AqIx9WLUK4-r"
   },
   "outputs": [],
   "source": [
    "e, p = stats.shapiro(residuos_arma)\n",
    "print('Estatística de teste: {}'.format(e))\n",
    "print('p-valor: {}'.format(p))"
   ]
  },
  {
   "cell_type": "code",
   "execution_count": null,
   "metadata": {
    "id": "0qTrCb32K4-r"
   },
   "outputs": [],
   "source": [
    "import seaborn as sns\n",
    "sns.distplot(residuos_arma);"
   ]
  },
  {
   "cell_type": "markdown",
   "metadata": {
    "id": "1xAex4zKK4-s"
   },
   "source": [
    "<font color='Teal'>**Autocorrelação**"
   ]
  },
  {
   "cell_type": "code",
   "execution_count": null,
   "metadata": {
    "id": "hcBBPFuNK4-s"
   },
   "outputs": [],
   "source": [
    "from statsmodels.graphics.tsaplots import plot_acf, plot_pacf"
   ]
  },
  {
   "cell_type": "code",
   "execution_count": null,
   "metadata": {
    "id": "aHFmQamlK4-t"
   },
   "outputs": [],
   "source": [
    "plot_acf(residuos_arma, lags=30)\n",
    "plt.show()"
   ]
  },
  {
   "cell_type": "code",
   "execution_count": null,
   "metadata": {
    "id": "JjcnsJTzK4-t"
   },
   "outputs": [],
   "source": [
    "plot_pacf(residuos_arma, lags=30)\n",
    "plt.show()"
   ]
  },
  {
   "cell_type": "code",
   "execution_count": null,
   "metadata": {
    "id": "SahzdBR2K4-u"
   },
   "outputs": [],
   "source": [
    "plt.plot(serie3, label='Série Real')\n",
    "plt.plot(serie3-residuos_arma,color='red', label='Resíduos')\n",
    "plt.legend(loc='best')\n",
    "plt.show()"
   ]
  },
  {
   "cell_type": "markdown",
   "metadata": {
    "id": "dcNjsrA9K4-u"
   },
   "source": [
    "<font color='Teal'>**Previsão**"
   ]
  },
  {
   "cell_type": "code",
   "execution_count": null,
   "metadata": {
    "id": "79ARVEmaK4-v"
   },
   "outputs": [],
   "source": [
    "resultado_arma.fittedvalues"
   ]
  },
  {
   "cell_type": "code",
   "execution_count": null,
   "metadata": {
    "id": "skRGv6KHK4-v"
   },
   "outputs": [],
   "source": [
    "previsao_arma = resultado_arma.predict(start=431, end=455)\n",
    "previsao_arma"
   ]
  },
  {
   "cell_type": "code",
   "execution_count": null,
   "metadata": {
    "id": "wSJaorAvK4-w"
   },
   "outputs": [],
   "source": [
    "plt.plot(serie3,color='yellow', label='Série Real')\n",
    "plt.plot(previsao_arma,color='blue', label='Previsão')\n",
    "plt.plot(serie3-residuos_arma,color='red', label='Resíduos')\n",
    "plt.legend(loc='best')\n",
    "plt.show()"
   ]
  },
  {
   "cell_type": "code",
   "execution_count": null,
   "metadata": {
    "id": "pQDFc_CBK4-w"
   },
   "outputs": [],
   "source": [
    "prev_escala_arma = pd.DataFrame(previsao_arma ** 3, columns=['Previsão_ARMA'])\n",
    "prev_escala_arma"
   ]
  },
  {
   "cell_type": "code",
   "execution_count": null,
   "metadata": {
    "id": "zQ1haIYmKj_f"
   },
   "outputs": [],
   "source": [
    "pd.concat([serie,prev_escala_arma]).plot();"
   ]
  },
  {
   "cell_type": "markdown",
   "metadata": {
    "id": "k-SFCcYbRCL3"
   },
   "source": [
    "##  <font color='Red'>**Modelo ARIMA**"
   ]
  },
  {
   "cell_type": "markdown",
   "metadata": {
    "id": "bU9xFNEnRCL4"
   },
   "source": [
    "<font color='Navy'>**Modelo arima:(p,d,q)**"
   ]
  },
  {
   "cell_type": "markdown",
   "metadata": {
    "id": "_S8dxChGRCL6"
   },
   "source": [
    "<font color='Navy'>Modelo AR: AIC = 1337.922 (9,0,0)\n",
    "\n",
    "<font color='Navy'>Modelo MA: Melhor AIC = 1411.696 (0,0,8)\n",
    "\n",
    "<font color='Navy'>Modelo ARMA: Melhor AIC = 1273.766 (10,0,2)"
   ]
  },
  {
   "cell_type": "code",
   "execution_count": null,
   "metadata": {
    "id": "-F9SdSuQRCL5"
   },
   "outputs": [],
   "source": [
    "from statsmodels.tsa.arima_model import ARIMA"
   ]
  },
  {
   "cell_type": "code",
   "execution_count": null,
   "metadata": {
    "id": "BMU4jVCORCL5"
   },
   "outputs": [],
   "source": [
    "modelo_arima = ARIMA(serie3, order = (10,1,2))"
   ]
  },
  {
   "cell_type": "code",
   "execution_count": null,
   "metadata": {
    "id": "ehHf1Z6fRCL5"
   },
   "outputs": [],
   "source": [
    "resultado_arima = modelo_arima.fit()\n",
    "print(resultado_arima.summary())"
   ]
  },
  {
   "cell_type": "markdown",
   "metadata": {
    "id": "ecihNMoSSyyy"
   },
   "source": [
    "Modelo AR: Melhor AIC = 1339.919 (10,0,0)\n",
    "\n",
    "Modelo MA: Melhor AIC = 1411.696 (0,0,8)\n",
    "\n",
    "Modelo ARMA: Melhor AIC = 1273.766 (10,0,2)\n",
    "\n",
    "Modelo ARIMA: Melhor AIC = 1319.230 (10,1,2)"
   ]
  },
  {
   "cell_type": "markdown",
   "metadata": {
    "id": "kxW5SpGORCL7"
   },
   "source": [
    "### <font color='Indigo'>**Análise dos Resíduos**"
   ]
  },
  {
   "cell_type": "code",
   "execution_count": null,
   "metadata": {
    "id": "e_IiqaK8RCL7"
   },
   "outputs": [],
   "source": [
    "residuos_arima = resultado_arima.resid"
   ]
  },
  {
   "cell_type": "code",
   "execution_count": null,
   "metadata": {
    "id": "MeyyuFPQRCL8"
   },
   "outputs": [],
   "source": [
    "residuos_arima.plot()\n",
    "plt.show()"
   ]
  },
  {
   "cell_type": "markdown",
   "metadata": {
    "id": "66ilpOwjRCL8"
   },
   "source": [
    "<font color='Teal'>**Normalidade**"
   ]
  },
  {
   "cell_type": "code",
   "execution_count": null,
   "metadata": {
    "id": "UMzqq_10RCL9"
   },
   "outputs": [],
   "source": [
    "stats.probplot(residuos_arima, dist=\"norm\", plot=plt)\n",
    "plt.title(\"Normal QQ plot\")\n",
    "plt.show()"
   ]
  },
  {
   "cell_type": "code",
   "execution_count": null,
   "metadata": {
    "id": "DhVWJM3NRCL9"
   },
   "outputs": [],
   "source": [
    "e, p = stats.shapiro(residuos_arima)\n",
    "print('Estatística de teste: {}'.format(e))\n",
    "print('p-valor: {}'.format(p))"
   ]
  },
  {
   "cell_type": "code",
   "execution_count": null,
   "metadata": {
    "id": "lsIY9c3dRCL-"
   },
   "outputs": [],
   "source": [
    "import seaborn as sns\n",
    "sns.distplot(residuos_arima);"
   ]
  },
  {
   "cell_type": "markdown",
   "metadata": {
    "id": "HefcZZIoRCL-"
   },
   "source": [
    "<font color='Teal'>**Autocorrelação**"
   ]
  },
  {
   "cell_type": "code",
   "execution_count": null,
   "metadata": {
    "id": "7PSoZ6rJRCL_"
   },
   "outputs": [],
   "source": [
    "from statsmodels.graphics.tsaplots import plot_acf, plot_pacf"
   ]
  },
  {
   "cell_type": "code",
   "execution_count": null,
   "metadata": {
    "id": "AYwP6r1RRCL_"
   },
   "outputs": [],
   "source": [
    "plot_acf(residuos_arima, lags=30)\n",
    "plt.show()"
   ]
  },
  {
   "cell_type": "code",
   "execution_count": null,
   "metadata": {
    "id": "B_PfnM_HRCL_"
   },
   "outputs": [],
   "source": [
    "plot_pacf(residuos_arima, lags=30)\n",
    "plt.show()"
   ]
  },
  {
   "cell_type": "code",
   "execution_count": null,
   "metadata": {
    "id": "YTGGUN-zRCMA"
   },
   "outputs": [],
   "source": [
    "plt.plot(serie3, label='Série Real')\n",
    "plt.plot(serie3-residuos_arima,color='red', label='Resíduos')\n",
    "plt.legend(loc='best')\n",
    "plt.show()"
   ]
  },
  {
   "cell_type": "markdown",
   "metadata": {
    "id": "ysgc-INqRCMB"
   },
   "source": [
    "<font color='Teal'>**Previsão**"
   ]
  },
  {
   "cell_type": "code",
   "execution_count": null,
   "metadata": {
    "id": "3ampuwhTRCMB"
   },
   "outputs": [],
   "source": [
    "resultado_arima.fittedvalues"
   ]
  },
  {
   "cell_type": "code",
   "execution_count": null,
   "metadata": {
    "id": "D1syz1kVRCMB"
   },
   "outputs": [],
   "source": [
    "previsao_arima = resultado_arima.predict(start=430, end=443)\n",
    "previsao_arima"
   ]
  },
  {
   "cell_type": "code",
   "execution_count": null,
   "metadata": {
    "id": "amdm6Ig9iV81"
   },
   "outputs": [],
   "source": [
    "previsao_arima2 = resultado_arima.forecast(24)\n",
    "previsao_arima2[0]"
   ]
  },
  {
   "cell_type": "code",
   "execution_count": null,
   "metadata": {
    "id": "0qam74BYRCMC"
   },
   "outputs": [],
   "source": [
    "prev_escala_arima = pd.DataFrame(previsao_arima2[0] ** 3, columns=['Previsão_ARIMA'])\n",
    "prev_escala_arima"
   ]
  },
  {
   "cell_type": "code",
   "execution_count": null,
   "metadata": {
    "id": "i1F6QMYrKZSl"
   },
   "outputs": [],
   "source": [
    "pd.concat([serie,prev_escala_arima]).plot();"
   ]
  },
  {
   "cell_type": "markdown",
   "metadata": {
    "id": "z42nszMewQH4"
   },
   "source": [
    "##  <font color='Red'>**Modelo AUTO ARIMA**"
   ]
  },
  {
   "cell_type": "markdown",
   "metadata": {
    "id": "83-G51zOwQH5"
   },
   "source": [
    "<font color='Navy'>**Modelo arima:(p,d,q)**\n",
    "\n",
    "<font color='Navy'>**Modelo SARIMA: (p,d,q)(P,D,Q)**"
   ]
  },
  {
   "cell_type": "markdown",
   "metadata": {
    "id": "iVQ5o3pmwQH6"
   },
   "source": [
    "<font color='Navy'>Modelo AR: Melhor AIC = 1337.922 = (9,0,0)\n",
    "\n",
    "<font color='Navy'>Modelo MA: Melhor AIC = 1411.696 (0,0,8)\n",
    "\n",
    "<font color='Navy'>Modelo ARMA: Melhor AIC = 1273.766 (10,0,2)\n",
    "\n",
    "<font color='Navy'>Modelo ARIMA: Melhor AIC = 1319.230 (10,1,2)"
   ]
  },
  {
   "cell_type": "code",
   "execution_count": null,
   "metadata": {
    "id": "dr0K9vmbwyCZ"
   },
   "outputs": [],
   "source": [
    "pip install pmdarima"
   ]
  },
  {
   "cell_type": "code",
   "execution_count": null,
   "metadata": {
    "id": "Cemklt2AwYos"
   },
   "outputs": [],
   "source": [
    "from pmdarima.arima import auto_arima"
   ]
  },
  {
   "cell_type": "code",
   "execution_count": null,
   "metadata": {
    "id": "lHQHzas4xsKS"
   },
   "outputs": [],
   "source": [
    "### AUTOARIMA\n",
    "modelo_auto = auto_arima(serie3, trace = True, stepwise = False, seasonal=True, max_p=10, max_q=10,\n",
    "                          max_P=4, max_Q=4, start_p=0, start_q=0, start_P=0, start_Q=0, m=12)\n",
    "\n",
    "# Trace: apresenta no console a lista dos modelos.\n",
    "# stepwise: seleção gradual(processo mais rápido, porém menos minucioso).\n",
    "# m: período sazonal (neste caso mensal).\n",
    "# Interessante dobrar as ordens máximas: max.p = 10, max.q = 10, max.P = 4, max.Q = 4"
   ]
  },
  {
   "cell_type": "code",
   "execution_count": null,
   "metadata": {
    "id": "ttHzu3WY_AZy"
   },
   "outputs": [],
   "source": [
    "print(modelo_auto.aic())"
   ]
  },
  {
   "cell_type": "markdown",
   "metadata": {
    "id": "LJS9HeF96gIE"
   },
   "source": [
    "<font color='Navy'>Modelo AR: Melhor AIC = 1339.919 (10,0,0)\n",
    "\n",
    "<font color='Navy'>Modelo MA: Melhor AIC = 1411.696 (0,0,8)\n",
    "\n",
    "<font color='Navy'>Modelo ARMA: Melhor AIC = 1273.766 (10,0,2)\n",
    "\n",
    "<font color='Navy'>Modelo ARIMA: Melhor AIC = 1319.230 (10,1,2)\n",
    "\n",
    "<font color='Navy'>Modelo_AUTOARIMA: AIC=1270.5894 ARIMA(0,0,0)(1,0,3)"
   ]
  },
  {
   "cell_type": "code",
   "execution_count": null,
   "metadata": {
    "id": "6P02trfRwQH7"
   },
   "outputs": [],
   "source": [
    "resultado_auto = modelo_auto.fit(serie3)\n",
    "print(resultado_auto.summary())"
   ]
  },
  {
   "cell_type": "markdown",
   "metadata": {
    "id": "si6SmydGwQH8"
   },
   "source": [
    "### <font color='Indigo'>**Análise dos Resíduos**"
   ]
  },
  {
   "cell_type": "code",
   "execution_count": null,
   "metadata": {
    "id": "jZhh-x-YwQH9"
   },
   "outputs": [],
   "source": [
    "residuos_auto = resultado_auto.resid\n",
    "residuos_auto()"
   ]
  },
  {
   "cell_type": "code",
   "execution_count": null,
   "metadata": {
    "id": "tUm0qlpWwQH9"
   },
   "outputs": [],
   "source": [
    "plt.plot(residuos_auto())\n",
    "plt.show()"
   ]
  },
  {
   "cell_type": "markdown",
   "metadata": {
    "id": "ZvZoBCR5wQH-"
   },
   "source": [
    "<font color='Teal'>**Normalidade**"
   ]
  },
  {
   "cell_type": "code",
   "execution_count": null,
   "metadata": {
    "id": "3BVYL700wQH_"
   },
   "outputs": [],
   "source": [
    "stats.probplot(residuos_auto(), dist=\"norm\", plot=plt)\n",
    "plt.title(\"Normal QQ plot\")\n",
    "plt.show()"
   ]
  },
  {
   "cell_type": "code",
   "execution_count": null,
   "metadata": {
    "id": "p56ZyeFYwQH_"
   },
   "outputs": [],
   "source": [
    "e, p = stats.shapiro(residuos_auto())\n",
    "print('Estatística de teste: {}'.format(e))\n",
    "print('p-valor: {}'.format(p))"
   ]
  },
  {
   "cell_type": "code",
   "execution_count": null,
   "metadata": {
    "id": "q44TrziqwQIA"
   },
   "outputs": [],
   "source": [
    "import seaborn as sns\n",
    "sns.distplot(residuos_auto());"
   ]
  },
  {
   "cell_type": "markdown",
   "metadata": {
    "id": "bWd5L3EmwQIB"
   },
   "source": [
    "<font color='Teal'>**Autocorrelação**"
   ]
  },
  {
   "cell_type": "code",
   "execution_count": null,
   "metadata": {
    "id": "ugX6aN6bwQIB"
   },
   "outputs": [],
   "source": [
    "from statsmodels.graphics.tsaplots import plot_acf, plot_pacf"
   ]
  },
  {
   "cell_type": "code",
   "execution_count": null,
   "metadata": {
    "id": "wBrK9_hEwQIB"
   },
   "outputs": [],
   "source": [
    "plot_acf(residuos_auto(), lags=30)\n",
    "plt.show()"
   ]
  },
  {
   "cell_type": "code",
   "execution_count": null,
   "metadata": {
    "id": "LgVLtBgowQIB"
   },
   "outputs": [],
   "source": [
    "plot_pacf(residuos_auto(), lags=30)\n",
    "plt.show()"
   ]
  },
  {
   "cell_type": "code",
   "execution_count": null,
   "metadata": {
    "id": "OHeBkq_YwQIC"
   },
   "outputs": [],
   "source": [
    "plt.plot(serie3, label='Série Real')\n",
    "plt.plot(serie3-residuos_auto(),color='red', label='Resíduos')\n",
    "plt.legend(loc='best')\n",
    "plt.show()"
   ]
  },
  {
   "cell_type": "markdown",
   "metadata": {
    "id": "Z_Upzd1nwQIC"
   },
   "source": [
    "<font color='Teal'>**Previsão**"
   ]
  },
  {
   "cell_type": "code",
   "execution_count": null,
   "metadata": {
    "id": "eZ0GCuhrwQIC"
   },
   "outputs": [],
   "source": [
    "previsao_auto = resultado_auto.predict(n_periods=48)\n",
    "previsao_auto"
   ]
  },
  {
   "cell_type": "code",
   "execution_count": null,
   "metadata": {
    "id": "6tqLgYIvwQID"
   },
   "outputs": [],
   "source": [
    "prev_escala_auto = pd.DataFrame(previsao_auto ** 3, columns=['Previsão_SARIMA'])\n",
    "prev_escala_auto"
   ]
  },
  {
   "cell_type": "code",
   "execution_count": null,
   "metadata": {
    "id": "62qbz4fHGrcq"
   },
   "outputs": [],
   "source": [
    "pd.concat([serie,prev_escala_auto]).plot();"
   ]
  },
  {
   "cell_type": "markdown",
   "metadata": {
    "id": "6gtRfay3zTyP"
   },
   "source": [
    "##  <font color='Red'>**Análise final do projeto**"
   ]
  },
  {
   "cell_type": "markdown",
   "metadata": {
    "id": "TzbgA1IY7ssQ"
   },
   "source": [
    "<font color='Teal'>**COMPARAÇÃO DOS MODELOS**"
   ]
  },
  {
   "cell_type": "markdown",
   "metadata": {
    "id": "cqXXUFdo7Plj"
   },
   "source": [
    "<font color='Navy'>Modelo AR: Melhor AIC = 1339.919 (10,0,0)\n",
    "\n",
    "<font color='Navy'>Modelo MA: Melhor AIC = 1411.696 (0,0,8)\n",
    "\n",
    "<font color='Navy'>Modelo ARMA: Melhor AIC = 1273.766 (10,0,2)\n",
    "\n",
    "<font color='Navy'>Modelo ARIMA: Melhor AIC = 1319.230 (10,1,2)\n",
    "\n",
    "<font color='Navy'>**Modelo_SARIMA (AutoArima): AIC=1270.5894 ARIMA(0,0,0)(1,0,3)**"
   ]
  },
  {
   "cell_type": "markdown",
   "metadata": {
    "id": "nDwUNZd-72zJ"
   },
   "source": [
    "<font color='Teal'>**DESEMPENHO DOS MODELOS**"
   ]
  },
  {
   "cell_type": "code",
   "execution_count": null,
   "metadata": {
    "id": "WCnPT8-EnlHA"
   },
   "outputs": [],
   "source": [
    "# Lista com valores reais de 2021\n",
    "lista = [373.3, 174.1, 137.8, 55.7]\n",
    "valores_reais = pd.DataFrame(lista, columns = ['valores reais'])\n",
    "print(valores_reais)"
   ]
  },
  {
   "cell_type": "code",
   "execution_count": null,
   "metadata": {
    "id": "vuGbCbTUptfS"
   },
   "outputs": [],
   "source": [
    "auto = prev_escala_auto.iloc[0:4]\n",
    "auto"
   ]
  },
  {
   "cell_type": "code",
   "execution_count": null,
   "metadata": {
    "id": "i1jhhM-PpDca"
   },
   "outputs": [],
   "source": [
    "desempenho = pd.concat([valores_reais, auto],axis=1)\n",
    "desempenho"
   ]
  },
  {
   "cell_type": "code",
   "execution_count": null,
   "metadata": {
    "id": "nilAAzTBtGvo"
   },
   "outputs": [],
   "source": [
    "ar = prev_escala.iloc[1:5]\n",
    "ar"
   ]
  },
  {
   "cell_type": "code",
   "execution_count": null,
   "metadata": {
    "id": "pYGgGdOcvVJv"
   },
   "outputs": [],
   "source": [
    "pd.DataFrame.reset_index(ar, drop=True, inplace=True)\n",
    "ar"
   ]
  },
  {
   "cell_type": "code",
   "execution_count": null,
   "metadata": {
    "id": "0OxUWCM-tton"
   },
   "outputs": [],
   "source": [
    "ma = prev_escala_ma.iloc[1:5]\n",
    "ma"
   ]
  },
  {
   "cell_type": "code",
   "execution_count": null,
   "metadata": {
    "id": "uoYvZuNtv9-Q"
   },
   "outputs": [],
   "source": [
    "pd.DataFrame.reset_index(ma, drop=True, inplace=True)\n",
    "ma"
   ]
  },
  {
   "cell_type": "code",
   "execution_count": null,
   "metadata": {
    "id": "I9LQ-5iOt2-d"
   },
   "outputs": [],
   "source": [
    "arma = prev_escala_arma.iloc[1:5]\n",
    "arma"
   ]
  },
  {
   "cell_type": "code",
   "execution_count": null,
   "metadata": {
    "id": "hMATTyRlwGFa"
   },
   "outputs": [],
   "source": [
    "pd.DataFrame.reset_index(arma, drop=True, inplace=True)\n",
    "arma"
   ]
  },
  {
   "cell_type": "code",
   "execution_count": null,
   "metadata": {
    "id": "_yNqfkPbt_K3"
   },
   "outputs": [],
   "source": [
    "arima = prev_escala_arima.iloc[0:4]\n",
    "arima"
   ]
  },
  {
   "cell_type": "code",
   "execution_count": null,
   "metadata": {
    "id": "wyBehBR2uvID"
   },
   "outputs": [],
   "source": [
    "desempenho = pd.concat([desempenho, ar, ma, arma, arima],axis=1)\n",
    "desempenho"
   ]
  },
  {
   "cell_type": "code",
   "execution_count": null,
   "metadata": {
    "id": "iO9JteAP1I0D"
   },
   "outputs": [],
   "source": [
    "from sklearn.metrics import mean_absolute_error, mean_squared_error"
   ]
  },
  {
   "cell_type": "markdown",
   "metadata": {
    "id": "F2guA_gt2n1n"
   },
   "source": [
    "<font color='Teal'>**ERRO MÉDIO ABSOLUTO (MAE)**"
   ]
  },
  {
   "cell_type": "code",
   "execution_count": null,
   "metadata": {
    "id": "un13DL8c14E1"
   },
   "outputs": [],
   "source": [
    "print('ERRO MÉDIO ABSOLUTO (MAE)')\n",
    "mae_sarima = mean_absolute_error(desempenho['valores reais'], desempenho['Previsão_SARIMA'])\n",
    "print('SARIMA: {:.2f}'.format(mae_sarima))\n",
    "mae_ar = mean_absolute_error(desempenho['valores reais'], desempenho['Previsão_AR'])\n",
    "print('AR: {:.2f}'.format(mae_ar))\n",
    "mae_ma = mean_absolute_error(desempenho['valores reais'], desempenho['Previsão_MA'])\n",
    "print('MA: {:.2f}'.format(mae_ma))\n",
    "mae_arma = mean_absolute_error(desempenho['valores reais'], desempenho['Previsão_ARMA'])\n",
    "print('ARMA: {:.2f}'.format(mae_arma))\n",
    "mae_arima = mean_absolute_error(desempenho['valores reais'], desempenho['Previsão_ARIMA'])\n",
    "print('ARIMA: {:.2f}'.format(mae_arima))"
   ]
  },
  {
   "cell_type": "markdown",
   "metadata": {
    "id": "6M8HdOHH4tXs"
   },
   "source": [
    "<font color='Teal'>**ERRO QUADRÁTICO MÉDIO (MSE)**"
   ]
  },
  {
   "cell_type": "code",
   "execution_count": null,
   "metadata": {
    "id": "uXm7ukbX4EDz"
   },
   "outputs": [],
   "source": [
    "print('ERRO QUADRÁTICO MÉDIO (MSE)')\n",
    "mse_sarima = mean_squared_error(desempenho['valores reais'], desempenho['Previsão_SARIMA'])\n",
    "print('SARIMA: {:.2f}'.format(mse_sarima))\n",
    "mse_ar = mean_squared_error(desempenho['valores reais'], desempenho['Previsão_AR'])\n",
    "print('AR: {:.2f}'.format(mse_ar))\n",
    "mse_ma = mean_squared_error(desempenho['valores reais'], desempenho['Previsão_MA'])\n",
    "print('MA: {:.2f}'.format(mse_ma))\n",
    "mse_arma = mean_squared_error(desempenho['valores reais'], desempenho['Previsão_ARMA'])\n",
    "print('ARMA: {:.2f}'.format(mse_arma))\n",
    "mse_arima = mean_squared_error(desempenho['valores reais'], desempenho['Previsão_ARIMA'])\n",
    "print('ARIMA: {:.2f}'.format(mse_arima))"
   ]
  },
  {
   "cell_type": "markdown",
   "metadata": {
    "id": "nZJ4oE0E48YR"
   },
   "source": [
    "<font color='Teal'>**RAIZ DO ERRO QUADRÁTICO MÉDIO (RMSE)**"
   ]
  },
  {
   "cell_type": "code",
   "execution_count": null,
   "metadata": {
    "id": "zeaxb__15Iv4"
   },
   "outputs": [],
   "source": [
    "print('RAIZ DO ERRO QUADRÁTICO MÉDIO (RMSE)')\n",
    "rmse_sarima = mean_squared_error(desempenho['valores reais'], desempenho['Previsão_SARIMA'], squared=False)\n",
    "print('SARIMA: {:.2f}'.format(rmse_sarima))\n",
    "rmse_ar = mean_squared_error(desempenho['valores reais'], desempenho['Previsão_AR'], squared=False)\n",
    "print('AR: {:.2f}'.format(rmse_ar))\n",
    "rmse_ma = mean_squared_error(desempenho['valores reais'], desempenho['Previsão_MA'], squared=False)\n",
    "print('MA: {:.2f}'.format(rmse_ma))\n",
    "rmse_arma = mean_squared_error(desempenho['valores reais'], desempenho['Previsão_ARMA'], squared=False)\n",
    "print('ARMA: {:.2f}'.format(rmse_arma))\n",
    "rmse_arima = mean_squared_error(desempenho['valores reais'], desempenho['Previsão_ARIMA'], squared=False)\n",
    "print('ARIMA: {:.2f}'.format(rmse_arima))"
   ]
  },
  {
   "cell_type": "markdown",
   "metadata": {
    "id": "qXFC1eMo9H69"
   },
   "source": [
    "<font color='Teal'>**Sugestões de Estudos:**\n",
    "\n",
    "<font color='Navy'>1) Criar uma série com a data final até dezembro de 2019.\n",
    "\n",
    "<font color='Navy'>2) Fazer todo o estudo com o dataset elnino do Python."
   ]
  },
  {
   "cell_type": "markdown",
   "metadata": {
    "id": "-ekCv-OB-CmE"
   },
   "source": [
    "https://www.statsmodels.org/devel/datasets/index.html "
   ]
  },
  {
   "cell_type": "code",
   "execution_count": null,
   "metadata": {
    "id": "Eklqu1qG-ZOj"
   },
   "outputs": [],
   "source": [
    "import statsmodels.api as sm\n",
    "sm.datasets.elnino.load_pandas().data"
   ]
  },
  {
   "cell_type": "markdown",
   "metadata": {},
   "source": [
    "https://www.w3schools.com/colors/colors_hex.asp"
   ]
  },
  {
   "cell_type": "code",
   "execution_count": null,
   "metadata": {},
   "outputs": [],
   "source": []
  }
 ],
 "metadata": {
  "colab": {
   "name": "projeto_chuva.ipynb",
   "provenance": []
  },
  "kernelspec": {
   "display_name": "Python 3 (ipykernel)",
   "language": "python",
   "name": "python3"
  },
  "language_info": {
   "codemirror_mode": {
    "name": "ipython",
    "version": 3
   },
   "file_extension": ".py",
   "mimetype": "text/x-python",
   "name": "python",
   "nbconvert_exporter": "python",
   "pygments_lexer": "ipython3",
   "version": "3.9.7"
  }
 },
 "nbformat": 4,
 "nbformat_minor": 1
}
