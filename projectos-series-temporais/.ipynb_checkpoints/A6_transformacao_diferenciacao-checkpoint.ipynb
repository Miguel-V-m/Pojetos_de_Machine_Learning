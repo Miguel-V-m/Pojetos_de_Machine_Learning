{
 "cells": [
  {
   "cell_type": "markdown",
   "metadata": {
    "id": "a96WELzFA98V"
   },
   "source": [
    "# **TRANSFORMAÇÃO E DIFERENCIAÇÃO**"
   ]
  },
  {
   "cell_type": "code",
   "execution_count": null,
   "metadata": {
    "id": "A5yMS5nI9uYM"
   },
   "outputs": [],
   "source": [
    "import numpy as np\n",
    "import pandas as pd\n",
    "import matplotlib.pyplot as plt"
   ]
  },
  {
   "cell_type": "code",
   "execution_count": null,
   "metadata": {
    "id": "cAJTcWNL4A9U"
   },
   "outputs": [],
   "source": [
    "from matplotlib.pylab import rcParams\n",
    "rcParams['figure.figsize'] = 15,6"
   ]
  },
  {
   "cell_type": "markdown",
   "metadata": {
    "id": "6dQ2L_8r6bZF"
   },
   "source": [
    "### **Transformação**"
   ]
  },
  {
   "cell_type": "markdown",
   "metadata": {
    "id": "CYVuEx5VbELw"
   },
   "source": [
    "**AirPassengers: dados clássicos da companhia aérea Box & Jenkins. Totais mensais de passageiros de companhias aéreas internacionais, 1949 a 1960.**\n",
    " "
   ]
  },
  {
   "cell_type": "code",
   "execution_count": null,
   "metadata": {
    "id": "3347scLeXDlZ"
   },
   "outputs": [],
   "source": [
    "dados = pd.read_csv('/content/drive/MyDrive/Cursos_Udemy/series_temporais_PYTHON/AirPassengers.csv',\n",
    "                    sep=',')"
   ]
  },
  {
   "cell_type": "code",
   "execution_count": null,
   "metadata": {
    "id": "XuubUz3uXm9A"
   },
   "outputs": [],
   "source": [
    "dados"
   ]
  },
  {
   "cell_type": "code",
   "execution_count": null,
   "metadata": {
    "id": "Co7ssl86X6Lf"
   },
   "outputs": [],
   "source": [
    "serie = pd.Series(dados['#Passengers'].values, index = dados['Month'])\n",
    "serie"
   ]
  },
  {
   "cell_type": "code",
   "execution_count": null,
   "metadata": {
    "id": "SJqkpMJDYfFO"
   },
   "outputs": [],
   "source": [
    "serie.plot()\n",
    "plt.show()"
   ]
  },
  {
   "cell_type": "code",
   "execution_count": null,
   "metadata": {
    "id": "ZswaBRUAEBNu"
   },
   "outputs": [],
   "source": [
    "import scipy.stats as stats"
   ]
  },
  {
   "cell_type": "code",
   "execution_count": null,
   "metadata": {
    "id": "DTiTiaJ_EBNu"
   },
   "outputs": [],
   "source": [
    "stats.probplot(serie, dist=\"norm\", plot=plt)\n",
    "plt.title(\"Normal QQ plot\")\n",
    "plt.show()"
   ]
  },
  {
   "cell_type": "markdown",
   "metadata": {
    "id": "7Dj0sx2rEBNw"
   },
   "source": [
    "**Teste Shapiro-Wilk**\n",
    "\n",
    "CRITÉRIOS:\n",
    "\n",
    "NÍVEL DE SIGNIFICÂNCIA DE 0,05 ou 5% (MAIS UTILIZADO)\n",
    "\n",
    "QUANDO p > 0,05 (distribuição normal)."
   ]
  },
  {
   "cell_type": "code",
   "execution_count": null,
   "metadata": {
    "id": "uWqLcw3KEBNw"
   },
   "outputs": [],
   "source": [
    "e, p = stats.shapiro(serie)\n",
    "print('Estatística de teste: {}'.format(e))\n",
    "print('p-valor: {}'.format(p))"
   ]
  },
  {
   "cell_type": "code",
   "execution_count": null,
   "metadata": {
    "id": "Qz6yheI_EVHT"
   },
   "outputs": [],
   "source": [
    "# Transformação por log (Diminuir variância e melhorar normalidade)\n",
    "serie2 = np.log(serie)\n",
    "serie2"
   ]
  },
  {
   "cell_type": "code",
   "execution_count": null,
   "metadata": {
    "id": "KGdaDPNgEVHU"
   },
   "outputs": [],
   "source": [
    "stats.probplot(serie2, dist=\"norm\", plot=plt)\n",
    "plt.title(\"Normal QQ plot\")\n",
    "plt.show()"
   ]
  },
  {
   "cell_type": "markdown",
   "metadata": {
    "id": "qeGTQ3n_EVHU"
   },
   "source": [
    "**Teste Shapiro-Wilk**\n",
    "\n",
    "CRITÉRIOS:\n",
    "\n",
    "NÍVEL DE SIGNIFICÂNCIA DE 0,05 ou 5% (MAIS UTILIZADO)\n",
    "\n",
    "QUANDO p > 0,05 (distribuição normal)."
   ]
  },
  {
   "cell_type": "code",
   "execution_count": null,
   "metadata": {
    "id": "DlBYMMWgEVHV"
   },
   "outputs": [],
   "source": [
    "e, p = stats.shapiro(serie2)\n",
    "print('Estatística de teste: {}'.format(e))\n",
    "print('p-valor: {}'.format(p))"
   ]
  },
  {
   "cell_type": "code",
   "execution_count": null,
   "metadata": {
    "id": "WvBBN92sEVHV"
   },
   "outputs": [],
   "source": [
    "# Transformação por raiz cúbica (quando possui dados com valor zero ou negativos)\n",
    "serie3 = (serie)**(1/3)\n",
    "serie3"
   ]
  },
  {
   "cell_type": "code",
   "execution_count": null,
   "metadata": {
    "id": "dJ6UIAa9EVHW"
   },
   "outputs": [],
   "source": [
    "stats.probplot(serie3, dist=\"norm\", plot=plt)\n",
    "plt.title(\"Normal QQ plot\")\n",
    "plt.show()"
   ]
  },
  {
   "cell_type": "markdown",
   "metadata": {
    "id": "eIlLzudkEVHW"
   },
   "source": [
    "**Teste Shapiro-Wilk**\n",
    "\n",
    "CRITÉRIOS:\n",
    "\n",
    "NÍVEL DE SIGNIFICÂNCIA DE 0,05 ou 5% (MAIS UTILIZADO)\n",
    "\n",
    "QUANDO p > 0,05 (distribuição normal)."
   ]
  },
  {
   "cell_type": "code",
   "execution_count": null,
   "metadata": {
    "id": "DdZc6bWSEVHX"
   },
   "outputs": [],
   "source": [
    "e, p = stats.shapiro(serie3)\n",
    "print('Estatística de teste: {}'.format(e))\n",
    "print('p-valor: {}'.format(p))"
   ]
  },
  {
   "cell_type": "code",
   "execution_count": null,
   "metadata": {
    "id": "ATKnw95U23v_"
   },
   "outputs": [],
   "source": [
    "import seaborn as sns\n",
    "sns.distplot(serie);"
   ]
  },
  {
   "cell_type": "code",
   "execution_count": null,
   "metadata": {
    "id": "Ix7PqR8-25ME"
   },
   "outputs": [],
   "source": [
    "sns.distplot(serie2);"
   ]
  },
  {
   "cell_type": "code",
   "execution_count": null,
   "metadata": {
    "id": "Vblot16c3Fl3"
   },
   "outputs": [],
   "source": [
    "sns.distplot(serie3);"
   ]
  },
  {
   "cell_type": "markdown",
   "metadata": {
    "id": "dLV6KXkRFiA5"
   },
   "source": [
    "### **DIFERENCIAÇÃO**"
   ]
  },
  {
   "cell_type": "code",
   "execution_count": null,
   "metadata": {
    "id": "2k1QZCcoZQKT"
   },
   "outputs": [],
   "source": [
    "import statsmodels.tsa.stattools"
   ]
  },
  {
   "cell_type": "markdown",
   "metadata": {
    "id": "g_uDFOAwZQKT"
   },
   "source": [
    "Teste KPSS (Kwiatkowski-Phillips-Schmidt-Shin)\n",
    "\n",
    "Ho = não é estacionário: estatística do teste > valor crítico\n",
    "\n",
    "Ha = é estacionário:  estatística do teste < valor crítico"
   ]
  },
  {
   "cell_type": "code",
   "execution_count": null,
   "metadata": {
    "id": "CrGuOg6wZQKU"
   },
   "outputs": [],
   "source": [
    "kpss = statsmodels.tsa.stattools.kpss(serie3)\n",
    "print('Estatítica do teste: {:.4f}'.format(kpss[0]))\n",
    "print('p_valor: {:.4f}'.format(kpss[1]))\n",
    "print('Valores Críticos:')\n",
    "for chave, valor in kpss[3].items():\n",
    "   print('{}: {:.4f}'.format(chave, valor))"
   ]
  },
  {
   "cell_type": "markdown",
   "metadata": {
    "id": "3wM7s1QtZQKV"
   },
   "source": [
    "Teste df (Dickey Fuller)\n",
    "\n",
    "Ho = não é estacionário: estatística do teste > valor crítico\n",
    "\n",
    "Ha = é estacionário:  estatística do teste < valor crítico"
   ]
  },
  {
   "cell_type": "code",
   "execution_count": null,
   "metadata": {
    "id": "PcQ71JmPZQKW"
   },
   "outputs": [],
   "source": [
    "df = statsmodels.tsa.stattools.adfuller(serie3)\n",
    "print('Estatítica do teste: {:.4f}'.format(df[0]))\n",
    "print('p_valor: {:.8f}'.format(df[1]))\n",
    "print('Valores Críticos:')\n",
    "for chave, valor in df[4].items():\n",
    "   print('{}: {:.4f}'.format(chave, valor))"
   ]
  },
  {
   "cell_type": "code",
   "execution_count": null,
   "metadata": {
    "id": "J1i_WIjIHKjX"
   },
   "outputs": [],
   "source": [
    "serie4 = np.diff(serie3)"
   ]
  },
  {
   "cell_type": "code",
   "execution_count": null,
   "metadata": {
    "id": "aEUWIJtqHu10"
   },
   "outputs": [],
   "source": [
    "plt.plot(serie4)\n",
    "plt.show()"
   ]
  },
  {
   "cell_type": "code",
   "execution_count": null,
   "metadata": {
    "id": "TBFfcgxoIRhp"
   },
   "outputs": [],
   "source": [
    "serie.plot()\n",
    "plt.show()"
   ]
  },
  {
   "cell_type": "code",
   "execution_count": null,
   "metadata": {
    "id": "RaaxJ33jIgny"
   },
   "outputs": [],
   "source": [
    "# Cálculo da Diferenciação\n",
    "#Subtração da série por um valor antecessor dela mesma\n",
    "serie_diff = serie3 - serie3.shift()"
   ]
  },
  {
   "cell_type": "code",
   "execution_count": null,
   "metadata": {
    "id": "1bcDKDpFIznL"
   },
   "outputs": [],
   "source": [
    "serie_diff.plot()\n",
    "plt.show()"
   ]
  },
  {
   "cell_type": "markdown",
   "metadata": {
    "id": "LK26RlLYv3Tc"
   },
   "source": [
    "Teste KPSS (Kwiatkowski-Phillips-Schmidt-Shin)\n",
    "\n",
    "Ho = não é estacionário: estatística do teste > valor crítico\n",
    "\n",
    "Ha = é estacionário:  estatística do teste < valor crítico"
   ]
  },
  {
   "cell_type": "code",
   "execution_count": null,
   "metadata": {
    "id": "_EHNdlHFv3Td"
   },
   "outputs": [],
   "source": [
    "kpss = statsmodels.tsa.stattools.kpss(serie4)\n",
    "print('Estatítica do teste: {:.4f}'.format(kpss[0]))\n",
    "print('p_valor: {:.4f}'.format(kpss[1]))\n",
    "print('Valores Críticos:')\n",
    "for chave, valor in kpss[3].items():\n",
    "   print('{}: {:.4f}'.format(chave, valor))"
   ]
  },
  {
   "cell_type": "code",
   "execution_count": null,
   "metadata": {
    "id": "V-slQMypvOTH"
   },
   "outputs": [],
   "source": [
    "# Diferenciação de segunda ordem\n",
    "serie5 = np.diff(serie4)"
   ]
  },
  {
   "cell_type": "code",
   "execution_count": null,
   "metadata": {
    "id": "GMhvoU2Vvg6z"
   },
   "outputs": [],
   "source": [
    "plt.plot(serie5)\n",
    "plt.show()"
   ]
  },
  {
   "cell_type": "code",
   "execution_count": null,
   "metadata": {
    "id": "h13e2ey4wLss"
   },
   "outputs": [],
   "source": [
    "kpss = statsmodels.tsa.stattools.kpss(serie5)\n",
    "print('Estatítica do teste: {:.4f}'.format(kpss[0]))\n",
    "print('p_valor: {:.4f}'.format(kpss[1]))\n",
    "print('Valores Críticos:')\n",
    "for chave, valor in kpss[3].items():\n",
    "   print('{}: {:.4f}'.format(chave, valor))"
   ]
  }
 ],
 "metadata": {
  "colab": {
   "name": "transformacao_diferenciacao.ipynb",
   "provenance": []
  },
  "kernelspec": {
   "display_name": "Python 3 (ipykernel)",
   "language": "python",
   "name": "python3"
  },
  "language_info": {
   "codemirror_mode": {
    "name": "ipython",
    "version": 3
   },
   "file_extension": ".py",
   "mimetype": "text/x-python",
   "name": "python",
   "nbconvert_exporter": "python",
   "pygments_lexer": "ipython3",
   "version": "3.9.7"
  }
 },
 "nbformat": 4,
 "nbformat_minor": 1
}
