{
 "cells": [
  {
   "cell_type": "markdown",
   "metadata": {
    "id": "a96WELzFA98V"
   },
   "source": [
    "# <font color='DarkRed'>**MÉDIA MÓVEL**"
   ]
  },
  {
   "cell_type": "code",
   "execution_count": null,
   "metadata": {
    "id": "A5yMS5nI9uYM"
   },
   "outputs": [],
   "source": [
    "import numpy as np\n",
    "import pandas as pd\n",
    "import matplotlib.pyplot as plt"
   ]
  },
  {
   "cell_type": "code",
   "execution_count": null,
   "metadata": {},
   "outputs": [],
   "source": [
    "import warnings\n",
    "warnings.filterwarnings(\"ignore\")"
   ]
  },
  {
   "cell_type": "code",
   "execution_count": null,
   "metadata": {
    "id": "cAJTcWNL4A9U"
   },
   "outputs": [],
   "source": [
    "from matplotlib.pylab import rcParams\n",
    "rcParams['figure.figsize'] = 12, 5"
   ]
  },
  {
   "cell_type": "markdown",
   "metadata": {
    "id": "CYVuEx5VbELw"
   },
   "source": [
    "<font color='Navy'>**Desvios da temperatura média global da terra-oceano (com referência a média de 1951-1980), medidos em graus Celsius, para os anos de 1880-2015.**\n",
    " "
   ]
  },
  {
   "cell_type": "code",
   "execution_count": null,
   "metadata": {
    "id": "3347scLeXDlZ"
   },
   "outputs": [],
   "source": [
    "temperatura = pd.read_csv('/content/drive/MyDrive/Cursos_Udemy/series_temporais_PYTHON/temp_global.csv')"
   ]
  },
  {
   "cell_type": "code",
   "execution_count": null,
   "metadata": {
    "id": "XuubUz3uXm9A"
   },
   "outputs": [],
   "source": [
    "temperatura"
   ]
  },
  {
   "cell_type": "code",
   "execution_count": null,
   "metadata": {
    "id": "JRLglswZXjfO"
   },
   "outputs": [],
   "source": [
    "indice = pd.date_range('1880 Jan 1', periods = len(temperatura), freq = 'Y')\n",
    "indice"
   ]
  },
  {
   "cell_type": "code",
   "execution_count": null,
   "metadata": {
    "id": "Co7ssl86X6Lf"
   },
   "outputs": [],
   "source": [
    "serie = pd.Series(temperatura['x'].values, index = indice)\n",
    "serie"
   ]
  },
  {
   "cell_type": "code",
   "execution_count": null,
   "metadata": {
    "id": "H_T-iSV8c7SY"
   },
   "outputs": [],
   "source": [
    "serie.plot();"
   ]
  },
  {
   "cell_type": "code",
   "execution_count": null,
   "metadata": {
    "id": "3sb6f6D-eN39"
   },
   "outputs": [],
   "source": [
    "media_movel1 = serie.rolling(window=3)\n",
    "media_movel1 = media_movel1.mean()"
   ]
  },
  {
   "cell_type": "code",
   "execution_count": null,
   "metadata": {
    "id": "epT7DjtKeiJE"
   },
   "outputs": [],
   "source": [
    "plt.plot(media_movel1);"
   ]
  },
  {
   "cell_type": "code",
   "execution_count": null,
   "metadata": {
    "id": "c0EHT2pze90r"
   },
   "outputs": [],
   "source": [
    "plt.plot(serie, label='Série Real')\n",
    "plt.plot(media_movel1,color='red', label='Média Móvel 3 anos')\n",
    "plt.legend(loc='best')\n",
    "plt.show()"
   ]
  },
  {
   "cell_type": "code",
   "execution_count": null,
   "metadata": {
    "id": "Ek5ipjvLfXE6"
   },
   "outputs": [],
   "source": [
    "media_movel2 = serie.rolling(window=10)\n",
    "media_movel2 = media_movel2.mean()"
   ]
  },
  {
   "cell_type": "code",
   "execution_count": null,
   "metadata": {
    "id": "s6xI-CkkfeMy"
   },
   "outputs": [],
   "source": [
    "plt.plot(serie, label='Série Real')\n",
    "plt.plot(media_movel2,color='red', label='Média Móvel 10 anos')\n",
    "plt.legend(loc='best')\n",
    "plt.show()"
   ]
  },
  {
   "cell_type": "code",
   "execution_count": null,
   "metadata": {
    "id": "_9dKClP8hOmw"
   },
   "outputs": [],
   "source": [
    "media_movel3 = serie.rolling(window=20)\n",
    "media_movel3 = media_movel3.mean()"
   ]
  },
  {
   "cell_type": "code",
   "execution_count": null,
   "metadata": {
    "id": "VnBIIwW6hVmX"
   },
   "outputs": [],
   "source": [
    "plt.plot(serie, label='Série Real')\n",
    "plt.plot(media_movel3,color='red', label='Média Móvel 20 anos')\n",
    "plt.legend(loc='best')\n",
    "plt.show()"
   ]
  },
  {
   "cell_type": "code",
   "execution_count": null,
   "metadata": {
    "id": "EFqfPTYwhwqV"
   },
   "outputs": [],
   "source": [
    "plt.plot(serie, label='Série Real')\n",
    "plt.plot(media_movel1,color='orange', label='Média Móvel 3 anos');\n",
    "plt.plot(media_movel2,color='green', label='Média Móvel 10 anos');\n",
    "plt.plot(media_movel3,color='red', label='Média Móvel 20 anos');\n",
    "plt.legend(loc='best')\n",
    "plt.show()"
   ]
  },
  {
   "cell_type": "code",
   "execution_count": null,
   "metadata": {
    "id": "InAPzB2qiecF"
   },
   "outputs": [],
   "source": [
    "media_movel4 = serie.rolling(window=3,center=True)\n",
    "media_movel4 = media_movel4.mean()"
   ]
  },
  {
   "cell_type": "code",
   "execution_count": null,
   "metadata": {
    "id": "njUK3mZAivvS"
   },
   "outputs": [],
   "source": [
    "media_movel5 = serie.rolling(window=10,center=True)\n",
    "media_movel5 = media_movel5.mean()"
   ]
  },
  {
   "cell_type": "code",
   "execution_count": null,
   "metadata": {
    "id": "Gu3Zh3OFi0Hq"
   },
   "outputs": [],
   "source": [
    "media_movel6 = serie.rolling(window=20,center=True)\n",
    "media_movel6 = media_movel6.mean()"
   ]
  },
  {
   "cell_type": "code",
   "execution_count": null,
   "metadata": {
    "id": "xfGBZ95zi627"
   },
   "outputs": [],
   "source": [
    "plt.plot(serie, label='Série Real')\n",
    "plt.plot(media_movel4,color='orange', label='Média Móvel 3 anos');\n",
    "plt.plot(media_movel5,color='green', label='Média Móvel 10 anos');\n",
    "plt.plot(media_movel6,color='red', label='Média Móvel 20 anos');\n",
    "plt.legend(loc='best')\n",
    "plt.show()"
   ]
  }
 ],
 "metadata": {
  "colab": {
   "name": "media_movel.ipynb",
   "provenance": []
  },
  "kernelspec": {
   "display_name": "Python 3 (ipykernel)",
   "language": "python",
   "name": "python3"
  },
  "language_info": {
   "codemirror_mode": {
    "name": "ipython",
    "version": 3
   },
   "file_extension": ".py",
   "mimetype": "text/x-python",
   "name": "python",
   "nbconvert_exporter": "python",
   "pygments_lexer": "ipython3",
   "version": "3.9.7"
  }
 },
 "nbformat": 4,
 "nbformat_minor": 1
}
